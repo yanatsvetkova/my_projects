{
 "cells": [
  {
   "cell_type": "markdown",
   "metadata": {},
   "source": [
    "# Прогнозирование оттока клиентов в сети отелей «Как в гостях»"
   ]
  },
  {
   "cell_type": "markdown",
   "metadata": {},
   "source": [
    " - Чтобы привлечь клиентов,  сеть отелей \"Как в гостях\" добавила на свой сайт возможность забронировать номер без предоплаты. Однако если клиент отменял бронирование, то компания терпела убытки. Сотрудники отеля могли, например, закупить продукты к приезду гостя или просто не успеть найти другого клиента.\n",
    " - Чтобы решить эту проблему, разрабатываем систему, которая предсказывает отказ от брони. Если модель покажет, что бронь будет отменена, то клиенту предлагается внести депозит. Размер депозита — 80% от стоимости номера за одни сутки и затрат на разовую уборку. Деньги будут списаны со счёта клиента, если он всё же отменит бронь.\n",
    " - Поможем определить бизнесу с помощью ML наиболее неблагоприятных клиентов и предоставим соответствующие рекомендации."
   ]
  },
  {
   "cell_type": "markdown",
   "metadata": {},
   "source": [
    "### Работа с данными"
   ]
  },
  {
   "cell_type": "code",
   "execution_count": 1,
   "metadata": {},
   "outputs": [],
   "source": [
    "import pandas as pd\n",
    "import numpy as np\n",
    "import time\n",
    "import math\n",
    "import sklearn.metrics\n",
    "import seaborn as sns\n",
    "import matplotlib.pyplot as plt\n",
    "from sklearn.tree import DecisionTreeClassifier\n",
    "from sklearn.ensemble import RandomForestClassifier\n",
    "from sklearn.linear_model import LogisticRegression\n",
    "from sklearn.linear_model import LinearRegression\n",
    "from sklearn.utils import shuffle\n",
    "from sklearn.metrics import accuracy_score, f1_score, roc_auc_score, classification_report, roc_curve\n",
    "from sklearn.model_selection import cross_val_score\n",
    "from sklearn.preprocessing import OneHotEncoder\n",
    "from numpy.random import RandomState \n",
    "#импорт необходимых библиотек"
   ]
  },
  {
   "cell_type": "code",
   "execution_count": 2,
   "metadata": {},
   "outputs": [],
   "source": [
    "try:\n",
    "    hotel_train = pd.read_csv('/datasets/hotel_train.csv')\n",
    "    hotel_test = pd.read_csv('/datasets/hotel_test.csv')\n",
    "except IOError:   \n",
    "    print(\"Oops, no file by that name\")\n",
    "    #загружаем данные"
   ]
  },
  {
   "cell_type": "markdown",
   "metadata": {},
   "source": [
    "### Предобработка и исследовательский анализ данных"
   ]
  },
  {
   "cell_type": "code",
   "execution_count": 3,
   "metadata": {},
   "outputs": [],
   "source": [
    "def prepare(df): #фунция предобработки данных\n",
    "    display(df.head())\n",
    "    display(df.info())\n",
    "    display(df.isna().sum())\n",
    "    display(df.duplicated().sum())"
   ]
  },
  {
   "cell_type": "code",
   "execution_count": 4,
   "metadata": {},
   "outputs": [
    {
     "data": {
      "text/html": [
       "<div>\n",
       "<style scoped>\n",
       "    .dataframe tbody tr th:only-of-type {\n",
       "        vertical-align: middle;\n",
       "    }\n",
       "\n",
       "    .dataframe tbody tr th {\n",
       "        vertical-align: top;\n",
       "    }\n",
       "\n",
       "    .dataframe thead th {\n",
       "        text-align: right;\n",
       "    }\n",
       "</style>\n",
       "<table border=\"1\" class=\"dataframe\">\n",
       "  <thead>\n",
       "    <tr style=\"text-align: right;\">\n",
       "      <th></th>\n",
       "      <th>id</th>\n",
       "      <th>is_canceled</th>\n",
       "      <th>lead_time</th>\n",
       "      <th>arrival_date_year</th>\n",
       "      <th>arrival_date_month</th>\n",
       "      <th>arrival_date_week_number</th>\n",
       "      <th>arrival_date_day_of_month</th>\n",
       "      <th>stays_in_weekend_nights</th>\n",
       "      <th>stays_in_week_nights</th>\n",
       "      <th>adults</th>\n",
       "      <th>...</th>\n",
       "      <th>is_repeated_guest</th>\n",
       "      <th>previous_cancellations</th>\n",
       "      <th>previous_bookings_not_canceled</th>\n",
       "      <th>reserved_room_type</th>\n",
       "      <th>booking_changes</th>\n",
       "      <th>days_in_waiting_list</th>\n",
       "      <th>customer_type</th>\n",
       "      <th>required_car_parking_spaces</th>\n",
       "      <th>total_of_special_requests</th>\n",
       "      <th>total_nights</th>\n",
       "    </tr>\n",
       "  </thead>\n",
       "  <tbody>\n",
       "    <tr>\n",
       "      <th>0</th>\n",
       "      <td>0</td>\n",
       "      <td>0</td>\n",
       "      <td>7.0</td>\n",
       "      <td>2015</td>\n",
       "      <td>July</td>\n",
       "      <td>27</td>\n",
       "      <td>1</td>\n",
       "      <td>0</td>\n",
       "      <td>1</td>\n",
       "      <td>1.0</td>\n",
       "      <td>...</td>\n",
       "      <td>0</td>\n",
       "      <td>0</td>\n",
       "      <td>0</td>\n",
       "      <td>A</td>\n",
       "      <td>0</td>\n",
       "      <td>0</td>\n",
       "      <td>Transient</td>\n",
       "      <td>0</td>\n",
       "      <td>0</td>\n",
       "      <td>1</td>\n",
       "    </tr>\n",
       "    <tr>\n",
       "      <th>1</th>\n",
       "      <td>1</td>\n",
       "      <td>0</td>\n",
       "      <td>14.0</td>\n",
       "      <td>2015</td>\n",
       "      <td>July</td>\n",
       "      <td>27</td>\n",
       "      <td>1</td>\n",
       "      <td>0</td>\n",
       "      <td>2</td>\n",
       "      <td>2.0</td>\n",
       "      <td>...</td>\n",
       "      <td>0</td>\n",
       "      <td>0</td>\n",
       "      <td>0</td>\n",
       "      <td>A</td>\n",
       "      <td>0</td>\n",
       "      <td>0</td>\n",
       "      <td>Transient</td>\n",
       "      <td>0</td>\n",
       "      <td>1</td>\n",
       "      <td>2</td>\n",
       "    </tr>\n",
       "    <tr>\n",
       "      <th>2</th>\n",
       "      <td>2</td>\n",
       "      <td>0</td>\n",
       "      <td>0.0</td>\n",
       "      <td>2015</td>\n",
       "      <td>July</td>\n",
       "      <td>27</td>\n",
       "      <td>1</td>\n",
       "      <td>0</td>\n",
       "      <td>2</td>\n",
       "      <td>2.0</td>\n",
       "      <td>...</td>\n",
       "      <td>0</td>\n",
       "      <td>0</td>\n",
       "      <td>0</td>\n",
       "      <td>C</td>\n",
       "      <td>0</td>\n",
       "      <td>0</td>\n",
       "      <td>Transient</td>\n",
       "      <td>0</td>\n",
       "      <td>0</td>\n",
       "      <td>2</td>\n",
       "    </tr>\n",
       "    <tr>\n",
       "      <th>3</th>\n",
       "      <td>3</td>\n",
       "      <td>0</td>\n",
       "      <td>9.0</td>\n",
       "      <td>2015</td>\n",
       "      <td>July</td>\n",
       "      <td>27</td>\n",
       "      <td>1</td>\n",
       "      <td>0</td>\n",
       "      <td>2</td>\n",
       "      <td>2.0</td>\n",
       "      <td>...</td>\n",
       "      <td>0</td>\n",
       "      <td>0</td>\n",
       "      <td>0</td>\n",
       "      <td>C</td>\n",
       "      <td>0</td>\n",
       "      <td>0</td>\n",
       "      <td>Transient</td>\n",
       "      <td>0</td>\n",
       "      <td>1</td>\n",
       "      <td>2</td>\n",
       "    </tr>\n",
       "    <tr>\n",
       "      <th>4</th>\n",
       "      <td>4</td>\n",
       "      <td>1</td>\n",
       "      <td>85.0</td>\n",
       "      <td>2015</td>\n",
       "      <td>July</td>\n",
       "      <td>27</td>\n",
       "      <td>1</td>\n",
       "      <td>0</td>\n",
       "      <td>3</td>\n",
       "      <td>2.0</td>\n",
       "      <td>...</td>\n",
       "      <td>0</td>\n",
       "      <td>0</td>\n",
       "      <td>0</td>\n",
       "      <td>A</td>\n",
       "      <td>0</td>\n",
       "      <td>0</td>\n",
       "      <td>Transient</td>\n",
       "      <td>0</td>\n",
       "      <td>1</td>\n",
       "      <td>3</td>\n",
       "    </tr>\n",
       "  </tbody>\n",
       "</table>\n",
       "<p>5 rows × 25 columns</p>\n",
       "</div>"
      ],
      "text/plain": [
       "   id  is_canceled  lead_time  arrival_date_year arrival_date_month  \\\n",
       "0   0            0        7.0               2015               July   \n",
       "1   1            0       14.0               2015               July   \n",
       "2   2            0        0.0               2015               July   \n",
       "3   3            0        9.0               2015               July   \n",
       "4   4            1       85.0               2015               July   \n",
       "\n",
       "   arrival_date_week_number  arrival_date_day_of_month  \\\n",
       "0                        27                          1   \n",
       "1                        27                          1   \n",
       "2                        27                          1   \n",
       "3                        27                          1   \n",
       "4                        27                          1   \n",
       "\n",
       "   stays_in_weekend_nights  stays_in_week_nights  adults  ...  \\\n",
       "0                        0                     1     1.0  ...   \n",
       "1                        0                     2     2.0  ...   \n",
       "2                        0                     2     2.0  ...   \n",
       "3                        0                     2     2.0  ...   \n",
       "4                        0                     3     2.0  ...   \n",
       "\n",
       "   is_repeated_guest  previous_cancellations previous_bookings_not_canceled  \\\n",
       "0                  0                       0                              0   \n",
       "1                  0                       0                              0   \n",
       "2                  0                       0                              0   \n",
       "3                  0                       0                              0   \n",
       "4                  0                       0                              0   \n",
       "\n",
       "  reserved_room_type booking_changes  days_in_waiting_list  customer_type  \\\n",
       "0   A                              0                     0      Transient   \n",
       "1   A                              0                     0      Transient   \n",
       "2   C                              0                     0      Transient   \n",
       "3   C                              0                     0      Transient   \n",
       "4   A                              0                     0      Transient   \n",
       "\n",
       "   required_car_parking_spaces total_of_special_requests  total_nights  \n",
       "0                            0                         0             1  \n",
       "1                            0                         1             2  \n",
       "2                            0                         0             2  \n",
       "3                            0                         1             2  \n",
       "4                            0                         1             3  \n",
       "\n",
       "[5 rows x 25 columns]"
      ]
     },
     "metadata": {},
     "output_type": "display_data"
    },
    {
     "name": "stdout",
     "output_type": "stream",
     "text": [
      "<class 'pandas.core.frame.DataFrame'>\n",
      "RangeIndex: 65229 entries, 0 to 65228\n",
      "Data columns (total 25 columns):\n",
      " #   Column                          Non-Null Count  Dtype  \n",
      "---  ------                          --------------  -----  \n",
      " 0   id                              65229 non-null  int64  \n",
      " 1   is_canceled                     65229 non-null  int64  \n",
      " 2   lead_time                       65229 non-null  float64\n",
      " 3   arrival_date_year               65229 non-null  int64  \n",
      " 4   arrival_date_month              65229 non-null  object \n",
      " 5   arrival_date_week_number        65229 non-null  int64  \n",
      " 6   arrival_date_day_of_month       65229 non-null  int64  \n",
      " 7   stays_in_weekend_nights         65229 non-null  int64  \n",
      " 8   stays_in_week_nights            65229 non-null  int64  \n",
      " 9   adults                          65229 non-null  float64\n",
      " 10  children                        65229 non-null  float64\n",
      " 11  babies                          65229 non-null  float64\n",
      " 12  meal                            65229 non-null  object \n",
      " 13  country                         65229 non-null  object \n",
      " 14  distribution_channel            65229 non-null  object \n",
      " 15  is_repeated_guest               65229 non-null  int64  \n",
      " 16  previous_cancellations          65229 non-null  int64  \n",
      " 17  previous_bookings_not_canceled  65229 non-null  int64  \n",
      " 18  reserved_room_type              65229 non-null  object \n",
      " 19  booking_changes                 65229 non-null  int64  \n",
      " 20  days_in_waiting_list            65229 non-null  int64  \n",
      " 21  customer_type                   65229 non-null  object \n",
      " 22  required_car_parking_spaces     65229 non-null  int64  \n",
      " 23  total_of_special_requests       65229 non-null  int64  \n",
      " 24  total_nights                    65229 non-null  int64  \n",
      "dtypes: float64(4), int64(15), object(6)\n",
      "memory usage: 12.4+ MB\n"
     ]
    },
    {
     "data": {
      "text/plain": [
       "None"
      ]
     },
     "metadata": {},
     "output_type": "display_data"
    },
    {
     "data": {
      "text/plain": [
       "id                                0\n",
       "is_canceled                       0\n",
       "lead_time                         0\n",
       "arrival_date_year                 0\n",
       "arrival_date_month                0\n",
       "arrival_date_week_number          0\n",
       "arrival_date_day_of_month         0\n",
       "stays_in_weekend_nights           0\n",
       "stays_in_week_nights              0\n",
       "adults                            0\n",
       "children                          0\n",
       "babies                            0\n",
       "meal                              0\n",
       "country                           0\n",
       "distribution_channel              0\n",
       "is_repeated_guest                 0\n",
       "previous_cancellations            0\n",
       "previous_bookings_not_canceled    0\n",
       "reserved_room_type                0\n",
       "booking_changes                   0\n",
       "days_in_waiting_list              0\n",
       "customer_type                     0\n",
       "required_car_parking_spaces       0\n",
       "total_of_special_requests         0\n",
       "total_nights                      0\n",
       "dtype: int64"
      ]
     },
     "metadata": {},
     "output_type": "display_data"
    },
    {
     "data": {
      "text/plain": [
       "0"
      ]
     },
     "metadata": {},
     "output_type": "display_data"
    }
   ],
   "source": [
    "prepare(hotel_train)"
   ]
  },
  {
   "cell_type": "code",
   "execution_count": 5,
   "metadata": {},
   "outputs": [
    {
     "data": {
      "text/html": [
       "<div>\n",
       "<style scoped>\n",
       "    .dataframe tbody tr th:only-of-type {\n",
       "        vertical-align: middle;\n",
       "    }\n",
       "\n",
       "    .dataframe tbody tr th {\n",
       "        vertical-align: top;\n",
       "    }\n",
       "\n",
       "    .dataframe thead th {\n",
       "        text-align: right;\n",
       "    }\n",
       "</style>\n",
       "<table border=\"1\" class=\"dataframe\">\n",
       "  <thead>\n",
       "    <tr style=\"text-align: right;\">\n",
       "      <th></th>\n",
       "      <th>id</th>\n",
       "      <th>is_canceled</th>\n",
       "      <th>lead_time</th>\n",
       "      <th>arrival_date_year</th>\n",
       "      <th>arrival_date_month</th>\n",
       "      <th>arrival_date_week_number</th>\n",
       "      <th>arrival_date_day_of_month</th>\n",
       "      <th>stays_in_weekend_nights</th>\n",
       "      <th>stays_in_week_nights</th>\n",
       "      <th>adults</th>\n",
       "      <th>...</th>\n",
       "      <th>is_repeated_guest</th>\n",
       "      <th>previous_cancellations</th>\n",
       "      <th>previous_bookings_not_canceled</th>\n",
       "      <th>reserved_room_type</th>\n",
       "      <th>booking_changes</th>\n",
       "      <th>days_in_waiting_list</th>\n",
       "      <th>customer_type</th>\n",
       "      <th>required_car_parking_spaces</th>\n",
       "      <th>total_of_special_requests</th>\n",
       "      <th>total_nights</th>\n",
       "    </tr>\n",
       "  </thead>\n",
       "  <tbody>\n",
       "    <tr>\n",
       "      <th>0</th>\n",
       "      <td>6086</td>\n",
       "      <td>1</td>\n",
       "      <td>74.0</td>\n",
       "      <td>2017</td>\n",
       "      <td>January</td>\n",
       "      <td>1</td>\n",
       "      <td>1</td>\n",
       "      <td>1</td>\n",
       "      <td>0</td>\n",
       "      <td>2.0</td>\n",
       "      <td>...</td>\n",
       "      <td>0</td>\n",
       "      <td>0</td>\n",
       "      <td>0</td>\n",
       "      <td>A</td>\n",
       "      <td>0</td>\n",
       "      <td>0</td>\n",
       "      <td>Transient</td>\n",
       "      <td>0</td>\n",
       "      <td>0</td>\n",
       "      <td>1</td>\n",
       "    </tr>\n",
       "    <tr>\n",
       "      <th>1</th>\n",
       "      <td>6087</td>\n",
       "      <td>1</td>\n",
       "      <td>62.0</td>\n",
       "      <td>2017</td>\n",
       "      <td>January</td>\n",
       "      <td>1</td>\n",
       "      <td>1</td>\n",
       "      <td>2</td>\n",
       "      <td>2</td>\n",
       "      <td>2.0</td>\n",
       "      <td>...</td>\n",
       "      <td>0</td>\n",
       "      <td>0</td>\n",
       "      <td>0</td>\n",
       "      <td>A</td>\n",
       "      <td>0</td>\n",
       "      <td>0</td>\n",
       "      <td>Transient</td>\n",
       "      <td>0</td>\n",
       "      <td>1</td>\n",
       "      <td>4</td>\n",
       "    </tr>\n",
       "    <tr>\n",
       "      <th>2</th>\n",
       "      <td>6088</td>\n",
       "      <td>1</td>\n",
       "      <td>62.0</td>\n",
       "      <td>2017</td>\n",
       "      <td>January</td>\n",
       "      <td>1</td>\n",
       "      <td>1</td>\n",
       "      <td>2</td>\n",
       "      <td>2</td>\n",
       "      <td>2.0</td>\n",
       "      <td>...</td>\n",
       "      <td>0</td>\n",
       "      <td>0</td>\n",
       "      <td>0</td>\n",
       "      <td>A</td>\n",
       "      <td>0</td>\n",
       "      <td>0</td>\n",
       "      <td>Transient</td>\n",
       "      <td>0</td>\n",
       "      <td>1</td>\n",
       "      <td>4</td>\n",
       "    </tr>\n",
       "    <tr>\n",
       "      <th>3</th>\n",
       "      <td>6089</td>\n",
       "      <td>1</td>\n",
       "      <td>71.0</td>\n",
       "      <td>2017</td>\n",
       "      <td>January</td>\n",
       "      <td>1</td>\n",
       "      <td>1</td>\n",
       "      <td>2</td>\n",
       "      <td>2</td>\n",
       "      <td>1.0</td>\n",
       "      <td>...</td>\n",
       "      <td>0</td>\n",
       "      <td>0</td>\n",
       "      <td>0</td>\n",
       "      <td>A</td>\n",
       "      <td>0</td>\n",
       "      <td>0</td>\n",
       "      <td>Transient</td>\n",
       "      <td>0</td>\n",
       "      <td>1</td>\n",
       "      <td>4</td>\n",
       "    </tr>\n",
       "    <tr>\n",
       "      <th>4</th>\n",
       "      <td>6090</td>\n",
       "      <td>1</td>\n",
       "      <td>172.0</td>\n",
       "      <td>2017</td>\n",
       "      <td>January</td>\n",
       "      <td>1</td>\n",
       "      <td>1</td>\n",
       "      <td>2</td>\n",
       "      <td>5</td>\n",
       "      <td>2.0</td>\n",
       "      <td>...</td>\n",
       "      <td>0</td>\n",
       "      <td>0</td>\n",
       "      <td>0</td>\n",
       "      <td>A</td>\n",
       "      <td>0</td>\n",
       "      <td>0</td>\n",
       "      <td>Transient</td>\n",
       "      <td>0</td>\n",
       "      <td>0</td>\n",
       "      <td>7</td>\n",
       "    </tr>\n",
       "  </tbody>\n",
       "</table>\n",
       "<p>5 rows × 25 columns</p>\n",
       "</div>"
      ],
      "text/plain": [
       "     id  is_canceled  lead_time  arrival_date_year arrival_date_month  \\\n",
       "0  6086            1       74.0               2017            January   \n",
       "1  6087            1       62.0               2017            January   \n",
       "2  6088            1       62.0               2017            January   \n",
       "3  6089            1       71.0               2017            January   \n",
       "4  6090            1      172.0               2017            January   \n",
       "\n",
       "   arrival_date_week_number  arrival_date_day_of_month  \\\n",
       "0                         1                          1   \n",
       "1                         1                          1   \n",
       "2                         1                          1   \n",
       "3                         1                          1   \n",
       "4                         1                          1   \n",
       "\n",
       "   stays_in_weekend_nights  stays_in_week_nights  adults  ...  \\\n",
       "0                        1                     0     2.0  ...   \n",
       "1                        2                     2     2.0  ...   \n",
       "2                        2                     2     2.0  ...   \n",
       "3                        2                     2     1.0  ...   \n",
       "4                        2                     5     2.0  ...   \n",
       "\n",
       "   is_repeated_guest  previous_cancellations previous_bookings_not_canceled  \\\n",
       "0                  0                       0                              0   \n",
       "1                  0                       0                              0   \n",
       "2                  0                       0                              0   \n",
       "3                  0                       0                              0   \n",
       "4                  0                       0                              0   \n",
       "\n",
       "  reserved_room_type booking_changes  days_in_waiting_list  customer_type  \\\n",
       "0   A                              0                     0      Transient   \n",
       "1   A                              0                     0      Transient   \n",
       "2   A                              0                     0      Transient   \n",
       "3   A                              0                     0      Transient   \n",
       "4   A                              0                     0      Transient   \n",
       "\n",
       "   required_car_parking_spaces total_of_special_requests  total_nights  \n",
       "0                            0                         0             1  \n",
       "1                            0                         1             4  \n",
       "2                            0                         1             4  \n",
       "3                            0                         1             4  \n",
       "4                            0                         0             7  \n",
       "\n",
       "[5 rows x 25 columns]"
      ]
     },
     "metadata": {},
     "output_type": "display_data"
    },
    {
     "name": "stdout",
     "output_type": "stream",
     "text": [
      "<class 'pandas.core.frame.DataFrame'>\n",
      "RangeIndex: 32412 entries, 0 to 32411\n",
      "Data columns (total 25 columns):\n",
      " #   Column                          Non-Null Count  Dtype  \n",
      "---  ------                          --------------  -----  \n",
      " 0   id                              32412 non-null  int64  \n",
      " 1   is_canceled                     32412 non-null  int64  \n",
      " 2   lead_time                       32412 non-null  float64\n",
      " 3   arrival_date_year               32412 non-null  int64  \n",
      " 4   arrival_date_month              32412 non-null  object \n",
      " 5   arrival_date_week_number        32412 non-null  int64  \n",
      " 6   arrival_date_day_of_month       32412 non-null  int64  \n",
      " 7   stays_in_weekend_nights         32412 non-null  int64  \n",
      " 8   stays_in_week_nights            32412 non-null  int64  \n",
      " 9   adults                          32412 non-null  float64\n",
      " 10  children                        32412 non-null  float64\n",
      " 11  babies                          32412 non-null  float64\n",
      " 12  meal                            32412 non-null  object \n",
      " 13  country                         32412 non-null  object \n",
      " 14  distribution_channel            32412 non-null  object \n",
      " 15  is_repeated_guest               32412 non-null  int64  \n",
      " 16  previous_cancellations          32412 non-null  int64  \n",
      " 17  previous_bookings_not_canceled  32412 non-null  int64  \n",
      " 18  reserved_room_type              32412 non-null  object \n",
      " 19  booking_changes                 32412 non-null  int64  \n",
      " 20  days_in_waiting_list            32412 non-null  int64  \n",
      " 21  customer_type                   32412 non-null  object \n",
      " 22  required_car_parking_spaces     32412 non-null  int64  \n",
      " 23  total_of_special_requests       32412 non-null  int64  \n",
      " 24  total_nights                    32412 non-null  int64  \n",
      "dtypes: float64(4), int64(15), object(6)\n",
      "memory usage: 6.2+ MB\n"
     ]
    },
    {
     "data": {
      "text/plain": [
       "None"
      ]
     },
     "metadata": {},
     "output_type": "display_data"
    },
    {
     "data": {
      "text/plain": [
       "id                                0\n",
       "is_canceled                       0\n",
       "lead_time                         0\n",
       "arrival_date_year                 0\n",
       "arrival_date_month                0\n",
       "arrival_date_week_number          0\n",
       "arrival_date_day_of_month         0\n",
       "stays_in_weekend_nights           0\n",
       "stays_in_week_nights              0\n",
       "adults                            0\n",
       "children                          0\n",
       "babies                            0\n",
       "meal                              0\n",
       "country                           0\n",
       "distribution_channel              0\n",
       "is_repeated_guest                 0\n",
       "previous_cancellations            0\n",
       "previous_bookings_not_canceled    0\n",
       "reserved_room_type                0\n",
       "booking_changes                   0\n",
       "days_in_waiting_list              0\n",
       "customer_type                     0\n",
       "required_car_parking_spaces       0\n",
       "total_of_special_requests         0\n",
       "total_nights                      0\n",
       "dtype: int64"
      ]
     },
     "metadata": {},
     "output_type": "display_data"
    },
    {
     "data": {
      "text/plain": [
       "0"
      ]
     },
     "metadata": {},
     "output_type": "display_data"
    }
   ],
   "source": [
    "prepare(hotel_test)"
   ]
  },
  {
   "cell_type": "code",
   "execution_count": 6,
   "metadata": {},
   "outputs": [],
   "source": [
    "def plot_f(data, column_): #функция для построения графиков размаха для данных\n",
    "    data.boxplot(column=[column_])\n",
    "    plt.show()"
   ]
  },
  {
   "cell_type": "code",
   "execution_count": 7,
   "metadata": {},
   "outputs": [
    {
     "data": {
      "image/png": "[encoded data removed]",
      "text/plain": [
       "<Figure size 432x288 with 1 Axes>"
      ]
     },
     "metadata": {
      "needs_background": "light"
     },
     "output_type": "display_data"
    },
    {
     "data": {
      "image/png": "[encoded data removed]",
      "text/plain": [
       "<Figure size 432x288 with 1 Axes>"
      ]
     },
     "metadata": {
      "needs_background": "light"
     },
     "output_type": "display_data"
    },
    {
     "data": {
      "image/png": "[encoded data removed]",
      "text/plain": [
       "<Figure size 432x288 with 1 Axes>"
      ]
     },
     "metadata": {
      "needs_background": "light"
     },
     "output_type": "display_data"
    },
    {
     "data": {
      "image/png": "[encoded data removed]",
      "text/plain": [
       "<Figure size 432x288 with 1 Axes>"
      ]
     },
     "metadata": {
      "needs_background": "light"
     },
     "output_type": "display_data"
    }
   ],
   "source": [
    "plot_f(hotel_train, 'days_in_waiting_list')\n",
    "plot_f(hotel_train, 'lead_time')\n",
    "plot_f(hotel_train, 'booking_changes')\n",
    "plot_f(hotel_train, 'total_nights')"
   ]
  },
  {
   "cell_type": "code",
   "execution_count": 8,
   "metadata": {},
   "outputs": [
    {
     "name": "stdout",
     "output_type": "stream",
     "text": [
      "count    65229.000000\n",
      "mean         3.334422\n",
      "std         18.239606\n",
      "min          0.000000\n",
      "25%          0.000000\n",
      "50%          0.000000\n",
      "75%          0.000000\n",
      "max        259.000000\n",
      "Name: days_in_waiting_list, dtype: float64\n"
     ]
    },
    {
     "data": {
      "text/plain": [
       "count    65229.000000\n",
       "mean        96.337917\n",
       "std         96.127545\n",
       "min          0.000000\n",
       "25%         17.000000\n",
       "50%         64.000000\n",
       "75%        151.000000\n",
       "max        374.000000\n",
       "Name: lead_time, dtype: float64"
      ]
     },
     "execution_count": 8,
     "metadata": {},
     "output_type": "execute_result"
    }
   ],
   "source": [
    "print(hotel_train['days_in_waiting_list'].describe()) #распределение данных по столбцам, в которых ожидаемо могут быть выбросы\n",
    "hotel_train['lead_time'].describe()"
   ]
  },
  {
   "cell_type": "code",
   "execution_count": 9,
   "metadata": {},
   "outputs": [
    {
     "data": {
      "image/png": "[encoded data removed]",
      "text/plain": [
       "<Figure size 432x288 with 1 Axes>"
      ]
     },
     "metadata": {
      "needs_background": "light"
     },
     "output_type": "display_data"
    },
    {
     "data": {
      "image/png": "[encoded data removed]",
      "text/plain": [
       "<Figure size 432x288 with 1 Axes>"
      ]
     },
     "metadata": {
      "needs_background": "light"
     },
     "output_type": "display_data"
    },
    {
     "data": {
      "image/png": "[encoded data removed]",
      "text/plain": [
       "<Figure size 432x288 with 1 Axes>"
      ]
     },
     "metadata": {
      "needs_background": "light"
     },
     "output_type": "display_data"
    },
    {
     "data": {
      "image/png": "[encoded data removed]",
      "text/plain": [
       "<Figure size 432x288 with 1 Axes>"
      ]
     },
     "metadata": {
      "needs_background": "light"
     },
     "output_type": "display_data"
    }
   ],
   "source": [
    "plot_f(hotel_test, 'days_in_waiting_list')\n",
    "plot_f(hotel_test, 'lead_time')\n",
    "plot_f(hotel_test, 'booking_changes')\n",
    "plot_f(hotel_test, 'total_nights')"
   ]
  },
  {
   "cell_type": "code",
   "execution_count": 10,
   "metadata": {},
   "outputs": [
    {
     "name": "stdout",
     "output_type": "stream",
     "text": [
      "count    32412.000000\n",
      "mean         0.262341\n",
      "std          4.733027\n",
      "min          0.000000\n",
      "25%          0.000000\n",
      "50%          0.000000\n",
      "75%          0.000000\n",
      "max        223.000000\n",
      "Name: days_in_waiting_list, dtype: float64\n"
     ]
    },
    {
     "data": {
      "text/plain": [
       "count    32412.000000\n",
       "mean        97.587869\n",
       "std         86.507146\n",
       "min          0.000000\n",
       "25%         23.000000\n",
       "50%         76.000000\n",
       "75%        155.000000\n",
       "max        373.000000\n",
       "Name: lead_time, dtype: float64"
      ]
     },
     "execution_count": 10,
     "metadata": {},
     "output_type": "execute_result"
    }
   ],
   "source": [
    "print(hotel_test['days_in_waiting_list'].describe()) #распределение данных по столбцам, в которых ожидаемо могут быть выбросы\n",
    "hotel_test['lead_time'].describe()"
   ]
  },
  {
   "cell_type": "code",
   "execution_count": 11,
   "metadata": {},
   "outputs": [],
   "source": [
    "hotel_train['reserved_room_type'] = hotel_train['reserved_room_type'].str.rstrip() #уберем лишние пробелы\n",
    "hotel_test['reserved_room_type'] = hotel_test['reserved_room_type'].str.rstrip()"
   ]
  },
  {
   "cell_type": "code",
   "execution_count": 12,
   "metadata": {},
   "outputs": [],
   "source": [
    "hotel_train['meal'] = hotel_train['meal'].str.rstrip() #уберем лишние пробелы\n",
    "hotel_test['meal'] = hotel_test['meal'].str.rstrip()"
   ]
  },
  {
   "cell_type": "code",
   "execution_count": 13,
   "metadata": {},
   "outputs": [],
   "source": [
    "hotel_train = hotel_train.query('adults!=0') \n",
    "#без взрослых номер забронировать невозможно, поэтому уберем из обучающих данных такие строки"
   ]
  },
  {
   "cell_type": "code",
   "execution_count": 14,
   "metadata": {},
   "outputs": [],
   "source": [
    "def remove_extra_data(data, columns): #фуекция для удаления лишних данных\n",
    "    for column in columns:\n",
    "        q25 = data[column].quantile(0.25)\n",
    "        q75 = data[column].quantile(0.75)\n",
    "\n",
    "        first_part = q25-1.5*(q75-q25)\n",
    "        second_part = q75+1.5*(q75-q25)\n",
    "\n",
    "        data =  data[data[column] <= second_part]\n",
    "        data = data[data[column] >= first_part]\n",
    "\n",
    "    data = data.reset_index(drop = True)\n",
    "    return data"
   ]
  },
  {
   "cell_type": "code",
   "execution_count": 15,
   "metadata": {},
   "outputs": [],
   "source": [
    "hotel_train = remove_extra_data(hotel_train, ['lead_time', 'days_in_waiting_list'])"
   ]
  },
  {
   "cell_type": "code",
   "execution_count": 16,
   "metadata": {},
   "outputs": [],
   "source": [
    "hotel_train_corr = hotel_train.drop(['id', 'is_repeated_guest', 'required_car_parking_spaces',\n",
    "                                     'customer_type', 'country', 'distribution_channel',\n",
    "                                     'is_canceled', 'reserved_room_type', 'meal'], axis=1) \n",
    "#создадим временную переменную без бинарных и категориальных фичей для исследования корреляции"
   ]
  },
  {
   "cell_type": "code",
   "execution_count": 17,
   "metadata": {},
   "outputs": [
    {
     "data": {
      "text/plain": [
       "<AxesSubplot:>"
      ]
     },
     "execution_count": 17,
     "metadata": {},
     "output_type": "execute_result"
    },
    {
     "data": {
      "image/png": "[encoded data removed]",
      "text/plain": [
       "<Figure size 2160x2160 with 2 Axes>"
      ]
     },
     "metadata": {
      "needs_background": "light"
     },
     "output_type": "display_data"
    }
   ],
   "source": [
    "plt.figure(figsize=(30, 30))\n",
    "sns.set(font_scale=2)\n",
    "sns.heatmap(hotel_train_corr.corr(), annot = True, fmt='.2g', cmap= 'coolwarm', annot_kws={\"fontsize\":16}) \n",
    "#визуализация корреляции с помощью библиотеки seaborn"
   ]
  },
  {
   "cell_type": "code",
   "execution_count": 18,
   "metadata": {},
   "outputs": [
    {
     "data": {
      "text/plain": [
       "0    39871\n",
       "1    21475\n",
       "Name: is_canceled, dtype: int64"
      ]
     },
     "execution_count": 18,
     "metadata": {},
     "output_type": "execute_result"
    }
   ],
   "source": [
    "hotel_train['is_canceled'].value_counts() \n",
    "#таргет проверку на сбалансированность не прошел, не отмененных заказов в в 2 раза больше"
   ]
  },
  {
   "cell_type": "markdown",
   "metadata": {},
   "source": [
    "**Вывод:** в данных не было дублей, пропусков, все исправно открывается. Наблюдались выбросы данных, которые были удалены с наименьшими потерями для выборок с целью получения более точных расчетов на моделях. Заменила написание типов комнат и типов питания. Прослеживается корреляция между двумя признаками."
   ]
  },
  {
   "cell_type": "markdown",
   "metadata": {},
   "source": [
    "### Формулировка ML-задачи на основе бизнес-задачи"
   ]
  },
  {
   "cell_type": "code",
   "execution_count": 19,
   "metadata": {},
   "outputs": [],
   "source": [
    "def day_in_month(month): #функиця для определения количества дней в месяце\n",
    "    if month == 2:\n",
    "        return(28)\n",
    "    elif (month < 8 and month % 2 == 0) or (month > 7 and month % 2 != 0):\n",
    "        return(30)\n",
    "    else:\n",
    "        return(31)"
   ]
  },
  {
   "cell_type": "code",
   "execution_count": 20,
   "metadata": {},
   "outputs": [],
   "source": [
    "def season(month): #функция для определения сезона, чтобы в дальнейшем определить сезонную наценку на номер\n",
    "    if month in [3, 4, 5, 9, 10, 11]:\n",
    "        return 'Spring_Autumn'\n",
    "    elif month in [6, 7, 8]:\n",
    "        return 'Summer'\n",
    "    elif month in [12, 1, 2]:\n",
    "        return 'Winter'"
   ]
  },
  {
   "cell_type": "code",
   "execution_count": 21,
   "metadata": {
    "scrolled": true
   },
   "outputs": [],
   "source": [
    "PRICE_PER_ROOM_TYPE = {'A': [1000, 400], 'B' : [800, 250], 'C': [600, 350], \n",
    "                       'D': [550, 150], 'E': [500, 150], 'F': [450, 150], 'G': [450, 150]}\n",
    "PRICE_PER_SEASON = {'Spring_Autumn': 1.2, 'Summer': 1.4, 'Winter': 1.0}\n",
    "MONTH = {'January': 1, 'February': 2, 'March': 3, 'April': 4, 'May': 5, 'June': 6, \n",
    "         'July': 7, 'August': 8, 'September': 9, 'October': 10, 'November': 11, 'December': 12} \n",
    "def profit_without_deposit(date, month, nights, room_type, canceled = 0): \n",
    "    #функция для определения прибыли без внедрения депозита\n",
    "    if canceled:\n",
    "        return 0\n",
    "    else:\n",
    "        month = MONTH[month]\n",
    "        profit = 0\n",
    "        if nights == 1:\n",
    "            washes = 1\n",
    "        else:\n",
    "            washes = nights // 2 #расчет стоимость расходов за уборку номера\n",
    "        profit = - (PRICE_PER_ROOM_TYPE[room_type][1] * washes)\n",
    "        n_w = 0\n",
    "        n_s = 0\n",
    "        n_as = 0\n",
    "        while(nights):\n",
    "            if (\"Winter\" == season(month)):\n",
    "                n_w = n_w + 1\n",
    "            elif (\"Summer\" == season(month)):\n",
    "                n_s = n_s + 1\n",
    "            else :\n",
    "                n_as = n_as + 1\n",
    "\n",
    "            if (day_in_month(month) == date):\n",
    "                if month == 12:\n",
    "                    month == 1\n",
    "                else:\n",
    "                    month = month + 1\n",
    "                date = 1\n",
    "            else:\n",
    "                date = date + 1\n",
    "            nights = nights - 1\n",
    "\n",
    "        profit += PRICE_PER_ROOM_TYPE[room_type][0]*(n_w*1 + n_s*1.4 + n_as*1.2)\n",
    "        return profit"
   ]
  },
  {
   "cell_type": "code",
   "execution_count": 22,
   "metadata": {},
   "outputs": [
    {
     "data": {
      "text/plain": [
       "108966770.0"
      ]
     },
     "execution_count": 22,
     "metadata": {},
     "output_type": "execute_result"
    }
   ],
   "source": [
    "profit_without_deposit_train = hotel_train.apply(lambda x: profit_without_deposit(x['arrival_date_day_of_month'],\n",
    "                                                                                  x['arrival_date_month'], x['total_nights'],\n",
    "                                                                                  x['reserved_room_type'], x['is_canceled']),\n",
    "                                                 axis=1)\n",
    "profit_without_deposit_train.sum() "
   ]
  },
  {
   "cell_type": "code",
   "execution_count": 23,
   "metadata": {},
   "outputs": [
    {
     "data": {
      "text/plain": [
       "55870370.0"
      ]
     },
     "execution_count": 23,
     "metadata": {},
     "output_type": "execute_result"
    }
   ],
   "source": [
    "profit_without_deposit_test = hotel_test.apply(lambda x: profit_without_deposit(x['arrival_date_day_of_month'],\n",
    "                                                                                x['arrival_date_month'], x['total_nights'],\n",
    "                                                                                x['reserved_room_type'], x['is_canceled']), \n",
    "                                               axis=1)\n",
    "profit_without_deposit_test.sum()"
   ]
  },
  {
   "cell_type": "markdown",
   "metadata": {},
   "source": [
    "### Разработка модели ML"
   ]
  },
  {
   "cell_type": "code",
   "execution_count": 24,
   "metadata": {},
   "outputs": [],
   "source": [
    "x_train = hotel_train.drop(['is_canceled', 'id', 'distribution_channel', 'total_nights', \n",
    "                             'arrival_date_year', 'arrival_date_week_number', 'arrival_date_day_of_month', \n",
    "                             'arrival_date_month'], axis=1)\n",
    "y_train = hotel_train['is_canceled']\n",
    "x_test = hotel_test.drop(['is_canceled', 'id', 'distribution_channel', 'total_nights', \n",
    "                             'arrival_date_year', 'arrival_date_week_number', 'arrival_date_day_of_month', \n",
    "                             'arrival_date_month'], axis=1)\n",
    "y_test = hotel_test['is_canceled']\n",
    "#делим данные на таргет и признаки"
   ]
  },
  {
   "cell_type": "code",
   "execution_count": 25,
   "metadata": {},
   "outputs": [],
   "source": [
    "OHE = OneHotEncoder(handle_unknown='ignore')\n",
    "OHE.fit(x_train)\n",
    "x_train = OHE.transform(x_train) \n",
    "x_test = OHE.transform(x_test)\n",
    "#изменим категориальные данные на численные с помощью OneHotEncoder"
   ]
  },
  {
   "cell_type": "code",
   "execution_count": 26,
   "metadata": {},
   "outputs": [
    {
     "name": "stdout",
     "output_type": "stream",
     "text": [
      "наилучшая глубина 4 наилучшее количество признаков 7 наилучшая точность при этом 0.5481950760649863\n",
      "CPU times: user 6.72 s, sys: 31.7 ms, total: 6.75 s\n",
      "Wall time: 6.76 s\n"
     ]
    }
   ],
   "source": [
    "%%time\n",
    "best_result_DTC = 0\n",
    "best_depth_DTC= 0\n",
    "best_features_DTC = 0\n",
    "for depth in range (1, 5):\n",
    "    for features in range(1,10): #определям наилучшие значения гипрепараметров для модели решающего дерева\n",
    "        model_DTC =  DecisionTreeClassifier(random_state=12345, max_depth=depth, max_features=features, \n",
    "                                            class_weight = 'balanced')\n",
    "        model_DTC.fit(x_train, y_train)\n",
    "        scores = cross_val_score(model_DTC, x_train, y_train, scoring='f1')\n",
    "        final_croos_score = sum(scores) / len(scores)\n",
    "        if final_croos_score > best_result_DTC:\n",
    "            best_result_DTC = final_croos_score\n",
    "            best_features_DTC = features\n",
    "            best_depth_DTC = depth\n",
    "        \n",
    "print(\"наилучшая глубина\", best_depth_DTC, 'наилучшее количество признаков', best_features_DTC, \n",
    "      \"наилучшая точность при этом\", best_result_DTC)"
   ]
  },
  {
   "cell_type": "code",
   "execution_count": 27,
   "metadata": {},
   "outputs": [
    {
     "name": "stdout",
     "output_type": "stream",
     "text": [
      "точность наилучшей модели на тренировочной выборке: 0.6192431284060556 Лучшее количество деревьев 4 Лучшая глубина дерева: 2\n",
      "CPU times: user 4.89 s, sys: 20.7 ms, total: 4.91 s\n",
      "Wall time: 4.93 s\n"
     ]
    }
   ],
   "source": [
    "%%time\n",
    "best_result_RFC = 0\n",
    "best_depth_RFC = 0\n",
    "best_estimators_RFC = 0\n",
    "for depth in range(1, 5):  #определям наилучшие значения гипрепараметров для модели рандомного дерева\n",
    "    for est in range (1, 5):\n",
    "        model_RFC = RandomForestClassifier(random_state=12345, n_estimators=est, max_depth=depth, class_weight = 'balanced')\n",
    "        model_RFC.fit(x_train, y_train)\n",
    "        scores = cross_val_score(model_RFC, x_train, y_train, scoring='f1')\n",
    "        final_croos_score = sum(scores) / len(scores)\n",
    "        if final_croos_score > best_result_RFC:\n",
    "            best_result_RFC = final_croos_score\n",
    "            best_estimators_RFC = est\n",
    "            best_depth_RFC = depth\n",
    "\n",
    "print(\"точность наилучшей модели на тренировочной выборке:\", best_result_RFC, \"Лучшее количество деревьев\",\n",
    "      best_estimators_RFC, 'Лучшая глубина дерева:', best_depth_RFC)"
   ]
  },
  {
   "cell_type": "code",
   "execution_count": 28,
   "metadata": {},
   "outputs": [
    {
     "name": "stdout",
     "output_type": "stream",
     "text": [
      "F1-величина: 0.6197084548104956\n",
      "AUC-ROC величина 0.7343896385877333\n"
     ]
    },
    {
     "data": {
      "image/png": "[encoded data removed]",
      "text/plain": [
       "<Figure size 432x288 with 1 Axes>"
      ]
     },
     "metadata": {},
     "output_type": "display_data"
    }
   ],
   "source": [
    "predictions_test = model_RFC.predict(x_test)\n",
    "f1 = f1_score(y_test, predictions_test)\n",
    "probabilities_valid = model_RFC.predict_proba(x_test)\n",
    "probabilities_one_valid = probabilities_valid[:, 1]\n",
    "auc_roc = roc_auc_score(y_test, probabilities_one_valid) #расчет метрик для выбранной модели\n",
    "print('F1-величина:', f1)\n",
    "print('AUC-ROC величина', auc_roc)\n",
    "\n",
    "fpr, tpr, thresholds = roc_curve(y_test, probabilities_one_valid) \n",
    "plt.figure()\n",
    "plt.plot(fpr, tpr) \n",
    "\n",
    "# ROC-кривая случайной модели\n",
    "plt.plot([0, 1], [0, 1], linestyle='--')\n",
    "\n",
    "plt.xlim([0.0, 1.0])\n",
    "plt.ylim([0.0, 1.0])\n",
    "\n",
    "plt.xlabel('False Positive Rate')\n",
    "plt.ylabel('True Positive Rate')\n",
    "\n",
    "plt.title(\"ROC-кривая\")\n",
    "\n",
    "plt.show()"
   ]
  },
  {
   "cell_type": "code",
   "execution_count": 29,
   "metadata": {},
   "outputs": [],
   "source": [
    "def deposit(room_type, month): #функция расчета депозита\n",
    "    n_w = 0\n",
    "    n_s = 0\n",
    "    n_as = 0\n",
    "    if (\"Winter\" == season(month)):\n",
    "        n_w = n_w + 1\n",
    "    elif (\"Summer\" == season(month)):\n",
    "        n_s = n_s + 1\n",
    "    else :\n",
    "        n_as = n_as + 1\n",
    "    deposit_room = (PRICE_PER_ROOM_TYPE[room_type][0] * 0.8 * (n_w*1 + n_s*1.4 + n_as*1.2)) + (PRICE_PER_ROOM_TYPE[room_type][1])\n",
    "    return deposit_room"
   ]
  },
  {
   "cell_type": "code",
   "execution_count": 30,
   "metadata": {},
   "outputs": [],
   "source": [
    "def profit_with_deposit(date, month, nights, room_type, canceled = 0, pred_canceled = 1): \n",
    "    #функция для рассчета прибыли при внедрении депозита\n",
    "    if canceled == 0:\n",
    "        return(profit_without_deposit(date, month, nights, room_type))\n",
    "    elif(pred_canceled == 1):\n",
    "        return (deposit(room_type, month))\n",
    "    else:\n",
    "        return 0"
   ]
  },
  {
   "cell_type": "code",
   "execution_count": 31,
   "metadata": {},
   "outputs": [
    {
     "data": {
      "text/plain": [
       "65552524.0"
      ]
     },
     "execution_count": 31,
     "metadata": {},
     "output_type": "execute_result"
    }
   ],
   "source": [
    "list_1 = [] #расчет прибыли по тестовой выборке\n",
    "for i in range(len(predictions_test)):\n",
    "    list_1.append(profit_with_deposit(hotel_test['arrival_date_day_of_month'][i], hotel_test['arrival_date_month'][i], \n",
    "                                      hotel_test['total_nights'][i], hotel_test['reserved_room_type'][i], \n",
    "                                      hotel_test['is_canceled'][i], predictions_test[i]))\n",
    "sum(list_1)    "
   ]
  },
  {
   "cell_type": "code",
   "execution_count": 32,
   "metadata": {},
   "outputs": [],
   "source": [
    "BUDGET=400000 #константная величина заявленного бюджета на разработку модели для бизнеса"
   ]
  },
  {
   "cell_type": "code",
   "execution_count": 33,
   "metadata": {},
   "outputs": [
    {
     "data": {
      "text/plain": [
       "65152524.0"
      ]
     },
     "execution_count": 33,
     "metadata": {},
     "output_type": "execute_result"
    }
   ],
   "source": [
    "sum(list_1) - BUDGET"
   ]
  },
  {
   "cell_type": "markdown",
   "metadata": {},
   "source": [
    "**Вывод:** прибыль при внедрении модели машинного обучения с учетом затрат на разработку составляет 66.8 миллиона, без модели, и соответственно введения депозита, прибыль составляла 66.4 млн."
   ]
  },
  {
   "cell_type": "markdown",
   "metadata": {},
   "source": [
    "### Описание портрета «ненадёжного» клиента"
   ]
  },
  {
   "cell_type": "code",
   "execution_count": 34,
   "metadata": {},
   "outputs": [
    {
     "data": {
      "text/html": [
       "<div>\n",
       "<style scoped>\n",
       "    .dataframe tbody tr th:only-of-type {\n",
       "        vertical-align: middle;\n",
       "    }\n",
       "\n",
       "    .dataframe tbody tr th {\n",
       "        vertical-align: top;\n",
       "    }\n",
       "\n",
       "    .dataframe thead th {\n",
       "        text-align: right;\n",
       "    }\n",
       "</style>\n",
       "<table border=\"1\" class=\"dataframe\">\n",
       "  <thead>\n",
       "    <tr style=\"text-align: right;\">\n",
       "      <th></th>\n",
       "      <th>id</th>\n",
       "      <th>is_canceled</th>\n",
       "      <th>lead_time</th>\n",
       "      <th>arrival_date_year</th>\n",
       "      <th>arrival_date_week_number</th>\n",
       "      <th>arrival_date_day_of_month</th>\n",
       "      <th>stays_in_weekend_nights</th>\n",
       "      <th>stays_in_week_nights</th>\n",
       "      <th>adults</th>\n",
       "      <th>children</th>\n",
       "      <th>babies</th>\n",
       "      <th>is_repeated_guest</th>\n",
       "      <th>previous_cancellations</th>\n",
       "      <th>previous_bookings_not_canceled</th>\n",
       "      <th>booking_changes</th>\n",
       "      <th>days_in_waiting_list</th>\n",
       "      <th>required_car_parking_spaces</th>\n",
       "      <th>total_of_special_requests</th>\n",
       "      <th>total_nights</th>\n",
       "    </tr>\n",
       "  </thead>\n",
       "  <tbody>\n",
       "    <tr>\n",
       "      <th>count</th>\n",
       "      <td>12591.000000</td>\n",
       "      <td>12591.0</td>\n",
       "      <td>12591.000000</td>\n",
       "      <td>12591.0</td>\n",
       "      <td>12591.000000</td>\n",
       "      <td>12591.000000</td>\n",
       "      <td>12591.000000</td>\n",
       "      <td>12591.000000</td>\n",
       "      <td>12591.000000</td>\n",
       "      <td>12591.000000</td>\n",
       "      <td>12591.000000</td>\n",
       "      <td>12591.000000</td>\n",
       "      <td>12591.000000</td>\n",
       "      <td>12591.000000</td>\n",
       "      <td>12591.000000</td>\n",
       "      <td>12591.000000</td>\n",
       "      <td>12591.0</td>\n",
       "      <td>12591.000000</td>\n",
       "      <td>12591.000000</td>\n",
       "    </tr>\n",
       "    <tr>\n",
       "      <th>mean</th>\n",
       "      <td>42840.515368</td>\n",
       "      <td>1.0</td>\n",
       "      <td>123.511318</td>\n",
       "      <td>2017.0</td>\n",
       "      <td>18.233897</td>\n",
       "      <td>15.558335</td>\n",
       "      <td>0.865459</td>\n",
       "      <td>2.421809</td>\n",
       "      <td>1.905965</td>\n",
       "      <td>0.089270</td>\n",
       "      <td>0.001827</td>\n",
       "      <td>0.003892</td>\n",
       "      <td>0.004130</td>\n",
       "      <td>0.017393</td>\n",
       "      <td>0.106028</td>\n",
       "      <td>0.371376</td>\n",
       "      <td>0.0</td>\n",
       "      <td>0.430228</td>\n",
       "      <td>3.287269</td>\n",
       "    </tr>\n",
       "    <tr>\n",
       "      <th>std</th>\n",
       "      <td>16426.229085</td>\n",
       "      <td>0.0</td>\n",
       "      <td>87.531177</td>\n",
       "      <td>0.0</td>\n",
       "      <td>8.741155</td>\n",
       "      <td>8.736541</td>\n",
       "      <td>0.858638</td>\n",
       "      <td>1.316082</td>\n",
       "      <td>0.458670</td>\n",
       "      <td>0.361321</td>\n",
       "      <td>0.042703</td>\n",
       "      <td>0.062264</td>\n",
       "      <td>0.092527</td>\n",
       "      <td>0.432330</td>\n",
       "      <td>0.463904</td>\n",
       "      <td>5.199403</td>\n",
       "      <td>0.0</td>\n",
       "      <td>0.706851</td>\n",
       "      <td>1.635438</td>\n",
       "    </tr>\n",
       "    <tr>\n",
       "      <th>min</th>\n",
       "      <td>6086.000000</td>\n",
       "      <td>1.0</td>\n",
       "      <td>0.000000</td>\n",
       "      <td>2017.0</td>\n",
       "      <td>1.000000</td>\n",
       "      <td>1.000000</td>\n",
       "      <td>0.000000</td>\n",
       "      <td>0.000000</td>\n",
       "      <td>0.000000</td>\n",
       "      <td>0.000000</td>\n",
       "      <td>0.000000</td>\n",
       "      <td>0.000000</td>\n",
       "      <td>0.000000</td>\n",
       "      <td>0.000000</td>\n",
       "      <td>0.000000</td>\n",
       "      <td>0.000000</td>\n",
       "      <td>0.0</td>\n",
       "      <td>0.000000</td>\n",
       "      <td>1.000000</td>\n",
       "    </tr>\n",
       "    <tr>\n",
       "      <th>25%</th>\n",
       "      <td>45869.500000</td>\n",
       "      <td>1.0</td>\n",
       "      <td>52.000000</td>\n",
       "      <td>2017.0</td>\n",
       "      <td>12.000000</td>\n",
       "      <td>8.000000</td>\n",
       "      <td>0.000000</td>\n",
       "      <td>1.000000</td>\n",
       "      <td>2.000000</td>\n",
       "      <td>0.000000</td>\n",
       "      <td>0.000000</td>\n",
       "      <td>0.000000</td>\n",
       "      <td>0.000000</td>\n",
       "      <td>0.000000</td>\n",
       "      <td>0.000000</td>\n",
       "      <td>0.000000</td>\n",
       "      <td>0.0</td>\n",
       "      <td>0.000000</td>\n",
       "      <td>2.000000</td>\n",
       "    </tr>\n",
       "    <tr>\n",
       "      <th>50%</th>\n",
       "      <td>49017.000000</td>\n",
       "      <td>1.0</td>\n",
       "      <td>111.000000</td>\n",
       "      <td>2017.0</td>\n",
       "      <td>18.000000</td>\n",
       "      <td>15.000000</td>\n",
       "      <td>1.000000</td>\n",
       "      <td>2.000000</td>\n",
       "      <td>2.000000</td>\n",
       "      <td>0.000000</td>\n",
       "      <td>0.000000</td>\n",
       "      <td>0.000000</td>\n",
       "      <td>0.000000</td>\n",
       "      <td>0.000000</td>\n",
       "      <td>0.000000</td>\n",
       "      <td>0.000000</td>\n",
       "      <td>0.0</td>\n",
       "      <td>0.000000</td>\n",
       "      <td>3.000000</td>\n",
       "    </tr>\n",
       "    <tr>\n",
       "      <th>75%</th>\n",
       "      <td>52164.500000</td>\n",
       "      <td>1.0</td>\n",
       "      <td>177.000000</td>\n",
       "      <td>2017.0</td>\n",
       "      <td>25.000000</td>\n",
       "      <td>23.000000</td>\n",
       "      <td>2.000000</td>\n",
       "      <td>3.000000</td>\n",
       "      <td>2.000000</td>\n",
       "      <td>0.000000</td>\n",
       "      <td>0.000000</td>\n",
       "      <td>0.000000</td>\n",
       "      <td>0.000000</td>\n",
       "      <td>0.000000</td>\n",
       "      <td>0.000000</td>\n",
       "      <td>0.000000</td>\n",
       "      <td>0.0</td>\n",
       "      <td>1.000000</td>\n",
       "      <td>4.000000</td>\n",
       "    </tr>\n",
       "    <tr>\n",
       "      <th>max</th>\n",
       "      <td>96165.000000</td>\n",
       "      <td>1.0</td>\n",
       "      <td>373.000000</td>\n",
       "      <td>2017.0</td>\n",
       "      <td>35.000000</td>\n",
       "      <td>31.000000</td>\n",
       "      <td>4.000000</td>\n",
       "      <td>6.000000</td>\n",
       "      <td>4.000000</td>\n",
       "      <td>3.000000</td>\n",
       "      <td>1.000000</td>\n",
       "      <td>1.000000</td>\n",
       "      <td>4.000000</td>\n",
       "      <td>26.000000</td>\n",
       "      <td>6.000000</td>\n",
       "      <td>183.000000</td>\n",
       "      <td>0.0</td>\n",
       "      <td>5.000000</td>\n",
       "      <td>10.000000</td>\n",
       "    </tr>\n",
       "  </tbody>\n",
       "</table>\n",
       "</div>"
      ],
      "text/plain": [
       "                 id  is_canceled     lead_time  arrival_date_year  \\\n",
       "count  12591.000000      12591.0  12591.000000            12591.0   \n",
       "mean   42840.515368          1.0    123.511318             2017.0   \n",
       "std    16426.229085          0.0     87.531177                0.0   \n",
       "min     6086.000000          1.0      0.000000             2017.0   \n",
       "25%    45869.500000          1.0     52.000000             2017.0   \n",
       "50%    49017.000000          1.0    111.000000             2017.0   \n",
       "75%    52164.500000          1.0    177.000000             2017.0   \n",
       "max    96165.000000          1.0    373.000000             2017.0   \n",
       "\n",
       "       arrival_date_week_number  arrival_date_day_of_month  \\\n",
       "count              12591.000000               12591.000000   \n",
       "mean                  18.233897                  15.558335   \n",
       "std                    8.741155                   8.736541   \n",
       "min                    1.000000                   1.000000   \n",
       "25%                   12.000000                   8.000000   \n",
       "50%                   18.000000                  15.000000   \n",
       "75%                   25.000000                  23.000000   \n",
       "max                   35.000000                  31.000000   \n",
       "\n",
       "       stays_in_weekend_nights  stays_in_week_nights        adults  \\\n",
       "count             12591.000000          12591.000000  12591.000000   \n",
       "mean                  0.865459              2.421809      1.905965   \n",
       "std                   0.858638              1.316082      0.458670   \n",
       "min                   0.000000              0.000000      0.000000   \n",
       "25%                   0.000000              1.000000      2.000000   \n",
       "50%                   1.000000              2.000000      2.000000   \n",
       "75%                   2.000000              3.000000      2.000000   \n",
       "max                   4.000000              6.000000      4.000000   \n",
       "\n",
       "           children        babies  is_repeated_guest  previous_cancellations  \\\n",
       "count  12591.000000  12591.000000       12591.000000            12591.000000   \n",
       "mean       0.089270      0.001827           0.003892                0.004130   \n",
       "std        0.361321      0.042703           0.062264                0.092527   \n",
       "min        0.000000      0.000000           0.000000                0.000000   \n",
       "25%        0.000000      0.000000           0.000000                0.000000   \n",
       "50%        0.000000      0.000000           0.000000                0.000000   \n",
       "75%        0.000000      0.000000           0.000000                0.000000   \n",
       "max        3.000000      1.000000           1.000000                4.000000   \n",
       "\n",
       "       previous_bookings_not_canceled  booking_changes  days_in_waiting_list  \\\n",
       "count                    12591.000000     12591.000000          12591.000000   \n",
       "mean                         0.017393         0.106028              0.371376   \n",
       "std                          0.432330         0.463904              5.199403   \n",
       "min                          0.000000         0.000000              0.000000   \n",
       "25%                          0.000000         0.000000              0.000000   \n",
       "50%                          0.000000         0.000000              0.000000   \n",
       "75%                          0.000000         0.000000              0.000000   \n",
       "max                         26.000000         6.000000            183.000000   \n",
       "\n",
       "       required_car_parking_spaces  total_of_special_requests  total_nights  \n",
       "count                      12591.0               12591.000000  12591.000000  \n",
       "mean                           0.0                   0.430228      3.287269  \n",
       "std                            0.0                   0.706851      1.635438  \n",
       "min                            0.0                   0.000000      1.000000  \n",
       "25%                            0.0                   0.000000      2.000000  \n",
       "50%                            0.0                   0.000000      3.000000  \n",
       "75%                            0.0                   1.000000      4.000000  \n",
       "max                            0.0                   5.000000     10.000000  "
      ]
     },
     "execution_count": 34,
     "metadata": {},
     "output_type": "execute_result"
    }
   ],
   "source": [
    "hotel_test.query('is_canceled==1').describe() #визуализируем с помощью метода describe данные по всем, кто отменил бронь"
   ]
  },
  {
   "cell_type": "code",
   "execution_count": 35,
   "metadata": {},
   "outputs": [
    {
     "data": {
      "text/plain": [
       "Transient          0.937574\n",
       "Transient-Party    0.058216\n",
       "Contract           0.003574\n",
       "Group              0.000635\n",
       "Name: customer_type, dtype: float64"
      ]
     },
     "execution_count": 35,
     "metadata": {},
     "output_type": "execute_result"
    }
   ],
   "source": [
    "hotel_test.query('is_canceled==1')['customer_type'].value_counts(normalize=True) \n",
    "#информация по отменившим какой у них был канал оформления брони"
   ]
  },
  {
   "cell_type": "code",
   "execution_count": 36,
   "metadata": {},
   "outputs": [
    {
     "data": {
      "text/plain": [
       "BB    0.773489\n",
       "SC    0.162100\n",
       "HB    0.063299\n",
       "FB    0.001112\n",
       "Name: meal, dtype: float64"
      ]
     },
     "execution_count": 36,
     "metadata": {},
     "output_type": "execute_result"
    }
   ],
   "source": [
    "hotel_test.query('is_canceled==1')['meal'].value_counts(normalize=True) \n",
    "#информация по отменившим какой был тип питания выбран"
   ]
  },
  {
   "cell_type": "code",
   "execution_count": 37,
   "metadata": {},
   "outputs": [
    {
     "data": {
      "text/plain": [
       "A    0.750933\n",
       "D    0.169327\n",
       "E    0.043920\n",
       "F    0.013025\n",
       "G    0.009134\n",
       "C    0.007069\n",
       "B    0.006592\n",
       "Name: reserved_room_type, dtype: float64"
      ]
     },
     "execution_count": 37,
     "metadata": {},
     "output_type": "execute_result"
    }
   ],
   "source": [
    "hotel_test.query('is_canceled==1')['reserved_room_type'].value_counts(normalize=True) \n",
    "#информация по отменившим какой был выбран тип номера"
   ]
  },
  {
   "cell_type": "code",
   "execution_count": 38,
   "metadata": {},
   "outputs": [
    {
     "data": {
      "text/plain": [
       "May         0.183861\n",
       "April       0.172584\n",
       "June        0.163053\n",
       "March       0.112064\n",
       "July        0.105710\n",
       "February    0.090144\n",
       "August      0.087523\n",
       "January     0.085061\n",
       "Name: arrival_date_month, dtype: float64"
      ]
     },
     "execution_count": 38,
     "metadata": {},
     "output_type": "execute_result"
    }
   ],
   "source": [
    "hotel_test.query('is_canceled==1')['arrival_date_month'].value_counts(normalize=True) \n",
    "#информация по отменившим в какой месяц они заезжали"
   ]
  },
  {
   "cell_type": "code",
   "execution_count": 39,
   "metadata": {},
   "outputs": [
    {
     "data": {
      "text/plain": [
       "56.0     0.014058\n",
       "28.0     0.013819\n",
       "38.0     0.012390\n",
       "175.0    0.009372\n",
       "156.0    0.009292\n",
       "           ...   \n",
       "365.0    0.000159\n",
       "366.0    0.000079\n",
       "347.0    0.000079\n",
       "343.0    0.000079\n",
       "349.0    0.000079\n",
       "Name: lead_time, Length: 364, dtype: float64"
      ]
     },
     "execution_count": 39,
     "metadata": {},
     "output_type": "execute_result"
    }
   ],
   "source": [
    "hotel_test.query('is_canceled==1')['lead_time'].value_counts(normalize=True) \n",
    "#информация по отменившим за сколько до заезда была произведена бронь"
   ]
  },
  {
   "cell_type": "code",
   "execution_count": 40,
   "metadata": {},
   "outputs": [
    {
     "data": {
      "text/plain": [
       "PRT    0.468033\n",
       "GBR    0.084902\n",
       "FRA    0.068064\n",
       "ESP    0.048765\n",
       "DEU    0.045509\n",
       "         ...   \n",
       "AND    0.000079\n",
       "JEY    0.000079\n",
       "SYC    0.000079\n",
       "CIV    0.000079\n",
       "ISL    0.000079\n",
       "Name: country, Length: 105, dtype: float64"
      ]
     },
     "execution_count": 40,
     "metadata": {},
     "output_type": "execute_result"
    }
   ],
   "source": [
    "hotel_test.query('is_canceled==1')['country'].value_counts(normalize=True) \n",
    "#информация по отменившим из какой они страны"
   ]
  },
  {
   "cell_type": "markdown",
   "metadata": {},
   "source": [
    "### Общий вывод"
   ]
  },
  {
   "cell_type": "markdown",
   "metadata": {},
   "source": [
    "- Модель, которая решает задачу бизнеса с наибольшей выгодой: DecisionTreeClassifier, ее точность составила 0,73.\n",
    "- Рекомендации для бизнеса:следует вводить депозит для следующих категорий лиц:\n",
    " - сделавшие заказ за 2 месяца или ровно за месяц до заселения от момента бронирования на сайте;\n",
    " - заказ, оформленный на 2-3 дня, с преобладанием рабочих дней;\n",
    " - заказ оформлен на взрослых, преимущественно двух персон, без детей;\n",
    " - те, кто оформлял заказ не с группой, то есть обычные отдыхающие;\n",
    " - при этом люди бронирующие самый высокий класс номера, но включающий чаще всего завтрак;\n",
    " - чаще всего отмены происходили с апреля по июнь;\n",
    " - значительная часть отмены пришлась на отдыхающих из Польши.\n"
   ]
  }
 ],
 "metadata": {
  "ExecuteTimeLog": [
   {
    "duration": 1656,
    "start_time": "2022-11-22T13:42:52.613Z"
   },
   {
    "duration": 120,
    "start_time": "2022-11-22T13:42:54.271Z"
   },
   {
    "duration": 880,
    "start_time": "2022-11-22T13:43:15.162Z"
   },
   {
    "duration": 3,
    "start_time": "2022-11-22T13:43:17.518Z"
   },
   {
    "duration": 1576,
    "start_time": "2022-11-22T13:43:18.214Z"
   },
   {
    "duration": 2,
    "start_time": "2022-11-22T13:44:55.597Z"
   },
   {
    "duration": 106,
    "start_time": "2022-11-22T13:44:56.600Z"
   },
   {
    "duration": 65,
    "start_time": "2022-11-22T13:45:00.417Z"
   },
   {
    "duration": 4,
    "start_time": "2022-11-22T14:02:01.060Z"
   },
   {
    "duration": 1421,
    "start_time": "2022-11-22T14:02:05.429Z"
   },
   {
    "duration": 3482,
    "start_time": "2022-11-22T14:02:42.662Z"
   },
   {
    "duration": 1398,
    "start_time": "2022-11-22T14:07:08.763Z"
   },
   {
    "duration": 235,
    "start_time": "2022-11-22T14:07:10.163Z"
   },
   {
    "duration": 4,
    "start_time": "2022-11-22T14:07:10.399Z"
   },
   {
    "duration": 120,
    "start_time": "2022-11-22T14:07:10.404Z"
   },
   {
    "duration": 61,
    "start_time": "2022-11-22T14:07:10.526Z"
   },
   {
    "duration": 43,
    "start_time": "2022-11-22T19:04:38.701Z"
   },
   {
    "duration": 1426,
    "start_time": "2022-11-22T19:04:47.454Z"
   },
   {
    "duration": 1431,
    "start_time": "2022-11-22T19:04:48.882Z"
   },
   {
    "duration": 4,
    "start_time": "2022-11-22T19:04:50.315Z"
   },
   {
    "duration": 121,
    "start_time": "2022-11-22T19:04:50.321Z"
   },
   {
    "duration": 52,
    "start_time": "2022-11-22T19:04:50.443Z"
   },
   {
    "duration": 928,
    "start_time": "2022-11-22T19:04:50.497Z"
   },
   {
    "duration": 122,
    "start_time": "2022-11-22T19:05:36.614Z"
   },
   {
    "duration": 132,
    "start_time": "2022-11-22T19:05:53.352Z"
   },
   {
    "duration": 212,
    "start_time": "2022-11-22T19:11:45.641Z"
   },
   {
    "duration": 7,
    "start_time": "2022-11-22T19:12:51.420Z"
   },
   {
    "duration": 4,
    "start_time": "2022-11-22T19:13:08.103Z"
   },
   {
    "duration": 6,
    "start_time": "2022-11-22T19:13:39.645Z"
   },
   {
    "duration": 129,
    "start_time": "2022-11-22T19:13:50.499Z"
   },
   {
    "duration": 129,
    "start_time": "2022-11-22T19:14:18.355Z"
   },
   {
    "duration": 113,
    "start_time": "2022-11-22T19:15:38.631Z"
   },
   {
    "duration": 199,
    "start_time": "2022-11-22T19:18:07.322Z"
   },
   {
    "duration": 12,
    "start_time": "2022-11-22T19:19:00.213Z"
   },
   {
    "duration": 204,
    "start_time": "2022-11-22T19:22:52.910Z"
   },
   {
    "duration": 103,
    "start_time": "2022-11-22T19:23:05.597Z"
   },
   {
    "duration": 99,
    "start_time": "2022-11-22T19:23:13.091Z"
   },
   {
    "duration": 220,
    "start_time": "2022-11-22T19:23:32.171Z"
   },
   {
    "duration": 513,
    "start_time": "2022-11-22T19:23:45.298Z"
   },
   {
    "duration": 503,
    "start_time": "2022-11-22T19:23:54.329Z"
   },
   {
    "duration": 214,
    "start_time": "2022-11-22T19:25:38.618Z"
   },
   {
    "duration": 440,
    "start_time": "2022-11-22T19:26:21.425Z"
   },
   {
    "duration": 5,
    "start_time": "2022-11-22T19:33:39.109Z"
   },
   {
    "duration": 5,
    "start_time": "2022-11-22T19:33:50.494Z"
   },
   {
    "duration": 9,
    "start_time": "2022-11-22T19:33:55.935Z"
   },
   {
    "duration": 9,
    "start_time": "2022-11-22T19:34:10.844Z"
   },
   {
    "duration": 112,
    "start_time": "2022-11-22T19:37:49.401Z"
   },
   {
    "duration": 209,
    "start_time": "2022-11-22T19:38:11.304Z"
   },
   {
    "duration": 8,
    "start_time": "2022-11-22T19:38:27.414Z"
   },
   {
    "duration": 527,
    "start_time": "2022-11-22T19:40:26.804Z"
   },
   {
    "duration": 457,
    "start_time": "2022-11-22T19:40:38.618Z"
   },
   {
    "duration": 319,
    "start_time": "2022-11-22T19:40:49.410Z"
   },
   {
    "duration": 10,
    "start_time": "2022-11-22T19:41:05.670Z"
   },
   {
    "duration": 323,
    "start_time": "2022-11-22T19:41:30.145Z"
   },
   {
    "duration": 10,
    "start_time": "2022-11-22T19:41:57.618Z"
   },
   {
    "duration": 10,
    "start_time": "2022-11-22T19:42:15.423Z"
   },
   {
    "duration": 190,
    "start_time": "2022-11-22T19:44:53.029Z"
   },
   {
    "duration": 8,
    "start_time": "2022-11-22T19:45:30.863Z"
   },
   {
    "duration": 9,
    "start_time": "2022-11-22T19:45:32.339Z"
   },
   {
    "duration": 118,
    "start_time": "2022-11-22T19:55:55.046Z"
   },
   {
    "duration": 264,
    "start_time": "2022-11-22T19:56:25.477Z"
   },
   {
    "duration": 182,
    "start_time": "2022-11-22T19:56:39.958Z"
   },
   {
    "duration": 10,
    "start_time": "2022-11-22T20:08:09.498Z"
   },
   {
    "duration": 4,
    "start_time": "2022-11-22T20:08:44.282Z"
   },
   {
    "duration": 9,
    "start_time": "2022-11-22T20:08:54.155Z"
   },
   {
    "duration": 86,
    "start_time": "2022-11-22T20:09:26.155Z"
   },
   {
    "duration": 9,
    "start_time": "2022-11-22T20:09:39.489Z"
   },
   {
    "duration": 1125,
    "start_time": "2022-11-22T20:13:01.800Z"
   },
   {
    "duration": 11,
    "start_time": "2022-11-22T20:15:55.848Z"
   },
   {
    "duration": 1259,
    "start_time": "2022-11-22T20:22:34.065Z"
   },
   {
    "duration": 218,
    "start_time": "2022-11-22T20:22:35.326Z"
   },
   {
    "duration": 3,
    "start_time": "2022-11-22T20:22:35.546Z"
   },
   {
    "duration": 96,
    "start_time": "2022-11-22T20:22:35.550Z"
   },
   {
    "duration": 50,
    "start_time": "2022-11-22T20:22:35.648Z"
   },
   {
    "duration": 302,
    "start_time": "2022-11-22T20:22:35.700Z"
   },
   {
    "duration": 18,
    "start_time": "2022-11-22T20:22:36.003Z"
   },
   {
    "duration": 204,
    "start_time": "2022-11-22T20:22:36.022Z"
   },
   {
    "duration": 11,
    "start_time": "2022-11-22T20:22:36.227Z"
   },
   {
    "duration": 2,
    "start_time": "2022-11-22T20:22:36.240Z"
   },
   {
    "duration": 48,
    "start_time": "2022-11-22T20:22:36.244Z"
   },
   {
    "duration": 98,
    "start_time": "2022-11-22T20:22:36.294Z"
   },
   {
    "duration": 47,
    "start_time": "2022-11-22T20:22:36.394Z"
   },
   {
    "duration": 8141,
    "start_time": "2022-11-22T20:22:36.442Z"
   },
   {
    "duration": 97,
    "start_time": "2022-11-22T20:23:07.157Z"
   },
   {
    "duration": 1248,
    "start_time": "2022-11-22T20:23:42.360Z"
   },
   {
    "duration": 205,
    "start_time": "2022-11-22T20:23:43.612Z"
   },
   {
    "duration": 3,
    "start_time": "2022-11-22T20:23:43.818Z"
   },
   {
    "duration": 91,
    "start_time": "2022-11-22T20:23:43.823Z"
   },
   {
    "duration": 66,
    "start_time": "2022-11-22T20:23:43.916Z"
   },
   {
    "duration": 287,
    "start_time": "2022-11-22T20:23:43.983Z"
   },
   {
    "duration": 12,
    "start_time": "2022-11-22T20:23:44.271Z"
   },
   {
    "duration": 204,
    "start_time": "2022-11-22T20:23:44.284Z"
   },
   {
    "duration": 10,
    "start_time": "2022-11-22T20:23:44.490Z"
   },
   {
    "duration": 11,
    "start_time": "2022-11-22T20:23:44.502Z"
   },
   {
    "duration": 42,
    "start_time": "2022-11-22T20:23:44.515Z"
   },
   {
    "duration": 104,
    "start_time": "2022-11-22T20:23:44.558Z"
   },
   {
    "duration": 52,
    "start_time": "2022-11-22T20:23:44.665Z"
   },
   {
    "duration": 7881,
    "start_time": "2022-11-22T20:23:44.719Z"
   },
   {
    "duration": 94,
    "start_time": "2022-11-22T20:24:07.801Z"
   },
   {
    "duration": 1126,
    "start_time": "2022-11-22T20:24:15.474Z"
   },
   {
    "duration": 1309,
    "start_time": "2022-11-22T20:24:36.329Z"
   },
   {
    "duration": 211,
    "start_time": "2022-11-22T20:24:37.640Z"
   },
   {
    "duration": 3,
    "start_time": "2022-11-22T20:24:37.853Z"
   },
   {
    "duration": 105,
    "start_time": "2022-11-22T20:24:37.858Z"
   },
   {
    "duration": 61,
    "start_time": "2022-11-22T20:24:37.965Z"
   },
   {
    "duration": 280,
    "start_time": "2022-11-22T20:24:38.028Z"
   },
   {
    "duration": 14,
    "start_time": "2022-11-22T20:24:38.309Z"
   },
   {
    "duration": 203,
    "start_time": "2022-11-22T20:24:38.325Z"
   },
   {
    "duration": 11,
    "start_time": "2022-11-22T20:24:38.530Z"
   },
   {
    "duration": 13,
    "start_time": "2022-11-22T20:24:38.543Z"
   },
   {
    "duration": 58,
    "start_time": "2022-11-22T20:24:38.558Z"
   },
   {
    "duration": 119,
    "start_time": "2022-11-22T20:24:38.617Z"
   },
   {
    "duration": 40,
    "start_time": "2022-11-22T20:24:38.737Z"
   },
   {
    "duration": 2473,
    "start_time": "2022-11-22T20:24:38.778Z"
   },
   {
    "duration": 41,
    "start_time": "2022-11-22T20:26:29.894Z"
   },
   {
    "duration": 1325,
    "start_time": "2022-11-22T20:27:42.393Z"
   },
   {
    "duration": 210,
    "start_time": "2022-11-22T20:27:43.720Z"
   },
   {
    "duration": 3,
    "start_time": "2022-11-22T20:27:43.931Z"
   },
   {
    "duration": 100,
    "start_time": "2022-11-22T20:27:43.936Z"
   },
   {
    "duration": 50,
    "start_time": "2022-11-22T20:27:44.039Z"
   },
   {
    "duration": 306,
    "start_time": "2022-11-22T20:27:44.090Z"
   },
   {
    "duration": 17,
    "start_time": "2022-11-22T20:27:44.398Z"
   },
   {
    "duration": 214,
    "start_time": "2022-11-22T20:27:44.417Z"
   },
   {
    "duration": 12,
    "start_time": "2022-11-22T20:27:44.633Z"
   },
   {
    "duration": 2,
    "start_time": "2022-11-22T20:27:44.647Z"
   },
   {
    "duration": 8,
    "start_time": "2022-11-22T20:27:44.651Z"
   },
   {
    "duration": 13,
    "start_time": "2022-11-22T20:27:44.661Z"
   },
   {
    "duration": 139,
    "start_time": "2022-11-22T20:27:44.676Z"
   },
   {
    "duration": 42,
    "start_time": "2022-11-22T20:27:44.818Z"
   },
   {
    "duration": 2406,
    "start_time": "2022-11-22T20:27:44.862Z"
   },
   {
    "duration": 1313,
    "start_time": "2022-11-22T20:29:42.295Z"
   },
   {
    "duration": 205,
    "start_time": "2022-11-22T20:29:43.610Z"
   },
   {
    "duration": 3,
    "start_time": "2022-11-22T20:29:43.817Z"
   },
   {
    "duration": 92,
    "start_time": "2022-11-22T20:29:43.821Z"
   },
   {
    "duration": 50,
    "start_time": "2022-11-22T20:29:43.915Z"
   },
   {
    "duration": 285,
    "start_time": "2022-11-22T20:29:43.967Z"
   },
   {
    "duration": 13,
    "start_time": "2022-11-22T20:29:44.253Z"
   },
   {
    "duration": 203,
    "start_time": "2022-11-22T20:29:44.267Z"
   },
   {
    "duration": 11,
    "start_time": "2022-11-22T20:29:44.472Z"
   },
   {
    "duration": 2,
    "start_time": "2022-11-22T20:29:44.485Z"
   },
   {
    "duration": 24,
    "start_time": "2022-11-22T20:29:44.489Z"
   },
   {
    "duration": 3,
    "start_time": "2022-11-22T20:29:44.514Z"
   },
   {
    "duration": 106,
    "start_time": "2022-11-22T20:29:44.519Z"
   },
   {
    "duration": 46,
    "start_time": "2022-11-22T20:29:44.627Z"
   },
   {
    "duration": 7862,
    "start_time": "2022-11-22T20:29:44.675Z"
   },
   {
    "duration": 1554,
    "start_time": "2022-11-24T19:08:01.664Z"
   },
   {
    "duration": 428,
    "start_time": "2022-11-24T19:08:03.220Z"
   },
   {
    "duration": 3,
    "start_time": "2022-11-24T19:08:03.650Z"
   },
   {
    "duration": 102,
    "start_time": "2022-11-24T19:08:03.655Z"
   },
   {
    "duration": 64,
    "start_time": "2022-11-24T19:08:03.759Z"
   },
   {
    "duration": 319,
    "start_time": "2022-11-24T19:08:03.825Z"
   },
   {
    "duration": 17,
    "start_time": "2022-11-24T19:08:04.145Z"
   },
   {
    "duration": 234,
    "start_time": "2022-11-24T19:08:04.163Z"
   },
   {
    "duration": 12,
    "start_time": "2022-11-24T19:08:04.399Z"
   },
   {
    "duration": 3,
    "start_time": "2022-11-24T19:08:04.412Z"
   },
   {
    "duration": 7,
    "start_time": "2022-11-24T19:08:04.417Z"
   },
   {
    "duration": 10,
    "start_time": "2022-11-24T19:08:04.426Z"
   },
   {
    "duration": 114,
    "start_time": "2022-11-24T19:08:04.438Z"
   },
   {
    "duration": 59,
    "start_time": "2022-11-24T19:08:04.555Z"
   },
   {
    "duration": 8190,
    "start_time": "2022-11-24T19:08:04.616Z"
   },
   {
    "duration": 99,
    "start_time": "2022-11-24T19:12:26.133Z"
   },
   {
    "duration": 3,
    "start_time": "2022-11-24T19:12:30.846Z"
   },
   {
    "duration": 370,
    "start_time": "2022-11-24T19:12:31.626Z"
   },
   {
    "duration": 604,
    "start_time": "2022-11-24T19:12:32.521Z"
   },
   {
    "duration": 420,
    "start_time": "2022-11-24T19:15:53.461Z"
   },
   {
    "duration": 44,
    "start_time": "2022-11-24T19:17:37.850Z"
   },
   {
    "duration": 6,
    "start_time": "2022-11-24T19:18:01.420Z"
   },
   {
    "duration": 5,
    "start_time": "2022-11-24T19:18:12.587Z"
   },
   {
    "duration": 1261,
    "start_time": "2022-11-24T19:24:42.822Z"
   },
   {
    "duration": 213,
    "start_time": "2022-11-24T19:24:44.085Z"
   },
   {
    "duration": 2,
    "start_time": "2022-11-24T19:24:44.300Z"
   },
   {
    "duration": 110,
    "start_time": "2022-11-24T19:24:44.304Z"
   },
   {
    "duration": 59,
    "start_time": "2022-11-24T19:24:44.416Z"
   },
   {
    "duration": 3,
    "start_time": "2022-11-24T19:24:44.476Z"
   },
   {
    "duration": 506,
    "start_time": "2022-11-24T19:24:44.497Z"
   },
   {
    "duration": 16,
    "start_time": "2022-11-24T19:24:45.005Z"
   },
   {
    "duration": 501,
    "start_time": "2022-11-24T19:24:45.022Z"
   },
   {
    "duration": 10,
    "start_time": "2022-11-24T19:24:45.525Z"
   },
   {
    "duration": 3,
    "start_time": "2022-11-24T19:24:45.537Z"
   },
   {
    "duration": 56,
    "start_time": "2022-11-24T19:24:45.541Z"
   },
   {
    "duration": 46,
    "start_time": "2022-11-24T19:24:45.599Z"
   },
   {
    "duration": 96,
    "start_time": "2022-11-24T19:24:45.646Z"
   },
   {
    "duration": 41,
    "start_time": "2022-11-24T19:24:45.744Z"
   },
   {
    "duration": 7868,
    "start_time": "2022-11-24T19:24:45.787Z"
   },
   {
    "duration": 1257,
    "start_time": "2022-11-24T19:28:19.913Z"
   },
   {
    "duration": 223,
    "start_time": "2022-11-24T19:28:21.172Z"
   },
   {
    "duration": 3,
    "start_time": "2022-11-24T19:28:21.396Z"
   },
   {
    "duration": 107,
    "start_time": "2022-11-24T19:28:21.401Z"
   },
   {
    "duration": 56,
    "start_time": "2022-11-24T19:28:21.510Z"
   },
   {
    "duration": 2,
    "start_time": "2022-11-24T19:28:21.567Z"
   },
   {
    "duration": 517,
    "start_time": "2022-11-24T19:28:21.571Z"
   },
   {
    "duration": 18,
    "start_time": "2022-11-24T19:28:22.090Z"
   },
   {
    "duration": 490,
    "start_time": "2022-11-24T19:28:22.110Z"
   },
   {
    "duration": 10,
    "start_time": "2022-11-24T19:28:22.602Z"
   },
   {
    "duration": 3,
    "start_time": "2022-11-24T19:28:22.613Z"
   },
   {
    "duration": 45,
    "start_time": "2022-11-24T19:28:22.618Z"
   },
   {
    "duration": 61,
    "start_time": "2022-11-24T19:28:22.665Z"
   },
   {
    "duration": 88,
    "start_time": "2022-11-24T19:28:22.727Z"
   },
   {
    "duration": 43,
    "start_time": "2022-11-24T19:28:22.816Z"
   },
   {
    "duration": 7823,
    "start_time": "2022-11-24T19:28:22.860Z"
   },
   {
    "duration": 12,
    "start_time": "2022-11-24T19:28:57.045Z"
   },
   {
    "duration": 1256,
    "start_time": "2022-11-24T19:31:03.960Z"
   },
   {
    "duration": 242,
    "start_time": "2022-11-24T19:31:05.218Z"
   },
   {
    "duration": 4,
    "start_time": "2022-11-24T19:31:05.462Z"
   },
   {
    "duration": 109,
    "start_time": "2022-11-24T19:31:05.469Z"
   },
   {
    "duration": 71,
    "start_time": "2022-11-24T19:31:05.579Z"
   },
   {
    "duration": 3,
    "start_time": "2022-11-24T19:31:05.651Z"
   },
   {
    "duration": 505,
    "start_time": "2022-11-24T19:31:05.656Z"
   },
   {
    "duration": 13,
    "start_time": "2022-11-24T19:31:06.164Z"
   },
   {
    "duration": 480,
    "start_time": "2022-11-24T19:31:06.179Z"
   },
   {
    "duration": 11,
    "start_time": "2022-11-24T19:31:06.662Z"
   },
   {
    "duration": 3,
    "start_time": "2022-11-24T19:31:06.675Z"
   },
   {
    "duration": 62,
    "start_time": "2022-11-24T19:31:06.679Z"
   },
   {
    "duration": 58,
    "start_time": "2022-11-24T19:31:06.743Z"
   },
   {
    "duration": 83,
    "start_time": "2022-11-24T19:31:06.802Z"
   },
   {
    "duration": 43,
    "start_time": "2022-11-24T19:31:06.898Z"
   },
   {
    "duration": 7696,
    "start_time": "2022-11-24T19:31:06.942Z"
   },
   {
    "duration": 14,
    "start_time": "2022-11-24T19:31:14.639Z"
   },
   {
    "duration": 1235,
    "start_time": "2022-11-24T19:33:58.245Z"
   },
   {
    "duration": 218,
    "start_time": "2022-11-24T19:33:59.482Z"
   },
   {
    "duration": 3,
    "start_time": "2022-11-24T19:33:59.702Z"
   },
   {
    "duration": 113,
    "start_time": "2022-11-24T19:33:59.707Z"
   },
   {
    "duration": 53,
    "start_time": "2022-11-24T19:33:59.822Z"
   },
   {
    "duration": 2,
    "start_time": "2022-11-24T19:33:59.877Z"
   },
   {
    "duration": 559,
    "start_time": "2022-11-24T19:33:59.897Z"
   },
   {
    "duration": 15,
    "start_time": "2022-11-24T19:34:00.458Z"
   },
   {
    "duration": 525,
    "start_time": "2022-11-24T19:34:00.475Z"
   },
   {
    "duration": 11,
    "start_time": "2022-11-24T19:34:01.002Z"
   },
   {
    "duration": 20,
    "start_time": "2022-11-24T19:34:01.015Z"
   },
   {
    "duration": 139,
    "start_time": "2022-11-24T19:34:01.036Z"
   },
   {
    "duration": 0,
    "start_time": "2022-11-24T19:34:01.177Z"
   },
   {
    "duration": 0,
    "start_time": "2022-11-24T19:34:01.178Z"
   },
   {
    "duration": 0,
    "start_time": "2022-11-24T19:34:01.179Z"
   },
   {
    "duration": 0,
    "start_time": "2022-11-24T19:34:01.180Z"
   },
   {
    "duration": 0,
    "start_time": "2022-11-24T19:34:01.181Z"
   },
   {
    "duration": 3,
    "start_time": "2022-11-24T19:44:09.009Z"
   },
   {
    "duration": 70,
    "start_time": "2022-11-24T19:44:09.929Z"
   },
   {
    "duration": 42,
    "start_time": "2022-11-24T19:44:12.024Z"
   },
   {
    "duration": 4,
    "start_time": "2022-11-24T19:48:08.347Z"
   },
   {
    "duration": 361,
    "start_time": "2022-11-24T19:48:09.349Z"
   },
   {
    "duration": 54,
    "start_time": "2022-11-24T19:48:10.405Z"
   },
   {
    "duration": 1236,
    "start_time": "2022-11-24T19:48:22.396Z"
   },
   {
    "duration": 219,
    "start_time": "2022-11-24T19:48:23.634Z"
   },
   {
    "duration": 3,
    "start_time": "2022-11-24T19:48:23.854Z"
   },
   {
    "duration": 115,
    "start_time": "2022-11-24T19:48:23.858Z"
   },
   {
    "duration": 64,
    "start_time": "2022-11-24T19:48:23.975Z"
   },
   {
    "duration": 3,
    "start_time": "2022-11-24T19:48:24.040Z"
   },
   {
    "duration": 492,
    "start_time": "2022-11-24T19:48:24.045Z"
   },
   {
    "duration": 13,
    "start_time": "2022-11-24T19:48:24.539Z"
   },
   {
    "duration": 533,
    "start_time": "2022-11-24T19:48:24.553Z"
   },
   {
    "duration": 18,
    "start_time": "2022-11-24T19:48:25.088Z"
   },
   {
    "duration": 3,
    "start_time": "2022-11-24T19:48:25.107Z"
   },
   {
    "duration": 526,
    "start_time": "2022-11-24T19:48:25.112Z"
   },
   {
    "duration": 0,
    "start_time": "2022-11-24T19:48:25.640Z"
   },
   {
    "duration": 0,
    "start_time": "2022-11-24T19:48:25.642Z"
   },
   {
    "duration": 0,
    "start_time": "2022-11-24T19:48:25.643Z"
   },
   {
    "duration": 0,
    "start_time": "2022-11-24T19:48:25.644Z"
   },
   {
    "duration": 0,
    "start_time": "2022-11-24T19:48:25.646Z"
   },
   {
    "duration": 3,
    "start_time": "2022-11-24T20:02:31.607Z"
   },
   {
    "duration": 28,
    "start_time": "2022-11-24T20:02:35.165Z"
   },
   {
    "duration": 1295,
    "start_time": "2022-11-24T20:03:51.676Z"
   },
   {
    "duration": 221,
    "start_time": "2022-11-24T20:03:52.973Z"
   },
   {
    "duration": 4,
    "start_time": "2022-11-24T20:03:53.195Z"
   },
   {
    "duration": 106,
    "start_time": "2022-11-24T20:03:53.201Z"
   },
   {
    "duration": 51,
    "start_time": "2022-11-24T20:03:53.309Z"
   },
   {
    "duration": 3,
    "start_time": "2022-11-24T20:03:53.361Z"
   },
   {
    "duration": 503,
    "start_time": "2022-11-24T20:03:53.365Z"
   },
   {
    "duration": 12,
    "start_time": "2022-11-24T20:03:53.869Z"
   },
   {
    "duration": 479,
    "start_time": "2022-11-24T20:03:53.882Z"
   },
   {
    "duration": 10,
    "start_time": "2022-11-24T20:03:54.363Z"
   },
   {
    "duration": 6,
    "start_time": "2022-11-24T20:03:54.374Z"
   },
   {
    "duration": 48,
    "start_time": "2022-11-24T20:03:54.381Z"
   },
   {
    "duration": 11,
    "start_time": "2022-11-24T20:03:54.431Z"
   },
   {
    "duration": 9,
    "start_time": "2022-11-24T20:03:54.443Z"
   },
   {
    "duration": 19,
    "start_time": "2022-11-24T20:03:54.453Z"
   },
   {
    "duration": 30,
    "start_time": "2022-11-24T20:03:54.474Z"
   },
   {
    "duration": 8,
    "start_time": "2022-11-24T20:03:54.505Z"
   },
   {
    "duration": 1348,
    "start_time": "2022-11-24T20:04:29.433Z"
   },
   {
    "duration": 247,
    "start_time": "2022-11-24T20:04:30.783Z"
   },
   {
    "duration": 3,
    "start_time": "2022-11-24T20:04:31.031Z"
   },
   {
    "duration": 145,
    "start_time": "2022-11-24T20:04:31.036Z"
   },
   {
    "duration": 66,
    "start_time": "2022-11-24T20:04:31.183Z"
   },
   {
    "duration": 3,
    "start_time": "2022-11-24T20:04:31.252Z"
   },
   {
    "duration": 561,
    "start_time": "2022-11-24T20:04:31.257Z"
   },
   {
    "duration": 15,
    "start_time": "2022-11-24T20:04:31.819Z"
   },
   {
    "duration": 556,
    "start_time": "2022-11-24T20:04:31.835Z"
   },
   {
    "duration": 12,
    "start_time": "2022-11-24T20:04:32.399Z"
   },
   {
    "duration": 4,
    "start_time": "2022-11-24T20:04:32.412Z"
   },
   {
    "duration": 40,
    "start_time": "2022-11-24T20:04:32.417Z"
   },
   {
    "duration": 12,
    "start_time": "2022-11-24T20:04:32.458Z"
   },
   {
    "duration": 34,
    "start_time": "2022-11-24T20:04:32.472Z"
   },
   {
    "duration": 14,
    "start_time": "2022-11-24T20:04:32.507Z"
   },
   {
    "duration": 25,
    "start_time": "2022-11-24T20:04:32.523Z"
   },
   {
    "duration": 9,
    "start_time": "2022-11-24T20:04:32.551Z"
   },
   {
    "duration": 7,
    "start_time": "2022-11-24T20:06:43.760Z"
   },
   {
    "duration": 1284,
    "start_time": "2022-11-24T20:06:51.185Z"
   },
   {
    "duration": 222,
    "start_time": "2022-11-24T20:06:52.471Z"
   },
   {
    "duration": 4,
    "start_time": "2022-11-24T20:06:52.694Z"
   },
   {
    "duration": 107,
    "start_time": "2022-11-24T20:06:52.700Z"
   },
   {
    "duration": 55,
    "start_time": "2022-11-24T20:06:52.809Z"
   },
   {
    "duration": 2,
    "start_time": "2022-11-24T20:06:52.866Z"
   },
   {
    "duration": 532,
    "start_time": "2022-11-24T20:06:52.870Z"
   },
   {
    "duration": 14,
    "start_time": "2022-11-24T20:06:53.404Z"
   },
   {
    "duration": 488,
    "start_time": "2022-11-24T20:06:53.420Z"
   },
   {
    "duration": 12,
    "start_time": "2022-11-24T20:06:53.910Z"
   },
   {
    "duration": 48,
    "start_time": "2022-11-24T20:06:53.923Z"
   },
   {
    "duration": 16,
    "start_time": "2022-11-24T20:06:53.973Z"
   },
   {
    "duration": 43,
    "start_time": "2022-11-24T20:06:53.991Z"
   },
   {
    "duration": 12,
    "start_time": "2022-11-24T20:06:54.036Z"
   },
   {
    "duration": 19,
    "start_time": "2022-11-24T20:06:54.049Z"
   },
   {
    "duration": 32,
    "start_time": "2022-11-24T20:06:54.070Z"
   },
   {
    "duration": 35,
    "start_time": "2022-11-24T20:06:54.103Z"
   },
   {
    "duration": 8,
    "start_time": "2022-11-24T20:06:54.139Z"
   },
   {
    "duration": 1263,
    "start_time": "2022-11-24T20:08:51.300Z"
   },
   {
    "duration": 220,
    "start_time": "2022-11-24T20:08:52.564Z"
   },
   {
    "duration": 4,
    "start_time": "2022-11-24T20:08:52.785Z"
   },
   {
    "duration": 99,
    "start_time": "2022-11-24T20:08:52.790Z"
   },
   {
    "duration": 61,
    "start_time": "2022-11-24T20:08:52.891Z"
   },
   {
    "duration": 2,
    "start_time": "2022-11-24T20:08:52.954Z"
   },
   {
    "duration": 514,
    "start_time": "2022-11-24T20:08:52.957Z"
   },
   {
    "duration": 13,
    "start_time": "2022-11-24T20:08:53.472Z"
   },
   {
    "duration": 487,
    "start_time": "2022-11-24T20:08:53.486Z"
   },
   {
    "duration": 10,
    "start_time": "2022-11-24T20:08:53.975Z"
   },
   {
    "duration": 15,
    "start_time": "2022-11-24T20:08:53.987Z"
   },
   {
    "duration": 4,
    "start_time": "2022-11-24T20:08:54.003Z"
   },
   {
    "duration": 50,
    "start_time": "2022-11-24T20:08:54.008Z"
   },
   {
    "duration": 58,
    "start_time": "2022-11-24T20:08:54.060Z"
   },
   {
    "duration": 62,
    "start_time": "2022-11-24T20:08:54.120Z"
   },
   {
    "duration": 39,
    "start_time": "2022-11-24T20:08:54.184Z"
   },
   {
    "duration": 5263,
    "start_time": "2022-11-24T20:08:54.225Z"
   },
   {
    "duration": 10,
    "start_time": "2022-11-24T20:08:59.497Z"
   },
   {
    "duration": 12,
    "start_time": "2022-11-24T20:12:54.039Z"
   },
   {
    "duration": 1242,
    "start_time": "2022-11-24T20:14:16.117Z"
   },
   {
    "duration": 224,
    "start_time": "2022-11-24T20:14:17.361Z"
   },
   {
    "duration": 3,
    "start_time": "2022-11-24T20:14:17.587Z"
   },
   {
    "duration": 101,
    "start_time": "2022-11-24T20:14:17.592Z"
   },
   {
    "duration": 56,
    "start_time": "2022-11-24T20:14:17.698Z"
   },
   {
    "duration": 4,
    "start_time": "2022-11-24T20:14:17.756Z"
   },
   {
    "duration": 543,
    "start_time": "2022-11-24T20:14:17.762Z"
   },
   {
    "duration": 12,
    "start_time": "2022-11-24T20:14:18.306Z"
   },
   {
    "duration": 490,
    "start_time": "2022-11-24T20:14:18.320Z"
   },
   {
    "duration": 10,
    "start_time": "2022-11-24T20:14:18.812Z"
   },
   {
    "duration": 3,
    "start_time": "2022-11-24T20:14:18.823Z"
   },
   {
    "duration": 47,
    "start_time": "2022-11-24T20:14:18.827Z"
   },
   {
    "duration": 80,
    "start_time": "2022-11-24T20:14:18.875Z"
   },
   {
    "duration": 47,
    "start_time": "2022-11-24T20:14:18.956Z"
   },
   {
    "duration": 5237,
    "start_time": "2022-11-24T20:14:19.004Z"
   },
   {
    "duration": 3686,
    "start_time": "2022-11-24T20:18:11.486Z"
   },
   {
    "duration": 5352,
    "start_time": "2022-11-24T20:19:20.084Z"
   },
   {
    "duration": 5774,
    "start_time": "2022-11-24T20:26:34.715Z"
   },
   {
    "duration": 896,
    "start_time": "2022-11-24T20:59:55.216Z"
   },
   {
    "duration": 1336,
    "start_time": "2022-11-24T21:00:06.428Z"
   },
   {
    "duration": 270,
    "start_time": "2022-11-24T21:00:07.766Z"
   },
   {
    "duration": 3,
    "start_time": "2022-11-24T21:00:08.038Z"
   },
   {
    "duration": 136,
    "start_time": "2022-11-24T21:00:08.043Z"
   },
   {
    "duration": 70,
    "start_time": "2022-11-24T21:00:08.180Z"
   },
   {
    "duration": 2,
    "start_time": "2022-11-24T21:00:08.252Z"
   },
   {
    "duration": 633,
    "start_time": "2022-11-24T21:00:08.256Z"
   },
   {
    "duration": 15,
    "start_time": "2022-11-24T21:00:08.897Z"
   },
   {
    "duration": 515,
    "start_time": "2022-11-24T21:00:08.914Z"
   },
   {
    "duration": 10,
    "start_time": "2022-11-24T21:00:09.431Z"
   },
   {
    "duration": 4,
    "start_time": "2022-11-24T21:00:09.443Z"
   },
   {
    "duration": 70,
    "start_time": "2022-11-24T21:00:09.449Z"
   },
   {
    "duration": 99,
    "start_time": "2022-11-24T21:00:09.520Z"
   },
   {
    "duration": 1123,
    "start_time": "2022-11-24T21:00:09.621Z"
   },
   {
    "duration": 0,
    "start_time": "2022-11-24T21:00:10.745Z"
   },
   {
    "duration": 0,
    "start_time": "2022-11-24T21:00:10.746Z"
   },
   {
    "duration": 0,
    "start_time": "2022-11-24T21:00:10.747Z"
   },
   {
    "duration": 0,
    "start_time": "2022-11-24T21:00:10.748Z"
   },
   {
    "duration": 5,
    "start_time": "2022-11-24T21:00:32.219Z"
   },
   {
    "duration": 5,
    "start_time": "2022-11-24T21:03:10.734Z"
   },
   {
    "duration": 4,
    "start_time": "2022-11-24T21:17:56.299Z"
   },
   {
    "duration": 13,
    "start_time": "2022-11-24T21:18:32.580Z"
   },
   {
    "duration": 5,
    "start_time": "2022-11-24T21:18:47.430Z"
   },
   {
    "duration": 4,
    "start_time": "2022-11-24T21:18:57.229Z"
   },
   {
    "duration": 5,
    "start_time": "2022-11-24T21:19:21.931Z"
   },
   {
    "duration": 6,
    "start_time": "2022-11-24T21:22:50.314Z"
   },
   {
    "duration": 6,
    "start_time": "2022-11-24T21:23:34.354Z"
   },
   {
    "duration": 6,
    "start_time": "2022-11-24T21:24:29.949Z"
   },
   {
    "duration": 6,
    "start_time": "2022-11-24T21:24:39.026Z"
   },
   {
    "duration": 5,
    "start_time": "2022-11-24T21:24:43.343Z"
   },
   {
    "duration": 5,
    "start_time": "2022-11-24T21:24:48.354Z"
   },
   {
    "duration": 6,
    "start_time": "2022-11-24T21:25:06.460Z"
   },
   {
    "duration": 6,
    "start_time": "2022-11-24T21:25:13.336Z"
   },
   {
    "duration": 5,
    "start_time": "2022-11-24T21:25:54.638Z"
   },
   {
    "duration": 5,
    "start_time": "2022-11-24T21:26:00.768Z"
   },
   {
    "duration": 5,
    "start_time": "2022-11-24T21:26:05.899Z"
   },
   {
    "duration": 5,
    "start_time": "2022-11-24T21:26:13.316Z"
   },
   {
    "duration": 5,
    "start_time": "2022-11-24T21:27:31.268Z"
   },
   {
    "duration": 5,
    "start_time": "2022-11-24T21:27:37.727Z"
   },
   {
    "duration": 6,
    "start_time": "2022-11-24T21:27:41.725Z"
   },
   {
    "duration": 7,
    "start_time": "2022-11-24T21:27:47.170Z"
   },
   {
    "duration": 7,
    "start_time": "2022-11-24T21:27:52.314Z"
   },
   {
    "duration": 7,
    "start_time": "2022-11-24T21:27:57.140Z"
   },
   {
    "duration": 71,
    "start_time": "2022-11-24T21:28:13.060Z"
   },
   {
    "duration": 5,
    "start_time": "2022-11-24T21:28:20.536Z"
   },
   {
    "duration": 6,
    "start_time": "2022-11-24T21:28:32.386Z"
   },
   {
    "duration": 6,
    "start_time": "2022-11-24T21:28:36.751Z"
   },
   {
    "duration": 5,
    "start_time": "2022-11-24T21:28:41.672Z"
   },
   {
    "duration": 4,
    "start_time": "2022-11-24T21:28:47.716Z"
   },
   {
    "duration": 5,
    "start_time": "2022-11-24T21:28:52.016Z"
   },
   {
    "duration": 4,
    "start_time": "2022-11-24T21:28:56.114Z"
   },
   {
    "duration": 5,
    "start_time": "2022-11-24T21:29:06.812Z"
   },
   {
    "duration": 5,
    "start_time": "2022-11-24T21:29:11.639Z"
   },
   {
    "duration": 15,
    "start_time": "2022-11-24T21:29:20.117Z"
   },
   {
    "duration": 5,
    "start_time": "2022-11-24T21:29:23.436Z"
   },
   {
    "duration": 5,
    "start_time": "2022-11-24T21:29:29.170Z"
   },
   {
    "duration": 5,
    "start_time": "2022-11-24T21:30:29.419Z"
   },
   {
    "duration": 6,
    "start_time": "2022-11-24T21:30:35.192Z"
   },
   {
    "duration": 6,
    "start_time": "2022-11-24T21:30:39.327Z"
   },
   {
    "duration": 5,
    "start_time": "2022-11-24T21:31:20.783Z"
   },
   {
    "duration": 7,
    "start_time": "2022-11-24T21:31:27.126Z"
   },
   {
    "duration": 6,
    "start_time": "2022-11-24T21:31:31.344Z"
   },
   {
    "duration": 6,
    "start_time": "2022-11-24T21:31:35.086Z"
   },
   {
    "duration": 7,
    "start_time": "2022-11-24T21:32:32.185Z"
   },
   {
    "duration": 6,
    "start_time": "2022-11-24T21:32:37.923Z"
   },
   {
    "duration": 5,
    "start_time": "2022-11-24T21:32:43.533Z"
   },
   {
    "duration": 5,
    "start_time": "2022-11-24T21:33:13.877Z"
   },
   {
    "duration": 5,
    "start_time": "2022-11-24T21:33:20.437Z"
   },
   {
    "duration": 6,
    "start_time": "2022-11-24T21:33:24.524Z"
   },
   {
    "duration": 5,
    "start_time": "2022-11-24T21:33:33.558Z"
   },
   {
    "duration": 5,
    "start_time": "2022-11-24T21:34:14.272Z"
   },
   {
    "duration": 7,
    "start_time": "2022-11-24T21:38:42.272Z"
   },
   {
    "duration": 7,
    "start_time": "2022-11-24T21:38:51.113Z"
   },
   {
    "duration": 9,
    "start_time": "2022-11-24T21:38:58.516Z"
   },
   {
    "duration": 11,
    "start_time": "2022-11-25T20:22:05.521Z"
   },
   {
    "duration": 1658,
    "start_time": "2022-11-25T20:22:10.630Z"
   },
   {
    "duration": 457,
    "start_time": "2022-11-25T20:22:12.290Z"
   },
   {
    "duration": 5,
    "start_time": "2022-11-25T20:22:12.749Z"
   },
   {
    "duration": 108,
    "start_time": "2022-11-25T20:22:12.757Z"
   },
   {
    "duration": 62,
    "start_time": "2022-11-25T20:22:12.867Z"
   },
   {
    "duration": 3,
    "start_time": "2022-11-25T20:22:12.931Z"
   },
   {
    "duration": 560,
    "start_time": "2022-11-25T20:22:12.936Z"
   },
   {
    "duration": 25,
    "start_time": "2022-11-25T20:22:13.497Z"
   },
   {
    "duration": 554,
    "start_time": "2022-11-25T20:22:13.523Z"
   },
   {
    "duration": 13,
    "start_time": "2022-11-25T20:22:14.079Z"
   },
   {
    "duration": 18,
    "start_time": "2022-11-25T20:22:14.094Z"
   },
   {
    "duration": 50,
    "start_time": "2022-11-25T20:22:14.114Z"
   },
   {
    "duration": 115,
    "start_time": "2022-11-25T20:22:14.166Z"
   },
   {
    "duration": 4,
    "start_time": "2022-11-25T20:22:14.283Z"
   },
   {
    "duration": 7,
    "start_time": "2022-11-25T20:22:14.288Z"
   },
   {
    "duration": 128,
    "start_time": "2022-11-25T20:22:14.296Z"
   },
   {
    "duration": 0,
    "start_time": "2022-11-25T20:22:14.426Z"
   },
   {
    "duration": 0,
    "start_time": "2022-11-25T20:22:14.427Z"
   },
   {
    "duration": 7,
    "start_time": "2022-11-25T20:22:46.758Z"
   },
   {
    "duration": 8,
    "start_time": "2022-11-25T20:23:37.685Z"
   },
   {
    "duration": 9,
    "start_time": "2022-11-25T20:24:50.713Z"
   },
   {
    "duration": 9,
    "start_time": "2022-11-25T20:25:30.708Z"
   },
   {
    "duration": 7,
    "start_time": "2022-11-25T20:25:43.020Z"
   },
   {
    "duration": 7,
    "start_time": "2022-11-25T20:25:48.349Z"
   },
   {
    "duration": 5,
    "start_time": "2022-11-25T20:26:35.978Z"
   },
   {
    "duration": 8,
    "start_time": "2022-11-25T20:26:36.969Z"
   },
   {
    "duration": 7,
    "start_time": "2022-11-25T20:26:44.783Z"
   },
   {
    "duration": 3,
    "start_time": "2022-11-25T20:50:32.060Z"
   },
   {
    "duration": 9,
    "start_time": "2022-11-25T20:50:32.277Z"
   },
   {
    "duration": 63,
    "start_time": "2022-11-25T21:23:14.157Z"
   },
   {
    "duration": 3,
    "start_time": "2022-11-25T21:23:21.668Z"
   },
   {
    "duration": 26,
    "start_time": "2022-11-25T21:27:16.635Z"
   },
   {
    "duration": 20,
    "start_time": "2022-11-25T21:31:38.623Z"
   },
   {
    "duration": 3,
    "start_time": "2022-11-25T21:33:00.806Z"
   },
   {
    "duration": 3,
    "start_time": "2022-11-25T21:33:02.255Z"
   },
   {
    "duration": 23,
    "start_time": "2022-11-25T21:33:03.468Z"
   },
   {
    "duration": 17,
    "start_time": "2022-11-25T21:35:03.210Z"
   },
   {
    "duration": 20,
    "start_time": "2022-11-25T21:35:53.892Z"
   },
   {
    "duration": 12,
    "start_time": "2022-11-25T21:37:08.798Z"
   },
   {
    "duration": 1396,
    "start_time": "2022-11-25T21:37:35.556Z"
   },
   {
    "duration": 238,
    "start_time": "2022-11-25T21:37:36.954Z"
   },
   {
    "duration": 4,
    "start_time": "2022-11-25T21:37:37.193Z"
   },
   {
    "duration": 104,
    "start_time": "2022-11-25T21:37:37.200Z"
   },
   {
    "duration": 61,
    "start_time": "2022-11-25T21:37:37.306Z"
   },
   {
    "duration": 4,
    "start_time": "2022-11-25T21:37:37.369Z"
   },
   {
    "duration": 570,
    "start_time": "2022-11-25T21:37:37.375Z"
   },
   {
    "duration": 15,
    "start_time": "2022-11-25T21:37:37.947Z"
   },
   {
    "duration": 560,
    "start_time": "2022-11-25T21:37:37.963Z"
   },
   {
    "duration": 12,
    "start_time": "2022-11-25T21:37:38.526Z"
   },
   {
    "duration": 3,
    "start_time": "2022-11-25T21:37:38.539Z"
   },
   {
    "duration": 69,
    "start_time": "2022-11-25T21:37:38.544Z"
   },
   {
    "duration": 103,
    "start_time": "2022-11-25T21:37:38.614Z"
   },
   {
    "duration": 4,
    "start_time": "2022-11-25T21:37:38.719Z"
   },
   {
    "duration": 8,
    "start_time": "2022-11-25T21:37:38.725Z"
   },
   {
    "duration": 14,
    "start_time": "2022-11-25T21:37:38.734Z"
   },
   {
    "duration": 90,
    "start_time": "2022-11-25T21:37:38.750Z"
   },
   {
    "duration": 41,
    "start_time": "2022-11-25T21:37:38.843Z"
   },
   {
    "duration": 11,
    "start_time": "2022-11-25T21:38:08.641Z"
   },
   {
    "duration": 118,
    "start_time": "2022-11-25T21:39:18.664Z"
   },
   {
    "duration": 17,
    "start_time": "2022-11-25T21:42:53.192Z"
   },
   {
    "duration": 19,
    "start_time": "2022-11-25T21:43:55.751Z"
   },
   {
    "duration": 19,
    "start_time": "2022-11-25T21:54:14.061Z"
   },
   {
    "duration": 12,
    "start_time": "2022-11-25T21:57:25.022Z"
   },
   {
    "duration": 10,
    "start_time": "2022-11-25T21:59:14.455Z"
   },
   {
    "duration": 10,
    "start_time": "2022-11-25T22:00:32.762Z"
   },
   {
    "duration": 11,
    "start_time": "2022-11-25T22:01:13.812Z"
   },
   {
    "duration": 706,
    "start_time": "2022-11-25T22:05:39.208Z"
   },
   {
    "duration": 1478,
    "start_time": "2022-11-25T22:06:22.198Z"
   },
   {
    "duration": 245,
    "start_time": "2022-11-25T22:06:23.678Z"
   },
   {
    "duration": 4,
    "start_time": "2022-11-25T22:06:23.924Z"
   },
   {
    "duration": 115,
    "start_time": "2022-11-25T22:06:23.929Z"
   },
   {
    "duration": 66,
    "start_time": "2022-11-25T22:06:24.046Z"
   },
   {
    "duration": 3,
    "start_time": "2022-11-25T22:06:24.114Z"
   },
   {
    "duration": 581,
    "start_time": "2022-11-25T22:06:24.118Z"
   },
   {
    "duration": 20,
    "start_time": "2022-11-25T22:06:24.701Z"
   },
   {
    "duration": 568,
    "start_time": "2022-11-25T22:06:24.723Z"
   },
   {
    "duration": 19,
    "start_time": "2022-11-25T22:06:25.294Z"
   },
   {
    "duration": 3,
    "start_time": "2022-11-25T22:06:25.315Z"
   },
   {
    "duration": 57,
    "start_time": "2022-11-25T22:06:25.319Z"
   },
   {
    "duration": 111,
    "start_time": "2022-11-25T22:06:25.378Z"
   },
   {
    "duration": 3,
    "start_time": "2022-11-25T22:06:25.491Z"
   },
   {
    "duration": 16,
    "start_time": "2022-11-25T22:06:25.496Z"
   },
   {
    "duration": 7,
    "start_time": "2022-11-25T22:06:25.514Z"
   },
   {
    "duration": 127,
    "start_time": "2022-11-25T22:06:25.522Z"
   },
   {
    "duration": 0,
    "start_time": "2022-11-25T22:06:25.650Z"
   },
   {
    "duration": 0,
    "start_time": "2022-11-25T22:06:25.652Z"
   },
   {
    "duration": 0,
    "start_time": "2022-11-25T22:06:25.653Z"
   },
   {
    "duration": 1433,
    "start_time": "2022-11-25T22:07:07.296Z"
   },
   {
    "duration": 235,
    "start_time": "2022-11-25T22:07:08.731Z"
   },
   {
    "duration": 3,
    "start_time": "2022-11-25T22:07:08.968Z"
   },
   {
    "duration": 123,
    "start_time": "2022-11-25T22:07:08.973Z"
   },
   {
    "duration": 62,
    "start_time": "2022-11-25T22:07:09.099Z"
   },
   {
    "duration": 3,
    "start_time": "2022-11-25T22:07:09.162Z"
   },
   {
    "duration": 569,
    "start_time": "2022-11-25T22:07:09.167Z"
   },
   {
    "duration": 14,
    "start_time": "2022-11-25T22:07:09.738Z"
   },
   {
    "duration": 532,
    "start_time": "2022-11-25T22:07:09.753Z"
   },
   {
    "duration": 12,
    "start_time": "2022-11-25T22:07:10.286Z"
   },
   {
    "duration": 17,
    "start_time": "2022-11-25T22:07:10.299Z"
   },
   {
    "duration": 63,
    "start_time": "2022-11-25T22:07:10.318Z"
   },
   {
    "duration": 94,
    "start_time": "2022-11-25T22:07:10.382Z"
   },
   {
    "duration": 4,
    "start_time": "2022-11-25T22:07:10.479Z"
   },
   {
    "duration": 18,
    "start_time": "2022-11-25T22:07:10.484Z"
   },
   {
    "duration": 15,
    "start_time": "2022-11-25T22:07:10.504Z"
   },
   {
    "duration": 136,
    "start_time": "2022-11-25T22:07:10.520Z"
   },
   {
    "duration": 0,
    "start_time": "2022-11-25T22:07:10.658Z"
   },
   {
    "duration": 0,
    "start_time": "2022-11-25T22:07:10.659Z"
   },
   {
    "duration": 0,
    "start_time": "2022-11-25T22:07:10.660Z"
   },
   {
    "duration": 47,
    "start_time": "2022-11-25T22:16:49.612Z"
   },
   {
    "duration": 22,
    "start_time": "2022-11-25T22:17:41.991Z"
   },
   {
    "duration": 1320,
    "start_time": "2022-11-25T22:17:52.219Z"
   },
   {
    "duration": 222,
    "start_time": "2022-11-25T22:17:53.541Z"
   },
   {
    "duration": 3,
    "start_time": "2022-11-25T22:17:53.765Z"
   },
   {
    "duration": 106,
    "start_time": "2022-11-25T22:17:53.770Z"
   },
   {
    "duration": 63,
    "start_time": "2022-11-25T22:17:53.877Z"
   },
   {
    "duration": 3,
    "start_time": "2022-11-25T22:17:53.941Z"
   },
   {
    "duration": 567,
    "start_time": "2022-11-25T22:17:53.945Z"
   },
   {
    "duration": 14,
    "start_time": "2022-11-25T22:17:54.514Z"
   },
   {
    "duration": 567,
    "start_time": "2022-11-25T22:17:54.529Z"
   },
   {
    "duration": 17,
    "start_time": "2022-11-25T22:17:55.099Z"
   },
   {
    "duration": 4,
    "start_time": "2022-11-25T22:17:55.117Z"
   },
   {
    "duration": 55,
    "start_time": "2022-11-25T22:17:55.122Z"
   },
   {
    "duration": 107,
    "start_time": "2022-11-25T22:17:55.179Z"
   },
   {
    "duration": 4,
    "start_time": "2022-11-25T22:17:55.287Z"
   },
   {
    "duration": 6,
    "start_time": "2022-11-25T22:17:55.293Z"
   },
   {
    "duration": 8,
    "start_time": "2022-11-25T22:17:55.311Z"
   },
   {
    "duration": 128,
    "start_time": "2022-11-25T22:17:55.320Z"
   },
   {
    "duration": 0,
    "start_time": "2022-11-25T22:17:55.450Z"
   },
   {
    "duration": 0,
    "start_time": "2022-11-25T22:17:55.452Z"
   },
   {
    "duration": 0,
    "start_time": "2022-11-25T22:17:55.452Z"
   },
   {
    "duration": 9,
    "start_time": "2022-11-25T22:18:41.154Z"
   },
   {
    "duration": 18,
    "start_time": "2022-11-25T22:18:47.392Z"
   },
   {
    "duration": 2,
    "start_time": "2022-11-25T22:20:10.512Z"
   },
   {
    "duration": 47,
    "start_time": "2022-11-25T22:20:18.391Z"
   },
   {
    "duration": 1375,
    "start_time": "2022-11-25T22:20:39.079Z"
   },
   {
    "duration": 228,
    "start_time": "2022-11-25T22:20:40.456Z"
   },
   {
    "duration": 4,
    "start_time": "2022-11-25T22:20:40.686Z"
   },
   {
    "duration": 111,
    "start_time": "2022-11-25T22:20:40.691Z"
   },
   {
    "duration": 57,
    "start_time": "2022-11-25T22:20:40.805Z"
   },
   {
    "duration": 3,
    "start_time": "2022-11-25T22:20:40.864Z"
   },
   {
    "duration": 564,
    "start_time": "2022-11-25T22:20:40.868Z"
   },
   {
    "duration": 14,
    "start_time": "2022-11-25T22:20:41.434Z"
   },
   {
    "duration": 606,
    "start_time": "2022-11-25T22:20:41.450Z"
   },
   {
    "duration": 13,
    "start_time": "2022-11-25T22:20:42.057Z"
   },
   {
    "duration": 3,
    "start_time": "2022-11-25T22:20:42.072Z"
   },
   {
    "duration": 71,
    "start_time": "2022-11-25T22:20:42.077Z"
   },
   {
    "duration": 123,
    "start_time": "2022-11-25T22:20:42.150Z"
   },
   {
    "duration": 4,
    "start_time": "2022-11-25T22:20:42.276Z"
   },
   {
    "duration": 5,
    "start_time": "2022-11-25T22:20:42.282Z"
   },
   {
    "duration": 26,
    "start_time": "2022-11-25T22:20:42.289Z"
   },
   {
    "duration": 186,
    "start_time": "2022-11-25T22:20:42.317Z"
   },
   {
    "duration": 0,
    "start_time": "2022-11-25T22:20:42.505Z"
   },
   {
    "duration": 0,
    "start_time": "2022-11-25T22:20:42.507Z"
   },
   {
    "duration": 0,
    "start_time": "2022-11-25T22:20:42.512Z"
   },
   {
    "duration": 8,
    "start_time": "2022-11-25T22:22:16.681Z"
   },
   {
    "duration": 60,
    "start_time": "2022-11-25T22:26:04.907Z"
   },
   {
    "duration": 8,
    "start_time": "2022-11-25T22:26:12.814Z"
   },
   {
    "duration": 69,
    "start_time": "2022-11-25T22:26:53.847Z"
   },
   {
    "duration": 9,
    "start_time": "2022-11-25T22:26:56.054Z"
   },
   {
    "duration": 1409,
    "start_time": "2022-11-25T22:27:11.976Z"
   },
   {
    "duration": 243,
    "start_time": "2022-11-25T22:27:13.387Z"
   },
   {
    "duration": 4,
    "start_time": "2022-11-25T22:27:13.631Z"
   },
   {
    "duration": 119,
    "start_time": "2022-11-25T22:27:13.637Z"
   },
   {
    "duration": 61,
    "start_time": "2022-11-25T22:27:13.758Z"
   },
   {
    "duration": 3,
    "start_time": "2022-11-25T22:27:13.821Z"
   },
   {
    "duration": 555,
    "start_time": "2022-11-25T22:27:13.825Z"
   },
   {
    "duration": 13,
    "start_time": "2022-11-25T22:27:14.381Z"
   },
   {
    "duration": 542,
    "start_time": "2022-11-25T22:27:14.396Z"
   },
   {
    "duration": 12,
    "start_time": "2022-11-25T22:27:14.940Z"
   },
   {
    "duration": 132,
    "start_time": "2022-11-25T22:27:14.953Z"
   },
   {
    "duration": 10,
    "start_time": "2022-11-25T22:27:15.087Z"
   },
   {
    "duration": 14,
    "start_time": "2022-11-25T22:27:15.098Z"
   },
   {
    "duration": 47,
    "start_time": "2022-11-25T22:27:15.115Z"
   },
   {
    "duration": 106,
    "start_time": "2022-11-25T22:27:15.164Z"
   },
   {
    "duration": 4,
    "start_time": "2022-11-25T22:27:15.272Z"
   },
   {
    "duration": 6,
    "start_time": "2022-11-25T22:27:15.277Z"
   },
   {
    "duration": 8,
    "start_time": "2022-11-25T22:27:15.284Z"
   },
   {
    "duration": 165,
    "start_time": "2022-11-25T22:27:15.293Z"
   },
   {
    "duration": 0,
    "start_time": "2022-11-25T22:27:15.459Z"
   },
   {
    "duration": 0,
    "start_time": "2022-11-25T22:27:15.461Z"
   },
   {
    "duration": 0,
    "start_time": "2022-11-25T22:27:15.462Z"
   },
   {
    "duration": 29,
    "start_time": "2022-11-25T22:27:44.848Z"
   },
   {
    "duration": 6,
    "start_time": "2022-11-25T22:27:46.059Z"
   },
   {
    "duration": 1341,
    "start_time": "2022-11-25T22:27:50.237Z"
   },
   {
    "duration": 239,
    "start_time": "2022-11-25T22:27:51.580Z"
   },
   {
    "duration": 4,
    "start_time": "2022-11-25T22:27:51.820Z"
   },
   {
    "duration": 117,
    "start_time": "2022-11-25T22:27:51.825Z"
   },
   {
    "duration": 75,
    "start_time": "2022-11-25T22:27:51.944Z"
   },
   {
    "duration": 3,
    "start_time": "2022-11-25T22:27:52.021Z"
   },
   {
    "duration": 581,
    "start_time": "2022-11-25T22:27:52.026Z"
   },
   {
    "duration": 16,
    "start_time": "2022-11-25T22:27:52.608Z"
   },
   {
    "duration": 536,
    "start_time": "2022-11-25T22:27:52.625Z"
   },
   {
    "duration": 13,
    "start_time": "2022-11-25T22:27:53.162Z"
   },
   {
    "duration": 44,
    "start_time": "2022-11-25T22:27:53.177Z"
   },
   {
    "duration": 7,
    "start_time": "2022-11-25T22:27:53.223Z"
   },
   {
    "duration": 3,
    "start_time": "2022-11-25T22:27:53.232Z"
   },
   {
    "duration": 50,
    "start_time": "2022-11-25T22:27:53.238Z"
   },
   {
    "duration": 116,
    "start_time": "2022-11-25T22:27:53.289Z"
   },
   {
    "duration": 3,
    "start_time": "2022-11-25T22:27:53.412Z"
   },
   {
    "duration": 7,
    "start_time": "2022-11-25T22:27:53.416Z"
   },
   {
    "duration": 8,
    "start_time": "2022-11-25T22:27:53.425Z"
   },
   {
    "duration": 812,
    "start_time": "2022-11-25T22:27:53.435Z"
   },
   {
    "duration": 2,
    "start_time": "2022-11-25T22:27:54.249Z"
   },
   {
    "duration": 75,
    "start_time": "2022-11-25T22:27:54.253Z"
   },
   {
    "duration": 33,
    "start_time": "2022-11-25T22:27:54.330Z"
   },
   {
    "duration": 794,
    "start_time": "2022-11-25T22:29:43.792Z"
   },
   {
    "duration": 1324,
    "start_time": "2022-11-25T22:30:00.572Z"
   },
   {
    "duration": 236,
    "start_time": "2022-11-25T22:30:01.898Z"
   },
   {
    "duration": 4,
    "start_time": "2022-11-25T22:30:02.136Z"
   },
   {
    "duration": 125,
    "start_time": "2022-11-25T22:30:02.142Z"
   },
   {
    "duration": 67,
    "start_time": "2022-11-25T22:30:02.268Z"
   },
   {
    "duration": 3,
    "start_time": "2022-11-25T22:30:02.337Z"
   },
   {
    "duration": 566,
    "start_time": "2022-11-25T22:30:02.342Z"
   },
   {
    "duration": 14,
    "start_time": "2022-11-25T22:30:02.913Z"
   },
   {
    "duration": 566,
    "start_time": "2022-11-25T22:30:02.930Z"
   },
   {
    "duration": 12,
    "start_time": "2022-11-25T22:30:03.512Z"
   },
   {
    "duration": 58,
    "start_time": "2022-11-25T22:30:03.526Z"
   },
   {
    "duration": 43,
    "start_time": "2022-11-25T22:30:03.586Z"
   },
   {
    "duration": 34,
    "start_time": "2022-11-25T22:30:03.631Z"
   },
   {
    "duration": 84,
    "start_time": "2022-11-25T22:30:03.667Z"
   },
   {
    "duration": 102,
    "start_time": "2022-11-25T22:30:03.753Z"
   },
   {
    "duration": 3,
    "start_time": "2022-11-25T22:30:03.858Z"
   },
   {
    "duration": 38,
    "start_time": "2022-11-25T22:30:03.863Z"
   },
   {
    "duration": 26,
    "start_time": "2022-11-25T22:30:03.903Z"
   },
   {
    "duration": 846,
    "start_time": "2022-11-25T22:30:03.931Z"
   },
   {
    "duration": 3,
    "start_time": "2022-11-25T22:30:04.779Z"
   },
   {
    "duration": 110,
    "start_time": "2022-11-25T22:30:04.784Z"
   },
   {
    "duration": 34,
    "start_time": "2022-11-25T22:30:04.896Z"
   },
   {
    "duration": 1405,
    "start_time": "2022-11-25T22:33:13.080Z"
   },
   {
    "duration": 241,
    "start_time": "2022-11-25T22:33:14.487Z"
   },
   {
    "duration": 4,
    "start_time": "2022-11-25T22:33:14.729Z"
   },
   {
    "duration": 145,
    "start_time": "2022-11-25T22:33:14.735Z"
   },
   {
    "duration": 76,
    "start_time": "2022-11-25T22:33:14.882Z"
   },
   {
    "duration": 3,
    "start_time": "2022-11-25T22:33:14.960Z"
   },
   {
    "duration": 587,
    "start_time": "2022-11-25T22:33:14.965Z"
   },
   {
    "duration": 14,
    "start_time": "2022-11-25T22:33:15.554Z"
   },
   {
    "duration": 553,
    "start_time": "2022-11-25T22:33:15.570Z"
   },
   {
    "duration": 12,
    "start_time": "2022-11-25T22:33:16.126Z"
   },
   {
    "duration": 86,
    "start_time": "2022-11-25T22:33:16.139Z"
   },
   {
    "duration": 7,
    "start_time": "2022-11-25T22:33:16.227Z"
   },
   {
    "duration": 19,
    "start_time": "2022-11-25T22:33:16.236Z"
   },
   {
    "duration": 4,
    "start_time": "2022-11-25T22:33:16.256Z"
   },
   {
    "duration": 56,
    "start_time": "2022-11-25T22:33:16.261Z"
   },
   {
    "duration": 138,
    "start_time": "2022-11-25T22:33:16.319Z"
   },
   {
    "duration": 5,
    "start_time": "2022-11-25T22:33:16.459Z"
   },
   {
    "duration": 11,
    "start_time": "2022-11-25T22:33:16.466Z"
   },
   {
    "duration": 9,
    "start_time": "2022-11-25T22:33:16.479Z"
   },
   {
    "duration": 816,
    "start_time": "2022-11-25T22:33:16.490Z"
   },
   {
    "duration": 406,
    "start_time": "2022-11-25T22:33:17.313Z"
   },
   {
    "duration": 67,
    "start_time": "2022-11-25T22:33:17.721Z"
   },
   {
    "duration": 43,
    "start_time": "2022-11-25T22:33:17.790Z"
   },
   {
    "duration": 1480,
    "start_time": "2022-11-25T22:34:34.488Z"
   },
   {
    "duration": 254,
    "start_time": "2022-11-25T22:34:35.970Z"
   },
   {
    "duration": 3,
    "start_time": "2022-11-25T22:34:36.227Z"
   },
   {
    "duration": 112,
    "start_time": "2022-11-25T22:34:36.232Z"
   },
   {
    "duration": 77,
    "start_time": "2022-11-25T22:34:36.347Z"
   },
   {
    "duration": 3,
    "start_time": "2022-11-25T22:34:36.426Z"
   },
   {
    "duration": 623,
    "start_time": "2022-11-25T22:34:36.430Z"
   },
   {
    "duration": 15,
    "start_time": "2022-11-25T22:34:37.055Z"
   },
   {
    "duration": 558,
    "start_time": "2022-11-25T22:34:37.071Z"
   },
   {
    "duration": 12,
    "start_time": "2022-11-25T22:34:37.631Z"
   },
   {
    "duration": 6,
    "start_time": "2022-11-25T22:34:37.644Z"
   },
   {
    "duration": 66,
    "start_time": "2022-11-25T22:34:37.652Z"
   },
   {
    "duration": 7,
    "start_time": "2022-11-25T22:34:37.720Z"
   },
   {
    "duration": 13,
    "start_time": "2022-11-25T22:34:37.728Z"
   },
   {
    "duration": 6,
    "start_time": "2022-11-25T22:34:37.742Z"
   },
   {
    "duration": 45,
    "start_time": "2022-11-25T22:34:37.750Z"
   },
   {
    "duration": 110,
    "start_time": "2022-11-25T22:34:37.797Z"
   },
   {
    "duration": 4,
    "start_time": "2022-11-25T22:34:37.912Z"
   },
   {
    "duration": 6,
    "start_time": "2022-11-25T22:34:37.917Z"
   },
   {
    "duration": 7,
    "start_time": "2022-11-25T22:34:37.924Z"
   },
   {
    "duration": 842,
    "start_time": "2022-11-25T22:34:37.933Z"
   },
   {
    "duration": 417,
    "start_time": "2022-11-25T22:34:38.777Z"
   },
   {
    "duration": 68,
    "start_time": "2022-11-25T22:34:39.196Z"
   },
   {
    "duration": 49,
    "start_time": "2022-11-25T22:34:39.266Z"
   },
   {
    "duration": 9,
    "start_time": "2022-11-27T19:28:18.282Z"
   },
   {
    "duration": 1139,
    "start_time": "2022-11-27T20:15:13.644Z"
   },
   {
    "duration": 0,
    "start_time": "2022-11-27T20:15:14.785Z"
   },
   {
    "duration": 0,
    "start_time": "2022-11-27T20:15:14.786Z"
   },
   {
    "duration": 0,
    "start_time": "2022-11-27T20:15:14.787Z"
   },
   {
    "duration": 0,
    "start_time": "2022-11-27T20:15:14.788Z"
   },
   {
    "duration": 0,
    "start_time": "2022-11-27T20:15:14.789Z"
   },
   {
    "duration": 0,
    "start_time": "2022-11-27T20:15:14.790Z"
   },
   {
    "duration": 0,
    "start_time": "2022-11-27T20:15:14.791Z"
   },
   {
    "duration": 0,
    "start_time": "2022-11-27T20:15:14.791Z"
   },
   {
    "duration": 0,
    "start_time": "2022-11-27T20:15:14.792Z"
   },
   {
    "duration": 0,
    "start_time": "2022-11-27T20:15:14.793Z"
   },
   {
    "duration": 0,
    "start_time": "2022-11-27T20:15:14.794Z"
   },
   {
    "duration": 0,
    "start_time": "2022-11-27T20:15:14.795Z"
   },
   {
    "duration": 0,
    "start_time": "2022-11-27T20:15:14.812Z"
   },
   {
    "duration": 0,
    "start_time": "2022-11-27T20:15:14.813Z"
   },
   {
    "duration": 0,
    "start_time": "2022-11-27T20:15:14.814Z"
   },
   {
    "duration": 0,
    "start_time": "2022-11-27T20:15:14.816Z"
   },
   {
    "duration": 0,
    "start_time": "2022-11-27T20:15:14.816Z"
   },
   {
    "duration": 0,
    "start_time": "2022-11-27T20:15:14.818Z"
   },
   {
    "duration": 0,
    "start_time": "2022-11-27T20:15:14.819Z"
   },
   {
    "duration": 0,
    "start_time": "2022-11-27T20:15:14.821Z"
   },
   {
    "duration": 0,
    "start_time": "2022-11-27T20:15:14.822Z"
   },
   {
    "duration": 0,
    "start_time": "2022-11-27T20:15:14.823Z"
   },
   {
    "duration": 0,
    "start_time": "2022-11-27T20:15:14.823Z"
   },
   {
    "duration": 0,
    "start_time": "2022-11-27T20:15:14.824Z"
   },
   {
    "duration": 0,
    "start_time": "2022-11-27T20:15:14.825Z"
   },
   {
    "duration": 0,
    "start_time": "2022-11-27T20:15:14.825Z"
   },
   {
    "duration": 1336,
    "start_time": "2022-11-27T20:15:55.736Z"
   },
   {
    "duration": 456,
    "start_time": "2022-11-27T20:15:57.074Z"
   },
   {
    "duration": 4,
    "start_time": "2022-11-27T20:15:57.532Z"
   },
   {
    "duration": 106,
    "start_time": "2022-11-27T20:15:57.539Z"
   },
   {
    "duration": 55,
    "start_time": "2022-11-27T20:15:57.647Z"
   },
   {
    "duration": 3,
    "start_time": "2022-11-27T20:15:57.712Z"
   },
   {
    "duration": 545,
    "start_time": "2022-11-27T20:15:57.717Z"
   },
   {
    "duration": 14,
    "start_time": "2022-11-27T20:15:58.263Z"
   },
   {
    "duration": 555,
    "start_time": "2022-11-27T20:15:58.279Z"
   },
   {
    "duration": 12,
    "start_time": "2022-11-27T20:15:58.836Z"
   },
   {
    "duration": 41,
    "start_time": "2022-11-27T20:15:58.849Z"
   },
   {
    "duration": 22,
    "start_time": "2022-11-27T20:15:58.891Z"
   },
   {
    "duration": 49,
    "start_time": "2022-11-27T20:15:58.915Z"
   },
   {
    "duration": 101,
    "start_time": "2022-11-27T20:15:58.965Z"
   },
   {
    "duration": 4,
    "start_time": "2022-11-27T20:15:59.068Z"
   },
   {
    "duration": 6,
    "start_time": "2022-11-27T20:15:59.073Z"
   },
   {
    "duration": 7,
    "start_time": "2022-11-27T20:15:59.080Z"
   },
   {
    "duration": 813,
    "start_time": "2022-11-27T20:15:59.089Z"
   },
   {
    "duration": 410,
    "start_time": "2022-11-27T20:15:59.904Z"
   },
   {
    "duration": 67,
    "start_time": "2022-11-27T20:16:00.316Z"
   },
   {
    "duration": 48,
    "start_time": "2022-11-27T20:16:00.385Z"
   },
   {
    "duration": 5,
    "start_time": "2022-11-27T20:16:00.435Z"
   },
   {
    "duration": 135,
    "start_time": "2022-11-27T20:16:00.441Z"
   },
   {
    "duration": 0,
    "start_time": "2022-11-27T20:16:00.577Z"
   },
   {
    "duration": 0,
    "start_time": "2022-11-27T20:16:00.579Z"
   },
   {
    "duration": 0,
    "start_time": "2022-11-27T20:16:00.579Z"
   },
   {
    "duration": 0,
    "start_time": "2022-11-27T20:16:00.581Z"
   },
   {
    "duration": 9,
    "start_time": "2022-11-27T20:16:28.828Z"
   },
   {
    "duration": 28,
    "start_time": "2022-11-27T20:17:01.715Z"
   },
   {
    "duration": 11,
    "start_time": "2022-11-27T20:17:03.507Z"
   },
   {
    "duration": 19,
    "start_time": "2022-11-27T20:17:26.050Z"
   },
   {
    "duration": 18,
    "start_time": "2022-11-27T20:21:30.180Z"
   },
   {
    "duration": 1365,
    "start_time": "2022-11-27T20:21:55.367Z"
   },
   {
    "duration": 230,
    "start_time": "2022-11-27T20:21:56.734Z"
   },
   {
    "duration": 4,
    "start_time": "2022-11-27T20:21:56.966Z"
   },
   {
    "duration": 108,
    "start_time": "2022-11-27T20:21:56.972Z"
   },
   {
    "duration": 67,
    "start_time": "2022-11-27T20:21:57.082Z"
   },
   {
    "duration": 3,
    "start_time": "2022-11-27T20:21:57.151Z"
   },
   {
    "duration": 533,
    "start_time": "2022-11-27T20:21:57.157Z"
   },
   {
    "duration": 23,
    "start_time": "2022-11-27T20:21:57.691Z"
   },
   {
    "duration": 514,
    "start_time": "2022-11-27T20:21:57.716Z"
   },
   {
    "duration": 12,
    "start_time": "2022-11-27T20:21:58.233Z"
   },
   {
    "duration": 42,
    "start_time": "2022-11-27T20:21:58.247Z"
   },
   {
    "duration": 22,
    "start_time": "2022-11-27T20:21:58.290Z"
   },
   {
    "duration": 41,
    "start_time": "2022-11-27T20:21:58.314Z"
   },
   {
    "duration": 109,
    "start_time": "2022-11-27T20:21:58.356Z"
   },
   {
    "duration": 3,
    "start_time": "2022-11-27T20:21:58.466Z"
   },
   {
    "duration": 5,
    "start_time": "2022-11-27T20:21:58.471Z"
   },
   {
    "duration": 7,
    "start_time": "2022-11-27T20:21:58.477Z"
   },
   {
    "duration": 781,
    "start_time": "2022-11-27T20:21:58.486Z"
   },
   {
    "duration": 410,
    "start_time": "2022-11-27T20:21:59.269Z"
   },
   {
    "duration": 69,
    "start_time": "2022-11-27T20:21:59.681Z"
   },
   {
    "duration": 32,
    "start_time": "2022-11-27T20:21:59.752Z"
   },
   {
    "duration": 4,
    "start_time": "2022-11-27T20:21:59.786Z"
   },
   {
    "duration": 43,
    "start_time": "2022-11-27T20:21:59.792Z"
   },
   {
    "duration": 129,
    "start_time": "2022-11-27T20:21:59.837Z"
   },
   {
    "duration": 0,
    "start_time": "2022-11-27T20:21:59.967Z"
   },
   {
    "duration": 1,
    "start_time": "2022-11-27T20:21:59.968Z"
   },
   {
    "duration": 0,
    "start_time": "2022-11-27T20:21:59.970Z"
   },
   {
    "duration": 27,
    "start_time": "2022-11-27T20:22:58.717Z"
   },
   {
    "duration": 11,
    "start_time": "2022-11-27T20:23:03.684Z"
   },
   {
    "duration": 216,
    "start_time": "2022-11-27T20:23:25.540Z"
   },
   {
    "duration": 4,
    "start_time": "2022-11-27T20:24:40.639Z"
   },
   {
    "duration": 18,
    "start_time": "2022-11-27T20:24:41.520Z"
   },
   {
    "duration": 30,
    "start_time": "2022-11-27T20:24:42.583Z"
   },
   {
    "duration": 12587,
    "start_time": "2022-11-27T20:24:45.833Z"
   },
   {
    "duration": 50,
    "start_time": "2022-11-27T20:25:24.630Z"
   },
   {
    "duration": 10,
    "start_time": "2022-11-27T20:26:20.492Z"
   },
   {
    "duration": 32,
    "start_time": "2022-11-27T20:26:21.963Z"
   },
   {
    "duration": 12330,
    "start_time": "2022-11-27T20:26:23.038Z"
   },
   {
    "duration": 11837,
    "start_time": "2022-11-27T20:29:01.991Z"
   },
   {
    "duration": 11992,
    "start_time": "2022-11-27T20:29:46.235Z"
   },
   {
    "duration": 1421,
    "start_time": "2022-11-27T20:30:12.596Z"
   },
   {
    "duration": 238,
    "start_time": "2022-11-27T20:30:14.019Z"
   },
   {
    "duration": 3,
    "start_time": "2022-11-27T20:30:14.259Z"
   },
   {
    "duration": 122,
    "start_time": "2022-11-27T20:30:14.265Z"
   },
   {
    "duration": 70,
    "start_time": "2022-11-27T20:30:14.389Z"
   },
   {
    "duration": 3,
    "start_time": "2022-11-27T20:30:14.461Z"
   },
   {
    "duration": 562,
    "start_time": "2022-11-27T20:30:14.466Z"
   },
   {
    "duration": 17,
    "start_time": "2022-11-27T20:30:15.030Z"
   },
   {
    "duration": 574,
    "start_time": "2022-11-27T20:30:15.049Z"
   },
   {
    "duration": 14,
    "start_time": "2022-11-27T20:30:15.626Z"
   },
   {
    "duration": 78,
    "start_time": "2022-11-27T20:30:15.642Z"
   },
   {
    "duration": 4,
    "start_time": "2022-11-27T20:30:15.723Z"
   },
   {
    "duration": 75,
    "start_time": "2022-11-27T20:30:15.729Z"
   },
   {
    "duration": 93,
    "start_time": "2022-11-27T20:30:15.806Z"
   },
   {
    "duration": 4,
    "start_time": "2022-11-27T20:30:15.901Z"
   },
   {
    "duration": 13,
    "start_time": "2022-11-27T20:30:15.906Z"
   },
   {
    "duration": 12,
    "start_time": "2022-11-27T20:30:15.920Z"
   },
   {
    "duration": 880,
    "start_time": "2022-11-27T20:30:15.933Z"
   },
   {
    "duration": 386,
    "start_time": "2022-11-27T20:30:16.815Z"
   },
   {
    "duration": 72,
    "start_time": "2022-11-27T20:30:17.203Z"
   },
   {
    "duration": 43,
    "start_time": "2022-11-27T20:30:17.277Z"
   },
   {
    "duration": 4,
    "start_time": "2022-11-27T20:30:17.321Z"
   },
   {
    "duration": 52,
    "start_time": "2022-11-27T20:30:17.327Z"
   },
   {
    "duration": 124,
    "start_time": "2022-11-27T20:30:17.381Z"
   },
   {
    "duration": 0,
    "start_time": "2022-11-27T20:30:17.506Z"
   },
   {
    "duration": 0,
    "start_time": "2022-11-27T20:30:17.512Z"
   },
   {
    "duration": 0,
    "start_time": "2022-11-27T20:30:17.513Z"
   },
   {
    "duration": 0,
    "start_time": "2022-11-27T20:30:17.514Z"
   },
   {
    "duration": 11755,
    "start_time": "2022-11-27T20:30:26.887Z"
   },
   {
    "duration": 10,
    "start_time": "2022-11-27T20:30:58.295Z"
   },
   {
    "duration": 31,
    "start_time": "2022-11-27T20:30:59.020Z"
   },
   {
    "duration": 11767,
    "start_time": "2022-11-27T20:31:00.782Z"
   },
   {
    "duration": 11780,
    "start_time": "2022-11-27T20:31:44.997Z"
   },
   {
    "duration": 11953,
    "start_time": "2022-11-27T20:32:01.318Z"
   },
   {
    "duration": 1631,
    "start_time": "2022-11-27T20:33:12.627Z"
   },
   {
    "duration": 244,
    "start_time": "2022-11-27T20:33:14.260Z"
   },
   {
    "duration": 3,
    "start_time": "2022-11-27T20:33:14.506Z"
   },
   {
    "duration": 123,
    "start_time": "2022-11-27T20:33:14.511Z"
   },
   {
    "duration": 58,
    "start_time": "2022-11-27T20:33:14.637Z"
   },
   {
    "duration": 15,
    "start_time": "2022-11-27T20:33:14.697Z"
   },
   {
    "duration": 561,
    "start_time": "2022-11-27T20:33:14.715Z"
   },
   {
    "duration": 15,
    "start_time": "2022-11-27T20:33:15.277Z"
   },
   {
    "duration": 556,
    "start_time": "2022-11-27T20:33:15.294Z"
   },
   {
    "duration": 12,
    "start_time": "2022-11-27T20:33:15.853Z"
   },
   {
    "duration": 62,
    "start_time": "2022-11-27T20:33:15.866Z"
   },
   {
    "duration": 4,
    "start_time": "2022-11-27T20:33:15.930Z"
   },
   {
    "duration": 49,
    "start_time": "2022-11-27T20:33:15.936Z"
   },
   {
    "duration": 114,
    "start_time": "2022-11-27T20:33:15.987Z"
   },
   {
    "duration": 4,
    "start_time": "2022-11-27T20:33:16.112Z"
   },
   {
    "duration": 15,
    "start_time": "2022-11-27T20:33:16.118Z"
   },
   {
    "duration": 29,
    "start_time": "2022-11-27T20:33:16.135Z"
   },
   {
    "duration": 893,
    "start_time": "2022-11-27T20:33:16.166Z"
   },
   {
    "duration": 419,
    "start_time": "2022-11-27T20:33:17.060Z"
   },
   {
    "duration": 87,
    "start_time": "2022-11-27T20:33:17.481Z"
   },
   {
    "duration": 33,
    "start_time": "2022-11-27T20:33:17.570Z"
   },
   {
    "duration": 6,
    "start_time": "2022-11-27T20:33:17.613Z"
   },
   {
    "duration": 62,
    "start_time": "2022-11-27T20:33:17.620Z"
   },
   {
    "duration": 128,
    "start_time": "2022-11-27T20:33:17.684Z"
   },
   {
    "duration": 0,
    "start_time": "2022-11-27T20:33:17.814Z"
   },
   {
    "duration": 0,
    "start_time": "2022-11-27T20:33:17.815Z"
   },
   {
    "duration": 0,
    "start_time": "2022-11-27T20:33:17.816Z"
   },
   {
    "duration": 0,
    "start_time": "2022-11-27T20:33:17.817Z"
   },
   {
    "duration": 12116,
    "start_time": "2022-11-27T20:33:30.678Z"
   },
   {
    "duration": 4253,
    "start_time": "2022-11-27T20:38:18.113Z"
   },
   {
    "duration": 1373,
    "start_time": "2022-11-27T20:38:34.378Z"
   },
   {
    "duration": 242,
    "start_time": "2022-11-27T20:38:35.753Z"
   },
   {
    "duration": 4,
    "start_time": "2022-11-27T20:38:35.996Z"
   },
   {
    "duration": 118,
    "start_time": "2022-11-27T20:38:36.001Z"
   },
   {
    "duration": 66,
    "start_time": "2022-11-27T20:38:36.122Z"
   },
   {
    "duration": 3,
    "start_time": "2022-11-27T20:38:36.190Z"
   },
   {
    "duration": 590,
    "start_time": "2022-11-27T20:38:36.212Z"
   },
   {
    "duration": 21,
    "start_time": "2022-11-27T20:38:36.803Z"
   },
   {
    "duration": 542,
    "start_time": "2022-11-27T20:38:36.826Z"
   },
   {
    "duration": 12,
    "start_time": "2022-11-27T20:38:37.371Z"
   },
   {
    "duration": 56,
    "start_time": "2022-11-27T20:38:37.385Z"
   },
   {
    "duration": 4,
    "start_time": "2022-11-27T20:38:37.443Z"
   },
   {
    "duration": 51,
    "start_time": "2022-11-27T20:38:37.449Z"
   },
   {
    "duration": 101,
    "start_time": "2022-11-27T20:38:37.511Z"
   },
   {
    "duration": 4,
    "start_time": "2022-11-27T20:38:37.614Z"
   },
   {
    "duration": 8,
    "start_time": "2022-11-27T20:38:37.619Z"
   },
   {
    "duration": 10,
    "start_time": "2022-11-27T20:38:37.629Z"
   },
   {
    "duration": 788,
    "start_time": "2022-11-27T20:38:37.641Z"
   },
   {
    "duration": 416,
    "start_time": "2022-11-27T20:38:38.431Z"
   },
   {
    "duration": 72,
    "start_time": "2022-11-27T20:38:38.848Z"
   },
   {
    "duration": 33,
    "start_time": "2022-11-27T20:38:38.922Z"
   },
   {
    "duration": 4,
    "start_time": "2022-11-27T20:38:38.957Z"
   },
   {
    "duration": 49,
    "start_time": "2022-11-27T20:38:38.963Z"
   },
   {
    "duration": 141,
    "start_time": "2022-11-27T20:38:39.014Z"
   },
   {
    "duration": 0,
    "start_time": "2022-11-27T20:38:39.156Z"
   },
   {
    "duration": 0,
    "start_time": "2022-11-27T20:38:39.158Z"
   },
   {
    "duration": 0,
    "start_time": "2022-11-27T20:38:39.159Z"
   },
   {
    "duration": 0,
    "start_time": "2022-11-27T20:38:39.160Z"
   },
   {
    "duration": 11752,
    "start_time": "2022-11-27T20:38:45.096Z"
   },
   {
    "duration": 1364,
    "start_time": "2022-11-27T20:40:39.784Z"
   },
   {
    "duration": 230,
    "start_time": "2022-11-27T20:40:41.150Z"
   },
   {
    "duration": 4,
    "start_time": "2022-11-27T20:40:41.381Z"
   },
   {
    "duration": 106,
    "start_time": "2022-11-27T20:40:41.387Z"
   },
   {
    "duration": 64,
    "start_time": "2022-11-27T20:40:41.495Z"
   },
   {
    "duration": 2,
    "start_time": "2022-11-27T20:40:41.561Z"
   },
   {
    "duration": 551,
    "start_time": "2022-11-27T20:40:41.565Z"
   },
   {
    "duration": 13,
    "start_time": "2022-11-27T20:40:42.118Z"
   },
   {
    "duration": 537,
    "start_time": "2022-11-27T20:40:42.133Z"
   },
   {
    "duration": 11,
    "start_time": "2022-11-27T20:40:42.672Z"
   },
   {
    "duration": 53,
    "start_time": "2022-11-27T20:40:42.685Z"
   },
   {
    "duration": 4,
    "start_time": "2022-11-27T20:40:42.739Z"
   },
   {
    "duration": 48,
    "start_time": "2022-11-27T20:40:42.744Z"
   },
   {
    "duration": 100,
    "start_time": "2022-11-27T20:40:42.794Z"
   },
   {
    "duration": 4,
    "start_time": "2022-11-27T20:40:42.896Z"
   },
   {
    "duration": 11,
    "start_time": "2022-11-27T20:40:42.902Z"
   },
   {
    "duration": 12,
    "start_time": "2022-11-27T20:40:42.915Z"
   },
   {
    "duration": 761,
    "start_time": "2022-11-27T20:40:42.928Z"
   },
   {
    "duration": 397,
    "start_time": "2022-11-27T20:40:43.691Z"
   },
   {
    "duration": 74,
    "start_time": "2022-11-27T20:40:44.090Z"
   },
   {
    "duration": 33,
    "start_time": "2022-11-27T20:40:44.166Z"
   },
   {
    "duration": 12,
    "start_time": "2022-11-27T20:40:44.201Z"
   },
   {
    "duration": 36,
    "start_time": "2022-11-27T20:40:44.215Z"
   },
   {
    "duration": 45,
    "start_time": "2022-11-27T20:40:44.252Z"
   },
   {
    "duration": 0,
    "start_time": "2022-11-27T20:40:44.299Z"
   },
   {
    "duration": 0,
    "start_time": "2022-11-27T20:40:44.301Z"
   },
   {
    "duration": 0,
    "start_time": "2022-11-27T20:40:44.302Z"
   },
   {
    "duration": 0,
    "start_time": "2022-11-27T20:40:44.303Z"
   },
   {
    "duration": 1395,
    "start_time": "2022-11-27T20:40:55.571Z"
   },
   {
    "duration": 240,
    "start_time": "2022-11-27T20:40:56.968Z"
   },
   {
    "duration": 3,
    "start_time": "2022-11-27T20:40:57.209Z"
   },
   {
    "duration": 112,
    "start_time": "2022-11-27T20:40:57.214Z"
   },
   {
    "duration": 58,
    "start_time": "2022-11-27T20:40:57.328Z"
   },
   {
    "duration": 3,
    "start_time": "2022-11-27T20:40:57.389Z"
   },
   {
    "duration": 551,
    "start_time": "2022-11-27T20:40:57.394Z"
   },
   {
    "duration": 14,
    "start_time": "2022-11-27T20:40:57.947Z"
   },
   {
    "duration": 530,
    "start_time": "2022-11-27T20:40:57.963Z"
   },
   {
    "duration": 23,
    "start_time": "2022-11-27T20:40:58.495Z"
   },
   {
    "duration": 45,
    "start_time": "2022-11-27T20:40:58.519Z"
   },
   {
    "duration": 4,
    "start_time": "2022-11-27T20:40:58.566Z"
   },
   {
    "duration": 63,
    "start_time": "2022-11-27T20:40:58.572Z"
   },
   {
    "duration": 106,
    "start_time": "2022-11-27T20:40:58.639Z"
   },
   {
    "duration": 4,
    "start_time": "2022-11-27T20:40:58.747Z"
   },
   {
    "duration": 6,
    "start_time": "2022-11-27T20:40:58.753Z"
   },
   {
    "duration": 10,
    "start_time": "2022-11-27T20:40:58.761Z"
   },
   {
    "duration": 796,
    "start_time": "2022-11-27T20:40:58.772Z"
   },
   {
    "duration": 400,
    "start_time": "2022-11-27T20:40:59.572Z"
   },
   {
    "duration": 70,
    "start_time": "2022-11-27T20:40:59.974Z"
   },
   {
    "duration": 34,
    "start_time": "2022-11-27T20:41:00.046Z"
   },
   {
    "duration": 19,
    "start_time": "2022-11-27T20:41:00.082Z"
   },
   {
    "duration": 38,
    "start_time": "2022-11-27T20:41:00.103Z"
   },
   {
    "duration": 66,
    "start_time": "2022-11-27T20:41:00.142Z"
   },
   {
    "duration": 0,
    "start_time": "2022-11-27T20:41:00.210Z"
   },
   {
    "duration": 0,
    "start_time": "2022-11-27T20:41:00.212Z"
   },
   {
    "duration": 0,
    "start_time": "2022-11-27T20:41:00.213Z"
   },
   {
    "duration": 1,
    "start_time": "2022-11-27T20:41:00.214Z"
   },
   {
    "duration": 129,
    "start_time": "2022-11-27T20:41:11.630Z"
   },
   {
    "duration": 11733,
    "start_time": "2022-11-27T20:41:16.600Z"
   },
   {
    "duration": 11417,
    "start_time": "2022-11-27T20:43:47.186Z"
   },
   {
    "duration": 5,
    "start_time": "2022-11-27T20:45:32.847Z"
   },
   {
    "duration": 10,
    "start_time": "2022-11-27T20:45:33.533Z"
   },
   {
    "duration": 29,
    "start_time": "2022-11-27T20:45:34.458Z"
   },
   {
    "duration": 11884,
    "start_time": "2022-11-27T20:45:35.628Z"
   },
   {
    "duration": 27,
    "start_time": "2022-11-27T20:47:48.605Z"
   },
   {
    "duration": 1351,
    "start_time": "2022-11-27T20:50:31.389Z"
   },
   {
    "duration": 228,
    "start_time": "2022-11-27T20:50:32.742Z"
   },
   {
    "duration": 4,
    "start_time": "2022-11-27T20:50:32.972Z"
   },
   {
    "duration": 106,
    "start_time": "2022-11-27T20:50:32.978Z"
   },
   {
    "duration": 66,
    "start_time": "2022-11-27T20:50:33.086Z"
   },
   {
    "duration": 3,
    "start_time": "2022-11-27T20:50:33.153Z"
   },
   {
    "duration": 542,
    "start_time": "2022-11-27T20:50:33.158Z"
   },
   {
    "duration": 19,
    "start_time": "2022-11-27T20:50:33.702Z"
   },
   {
    "duration": 508,
    "start_time": "2022-11-27T20:50:33.723Z"
   },
   {
    "duration": 11,
    "start_time": "2022-11-27T20:50:34.234Z"
   },
   {
    "duration": 40,
    "start_time": "2022-11-27T20:50:34.247Z"
   },
   {
    "duration": 3,
    "start_time": "2022-11-27T20:50:34.289Z"
   },
   {
    "duration": 49,
    "start_time": "2022-11-27T20:50:34.312Z"
   },
   {
    "duration": 101,
    "start_time": "2022-11-27T20:50:34.363Z"
   },
   {
    "duration": 3,
    "start_time": "2022-11-27T20:50:34.466Z"
   },
   {
    "duration": 6,
    "start_time": "2022-11-27T20:50:34.470Z"
   },
   {
    "duration": 6,
    "start_time": "2022-11-27T20:50:34.478Z"
   },
   {
    "duration": 813,
    "start_time": "2022-11-27T20:50:34.486Z"
   },
   {
    "duration": 413,
    "start_time": "2022-11-27T20:50:35.301Z"
   },
   {
    "duration": 63,
    "start_time": "2022-11-27T20:50:35.716Z"
   },
   {
    "duration": 45,
    "start_time": "2022-11-27T20:50:35.781Z"
   },
   {
    "duration": 4,
    "start_time": "2022-11-27T20:50:35.828Z"
   },
   {
    "duration": 34,
    "start_time": "2022-11-27T20:50:35.834Z"
   },
   {
    "duration": 137,
    "start_time": "2022-11-27T20:50:35.870Z"
   },
   {
    "duration": 0,
    "start_time": "2022-11-27T20:50:36.009Z"
   },
   {
    "duration": 0,
    "start_time": "2022-11-27T20:50:36.010Z"
   },
   {
    "duration": 0,
    "start_time": "2022-11-27T20:50:36.012Z"
   },
   {
    "duration": 0,
    "start_time": "2022-11-27T20:50:36.013Z"
   },
   {
    "duration": 0,
    "start_time": "2022-11-27T20:50:36.014Z"
   },
   {
    "duration": 12,
    "start_time": "2022-11-27T20:51:10.205Z"
   },
   {
    "duration": 11726,
    "start_time": "2022-11-27T20:51:12.385Z"
   },
   {
    "duration": 10,
    "start_time": "2022-11-27T20:51:36.880Z"
   },
   {
    "duration": 8,
    "start_time": "2022-11-27T20:53:09.587Z"
   },
   {
    "duration": 9,
    "start_time": "2022-11-27T20:53:12.486Z"
   },
   {
    "duration": 9,
    "start_time": "2022-11-27T20:53:22.524Z"
   },
   {
    "duration": 10,
    "start_time": "2022-11-27T20:53:33.180Z"
   },
   {
    "duration": 9,
    "start_time": "2022-11-27T20:53:34.680Z"
   },
   {
    "duration": 28,
    "start_time": "2022-11-27T20:54:19.739Z"
   },
   {
    "duration": 1284,
    "start_time": "2022-11-27T20:54:26.368Z"
   },
   {
    "duration": 225,
    "start_time": "2022-11-27T20:54:27.654Z"
   },
   {
    "duration": 3,
    "start_time": "2022-11-27T20:54:27.881Z"
   },
   {
    "duration": 123,
    "start_time": "2022-11-27T20:54:27.886Z"
   },
   {
    "duration": 55,
    "start_time": "2022-11-27T20:54:28.010Z"
   },
   {
    "duration": 3,
    "start_time": "2022-11-27T20:54:28.067Z"
   },
   {
    "duration": 559,
    "start_time": "2022-11-27T20:54:28.072Z"
   },
   {
    "duration": 13,
    "start_time": "2022-11-27T20:54:28.633Z"
   },
   {
    "duration": 516,
    "start_time": "2022-11-27T20:54:28.648Z"
   },
   {
    "duration": 11,
    "start_time": "2022-11-27T20:54:29.166Z"
   },
   {
    "duration": 52,
    "start_time": "2022-11-27T20:54:29.179Z"
   },
   {
    "duration": 4,
    "start_time": "2022-11-27T20:54:29.232Z"
   },
   {
    "duration": 64,
    "start_time": "2022-11-27T20:54:29.237Z"
   },
   {
    "duration": 98,
    "start_time": "2022-11-27T20:54:29.302Z"
   },
   {
    "duration": 3,
    "start_time": "2022-11-27T20:54:29.401Z"
   },
   {
    "duration": 30,
    "start_time": "2022-11-27T20:54:29.411Z"
   },
   {
    "duration": 33,
    "start_time": "2022-11-27T20:54:29.443Z"
   },
   {
    "duration": 789,
    "start_time": "2022-11-27T20:54:29.478Z"
   },
   {
    "duration": 389,
    "start_time": "2022-11-27T20:54:30.268Z"
   },
   {
    "duration": 69,
    "start_time": "2022-11-27T20:54:30.658Z"
   },
   {
    "duration": 31,
    "start_time": "2022-11-27T20:54:30.729Z"
   },
   {
    "duration": 35,
    "start_time": "2022-11-27T20:54:30.761Z"
   },
   {
    "duration": 61,
    "start_time": "2022-11-27T20:54:30.798Z"
   },
   {
    "duration": 133,
    "start_time": "2022-11-27T20:54:30.860Z"
   },
   {
    "duration": 0,
    "start_time": "2022-11-27T20:54:30.994Z"
   },
   {
    "duration": 0,
    "start_time": "2022-11-27T20:54:30.995Z"
   },
   {
    "duration": 0,
    "start_time": "2022-11-27T20:54:30.996Z"
   },
   {
    "duration": 0,
    "start_time": "2022-11-27T20:54:30.998Z"
   },
   {
    "duration": 0,
    "start_time": "2022-11-27T20:54:31.012Z"
   },
   {
    "duration": 63,
    "start_time": "2022-11-27T21:05:05.122Z"
   },
   {
    "duration": 16,
    "start_time": "2022-11-27T21:05:13.860Z"
   },
   {
    "duration": 174,
    "start_time": "2022-11-27T21:05:17.130Z"
   },
   {
    "duration": 110771,
    "start_time": "2022-11-27T21:05:36.786Z"
   },
   {
    "duration": 1346,
    "start_time": "2022-11-27T21:11:44.397Z"
   },
   {
    "duration": 234,
    "start_time": "2022-11-27T21:11:45.745Z"
   },
   {
    "duration": 3,
    "start_time": "2022-11-27T21:11:45.981Z"
   },
   {
    "duration": 106,
    "start_time": "2022-11-27T21:11:45.987Z"
   },
   {
    "duration": 64,
    "start_time": "2022-11-27T21:11:46.095Z"
   },
   {
    "duration": 3,
    "start_time": "2022-11-27T21:11:46.161Z"
   },
   {
    "duration": 578,
    "start_time": "2022-11-27T21:11:46.165Z"
   },
   {
    "duration": 13,
    "start_time": "2022-11-27T21:11:46.745Z"
   },
   {
    "duration": 525,
    "start_time": "2022-11-27T21:11:46.760Z"
   },
   {
    "duration": 23,
    "start_time": "2022-11-27T21:11:47.289Z"
   },
   {
    "duration": 43,
    "start_time": "2022-11-27T21:11:47.314Z"
   },
   {
    "duration": 5,
    "start_time": "2022-11-27T21:11:47.359Z"
   },
   {
    "duration": 57,
    "start_time": "2022-11-27T21:11:47.366Z"
   },
   {
    "duration": 97,
    "start_time": "2022-11-27T21:11:47.425Z"
   },
   {
    "duration": 4,
    "start_time": "2022-11-27T21:11:47.523Z"
   },
   {
    "duration": 9,
    "start_time": "2022-11-27T21:11:47.528Z"
   },
   {
    "duration": 7,
    "start_time": "2022-11-27T21:11:47.539Z"
   },
   {
    "duration": 770,
    "start_time": "2022-11-27T21:11:47.547Z"
   },
   {
    "duration": 401,
    "start_time": "2022-11-27T21:11:48.319Z"
   },
   {
    "duration": 65,
    "start_time": "2022-11-27T21:11:48.722Z"
   },
   {
    "duration": 47,
    "start_time": "2022-11-27T21:11:48.788Z"
   },
   {
    "duration": 3,
    "start_time": "2022-11-27T21:11:48.837Z"
   },
   {
    "duration": 56,
    "start_time": "2022-11-27T21:11:48.841Z"
   },
   {
    "duration": 3304,
    "start_time": "2022-11-27T21:11:48.899Z"
   },
   {
    "duration": 208,
    "start_time": "2022-11-27T21:11:52.205Z"
   },
   {
    "duration": 10,
    "start_time": "2022-11-27T21:11:52.415Z"
   },
   {
    "duration": 0,
    "start_time": "2022-11-27T21:11:52.426Z"
   },
   {
    "duration": 115,
    "start_time": "2022-11-27T21:13:13.572Z"
   },
   {
    "duration": 129,
    "start_time": "2022-11-27T21:14:24.215Z"
   },
   {
    "duration": 1290,
    "start_time": "2022-11-27T21:22:56.668Z"
   },
   {
    "duration": 237,
    "start_time": "2022-11-27T21:22:57.960Z"
   },
   {
    "duration": 4,
    "start_time": "2022-11-27T21:22:58.198Z"
   },
   {
    "duration": 108,
    "start_time": "2022-11-27T21:22:58.204Z"
   },
   {
    "duration": 55,
    "start_time": "2022-11-27T21:22:58.314Z"
   },
   {
    "duration": 3,
    "start_time": "2022-11-27T21:22:58.371Z"
   },
   {
    "duration": 551,
    "start_time": "2022-11-27T21:22:58.375Z"
   },
   {
    "duration": 14,
    "start_time": "2022-11-27T21:22:58.927Z"
   },
   {
    "duration": 557,
    "start_time": "2022-11-27T21:22:58.943Z"
   },
   {
    "duration": 19,
    "start_time": "2022-11-27T21:22:59.503Z"
   },
   {
    "duration": 44,
    "start_time": "2022-11-27T21:22:59.523Z"
   },
   {
    "duration": 3,
    "start_time": "2022-11-27T21:22:59.568Z"
   },
   {
    "duration": 63,
    "start_time": "2022-11-27T21:22:59.573Z"
   },
   {
    "duration": 98,
    "start_time": "2022-11-27T21:22:59.637Z"
   },
   {
    "duration": 4,
    "start_time": "2022-11-27T21:22:59.737Z"
   },
   {
    "duration": 6,
    "start_time": "2022-11-27T21:22:59.742Z"
   },
   {
    "duration": 11,
    "start_time": "2022-11-27T21:22:59.750Z"
   },
   {
    "duration": 794,
    "start_time": "2022-11-27T21:22:59.763Z"
   },
   {
    "duration": 408,
    "start_time": "2022-11-27T21:23:00.558Z"
   },
   {
    "duration": 73,
    "start_time": "2022-11-27T21:23:00.968Z"
   },
   {
    "duration": 32,
    "start_time": "2022-11-27T21:23:01.043Z"
   },
   {
    "duration": 3,
    "start_time": "2022-11-27T21:23:01.077Z"
   },
   {
    "duration": 42,
    "start_time": "2022-11-27T21:23:01.081Z"
   },
   {
    "duration": 3320,
    "start_time": "2022-11-27T21:23:01.124Z"
   },
   {
    "duration": 602682,
    "start_time": "2022-11-27T21:23:04.446Z"
   },
   {
    "duration": 10,
    "start_time": "2022-11-27T21:33:07.130Z"
   },
   {
    "duration": 0,
    "start_time": "2022-11-27T21:33:07.142Z"
   },
   {
    "duration": 1310,
    "start_time": "2022-11-27T21:44:56.539Z"
   },
   {
    "duration": 226,
    "start_time": "2022-11-27T21:44:57.851Z"
   },
   {
    "duration": 3,
    "start_time": "2022-11-27T21:44:58.079Z"
   },
   {
    "duration": 115,
    "start_time": "2022-11-27T21:44:58.084Z"
   },
   {
    "duration": 62,
    "start_time": "2022-11-27T21:44:58.201Z"
   },
   {
    "duration": 3,
    "start_time": "2022-11-27T21:44:58.265Z"
   },
   {
    "duration": 563,
    "start_time": "2022-11-27T21:44:58.270Z"
   },
   {
    "duration": 14,
    "start_time": "2022-11-27T21:44:58.834Z"
   },
   {
    "duration": 562,
    "start_time": "2022-11-27T21:44:58.850Z"
   },
   {
    "duration": 12,
    "start_time": "2022-11-27T21:44:59.414Z"
   },
   {
    "duration": 44,
    "start_time": "2022-11-27T21:44:59.427Z"
   },
   {
    "duration": 3,
    "start_time": "2022-11-27T21:44:59.473Z"
   },
   {
    "duration": 66,
    "start_time": "2022-11-27T21:44:59.478Z"
   },
   {
    "duration": 96,
    "start_time": "2022-11-27T21:44:59.546Z"
   },
   {
    "duration": 3,
    "start_time": "2022-11-27T21:44:59.643Z"
   },
   {
    "duration": 5,
    "start_time": "2022-11-27T21:44:59.648Z"
   },
   {
    "duration": 7,
    "start_time": "2022-11-27T21:44:59.655Z"
   },
   {
    "duration": 819,
    "start_time": "2022-11-27T21:44:59.663Z"
   },
   {
    "duration": 389,
    "start_time": "2022-11-27T21:45:00.483Z"
   },
   {
    "duration": 70,
    "start_time": "2022-11-27T21:45:00.874Z"
   },
   {
    "duration": 33,
    "start_time": "2022-11-27T21:45:00.945Z"
   },
   {
    "duration": 3,
    "start_time": "2022-11-27T21:45:00.979Z"
   },
   {
    "duration": 49,
    "start_time": "2022-11-27T21:45:00.984Z"
   },
   {
    "duration": 3300,
    "start_time": "2022-11-27T21:45:01.035Z"
   },
   {
    "duration": 63412,
    "start_time": "2022-11-27T21:45:04.337Z"
   },
   {
    "duration": 113,
    "start_time": "2022-11-27T21:46:07.751Z"
   },
   {
    "duration": 0,
    "start_time": "2022-11-27T21:46:07.866Z"
   },
   {
    "duration": 1624,
    "start_time": "2022-11-28T19:11:48.380Z"
   },
   {
    "duration": 1149,
    "start_time": "2022-11-28T19:11:50.006Z"
   },
   {
    "duration": 3,
    "start_time": "2022-11-28T19:11:51.157Z"
   },
   {
    "duration": 131,
    "start_time": "2022-11-28T19:11:51.162Z"
   },
   {
    "duration": 57,
    "start_time": "2022-11-28T19:11:51.299Z"
   },
   {
    "duration": 3,
    "start_time": "2022-11-28T19:11:51.357Z"
   },
   {
    "duration": 585,
    "start_time": "2022-11-28T19:11:51.361Z"
   },
   {
    "duration": 14,
    "start_time": "2022-11-28T19:11:51.947Z"
   },
   {
    "duration": 582,
    "start_time": "2022-11-28T19:11:51.962Z"
   },
   {
    "duration": 12,
    "start_time": "2022-11-28T19:11:52.546Z"
   },
   {
    "duration": 62,
    "start_time": "2022-11-28T19:11:52.559Z"
   },
   {
    "duration": 4,
    "start_time": "2022-11-28T19:11:52.623Z"
   },
   {
    "duration": 60,
    "start_time": "2022-11-28T19:11:52.629Z"
   },
   {
    "duration": 103,
    "start_time": "2022-11-28T19:11:52.693Z"
   },
   {
    "duration": 4,
    "start_time": "2022-11-28T19:11:52.798Z"
   },
   {
    "duration": 13,
    "start_time": "2022-11-28T19:11:52.804Z"
   },
   {
    "duration": 9,
    "start_time": "2022-11-28T19:11:52.819Z"
   },
   {
    "duration": 877,
    "start_time": "2022-11-28T19:11:52.830Z"
   },
   {
    "duration": 496,
    "start_time": "2022-11-28T19:11:53.709Z"
   },
   {
    "duration": 82,
    "start_time": "2022-11-28T19:11:54.207Z"
   },
   {
    "duration": 35,
    "start_time": "2022-11-28T19:11:54.292Z"
   },
   {
    "duration": 3,
    "start_time": "2022-11-28T19:11:54.329Z"
   },
   {
    "duration": 52,
    "start_time": "2022-11-28T19:11:54.333Z"
   },
   {
    "duration": 3663,
    "start_time": "2022-11-28T19:11:54.388Z"
   },
   {
    "duration": 71955,
    "start_time": "2022-11-28T19:11:58.052Z"
   },
   {
    "duration": 132,
    "start_time": "2022-11-28T19:13:10.009Z"
   },
   {
    "duration": 0,
    "start_time": "2022-11-28T19:13:10.143Z"
   },
   {
    "duration": 9,
    "start_time": "2022-11-28T19:15:08.243Z"
   },
   {
    "duration": 10,
    "start_time": "2022-11-28T19:16:00.507Z"
   },
   {
    "duration": 10,
    "start_time": "2022-11-28T19:17:20.735Z"
   },
   {
    "duration": 3,
    "start_time": "2022-11-28T19:17:26.443Z"
   },
   {
    "duration": 24476,
    "start_time": "2022-11-28T19:17:38.406Z"
   },
   {
    "duration": 70946,
    "start_time": "2022-11-28T19:18:13.937Z"
   },
   {
    "duration": 11,
    "start_time": "2022-11-28T19:27:06.567Z"
   },
   {
    "duration": 39,
    "start_time": "2022-11-28T19:27:07.949Z"
   },
   {
    "duration": 4,
    "start_time": "2022-11-28T19:45:25.000Z"
   },
   {
    "duration": 17,
    "start_time": "2022-11-28T19:45:25.590Z"
   },
   {
    "duration": 14,
    "start_time": "2022-11-28T19:45:26.142Z"
   },
   {
    "duration": 4,
    "start_time": "2022-11-28T19:45:58.191Z"
   },
   {
    "duration": 18,
    "start_time": "2022-11-28T19:46:08.403Z"
   },
   {
    "duration": 9,
    "start_time": "2022-11-28T19:46:09.117Z"
   },
   {
    "duration": 4,
    "start_time": "2022-11-28T19:46:47.638Z"
   },
   {
    "duration": 15,
    "start_time": "2022-11-28T19:46:56.258Z"
   },
   {
    "duration": 567,
    "start_time": "2022-11-28T19:46:56.919Z"
   },
   {
    "duration": 16,
    "start_time": "2022-11-28T20:38:51.662Z"
   },
   {
    "duration": 31,
    "start_time": "2022-11-28T20:38:52.437Z"
   },
   {
    "duration": 587,
    "start_time": "2022-11-28T20:38:53.393Z"
   },
   {
    "duration": 31,
    "start_time": "2022-11-28T20:39:17.723Z"
   },
   {
    "duration": 560,
    "start_time": "2022-11-28T20:41:30.849Z"
   },
   {
    "duration": 47,
    "start_time": "2022-11-28T20:41:35.682Z"
   },
   {
    "duration": 11,
    "start_time": "2022-11-28T20:42:39.023Z"
   },
   {
    "duration": 498,
    "start_time": "2022-11-28T20:42:46.032Z"
   },
   {
    "duration": 38,
    "start_time": "2022-11-28T20:42:47.212Z"
   },
   {
    "duration": 1446,
    "start_time": "2022-11-28T20:46:45.952Z"
   },
   {
    "duration": 232,
    "start_time": "2022-11-28T20:46:47.400Z"
   },
   {
    "duration": 4,
    "start_time": "2022-11-28T20:46:47.634Z"
   },
   {
    "duration": 104,
    "start_time": "2022-11-28T20:46:47.640Z"
   },
   {
    "duration": 64,
    "start_time": "2022-11-28T20:46:47.745Z"
   },
   {
    "duration": 3,
    "start_time": "2022-11-28T20:46:47.810Z"
   },
   {
    "duration": 537,
    "start_time": "2022-11-28T20:46:47.815Z"
   },
   {
    "duration": 25,
    "start_time": "2022-11-28T20:46:48.354Z"
   },
   {
    "duration": 518,
    "start_time": "2022-11-28T20:46:48.380Z"
   },
   {
    "duration": 12,
    "start_time": "2022-11-28T20:46:48.901Z"
   },
   {
    "duration": 63,
    "start_time": "2022-11-28T20:46:48.915Z"
   },
   {
    "duration": 3,
    "start_time": "2022-11-28T20:46:48.980Z"
   },
   {
    "duration": 93,
    "start_time": "2022-11-28T20:46:48.985Z"
   },
   {
    "duration": 89,
    "start_time": "2022-11-28T20:46:49.079Z"
   },
   {
    "duration": 4,
    "start_time": "2022-11-28T20:46:49.177Z"
   },
   {
    "duration": 17,
    "start_time": "2022-11-28T20:46:49.183Z"
   },
   {
    "duration": 9,
    "start_time": "2022-11-28T20:46:49.202Z"
   },
   {
    "duration": 760,
    "start_time": "2022-11-28T20:46:49.213Z"
   },
   {
    "duration": 398,
    "start_time": "2022-11-28T20:46:49.975Z"
   },
   {
    "duration": 6,
    "start_time": "2022-11-28T20:46:50.374Z"
   },
   {
    "duration": 15,
    "start_time": "2022-11-28T20:46:50.381Z"
   },
   {
    "duration": 106,
    "start_time": "2022-11-28T20:46:50.397Z"
   },
   {
    "duration": 37,
    "start_time": "2022-11-28T20:46:50.505Z"
   },
   {
    "duration": 456,
    "start_time": "2022-11-28T20:46:50.544Z"
   },
   {
    "duration": 1419,
    "start_time": "2022-11-28T20:47:20.466Z"
   },
   {
    "duration": 903,
    "start_time": "2022-11-28T20:47:21.887Z"
   },
   {
    "duration": 3,
    "start_time": "2022-11-28T20:47:22.792Z"
   },
   {
    "duration": 101,
    "start_time": "2022-11-28T20:47:22.797Z"
   },
   {
    "duration": 64,
    "start_time": "2022-11-28T20:47:22.900Z"
   },
   {
    "duration": 3,
    "start_time": "2022-11-28T20:47:22.966Z"
   },
   {
    "duration": 602,
    "start_time": "2022-11-28T20:47:22.979Z"
   },
   {
    "duration": 19,
    "start_time": "2022-11-28T20:47:23.583Z"
   },
   {
    "duration": 677,
    "start_time": "2022-11-28T20:47:23.604Z"
   },
   {
    "duration": 16,
    "start_time": "2022-11-28T20:47:24.284Z"
   },
   {
    "duration": 46,
    "start_time": "2022-11-28T20:47:24.302Z"
   },
   {
    "duration": 30,
    "start_time": "2022-11-28T20:47:24.349Z"
   },
   {
    "duration": 64,
    "start_time": "2022-11-28T20:47:24.381Z"
   },
   {
    "duration": 104,
    "start_time": "2022-11-28T20:47:24.447Z"
   },
   {
    "duration": 5,
    "start_time": "2022-11-28T20:47:24.553Z"
   },
   {
    "duration": 12,
    "start_time": "2022-11-28T20:47:24.560Z"
   },
   {
    "duration": 10,
    "start_time": "2022-11-28T20:47:24.578Z"
   },
   {
    "duration": 811,
    "start_time": "2022-11-28T20:47:24.590Z"
   },
   {
    "duration": 459,
    "start_time": "2022-11-28T20:47:25.402Z"
   },
   {
    "duration": 4,
    "start_time": "2022-11-28T20:47:25.862Z"
   },
   {
    "duration": 10,
    "start_time": "2022-11-28T20:47:25.878Z"
   },
   {
    "duration": 104,
    "start_time": "2022-11-28T20:47:25.891Z"
   },
   {
    "duration": 33,
    "start_time": "2022-11-28T20:47:25.997Z"
   },
   {
    "duration": 514,
    "start_time": "2022-11-28T20:47:26.031Z"
   },
   {
    "duration": 1393,
    "start_time": "2022-11-28T20:48:46.556Z"
   },
   {
    "duration": 877,
    "start_time": "2022-11-28T20:48:47.951Z"
   },
   {
    "duration": 4,
    "start_time": "2022-11-28T20:48:48.829Z"
   },
   {
    "duration": 125,
    "start_time": "2022-11-28T20:48:48.835Z"
   },
   {
    "duration": 70,
    "start_time": "2022-11-28T20:48:48.962Z"
   },
   {
    "duration": 3,
    "start_time": "2022-11-28T20:48:49.034Z"
   },
   {
    "duration": 561,
    "start_time": "2022-11-28T20:48:49.039Z"
   },
   {
    "duration": 14,
    "start_time": "2022-11-28T20:48:49.602Z"
   },
   {
    "duration": 530,
    "start_time": "2022-11-28T20:48:49.618Z"
   },
   {
    "duration": 11,
    "start_time": "2022-11-28T20:48:50.151Z"
   },
   {
    "duration": 52,
    "start_time": "2022-11-28T20:48:50.164Z"
   },
   {
    "duration": 5,
    "start_time": "2022-11-28T20:48:50.217Z"
   },
   {
    "duration": 56,
    "start_time": "2022-11-28T20:48:50.223Z"
   },
   {
    "duration": 97,
    "start_time": "2022-11-28T20:48:50.281Z"
   },
   {
    "duration": 3,
    "start_time": "2022-11-28T20:48:50.380Z"
   },
   {
    "duration": 12,
    "start_time": "2022-11-28T20:48:50.385Z"
   },
   {
    "duration": 6,
    "start_time": "2022-11-28T20:48:50.399Z"
   },
   {
    "duration": 754,
    "start_time": "2022-11-28T20:48:50.407Z"
   },
   {
    "duration": 377,
    "start_time": "2022-11-28T20:48:51.163Z"
   },
   {
    "duration": 4,
    "start_time": "2022-11-28T20:48:51.541Z"
   },
   {
    "duration": 14,
    "start_time": "2022-11-28T20:48:51.546Z"
   },
   {
    "duration": 106,
    "start_time": "2022-11-28T20:48:51.562Z"
   },
   {
    "duration": 35,
    "start_time": "2022-11-28T20:48:51.669Z"
   },
   {
    "duration": 453,
    "start_time": "2022-11-28T20:48:51.707Z"
   },
   {
    "duration": 1385,
    "start_time": "2022-11-28T20:49:10.763Z"
   },
   {
    "duration": 869,
    "start_time": "2022-11-28T20:49:12.150Z"
   },
   {
    "duration": 4,
    "start_time": "2022-11-28T20:49:13.021Z"
   },
   {
    "duration": 134,
    "start_time": "2022-11-28T20:49:13.027Z"
   },
   {
    "duration": 71,
    "start_time": "2022-11-28T20:49:13.163Z"
   },
   {
    "duration": 3,
    "start_time": "2022-11-28T20:49:13.235Z"
   },
   {
    "duration": 527,
    "start_time": "2022-11-28T20:49:13.241Z"
   },
   {
    "duration": 18,
    "start_time": "2022-11-28T20:49:13.770Z"
   },
   {
    "duration": 597,
    "start_time": "2022-11-28T20:49:13.790Z"
   },
   {
    "duration": 12,
    "start_time": "2022-11-28T20:49:14.389Z"
   },
   {
    "duration": 46,
    "start_time": "2022-11-28T20:49:14.403Z"
   },
   {
    "duration": 3,
    "start_time": "2022-11-28T20:49:14.450Z"
   },
   {
    "duration": 61,
    "start_time": "2022-11-28T20:49:14.455Z"
   },
   {
    "duration": 92,
    "start_time": "2022-11-28T20:49:14.519Z"
   },
   {
    "duration": 3,
    "start_time": "2022-11-28T20:49:14.613Z"
   },
   {
    "duration": 25,
    "start_time": "2022-11-28T20:49:14.617Z"
   },
   {
    "duration": 11,
    "start_time": "2022-11-28T20:49:14.644Z"
   },
   {
    "duration": 760,
    "start_time": "2022-11-28T20:49:14.657Z"
   },
   {
    "duration": 396,
    "start_time": "2022-11-28T20:49:15.419Z"
   },
   {
    "duration": 3,
    "start_time": "2022-11-28T20:49:15.817Z"
   },
   {
    "duration": 43,
    "start_time": "2022-11-28T20:49:15.822Z"
   },
   {
    "duration": 114,
    "start_time": "2022-11-28T20:49:15.867Z"
   },
   {
    "duration": 37,
    "start_time": "2022-11-28T20:49:15.982Z"
   },
   {
    "duration": 489,
    "start_time": "2022-11-28T20:49:16.021Z"
   },
   {
    "duration": 3,
    "start_time": "2022-11-28T20:49:16.511Z"
   },
   {
    "duration": 3624,
    "start_time": "2022-11-28T20:49:16.516Z"
   },
   {
    "duration": 66703,
    "start_time": "2022-11-28T20:49:20.142Z"
   },
   {
    "duration": 27632,
    "start_time": "2022-11-28T20:50:26.846Z"
   },
   {
    "duration": 49151,
    "start_time": "2022-11-28T20:50:54.480Z"
   },
   {
    "duration": 0,
    "start_time": "2022-11-28T20:51:43.634Z"
   },
   {
    "duration": 0,
    "start_time": "2022-11-28T20:51:43.636Z"
   },
   {
    "duration": 43,
    "start_time": "2022-11-28T20:51:47.457Z"
   },
   {
    "duration": 33,
    "start_time": "2022-11-28T20:54:39.913Z"
   },
   {
    "duration": 44,
    "start_time": "2022-11-28T20:55:47.007Z"
   },
   {
    "duration": 1357,
    "start_time": "2022-11-28T20:56:14.484Z"
   },
   {
    "duration": 903,
    "start_time": "2022-11-28T20:56:15.844Z"
   },
   {
    "duration": 3,
    "start_time": "2022-11-28T20:56:16.748Z"
   },
   {
    "duration": 108,
    "start_time": "2022-11-28T20:56:16.753Z"
   },
   {
    "duration": 73,
    "start_time": "2022-11-28T20:56:16.864Z"
   },
   {
    "duration": 3,
    "start_time": "2022-11-28T20:56:16.939Z"
   },
   {
    "duration": 558,
    "start_time": "2022-11-28T20:56:16.944Z"
   },
   {
    "duration": 13,
    "start_time": "2022-11-28T20:56:17.504Z"
   },
   {
    "duration": 524,
    "start_time": "2022-11-28T20:56:17.519Z"
   },
   {
    "duration": 11,
    "start_time": "2022-11-28T20:56:18.045Z"
   },
   {
    "duration": 56,
    "start_time": "2022-11-28T20:56:18.058Z"
   },
   {
    "duration": 3,
    "start_time": "2022-11-28T20:56:18.116Z"
   },
   {
    "duration": 67,
    "start_time": "2022-11-28T20:56:18.121Z"
   },
   {
    "duration": 90,
    "start_time": "2022-11-28T20:56:18.191Z"
   },
   {
    "duration": 4,
    "start_time": "2022-11-28T20:56:18.282Z"
   },
   {
    "duration": 18,
    "start_time": "2022-11-28T20:56:18.287Z"
   },
   {
    "duration": 23,
    "start_time": "2022-11-28T20:56:18.306Z"
   },
   {
    "duration": 757,
    "start_time": "2022-11-28T20:56:18.330Z"
   },
   {
    "duration": 403,
    "start_time": "2022-11-28T20:56:19.089Z"
   },
   {
    "duration": 3,
    "start_time": "2022-11-28T20:56:19.494Z"
   },
   {
    "duration": 124,
    "start_time": "2022-11-28T20:56:19.498Z"
   },
   {
    "duration": 34,
    "start_time": "2022-11-28T20:56:19.624Z"
   },
   {
    "duration": 470,
    "start_time": "2022-11-28T20:56:19.659Z"
   },
   {
    "duration": 56,
    "start_time": "2022-11-28T20:56:20.131Z"
   },
   {
    "duration": 2,
    "start_time": "2022-11-28T20:56:20.188Z"
   },
   {
    "duration": 3295,
    "start_time": "2022-11-28T20:56:20.192Z"
   },
   {
    "duration": 64520,
    "start_time": "2022-11-28T20:56:23.489Z"
   },
   {
    "duration": 27675,
    "start_time": "2022-11-28T20:57:28.011Z"
   },
   {
    "duration": 1346,
    "start_time": "2022-11-28T20:57:58.117Z"
   },
   {
    "duration": 250,
    "start_time": "2022-11-28T20:57:59.465Z"
   },
   {
    "duration": 3,
    "start_time": "2022-11-28T20:57:59.717Z"
   },
   {
    "duration": 139,
    "start_time": "2022-11-28T20:57:59.722Z"
   },
   {
    "duration": 78,
    "start_time": "2022-11-28T20:57:59.864Z"
   },
   {
    "duration": 4,
    "start_time": "2022-11-28T20:57:59.944Z"
   },
   {
    "duration": 570,
    "start_time": "2022-11-28T20:57:59.950Z"
   },
   {
    "duration": 15,
    "start_time": "2022-11-28T20:58:00.521Z"
   },
   {
    "duration": 518,
    "start_time": "2022-11-28T20:58:00.538Z"
   },
   {
    "duration": 24,
    "start_time": "2022-11-28T20:58:01.058Z"
   },
   {
    "duration": 68,
    "start_time": "2022-11-28T20:58:01.084Z"
   },
   {
    "duration": 4,
    "start_time": "2022-11-28T20:58:01.154Z"
   },
   {
    "duration": 93,
    "start_time": "2022-11-28T20:58:01.159Z"
   },
   {
    "duration": 105,
    "start_time": "2022-11-28T20:58:01.256Z"
   },
   {
    "duration": 4,
    "start_time": "2022-11-28T20:58:01.363Z"
   },
   {
    "duration": 41,
    "start_time": "2022-11-28T20:58:01.368Z"
   },
   {
    "duration": 58,
    "start_time": "2022-11-28T20:58:01.410Z"
   },
   {
    "duration": 795,
    "start_time": "2022-11-28T20:58:01.470Z"
   },
   {
    "duration": 435,
    "start_time": "2022-11-28T20:58:02.267Z"
   },
   {
    "duration": 4,
    "start_time": "2022-11-28T20:58:02.703Z"
   },
   {
    "duration": 131,
    "start_time": "2022-11-28T20:58:02.709Z"
   },
   {
    "duration": 45,
    "start_time": "2022-11-28T20:58:02.842Z"
   },
   {
    "duration": 529,
    "start_time": "2022-11-28T20:58:02.888Z"
   },
   {
    "duration": 1246,
    "start_time": "2022-11-28T20:58:03.418Z"
   },
   {
    "duration": 2,
    "start_time": "2022-11-28T20:58:04.666Z"
   },
   {
    "duration": 3567,
    "start_time": "2022-11-28T20:58:04.670Z"
   },
   {
    "duration": 7919,
    "start_time": "2022-11-28T20:58:08.239Z"
   },
   {
    "duration": 30819,
    "start_time": "2022-11-28T20:58:16.160Z"
   },
   {
    "duration": 42337,
    "start_time": "2022-11-28T20:58:46.981Z"
   },
   {
    "duration": 0,
    "start_time": "2022-11-28T20:59:29.320Z"
   },
   {
    "duration": 0,
    "start_time": "2022-11-28T20:59:29.322Z"
   },
   {
    "duration": 35,
    "start_time": "2022-11-28T20:59:32.150Z"
   },
   {
    "duration": 493,
    "start_time": "2022-11-28T21:01:00.212Z"
   },
   {
    "duration": 979,
    "start_time": "2022-11-28T21:01:33.504Z"
   },
   {
    "duration": 11,
    "start_time": "2022-11-28T21:03:06.193Z"
   },
   {
    "duration": 25,
    "start_time": "2022-11-28T21:03:08.244Z"
   },
   {
    "duration": 1341,
    "start_time": "2022-11-28T21:06:38.615Z"
   },
   {
    "duration": 236,
    "start_time": "2022-11-28T21:06:39.958Z"
   },
   {
    "duration": 4,
    "start_time": "2022-11-28T21:06:40.196Z"
   },
   {
    "duration": 106,
    "start_time": "2022-11-28T21:06:40.201Z"
   },
   {
    "duration": 71,
    "start_time": "2022-11-28T21:06:40.309Z"
   },
   {
    "duration": 4,
    "start_time": "2022-11-28T21:06:40.381Z"
   },
   {
    "duration": 533,
    "start_time": "2022-11-28T21:06:40.387Z"
   },
   {
    "duration": 19,
    "start_time": "2022-11-28T21:06:40.922Z"
   },
   {
    "duration": 548,
    "start_time": "2022-11-28T21:06:40.943Z"
   },
   {
    "duration": 13,
    "start_time": "2022-11-28T21:06:41.492Z"
   },
   {
    "duration": 52,
    "start_time": "2022-11-28T21:06:41.506Z"
   },
   {
    "duration": 7,
    "start_time": "2022-11-28T21:06:41.559Z"
   },
   {
    "duration": 51,
    "start_time": "2022-11-28T21:06:41.577Z"
   },
   {
    "duration": 98,
    "start_time": "2022-11-28T21:06:41.631Z"
   },
   {
    "duration": 3,
    "start_time": "2022-11-28T21:06:41.731Z"
   },
   {
    "duration": 23,
    "start_time": "2022-11-28T21:06:41.736Z"
   },
   {
    "duration": 27,
    "start_time": "2022-11-28T21:06:41.761Z"
   },
   {
    "duration": 787,
    "start_time": "2022-11-28T21:06:41.789Z"
   },
   {
    "duration": 365,
    "start_time": "2022-11-28T21:06:42.578Z"
   },
   {
    "duration": 3,
    "start_time": "2022-11-28T21:06:42.945Z"
   },
   {
    "duration": 126,
    "start_time": "2022-11-28T21:06:42.949Z"
   },
   {
    "duration": 1522,
    "start_time": "2022-11-28T21:06:43.077Z"
   },
   {
    "duration": 36,
    "start_time": "2022-11-28T21:06:44.601Z"
   },
   {
    "duration": 3265,
    "start_time": "2022-11-28T21:06:44.639Z"
   },
   {
    "duration": 8032,
    "start_time": "2022-11-28T21:06:47.906Z"
   },
   {
    "duration": 16045,
    "start_time": "2022-11-28T21:06:55.940Z"
   },
   {
    "duration": 1340,
    "start_time": "2022-11-28T21:08:16.955Z"
   },
   {
    "duration": 232,
    "start_time": "2022-11-28T21:08:18.297Z"
   },
   {
    "duration": 4,
    "start_time": "2022-11-28T21:08:18.530Z"
   },
   {
    "duration": 113,
    "start_time": "2022-11-28T21:08:18.535Z"
   },
   {
    "duration": 63,
    "start_time": "2022-11-28T21:08:18.650Z"
   },
   {
    "duration": 4,
    "start_time": "2022-11-28T21:08:18.715Z"
   },
   {
    "duration": 562,
    "start_time": "2022-11-28T21:08:18.720Z"
   },
   {
    "duration": 13,
    "start_time": "2022-11-28T21:08:19.283Z"
   },
   {
    "duration": 512,
    "start_time": "2022-11-28T21:08:19.298Z"
   },
   {
    "duration": 11,
    "start_time": "2022-11-28T21:08:19.813Z"
   },
   {
    "duration": 59,
    "start_time": "2022-11-28T21:08:19.825Z"
   },
   {
    "duration": 4,
    "start_time": "2022-11-28T21:08:19.886Z"
   },
   {
    "duration": 50,
    "start_time": "2022-11-28T21:08:19.892Z"
   },
   {
    "duration": 94,
    "start_time": "2022-11-28T21:08:19.944Z"
   },
   {
    "duration": 4,
    "start_time": "2022-11-28T21:08:20.040Z"
   },
   {
    "duration": 10,
    "start_time": "2022-11-28T21:08:20.046Z"
   },
   {
    "duration": 21,
    "start_time": "2022-11-28T21:08:20.057Z"
   },
   {
    "duration": 752,
    "start_time": "2022-11-28T21:08:20.079Z"
   },
   {
    "duration": 419,
    "start_time": "2022-11-28T21:08:20.833Z"
   },
   {
    "duration": 3,
    "start_time": "2022-11-28T21:08:21.254Z"
   },
   {
    "duration": 99,
    "start_time": "2022-11-28T21:08:21.258Z"
   },
   {
    "duration": 1380,
    "start_time": "2022-11-28T21:08:21.359Z"
   },
   {
    "duration": 43,
    "start_time": "2022-11-28T21:08:22.741Z"
   },
   {
    "duration": 5337,
    "start_time": "2022-11-28T21:08:22.786Z"
   },
   {
    "duration": 7782,
    "start_time": "2022-11-28T21:08:28.125Z"
   },
   {
    "duration": 19977,
    "start_time": "2022-11-28T21:08:35.909Z"
   },
   {
    "duration": 31219,
    "start_time": "2022-11-28T21:08:55.888Z"
   },
   {
    "duration": 0,
    "start_time": "2022-11-28T21:09:27.109Z"
   },
   {
    "duration": 0,
    "start_time": "2022-11-28T21:09:27.110Z"
   },
   {
    "duration": 0,
    "start_time": "2022-11-28T21:09:27.112Z"
   },
   {
    "duration": 26,
    "start_time": "2022-11-28T21:09:30.272Z"
   },
   {
    "duration": 34,
    "start_time": "2022-11-28T21:09:46.791Z"
   },
   {
    "duration": 4,
    "start_time": "2022-11-28T21:09:52.629Z"
   },
   {
    "duration": 1653,
    "start_time": "2022-11-29T17:29:49.733Z"
   },
   {
    "duration": 866,
    "start_time": "2022-11-29T17:29:51.388Z"
   },
   {
    "duration": 4,
    "start_time": "2022-11-29T17:29:52.256Z"
   },
   {
    "duration": 114,
    "start_time": "2022-11-29T17:29:52.262Z"
   },
   {
    "duration": 74,
    "start_time": "2022-11-29T17:29:52.377Z"
   },
   {
    "duration": 3,
    "start_time": "2022-11-29T17:29:52.452Z"
   },
   {
    "duration": 595,
    "start_time": "2022-11-29T17:29:52.457Z"
   },
   {
    "duration": 14,
    "start_time": "2022-11-29T17:29:53.054Z"
   },
   {
    "duration": 572,
    "start_time": "2022-11-29T17:29:53.070Z"
   },
   {
    "duration": 12,
    "start_time": "2022-11-29T17:29:53.650Z"
   },
   {
    "duration": 50,
    "start_time": "2022-11-29T17:29:53.663Z"
   },
   {
    "duration": 4,
    "start_time": "2022-11-29T17:29:53.714Z"
   },
   {
    "duration": 69,
    "start_time": "2022-11-29T17:29:53.720Z"
   },
   {
    "duration": 108,
    "start_time": "2022-11-29T17:29:53.791Z"
   },
   {
    "duration": 4,
    "start_time": "2022-11-29T17:29:53.900Z"
   },
   {
    "duration": 14,
    "start_time": "2022-11-29T17:29:53.906Z"
   },
   {
    "duration": 8,
    "start_time": "2022-11-29T17:29:53.921Z"
   },
   {
    "duration": 849,
    "start_time": "2022-11-29T17:29:53.931Z"
   },
   {
    "duration": 447,
    "start_time": "2022-11-29T17:29:54.782Z"
   },
   {
    "duration": 4,
    "start_time": "2022-11-29T17:29:55.231Z"
   },
   {
    "duration": 112,
    "start_time": "2022-11-29T17:29:55.236Z"
   },
   {
    "duration": 1615,
    "start_time": "2022-11-29T17:29:55.350Z"
   },
   {
    "duration": 45,
    "start_time": "2022-11-29T17:29:56.967Z"
   },
   {
    "duration": 5319,
    "start_time": "2022-11-29T17:29:57.013Z"
   },
   {
    "duration": 8188,
    "start_time": "2022-11-29T17:30:02.334Z"
   },
   {
    "duration": 12029,
    "start_time": "2022-11-29T17:30:10.524Z"
   },
   {
    "duration": 47903,
    "start_time": "2022-11-29T17:30:22.556Z"
   },
   {
    "duration": 251,
    "start_time": "2022-11-29T17:31:10.554Z"
   },
   {
    "duration": 164,
    "start_time": "2022-11-29T17:32:35.322Z"
   },
   {
    "duration": 75,
    "start_time": "2022-11-29T17:58:15.901Z"
   },
   {
    "duration": 9,
    "start_time": "2022-11-29T17:58:25.183Z"
   },
   {
    "duration": 4,
    "start_time": "2022-11-29T17:59:40.701Z"
   },
   {
    "duration": 5,
    "start_time": "2022-11-29T18:04:28.189Z"
   },
   {
    "duration": 5,
    "start_time": "2022-11-29T18:07:39.569Z"
   },
   {
    "duration": 6,
    "start_time": "2022-11-29T18:08:02.553Z"
   },
   {
    "duration": 5,
    "start_time": "2022-11-29T18:09:04.163Z"
   },
   {
    "duration": 5,
    "start_time": "2022-11-29T18:11:27.057Z"
   },
   {
    "duration": 4,
    "start_time": "2022-11-29T18:12:14.906Z"
   },
   {
    "duration": 12,
    "start_time": "2022-11-29T18:47:32.525Z"
   },
   {
    "duration": 923,
    "start_time": "2022-11-29T18:47:33.848Z"
   },
   {
    "duration": 456,
    "start_time": "2022-11-29T18:47:36.280Z"
   },
   {
    "duration": 6,
    "start_time": "2022-11-29T19:07:02.917Z"
   },
   {
    "duration": 5,
    "start_time": "2022-11-29T19:07:13.904Z"
   },
   {
    "duration": 5,
    "start_time": "2022-11-29T19:07:14.513Z"
   },
   {
    "duration": 87,
    "start_time": "2022-11-29T19:08:09.559Z"
   },
   {
    "duration": 1545,
    "start_time": "2022-11-29T19:08:14.070Z"
   },
   {
    "duration": 271,
    "start_time": "2022-11-29T19:08:15.619Z"
   },
   {
    "duration": 4,
    "start_time": "2022-11-29T19:08:15.894Z"
   },
   {
    "duration": 128,
    "start_time": "2022-11-29T19:08:15.900Z"
   },
   {
    "duration": 76,
    "start_time": "2022-11-29T19:08:16.032Z"
   },
   {
    "duration": 4,
    "start_time": "2022-11-29T19:08:16.110Z"
   },
   {
    "duration": 788,
    "start_time": "2022-11-29T19:08:16.115Z"
   },
   {
    "duration": 15,
    "start_time": "2022-11-29T19:08:16.906Z"
   },
   {
    "duration": 656,
    "start_time": "2022-11-29T19:08:16.923Z"
   },
   {
    "duration": 14,
    "start_time": "2022-11-29T19:08:17.581Z"
   },
   {
    "duration": 71,
    "start_time": "2022-11-29T19:08:17.596Z"
   },
   {
    "duration": 3,
    "start_time": "2022-11-29T19:08:17.669Z"
   },
   {
    "duration": 50,
    "start_time": "2022-11-29T19:08:17.674Z"
   },
   {
    "duration": 145,
    "start_time": "2022-11-29T19:08:17.728Z"
   },
   {
    "duration": 4,
    "start_time": "2022-11-29T19:08:17.876Z"
   },
   {
    "duration": 9,
    "start_time": "2022-11-29T19:08:17.882Z"
   },
   {
    "duration": 22,
    "start_time": "2022-11-29T19:08:17.893Z"
   },
   {
    "duration": 999,
    "start_time": "2022-11-29T19:08:17.917Z"
   },
   {
    "duration": 580,
    "start_time": "2022-11-29T19:08:18.919Z"
   },
   {
    "duration": 5,
    "start_time": "2022-11-29T19:08:19.501Z"
   },
   {
    "duration": 124,
    "start_time": "2022-11-29T19:08:19.508Z"
   },
   {
    "duration": 1668,
    "start_time": "2022-11-29T19:08:19.634Z"
   },
   {
    "duration": 52,
    "start_time": "2022-11-29T19:08:21.304Z"
   },
   {
    "duration": 5896,
    "start_time": "2022-11-29T19:08:21.358Z"
   },
   {
    "duration": 8331,
    "start_time": "2022-11-29T19:08:27.257Z"
   },
   {
    "duration": 16461,
    "start_time": "2022-11-29T19:08:35.590Z"
   },
   {
    "duration": 50103,
    "start_time": "2022-11-29T19:08:52.054Z"
   },
   {
    "duration": 259,
    "start_time": "2022-11-29T19:09:42.161Z"
   },
   {
    "duration": 4,
    "start_time": "2022-11-29T19:09:42.421Z"
   },
   {
    "duration": 24,
    "start_time": "2022-11-29T19:09:42.427Z"
   },
   {
    "duration": 8,
    "start_time": "2022-11-29T19:09:42.453Z"
   },
   {
    "duration": 8,
    "start_time": "2022-11-29T19:09:42.463Z"
   },
   {
    "duration": 106,
    "start_time": "2022-11-29T19:09:42.473Z"
   },
   {
    "duration": 167,
    "start_time": "2022-11-29T19:09:55.127Z"
   },
   {
    "duration": 20,
    "start_time": "2022-11-29T19:11:02.994Z"
   },
   {
    "duration": 41,
    "start_time": "2022-11-29T19:11:56.491Z"
   },
   {
    "duration": 34,
    "start_time": "2022-11-29T19:12:39.001Z"
   },
   {
    "duration": 521,
    "start_time": "2022-11-29T19:13:09.339Z"
   },
   {
    "duration": 11,
    "start_time": "2022-11-29T19:15:03.546Z"
   },
   {
    "duration": 11,
    "start_time": "2022-11-29T19:15:09.210Z"
   },
   {
    "duration": 4,
    "start_time": "2022-11-29T19:15:20.298Z"
   },
   {
    "duration": 9,
    "start_time": "2022-11-29T19:19:30.919Z"
   },
   {
    "duration": 9,
    "start_time": "2022-11-29T19:19:54.631Z"
   },
   {
    "duration": 10,
    "start_time": "2022-11-29T19:22:59.280Z"
   },
   {
    "duration": 15,
    "start_time": "2022-11-29T19:23:29.862Z"
   },
   {
    "duration": 91,
    "start_time": "2022-11-29T19:24:54.828Z"
   },
   {
    "duration": 10,
    "start_time": "2022-11-29T19:28:44.452Z"
   },
   {
    "duration": 3189,
    "start_time": "2022-11-29T19:31:19.402Z"
   },
   {
    "duration": 80,
    "start_time": "2022-11-29T19:31:59.343Z"
   },
   {
    "duration": 74,
    "start_time": "2022-11-29T19:32:13.760Z"
   },
   {
    "duration": 11,
    "start_time": "2022-11-29T19:32:26.132Z"
   },
   {
    "duration": 72,
    "start_time": "2022-11-29T19:32:34.492Z"
   },
   {
    "duration": 6657,
    "start_time": "2022-11-29T19:32:58.954Z"
   },
   {
    "duration": 13,
    "start_time": "2022-11-29T19:33:14.915Z"
   },
   {
    "duration": 12,
    "start_time": "2022-11-29T19:33:25.976Z"
   },
   {
    "duration": 6433,
    "start_time": "2022-11-29T19:33:32.473Z"
   },
   {
    "duration": 3,
    "start_time": "2022-11-29T19:34:19.974Z"
   },
   {
    "duration": 3,
    "start_time": "2022-11-29T19:34:23.119Z"
   },
   {
    "duration": 86,
    "start_time": "2022-11-29T19:34:32.688Z"
   },
   {
    "duration": 72,
    "start_time": "2022-11-29T19:34:39.424Z"
   },
   {
    "duration": 13,
    "start_time": "2022-11-29T19:35:50.231Z"
   },
   {
    "duration": 9,
    "start_time": "2022-11-29T19:35:55.706Z"
   },
   {
    "duration": 10,
    "start_time": "2022-11-29T19:36:36.657Z"
   },
   {
    "duration": 74,
    "start_time": "2022-11-29T19:36:51.080Z"
   },
   {
    "duration": 75,
    "start_time": "2022-11-29T19:36:55.923Z"
   },
   {
    "duration": 73,
    "start_time": "2022-11-29T19:37:00.140Z"
   },
   {
    "duration": 11,
    "start_time": "2022-11-29T19:39:33.873Z"
   },
   {
    "duration": 3220,
    "start_time": "2022-11-29T19:40:03.149Z"
   },
   {
    "duration": 336,
    "start_time": "2022-11-29T19:42:19.524Z"
   },
   {
    "duration": 74,
    "start_time": "2022-11-29T19:50:51.404Z"
   },
   {
    "duration": 13,
    "start_time": "2022-11-29T19:50:58.267Z"
   },
   {
    "duration": 72,
    "start_time": "2022-11-29T19:58:10.408Z"
   },
   {
    "duration": 11,
    "start_time": "2022-11-29T19:58:40.248Z"
   },
   {
    "duration": 4,
    "start_time": "2022-11-29T19:58:55.917Z"
   },
   {
    "duration": 6,
    "start_time": "2022-11-29T19:59:07.922Z"
   },
   {
    "duration": 5,
    "start_time": "2022-11-29T20:03:59.495Z"
   },
   {
    "duration": 604,
    "start_time": "2022-11-29T20:14:44.081Z"
   },
   {
    "duration": 29,
    "start_time": "2022-11-29T20:17:03.303Z"
   },
   {
    "duration": 1530,
    "start_time": "2022-11-29T20:18:15.765Z"
   },
   {
    "duration": 257,
    "start_time": "2022-11-29T20:18:17.297Z"
   },
   {
    "duration": 9,
    "start_time": "2022-11-29T20:18:17.560Z"
   },
   {
    "duration": 122,
    "start_time": "2022-11-29T20:18:17.571Z"
   },
   {
    "duration": 74,
    "start_time": "2022-11-29T20:18:17.695Z"
   },
   {
    "duration": 3,
    "start_time": "2022-11-29T20:18:17.771Z"
   },
   {
    "duration": 601,
    "start_time": "2022-11-29T20:18:17.775Z"
   },
   {
    "duration": 14,
    "start_time": "2022-11-29T20:18:18.378Z"
   },
   {
    "duration": 587,
    "start_time": "2022-11-29T20:18:18.394Z"
   },
   {
    "duration": 11,
    "start_time": "2022-11-29T20:18:18.983Z"
   },
   {
    "duration": 77,
    "start_time": "2022-11-29T20:18:18.996Z"
   },
   {
    "duration": 4,
    "start_time": "2022-11-29T20:18:19.074Z"
   },
   {
    "duration": 54,
    "start_time": "2022-11-29T20:18:19.079Z"
   },
   {
    "duration": 134,
    "start_time": "2022-11-29T20:18:19.137Z"
   },
   {
    "duration": 4,
    "start_time": "2022-11-29T20:18:19.273Z"
   },
   {
    "duration": 7,
    "start_time": "2022-11-29T20:18:19.278Z"
   },
   {
    "duration": 9,
    "start_time": "2022-11-29T20:18:19.287Z"
   },
   {
    "duration": 1082,
    "start_time": "2022-11-29T20:18:19.298Z"
   },
   {
    "duration": 491,
    "start_time": "2022-11-29T20:18:20.382Z"
   },
   {
    "duration": 3,
    "start_time": "2022-11-29T20:18:20.874Z"
   },
   {
    "duration": 111,
    "start_time": "2022-11-29T20:18:20.879Z"
   },
   {
    "duration": 75,
    "start_time": "2022-11-29T20:18:20.992Z"
   },
   {
    "duration": 0,
    "start_time": "2022-11-29T20:18:21.069Z"
   },
   {
    "duration": 0,
    "start_time": "2022-11-29T20:18:21.070Z"
   },
   {
    "duration": 0,
    "start_time": "2022-11-29T20:18:21.071Z"
   },
   {
    "duration": 0,
    "start_time": "2022-11-29T20:18:21.072Z"
   },
   {
    "duration": 0,
    "start_time": "2022-11-29T20:18:21.073Z"
   },
   {
    "duration": 0,
    "start_time": "2022-11-29T20:18:21.074Z"
   },
   {
    "duration": 0,
    "start_time": "2022-11-29T20:18:21.075Z"
   },
   {
    "duration": 0,
    "start_time": "2022-11-29T20:18:21.077Z"
   },
   {
    "duration": 0,
    "start_time": "2022-11-29T20:18:21.077Z"
   },
   {
    "duration": 0,
    "start_time": "2022-11-29T20:18:21.078Z"
   },
   {
    "duration": 1591,
    "start_time": "2022-11-29T20:19:10.456Z"
   },
   {
    "duration": 296,
    "start_time": "2022-11-29T20:19:12.049Z"
   },
   {
    "duration": 4,
    "start_time": "2022-11-29T20:19:12.346Z"
   },
   {
    "duration": 138,
    "start_time": "2022-11-29T20:19:12.355Z"
   },
   {
    "duration": 77,
    "start_time": "2022-11-29T20:19:12.496Z"
   },
   {
    "duration": 4,
    "start_time": "2022-11-29T20:19:12.575Z"
   },
   {
    "duration": 649,
    "start_time": "2022-11-29T20:19:12.581Z"
   },
   {
    "duration": 26,
    "start_time": "2022-11-29T20:19:13.232Z"
   },
   {
    "duration": 610,
    "start_time": "2022-11-29T20:19:13.259Z"
   },
   {
    "duration": 12,
    "start_time": "2022-11-29T20:19:13.871Z"
   },
   {
    "duration": 47,
    "start_time": "2022-11-29T20:19:13.885Z"
   },
   {
    "duration": 18,
    "start_time": "2022-11-29T20:19:13.934Z"
   },
   {
    "duration": 48,
    "start_time": "2022-11-29T20:19:13.964Z"
   },
   {
    "duration": 108,
    "start_time": "2022-11-29T20:19:14.015Z"
   },
   {
    "duration": 4,
    "start_time": "2022-11-29T20:19:14.124Z"
   },
   {
    "duration": 11,
    "start_time": "2022-11-29T20:19:14.130Z"
   },
   {
    "duration": 18,
    "start_time": "2022-11-29T20:19:14.153Z"
   },
   {
    "duration": 992,
    "start_time": "2022-11-29T20:19:14.173Z"
   },
   {
    "duration": 495,
    "start_time": "2022-11-29T20:19:15.167Z"
   },
   {
    "duration": 4,
    "start_time": "2022-11-29T20:19:15.667Z"
   },
   {
    "duration": 108,
    "start_time": "2022-11-29T20:19:15.673Z"
   },
   {
    "duration": 72,
    "start_time": "2022-11-29T20:19:15.783Z"
   },
   {
    "duration": 0,
    "start_time": "2022-11-29T20:19:15.856Z"
   },
   {
    "duration": 0,
    "start_time": "2022-11-29T20:19:15.858Z"
   },
   {
    "duration": 0,
    "start_time": "2022-11-29T20:19:15.860Z"
   },
   {
    "duration": 0,
    "start_time": "2022-11-29T20:19:15.861Z"
   },
   {
    "duration": 0,
    "start_time": "2022-11-29T20:19:15.862Z"
   },
   {
    "duration": 0,
    "start_time": "2022-11-29T20:19:15.864Z"
   },
   {
    "duration": 0,
    "start_time": "2022-11-29T20:19:15.865Z"
   },
   {
    "duration": 0,
    "start_time": "2022-11-29T20:19:15.866Z"
   },
   {
    "duration": 0,
    "start_time": "2022-11-29T20:19:15.867Z"
   },
   {
    "duration": 1407,
    "start_time": "2022-11-29T20:19:23.697Z"
   },
   {
    "duration": 273,
    "start_time": "2022-11-29T20:19:25.106Z"
   },
   {
    "duration": 4,
    "start_time": "2022-11-29T20:19:25.381Z"
   },
   {
    "duration": 127,
    "start_time": "2022-11-29T20:19:25.387Z"
   },
   {
    "duration": 81,
    "start_time": "2022-11-29T20:19:25.517Z"
   },
   {
    "duration": 3,
    "start_time": "2022-11-29T20:19:25.600Z"
   },
   {
    "duration": 615,
    "start_time": "2022-11-29T20:19:25.604Z"
   },
   {
    "duration": 13,
    "start_time": "2022-11-29T20:19:26.221Z"
   },
   {
    "duration": 580,
    "start_time": "2022-11-29T20:19:26.236Z"
   },
   {
    "duration": 13,
    "start_time": "2022-11-29T20:19:26.818Z"
   },
   {
    "duration": 72,
    "start_time": "2022-11-29T20:19:26.832Z"
   },
   {
    "duration": 3,
    "start_time": "2022-11-29T20:19:26.906Z"
   },
   {
    "duration": 56,
    "start_time": "2022-11-29T20:19:26.911Z"
   },
   {
    "duration": 101,
    "start_time": "2022-11-29T20:19:26.970Z"
   },
   {
    "duration": 4,
    "start_time": "2022-11-29T20:19:27.072Z"
   },
   {
    "duration": 13,
    "start_time": "2022-11-29T20:19:27.077Z"
   },
   {
    "duration": 7,
    "start_time": "2022-11-29T20:19:27.091Z"
   },
   {
    "duration": 972,
    "start_time": "2022-11-29T20:19:27.100Z"
   },
   {
    "duration": 523,
    "start_time": "2022-11-29T20:19:28.073Z"
   },
   {
    "duration": 4,
    "start_time": "2022-11-29T20:19:28.597Z"
   },
   {
    "duration": 116,
    "start_time": "2022-11-29T20:19:28.602Z"
   },
   {
    "duration": 82,
    "start_time": "2022-11-29T20:19:28.720Z"
   },
   {
    "duration": 0,
    "start_time": "2022-11-29T20:19:28.804Z"
   },
   {
    "duration": 0,
    "start_time": "2022-11-29T20:19:28.805Z"
   },
   {
    "duration": 0,
    "start_time": "2022-11-29T20:19:28.806Z"
   },
   {
    "duration": 0,
    "start_time": "2022-11-29T20:19:28.807Z"
   },
   {
    "duration": 0,
    "start_time": "2022-11-29T20:19:28.808Z"
   },
   {
    "duration": 0,
    "start_time": "2022-11-29T20:19:28.809Z"
   },
   {
    "duration": 0,
    "start_time": "2022-11-29T20:19:28.811Z"
   },
   {
    "duration": 0,
    "start_time": "2022-11-29T20:19:28.812Z"
   },
   {
    "duration": 1,
    "start_time": "2022-11-29T20:19:28.813Z"
   },
   {
    "duration": 1550,
    "start_time": "2022-11-29T20:20:23.419Z"
   },
   {
    "duration": 52,
    "start_time": "2022-11-29T20:20:24.972Z"
   },
   {
    "duration": 5384,
    "start_time": "2022-11-29T20:20:25.027Z"
   },
   {
    "duration": 8250,
    "start_time": "2022-11-29T20:20:30.413Z"
   },
   {
    "duration": 24501,
    "start_time": "2022-11-29T20:20:38.665Z"
   },
   {
    "duration": 54285,
    "start_time": "2022-11-29T20:21:03.168Z"
   },
   {
    "duration": 251,
    "start_time": "2022-11-29T20:21:57.461Z"
   },
   {
    "duration": 4,
    "start_time": "2022-11-29T20:21:57.715Z"
   },
   {
    "duration": 10,
    "start_time": "2022-11-29T20:21:57.720Z"
   },
   {
    "duration": 671,
    "start_time": "2022-11-29T20:21:57.732Z"
   },
   {
    "duration": 3,
    "start_time": "2022-11-29T20:23:19.545Z"
   },
   {
    "duration": 6916,
    "start_time": "2022-11-29T20:23:20.171Z"
   },
   {
    "duration": 34,
    "start_time": "2022-11-29T20:23:58.874Z"
   },
   {
    "duration": 12,
    "start_time": "2022-11-29T20:24:41.489Z"
   },
   {
    "duration": 3,
    "start_time": "2022-11-29T20:25:03.322Z"
   },
   {
    "duration": 7168,
    "start_time": "2022-11-29T20:25:04.047Z"
   },
   {
    "duration": 9995,
    "start_time": "2022-11-29T20:25:50.963Z"
   },
   {
    "duration": 4,
    "start_time": "2022-11-29T20:27:18.473Z"
   },
   {
    "duration": 4,
    "start_time": "2022-11-29T20:27:59.965Z"
   },
   {
    "duration": 10580,
    "start_time": "2022-11-29T20:28:00.422Z"
   },
   {
    "duration": 7387,
    "start_time": "2022-11-29T20:28:14.397Z"
   },
   {
    "duration": 4,
    "start_time": "2022-11-29T20:28:34.672Z"
   },
   {
    "duration": 554,
    "start_time": "2022-11-29T20:29:10.572Z"
   },
   {
    "duration": 1671,
    "start_time": "2022-11-29T20:29:33.070Z"
   },
   {
    "duration": 44,
    "start_time": "2022-11-29T20:29:50.629Z"
   },
   {
    "duration": 41,
    "start_time": "2022-11-29T20:30:04.366Z"
   },
   {
    "duration": 3,
    "start_time": "2022-11-29T20:31:32.485Z"
   },
   {
    "duration": 7069,
    "start_time": "2022-11-29T20:31:33.304Z"
   },
   {
    "duration": 3,
    "start_time": "2022-11-29T20:31:42.291Z"
   },
   {
    "duration": 642,
    "start_time": "2022-11-29T20:31:43.004Z"
   },
   {
    "duration": 8,
    "start_time": "2022-11-29T20:31:50.774Z"
   },
   {
    "duration": 9,
    "start_time": "2022-11-29T20:32:05.567Z"
   },
   {
    "duration": 3,
    "start_time": "2022-11-29T20:32:22.529Z"
   },
   {
    "duration": 669,
    "start_time": "2022-11-29T20:32:23.313Z"
   },
   {
    "duration": 8,
    "start_time": "2022-11-29T20:32:27.817Z"
   },
   {
    "duration": 1485,
    "start_time": "2022-11-29T20:32:33.223Z"
   },
   {
    "duration": 274,
    "start_time": "2022-11-29T20:32:34.710Z"
   },
   {
    "duration": 3,
    "start_time": "2022-11-29T20:32:34.986Z"
   },
   {
    "duration": 129,
    "start_time": "2022-11-29T20:32:34.991Z"
   },
   {
    "duration": 94,
    "start_time": "2022-11-29T20:32:35.123Z"
   },
   {
    "duration": 3,
    "start_time": "2022-11-29T20:32:35.219Z"
   },
   {
    "duration": 655,
    "start_time": "2022-11-29T20:32:35.223Z"
   },
   {
    "duration": 15,
    "start_time": "2022-11-29T20:32:35.880Z"
   },
   {
    "duration": 624,
    "start_time": "2022-11-29T20:32:35.897Z"
   },
   {
    "duration": 16,
    "start_time": "2022-11-29T20:32:36.523Z"
   },
   {
    "duration": 55,
    "start_time": "2022-11-29T20:32:36.555Z"
   },
   {
    "duration": 4,
    "start_time": "2022-11-29T20:32:36.612Z"
   },
   {
    "duration": 63,
    "start_time": "2022-11-29T20:32:36.619Z"
   },
   {
    "duration": 121,
    "start_time": "2022-11-29T20:32:36.686Z"
   },
   {
    "duration": 4,
    "start_time": "2022-11-29T20:32:36.809Z"
   },
   {
    "duration": 6,
    "start_time": "2022-11-29T20:32:36.816Z"
   },
   {
    "duration": 34,
    "start_time": "2022-11-29T20:32:36.824Z"
   },
   {
    "duration": 1057,
    "start_time": "2022-11-29T20:32:36.860Z"
   },
   {
    "duration": 465,
    "start_time": "2022-11-29T20:32:37.919Z"
   },
   {
    "duration": 4,
    "start_time": "2022-11-29T20:32:38.386Z"
   },
   {
    "duration": 133,
    "start_time": "2022-11-29T20:32:38.392Z"
   },
   {
    "duration": 1769,
    "start_time": "2022-11-29T20:32:38.527Z"
   },
   {
    "duration": 45,
    "start_time": "2022-11-29T20:32:40.298Z"
   },
   {
    "duration": 5151,
    "start_time": "2022-11-29T20:32:40.352Z"
   },
   {
    "duration": 8205,
    "start_time": "2022-11-29T20:32:45.506Z"
   },
   {
    "duration": 23745,
    "start_time": "2022-11-29T20:32:53.714Z"
   },
   {
    "duration": 51810,
    "start_time": "2022-11-29T20:33:17.460Z"
   },
   {
    "duration": 379,
    "start_time": "2022-11-29T20:34:09.272Z"
   },
   {
    "duration": 8,
    "start_time": "2022-11-29T20:34:09.654Z"
   },
   {
    "duration": 60,
    "start_time": "2022-11-29T20:34:09.665Z"
   },
   {
    "duration": 4,
    "start_time": "2022-11-29T20:34:09.729Z"
   },
   {
    "duration": 761,
    "start_time": "2022-11-29T20:34:09.735Z"
   },
   {
    "duration": 142,
    "start_time": "2022-11-29T20:34:10.498Z"
   },
   {
    "duration": 7,
    "start_time": "2022-11-29T20:34:16.623Z"
   },
   {
    "duration": 3,
    "start_time": "2022-11-29T20:46:57.590Z"
   },
   {
    "duration": 7,
    "start_time": "2022-11-29T20:46:58.523Z"
   },
   {
    "duration": 37,
    "start_time": "2022-11-29T20:52:47.710Z"
   },
   {
    "duration": 62,
    "start_time": "2022-11-29T20:53:54.284Z"
   },
   {
    "duration": 15,
    "start_time": "2022-11-29T20:56:52.665Z"
   },
   {
    "duration": 10,
    "start_time": "2022-11-29T20:56:53.813Z"
   },
   {
    "duration": 12,
    "start_time": "2022-11-29T20:56:54.681Z"
   },
   {
    "duration": 15,
    "start_time": "2022-11-29T20:56:57.830Z"
   },
   {
    "duration": 1500,
    "start_time": "2022-11-29T21:04:00.905Z"
   },
   {
    "duration": 288,
    "start_time": "2022-11-29T21:04:02.407Z"
   },
   {
    "duration": 4,
    "start_time": "2022-11-29T21:04:02.696Z"
   },
   {
    "duration": 148,
    "start_time": "2022-11-29T21:04:02.701Z"
   },
   {
    "duration": 71,
    "start_time": "2022-11-29T21:04:02.852Z"
   },
   {
    "duration": 4,
    "start_time": "2022-11-29T21:04:02.924Z"
   },
   {
    "duration": 654,
    "start_time": "2022-11-29T21:04:02.929Z"
   },
   {
    "duration": 15,
    "start_time": "2022-11-29T21:04:03.585Z"
   },
   {
    "duration": 615,
    "start_time": "2022-11-29T21:04:03.601Z"
   },
   {
    "duration": 12,
    "start_time": "2022-11-29T21:04:04.218Z"
   },
   {
    "duration": 103,
    "start_time": "2022-11-29T21:04:04.232Z"
   },
   {
    "duration": 4,
    "start_time": "2022-11-29T21:04:04.337Z"
   },
   {
    "duration": 83,
    "start_time": "2022-11-29T21:04:04.342Z"
   },
   {
    "duration": 107,
    "start_time": "2022-11-29T21:04:04.428Z"
   },
   {
    "duration": 3,
    "start_time": "2022-11-29T21:04:04.537Z"
   },
   {
    "duration": 43,
    "start_time": "2022-11-29T21:04:04.542Z"
   },
   {
    "duration": 10,
    "start_time": "2022-11-29T21:04:04.586Z"
   },
   {
    "duration": 1014,
    "start_time": "2022-11-29T21:04:04.597Z"
   },
   {
    "duration": 514,
    "start_time": "2022-11-29T21:04:05.613Z"
   },
   {
    "duration": 4,
    "start_time": "2022-11-29T21:04:06.129Z"
   },
   {
    "duration": 135,
    "start_time": "2022-11-29T21:04:06.134Z"
   },
   {
    "duration": 1767,
    "start_time": "2022-11-29T21:04:06.276Z"
   },
   {
    "duration": 50,
    "start_time": "2022-11-29T21:04:08.045Z"
   },
   {
    "duration": 5604,
    "start_time": "2022-11-29T21:04:08.096Z"
   },
   {
    "duration": 8345,
    "start_time": "2022-11-29T21:04:13.701Z"
   },
   {
    "duration": 38499,
    "start_time": "2022-11-29T21:04:22.051Z"
   },
   {
    "duration": 54413,
    "start_time": "2022-11-29T21:05:00.559Z"
   },
   {
    "duration": 255,
    "start_time": "2022-11-29T21:05:54.980Z"
   },
   {
    "duration": 4,
    "start_time": "2022-11-29T21:05:55.237Z"
   },
   {
    "duration": 28,
    "start_time": "2022-11-29T21:05:55.261Z"
   },
   {
    "duration": 837,
    "start_time": "2022-11-29T21:05:55.290Z"
   },
   {
    "duration": 3,
    "start_time": "2022-11-29T21:05:56.129Z"
   },
   {
    "duration": 33,
    "start_time": "2022-11-29T21:05:56.134Z"
   },
   {
    "duration": 104,
    "start_time": "2022-11-29T21:05:56.168Z"
   },
   {
    "duration": 12,
    "start_time": "2022-11-29T21:05:56.274Z"
   },
   {
    "duration": 12,
    "start_time": "2022-11-29T21:05:56.288Z"
   },
   {
    "duration": 16,
    "start_time": "2022-11-29T21:05:56.302Z"
   },
   {
    "duration": 1615,
    "start_time": "2022-11-29T21:07:46.107Z"
   },
   {
    "duration": 1688,
    "start_time": "2022-11-29T21:07:56.213Z"
   },
   {
    "duration": 1834,
    "start_time": "2022-11-30T09:57:33.772Z"
   },
   {
    "duration": 1212,
    "start_time": "2022-11-30T09:57:35.609Z"
   },
   {
    "duration": 3,
    "start_time": "2022-11-30T09:57:36.823Z"
   },
   {
    "duration": 127,
    "start_time": "2022-11-30T09:57:36.827Z"
   },
   {
    "duration": 71,
    "start_time": "2022-11-30T09:57:36.957Z"
   },
   {
    "duration": 4,
    "start_time": "2022-11-30T09:57:37.030Z"
   },
   {
    "duration": 574,
    "start_time": "2022-11-30T09:57:37.036Z"
   },
   {
    "duration": 14,
    "start_time": "2022-11-30T09:57:37.611Z"
   },
   {
    "duration": 514,
    "start_time": "2022-11-30T09:57:37.626Z"
   },
   {
    "duration": 12,
    "start_time": "2022-11-30T09:57:38.142Z"
   },
   {
    "duration": 59,
    "start_time": "2022-11-30T09:57:38.156Z"
   },
   {
    "duration": 4,
    "start_time": "2022-11-30T09:57:38.217Z"
   },
   {
    "duration": 55,
    "start_time": "2022-11-30T09:57:38.223Z"
   },
   {
    "duration": 84,
    "start_time": "2022-11-30T09:57:38.281Z"
   },
   {
    "duration": 13,
    "start_time": "2022-11-30T09:57:38.366Z"
   },
   {
    "duration": 17,
    "start_time": "2022-11-30T09:57:38.380Z"
   },
   {
    "duration": 26,
    "start_time": "2022-11-30T09:57:38.398Z"
   },
   {
    "duration": 824,
    "start_time": "2022-11-30T09:57:38.425Z"
   },
   {
    "duration": 409,
    "start_time": "2022-11-30T09:57:39.250Z"
   },
   {
    "duration": 4,
    "start_time": "2022-11-30T09:57:39.661Z"
   },
   {
    "duration": 117,
    "start_time": "2022-11-30T09:57:39.667Z"
   },
   {
    "duration": 1316,
    "start_time": "2022-11-30T09:57:39.785Z"
   },
   {
    "duration": 42,
    "start_time": "2022-11-30T09:57:41.102Z"
   },
   {
    "duration": 4543,
    "start_time": "2022-11-30T09:57:41.146Z"
   },
   {
    "duration": 7293,
    "start_time": "2022-11-30T09:57:45.691Z"
   },
   {
    "duration": 10996,
    "start_time": "2022-11-30T09:57:52.985Z"
   },
   {
    "duration": 47496,
    "start_time": "2022-11-30T09:58:03.983Z"
   },
   {
    "duration": 240,
    "start_time": "2022-11-30T09:58:51.481Z"
   },
   {
    "duration": 3,
    "start_time": "2022-11-30T09:58:51.723Z"
   },
   {
    "duration": 19,
    "start_time": "2022-11-30T09:58:51.728Z"
   },
   {
    "duration": 571,
    "start_time": "2022-11-30T09:58:51.749Z"
   },
   {
    "duration": 2,
    "start_time": "2022-11-30T09:58:52.322Z"
   },
   {
    "duration": 9,
    "start_time": "2022-11-30T09:58:52.326Z"
   },
   {
    "duration": 79,
    "start_time": "2022-11-30T09:58:52.337Z"
   },
   {
    "duration": 10,
    "start_time": "2022-11-30T09:58:52.418Z"
   },
   {
    "duration": 10,
    "start_time": "2022-11-30T09:58:52.429Z"
   },
   {
    "duration": 9,
    "start_time": "2022-11-30T09:58:52.440Z"
   },
   {
    "duration": 1584,
    "start_time": "2022-11-30T17:20:02.451Z"
   },
   {
    "duration": 4,
    "start_time": "2022-11-30T17:21:16.341Z"
   },
   {
    "duration": 67,
    "start_time": "2022-11-30T17:25:22.443Z"
   },
   {
    "duration": 59,
    "start_time": "2022-11-30T17:25:27.881Z"
   },
   {
    "duration": 55,
    "start_time": "2022-12-01T19:51:45.534Z"
   },
   {
    "duration": 45,
    "start_time": "2022-12-01T19:51:57.919Z"
   },
   {
    "duration": 1474,
    "start_time": "2022-12-01T19:52:02.519Z"
   },
   {
    "duration": 367,
    "start_time": "2022-12-01T19:52:06.267Z"
   },
   {
    "duration": 3,
    "start_time": "2022-12-01T19:53:15.906Z"
   },
   {
    "duration": 15,
    "start_time": "2022-12-01T20:00:26.374Z"
   },
   {
    "duration": 10,
    "start_time": "2022-12-01T20:00:27.418Z"
   },
   {
    "duration": 12,
    "start_time": "2022-12-01T20:00:32.255Z"
   },
   {
    "duration": 19,
    "start_time": "2022-12-01T20:26:06.006Z"
   },
   {
    "duration": 1282,
    "start_time": "2022-12-01T20:30:34.070Z"
   },
   {
    "duration": 211,
    "start_time": "2022-12-01T20:30:35.354Z"
   },
   {
    "duration": 3,
    "start_time": "2022-12-01T20:30:35.567Z"
   },
   {
    "duration": 133,
    "start_time": "2022-12-01T20:30:35.572Z"
   },
   {
    "duration": 91,
    "start_time": "2022-12-01T20:30:35.706Z"
   },
   {
    "duration": 3,
    "start_time": "2022-12-01T20:30:35.799Z"
   },
   {
    "duration": 586,
    "start_time": "2022-12-01T20:30:35.804Z"
   },
   {
    "duration": 13,
    "start_time": "2022-12-01T20:30:36.392Z"
   },
   {
    "duration": 570,
    "start_time": "2022-12-01T20:30:36.407Z"
   },
   {
    "duration": 12,
    "start_time": "2022-12-01T20:30:36.981Z"
   },
   {
    "duration": 65,
    "start_time": "2022-12-01T20:30:36.994Z"
   },
   {
    "duration": 3,
    "start_time": "2022-12-01T20:30:37.061Z"
   },
   {
    "duration": 57,
    "start_time": "2022-12-01T20:30:37.066Z"
   },
   {
    "duration": 104,
    "start_time": "2022-12-01T20:30:37.125Z"
   },
   {
    "duration": 3,
    "start_time": "2022-12-01T20:30:37.234Z"
   },
   {
    "duration": 7,
    "start_time": "2022-12-01T20:30:37.239Z"
   },
   {
    "duration": 8,
    "start_time": "2022-12-01T20:30:37.248Z"
   },
   {
    "duration": 839,
    "start_time": "2022-12-01T20:30:37.257Z"
   },
   {
    "duration": 433,
    "start_time": "2022-12-01T20:30:38.098Z"
   },
   {
    "duration": 89,
    "start_time": "2022-12-01T20:30:38.533Z"
   },
   {
    "duration": 1422,
    "start_time": "2022-12-01T20:30:38.624Z"
   },
   {
    "duration": 41,
    "start_time": "2022-12-01T20:30:40.048Z"
   },
   {
    "duration": 4302,
    "start_time": "2022-12-01T20:30:40.092Z"
   },
   {
    "duration": 7445,
    "start_time": "2022-12-01T20:30:44.395Z"
   },
   {
    "duration": 166,
    "start_time": "2022-12-01T20:30:51.842Z"
   },
   {
    "duration": 5,
    "start_time": "2022-12-01T20:30:52.009Z"
   },
   {
    "duration": 41,
    "start_time": "2022-12-01T20:30:52.016Z"
   },
   {
    "duration": 692,
    "start_time": "2022-12-01T20:30:52.061Z"
   },
   {
    "duration": 3,
    "start_time": "2022-12-01T20:30:52.755Z"
   },
   {
    "duration": 28,
    "start_time": "2022-12-01T20:30:52.759Z"
   },
   {
    "duration": 94,
    "start_time": "2022-12-01T20:30:52.789Z"
   },
   {
    "duration": 9,
    "start_time": "2022-12-01T20:30:52.885Z"
   },
   {
    "duration": 29,
    "start_time": "2022-12-01T20:30:52.896Z"
   },
   {
    "duration": 31,
    "start_time": "2022-12-01T20:30:52.926Z"
   },
   {
    "duration": 29,
    "start_time": "2022-12-01T20:30:52.958Z"
   },
   {
    "duration": 33,
    "start_time": "2022-12-01T20:30:52.989Z"
   },
   {
    "duration": 51,
    "start_time": "2022-12-01T20:30:53.023Z"
   },
   {
    "duration": 16,
    "start_time": "2022-12-01T20:39:39.960Z"
   },
   {
    "duration": 35,
    "start_time": "2022-12-01T20:39:53.218Z"
   },
   {
    "duration": 20,
    "start_time": "2022-12-01T20:40:30.999Z"
   },
   {
    "duration": 543,
    "start_time": "2022-12-01T20:48:52.853Z"
   },
   {
    "duration": 63,
    "start_time": "2022-12-01T20:50:04.499Z"
   },
   {
    "duration": 11,
    "start_time": "2022-12-01T20:52:01.276Z"
   },
   {
    "duration": 9,
    "start_time": "2022-12-01T20:52:01.879Z"
   },
   {
    "duration": 12,
    "start_time": "2022-12-01T20:52:02.508Z"
   },
   {
    "duration": 10,
    "start_time": "2022-12-01T20:52:03.145Z"
   },
   {
    "duration": 10,
    "start_time": "2022-12-01T20:52:03.849Z"
   },
   {
    "duration": 11,
    "start_time": "2022-12-01T20:52:07.111Z"
   },
   {
    "duration": 4,
    "start_time": "2022-12-01T20:58:14.996Z"
   },
   {
    "duration": 777,
    "start_time": "2022-12-01T20:58:16.224Z"
   },
   {
    "duration": 4,
    "start_time": "2022-12-01T21:04:11.178Z"
   },
   {
    "duration": 16,
    "start_time": "2022-12-01T21:04:11.855Z"
   },
   {
    "duration": 5,
    "start_time": "2022-12-01T21:13:01.074Z"
   },
   {
    "duration": 14,
    "start_time": "2022-12-01T21:13:01.943Z"
   },
   {
    "duration": 4,
    "start_time": "2022-12-01T21:13:27.087Z"
   },
   {
    "duration": 16,
    "start_time": "2022-12-01T21:13:27.773Z"
   },
   {
    "duration": 4,
    "start_time": "2022-12-01T21:16:15.946Z"
   },
   {
    "duration": 24,
    "start_time": "2022-12-01T21:16:16.935Z"
   },
   {
    "duration": 4,
    "start_time": "2022-12-01T21:16:43.735Z"
   },
   {
    "duration": 22,
    "start_time": "2022-12-01T21:16:44.404Z"
   },
   {
    "duration": 5,
    "start_time": "2022-12-01T21:16:58.598Z"
   },
   {
    "duration": 23,
    "start_time": "2022-12-01T21:16:59.322Z"
   },
   {
    "duration": 5,
    "start_time": "2022-12-01T21:19:30.073Z"
   },
   {
    "duration": 22,
    "start_time": "2022-12-01T21:19:30.719Z"
   },
   {
    "duration": 4,
    "start_time": "2022-12-01T21:21:07.635Z"
   },
   {
    "duration": 21,
    "start_time": "2022-12-01T21:21:10.484Z"
   },
   {
    "duration": 4,
    "start_time": "2022-12-01T21:23:26.151Z"
   },
   {
    "duration": 752,
    "start_time": "2022-12-01T21:23:26.998Z"
   },
   {
    "duration": 3,
    "start_time": "2022-12-01T21:23:47.516Z"
   },
   {
    "duration": 2791,
    "start_time": "2022-12-01T21:23:47.695Z"
   },
   {
    "duration": 54,
    "start_time": "2022-12-01T21:23:52.337Z"
   },
   {
    "duration": 1298,
    "start_time": "2022-12-01T21:24:18.684Z"
   },
   {
    "duration": 235,
    "start_time": "2022-12-01T21:24:19.984Z"
   },
   {
    "duration": 3,
    "start_time": "2022-12-01T21:24:20.221Z"
   },
   {
    "duration": 125,
    "start_time": "2022-12-01T21:24:20.226Z"
   },
   {
    "duration": 83,
    "start_time": "2022-12-01T21:24:20.353Z"
   },
   {
    "duration": 3,
    "start_time": "2022-12-01T21:24:20.437Z"
   },
   {
    "duration": 524,
    "start_time": "2022-12-01T21:24:20.442Z"
   },
   {
    "duration": 14,
    "start_time": "2022-12-01T21:24:20.968Z"
   },
   {
    "duration": 522,
    "start_time": "2022-12-01T21:24:20.984Z"
   },
   {
    "duration": 12,
    "start_time": "2022-12-01T21:24:21.508Z"
   },
   {
    "duration": 39,
    "start_time": "2022-12-01T21:24:21.522Z"
   },
   {
    "duration": 4,
    "start_time": "2022-12-01T21:24:21.562Z"
   },
   {
    "duration": 6,
    "start_time": "2022-12-01T21:24:21.568Z"
   },
   {
    "duration": 5047,
    "start_time": "2022-12-01T21:24:21.575Z"
   },
   {
    "duration": 69,
    "start_time": "2022-12-01T21:24:26.624Z"
   },
   {
    "duration": 84,
    "start_time": "2022-12-01T21:24:26.695Z"
   },
   {
    "duration": 3,
    "start_time": "2022-12-01T21:24:26.781Z"
   },
   {
    "duration": 5,
    "start_time": "2022-12-01T21:24:26.785Z"
   },
   {
    "duration": 6,
    "start_time": "2022-12-01T21:24:26.792Z"
   },
   {
    "duration": 1073,
    "start_time": "2022-12-01T21:24:26.800Z"
   },
   {
    "duration": 547,
    "start_time": "2022-12-01T21:24:27.874Z"
   },
   {
    "duration": 74,
    "start_time": "2022-12-01T21:24:28.422Z"
   },
   {
    "duration": 1662,
    "start_time": "2022-12-01T21:24:28.497Z"
   },
   {
    "duration": 8,
    "start_time": "2022-12-01T21:24:30.161Z"
   },
   {
    "duration": 163,
    "start_time": "2022-12-01T21:24:30.170Z"
   },
   {
    "duration": 70,
    "start_time": "2022-12-01T21:24:30.335Z"
   },
   {
    "duration": 14,
    "start_time": "2022-12-01T21:24:30.407Z"
   },
   {
    "duration": 0,
    "start_time": "2022-12-01T21:24:30.423Z"
   },
   {
    "duration": 0,
    "start_time": "2022-12-01T21:24:30.425Z"
   },
   {
    "duration": 0,
    "start_time": "2022-12-01T21:24:30.426Z"
   },
   {
    "duration": 0,
    "start_time": "2022-12-01T21:24:30.427Z"
   },
   {
    "duration": 0,
    "start_time": "2022-12-01T21:24:30.429Z"
   },
   {
    "duration": 0,
    "start_time": "2022-12-01T21:24:30.430Z"
   },
   {
    "duration": 0,
    "start_time": "2022-12-01T21:24:30.432Z"
   },
   {
    "duration": 0,
    "start_time": "2022-12-01T21:24:30.433Z"
   },
   {
    "duration": 0,
    "start_time": "2022-12-01T21:24:30.435Z"
   },
   {
    "duration": 0,
    "start_time": "2022-12-01T21:24:30.436Z"
   },
   {
    "duration": 0,
    "start_time": "2022-12-01T21:24:30.438Z"
   },
   {
    "duration": 0,
    "start_time": "2022-12-01T21:24:30.439Z"
   },
   {
    "duration": 4,
    "start_time": "2022-12-01T21:25:56.090Z"
   },
   {
    "duration": 5348,
    "start_time": "2022-12-01T21:25:56.466Z"
   },
   {
    "duration": 4,
    "start_time": "2022-12-01T21:26:50.373Z"
   },
   {
    "duration": 5278,
    "start_time": "2022-12-01T21:26:52.288Z"
   },
   {
    "duration": 1268,
    "start_time": "2022-12-01T21:27:09.182Z"
   },
   {
    "duration": 226,
    "start_time": "2022-12-01T21:27:10.452Z"
   },
   {
    "duration": 3,
    "start_time": "2022-12-01T21:27:10.680Z"
   },
   {
    "duration": 122,
    "start_time": "2022-12-01T21:27:10.685Z"
   },
   {
    "duration": 77,
    "start_time": "2022-12-01T21:27:10.808Z"
   },
   {
    "duration": 2,
    "start_time": "2022-12-01T21:27:10.886Z"
   },
   {
    "duration": 545,
    "start_time": "2022-12-01T21:27:10.890Z"
   },
   {
    "duration": 16,
    "start_time": "2022-12-01T21:27:11.436Z"
   },
   {
    "duration": 551,
    "start_time": "2022-12-01T21:27:11.454Z"
   },
   {
    "duration": 16,
    "start_time": "2022-12-01T21:27:12.008Z"
   },
   {
    "duration": 32,
    "start_time": "2022-12-01T21:27:12.035Z"
   },
   {
    "duration": 3,
    "start_time": "2022-12-01T21:27:12.069Z"
   },
   {
    "duration": 14,
    "start_time": "2022-12-01T21:27:12.073Z"
   },
   {
    "duration": 5127,
    "start_time": "2022-12-01T21:27:12.088Z"
   },
   {
    "duration": 58,
    "start_time": "2022-12-01T21:27:17.217Z"
   },
   {
    "duration": 69,
    "start_time": "2022-12-01T21:27:17.277Z"
   },
   {
    "duration": 3,
    "start_time": "2022-12-01T21:27:17.348Z"
   },
   {
    "duration": 5,
    "start_time": "2022-12-01T21:27:17.353Z"
   },
   {
    "duration": 10,
    "start_time": "2022-12-01T21:27:17.360Z"
   },
   {
    "duration": 1040,
    "start_time": "2022-12-01T21:27:17.371Z"
   },
   {
    "duration": 547,
    "start_time": "2022-12-01T21:27:18.413Z"
   },
   {
    "duration": 80,
    "start_time": "2022-12-01T21:27:18.961Z"
   },
   {
    "duration": 1759,
    "start_time": "2022-12-01T21:27:19.043Z"
   },
   {
    "duration": 9,
    "start_time": "2022-12-01T21:27:20.803Z"
   },
   {
    "duration": 160,
    "start_time": "2022-12-01T21:27:20.815Z"
   },
   {
    "duration": 84,
    "start_time": "2022-12-01T21:27:20.977Z"
   },
   {
    "duration": 13,
    "start_time": "2022-12-01T21:27:21.063Z"
   },
   {
    "duration": 0,
    "start_time": "2022-12-01T21:27:21.078Z"
   },
   {
    "duration": 0,
    "start_time": "2022-12-01T21:27:21.080Z"
   },
   {
    "duration": 0,
    "start_time": "2022-12-01T21:27:21.081Z"
   },
   {
    "duration": 0,
    "start_time": "2022-12-01T21:27:21.082Z"
   },
   {
    "duration": 0,
    "start_time": "2022-12-01T21:27:21.083Z"
   },
   {
    "duration": 0,
    "start_time": "2022-12-01T21:27:21.084Z"
   },
   {
    "duration": 0,
    "start_time": "2022-12-01T21:27:21.085Z"
   },
   {
    "duration": 0,
    "start_time": "2022-12-01T21:27:21.086Z"
   },
   {
    "duration": 0,
    "start_time": "2022-12-01T21:27:21.087Z"
   },
   {
    "duration": 0,
    "start_time": "2022-12-01T21:27:21.088Z"
   },
   {
    "duration": 0,
    "start_time": "2022-12-01T21:27:21.089Z"
   },
   {
    "duration": 0,
    "start_time": "2022-12-01T21:27:21.090Z"
   },
   {
    "duration": 2,
    "start_time": "2022-12-01T21:28:00.947Z"
   },
   {
    "duration": 4,
    "start_time": "2022-12-01T21:28:01.682Z"
   },
   {
    "duration": 5183,
    "start_time": "2022-12-01T21:28:02.739Z"
   },
   {
    "duration": 60,
    "start_time": "2022-12-01T21:28:07.924Z"
   },
   {
    "duration": 1270,
    "start_time": "2022-12-01T21:28:13.484Z"
   },
   {
    "duration": 254,
    "start_time": "2022-12-01T21:28:14.756Z"
   },
   {
    "duration": 4,
    "start_time": "2022-12-01T21:28:15.013Z"
   },
   {
    "duration": 164,
    "start_time": "2022-12-01T21:28:15.019Z"
   },
   {
    "duration": 82,
    "start_time": "2022-12-01T21:28:15.185Z"
   },
   {
    "duration": 3,
    "start_time": "2022-12-01T21:28:15.269Z"
   },
   {
    "duration": 578,
    "start_time": "2022-12-01T21:28:15.274Z"
   },
   {
    "duration": 20,
    "start_time": "2022-12-01T21:28:15.855Z"
   },
   {
    "duration": 584,
    "start_time": "2022-12-01T21:28:15.877Z"
   },
   {
    "duration": 15,
    "start_time": "2022-12-01T21:28:16.465Z"
   },
   {
    "duration": 44,
    "start_time": "2022-12-01T21:28:16.482Z"
   },
   {
    "duration": 8,
    "start_time": "2022-12-01T21:28:16.528Z"
   },
   {
    "duration": 10,
    "start_time": "2022-12-01T21:28:16.538Z"
   },
   {
    "duration": 5347,
    "start_time": "2022-12-01T21:28:16.550Z"
   },
   {
    "duration": 72,
    "start_time": "2022-12-01T21:28:21.899Z"
   },
   {
    "duration": 106,
    "start_time": "2022-12-01T21:28:21.973Z"
   },
   {
    "duration": 3,
    "start_time": "2022-12-01T21:28:22.081Z"
   },
   {
    "duration": 10,
    "start_time": "2022-12-01T21:28:22.086Z"
   },
   {
    "duration": 17,
    "start_time": "2022-12-01T21:28:22.098Z"
   },
   {
    "duration": 1140,
    "start_time": "2022-12-01T21:28:22.117Z"
   },
   {
    "duration": 583,
    "start_time": "2022-12-01T21:28:23.258Z"
   },
   {
    "duration": 76,
    "start_time": "2022-12-01T21:28:23.842Z"
   },
   {
    "duration": 1753,
    "start_time": "2022-12-01T21:28:23.921Z"
   },
   {
    "duration": 8,
    "start_time": "2022-12-01T21:28:25.675Z"
   },
   {
    "duration": 182,
    "start_time": "2022-12-01T21:28:25.684Z"
   },
   {
    "duration": 58,
    "start_time": "2022-12-01T21:28:25.867Z"
   },
   {
    "duration": 13,
    "start_time": "2022-12-01T21:28:25.926Z"
   },
   {
    "duration": 0,
    "start_time": "2022-12-01T21:28:25.940Z"
   },
   {
    "duration": 0,
    "start_time": "2022-12-01T21:28:25.941Z"
   },
   {
    "duration": 0,
    "start_time": "2022-12-01T21:28:25.942Z"
   },
   {
    "duration": 0,
    "start_time": "2022-12-01T21:28:25.943Z"
   },
   {
    "duration": 0,
    "start_time": "2022-12-01T21:28:25.945Z"
   },
   {
    "duration": 0,
    "start_time": "2022-12-01T21:28:25.946Z"
   },
   {
    "duration": 0,
    "start_time": "2022-12-01T21:28:25.946Z"
   },
   {
    "duration": 0,
    "start_time": "2022-12-01T21:28:25.947Z"
   },
   {
    "duration": 0,
    "start_time": "2022-12-01T21:28:25.949Z"
   },
   {
    "duration": 0,
    "start_time": "2022-12-01T21:28:25.950Z"
   },
   {
    "duration": 0,
    "start_time": "2022-12-01T21:28:25.950Z"
   },
   {
    "duration": 0,
    "start_time": "2022-12-01T21:28:25.952Z"
   },
   {
    "duration": 4,
    "start_time": "2022-12-01T21:30:18.635Z"
   },
   {
    "duration": 10528,
    "start_time": "2022-12-01T21:30:19.855Z"
   },
   {
    "duration": 76,
    "start_time": "2022-12-01T21:30:30.385Z"
   },
   {
    "duration": 1313,
    "start_time": "2022-12-01T21:30:37.245Z"
   },
   {
    "duration": 237,
    "start_time": "2022-12-01T21:30:38.560Z"
   },
   {
    "duration": 3,
    "start_time": "2022-12-01T21:30:38.799Z"
   },
   {
    "duration": 121,
    "start_time": "2022-12-01T21:30:38.804Z"
   },
   {
    "duration": 78,
    "start_time": "2022-12-01T21:30:38.926Z"
   },
   {
    "duration": 3,
    "start_time": "2022-12-01T21:30:39.006Z"
   },
   {
    "duration": 545,
    "start_time": "2022-12-01T21:30:39.010Z"
   },
   {
    "duration": 17,
    "start_time": "2022-12-01T21:30:39.557Z"
   },
   {
    "duration": 515,
    "start_time": "2022-12-01T21:30:39.575Z"
   },
   {
    "duration": 13,
    "start_time": "2022-12-01T21:30:40.093Z"
   },
   {
    "duration": 39,
    "start_time": "2022-12-01T21:30:40.107Z"
   },
   {
    "duration": 2,
    "start_time": "2022-12-01T21:30:40.148Z"
   },
   {
    "duration": 13,
    "start_time": "2022-12-01T21:30:40.152Z"
   },
   {
    "duration": 10372,
    "start_time": "2022-12-01T21:30:40.166Z"
   },
   {
    "duration": 69,
    "start_time": "2022-12-01T21:30:50.540Z"
   },
   {
    "duration": 80,
    "start_time": "2022-12-01T21:30:50.610Z"
   },
   {
    "duration": 3,
    "start_time": "2022-12-01T21:30:50.691Z"
   },
   {
    "duration": 7,
    "start_time": "2022-12-01T21:30:50.696Z"
   },
   {
    "duration": 7,
    "start_time": "2022-12-01T21:30:50.705Z"
   },
   {
    "duration": 1101,
    "start_time": "2022-12-01T21:30:50.713Z"
   },
   {
    "duration": 557,
    "start_time": "2022-12-01T21:30:51.816Z"
   },
   {
    "duration": 104,
    "start_time": "2022-12-01T21:30:52.374Z"
   },
   {
    "duration": 1700,
    "start_time": "2022-12-01T21:30:52.480Z"
   },
   {
    "duration": 7,
    "start_time": "2022-12-01T21:30:54.182Z"
   },
   {
    "duration": 163,
    "start_time": "2022-12-01T21:30:54.192Z"
   },
   {
    "duration": 61,
    "start_time": "2022-12-01T21:30:54.357Z"
   },
   {
    "duration": 15,
    "start_time": "2022-12-01T21:30:54.420Z"
   },
   {
    "duration": 0,
    "start_time": "2022-12-01T21:30:54.437Z"
   },
   {
    "duration": 0,
    "start_time": "2022-12-01T21:30:54.439Z"
   },
   {
    "duration": 0,
    "start_time": "2022-12-01T21:30:54.440Z"
   },
   {
    "duration": 0,
    "start_time": "2022-12-01T21:30:54.442Z"
   },
   {
    "duration": 0,
    "start_time": "2022-12-01T21:30:54.443Z"
   },
   {
    "duration": 0,
    "start_time": "2022-12-01T21:30:54.445Z"
   },
   {
    "duration": 0,
    "start_time": "2022-12-01T21:30:54.446Z"
   },
   {
    "duration": 0,
    "start_time": "2022-12-01T21:30:54.447Z"
   },
   {
    "duration": 0,
    "start_time": "2022-12-01T21:30:54.449Z"
   },
   {
    "duration": 0,
    "start_time": "2022-12-01T21:30:54.451Z"
   },
   {
    "duration": 0,
    "start_time": "2022-12-01T21:30:54.452Z"
   },
   {
    "duration": 0,
    "start_time": "2022-12-01T21:30:54.453Z"
   },
   {
    "duration": 4,
    "start_time": "2022-12-01T21:31:14.039Z"
   },
   {
    "duration": 42,
    "start_time": "2022-12-01T21:31:14.769Z"
   },
   {
    "duration": 60,
    "start_time": "2022-12-01T21:31:24.505Z"
   },
   {
    "duration": 1417,
    "start_time": "2022-12-01T21:31:32.538Z"
   },
   {
    "duration": 239,
    "start_time": "2022-12-01T21:31:33.957Z"
   },
   {
    "duration": 3,
    "start_time": "2022-12-01T21:31:34.197Z"
   },
   {
    "duration": 137,
    "start_time": "2022-12-01T21:31:34.202Z"
   },
   {
    "duration": 71,
    "start_time": "2022-12-01T21:31:34.341Z"
   },
   {
    "duration": 22,
    "start_time": "2022-12-01T21:31:34.414Z"
   },
   {
    "duration": 549,
    "start_time": "2022-12-01T21:31:34.438Z"
   },
   {
    "duration": 15,
    "start_time": "2022-12-01T21:31:34.988Z"
   },
   {
    "duration": 534,
    "start_time": "2022-12-01T21:31:35.005Z"
   },
   {
    "duration": 12,
    "start_time": "2022-12-01T21:31:35.543Z"
   },
   {
    "duration": 30,
    "start_time": "2022-12-01T21:31:35.557Z"
   },
   {
    "duration": 2,
    "start_time": "2022-12-01T21:31:35.589Z"
   },
   {
    "duration": 12,
    "start_time": "2022-12-01T21:31:35.593Z"
   },
   {
    "duration": 84,
    "start_time": "2022-12-01T21:31:35.606Z"
   },
   {
    "duration": 50,
    "start_time": "2022-12-01T21:31:35.692Z"
   },
   {
    "duration": 111,
    "start_time": "2022-12-01T21:31:35.744Z"
   },
   {
    "duration": 3,
    "start_time": "2022-12-01T21:31:35.857Z"
   },
   {
    "duration": 8,
    "start_time": "2022-12-01T21:31:35.861Z"
   },
   {
    "duration": 9,
    "start_time": "2022-12-01T21:31:35.871Z"
   },
   {
    "duration": 1135,
    "start_time": "2022-12-01T21:31:35.881Z"
   },
   {
    "duration": 569,
    "start_time": "2022-12-01T21:31:37.018Z"
   },
   {
    "duration": 130,
    "start_time": "2022-12-01T21:31:37.588Z"
   },
   {
    "duration": 1873,
    "start_time": "2022-12-01T21:31:37.720Z"
   },
   {
    "duration": 62,
    "start_time": "2022-12-01T21:31:39.595Z"
   },
   {
    "duration": 6581,
    "start_time": "2022-12-01T21:31:39.659Z"
   },
   {
    "duration": 9601,
    "start_time": "2022-12-01T21:31:46.241Z"
   },
   {
    "duration": 168,
    "start_time": "2022-12-01T21:31:55.843Z"
   },
   {
    "duration": 4,
    "start_time": "2022-12-01T21:31:56.014Z"
   },
   {
    "duration": 19,
    "start_time": "2022-12-01T21:31:56.019Z"
   },
   {
    "duration": 821,
    "start_time": "2022-12-01T21:31:56.040Z"
   },
   {
    "duration": 3,
    "start_time": "2022-12-01T21:31:56.862Z"
   },
   {
    "duration": 13,
    "start_time": "2022-12-01T21:31:56.866Z"
   },
   {
    "duration": 73,
    "start_time": "2022-12-01T21:31:56.881Z"
   },
   {
    "duration": 12,
    "start_time": "2022-12-01T21:31:56.956Z"
   },
   {
    "duration": 9,
    "start_time": "2022-12-01T21:31:56.970Z"
   },
   {
    "duration": 10,
    "start_time": "2022-12-01T21:31:56.981Z"
   },
   {
    "duration": 10,
    "start_time": "2022-12-01T21:31:56.992Z"
   },
   {
    "duration": 9,
    "start_time": "2022-12-01T21:31:57.004Z"
   },
   {
    "duration": 22,
    "start_time": "2022-12-01T21:31:57.015Z"
   },
   {
    "duration": 1312,
    "start_time": "2022-12-01T21:34:32.465Z"
   },
   {
    "duration": 243,
    "start_time": "2022-12-01T21:34:33.779Z"
   },
   {
    "duration": 4,
    "start_time": "2022-12-01T21:34:34.024Z"
   },
   {
    "duration": 136,
    "start_time": "2022-12-01T21:34:34.030Z"
   },
   {
    "duration": 81,
    "start_time": "2022-12-01T21:34:34.168Z"
   },
   {
    "duration": 3,
    "start_time": "2022-12-01T21:34:34.251Z"
   },
   {
    "duration": 533,
    "start_time": "2022-12-01T21:34:34.256Z"
   },
   {
    "duration": 14,
    "start_time": "2022-12-01T21:34:34.791Z"
   },
   {
    "duration": 512,
    "start_time": "2022-12-01T21:34:34.806Z"
   },
   {
    "duration": 21,
    "start_time": "2022-12-01T21:34:35.320Z"
   },
   {
    "duration": 35,
    "start_time": "2022-12-01T21:34:35.343Z"
   },
   {
    "duration": 4,
    "start_time": "2022-12-01T21:34:35.380Z"
   },
   {
    "duration": 78,
    "start_time": "2022-12-01T21:34:35.386Z"
   },
   {
    "duration": 68,
    "start_time": "2022-12-01T21:34:35.466Z"
   },
   {
    "duration": 117,
    "start_time": "2022-12-01T21:34:35.536Z"
   },
   {
    "duration": 3,
    "start_time": "2022-12-01T21:34:35.655Z"
   },
   {
    "duration": 33,
    "start_time": "2022-12-01T21:34:35.660Z"
   },
   {
    "duration": 32,
    "start_time": "2022-12-01T21:34:35.695Z"
   },
   {
    "duration": 1140,
    "start_time": "2022-12-01T21:34:35.729Z"
   },
   {
    "duration": 564,
    "start_time": "2022-12-01T21:34:36.871Z"
   },
   {
    "duration": 128,
    "start_time": "2022-12-01T21:34:37.437Z"
   },
   {
    "duration": 1872,
    "start_time": "2022-12-01T21:34:37.567Z"
   },
   {
    "duration": 56,
    "start_time": "2022-12-01T21:34:39.441Z"
   },
   {
    "duration": 6331,
    "start_time": "2022-12-01T21:34:39.499Z"
   },
   {
    "duration": 9542,
    "start_time": "2022-12-01T21:34:45.834Z"
   },
   {
    "duration": 159,
    "start_time": "2022-12-01T21:34:55.378Z"
   },
   {
    "duration": 3,
    "start_time": "2022-12-01T21:34:55.539Z"
   },
   {
    "duration": 4,
    "start_time": "2022-12-01T21:34:55.546Z"
   },
   {
    "duration": 766,
    "start_time": "2022-12-01T21:34:55.552Z"
   },
   {
    "duration": 3,
    "start_time": "2022-12-01T21:34:56.319Z"
   },
   {
    "duration": 17,
    "start_time": "2022-12-01T21:34:56.324Z"
   },
   {
    "duration": 69,
    "start_time": "2022-12-01T21:34:56.343Z"
   },
   {
    "duration": 9,
    "start_time": "2022-12-01T21:34:56.414Z"
   },
   {
    "duration": 27,
    "start_time": "2022-12-01T21:34:56.424Z"
   },
   {
    "duration": 13,
    "start_time": "2022-12-01T21:34:56.453Z"
   },
   {
    "duration": 12,
    "start_time": "2022-12-01T21:34:56.468Z"
   },
   {
    "duration": 13,
    "start_time": "2022-12-01T21:34:56.481Z"
   },
   {
    "duration": 15,
    "start_time": "2022-12-01T21:34:56.496Z"
   },
   {
    "duration": 80,
    "start_time": "2022-12-01T21:36:28.340Z"
   },
   {
    "duration": 57,
    "start_time": "2022-12-02T06:36:44.585Z"
   },
   {
    "duration": 1494,
    "start_time": "2022-12-02T06:36:50.110Z"
   },
   {
    "duration": 819,
    "start_time": "2022-12-02T06:36:51.606Z"
   },
   {
    "duration": 3,
    "start_time": "2022-12-02T06:36:52.428Z"
   },
   {
    "duration": 116,
    "start_time": "2022-12-02T06:36:52.433Z"
   },
   {
    "duration": 88,
    "start_time": "2022-12-02T06:36:52.551Z"
   },
   {
    "duration": 3,
    "start_time": "2022-12-02T06:36:52.641Z"
   },
   {
    "duration": 548,
    "start_time": "2022-12-02T06:36:52.645Z"
   },
   {
    "duration": 15,
    "start_time": "2022-12-02T06:36:53.195Z"
   },
   {
    "duration": 516,
    "start_time": "2022-12-02T06:36:53.212Z"
   },
   {
    "duration": 13,
    "start_time": "2022-12-02T06:36:53.732Z"
   },
   {
    "duration": 36,
    "start_time": "2022-12-02T06:36:53.747Z"
   },
   {
    "duration": 4,
    "start_time": "2022-12-02T06:36:53.804Z"
   },
   {
    "duration": 60,
    "start_time": "2022-12-02T06:36:53.810Z"
   },
   {
    "duration": 122,
    "start_time": "2022-12-02T06:36:53.872Z"
   },
   {
    "duration": 131,
    "start_time": "2022-12-02T06:36:53.996Z"
   },
   {
    "duration": 0,
    "start_time": "2022-12-02T06:36:54.130Z"
   },
   {
    "duration": 0,
    "start_time": "2022-12-02T06:36:54.132Z"
   },
   {
    "duration": 0,
    "start_time": "2022-12-02T06:36:54.134Z"
   },
   {
    "duration": 0,
    "start_time": "2022-12-02T06:36:54.135Z"
   },
   {
    "duration": 0,
    "start_time": "2022-12-02T06:36:54.137Z"
   },
   {
    "duration": 0,
    "start_time": "2022-12-02T06:36:54.138Z"
   },
   {
    "duration": 0,
    "start_time": "2022-12-02T06:36:54.140Z"
   },
   {
    "duration": 0,
    "start_time": "2022-12-02T06:36:54.141Z"
   },
   {
    "duration": 0,
    "start_time": "2022-12-02T06:36:54.143Z"
   },
   {
    "duration": 1,
    "start_time": "2022-12-02T06:36:54.143Z"
   },
   {
    "duration": 0,
    "start_time": "2022-12-02T06:36:54.145Z"
   },
   {
    "duration": 0,
    "start_time": "2022-12-02T06:36:54.146Z"
   },
   {
    "duration": 0,
    "start_time": "2022-12-02T06:36:54.151Z"
   },
   {
    "duration": 0,
    "start_time": "2022-12-02T06:36:54.153Z"
   },
   {
    "duration": 0,
    "start_time": "2022-12-02T06:36:54.154Z"
   },
   {
    "duration": 0,
    "start_time": "2022-12-02T06:36:54.160Z"
   },
   {
    "duration": 0,
    "start_time": "2022-12-02T06:36:54.161Z"
   },
   {
    "duration": 0,
    "start_time": "2022-12-02T06:36:54.162Z"
   },
   {
    "duration": 0,
    "start_time": "2022-12-02T06:36:54.163Z"
   },
   {
    "duration": 0,
    "start_time": "2022-12-02T06:36:54.165Z"
   },
   {
    "duration": 0,
    "start_time": "2022-12-02T06:36:54.166Z"
   },
   {
    "duration": 0,
    "start_time": "2022-12-02T06:36:54.205Z"
   },
   {
    "duration": 0,
    "start_time": "2022-12-02T06:36:54.206Z"
   },
   {
    "duration": 1490,
    "start_time": "2022-12-02T06:37:17.254Z"
   },
   {
    "duration": 240,
    "start_time": "2022-12-02T06:37:18.746Z"
   },
   {
    "duration": 3,
    "start_time": "2022-12-02T06:37:18.988Z"
   },
   {
    "duration": 182,
    "start_time": "2022-12-02T06:37:18.994Z"
   },
   {
    "duration": 106,
    "start_time": "2022-12-02T06:37:19.178Z"
   },
   {
    "duration": 3,
    "start_time": "2022-12-02T06:37:19.286Z"
   },
   {
    "duration": 647,
    "start_time": "2022-12-02T06:37:19.305Z"
   },
   {
    "duration": 14,
    "start_time": "2022-12-02T06:37:19.954Z"
   },
   {
    "duration": 511,
    "start_time": "2022-12-02T06:37:19.969Z"
   },
   {
    "duration": 21,
    "start_time": "2022-12-02T06:37:20.483Z"
   },
   {
    "duration": 32,
    "start_time": "2022-12-02T06:37:20.506Z"
   },
   {
    "duration": 10,
    "start_time": "2022-12-02T06:37:20.540Z"
   },
   {
    "duration": 55,
    "start_time": "2022-12-02T06:37:20.552Z"
   },
   {
    "duration": 124,
    "start_time": "2022-12-02T06:37:20.608Z"
   },
   {
    "duration": 103,
    "start_time": "2022-12-02T06:37:20.733Z"
   },
   {
    "duration": 0,
    "start_time": "2022-12-02T06:37:20.839Z"
   },
   {
    "duration": 0,
    "start_time": "2022-12-02T06:37:20.840Z"
   },
   {
    "duration": 0,
    "start_time": "2022-12-02T06:37:20.842Z"
   },
   {
    "duration": 0,
    "start_time": "2022-12-02T06:37:20.843Z"
   },
   {
    "duration": 0,
    "start_time": "2022-12-02T06:37:20.845Z"
   },
   {
    "duration": 0,
    "start_time": "2022-12-02T06:37:20.846Z"
   },
   {
    "duration": 0,
    "start_time": "2022-12-02T06:37:20.847Z"
   },
   {
    "duration": 0,
    "start_time": "2022-12-02T06:37:20.849Z"
   },
   {
    "duration": 0,
    "start_time": "2022-12-02T06:37:20.850Z"
   },
   {
    "duration": 0,
    "start_time": "2022-12-02T06:37:20.852Z"
   },
   {
    "duration": 0,
    "start_time": "2022-12-02T06:37:20.853Z"
   },
   {
    "duration": 0,
    "start_time": "2022-12-02T06:37:20.855Z"
   },
   {
    "duration": 0,
    "start_time": "2022-12-02T06:37:20.856Z"
   },
   {
    "duration": 0,
    "start_time": "2022-12-02T06:37:20.858Z"
   },
   {
    "duration": 0,
    "start_time": "2022-12-02T06:37:20.859Z"
   },
   {
    "duration": 0,
    "start_time": "2022-12-02T06:37:20.861Z"
   },
   {
    "duration": 0,
    "start_time": "2022-12-02T06:37:20.862Z"
   },
   {
    "duration": 0,
    "start_time": "2022-12-02T06:37:20.863Z"
   },
   {
    "duration": 0,
    "start_time": "2022-12-02T06:37:20.905Z"
   },
   {
    "duration": 0,
    "start_time": "2022-12-02T06:37:20.906Z"
   },
   {
    "duration": 0,
    "start_time": "2022-12-02T06:37:20.907Z"
   },
   {
    "duration": 0,
    "start_time": "2022-12-02T06:37:20.909Z"
   },
   {
    "duration": 0,
    "start_time": "2022-12-02T06:37:20.910Z"
   },
   {
    "duration": 7,
    "start_time": "2022-12-02T06:37:37.892Z"
   },
   {
    "duration": 7,
    "start_time": "2022-12-02T06:44:58.081Z"
   },
   {
    "duration": 34,
    "start_time": "2022-12-02T06:45:06.538Z"
   },
   {
    "duration": 6,
    "start_time": "2022-12-02T06:49:13.934Z"
   },
   {
    "duration": 12,
    "start_time": "2022-12-02T06:49:32.943Z"
   },
   {
    "duration": 1488,
    "start_time": "2022-12-02T07:11:58.214Z"
   },
   {
    "duration": 240,
    "start_time": "2022-12-02T07:11:59.706Z"
   },
   {
    "duration": 4,
    "start_time": "2022-12-02T07:11:59.949Z"
   },
   {
    "duration": 144,
    "start_time": "2022-12-02T07:11:59.955Z"
   },
   {
    "duration": 96,
    "start_time": "2022-12-02T07:12:00.108Z"
   },
   {
    "duration": 8,
    "start_time": "2022-12-02T07:12:00.206Z"
   },
   {
    "duration": 646,
    "start_time": "2022-12-02T07:12:00.220Z"
   },
   {
    "duration": 14,
    "start_time": "2022-12-02T07:12:00.868Z"
   },
   {
    "duration": 585,
    "start_time": "2022-12-02T07:12:00.884Z"
   },
   {
    "duration": 12,
    "start_time": "2022-12-02T07:12:01.473Z"
   },
   {
    "duration": 56,
    "start_time": "2022-12-02T07:12:01.487Z"
   },
   {
    "duration": 49,
    "start_time": "2022-12-02T07:12:01.545Z"
   },
   {
    "duration": 50,
    "start_time": "2022-12-02T07:12:01.597Z"
   },
   {
    "duration": 21,
    "start_time": "2022-12-02T07:12:01.649Z"
   },
   {
    "duration": 77,
    "start_time": "2022-12-02T07:12:01.671Z"
   },
   {
    "duration": 125,
    "start_time": "2022-12-02T07:12:01.750Z"
   },
   {
    "duration": 7,
    "start_time": "2022-12-02T07:12:01.877Z"
   },
   {
    "duration": 26,
    "start_time": "2022-12-02T07:12:01.886Z"
   },
   {
    "duration": 31,
    "start_time": "2022-12-02T07:12:01.913Z"
   },
   {
    "duration": 10,
    "start_time": "2022-12-02T07:12:01.945Z"
   },
   {
    "duration": 1177,
    "start_time": "2022-12-02T07:12:01.957Z"
   },
   {
    "duration": 608,
    "start_time": "2022-12-02T07:12:03.136Z"
   },
   {
    "duration": 132,
    "start_time": "2022-12-02T07:12:03.746Z"
   },
   {
    "duration": 2006,
    "start_time": "2022-12-02T07:12:03.879Z"
   },
   {
    "duration": 65,
    "start_time": "2022-12-02T07:12:05.886Z"
   },
   {
    "duration": 7239,
    "start_time": "2022-12-02T07:12:05.953Z"
   },
   {
    "duration": 10398,
    "start_time": "2022-12-02T07:12:13.193Z"
   },
   {
    "duration": 188,
    "start_time": "2022-12-02T07:12:23.595Z"
   },
   {
    "duration": 4,
    "start_time": "2022-12-02T07:12:23.785Z"
   },
   {
    "duration": 51,
    "start_time": "2022-12-02T07:12:23.790Z"
   },
   {
    "duration": 881,
    "start_time": "2022-12-02T07:12:23.842Z"
   },
   {
    "duration": 2,
    "start_time": "2022-12-02T07:12:24.724Z"
   },
   {
    "duration": 8,
    "start_time": "2022-12-02T07:12:24.736Z"
   },
   {
    "duration": 87,
    "start_time": "2022-12-02T07:12:24.746Z"
   },
   {
    "duration": 10,
    "start_time": "2022-12-02T07:12:24.837Z"
   },
   {
    "duration": 10,
    "start_time": "2022-12-02T07:12:24.849Z"
   },
   {
    "duration": 10,
    "start_time": "2022-12-02T07:12:24.861Z"
   },
   {
    "duration": 13,
    "start_time": "2022-12-02T07:12:24.872Z"
   },
   {
    "duration": 33,
    "start_time": "2022-12-02T07:12:24.887Z"
   },
   {
    "duration": 34,
    "start_time": "2022-12-02T07:12:24.924Z"
   },
   {
    "duration": 1500,
    "start_time": "2022-12-02T16:33:25.139Z"
   },
   {
    "duration": 363,
    "start_time": "2022-12-02T16:33:26.641Z"
   },
   {
    "duration": 3,
    "start_time": "2022-12-02T16:33:27.006Z"
   },
   {
    "duration": 125,
    "start_time": "2022-12-02T16:33:27.011Z"
   },
   {
    "duration": 81,
    "start_time": "2022-12-02T16:33:27.138Z"
   },
   {
    "duration": 3,
    "start_time": "2022-12-02T16:33:27.220Z"
   },
   {
    "duration": 578,
    "start_time": "2022-12-02T16:33:27.226Z"
   },
   {
    "duration": 15,
    "start_time": "2022-12-02T16:33:27.806Z"
   },
   {
    "duration": 570,
    "start_time": "2022-12-02T16:33:27.823Z"
   },
   {
    "duration": 17,
    "start_time": "2022-12-02T16:33:28.395Z"
   },
   {
    "duration": 29,
    "start_time": "2022-12-02T16:33:28.414Z"
   },
   {
    "duration": 31,
    "start_time": "2022-12-02T16:33:28.445Z"
   },
   {
    "duration": 36,
    "start_time": "2022-12-02T16:33:28.478Z"
   },
   {
    "duration": 6,
    "start_time": "2022-12-02T16:33:28.516Z"
   },
   {
    "duration": 57,
    "start_time": "2022-12-02T16:33:28.523Z"
   },
   {
    "duration": 93,
    "start_time": "2022-12-02T16:33:28.581Z"
   },
   {
    "duration": 137,
    "start_time": "2022-12-02T16:33:28.676Z"
   },
   {
    "duration": 0,
    "start_time": "2022-12-02T16:33:28.815Z"
   },
   {
    "duration": 0,
    "start_time": "2022-12-02T16:33:28.816Z"
   },
   {
    "duration": 0,
    "start_time": "2022-12-02T16:33:28.818Z"
   },
   {
    "duration": 0,
    "start_time": "2022-12-02T16:33:28.818Z"
   },
   {
    "duration": 0,
    "start_time": "2022-12-02T16:33:28.819Z"
   },
   {
    "duration": 0,
    "start_time": "2022-12-02T16:33:28.820Z"
   },
   {
    "duration": 0,
    "start_time": "2022-12-02T16:33:28.821Z"
   },
   {
    "duration": 0,
    "start_time": "2022-12-02T16:33:28.822Z"
   },
   {
    "duration": 0,
    "start_time": "2022-12-02T16:33:28.823Z"
   },
   {
    "duration": 0,
    "start_time": "2022-12-02T16:33:28.824Z"
   },
   {
    "duration": 0,
    "start_time": "2022-12-02T16:33:28.826Z"
   },
   {
    "duration": 0,
    "start_time": "2022-12-02T16:33:28.826Z"
   },
   {
    "duration": 0,
    "start_time": "2022-12-02T16:33:28.827Z"
   },
   {
    "duration": 0,
    "start_time": "2022-12-02T16:33:28.829Z"
   },
   {
    "duration": 0,
    "start_time": "2022-12-02T16:33:28.830Z"
   },
   {
    "duration": 0,
    "start_time": "2022-12-02T16:33:28.831Z"
   },
   {
    "duration": 0,
    "start_time": "2022-12-02T16:33:28.832Z"
   },
   {
    "duration": 0,
    "start_time": "2022-12-02T16:33:28.833Z"
   },
   {
    "duration": 0,
    "start_time": "2022-12-02T16:33:28.834Z"
   },
   {
    "duration": 0,
    "start_time": "2022-12-02T16:33:28.835Z"
   },
   {
    "duration": 0,
    "start_time": "2022-12-02T16:33:28.836Z"
   },
   {
    "duration": 0,
    "start_time": "2022-12-02T16:33:28.836Z"
   },
   {
    "duration": 0,
    "start_time": "2022-12-02T16:33:28.837Z"
   },
   {
    "duration": 0,
    "start_time": "2022-12-02T16:33:28.838Z"
   },
   {
    "duration": 48,
    "start_time": "2022-12-02T18:18:15.760Z"
   },
   {
    "duration": 1497,
    "start_time": "2022-12-02T18:18:21.988Z"
   },
   {
    "duration": 347,
    "start_time": "2022-12-02T18:18:23.487Z"
   },
   {
    "duration": 3,
    "start_time": "2022-12-02T18:18:23.836Z"
   },
   {
    "duration": 115,
    "start_time": "2022-12-02T18:18:23.840Z"
   },
   {
    "duration": 77,
    "start_time": "2022-12-02T18:18:23.957Z"
   },
   {
    "duration": 3,
    "start_time": "2022-12-02T18:18:24.035Z"
   },
   {
    "duration": 539,
    "start_time": "2022-12-02T18:18:24.039Z"
   },
   {
    "duration": 22,
    "start_time": "2022-12-02T18:18:24.580Z"
   },
   {
    "duration": 502,
    "start_time": "2022-12-02T18:18:24.603Z"
   },
   {
    "duration": 12,
    "start_time": "2022-12-02T18:18:25.108Z"
   },
   {
    "duration": 29,
    "start_time": "2022-12-02T18:18:25.122Z"
   },
   {
    "duration": 53,
    "start_time": "2022-12-02T18:18:25.153Z"
   },
   {
    "duration": 16,
    "start_time": "2022-12-02T18:18:25.208Z"
   },
   {
    "duration": 4,
    "start_time": "2022-12-02T18:18:25.225Z"
   },
   {
    "duration": 52,
    "start_time": "2022-12-02T18:18:25.231Z"
   },
   {
    "duration": 79,
    "start_time": "2022-12-02T18:18:25.296Z"
   },
   {
    "duration": 125,
    "start_time": "2022-12-02T18:18:25.377Z"
   },
   {
    "duration": 0,
    "start_time": "2022-12-02T18:18:25.504Z"
   },
   {
    "duration": 0,
    "start_time": "2022-12-02T18:18:25.505Z"
   },
   {
    "duration": 0,
    "start_time": "2022-12-02T18:18:25.507Z"
   },
   {
    "duration": 0,
    "start_time": "2022-12-02T18:18:25.508Z"
   },
   {
    "duration": 0,
    "start_time": "2022-12-02T18:18:25.509Z"
   },
   {
    "duration": 0,
    "start_time": "2022-12-02T18:18:25.510Z"
   },
   {
    "duration": 0,
    "start_time": "2022-12-02T18:18:25.511Z"
   },
   {
    "duration": 0,
    "start_time": "2022-12-02T18:18:25.512Z"
   },
   {
    "duration": 0,
    "start_time": "2022-12-02T18:18:25.513Z"
   },
   {
    "duration": 0,
    "start_time": "2022-12-02T18:18:25.514Z"
   },
   {
    "duration": 0,
    "start_time": "2022-12-02T18:18:25.515Z"
   },
   {
    "duration": 0,
    "start_time": "2022-12-02T18:18:25.516Z"
   },
   {
    "duration": 0,
    "start_time": "2022-12-02T18:18:25.517Z"
   },
   {
    "duration": 0,
    "start_time": "2022-12-02T18:18:25.519Z"
   },
   {
    "duration": 0,
    "start_time": "2022-12-02T18:18:25.520Z"
   },
   {
    "duration": 0,
    "start_time": "2022-12-02T18:18:25.521Z"
   },
   {
    "duration": 0,
    "start_time": "2022-12-02T18:18:25.523Z"
   },
   {
    "duration": 0,
    "start_time": "2022-12-02T18:18:25.524Z"
   },
   {
    "duration": 0,
    "start_time": "2022-12-02T18:18:25.526Z"
   },
   {
    "duration": 1,
    "start_time": "2022-12-02T18:18:25.527Z"
   },
   {
    "duration": 0,
    "start_time": "2022-12-02T18:18:25.529Z"
   },
   {
    "duration": 0,
    "start_time": "2022-12-02T18:18:25.530Z"
   },
   {
    "duration": 0,
    "start_time": "2022-12-02T18:18:25.532Z"
   },
   {
    "duration": 0,
    "start_time": "2022-12-02T18:18:25.533Z"
   },
   {
    "duration": 5,
    "start_time": "2022-12-02T18:34:48.607Z"
   },
   {
    "duration": 7,
    "start_time": "2022-12-02T18:37:43.519Z"
   },
   {
    "duration": 740,
    "start_time": "2022-12-02T18:38:04.162Z"
   },
   {
    "duration": 849,
    "start_time": "2022-12-02T18:38:42.726Z"
   },
   {
    "duration": 12,
    "start_time": "2022-12-02T18:39:13.267Z"
   },
   {
    "duration": 11,
    "start_time": "2022-12-02T18:39:24.426Z"
   },
   {
    "duration": 1371,
    "start_time": "2022-12-02T18:39:36.052Z"
   },
   {
    "duration": 209,
    "start_time": "2022-12-02T18:39:37.425Z"
   },
   {
    "duration": 3,
    "start_time": "2022-12-02T18:39:37.636Z"
   },
   {
    "duration": 128,
    "start_time": "2022-12-02T18:39:37.641Z"
   },
   {
    "duration": 103,
    "start_time": "2022-12-02T18:39:37.772Z"
   },
   {
    "duration": 20,
    "start_time": "2022-12-02T18:39:37.877Z"
   },
   {
    "duration": 582,
    "start_time": "2022-12-02T18:39:37.899Z"
   },
   {
    "duration": 24,
    "start_time": "2022-12-02T18:39:38.482Z"
   },
   {
    "duration": 517,
    "start_time": "2022-12-02T18:39:38.508Z"
   },
   {
    "duration": 13,
    "start_time": "2022-12-02T18:39:39.026Z"
   },
   {
    "duration": 40,
    "start_time": "2022-12-02T18:39:39.041Z"
   },
   {
    "duration": 41,
    "start_time": "2022-12-02T18:39:39.083Z"
   },
   {
    "duration": 21,
    "start_time": "2022-12-02T18:39:39.125Z"
   },
   {
    "duration": 5,
    "start_time": "2022-12-02T18:39:39.149Z"
   },
   {
    "duration": 63,
    "start_time": "2022-12-02T18:39:39.155Z"
   },
   {
    "duration": 93,
    "start_time": "2022-12-02T18:39:39.220Z"
   },
   {
    "duration": 111,
    "start_time": "2022-12-02T18:39:39.315Z"
   },
   {
    "duration": 0,
    "start_time": "2022-12-02T18:39:39.428Z"
   },
   {
    "duration": 0,
    "start_time": "2022-12-02T18:39:39.429Z"
   },
   {
    "duration": 0,
    "start_time": "2022-12-02T18:39:39.431Z"
   },
   {
    "duration": 0,
    "start_time": "2022-12-02T18:39:39.432Z"
   },
   {
    "duration": 0,
    "start_time": "2022-12-02T18:39:39.434Z"
   },
   {
    "duration": 0,
    "start_time": "2022-12-02T18:39:39.436Z"
   },
   {
    "duration": 0,
    "start_time": "2022-12-02T18:39:39.438Z"
   },
   {
    "duration": 0,
    "start_time": "2022-12-02T18:39:39.439Z"
   },
   {
    "duration": 0,
    "start_time": "2022-12-02T18:39:39.440Z"
   },
   {
    "duration": 0,
    "start_time": "2022-12-02T18:39:39.442Z"
   },
   {
    "duration": 0,
    "start_time": "2022-12-02T18:39:39.444Z"
   },
   {
    "duration": 0,
    "start_time": "2022-12-02T18:39:39.445Z"
   },
   {
    "duration": 0,
    "start_time": "2022-12-02T18:39:39.447Z"
   },
   {
    "duration": 0,
    "start_time": "2022-12-02T18:39:39.448Z"
   },
   {
    "duration": 0,
    "start_time": "2022-12-02T18:39:39.450Z"
   },
   {
    "duration": 0,
    "start_time": "2022-12-02T18:39:39.452Z"
   },
   {
    "duration": 0,
    "start_time": "2022-12-02T18:39:39.497Z"
   },
   {
    "duration": 0,
    "start_time": "2022-12-02T18:39:39.498Z"
   },
   {
    "duration": 0,
    "start_time": "2022-12-02T18:39:39.500Z"
   },
   {
    "duration": 0,
    "start_time": "2022-12-02T18:39:39.501Z"
   },
   {
    "duration": 0,
    "start_time": "2022-12-02T18:39:39.503Z"
   },
   {
    "duration": 0,
    "start_time": "2022-12-02T18:39:39.504Z"
   },
   {
    "duration": 0,
    "start_time": "2022-12-02T18:39:39.506Z"
   },
   {
    "duration": 0,
    "start_time": "2022-12-02T18:39:39.507Z"
   },
   {
    "duration": 66,
    "start_time": "2022-12-02T18:42:50.348Z"
   },
   {
    "duration": 2775,
    "start_time": "2022-12-02T18:42:56.947Z"
   },
   {
    "duration": 27,
    "start_time": "2022-12-02T18:56:47.472Z"
   },
   {
    "duration": 14,
    "start_time": "2022-12-02T18:57:20.571Z"
   },
   {
    "duration": 6,
    "start_time": "2022-12-02T18:57:48.443Z"
   },
   {
    "duration": 682,
    "start_time": "2022-12-02T18:57:49.670Z"
   },
   {
    "duration": 1392,
    "start_time": "2022-12-02T18:58:01.291Z"
   },
   {
    "duration": 230,
    "start_time": "2022-12-02T18:58:02.685Z"
   },
   {
    "duration": 3,
    "start_time": "2022-12-02T18:58:02.917Z"
   },
   {
    "duration": 126,
    "start_time": "2022-12-02T18:58:02.922Z"
   },
   {
    "duration": 88,
    "start_time": "2022-12-02T18:58:03.051Z"
   },
   {
    "duration": 3,
    "start_time": "2022-12-02T18:58:03.141Z"
   },
   {
    "duration": 636,
    "start_time": "2022-12-02T18:58:03.146Z"
   },
   {
    "duration": 29,
    "start_time": "2022-12-02T18:58:03.784Z"
   },
   {
    "duration": 446,
    "start_time": "2022-12-02T18:58:03.814Z"
   },
   {
    "duration": 13,
    "start_time": "2022-12-02T18:58:04.262Z"
   },
   {
    "duration": 45,
    "start_time": "2022-12-02T18:58:04.277Z"
   },
   {
    "duration": 32,
    "start_time": "2022-12-02T18:58:04.323Z"
   },
   {
    "duration": 17,
    "start_time": "2022-12-02T18:58:04.356Z"
   },
   {
    "duration": 20,
    "start_time": "2022-12-02T18:58:04.376Z"
   },
   {
    "duration": 53,
    "start_time": "2022-12-02T18:58:04.398Z"
   },
   {
    "duration": 6,
    "start_time": "2022-12-02T18:58:04.453Z"
   },
   {
    "duration": 657,
    "start_time": "2022-12-02T18:58:04.461Z"
   },
   {
    "duration": 9,
    "start_time": "2022-12-02T18:58:05.120Z"
   },
   {
    "duration": 10,
    "start_time": "2022-12-02T18:58:05.130Z"
   },
   {
    "duration": 12,
    "start_time": "2022-12-02T18:58:05.142Z"
   },
   {
    "duration": 10,
    "start_time": "2022-12-02T18:58:05.156Z"
   },
   {
    "duration": 1206,
    "start_time": "2022-12-02T18:58:05.168Z"
   },
   {
    "duration": 594,
    "start_time": "2022-12-02T18:58:06.376Z"
   },
   {
    "duration": 118,
    "start_time": "2022-12-02T18:58:06.972Z"
   },
   {
    "duration": 1927,
    "start_time": "2022-12-02T18:58:07.096Z"
   },
   {
    "duration": 58,
    "start_time": "2022-12-02T18:58:09.024Z"
   },
   {
    "duration": 6746,
    "start_time": "2022-12-02T18:58:09.084Z"
   },
   {
    "duration": 9891,
    "start_time": "2022-12-02T18:58:15.831Z"
   },
   {
    "duration": 199,
    "start_time": "2022-12-02T18:58:25.724Z"
   },
   {
    "duration": 4,
    "start_time": "2022-12-02T18:58:25.925Z"
   },
   {
    "duration": 11,
    "start_time": "2022-12-02T18:58:25.931Z"
   },
   {
    "duration": 813,
    "start_time": "2022-12-02T18:58:25.944Z"
   },
   {
    "duration": 3,
    "start_time": "2022-12-02T18:58:26.758Z"
   },
   {
    "duration": 12,
    "start_time": "2022-12-02T18:58:26.762Z"
   },
   {
    "duration": 73,
    "start_time": "2022-12-02T18:58:26.776Z"
   },
   {
    "duration": 14,
    "start_time": "2022-12-02T18:58:26.851Z"
   },
   {
    "duration": 30,
    "start_time": "2022-12-02T18:58:26.867Z"
   },
   {
    "duration": 11,
    "start_time": "2022-12-02T18:58:26.899Z"
   },
   {
    "duration": 11,
    "start_time": "2022-12-02T18:58:26.911Z"
   },
   {
    "duration": 11,
    "start_time": "2022-12-02T18:58:26.923Z"
   },
   {
    "duration": 10,
    "start_time": "2022-12-02T18:58:26.938Z"
   },
   {
    "duration": 7,
    "start_time": "2022-12-02T19:01:25.782Z"
   },
   {
    "duration": 2145,
    "start_time": "2022-12-02T19:01:26.864Z"
   },
   {
    "duration": 55,
    "start_time": "2022-12-02T19:07:27.153Z"
   },
   {
    "duration": 1382,
    "start_time": "2022-12-02T19:07:37.884Z"
   },
   {
    "duration": 213,
    "start_time": "2022-12-02T19:07:39.268Z"
   },
   {
    "duration": 4,
    "start_time": "2022-12-02T19:07:39.483Z"
   },
   {
    "duration": 122,
    "start_time": "2022-12-02T19:07:39.489Z"
   },
   {
    "duration": 84,
    "start_time": "2022-12-02T19:07:39.613Z"
   },
   {
    "duration": 4,
    "start_time": "2022-12-02T19:07:39.699Z"
   },
   {
    "duration": 602,
    "start_time": "2022-12-02T19:07:39.705Z"
   },
   {
    "duration": 14,
    "start_time": "2022-12-02T19:07:40.309Z"
   },
   {
    "duration": 442,
    "start_time": "2022-12-02T19:07:40.325Z"
   },
   {
    "duration": 12,
    "start_time": "2022-12-02T19:07:40.770Z"
   },
   {
    "duration": 41,
    "start_time": "2022-12-02T19:07:40.784Z"
   },
   {
    "duration": 34,
    "start_time": "2022-12-02T19:07:40.826Z"
   },
   {
    "duration": 35,
    "start_time": "2022-12-02T19:07:40.862Z"
   },
   {
    "duration": 4,
    "start_time": "2022-12-02T19:07:40.899Z"
   },
   {
    "duration": 51,
    "start_time": "2022-12-02T19:07:40.905Z"
   },
   {
    "duration": 5,
    "start_time": "2022-12-02T19:07:40.958Z"
   },
   {
    "duration": 1898,
    "start_time": "2022-12-02T19:07:40.964Z"
   },
   {
    "duration": 6,
    "start_time": "2022-12-02T19:07:42.864Z"
   },
   {
    "duration": 8,
    "start_time": "2022-12-02T19:07:42.871Z"
   },
   {
    "duration": 5,
    "start_time": "2022-12-02T19:07:42.881Z"
   },
   {
    "duration": 8,
    "start_time": "2022-12-02T19:07:42.888Z"
   },
   {
    "duration": 1067,
    "start_time": "2022-12-02T19:07:42.898Z"
   },
   {
    "duration": 541,
    "start_time": "2022-12-02T19:07:43.967Z"
   },
   {
    "duration": 129,
    "start_time": "2022-12-02T19:07:44.510Z"
   },
   {
    "duration": 1878,
    "start_time": "2022-12-02T19:07:44.640Z"
   },
   {
    "duration": 56,
    "start_time": "2022-12-02T19:07:46.519Z"
   },
   {
    "duration": 6296,
    "start_time": "2022-12-02T19:07:46.577Z"
   },
   {
    "duration": 9497,
    "start_time": "2022-12-02T19:07:52.876Z"
   },
   {
    "duration": 193,
    "start_time": "2022-12-02T19:08:02.375Z"
   },
   {
    "duration": 4,
    "start_time": "2022-12-02T19:08:02.570Z"
   },
   {
    "duration": 13,
    "start_time": "2022-12-02T19:08:02.575Z"
   },
   {
    "duration": 759,
    "start_time": "2022-12-02T19:08:02.590Z"
   },
   {
    "duration": 2,
    "start_time": "2022-12-02T19:08:03.350Z"
   },
   {
    "duration": 9,
    "start_time": "2022-12-02T19:08:03.354Z"
   },
   {
    "duration": 70,
    "start_time": "2022-12-02T19:08:03.365Z"
   },
   {
    "duration": 10,
    "start_time": "2022-12-02T19:08:03.436Z"
   },
   {
    "duration": 10,
    "start_time": "2022-12-02T19:08:03.447Z"
   },
   {
    "duration": 9,
    "start_time": "2022-12-02T19:08:03.458Z"
   },
   {
    "duration": 32,
    "start_time": "2022-12-02T19:08:03.469Z"
   },
   {
    "duration": 10,
    "start_time": "2022-12-02T19:08:03.503Z"
   },
   {
    "duration": 10,
    "start_time": "2022-12-02T19:08:03.514Z"
   },
   {
    "duration": 4,
    "start_time": "2022-12-02T19:08:09.020Z"
   },
   {
    "duration": 35,
    "start_time": "2022-12-02T19:08:11.265Z"
   },
   {
    "duration": 5,
    "start_time": "2022-12-02T19:49:42.557Z"
   },
   {
    "duration": 1337,
    "start_time": "2022-12-02T20:07:17.948Z"
   },
   {
    "duration": 235,
    "start_time": "2022-12-02T20:07:19.287Z"
   },
   {
    "duration": 3,
    "start_time": "2022-12-02T20:07:19.523Z"
   },
   {
    "duration": 126,
    "start_time": "2022-12-02T20:07:19.528Z"
   },
   {
    "duration": 83,
    "start_time": "2022-12-02T20:07:19.656Z"
   },
   {
    "duration": 2,
    "start_time": "2022-12-02T20:07:19.741Z"
   },
   {
    "duration": 646,
    "start_time": "2022-12-02T20:07:19.745Z"
   },
   {
    "duration": 16,
    "start_time": "2022-12-02T20:07:20.393Z"
   },
   {
    "duration": 460,
    "start_time": "2022-12-02T20:07:20.410Z"
   },
   {
    "duration": 13,
    "start_time": "2022-12-02T20:07:20.871Z"
   },
   {
    "duration": 28,
    "start_time": "2022-12-02T20:07:20.897Z"
   },
   {
    "duration": 37,
    "start_time": "2022-12-02T20:07:20.926Z"
   },
   {
    "duration": 31,
    "start_time": "2022-12-02T20:07:20.965Z"
   },
   {
    "duration": 4,
    "start_time": "2022-12-02T20:07:21.000Z"
   },
   {
    "duration": 55,
    "start_time": "2022-12-02T20:07:21.005Z"
   },
   {
    "duration": 6,
    "start_time": "2022-12-02T20:07:21.062Z"
   },
   {
    "duration": 1889,
    "start_time": "2022-12-02T20:07:21.069Z"
   },
   {
    "duration": 6,
    "start_time": "2022-12-02T20:07:22.960Z"
   },
   {
    "duration": 7,
    "start_time": "2022-12-02T20:07:22.968Z"
   },
   {
    "duration": 10,
    "start_time": "2022-12-02T20:07:22.997Z"
   },
   {
    "duration": 16,
    "start_time": "2022-12-02T20:07:23.009Z"
   },
   {
    "duration": 1080,
    "start_time": "2022-12-02T20:07:23.026Z"
   },
   {
    "duration": 558,
    "start_time": "2022-12-02T20:07:24.108Z"
   },
   {
    "duration": 111,
    "start_time": "2022-12-02T20:07:24.668Z"
   },
   {
    "duration": 0,
    "start_time": "2022-12-02T20:07:24.781Z"
   },
   {
    "duration": 0,
    "start_time": "2022-12-02T20:07:24.782Z"
   },
   {
    "duration": 0,
    "start_time": "2022-12-02T20:07:24.783Z"
   },
   {
    "duration": 0,
    "start_time": "2022-12-02T20:07:24.784Z"
   },
   {
    "duration": 0,
    "start_time": "2022-12-02T20:07:24.785Z"
   },
   {
    "duration": 0,
    "start_time": "2022-12-02T20:07:24.796Z"
   },
   {
    "duration": 0,
    "start_time": "2022-12-02T20:07:24.797Z"
   },
   {
    "duration": 0,
    "start_time": "2022-12-02T20:07:24.798Z"
   },
   {
    "duration": 0,
    "start_time": "2022-12-02T20:07:24.800Z"
   },
   {
    "duration": 0,
    "start_time": "2022-12-02T20:07:24.801Z"
   },
   {
    "duration": 0,
    "start_time": "2022-12-02T20:07:24.802Z"
   },
   {
    "duration": 0,
    "start_time": "2022-12-02T20:07:24.802Z"
   },
   {
    "duration": 0,
    "start_time": "2022-12-02T20:07:24.804Z"
   },
   {
    "duration": 1,
    "start_time": "2022-12-02T20:07:24.804Z"
   },
   {
    "duration": 0,
    "start_time": "2022-12-02T20:07:24.806Z"
   },
   {
    "duration": 0,
    "start_time": "2022-12-02T20:07:24.807Z"
   },
   {
    "duration": 11,
    "start_time": "2022-12-02T20:08:12.483Z"
   },
   {
    "duration": 10,
    "start_time": "2022-12-02T20:08:13.518Z"
   },
   {
    "duration": 46,
    "start_time": "2022-12-02T20:08:23.797Z"
   },
   {
    "duration": 154,
    "start_time": "2022-12-02T20:08:36.677Z"
   },
   {
    "duration": 58,
    "start_time": "2022-12-02T20:08:40.034Z"
   },
   {
    "duration": 5153,
    "start_time": "2022-12-02T20:08:48.816Z"
   },
   {
    "duration": 4438,
    "start_time": "2022-12-02T20:09:01.650Z"
   },
   {
    "duration": 4774,
    "start_time": "2022-12-02T20:09:43.897Z"
   },
   {
    "duration": 164,
    "start_time": "2022-12-02T20:10:20.057Z"
   },
   {
    "duration": 1381,
    "start_time": "2022-12-02T20:10:32.268Z"
   },
   {
    "duration": 217,
    "start_time": "2022-12-02T20:10:33.651Z"
   },
   {
    "duration": 3,
    "start_time": "2022-12-02T20:10:33.870Z"
   },
   {
    "duration": 146,
    "start_time": "2022-12-02T20:10:33.874Z"
   },
   {
    "duration": 90,
    "start_time": "2022-12-02T20:10:34.022Z"
   },
   {
    "duration": 3,
    "start_time": "2022-12-02T20:10:34.114Z"
   },
   {
    "duration": 598,
    "start_time": "2022-12-02T20:10:34.119Z"
   },
   {
    "duration": 23,
    "start_time": "2022-12-02T20:10:34.719Z"
   },
   {
    "duration": 453,
    "start_time": "2022-12-02T20:10:34.743Z"
   },
   {
    "duration": 13,
    "start_time": "2022-12-02T20:10:35.198Z"
   },
   {
    "duration": 25,
    "start_time": "2022-12-02T20:10:35.213Z"
   },
   {
    "duration": 32,
    "start_time": "2022-12-02T20:10:35.239Z"
   },
   {
    "duration": 38,
    "start_time": "2022-12-02T20:10:35.273Z"
   },
   {
    "duration": 4,
    "start_time": "2022-12-02T20:10:35.314Z"
   },
   {
    "duration": 53,
    "start_time": "2022-12-02T20:10:35.319Z"
   },
   {
    "duration": 5,
    "start_time": "2022-12-02T20:10:35.374Z"
   },
   {
    "duration": 1895,
    "start_time": "2022-12-02T20:10:35.397Z"
   },
   {
    "duration": 5,
    "start_time": "2022-12-02T20:10:37.294Z"
   },
   {
    "duration": 4,
    "start_time": "2022-12-02T20:10:37.301Z"
   },
   {
    "duration": 10,
    "start_time": "2022-12-02T20:10:37.307Z"
   },
   {
    "duration": 7,
    "start_time": "2022-12-02T20:10:37.318Z"
   },
   {
    "duration": 1122,
    "start_time": "2022-12-02T20:10:37.326Z"
   },
   {
    "duration": 587,
    "start_time": "2022-12-02T20:10:38.450Z"
   },
   {
    "duration": 11,
    "start_time": "2022-12-02T20:10:39.038Z"
   },
   {
    "duration": 185,
    "start_time": "2022-12-02T20:10:39.050Z"
   },
   {
    "duration": 6628,
    "start_time": "2022-12-02T20:10:39.237Z"
   },
   {
    "duration": 5026,
    "start_time": "2022-12-02T20:10:45.867Z"
   },
   {
    "duration": 184,
    "start_time": "2022-12-02T20:10:50.897Z"
   },
   {
    "duration": 3,
    "start_time": "2022-12-02T20:10:51.083Z"
   },
   {
    "duration": 3,
    "start_time": "2022-12-02T20:10:51.096Z"
   },
   {
    "duration": 825,
    "start_time": "2022-12-02T20:10:51.101Z"
   },
   {
    "duration": 3,
    "start_time": "2022-12-02T20:10:51.928Z"
   },
   {
    "duration": 11,
    "start_time": "2022-12-02T20:10:51.932Z"
   },
   {
    "duration": 76,
    "start_time": "2022-12-02T20:10:51.944Z"
   },
   {
    "duration": 11,
    "start_time": "2022-12-02T20:10:52.022Z"
   },
   {
    "duration": 12,
    "start_time": "2022-12-02T20:10:52.034Z"
   },
   {
    "duration": 11,
    "start_time": "2022-12-02T20:10:52.048Z"
   },
   {
    "duration": 39,
    "start_time": "2022-12-02T20:10:52.060Z"
   },
   {
    "duration": 11,
    "start_time": "2022-12-02T20:10:52.101Z"
   },
   {
    "duration": 12,
    "start_time": "2022-12-02T20:10:52.113Z"
   },
   {
    "duration": 7,
    "start_time": "2022-12-02T20:12:35.828Z"
   },
   {
    "duration": 1065,
    "start_time": "2022-12-02T20:12:36.534Z"
   },
   {
    "duration": 576,
    "start_time": "2022-12-02T20:12:39.156Z"
   },
   {
    "duration": 1361,
    "start_time": "2022-12-02T20:14:17.941Z"
   },
   {
    "duration": 229,
    "start_time": "2022-12-02T20:14:19.304Z"
   },
   {
    "duration": 4,
    "start_time": "2022-12-02T20:14:19.535Z"
   },
   {
    "duration": 122,
    "start_time": "2022-12-02T20:14:19.541Z"
   },
   {
    "duration": 78,
    "start_time": "2022-12-02T20:14:19.664Z"
   },
   {
    "duration": 3,
    "start_time": "2022-12-02T20:14:19.744Z"
   },
   {
    "duration": 627,
    "start_time": "2022-12-02T20:14:19.748Z"
   },
   {
    "duration": 23,
    "start_time": "2022-12-02T20:14:20.376Z"
   },
   {
    "duration": 450,
    "start_time": "2022-12-02T20:14:20.400Z"
   },
   {
    "duration": 14,
    "start_time": "2022-12-02T20:14:20.853Z"
   },
   {
    "duration": 45,
    "start_time": "2022-12-02T20:14:20.869Z"
   },
   {
    "duration": 38,
    "start_time": "2022-12-02T20:14:20.916Z"
   },
   {
    "duration": 20,
    "start_time": "2022-12-02T20:14:20.956Z"
   },
   {
    "duration": 21,
    "start_time": "2022-12-02T20:14:20.978Z"
   },
   {
    "duration": 60,
    "start_time": "2022-12-02T20:14:21.001Z"
   },
   {
    "duration": 6,
    "start_time": "2022-12-02T20:14:21.063Z"
   },
   {
    "duration": 1922,
    "start_time": "2022-12-02T20:14:21.071Z"
   },
   {
    "duration": 6,
    "start_time": "2022-12-02T20:14:22.994Z"
   },
   {
    "duration": 6,
    "start_time": "2022-12-02T20:14:23.002Z"
   },
   {
    "duration": 18,
    "start_time": "2022-12-02T20:14:23.010Z"
   },
   {
    "duration": 7,
    "start_time": "2022-12-02T20:14:23.030Z"
   },
   {
    "duration": 1110,
    "start_time": "2022-12-02T20:14:23.039Z"
   },
   {
    "duration": 584,
    "start_time": "2022-12-02T20:14:24.151Z"
   },
   {
    "duration": 10,
    "start_time": "2022-12-02T20:14:24.736Z"
   },
   {
    "duration": 179,
    "start_time": "2022-12-02T20:14:24.747Z"
   },
   {
    "duration": 6756,
    "start_time": "2022-12-02T20:14:24.927Z"
   },
   {
    "duration": 4982,
    "start_time": "2022-12-02T20:14:31.685Z"
   },
   {
    "duration": 176,
    "start_time": "2022-12-02T20:14:36.670Z"
   },
   {
    "duration": 71,
    "start_time": "2022-12-02T20:14:36.848Z"
   },
   {
    "duration": 0,
    "start_time": "2022-12-02T20:14:36.921Z"
   },
   {
    "duration": 0,
    "start_time": "2022-12-02T20:14:36.922Z"
   },
   {
    "duration": 0,
    "start_time": "2022-12-02T20:14:36.923Z"
   },
   {
    "duration": 0,
    "start_time": "2022-12-02T20:14:36.925Z"
   },
   {
    "duration": 0,
    "start_time": "2022-12-02T20:14:36.926Z"
   },
   {
    "duration": 0,
    "start_time": "2022-12-02T20:14:36.927Z"
   },
   {
    "duration": 0,
    "start_time": "2022-12-02T20:14:36.928Z"
   },
   {
    "duration": 0,
    "start_time": "2022-12-02T20:14:36.930Z"
   },
   {
    "duration": 0,
    "start_time": "2022-12-02T20:14:36.931Z"
   },
   {
    "duration": 0,
    "start_time": "2022-12-02T20:14:36.932Z"
   },
   {
    "duration": 0,
    "start_time": "2022-12-02T20:14:36.933Z"
   },
   {
    "duration": 4,
    "start_time": "2022-12-02T20:15:04.476Z"
   },
   {
    "duration": 4,
    "start_time": "2022-12-02T20:15:05.205Z"
   },
   {
    "duration": 867,
    "start_time": "2022-12-02T20:15:06.026Z"
   },
   {
    "duration": 3,
    "start_time": "2022-12-02T20:15:06.895Z"
   },
   {
    "duration": 6,
    "start_time": "2022-12-02T20:15:08.046Z"
   },
   {
    "duration": 68,
    "start_time": "2022-12-02T20:16:15.276Z"
   },
   {
    "duration": 13,
    "start_time": "2022-12-02T20:16:15.966Z"
   },
   {
    "duration": 10,
    "start_time": "2022-12-02T20:16:16.556Z"
   },
   {
    "duration": 11,
    "start_time": "2022-12-02T20:16:16.706Z"
   },
   {
    "duration": 12,
    "start_time": "2022-12-02T20:16:16.933Z"
   },
   {
    "duration": 11,
    "start_time": "2022-12-02T20:16:17.668Z"
   },
   {
    "duration": 14,
    "start_time": "2022-12-02T20:16:18.100Z"
   },
   {
    "duration": 1467,
    "start_time": "2022-12-03T13:31:27.237Z"
   },
   {
    "duration": 247,
    "start_time": "2022-12-03T13:31:28.706Z"
   },
   {
    "duration": 3,
    "start_time": "2022-12-03T13:31:28.955Z"
   },
   {
    "duration": 138,
    "start_time": "2022-12-03T13:31:28.960Z"
   },
   {
    "duration": 92,
    "start_time": "2022-12-03T13:31:29.100Z"
   },
   {
    "duration": 3,
    "start_time": "2022-12-03T13:31:29.194Z"
   },
   {
    "duration": 743,
    "start_time": "2022-12-03T13:31:29.199Z"
   },
   {
    "duration": 15,
    "start_time": "2022-12-03T13:31:29.945Z"
   },
   {
    "duration": 518,
    "start_time": "2022-12-03T13:31:29.962Z"
   },
   {
    "duration": 14,
    "start_time": "2022-12-03T13:31:30.483Z"
   },
   {
    "duration": 71,
    "start_time": "2022-12-03T13:31:30.498Z"
   },
   {
    "duration": 63,
    "start_time": "2022-12-03T13:31:30.571Z"
   },
   {
    "duration": 35,
    "start_time": "2022-12-03T13:31:30.635Z"
   },
   {
    "duration": 9,
    "start_time": "2022-12-03T13:31:30.672Z"
   },
   {
    "duration": 84,
    "start_time": "2022-12-03T13:31:30.683Z"
   },
   {
    "duration": 7,
    "start_time": "2022-12-03T13:31:30.770Z"
   },
   {
    "duration": 2224,
    "start_time": "2022-12-03T13:31:30.780Z"
   },
   {
    "duration": 7,
    "start_time": "2022-12-03T13:31:33.005Z"
   },
   {
    "duration": 42,
    "start_time": "2022-12-03T13:31:33.015Z"
   },
   {
    "duration": 9,
    "start_time": "2022-12-03T13:31:33.060Z"
   },
   {
    "duration": 15,
    "start_time": "2022-12-03T13:31:33.071Z"
   },
   {
    "duration": 1274,
    "start_time": "2022-12-03T13:31:33.088Z"
   },
   {
    "duration": 626,
    "start_time": "2022-12-03T13:31:34.364Z"
   },
   {
    "duration": 9,
    "start_time": "2022-12-03T13:31:34.992Z"
   },
   {
    "duration": 197,
    "start_time": "2022-12-03T13:31:35.004Z"
   },
   {
    "duration": 7101,
    "start_time": "2022-12-03T13:31:35.204Z"
   },
   {
    "duration": 5311,
    "start_time": "2022-12-03T13:31:42.307Z"
   },
   {
    "duration": 275,
    "start_time": "2022-12-03T13:31:47.623Z"
   },
   {
    "duration": 16,
    "start_time": "2022-12-03T13:31:47.900Z"
   },
   {
    "duration": 9,
    "start_time": "2022-12-03T13:31:47.918Z"
   },
   {
    "duration": 822,
    "start_time": "2022-12-03T13:31:47.929Z"
   },
   {
    "duration": 5,
    "start_time": "2022-12-03T13:31:48.753Z"
   },
   {
    "duration": 24,
    "start_time": "2022-12-03T13:31:48.760Z"
   },
   {
    "duration": 103,
    "start_time": "2022-12-03T13:31:48.788Z"
   },
   {
    "duration": 15,
    "start_time": "2022-12-03T13:31:48.893Z"
   },
   {
    "duration": 18,
    "start_time": "2022-12-03T13:31:48.910Z"
   },
   {
    "duration": 12,
    "start_time": "2022-12-03T13:31:48.930Z"
   },
   {
    "duration": 28,
    "start_time": "2022-12-03T13:31:48.943Z"
   },
   {
    "duration": 14,
    "start_time": "2022-12-03T13:31:48.973Z"
   },
   {
    "duration": 32,
    "start_time": "2022-12-03T13:31:48.989Z"
   },
   {
    "duration": 59,
    "start_time": "2022-12-03T13:53:18.407Z"
   },
   {
    "duration": 1485,
    "start_time": "2022-12-03T16:48:07.775Z"
   },
   {
    "duration": 370,
    "start_time": "2022-12-03T16:48:09.262Z"
   },
   {
    "duration": 4,
    "start_time": "2022-12-03T16:48:09.633Z"
   },
   {
    "duration": 111,
    "start_time": "2022-12-03T16:48:09.638Z"
   },
   {
    "duration": 71,
    "start_time": "2022-12-03T16:48:09.751Z"
   },
   {
    "duration": 3,
    "start_time": "2022-12-03T16:48:09.823Z"
   },
   {
    "duration": 563,
    "start_time": "2022-12-03T16:48:09.828Z"
   },
   {
    "duration": 12,
    "start_time": "2022-12-03T16:48:10.392Z"
   },
   {
    "duration": 405,
    "start_time": "2022-12-03T16:48:10.406Z"
   },
   {
    "duration": 11,
    "start_time": "2022-12-03T16:48:10.813Z"
   },
   {
    "duration": 27,
    "start_time": "2022-12-03T16:48:10.825Z"
   },
   {
    "duration": 42,
    "start_time": "2022-12-03T16:48:10.853Z"
   },
   {
    "duration": 14,
    "start_time": "2022-12-03T16:48:10.896Z"
   },
   {
    "duration": 4,
    "start_time": "2022-12-03T16:48:10.912Z"
   },
   {
    "duration": 61,
    "start_time": "2022-12-03T16:48:10.917Z"
   },
   {
    "duration": 5,
    "start_time": "2022-12-03T16:48:10.980Z"
   },
   {
    "duration": 1803,
    "start_time": "2022-12-03T16:48:10.986Z"
   },
   {
    "duration": 5,
    "start_time": "2022-12-03T16:48:12.790Z"
   },
   {
    "duration": 24,
    "start_time": "2022-12-03T16:48:12.796Z"
   },
   {
    "duration": 27,
    "start_time": "2022-12-03T16:48:12.821Z"
   },
   {
    "duration": 16,
    "start_time": "2022-12-03T16:48:12.850Z"
   },
   {
    "duration": 988,
    "start_time": "2022-12-03T16:48:12.867Z"
   },
   {
    "duration": 508,
    "start_time": "2022-12-03T16:48:13.857Z"
   },
   {
    "duration": 13,
    "start_time": "2022-12-03T16:48:14.367Z"
   },
   {
    "duration": 156,
    "start_time": "2022-12-03T16:48:14.381Z"
   },
   {
    "duration": 6427,
    "start_time": "2022-12-03T16:48:14.539Z"
   },
   {
    "duration": 4677,
    "start_time": "2022-12-03T16:48:20.968Z"
   },
   {
    "duration": 164,
    "start_time": "2022-12-03T16:48:25.647Z"
   },
   {
    "duration": 4,
    "start_time": "2022-12-03T16:48:25.813Z"
   },
   {
    "duration": 11,
    "start_time": "2022-12-03T16:48:25.818Z"
   },
   {
    "duration": 712,
    "start_time": "2022-12-03T16:48:25.831Z"
   },
   {
    "duration": 3,
    "start_time": "2022-12-03T16:48:26.544Z"
   },
   {
    "duration": 10,
    "start_time": "2022-12-03T16:48:26.548Z"
   },
   {
    "duration": 71,
    "start_time": "2022-12-03T16:48:26.560Z"
   },
   {
    "duration": 10,
    "start_time": "2022-12-03T16:48:26.633Z"
   },
   {
    "duration": 8,
    "start_time": "2022-12-03T16:48:26.645Z"
   },
   {
    "duration": 26,
    "start_time": "2022-12-03T16:48:26.655Z"
   },
   {
    "duration": 22,
    "start_time": "2022-12-03T16:48:26.683Z"
   },
   {
    "duration": 18,
    "start_time": "2022-12-03T16:48:26.707Z"
   },
   {
    "duration": 28,
    "start_time": "2022-12-03T16:48:26.726Z"
   },
   {
    "duration": 1298,
    "start_time": "2022-12-03T16:54:55.884Z"
   },
   {
    "duration": 216,
    "start_time": "2022-12-03T16:54:57.184Z"
   },
   {
    "duration": 3,
    "start_time": "2022-12-03T16:54:57.401Z"
   },
   {
    "duration": 130,
    "start_time": "2022-12-03T16:54:57.406Z"
   },
   {
    "duration": 89,
    "start_time": "2022-12-03T16:54:57.537Z"
   },
   {
    "duration": 3,
    "start_time": "2022-12-03T16:54:57.628Z"
   },
   {
    "duration": 615,
    "start_time": "2022-12-03T16:54:57.632Z"
   },
   {
    "duration": 14,
    "start_time": "2022-12-03T16:54:58.249Z"
   },
   {
    "duration": 451,
    "start_time": "2022-12-03T16:54:58.264Z"
   },
   {
    "duration": 14,
    "start_time": "2022-12-03T16:54:58.718Z"
   },
   {
    "duration": 42,
    "start_time": "2022-12-03T16:54:58.734Z"
   },
   {
    "duration": 32,
    "start_time": "2022-12-03T16:54:58.778Z"
   },
   {
    "duration": 15,
    "start_time": "2022-12-03T16:54:58.812Z"
   },
   {
    "duration": 3,
    "start_time": "2022-12-03T16:54:58.829Z"
   },
   {
    "duration": 67,
    "start_time": "2022-12-03T16:54:58.834Z"
   },
   {
    "duration": 6,
    "start_time": "2022-12-03T16:54:58.902Z"
   },
   {
    "duration": 1928,
    "start_time": "2022-12-03T16:54:58.909Z"
   },
   {
    "duration": 5,
    "start_time": "2022-12-03T16:55:00.839Z"
   },
   {
    "duration": 10,
    "start_time": "2022-12-03T16:55:00.846Z"
   },
   {
    "duration": 16,
    "start_time": "2022-12-03T16:55:00.858Z"
   },
   {
    "duration": 31,
    "start_time": "2022-12-03T16:55:00.875Z"
   },
   {
    "duration": 1070,
    "start_time": "2022-12-03T16:55:00.908Z"
   },
   {
    "duration": 525,
    "start_time": "2022-12-03T16:55:01.980Z"
   },
   {
    "duration": 8,
    "start_time": "2022-12-03T16:55:02.506Z"
   },
   {
    "duration": 165,
    "start_time": "2022-12-03T16:55:02.516Z"
   },
   {
    "duration": 7137,
    "start_time": "2022-12-03T16:55:02.683Z"
   },
   {
    "duration": 5231,
    "start_time": "2022-12-03T16:55:09.822Z"
   },
   {
    "duration": 256,
    "start_time": "2022-12-03T16:55:15.057Z"
   },
   {
    "duration": 9,
    "start_time": "2022-12-03T16:55:15.315Z"
   },
   {
    "duration": 11,
    "start_time": "2022-12-03T16:55:15.328Z"
   },
   {
    "duration": 826,
    "start_time": "2022-12-03T16:55:15.341Z"
   },
   {
    "duration": 8,
    "start_time": "2022-12-03T16:55:16.169Z"
   },
   {
    "duration": 11,
    "start_time": "2022-12-03T16:55:16.178Z"
   },
   {
    "duration": 79,
    "start_time": "2022-12-03T16:55:16.190Z"
   },
   {
    "duration": 11,
    "start_time": "2022-12-03T16:55:16.271Z"
   },
   {
    "duration": 12,
    "start_time": "2022-12-03T16:55:16.284Z"
   },
   {
    "duration": 10,
    "start_time": "2022-12-03T16:55:16.298Z"
   },
   {
    "duration": 11,
    "start_time": "2022-12-03T16:55:16.310Z"
   },
   {
    "duration": 11,
    "start_time": "2022-12-03T16:55:16.322Z"
   },
   {
    "duration": 17,
    "start_time": "2022-12-03T16:55:16.334Z"
   },
   {
    "duration": 1528,
    "start_time": "2022-12-04T08:10:05.957Z"
   },
   {
    "duration": 844,
    "start_time": "2022-12-04T08:10:07.487Z"
   },
   {
    "duration": 4,
    "start_time": "2022-12-04T08:10:08.333Z"
   },
   {
    "duration": 146,
    "start_time": "2022-12-04T08:10:08.340Z"
   },
   {
    "duration": 102,
    "start_time": "2022-12-04T08:10:08.489Z"
   },
   {
    "duration": 13,
    "start_time": "2022-12-04T08:10:08.593Z"
   },
   {
    "duration": 622,
    "start_time": "2022-12-04T08:10:08.608Z"
   },
   {
    "duration": 19,
    "start_time": "2022-12-04T08:10:09.233Z"
   },
   {
    "duration": 466,
    "start_time": "2022-12-04T08:10:09.254Z"
   },
   {
    "duration": 16,
    "start_time": "2022-12-04T08:10:09.722Z"
   },
   {
    "duration": 27,
    "start_time": "2022-12-04T08:10:09.740Z"
   },
   {
    "duration": 51,
    "start_time": "2022-12-04T08:10:09.768Z"
   },
   {
    "duration": 16,
    "start_time": "2022-12-04T08:10:09.821Z"
   },
   {
    "duration": 4,
    "start_time": "2022-12-04T08:10:09.838Z"
   },
   {
    "duration": 65,
    "start_time": "2022-12-04T08:10:09.844Z"
   },
   {
    "duration": 6,
    "start_time": "2022-12-04T08:10:09.911Z"
   },
   {
    "duration": 1931,
    "start_time": "2022-12-04T08:10:09.919Z"
   },
   {
    "duration": 6,
    "start_time": "2022-12-04T08:10:11.851Z"
   },
   {
    "duration": 26,
    "start_time": "2022-12-04T08:10:11.858Z"
   },
   {
    "duration": 28,
    "start_time": "2022-12-04T08:10:11.886Z"
   },
   {
    "duration": 38,
    "start_time": "2022-12-04T08:10:11.915Z"
   },
   {
    "duration": 1098,
    "start_time": "2022-12-04T08:10:11.954Z"
   },
   {
    "duration": 561,
    "start_time": "2022-12-04T08:10:13.053Z"
   },
   {
    "duration": 8,
    "start_time": "2022-12-04T08:10:13.616Z"
   },
   {
    "duration": 188,
    "start_time": "2022-12-04T08:10:13.626Z"
   },
   {
    "duration": 6768,
    "start_time": "2022-12-04T08:10:13.816Z"
   },
   {
    "duration": 4930,
    "start_time": "2022-12-04T08:10:20.585Z"
   },
   {
    "duration": 201,
    "start_time": "2022-12-04T08:10:25.519Z"
   },
   {
    "duration": 4,
    "start_time": "2022-12-04T08:10:25.722Z"
   },
   {
    "duration": 22,
    "start_time": "2022-12-04T08:10:25.728Z"
   },
   {
    "duration": 790,
    "start_time": "2022-12-04T08:10:25.751Z"
   },
   {
    "duration": 3,
    "start_time": "2022-12-04T08:10:26.543Z"
   },
   {
    "duration": 26,
    "start_time": "2022-12-04T08:10:26.547Z"
   },
   {
    "duration": 78,
    "start_time": "2022-12-04T08:10:26.575Z"
   },
   {
    "duration": 15,
    "start_time": "2022-12-04T08:10:26.654Z"
   },
   {
    "duration": 22,
    "start_time": "2022-12-04T08:10:26.671Z"
   },
   {
    "duration": 16,
    "start_time": "2022-12-04T08:10:26.695Z"
   },
   {
    "duration": 27,
    "start_time": "2022-12-04T08:10:26.712Z"
   },
   {
    "duration": 26,
    "start_time": "2022-12-04T08:10:26.740Z"
   },
   {
    "duration": 18,
    "start_time": "2022-12-04T08:10:26.767Z"
   }
  ],
  "kernelspec": {
   "display_name": "Python 3 (ipykernel)",
   "language": "python",
   "name": "python3"
  },
  "language_info": {
   "codemirror_mode": {
    "name": "ipython",
    "version": 3
   },
   "file_extension": ".py",
   "mimetype": "text/x-python",
   "name": "python",
   "nbconvert_exporter": "python",
   "pygments_lexer": "ipython3",
   "version": "3.9.12"
  },
  "toc": {
   "base_numbering": 1,
   "nav_menu": {},
   "number_sections": true,
   "sideBar": true,
   "skip_h1_title": true,
   "title_cell": "Table of Contents",
   "title_sidebar": "Contents",
   "toc_cell": false,
   "toc_position": {},
   "toc_section_display": true,
   "toc_window_display": false
  }
 },
 "nbformat": 4,
 "nbformat_minor": 2
}
