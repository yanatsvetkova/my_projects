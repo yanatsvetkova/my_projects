{
 "cells": [
  {
   "cell_type": "markdown",
   "metadata": {},
   "source": [
    "# Отток клиентов"
   ]
  },
  {
   "cell_type": "markdown",
   "metadata": {},
   "source": [
    " - *Перед нами данные о пользователях \"Бета-Банка\". Банковские маркетологи посчитали: сохранять текущих клиентов дешевле, чем привлекать новых. интересно так ли это? Узнаем, применив методы машинного обучения к предоставленным данным и спрогнозируем уйдет ли клиент из банка в ближайшее время или нет?*\n",
    "\n",
    " - Наши модели должны будут достигать высоких показателей, а именно F1 score более 0.59 и соответствующие высокие показатели AUC-Roc, также для наглядности сопроводим их графиком."
   ]
  },
  {
   "cell_type": "markdown",
   "metadata": {},
   "source": [
    "## Подготовка данных"
   ]
  },
  {
   "cell_type": "code",
   "execution_count": 1,
   "metadata": {},
   "outputs": [],
   "source": [
    "import pandas as pd\n",
    "import numpy as np\n",
    "import time\n",
    "import matplotlib.pyplot as plt\n",
    "\n",
    "import sklearn.metrics\n",
    "from sklearn.tree import DecisionTreeClassifier\n",
    "from sklearn.ensemble import RandomForestClassifier\n",
    "from sklearn.linear_model import LogisticRegression\n",
    "from sklearn.model_selection import train_test_split, GridSearchCV\n",
    "from sklearn.utils import shuffle\n",
    "from sklearn.metrics import accuracy_score, f1_score, roc_auc_score, classification_report, roc_curve\n",
    "from sklearn.preprocessing import StandardScaler, Normalizer"
   ]
  },
  {
   "cell_type": "code",
   "execution_count": 2,
   "metadata": {},
   "outputs": [],
   "source": [
    "data = pd.read_csv(r\"C:\\Users\\yana\\Desktop\\проекты\\отток клиентов из банка\\Churn.csv\")"
   ]
  },
  {
   "cell_type": "code",
   "execution_count": 3,
   "metadata": {},
   "outputs": [],
   "source": [
    "def prepare(df): #фунция предобработки данных\n",
    "    display(df.head())\n",
    "    display(df.info())\n",
    "    display(df.isna().sum())\n",
    "    display(df.duplicated().sum())"
   ]
  },
  {
   "cell_type": "code",
   "execution_count": 4,
   "metadata": {},
   "outputs": [
    {
     "data": {
      "text/html": [
       "<div>\n",
       "<style scoped>\n",
       "    .dataframe tbody tr th:only-of-type {\n",
       "        vertical-align: middle;\n",
       "    }\n",
       "\n",
       "    .dataframe tbody tr th {\n",
       "        vertical-align: top;\n",
       "    }\n",
       "\n",
       "    .dataframe thead th {\n",
       "        text-align: right;\n",
       "    }\n",
       "</style>\n",
       "<table border=\"1\" class=\"dataframe\">\n",
       "  <thead>\n",
       "    <tr style=\"text-align: right;\">\n",
       "      <th></th>\n",
       "      <th>RowNumber</th>\n",
       "      <th>CustomerId</th>\n",
       "      <th>Surname</th>\n",
       "      <th>CreditScore</th>\n",
       "      <th>Geography</th>\n",
       "      <th>Gender</th>\n",
       "      <th>Age</th>\n",
       "      <th>Tenure</th>\n",
       "      <th>Balance</th>\n",
       "      <th>NumOfProducts</th>\n",
       "      <th>HasCrCard</th>\n",
       "      <th>IsActiveMember</th>\n",
       "      <th>EstimatedSalary</th>\n",
       "      <th>Exited</th>\n",
       "    </tr>\n",
       "  </thead>\n",
       "  <tbody>\n",
       "    <tr>\n",
       "      <th>0</th>\n",
       "      <td>1</td>\n",
       "      <td>15634602</td>\n",
       "      <td>Hargrave</td>\n",
       "      <td>619</td>\n",
       "      <td>France</td>\n",
       "      <td>Female</td>\n",
       "      <td>42</td>\n",
       "      <td>2.0</td>\n",
       "      <td>0.00</td>\n",
       "      <td>1</td>\n",
       "      <td>1</td>\n",
       "      <td>1</td>\n",
       "      <td>101348.88</td>\n",
       "      <td>1</td>\n",
       "    </tr>\n",
       "    <tr>\n",
       "      <th>1</th>\n",
       "      <td>2</td>\n",
       "      <td>15647311</td>\n",
       "      <td>Hill</td>\n",
       "      <td>608</td>\n",
       "      <td>Spain</td>\n",
       "      <td>Female</td>\n",
       "      <td>41</td>\n",
       "      <td>1.0</td>\n",
       "      <td>83807.86</td>\n",
       "      <td>1</td>\n",
       "      <td>0</td>\n",
       "      <td>1</td>\n",
       "      <td>112542.58</td>\n",
       "      <td>0</td>\n",
       "    </tr>\n",
       "    <tr>\n",
       "      <th>2</th>\n",
       "      <td>3</td>\n",
       "      <td>15619304</td>\n",
       "      <td>Onio</td>\n",
       "      <td>502</td>\n",
       "      <td>France</td>\n",
       "      <td>Female</td>\n",
       "      <td>42</td>\n",
       "      <td>8.0</td>\n",
       "      <td>159660.80</td>\n",
       "      <td>3</td>\n",
       "      <td>1</td>\n",
       "      <td>0</td>\n",
       "      <td>113931.57</td>\n",
       "      <td>1</td>\n",
       "    </tr>\n",
       "    <tr>\n",
       "      <th>3</th>\n",
       "      <td>4</td>\n",
       "      <td>15701354</td>\n",
       "      <td>Boni</td>\n",
       "      <td>699</td>\n",
       "      <td>France</td>\n",
       "      <td>Female</td>\n",
       "      <td>39</td>\n",
       "      <td>1.0</td>\n",
       "      <td>0.00</td>\n",
       "      <td>2</td>\n",
       "      <td>0</td>\n",
       "      <td>0</td>\n",
       "      <td>93826.63</td>\n",
       "      <td>0</td>\n",
       "    </tr>\n",
       "    <tr>\n",
       "      <th>4</th>\n",
       "      <td>5</td>\n",
       "      <td>15737888</td>\n",
       "      <td>Mitchell</td>\n",
       "      <td>850</td>\n",
       "      <td>Spain</td>\n",
       "      <td>Female</td>\n",
       "      <td>43</td>\n",
       "      <td>2.0</td>\n",
       "      <td>125510.82</td>\n",
       "      <td>1</td>\n",
       "      <td>1</td>\n",
       "      <td>1</td>\n",
       "      <td>79084.10</td>\n",
       "      <td>0</td>\n",
       "    </tr>\n",
       "  </tbody>\n",
       "</table>\n",
       "</div>"
      ],
      "text/plain": [
       "   RowNumber  CustomerId   Surname  CreditScore Geography  Gender  Age  \\\n",
       "0          1    15634602  Hargrave          619    France  Female   42   \n",
       "1          2    15647311      Hill          608     Spain  Female   41   \n",
       "2          3    15619304      Onio          502    France  Female   42   \n",
       "3          4    15701354      Boni          699    France  Female   39   \n",
       "4          5    15737888  Mitchell          850     Spain  Female   43   \n",
       "\n",
       "   Tenure    Balance  NumOfProducts  HasCrCard  IsActiveMember  \\\n",
       "0     2.0       0.00              1          1               1   \n",
       "1     1.0   83807.86              1          0               1   \n",
       "2     8.0  159660.80              3          1               0   \n",
       "3     1.0       0.00              2          0               0   \n",
       "4     2.0  125510.82              1          1               1   \n",
       "\n",
       "   EstimatedSalary  Exited  \n",
       "0        101348.88       1  \n",
       "1        112542.58       0  \n",
       "2        113931.57       1  \n",
       "3         93826.63       0  \n",
       "4         79084.10       0  "
      ]
     },
     "metadata": {},
     "output_type": "display_data"
    },
    {
     "name": "stdout",
     "output_type": "stream",
     "text": [
      "<class 'pandas.core.frame.DataFrame'>\n",
      "RangeIndex: 10000 entries, 0 to 9999\n",
      "Data columns (total 14 columns):\n",
      " #   Column           Non-Null Count  Dtype  \n",
      "---  ------           --------------  -----  \n",
      " 0   RowNumber        10000 non-null  int64  \n",
      " 1   CustomerId       10000 non-null  int64  \n",
      " 2   Surname          10000 non-null  object \n",
      " 3   CreditScore      10000 non-null  int64  \n",
      " 4   Geography        10000 non-null  object \n",
      " 5   Gender           10000 non-null  object \n",
      " 6   Age              10000 non-null  int64  \n",
      " 7   Tenure           9091 non-null   float64\n",
      " 8   Balance          10000 non-null  float64\n",
      " 9   NumOfProducts    10000 non-null  int64  \n",
      " 10  HasCrCard        10000 non-null  int64  \n",
      " 11  IsActiveMember   10000 non-null  int64  \n",
      " 12  EstimatedSalary  10000 non-null  float64\n",
      " 13  Exited           10000 non-null  int64  \n",
      "dtypes: float64(3), int64(8), object(3)\n",
      "memory usage: 1.1+ MB\n"
     ]
    },
    {
     "data": {
      "text/plain": [
       "None"
      ]
     },
     "metadata": {},
     "output_type": "display_data"
    },
    {
     "data": {
      "text/plain": [
       "RowNumber            0\n",
       "CustomerId           0\n",
       "Surname              0\n",
       "CreditScore          0\n",
       "Geography            0\n",
       "Gender               0\n",
       "Age                  0\n",
       "Tenure             909\n",
       "Balance              0\n",
       "NumOfProducts        0\n",
       "HasCrCard            0\n",
       "IsActiveMember       0\n",
       "EstimatedSalary      0\n",
       "Exited               0\n",
       "dtype: int64"
      ]
     },
     "metadata": {},
     "output_type": "display_data"
    },
    {
     "data": {
      "text/plain": [
       "0"
      ]
     },
     "metadata": {},
     "output_type": "display_data"
    }
   ],
   "source": [
    "prepare(data)"
   ]
  },
  {
   "cell_type": "code",
   "execution_count": 5,
   "metadata": {},
   "outputs": [],
   "source": [
    "data['Balance'] = np.ceil(data['Balance'])\n",
    "data['Balance'] = data['Balance'].astype('int') \n",
    "#округлим и переведем в целочисленное тип значения баланса"
   ]
  },
  {
   "cell_type": "code",
   "execution_count": 6,
   "metadata": {},
   "outputs": [],
   "source": [
    "data['EstimatedSalary'] = np.ceil(data['EstimatedSalary'])\n",
    "data['EstimatedSalary'] = data['EstimatedSalary'].astype('int') \n",
    "#округлим и переведем в целочисленное тип значения  предполагаемого дохода"
   ]
  },
  {
   "cell_type": "code",
   "execution_count": 7,
   "metadata": {},
   "outputs": [],
   "source": [
    "data = data.drop(['Surname', 'RowNumber', 'CustomerId'], axis=1) \n",
    "#фамилия, id и номер в таблице не так важны в дальнейших расчетах"
   ]
  },
  {
   "cell_type": "code",
   "execution_count": 8,
   "metadata": {},
   "outputs": [],
   "source": [
    "data['Tenure'] = data['Tenure'].fillna(-1) #заполнила пропуски -1"
   ]
  },
  {
   "cell_type": "code",
   "execution_count": 9,
   "metadata": {},
   "outputs": [],
   "source": [
    "data['Tenure'] = data['Tenure'].astype('object') \n",
    "#изменила тип данных чтобы потом омжно было выполнить технику OHE"
   ]
  },
  {
   "cell_type": "code",
   "execution_count": 10,
   "metadata": {},
   "outputs": [
    {
     "name": "stderr",
     "output_type": "stream",
     "text": [
      "C:\\Users\\yana\\anaconda3\\lib\\site-packages\\pandas\\core\\algorithms.py:798: FutureWarning: In a future version, the Index constructor will not infer numeric dtypes when passed object-dtype sequences (matching Series behavior)\n",
      "  uniques = Index(uniques)\n"
     ]
    }
   ],
   "source": [
    "data = pd.get_dummies(data, drop_first=True) \n",
    "#изменяем качественные данные на категориальные с помощью дамми-ловушек непрямым кодированием"
   ]
  },
  {
   "cell_type": "markdown",
   "metadata": {},
   "source": [
    "## Исследование задачи"
   ]
  },
  {
   "cell_type": "code",
   "execution_count": 11,
   "metadata": {},
   "outputs": [
    {
     "data": {
      "text/plain": [
       "0    7963\n",
       "1    2037\n",
       "Name: Exited, dtype: int64"
      ]
     },
     "execution_count": 11,
     "metadata": {},
     "output_type": "execute_result"
    }
   ],
   "source": [
    "data['Exited'].value_counts() #значений класса \"0\" почти в 4 раза больше"
   ]
  },
  {
   "cell_type": "code",
   "execution_count": 12,
   "metadata": {},
   "outputs": [],
   "source": [
    "x = data.drop(['Exited'], axis=1)\n",
    "y = data['Exited']\n",
    "x_train, x_valid, y_train, y_valid = train_test_split(\n",
    "    x, y, test_size=0.25, random_state=12345)"
   ]
  },
  {
   "cell_type": "code",
   "execution_count": 13,
   "metadata": {},
   "outputs": [
    {
     "name": "stdout",
     "output_type": "stream",
     "text": [
      "наилучшая глубина 6 наилучшая точность при этом 0.854\n",
      "CPU times: total: 906 ms\n",
      "Wall time: 1.38 s\n"
     ]
    }
   ],
   "source": [
    "%%time\n",
    "best_result = 0\n",
    "best_depth = 0\n",
    "for depth in range (1, 30):\n",
    "    model =  DecisionTreeClassifier(random_state=12345, max_depth=depth)\n",
    "    model.fit(x_train, y_train) # обучаем модель на тренировочной выборке\n",
    "    predictions_valid = model.predict(x_valid) # вычисляем предсказания модели на валидационной выборке\n",
    "    result = accuracy_score(y_valid, predictions_valid) # определяем качество модели на валидационной выборке\n",
    "    if result > best_result:\n",
    "        best_result = result\n",
    "        best_depth = depth\n",
    "print(\"наилучшая глубина\", best_depth, \"наилучшая точность при этом\", best_result)"
   ]
  },
  {
   "cell_type": "code",
   "execution_count": 14,
   "metadata": {},
   "outputs": [
    {
     "name": "stdout",
     "output_type": "stream",
     "text": [
      "Accuracy наилучшей модели на тестовой выборке: 0.854\n"
     ]
    }
   ],
   "source": [
    "model = DecisionTreeClassifier(random_state=12345, max_depth = best_depth)\n",
    "model.fit(x_train, y_train) #подставляем наилучшее значение гиперпараметра в модель\n",
    "predictions_valid = model.predict(x_valid)\n",
    "accuracy = accuracy_score(y_valid, predictions_valid)\n",
    "print(\"Accuracy наилучшей модели на тестовой выборке:\", accuracy)"
   ]
  },
  {
   "cell_type": "code",
   "execution_count": 15,
   "metadata": {
    "scrolled": true
   },
   "outputs": [
    {
     "name": "stdout",
     "output_type": "stream",
     "text": [
      "Accuracy наилучшей модели на валидационной выборке: 0.8568 Лучшее количество деревьев 50 Лучшая глубина дерева: 12\n",
      "CPU times: total: 52.4 s\n",
      "Wall time: 55.5 s\n"
     ]
    }
   ],
   "source": [
    "%%time\n",
    "best_result_1 = 0\n",
    "best_depth_1 = 0\n",
    "best_estimators_1 = 0\n",
    "for depth in range(5, 13):\n",
    "    for est in range (30, 60):\n",
    "        model_1 = RandomForestClassifier(random_state=12345, n_estimators=est, max_depth=depth)\n",
    "        model_1.fit(x_train, y_train)\n",
    "        predictions_valid_1 = model_1.predict(x_valid) \n",
    "        result = accuracy_score(y_valid, predictions_valid_1)\n",
    "        if result > best_result_1:\n",
    "            best_result_1 = result\n",
    "            best_estimators_1 = est\n",
    "            best_depth_1 = depth\n",
    "\n",
    "print(\"Accuracy наилучшей модели на валидационной выборке:\", best_result_1, \"Лучшее количество деревьев\", \n",
    "      best_estimators_1, 'Лучшая глубина дерева:', best_depth_1)"
   ]
  },
  {
   "cell_type": "code",
   "execution_count": 16,
   "metadata": {},
   "outputs": [
    {
     "name": "stdout",
     "output_type": "stream",
     "text": [
      "Accuracy наилучшей модели на тестовой выборке: 0.8568\n"
     ]
    }
   ],
   "source": [
    "model_1 = RandomForestClassifier(random_state=12345, n_estimators = best_estimators_1, max_depth=best_depth_1)\n",
    "model_1.fit(x_train, y_train) \n",
    "predictions_valid_1 = model_1.predict(x_valid)\n",
    "accuracy_1 = accuracy_score(y_valid, predictions_valid_1)\n",
    "print(\"Accuracy наилучшей модели на тестовой выборке:\", accuracy_1)"
   ]
  },
  {
   "cell_type": "code",
   "execution_count": 17,
   "metadata": {},
   "outputs": [
    {
     "name": "stdout",
     "output_type": "stream",
     "text": [
      "Accuracy наилучшей модели на тестовой выборке: 0.7824\n"
     ]
    }
   ],
   "source": [
    "model_2 = LogisticRegression(random_state = 12345, solver= 'liblinear')\n",
    "model_2.fit(x_train, y_train) \n",
    "predictions_valid_2 = model_2.predict(x_valid)\n",
    "accuracy_2 = accuracy_score(y_valid, predictions_valid_2)\n",
    "print(\"Accuracy наилучшей модели на тестовой выборке:\", accuracy_2)"
   ]
  },
  {
   "cell_type": "code",
   "execution_count": 18,
   "metadata": {},
   "outputs": [
    {
     "name": "stdout",
     "output_type": "stream",
     "text": [
      "              precision    recall  f1-score   support\n",
      "\n",
      "           0       0.86      0.97      0.91      1965\n",
      "           1       0.81      0.41      0.55       535\n",
      "\n",
      "    accuracy                           0.85      2500\n",
      "   macro avg       0.84      0.69      0.73      2500\n",
      "weighted avg       0.85      0.85      0.83      2500\n",
      "\n"
     ]
    }
   ],
   "source": [
    "print(classification_report(y_valid, predictions_valid, zero_division='warn')) #для решающего леса"
   ]
  },
  {
   "cell_type": "code",
   "execution_count": 19,
   "metadata": {},
   "outputs": [
    {
     "name": "stdout",
     "output_type": "stream",
     "text": [
      "              precision    recall  f1-score   support\n",
      "\n",
      "           0       0.86      0.98      0.91      1965\n",
      "           1       0.83      0.42      0.56       535\n",
      "\n",
      "    accuracy                           0.86      2500\n",
      "   macro avg       0.84      0.70      0.74      2500\n",
      "weighted avg       0.85      0.86      0.84      2500\n",
      "\n"
     ]
    }
   ],
   "source": [
    "print(classification_report(y_valid, predictions_valid_1, zero_division='warn')) #для случайного леса"
   ]
  },
  {
   "cell_type": "code",
   "execution_count": 20,
   "metadata": {},
   "outputs": [
    {
     "name": "stdout",
     "output_type": "stream",
     "text": [
      "              precision    recall  f1-score   support\n",
      "\n",
      "           0       0.79      0.98      0.88      1965\n",
      "           1       0.44      0.06      0.11       535\n",
      "\n",
      "    accuracy                           0.78      2500\n",
      "   macro avg       0.62      0.52      0.49      2500\n",
      "weighted avg       0.72      0.78      0.71      2500\n",
      "\n"
     ]
    }
   ],
   "source": [
    "print(classification_report(y_valid, predictions_valid_2, zero_division='warn')) #для логистической регресии"
   ]
  },
  {
   "cell_type": "markdown",
   "metadata": {},
   "source": [
    "**Вывод:** accuracy может быть и большой, но вот более подробные метрики показывают, что несбалансированные данные не такие уж и точне предсказатели, как минимум из-за того что данных классов \"0\" в 4 раза больще и поэтому даже простые модели будут правы в 4 раза больше, чем это есть на самом деле."
   ]
  },
  {
   "cell_type": "markdown",
   "metadata": {},
   "source": [
    "## Борьба с дисбалансом"
   ]
  },
  {
   "cell_type": "code",
   "execution_count": 21,
   "metadata": {},
   "outputs": [],
   "source": [
    "x = data.drop('Exited', axis=1)\n",
    "y = data['Exited']\n",
    "x_train, x_valid, y_train, y_valid = train_test_split(x, y, test_size=0.4, random_state=12345, stratify=y)\n",
    "x_valid, x_test, y_valid, y_test = train_test_split(x_valid, y_valid, test_size=0.5, random_state=12345, stratify=y_valid)"
   ]
  },
  {
   "cell_type": "code",
   "execution_count": 22,
   "metadata": {},
   "outputs": [],
   "source": [
    "numeric = ['Balance', 'EstimatedSalary','Age', 'CreditScore', 'NumOfProducts']\n",
    "scaler = StandardScaler()\n",
    "scaler.fit(x_train[numeric])\n",
    "x_train[numeric]=scaler.transform(x_train[numeric])\n",
    "x_valid[numeric] = scaler.transform(x_valid[numeric])\n",
    "x_test[numeric] = scaler.transform(x_test[numeric])\n",
    "pd.options.mode.chained_assignment = None"
   ]
  },
  {
   "cell_type": "code",
   "execution_count": 23,
   "metadata": {},
   "outputs": [],
   "source": [
    "norm = Normalizer()\n",
    "norm.fit(x_train[numeric])\n",
    "x_train[numeric]=norm.transform(x_train[numeric])\n",
    "x_valid[numeric] = norm.transform(x_valid[numeric])\n",
    "x_test[numeric] = norm.transform(x_test[numeric])\n",
    "pd.options.mode.chained_assignment = None #нормализировали данные как один из этапов балансировки данных."
   ]
  },
  {
   "cell_type": "code",
   "execution_count": 24,
   "metadata": {},
   "outputs": [],
   "source": [
    "def upsample(x, y, repeat):\n",
    "    x_zeros = x[y == 0]\n",
    "    x_ones = x[y == 1]\n",
    "    y_zeros = y[y == 0]\n",
    "    y_ones = y[y == 1]\n",
    "\n",
    "    x_upsampled = pd.concat([x_zeros] + [x_ones] * repeat)\n",
    "    y_upsampled = pd.concat([y_zeros] + [y_ones] * repeat)\n",
    "    \n",
    "    x_upsampled, y_upsampled = shuffle(\n",
    "        x_upsampled, y_upsampled, random_state=12345)\n",
    "    \n",
    "    return x_upsampled, y_upsampled\n",
    "\n",
    "x_upsampled, y_upsampled = upsample(x_train, y_train, 4) #увеличили положительный класс для баланса"
   ]
  },
  {
   "cell_type": "code",
   "execution_count": 25,
   "metadata": {},
   "outputs": [],
   "source": [
    "def downsample(x, y, fraction):\n",
    "    x_zeros = x[y == 0]\n",
    "    x_ones = x[y == 1]\n",
    "    y_zeros = y[y == 0]\n",
    "    y_ones = y[y == 1]\n",
    "\n",
    "    x_downsampled = pd.concat(\n",
    "        [x_zeros.sample(frac=fraction, random_state=12345)] + [x_ones])\n",
    "    y_downsampled = pd.concat(\n",
    "        [y_zeros.sample(frac=fraction, random_state=12345)] + [y_ones])\n",
    "    \n",
    "    x_downsampled, y_downsampled = shuffle(\n",
    "        x_downsampled, y_downsampled, random_state=12345)\n",
    "    \n",
    "    return x_downsampled, y_downsampled\n",
    "\n",
    "x_downsampled, y_downsampled = downsample(x_train, y_train, 0.25) \n",
    "#уменьшили отрицательный класс для баланса, будем выбирать какие параметры покаывают лучше результат."
   ]
  },
  {
   "cell_type": "code",
   "execution_count": 26,
   "metadata": {},
   "outputs": [
    {
     "name": "stdout",
     "output_type": "stream",
     "text": [
      "наилучшая глубина 6 наилучшая точность при этом 0.5650140318054256\n",
      "CPU times: total: 1.11 s\n",
      "Wall time: 1.14 s\n"
     ]
    }
   ],
   "source": [
    "%%time\n",
    "best_result_DTree_b = 0\n",
    "best_depth_DTree_b= 0\n",
    "for depth in range (1, 30):\n",
    "    model_DTree_b =  DecisionTreeClassifier(random_state=12345, max_depth=depth, class_weight = 'balanced')\n",
    "    model_DTree_b.fit(x_train, y_train) # обучаем модель на тренировочной выборке\n",
    "    predictions_valid_DTree_b = model_DTree_b.predict(x_valid) # вычисляем предсказания модели на валидационной выборке\n",
    "    result_DTree_b = f1_score(y_valid, predictions_valid_DTree_b) # определяем качество модели на валидационной выборке\n",
    "    if result_DTree_b > best_result_DTree_b:\n",
    "        best_result_DTree_b = result_DTree_b\n",
    "        best_depth_DTree_b = depth\n",
    "print(\"наилучшая глубина\", best_depth_DTree_b, \"наилучшая точность при этом\", best_result_DTree_b)"
   ]
  },
  {
   "cell_type": "code",
   "execution_count": 27,
   "metadata": {},
   "outputs": [
    {
     "name": "stdout",
     "output_type": "stream",
     "text": [
      "F1 наилучшей модели на тестовой выборке: 0.5650140318054256\n"
     ]
    }
   ],
   "source": [
    "model_DTree_b = DecisionTreeClassifier(random_state=12345, max_depth = best_depth, class_weight = 'balanced')\n",
    "model_DTree_b.fit(x_train, y_train) #подставляем наилучшее значение гиперпараметра в модель\n",
    "predictions_valid_DTree_b = model_DTree_b.predict(x_valid)\n",
    "f1_DTree_b = f1_score(y_valid, predictions_valid_DTree_b)\n",
    "print(\"F1 наилучшей модели на тестовой выборке:\", f1_DTree_b)"
   ]
  },
  {
   "cell_type": "code",
   "execution_count": 28,
   "metadata": {},
   "outputs": [
    {
     "name": "stdout",
     "output_type": "stream",
     "text": [
      "наилучшая глубина 6 наилучшая точность при этом 0.5722222222222222\n",
      "CPU times: total: 1.3 s\n",
      "Wall time: 1.47 s\n"
     ]
    }
   ],
   "source": [
    "%%time\n",
    "best_result_DTree_up = 0\n",
    "best_depth_DTree_up= 0\n",
    "for depth in range (1, 30):\n",
    "    model_DTree_up =  DecisionTreeClassifier(random_state=12345, max_depth=depth)\n",
    "    model_DTree_up.fit(x_upsampled, y_upsampled) # обучаем модель на тренировочной выборке\n",
    "    predictions_valid_DTree_up = model_DTree_up.predict(x_valid) # вычисляем предсказания модели на валидационной выборке\n",
    "    result_DTree_up = f1_score(y_valid, predictions_valid_DTree_up) # определяем качество модели на валидационной выборке\n",
    "    if result_DTree_up > best_result_DTree_up:\n",
    "        best_result_DTree_up = result_DTree_up\n",
    "        best_depth_DTree_up = depth\n",
    "print(\"наилучшая глубина\", best_depth_DTree_up, \"наилучшая точность при этом\", best_result_DTree_up)"
   ]
  },
  {
   "cell_type": "code",
   "execution_count": 29,
   "metadata": {},
   "outputs": [
    {
     "name": "stdout",
     "output_type": "stream",
     "text": [
      "F1 наилучшей модели на тестовой выборке: 0.5506807866868381\n"
     ]
    }
   ],
   "source": [
    "model_DTree_up = DecisionTreeClassifier(random_state=12345, max_depth = best_depth_DTree_up)\n",
    "model_DTree_up.fit(x_train, y_train) #подставляем наилучшее значение гиперпараметра в модель\n",
    "predictions_valid_DTree_up = model_DTree_up.predict(x_valid)\n",
    "f1_DTree_up = f1_score(y_valid, predictions_valid_DTree_up)\n",
    "print(\"F1 наилучшей модели на тестовой выборке:\", f1_DTree_up)"
   ]
  },
  {
   "cell_type": "code",
   "execution_count": 30,
   "metadata": {},
   "outputs": [
    {
     "name": "stdout",
     "output_type": "stream",
     "text": [
      "наилучшая глубина 8 наилучшая точность при этом 0.5757864632983795\n",
      "CPU times: total: 156 ms\n",
      "Wall time: 297 ms\n"
     ]
    }
   ],
   "source": [
    "%%time\n",
    "best_result_DTree_dw = 0\n",
    "best_depth_DTree_dw= 0\n",
    "for depth in range (1, 20):\n",
    "    model_DTree_dw =  DecisionTreeClassifier(random_state=12345, max_depth=depth)\n",
    "    model_DTree_dw.fit(x_downsampled, y_downsampled) # обучаем модель на тренировочной выборке\n",
    "    predictions_valid_DTree_dw = model_DTree_dw.predict(x_valid) # вычисляем предсказания модели на валидационной выборке\n",
    "    result_DTree_dw = f1_score(y_valid, predictions_valid_DTree_dw) # определяем качество модели на валидационной выборке\n",
    "    if result_DTree_dw > best_result_DTree_dw:\n",
    "        best_result_DTree_dw = result_DTree_dw\n",
    "        best_depth_DTree_dw = depth\n",
    "print(\"наилучшая глубина\", best_depth_DTree_dw, \"наилучшая точность при этом\", best_result_DTree_dw)"
   ]
  },
  {
   "cell_type": "code",
   "execution_count": 31,
   "metadata": {},
   "outputs": [
    {
     "name": "stdout",
     "output_type": "stream",
     "text": [
      "F1 наилучшей модели на тестовой выборке: 0.5650140318054256\n"
     ]
    }
   ],
   "source": [
    "model_DTree_dw = DecisionTreeClassifier(random_state=12345, max_depth = best_depth_DTree_dw)\n",
    "model_DTree_dw.fit(x_train, y_train) #подставляем наилучшее значение гиперпараметра в модель\n",
    "predictions_valid_DTree_dw = model_DTree_b.predict(x_valid)\n",
    "f1_DTree_dw = f1_score(y_valid, predictions_valid_DTree_dw)\n",
    "print(\"F1 наилучшей модели на тестовой выборке:\", f1_DTree_dw)"
   ]
  },
  {
   "cell_type": "code",
   "execution_count": 32,
   "metadata": {},
   "outputs": [
    {
     "name": "stdout",
     "output_type": "stream",
     "text": [
      "F1 наилучшей модели на валидационной выборке: 0.6415981198589894 Лучшее количество деревьев 38 Лучшая глубина дерева: 10\n",
      "CPU times: total: 40 s\n",
      "Wall time: 46 s\n"
     ]
    }
   ],
   "source": [
    "%%time\n",
    "best_result_RTree_b = 0\n",
    "best_depth_RTree_b = 0\n",
    "best_estimators_RTree_b = 0\n",
    "for depth in range(5, 13):\n",
    "    for est in range (20, 50):\n",
    "        model_RTree_b = RandomForestClassifier(random_state=12345, n_estimators=est, max_depth=depth, class_weight = 'balanced')\n",
    "        model_RTree_b.fit(x_train, y_train)\n",
    "        predictions_valid_RTree_b = model_RTree_b.predict(x_valid) \n",
    "        result_RTree_b = f1_score(y_valid, predictions_valid_RTree_b)\n",
    "        if result_RTree_b > best_result_RTree_b:\n",
    "            best_result_RTree_b = result_RTree_b\n",
    "            best_estimators_RTree_b = est\n",
    "            best_depth_RTree_b = depth\n",
    "\n",
    "print(\"F1 наилучшей модели на валидационной выборке:\", best_result_RTree_b, \"Лучшее количество деревьев\", \n",
    "      best_estimators_RTree_b, 'Лучшая глубина дерева:', best_depth_RTree_b)"
   ]
  },
  {
   "cell_type": "code",
   "execution_count": 33,
   "metadata": {},
   "outputs": [
    {
     "name": "stdout",
     "output_type": "stream",
     "text": [
      "F1 наилучшей модели на тестовой выборке: 0.6415981198589894\n"
     ]
    }
   ],
   "source": [
    "model_RTree_b = RandomForestClassifier(random_state=12345, n_estimators = best_estimators_RTree_b, \n",
    "                                       max_depth=best_depth_RTree_b, class_weight = 'balanced')\n",
    "model_RTree_b.fit(x_train, y_train) \n",
    "predictions_valid_RTree_b = model_RTree_b.predict(x_valid)\n",
    "f1_RTree_b = f1_score(y_valid, predictions_valid_RTree_b)\n",
    "print(\"F1 наилучшей модели на тестовой выборке:\", f1_RTree_b)"
   ]
  },
  {
   "cell_type": "code",
   "execution_count": 34,
   "metadata": {},
   "outputs": [
    {
     "name": "stdout",
     "output_type": "stream",
     "text": [
      "F1 наилучшей модели на валидационной выборке: 0.6411378555798687 Лучшее количество деревьев 47 Лучшая глубина дерева: 10\n",
      "CPU times: total: 54 s\n",
      "Wall time: 1min 30s\n"
     ]
    }
   ],
   "source": [
    "%%time\n",
    "best_result_RTree_up = 0\n",
    "best_depth_RTree_up = 0\n",
    "best_estimators_RTree_up = 0\n",
    "for depth in range(5, 13):\n",
    "    for est in range (30, 60):\n",
    "        model_RTree_up = RandomForestClassifier(random_state=12345, n_estimators=est, max_depth=depth)\n",
    "        model_RTree_up.fit(x_upsampled, y_upsampled)\n",
    "        predictions_valid_RTree_up = model_RTree_up.predict(x_valid) \n",
    "        result_RTree_up = f1_score(y_valid, predictions_valid_RTree_up)\n",
    "        if result_RTree_up > best_result_RTree_up:\n",
    "            best_result_RTree_up = result_RTree_up\n",
    "            best_estimators_RTree_up = est\n",
    "            best_depth_RTree_up = depth\n",
    "\n",
    "print(\"F1 наилучшей модели на валидационной выборке:\", best_result_RTree_up, \"Лучшее количество деревьев\", \n",
    "      best_estimators_RTree_up, 'Лучшая глубина дерева:', best_depth_RTree_up)"
   ]
  },
  {
   "cell_type": "code",
   "execution_count": 35,
   "metadata": {},
   "outputs": [
    {
     "name": "stdout",
     "output_type": "stream",
     "text": [
      "F1 наилучшей модели на тестовой выборке: 0.5296950240770466\n"
     ]
    }
   ],
   "source": [
    "model_RTree_up = RandomForestClassifier(random_state=12345, n_estimators = best_estimators_RTree_up, \n",
    "                                        max_depth=best_depth_RTree_up)\n",
    "model_RTree_up.fit(x_train, y_train) \n",
    "predictions_valid_RTree_up = model_RTree_up.predict(x_valid)\n",
    "f1_RTree_up = f1_score(y_valid, predictions_valid_RTree_up)\n",
    "print(\"F1 наилучшей модели на тестовой выборке:\", f1_RTree_up) #accuracy_RTree_up)"
   ]
  },
  {
   "cell_type": "code",
   "execution_count": 36,
   "metadata": {},
   "outputs": [
    {
     "name": "stdout",
     "output_type": "stream",
     "text": [
      "F1 наилучшей модели на валидационной выборке: 0.6107445805843543 Лучшее количество деревьев 49 Лучшая глубина дерева: 9\n",
      "CPU times: total: 38.9 s\n",
      "Wall time: 57.7 s\n"
     ]
    }
   ],
   "source": [
    "%%time\n",
    "best_result_RTree_dw = 0\n",
    "best_depth_RTree_dw = 0\n",
    "best_estimators_RTree_dw = 0\n",
    "for depth in range(5, 13):\n",
    "    for est in range (20, 70):\n",
    "        model_RTree_dw = RandomForestClassifier(random_state=12345, n_estimators=est, max_depth=depth)\n",
    "        model_RTree_dw.fit(x_downsampled, y_downsampled)\n",
    "        predictions_valid_RTree_dw = model_RTree_dw.predict(x_valid) \n",
    "        result_RTree_dw = f1_score(y_valid, predictions_valid_RTree_dw)\n",
    "        if result_RTree_dw > best_result_RTree_dw:\n",
    "            best_result_RTree_dw = result_RTree_dw\n",
    "            best_estimators_RTree_dw = est\n",
    "            best_depth_RTree_dw = depth\n",
    "\n",
    "print(\"F1 наилучшей модели на валидационной выборке:\", best_result_RTree_dw, \"Лучшее количество деревьев\", \n",
    "      best_estimators_RTree_dw, 'Лучшая глубина дерева:', best_depth_RTree_dw)"
   ]
  },
  {
   "cell_type": "code",
   "execution_count": 37,
   "metadata": {},
   "outputs": [
    {
     "name": "stdout",
     "output_type": "stream",
     "text": [
      "F1 наилучшей модели на тестовой выборке: 0.529968454258675\n"
     ]
    }
   ],
   "source": [
    "model_RTree_dw = RandomForestClassifier(random_state=12345, n_estimators = best_estimators_RTree_dw, \n",
    "                                        max_depth=best_depth_RTree_dw)\n",
    "model_RTree_dw.fit(x_train, y_train) \n",
    "predictions_valid_RTree_dw = model_RTree_dw.predict(x_valid)\n",
    "f1_RTree_dw = f1_score(y_valid, predictions_valid_RTree_dw)\n",
    "print(\"F1 наилучшей модели на тестовой выборке:\", f1_RTree_dw) #accuracy_RTree_dw"
   ]
  },
  {
   "cell_type": "markdown",
   "metadata": {},
   "source": [
    "## Тестирование модели"
   ]
  },
  {
   "cell_type": "code",
   "execution_count": 38,
   "metadata": {},
   "outputs": [],
   "source": [
    "def Score (models, x_test, y_test, x_valid, y_valid):\n",
    "    for model in models:\n",
    "        predictions_test = model.predict(x_test)\n",
    "        f1 = f1_score(y_test, predictions_test)\n",
    "        probabilities_valid = model.predict_proba(x_valid)\n",
    "        probabilities_one_valid = probabilities_valid[:, 1]\n",
    "        auc_roc = roc_auc_score(y_valid, probabilities_one_valid)\n",
    "        print('Модель:', model)\n",
    "        print('F1-величина:', f1)\n",
    "        print('AUC-ROC величина', auc_roc)\n",
    "        print()\n",
    "\n",
    "models = [model_DTree_b, model_DTree_up, model_DTree_dw, model_RTree_b, model_RTree_up, model_RTree_dw]"
   ]
  },
  {
   "cell_type": "code",
   "execution_count": 39,
   "metadata": {},
   "outputs": [
    {
     "name": "stdout",
     "output_type": "stream",
     "text": [
      "Модель: DecisionTreeClassifier(class_weight='balanced', max_depth=6, random_state=12345)\n",
      "F1-величина: 0.5637707948243992\n",
      "AUC-ROC величина 0.8311779485663612\n",
      "\n",
      "Модель: DecisionTreeClassifier(max_depth=6, random_state=12345)\n",
      "F1-величина: 0.5070866141732282\n",
      "AUC-ROC величина 0.8256624729037344\n",
      "\n",
      "Модель: DecisionTreeClassifier(max_depth=8, random_state=12345)\n",
      "F1-величина: 0.48011782032400585\n",
      "AUC-ROC величина 0.8137154830525175\n",
      "\n",
      "Модель: RandomForestClassifier(class_weight='balanced', max_depth=10, n_estimators=38,\n",
      "                       random_state=12345)\n",
      "F1-величина: 0.5914489311163896\n",
      "AUC-ROC величина 0.8597983791506553\n",
      "\n",
      "Модель: RandomForestClassifier(max_depth=10, n_estimators=47, random_state=12345)\n",
      "F1-величина: 0.47412353923205347\n",
      "AUC-ROC величина 0.8618152034683221\n",
      "\n",
      "Модель: RandomForestClassifier(max_depth=9, n_estimators=49, random_state=12345)\n",
      "F1-величина: 0.4776119402985075\n",
      "AUC-ROC величина 0.8598430264065424\n",
      "\n"
     ]
    }
   ],
   "source": [
    "Score(models, x_test, y_test, x_valid, y_valid)"
   ]
  },
  {
   "cell_type": "code",
   "execution_count": 40,
   "metadata": {},
   "outputs": [
    {
     "data": {
      "image/png": "[encoded data removed]",
      "text/plain": [
       "<Figure size 432x288 with 1 Axes>"
      ]
     },
     "metadata": {
      "needs_background": "light"
     },
     "output_type": "display_data"
    }
   ],
   "source": [
    "m_roc= RandomForestClassifier(class_weight='balanced', max_depth=9, n_estimators=35,\n",
    "                       random_state=12345)\n",
    "m_roc.fit(x_train, y_train)\n",
    "\n",
    "probabilities_valid = m_roc.predict_proba(x_valid)\n",
    "probabilities_one_valid = probabilities_valid[:, 1]\n",
    "fpr, tpr, thresholds = roc_curve(y_valid, probabilities_one_valid) \n",
    "plt.figure()\n",
    "plt.plot(fpr, tpr) # график \n",
    "\n",
    "# ROC-кривая случайной модели\n",
    "plt.plot([0, 1], [0, 1], linestyle='--')\n",
    "\n",
    "plt.xlim([0.0, 1.0])\n",
    "plt.ylim([0.0, 1.0])\n",
    "\n",
    "plt.xlabel('False Positive Rate')\n",
    "plt.ylabel('True Positive Rate')\n",
    "\n",
    "plt.title(\"ROC-кривая\")\n",
    "\n",
    "plt.show()"
   ]
  },
  {
   "cell_type": "markdown",
   "metadata": {},
   "source": [
    "**Вывод:** с задачей справился лучше всего модель случайного леса с методом балансировки данных \"class_weight = balanced\""
   ]
  }
 ],
 "metadata": {
  "ExecuteTimeLog": [
   {
    "duration": 1055,
    "start_time": "2022-10-23T12:45:20.568Z"
   },
   {
    "duration": 66,
    "start_time": "2022-10-23T12:45:21.627Z"
   },
   {
    "duration": 29,
    "start_time": "2022-10-23T12:45:21.696Z"
   },
   {
    "duration": 31,
    "start_time": "2022-10-23T12:45:21.727Z"
   },
   {
    "duration": 7,
    "start_time": "2022-10-23T12:45:21.760Z"
   },
   {
    "duration": 43,
    "start_time": "2022-10-23T12:45:55.103Z"
   },
   {
    "duration": 12,
    "start_time": "2022-10-23T12:46:07.438Z"
   },
   {
    "duration": 1089,
    "start_time": "2022-10-23T13:07:53.036Z"
   },
   {
    "duration": 30,
    "start_time": "2022-10-23T13:07:54.128Z"
   },
   {
    "duration": 15,
    "start_time": "2022-10-23T13:07:54.160Z"
   },
   {
    "duration": 22,
    "start_time": "2022-10-23T13:07:54.177Z"
   },
   {
    "duration": 10,
    "start_time": "2022-10-23T13:07:54.200Z"
   },
   {
    "duration": 12,
    "start_time": "2022-10-23T13:07:54.211Z"
   },
   {
    "duration": 21,
    "start_time": "2022-10-23T13:07:54.225Z"
   },
   {
    "duration": 7,
    "start_time": "2022-10-23T13:10:13.528Z"
   },
   {
    "duration": 1150,
    "start_time": "2022-10-23T13:10:33.801Z"
   },
   {
    "duration": 29,
    "start_time": "2022-10-23T13:10:34.952Z"
   },
   {
    "duration": 12,
    "start_time": "2022-10-23T13:10:34.982Z"
   },
   {
    "duration": 18,
    "start_time": "2022-10-23T13:10:34.995Z"
   },
   {
    "duration": 29,
    "start_time": "2022-10-23T13:10:35.015Z"
   },
   {
    "duration": 6,
    "start_time": "2022-10-23T13:10:35.046Z"
   },
   {
    "duration": 5,
    "start_time": "2022-10-23T13:10:35.053Z"
   },
   {
    "duration": 10,
    "start_time": "2022-10-23T13:10:35.060Z"
   },
   {
    "duration": 155,
    "start_time": "2022-10-23T13:11:58.007Z"
   },
   {
    "duration": 40,
    "start_time": "2022-10-23T13:13:19.146Z"
   },
   {
    "duration": 46,
    "start_time": "2022-10-23T13:14:01.032Z"
   },
   {
    "duration": 21,
    "start_time": "2022-10-23T13:14:08.889Z"
   },
   {
    "duration": 1143,
    "start_time": "2022-10-23T13:14:13.856Z"
   },
   {
    "duration": 50,
    "start_time": "2022-10-23T13:14:15.000Z"
   },
   {
    "duration": 13,
    "start_time": "2022-10-23T13:14:15.052Z"
   },
   {
    "duration": 18,
    "start_time": "2022-10-23T13:14:15.066Z"
   },
   {
    "duration": 7,
    "start_time": "2022-10-23T13:14:15.086Z"
   },
   {
    "duration": 8,
    "start_time": "2022-10-23T13:14:15.094Z"
   },
   {
    "duration": 5,
    "start_time": "2022-10-23T13:14:15.103Z"
   },
   {
    "duration": 166,
    "start_time": "2022-10-23T13:14:15.110Z"
   },
   {
    "duration": 19,
    "start_time": "2022-10-23T13:17:50.577Z"
   },
   {
    "duration": 1168,
    "start_time": "2022-10-23T13:18:00.506Z"
   },
   {
    "duration": 30,
    "start_time": "2022-10-23T13:18:01.676Z"
   },
   {
    "duration": 23,
    "start_time": "2022-10-23T13:18:01.707Z"
   },
   {
    "duration": 24,
    "start_time": "2022-10-23T13:18:01.733Z"
   },
   {
    "duration": 7,
    "start_time": "2022-10-23T13:18:01.759Z"
   },
   {
    "duration": 8,
    "start_time": "2022-10-23T13:18:01.767Z"
   },
   {
    "duration": 9,
    "start_time": "2022-10-23T13:18:01.777Z"
   },
   {
    "duration": 158,
    "start_time": "2022-10-23T13:18:01.788Z"
   },
   {
    "duration": 12,
    "start_time": "2022-10-23T13:27:13.838Z"
   },
   {
    "duration": 11,
    "start_time": "2022-10-23T13:29:31.156Z"
   },
   {
    "duration": 7,
    "start_time": "2022-10-23T13:37:49.135Z"
   },
   {
    "duration": 1054,
    "start_time": "2022-10-23T15:29:53.467Z"
   },
   {
    "duration": 31,
    "start_time": "2022-10-23T15:29:54.523Z"
   },
   {
    "duration": 13,
    "start_time": "2022-10-23T15:29:54.556Z"
   },
   {
    "duration": 27,
    "start_time": "2022-10-23T15:29:54.571Z"
   },
   {
    "duration": 19,
    "start_time": "2022-10-23T15:29:54.600Z"
   },
   {
    "duration": 21,
    "start_time": "2022-10-23T15:29:54.621Z"
   },
   {
    "duration": 10,
    "start_time": "2022-10-23T15:29:54.644Z"
   },
   {
    "duration": 12,
    "start_time": "2022-10-23T15:29:54.656Z"
   },
   {
    "duration": 145,
    "start_time": "2022-10-23T15:29:54.669Z"
   },
   {
    "duration": 0,
    "start_time": "2022-10-23T15:29:54.817Z"
   },
   {
    "duration": 0,
    "start_time": "2022-10-23T15:29:54.819Z"
   },
   {
    "duration": 0,
    "start_time": "2022-10-23T15:29:54.821Z"
   },
   {
    "duration": 0,
    "start_time": "2022-10-23T15:29:54.822Z"
   },
   {
    "duration": 0,
    "start_time": "2022-10-23T15:29:54.828Z"
   },
   {
    "duration": 0,
    "start_time": "2022-10-23T15:29:54.830Z"
   },
   {
    "duration": 0,
    "start_time": "2022-10-23T15:29:54.832Z"
   },
   {
    "duration": 0,
    "start_time": "2022-10-23T15:29:54.833Z"
   },
   {
    "duration": 0,
    "start_time": "2022-10-23T15:29:54.834Z"
   },
   {
    "duration": 0,
    "start_time": "2022-10-23T15:29:54.835Z"
   },
   {
    "duration": 0,
    "start_time": "2022-10-23T15:29:54.837Z"
   },
   {
    "duration": 0,
    "start_time": "2022-10-23T15:29:54.839Z"
   },
   {
    "duration": 0,
    "start_time": "2022-10-23T15:29:54.840Z"
   },
   {
    "duration": 0,
    "start_time": "2022-10-23T15:29:54.841Z"
   },
   {
    "duration": 1115,
    "start_time": "2022-10-23T15:30:33.510Z"
   },
   {
    "duration": 29,
    "start_time": "2022-10-23T15:30:34.627Z"
   },
   {
    "duration": 13,
    "start_time": "2022-10-23T15:30:34.658Z"
   },
   {
    "duration": 33,
    "start_time": "2022-10-23T15:30:34.673Z"
   },
   {
    "duration": 7,
    "start_time": "2022-10-23T15:30:34.708Z"
   },
   {
    "duration": 9,
    "start_time": "2022-10-23T15:30:34.717Z"
   },
   {
    "duration": 9,
    "start_time": "2022-10-23T15:30:34.727Z"
   },
   {
    "duration": 7,
    "start_time": "2022-10-23T15:30:34.737Z"
   },
   {
    "duration": 10,
    "start_time": "2022-10-23T15:30:34.746Z"
   },
   {
    "duration": 199,
    "start_time": "2022-10-23T15:30:34.758Z"
   },
   {
    "duration": 19,
    "start_time": "2022-10-23T15:30:34.958Z"
   },
   {
    "duration": 0,
    "start_time": "2022-10-23T15:30:34.979Z"
   },
   {
    "duration": 0,
    "start_time": "2022-10-23T15:30:34.980Z"
   },
   {
    "duration": 0,
    "start_time": "2022-10-23T15:30:34.981Z"
   },
   {
    "duration": 0,
    "start_time": "2022-10-23T15:30:34.982Z"
   },
   {
    "duration": 0,
    "start_time": "2022-10-23T15:30:34.983Z"
   },
   {
    "duration": 0,
    "start_time": "2022-10-23T15:30:34.984Z"
   },
   {
    "duration": 0,
    "start_time": "2022-10-23T15:30:34.985Z"
   },
   {
    "duration": 0,
    "start_time": "2022-10-23T15:30:34.986Z"
   },
   {
    "duration": 0,
    "start_time": "2022-10-23T15:30:34.986Z"
   },
   {
    "duration": 0,
    "start_time": "2022-10-23T15:30:34.987Z"
   },
   {
    "duration": 0,
    "start_time": "2022-10-23T15:30:34.988Z"
   },
   {
    "duration": 0,
    "start_time": "2022-10-23T15:30:34.989Z"
   },
   {
    "duration": 1065,
    "start_time": "2022-10-24T17:47:08.054Z"
   },
   {
    "duration": 167,
    "start_time": "2022-10-24T17:47:09.123Z"
   },
   {
    "duration": 18,
    "start_time": "2022-10-24T17:47:09.292Z"
   },
   {
    "duration": 20,
    "start_time": "2022-10-24T17:47:09.312Z"
   },
   {
    "duration": 7,
    "start_time": "2022-10-24T17:47:09.334Z"
   },
   {
    "duration": 5,
    "start_time": "2022-10-24T17:47:09.342Z"
   },
   {
    "duration": 7,
    "start_time": "2022-10-24T17:47:09.348Z"
   },
   {
    "duration": 119,
    "start_time": "2022-10-24T17:47:09.356Z"
   },
   {
    "duration": 0,
    "start_time": "2022-10-24T17:47:09.477Z"
   },
   {
    "duration": 0,
    "start_time": "2022-10-24T17:47:09.479Z"
   },
   {
    "duration": 0,
    "start_time": "2022-10-24T17:47:09.480Z"
   },
   {
    "duration": 0,
    "start_time": "2022-10-24T17:47:09.482Z"
   },
   {
    "duration": 0,
    "start_time": "2022-10-24T17:47:09.483Z"
   },
   {
    "duration": 0,
    "start_time": "2022-10-24T17:47:09.485Z"
   },
   {
    "duration": 0,
    "start_time": "2022-10-24T17:47:09.486Z"
   },
   {
    "duration": 0,
    "start_time": "2022-10-24T17:47:09.487Z"
   },
   {
    "duration": 0,
    "start_time": "2022-10-24T17:47:09.505Z"
   },
   {
    "duration": 0,
    "start_time": "2022-10-24T17:47:09.506Z"
   },
   {
    "duration": 0,
    "start_time": "2022-10-24T17:47:09.507Z"
   },
   {
    "duration": 0,
    "start_time": "2022-10-24T17:47:09.508Z"
   },
   {
    "duration": 0,
    "start_time": "2022-10-24T17:47:09.509Z"
   },
   {
    "duration": 0,
    "start_time": "2022-10-24T17:47:09.510Z"
   },
   {
    "duration": 1,
    "start_time": "2022-10-24T17:47:09.511Z"
   },
   {
    "duration": 0,
    "start_time": "2022-10-24T17:47:09.513Z"
   },
   {
    "duration": 0,
    "start_time": "2022-10-24T17:47:09.514Z"
   },
   {
    "duration": 1055,
    "start_time": "2022-10-24T17:47:36.002Z"
   },
   {
    "duration": 38,
    "start_time": "2022-10-24T17:47:37.059Z"
   },
   {
    "duration": 16,
    "start_time": "2022-10-24T17:47:37.099Z"
   },
   {
    "duration": 24,
    "start_time": "2022-10-24T17:47:37.123Z"
   },
   {
    "duration": 7,
    "start_time": "2022-10-24T17:47:37.148Z"
   },
   {
    "duration": 6,
    "start_time": "2022-10-24T17:47:37.157Z"
   },
   {
    "duration": 9,
    "start_time": "2022-10-24T17:47:37.164Z"
   },
   {
    "duration": 10,
    "start_time": "2022-10-24T17:47:37.175Z"
   },
   {
    "duration": 33,
    "start_time": "2022-10-24T17:47:37.187Z"
   },
   {
    "duration": 6,
    "start_time": "2022-10-24T17:47:37.223Z"
   },
   {
    "duration": 9,
    "start_time": "2022-10-24T17:47:37.231Z"
   },
   {
    "duration": 213,
    "start_time": "2022-10-24T17:47:37.242Z"
   },
   {
    "duration": 21,
    "start_time": "2022-10-24T17:47:37.456Z"
   },
   {
    "duration": 0,
    "start_time": "2022-10-24T17:47:37.480Z"
   },
   {
    "duration": 0,
    "start_time": "2022-10-24T17:47:37.481Z"
   },
   {
    "duration": 0,
    "start_time": "2022-10-24T17:47:37.482Z"
   },
   {
    "duration": 0,
    "start_time": "2022-10-24T17:47:37.483Z"
   },
   {
    "duration": 0,
    "start_time": "2022-10-24T17:47:37.485Z"
   },
   {
    "duration": 0,
    "start_time": "2022-10-24T17:47:37.486Z"
   },
   {
    "duration": 0,
    "start_time": "2022-10-24T17:47:37.487Z"
   },
   {
    "duration": 0,
    "start_time": "2022-10-24T17:47:37.488Z"
   },
   {
    "duration": 0,
    "start_time": "2022-10-24T17:47:37.490Z"
   },
   {
    "duration": 0,
    "start_time": "2022-10-24T17:47:37.492Z"
   },
   {
    "duration": 0,
    "start_time": "2022-10-24T17:47:37.493Z"
   },
   {
    "duration": 0,
    "start_time": "2022-10-24T17:47:37.495Z"
   },
   {
    "duration": 1101,
    "start_time": "2022-10-24T17:54:39.273Z"
   },
   {
    "duration": 45,
    "start_time": "2022-10-24T17:54:40.377Z"
   },
   {
    "duration": 11,
    "start_time": "2022-10-24T17:54:40.424Z"
   },
   {
    "duration": 19,
    "start_time": "2022-10-24T17:54:40.438Z"
   },
   {
    "duration": 7,
    "start_time": "2022-10-24T17:54:40.459Z"
   },
   {
    "duration": 5,
    "start_time": "2022-10-24T17:54:40.468Z"
   },
   {
    "duration": 41,
    "start_time": "2022-10-24T17:54:40.475Z"
   },
   {
    "duration": 6,
    "start_time": "2022-10-24T17:54:40.518Z"
   },
   {
    "duration": 11,
    "start_time": "2022-10-24T17:54:40.526Z"
   },
   {
    "duration": 6,
    "start_time": "2022-10-24T17:54:40.540Z"
   },
   {
    "duration": 6,
    "start_time": "2022-10-24T17:54:40.548Z"
   },
   {
    "duration": 9,
    "start_time": "2022-10-24T17:54:40.556Z"
   },
   {
    "duration": 180,
    "start_time": "2022-10-24T17:54:40.567Z"
   },
   {
    "duration": 23,
    "start_time": "2022-10-24T17:54:40.749Z"
   },
   {
    "duration": 0,
    "start_time": "2022-10-24T17:54:40.773Z"
   },
   {
    "duration": 0,
    "start_time": "2022-10-24T17:54:40.776Z"
   },
   {
    "duration": 0,
    "start_time": "2022-10-24T17:54:40.777Z"
   },
   {
    "duration": 0,
    "start_time": "2022-10-24T17:54:40.778Z"
   },
   {
    "duration": 0,
    "start_time": "2022-10-24T17:54:40.780Z"
   },
   {
    "duration": 0,
    "start_time": "2022-10-24T17:54:40.781Z"
   },
   {
    "duration": 0,
    "start_time": "2022-10-24T17:54:40.782Z"
   },
   {
    "duration": 0,
    "start_time": "2022-10-24T17:54:40.784Z"
   },
   {
    "duration": 0,
    "start_time": "2022-10-24T17:54:40.785Z"
   },
   {
    "duration": 0,
    "start_time": "2022-10-24T17:54:40.786Z"
   },
   {
    "duration": 0,
    "start_time": "2022-10-24T17:54:40.788Z"
   },
   {
    "duration": 0,
    "start_time": "2022-10-24T17:54:40.789Z"
   },
   {
    "duration": 1065,
    "start_time": "2022-10-24T17:56:15.077Z"
   },
   {
    "duration": 40,
    "start_time": "2022-10-24T17:56:16.144Z"
   },
   {
    "duration": 11,
    "start_time": "2022-10-24T17:56:16.186Z"
   },
   {
    "duration": 44,
    "start_time": "2022-10-24T17:56:16.199Z"
   },
   {
    "duration": 27,
    "start_time": "2022-10-24T17:56:16.246Z"
   },
   {
    "duration": 53,
    "start_time": "2022-10-24T17:56:16.275Z"
   },
   {
    "duration": 14,
    "start_time": "2022-10-24T17:56:16.330Z"
   },
   {
    "duration": 23,
    "start_time": "2022-10-24T17:56:16.347Z"
   },
   {
    "duration": 16,
    "start_time": "2022-10-24T17:56:16.372Z"
   },
   {
    "duration": 38,
    "start_time": "2022-10-24T17:56:16.390Z"
   },
   {
    "duration": 21,
    "start_time": "2022-10-24T17:56:16.429Z"
   },
   {
    "duration": 21,
    "start_time": "2022-10-24T17:56:16.451Z"
   },
   {
    "duration": 4490,
    "start_time": "2022-10-24T17:56:16.474Z"
   },
   {
    "duration": 40,
    "start_time": "2022-10-24T17:56:20.967Z"
   },
   {
    "duration": 250568,
    "start_time": "2022-10-24T17:56:21.009Z"
   },
   {
    "duration": 13,
    "start_time": "2022-10-24T18:00:31.579Z"
   },
   {
    "duration": 20,
    "start_time": "2022-10-24T18:00:31.594Z"
   },
   {
    "duration": 14,
    "start_time": "2022-10-24T18:00:31.616Z"
   },
   {
    "duration": 137,
    "start_time": "2022-10-24T18:00:31.632Z"
   },
   {
    "duration": 0,
    "start_time": "2022-10-24T18:00:31.770Z"
   },
   {
    "duration": 0,
    "start_time": "2022-10-24T18:00:31.771Z"
   },
   {
    "duration": 0,
    "start_time": "2022-10-24T18:00:31.773Z"
   },
   {
    "duration": 0,
    "start_time": "2022-10-24T18:00:31.774Z"
   },
   {
    "duration": 0,
    "start_time": "2022-10-24T18:00:31.775Z"
   },
   {
    "duration": 0,
    "start_time": "2022-10-24T18:00:31.776Z"
   },
   {
    "duration": 0,
    "start_time": "2022-10-24T18:00:31.777Z"
   },
   {
    "duration": 986,
    "start_time": "2022-10-24T18:06:51.647Z"
   },
   {
    "duration": 41,
    "start_time": "2022-10-24T18:06:52.635Z"
   },
   {
    "duration": 14,
    "start_time": "2022-10-24T18:06:52.678Z"
   },
   {
    "duration": 18,
    "start_time": "2022-10-24T18:06:52.694Z"
   },
   {
    "duration": 9,
    "start_time": "2022-10-24T18:06:52.714Z"
   },
   {
    "duration": 10,
    "start_time": "2022-10-24T18:06:52.725Z"
   },
   {
    "duration": 5,
    "start_time": "2022-10-24T18:06:52.737Z"
   },
   {
    "duration": 8,
    "start_time": "2022-10-24T18:06:52.743Z"
   },
   {
    "duration": 13,
    "start_time": "2022-10-24T18:06:52.753Z"
   },
   {
    "duration": 7,
    "start_time": "2022-10-24T18:06:52.769Z"
   },
   {
    "duration": 28,
    "start_time": "2022-10-24T18:06:52.778Z"
   },
   {
    "duration": 7,
    "start_time": "2022-10-24T18:06:52.807Z"
   },
   {
    "duration": 4260,
    "start_time": "2022-10-24T18:06:52.816Z"
   },
   {
    "duration": 37,
    "start_time": "2022-10-24T18:06:57.078Z"
   },
   {
    "duration": 17206,
    "start_time": "2022-10-24T18:06:57.116Z"
   },
   {
    "duration": 17,
    "start_time": "2022-10-24T18:07:14.324Z"
   },
   {
    "duration": 14,
    "start_time": "2022-10-24T18:07:14.343Z"
   },
   {
    "duration": 18,
    "start_time": "2022-10-24T18:07:14.359Z"
   },
   {
    "duration": 64,
    "start_time": "2022-10-24T18:07:14.378Z"
   },
   {
    "duration": 10,
    "start_time": "2022-10-24T18:07:14.444Z"
   },
   {
    "duration": 0,
    "start_time": "2022-10-24T18:07:14.456Z"
   },
   {
    "duration": 0,
    "start_time": "2022-10-24T18:07:14.458Z"
   },
   {
    "duration": 0,
    "start_time": "2022-10-24T18:07:14.459Z"
   },
   {
    "duration": 0,
    "start_time": "2022-10-24T18:07:14.460Z"
   },
   {
    "duration": 0,
    "start_time": "2022-10-24T18:07:14.462Z"
   },
   {
    "duration": 0,
    "start_time": "2022-10-24T18:07:14.463Z"
   },
   {
    "duration": 1049,
    "start_time": "2022-10-24T18:11:43.120Z"
   },
   {
    "duration": 40,
    "start_time": "2022-10-24T18:11:44.171Z"
   },
   {
    "duration": 12,
    "start_time": "2022-10-24T18:11:44.213Z"
   },
   {
    "duration": 20,
    "start_time": "2022-10-24T18:11:44.228Z"
   },
   {
    "duration": 7,
    "start_time": "2022-10-24T18:11:44.250Z"
   },
   {
    "duration": 8,
    "start_time": "2022-10-24T18:11:44.259Z"
   },
   {
    "duration": 7,
    "start_time": "2022-10-24T18:11:44.268Z"
   },
   {
    "duration": 30,
    "start_time": "2022-10-24T18:11:44.277Z"
   },
   {
    "duration": 10,
    "start_time": "2022-10-24T18:11:44.308Z"
   },
   {
    "duration": 7,
    "start_time": "2022-10-24T18:11:44.321Z"
   },
   {
    "duration": 7,
    "start_time": "2022-10-24T18:11:44.329Z"
   },
   {
    "duration": 7,
    "start_time": "2022-10-24T18:11:44.337Z"
   },
   {
    "duration": 4302,
    "start_time": "2022-10-24T18:11:44.345Z"
   },
   {
    "duration": 29,
    "start_time": "2022-10-24T18:11:48.649Z"
   },
   {
    "duration": 246226,
    "start_time": "2022-10-24T18:11:48.680Z"
   },
   {
    "duration": 14,
    "start_time": "2022-10-24T18:15:54.907Z"
   },
   {
    "duration": 11,
    "start_time": "2022-10-24T18:15:54.923Z"
   },
   {
    "duration": 19,
    "start_time": "2022-10-24T18:15:54.935Z"
   },
   {
    "duration": 69,
    "start_time": "2022-10-24T18:15:54.955Z"
   },
   {
    "duration": 125,
    "start_time": "2022-10-24T18:15:55.026Z"
   },
   {
    "duration": 0,
    "start_time": "2022-10-24T18:15:55.153Z"
   },
   {
    "duration": 0,
    "start_time": "2022-10-24T18:15:55.155Z"
   },
   {
    "duration": 0,
    "start_time": "2022-10-24T18:15:55.156Z"
   },
   {
    "duration": 0,
    "start_time": "2022-10-24T18:15:55.157Z"
   },
   {
    "duration": 0,
    "start_time": "2022-10-24T18:15:55.159Z"
   },
   {
    "duration": 0,
    "start_time": "2022-10-24T18:15:55.160Z"
   },
   {
    "duration": 10,
    "start_time": "2022-10-24T18:19:56.968Z"
   },
   {
    "duration": 7,
    "start_time": "2022-10-24T18:20:15.355Z"
   },
   {
    "duration": 19,
    "start_time": "2022-10-24T18:22:10.506Z"
   },
   {
    "duration": 16,
    "start_time": "2022-10-24T18:22:11.942Z"
   },
   {
    "duration": 11,
    "start_time": "2022-10-24T18:23:27.559Z"
   },
   {
    "duration": 21,
    "start_time": "2022-10-24T18:23:44.186Z"
   },
   {
    "duration": 21,
    "start_time": "2022-10-24T18:24:05.057Z"
   },
   {
    "duration": 994,
    "start_time": "2022-10-24T18:25:33.069Z"
   },
   {
    "duration": 42,
    "start_time": "2022-10-24T18:25:34.064Z"
   },
   {
    "duration": 15,
    "start_time": "2022-10-24T18:25:34.108Z"
   },
   {
    "duration": 21,
    "start_time": "2022-10-24T18:25:34.125Z"
   },
   {
    "duration": 9,
    "start_time": "2022-10-24T18:25:34.148Z"
   },
   {
    "duration": 5,
    "start_time": "2022-10-24T18:25:34.158Z"
   },
   {
    "duration": 6,
    "start_time": "2022-10-24T18:25:34.165Z"
   },
   {
    "duration": 34,
    "start_time": "2022-10-24T18:25:34.173Z"
   },
   {
    "duration": 8,
    "start_time": "2022-10-24T18:25:34.209Z"
   },
   {
    "duration": 14,
    "start_time": "2022-10-24T18:25:34.220Z"
   },
   {
    "duration": 32,
    "start_time": "2022-10-24T18:25:34.236Z"
   },
   {
    "duration": 12,
    "start_time": "2022-10-24T18:25:34.269Z"
   },
   {
    "duration": 4432,
    "start_time": "2022-10-24T18:25:34.283Z"
   },
   {
    "duration": 34,
    "start_time": "2022-10-24T18:25:38.717Z"
   },
   {
    "duration": 248321,
    "start_time": "2022-10-24T18:25:38.753Z"
   },
   {
    "duration": 16,
    "start_time": "2022-10-24T18:29:47.076Z"
   },
   {
    "duration": 14,
    "start_time": "2022-10-24T18:29:47.105Z"
   },
   {
    "duration": 17,
    "start_time": "2022-10-24T18:29:47.121Z"
   },
   {
    "duration": 26,
    "start_time": "2022-10-24T18:29:47.140Z"
   },
   {
    "duration": 159,
    "start_time": "2022-10-24T18:29:47.168Z"
   },
   {
    "duration": 0,
    "start_time": "2022-10-24T18:29:47.329Z"
   },
   {
    "duration": 0,
    "start_time": "2022-10-24T18:29:47.331Z"
   },
   {
    "duration": 0,
    "start_time": "2022-10-24T18:29:47.332Z"
   },
   {
    "duration": 0,
    "start_time": "2022-10-24T18:29:47.333Z"
   },
   {
    "duration": 0,
    "start_time": "2022-10-24T18:29:47.335Z"
   },
   {
    "duration": 0,
    "start_time": "2022-10-24T18:29:47.335Z"
   },
   {
    "duration": 29,
    "start_time": "2022-10-24T18:31:13.744Z"
   },
   {
    "duration": 3,
    "start_time": "2022-10-24T18:31:54.202Z"
   },
   {
    "duration": 208750,
    "start_time": "2022-10-24T18:33:13.459Z"
   },
   {
    "duration": 2,
    "start_time": "2022-10-24T19:08:26.456Z"
   },
   {
    "duration": 21,
    "start_time": "2022-10-24T19:08:27.793Z"
   },
   {
    "duration": 21,
    "start_time": "2022-10-24T19:08:32.335Z"
   },
   {
    "duration": 1072,
    "start_time": "2022-10-24T19:08:40.818Z"
   },
   {
    "duration": 39,
    "start_time": "2022-10-24T19:08:41.892Z"
   },
   {
    "duration": 12,
    "start_time": "2022-10-24T19:08:41.932Z"
   },
   {
    "duration": 17,
    "start_time": "2022-10-24T19:08:41.946Z"
   },
   {
    "duration": 8,
    "start_time": "2022-10-24T19:08:41.964Z"
   },
   {
    "duration": 4,
    "start_time": "2022-10-24T19:08:41.973Z"
   },
   {
    "duration": 5,
    "start_time": "2022-10-24T19:08:41.978Z"
   },
   {
    "duration": 5,
    "start_time": "2022-10-24T19:08:41.985Z"
   },
   {
    "duration": 7,
    "start_time": "2022-10-24T19:08:42.005Z"
   },
   {
    "duration": 8,
    "start_time": "2022-10-24T19:08:42.015Z"
   },
   {
    "duration": 4,
    "start_time": "2022-10-24T19:08:42.024Z"
   },
   {
    "duration": 6,
    "start_time": "2022-10-24T19:08:42.030Z"
   },
   {
    "duration": 4202,
    "start_time": "2022-10-24T19:08:42.037Z"
   },
   {
    "duration": 29,
    "start_time": "2022-10-24T19:08:46.241Z"
   },
   {
    "duration": 240420,
    "start_time": "2022-10-24T19:08:46.272Z"
   },
   {
    "duration": 316,
    "start_time": "2022-10-24T19:12:46.694Z"
   },
   {
    "duration": 12,
    "start_time": "2022-10-24T19:12:47.011Z"
   },
   {
    "duration": 2,
    "start_time": "2022-10-24T19:12:47.024Z"
   },
   {
    "duration": 22,
    "start_time": "2022-10-24T19:12:47.028Z"
   },
   {
    "duration": 20,
    "start_time": "2022-10-24T19:12:47.052Z"
   },
   {
    "duration": 115,
    "start_time": "2022-10-24T19:12:47.074Z"
   },
   {
    "duration": 0,
    "start_time": "2022-10-24T19:12:47.191Z"
   },
   {
    "duration": 0,
    "start_time": "2022-10-24T19:12:47.193Z"
   },
   {
    "duration": 0,
    "start_time": "2022-10-24T19:12:47.205Z"
   },
   {
    "duration": 0,
    "start_time": "2022-10-24T19:12:47.207Z"
   },
   {
    "duration": 0,
    "start_time": "2022-10-24T19:12:47.208Z"
   },
   {
    "duration": 0,
    "start_time": "2022-10-24T19:12:47.209Z"
   },
   {
    "duration": 1359,
    "start_time": "2022-10-24T19:34:06.743Z"
   },
   {
    "duration": 38,
    "start_time": "2022-10-24T19:34:08.104Z"
   },
   {
    "duration": 12,
    "start_time": "2022-10-24T19:34:08.144Z"
   },
   {
    "duration": 16,
    "start_time": "2022-10-24T19:34:08.158Z"
   },
   {
    "duration": 6,
    "start_time": "2022-10-24T19:34:08.175Z"
   },
   {
    "duration": 5,
    "start_time": "2022-10-24T19:34:08.182Z"
   },
   {
    "duration": 6,
    "start_time": "2022-10-24T19:34:08.188Z"
   },
   {
    "duration": 10,
    "start_time": "2022-10-24T19:34:08.195Z"
   },
   {
    "duration": 6,
    "start_time": "2022-10-24T19:34:08.206Z"
   },
   {
    "duration": 9,
    "start_time": "2022-10-24T19:34:08.214Z"
   },
   {
    "duration": 6,
    "start_time": "2022-10-24T19:34:08.224Z"
   },
   {
    "duration": 6,
    "start_time": "2022-10-24T19:34:08.231Z"
   },
   {
    "duration": 4166,
    "start_time": "2022-10-24T19:34:08.238Z"
   },
   {
    "duration": 26,
    "start_time": "2022-10-24T19:34:12.406Z"
   },
   {
    "duration": 240010,
    "start_time": "2022-10-24T19:34:12.434Z"
   },
   {
    "duration": 306,
    "start_time": "2022-10-24T19:38:12.445Z"
   },
   {
    "duration": 13,
    "start_time": "2022-10-24T19:38:12.753Z"
   },
   {
    "duration": 15,
    "start_time": "2022-10-24T19:38:12.768Z"
   },
   {
    "duration": 28,
    "start_time": "2022-10-24T19:38:12.785Z"
   },
   {
    "duration": 15,
    "start_time": "2022-10-24T19:38:12.814Z"
   },
   {
    "duration": 185,
    "start_time": "2022-10-24T19:38:12.831Z"
   },
   {
    "duration": 4187,
    "start_time": "2022-10-24T19:38:13.017Z"
   },
   {
    "duration": 27,
    "start_time": "2022-10-24T19:38:17.206Z"
   },
   {
    "duration": 15,
    "start_time": "2022-10-24T19:38:17.234Z"
   },
   {
    "duration": 157,
    "start_time": "2022-10-24T19:38:17.251Z"
   },
   {
    "duration": 201,
    "start_time": "2022-10-24T19:38:17.410Z"
   },
   {
    "duration": 101,
    "start_time": "2022-10-24T19:38:17.612Z"
   },
   {
    "duration": 86,
    "start_time": "2022-10-24T19:47:25.692Z"
   },
   {
    "duration": 35,
    "start_time": "2022-10-24T19:47:31.478Z"
   },
   {
    "duration": 11,
    "start_time": "2022-10-24T19:47:36.556Z"
   },
   {
    "duration": 162,
    "start_time": "2022-10-24T19:47:37.644Z"
   },
   {
    "duration": 3997,
    "start_time": "2022-10-24T19:47:40.401Z"
   },
   {
    "duration": 1036,
    "start_time": "2022-10-24T19:48:09.624Z"
   },
   {
    "duration": 39,
    "start_time": "2022-10-24T19:48:10.662Z"
   },
   {
    "duration": 11,
    "start_time": "2022-10-24T19:48:10.703Z"
   },
   {
    "duration": 17,
    "start_time": "2022-10-24T19:48:10.716Z"
   },
   {
    "duration": 6,
    "start_time": "2022-10-24T19:48:10.734Z"
   },
   {
    "duration": 8,
    "start_time": "2022-10-24T19:48:10.741Z"
   },
   {
    "duration": 6,
    "start_time": "2022-10-24T19:48:10.750Z"
   },
   {
    "duration": 6,
    "start_time": "2022-10-24T19:48:10.757Z"
   },
   {
    "duration": 6,
    "start_time": "2022-10-24T19:48:10.764Z"
   },
   {
    "duration": 39,
    "start_time": "2022-10-24T19:48:10.773Z"
   },
   {
    "duration": 5,
    "start_time": "2022-10-24T19:48:10.813Z"
   },
   {
    "duration": 9,
    "start_time": "2022-10-24T19:48:10.820Z"
   },
   {
    "duration": 4226,
    "start_time": "2022-10-24T19:48:10.830Z"
   },
   {
    "duration": 29,
    "start_time": "2022-10-24T19:48:15.058Z"
   },
   {
    "duration": 240806,
    "start_time": "2022-10-24T19:48:15.088Z"
   },
   {
    "duration": 318,
    "start_time": "2022-10-24T19:52:15.896Z"
   },
   {
    "duration": 11,
    "start_time": "2022-10-24T19:52:16.215Z"
   },
   {
    "duration": 15,
    "start_time": "2022-10-24T19:52:16.228Z"
   },
   {
    "duration": 12,
    "start_time": "2022-10-24T19:52:16.244Z"
   },
   {
    "duration": 151,
    "start_time": "2022-10-24T19:52:16.257Z"
   },
   {
    "duration": 4307,
    "start_time": "2022-10-24T19:52:16.410Z"
   },
   {
    "duration": 26,
    "start_time": "2022-10-24T19:52:20.718Z"
   },
   {
    "duration": 14,
    "start_time": "2022-10-24T19:52:20.746Z"
   },
   {
    "duration": 151,
    "start_time": "2022-10-24T19:52:20.761Z"
   },
   {
    "duration": 98,
    "start_time": "2022-10-24T19:52:20.914Z"
   },
   {
    "duration": 98,
    "start_time": "2022-10-24T19:52:21.014Z"
   },
   {
    "duration": 1099,
    "start_time": "2022-10-24T20:10:21.438Z"
   },
   {
    "duration": 51,
    "start_time": "2022-10-24T20:10:22.538Z"
   },
   {
    "duration": 12,
    "start_time": "2022-10-24T20:10:22.591Z"
   },
   {
    "duration": 36,
    "start_time": "2022-10-24T20:10:22.606Z"
   },
   {
    "duration": 7,
    "start_time": "2022-10-24T20:10:22.643Z"
   },
   {
    "duration": 6,
    "start_time": "2022-10-24T20:10:22.652Z"
   },
   {
    "duration": 9,
    "start_time": "2022-10-24T20:10:22.659Z"
   },
   {
    "duration": 8,
    "start_time": "2022-10-24T20:10:22.670Z"
   },
   {
    "duration": 7,
    "start_time": "2022-10-24T20:10:22.680Z"
   },
   {
    "duration": 24,
    "start_time": "2022-10-24T20:10:22.689Z"
   },
   {
    "duration": 7,
    "start_time": "2022-10-24T20:10:22.715Z"
   },
   {
    "duration": 18,
    "start_time": "2022-10-24T20:10:22.724Z"
   },
   {
    "duration": 4711,
    "start_time": "2022-10-24T20:10:22.744Z"
   },
   {
    "duration": 32,
    "start_time": "2022-10-24T20:10:27.457Z"
   },
   {
    "duration": 264234,
    "start_time": "2022-10-24T20:10:27.491Z"
   },
   {
    "duration": 340,
    "start_time": "2022-10-24T20:14:51.727Z"
   },
   {
    "duration": 11,
    "start_time": "2022-10-24T20:14:52.068Z"
   },
   {
    "duration": 25,
    "start_time": "2022-10-24T20:14:52.080Z"
   },
   {
    "duration": 17,
    "start_time": "2022-10-24T20:14:52.107Z"
   },
   {
    "duration": 695,
    "start_time": "2022-10-24T20:14:52.128Z"
   },
   {
    "duration": 4632,
    "start_time": "2022-10-24T20:14:52.825Z"
   },
   {
    "duration": 29,
    "start_time": "2022-10-24T20:14:57.460Z"
   },
   {
    "duration": 35,
    "start_time": "2022-10-24T20:14:57.491Z"
   },
   {
    "duration": 483,
    "start_time": "2022-10-24T20:14:57.528Z"
   },
   {
    "duration": 102,
    "start_time": "2022-10-24T20:14:58.012Z"
   },
   {
    "duration": 112,
    "start_time": "2022-10-24T20:14:58.116Z"
   },
   {
    "duration": 1034,
    "start_time": "2022-10-24T21:41:12.416Z"
   },
   {
    "duration": 51,
    "start_time": "2022-10-24T21:41:13.452Z"
   },
   {
    "duration": 11,
    "start_time": "2022-10-24T21:41:13.504Z"
   },
   {
    "duration": 16,
    "start_time": "2022-10-24T21:41:13.517Z"
   },
   {
    "duration": 5,
    "start_time": "2022-10-24T21:41:13.534Z"
   },
   {
    "duration": 4,
    "start_time": "2022-10-24T21:41:13.541Z"
   },
   {
    "duration": 6,
    "start_time": "2022-10-24T21:41:13.546Z"
   },
   {
    "duration": 7,
    "start_time": "2022-10-24T21:41:13.553Z"
   },
   {
    "duration": 6,
    "start_time": "2022-10-24T21:41:13.561Z"
   },
   {
    "duration": 36,
    "start_time": "2022-10-24T21:41:13.569Z"
   },
   {
    "duration": 5,
    "start_time": "2022-10-24T21:41:13.607Z"
   },
   {
    "duration": 8,
    "start_time": "2022-10-24T21:41:13.613Z"
   },
   {
    "duration": 4154,
    "start_time": "2022-10-24T21:41:13.622Z"
   },
   {
    "duration": 35,
    "start_time": "2022-10-24T21:41:17.778Z"
   },
   {
    "duration": 239769,
    "start_time": "2022-10-24T21:41:17.814Z"
   },
   {
    "duration": 306,
    "start_time": "2022-10-24T21:45:17.585Z"
   },
   {
    "duration": 12,
    "start_time": "2022-10-24T21:45:17.893Z"
   },
   {
    "duration": 22,
    "start_time": "2022-10-24T21:45:17.907Z"
   },
   {
    "duration": 114,
    "start_time": "2022-10-24T21:45:17.930Z"
   },
   {
    "duration": 0,
    "start_time": "2022-10-24T21:45:18.046Z"
   },
   {
    "duration": 0,
    "start_time": "2022-10-24T21:45:18.048Z"
   },
   {
    "duration": 0,
    "start_time": "2022-10-24T21:45:18.049Z"
   },
   {
    "duration": 0,
    "start_time": "2022-10-24T21:45:18.050Z"
   },
   {
    "duration": 0,
    "start_time": "2022-10-24T21:45:18.051Z"
   },
   {
    "duration": 0,
    "start_time": "2022-10-24T21:45:18.052Z"
   },
   {
    "duration": 0,
    "start_time": "2022-10-24T21:45:18.054Z"
   },
   {
    "duration": 0,
    "start_time": "2022-10-24T21:45:18.055Z"
   },
   {
    "duration": 18,
    "start_time": "2022-10-24T21:45:43.302Z"
   },
   {
    "duration": 12,
    "start_time": "2022-10-24T21:45:50.714Z"
   },
   {
    "duration": 113,
    "start_time": "2022-10-24T21:45:52.492Z"
   },
   {
    "duration": 5849,
    "start_time": "2022-10-24T21:45:55.317Z"
   },
   {
    "duration": 35,
    "start_time": "2022-10-24T21:46:04.687Z"
   },
   {
    "duration": 16,
    "start_time": "2022-10-24T21:46:08.245Z"
   },
   {
    "duration": 47,
    "start_time": "2022-10-24T21:46:09.561Z"
   },
   {
    "duration": 10,
    "start_time": "2022-10-24T21:46:10.715Z"
   },
   {
    "duration": 7,
    "start_time": "2022-10-24T21:46:11.602Z"
   },
   {
    "duration": 1281,
    "start_time": "2022-10-25T18:07:23.094Z"
   },
   {
    "duration": 377,
    "start_time": "2022-10-25T18:07:24.377Z"
   },
   {
    "duration": 19,
    "start_time": "2022-10-25T18:07:24.756Z"
   },
   {
    "duration": 24,
    "start_time": "2022-10-25T18:07:24.777Z"
   },
   {
    "duration": 7,
    "start_time": "2022-10-25T18:07:24.804Z"
   },
   {
    "duration": 10,
    "start_time": "2022-10-25T18:07:24.813Z"
   },
   {
    "duration": 6,
    "start_time": "2022-10-25T18:07:24.826Z"
   },
   {
    "duration": 6,
    "start_time": "2022-10-25T18:07:24.834Z"
   },
   {
    "duration": 7,
    "start_time": "2022-10-25T18:07:24.842Z"
   },
   {
    "duration": 10,
    "start_time": "2022-10-25T18:07:24.851Z"
   },
   {
    "duration": 6,
    "start_time": "2022-10-25T18:07:24.863Z"
   },
   {
    "duration": 8,
    "start_time": "2022-10-25T18:07:24.870Z"
   },
   {
    "duration": 4848,
    "start_time": "2022-10-25T18:07:24.880Z"
   },
   {
    "duration": 32,
    "start_time": "2022-10-25T18:07:29.731Z"
   },
   {
    "duration": 289903,
    "start_time": "2022-10-25T18:07:29.765Z"
   },
   {
    "duration": 367,
    "start_time": "2022-10-25T18:12:19.670Z"
   },
   {
    "duration": 88,
    "start_time": "2022-10-25T18:12:20.039Z"
   },
   {
    "duration": 212,
    "start_time": "2022-10-25T18:12:20.138Z"
   },
   {
    "duration": 0,
    "start_time": "2022-10-25T18:12:20.352Z"
   },
   {
    "duration": 0,
    "start_time": "2022-10-25T18:12:20.353Z"
   },
   {
    "duration": 0,
    "start_time": "2022-10-25T18:12:20.355Z"
   },
   {
    "duration": 0,
    "start_time": "2022-10-25T18:12:20.357Z"
   },
   {
    "duration": 1,
    "start_time": "2022-10-25T18:12:20.358Z"
   },
   {
    "duration": 0,
    "start_time": "2022-10-25T18:12:20.360Z"
   },
   {
    "duration": 0,
    "start_time": "2022-10-25T18:12:20.361Z"
   },
   {
    "duration": 0,
    "start_time": "2022-10-25T18:12:20.363Z"
   },
   {
    "duration": 0,
    "start_time": "2022-10-25T18:12:20.364Z"
   },
   {
    "duration": 0,
    "start_time": "2022-10-25T18:12:20.365Z"
   },
   {
    "duration": 0,
    "start_time": "2022-10-25T18:12:20.366Z"
   },
   {
    "duration": 0,
    "start_time": "2022-10-25T18:12:20.367Z"
   },
   {
    "duration": 0,
    "start_time": "2022-10-25T18:12:20.368Z"
   },
   {
    "duration": 12,
    "start_time": "2022-10-25T18:17:07.837Z"
   },
   {
    "duration": 12,
    "start_time": "2022-10-25T18:17:11.208Z"
   },
   {
    "duration": 21,
    "start_time": "2022-10-25T18:17:26.444Z"
   },
   {
    "duration": 155,
    "start_time": "2022-10-25T18:18:17.273Z"
   },
   {
    "duration": 15,
    "start_time": "2022-10-25T18:19:11.451Z"
   },
   {
    "duration": 18,
    "start_time": "2022-10-25T18:19:24.809Z"
   },
   {
    "duration": 56,
    "start_time": "2022-10-25T18:20:04.072Z"
   },
   {
    "duration": 91,
    "start_time": "2022-10-25T18:22:47.042Z"
   },
   {
    "duration": 9,
    "start_time": "2022-10-25T18:23:35.965Z"
   },
   {
    "duration": 9,
    "start_time": "2022-10-25T18:31:07.332Z"
   },
   {
    "duration": 8,
    "start_time": "2022-10-25T18:31:08.677Z"
   },
   {
    "duration": 11,
    "start_time": "2022-10-25T18:31:19.500Z"
   },
   {
    "duration": 12,
    "start_time": "2022-10-25T18:31:41.639Z"
   },
   {
    "duration": 1254,
    "start_time": "2022-10-25T20:13:50.250Z"
   },
   {
    "duration": 45,
    "start_time": "2022-10-25T20:13:51.506Z"
   },
   {
    "duration": 16,
    "start_time": "2022-10-25T20:13:51.553Z"
   },
   {
    "duration": 24,
    "start_time": "2022-10-25T20:13:51.571Z"
   },
   {
    "duration": 9,
    "start_time": "2022-10-25T20:13:51.597Z"
   },
   {
    "duration": 6,
    "start_time": "2022-10-25T20:13:51.625Z"
   },
   {
    "duration": 7,
    "start_time": "2022-10-25T20:13:51.633Z"
   },
   {
    "duration": 7,
    "start_time": "2022-10-25T20:13:51.642Z"
   },
   {
    "duration": 10,
    "start_time": "2022-10-25T20:13:51.652Z"
   },
   {
    "duration": 14,
    "start_time": "2022-10-25T20:13:51.666Z"
   },
   {
    "duration": 43,
    "start_time": "2022-10-25T20:13:51.682Z"
   },
   {
    "duration": 9,
    "start_time": "2022-10-25T20:13:51.727Z"
   },
   {
    "duration": 5482,
    "start_time": "2022-10-25T20:13:51.738Z"
   },
   {
    "duration": 38,
    "start_time": "2022-10-25T20:13:57.222Z"
   },
   {
    "duration": 316566,
    "start_time": "2022-10-25T20:13:57.263Z"
   },
   {
    "duration": 404,
    "start_time": "2022-10-25T20:19:13.831Z"
   },
   {
    "duration": 28,
    "start_time": "2022-10-25T20:19:14.237Z"
   },
   {
    "duration": 98,
    "start_time": "2022-10-25T20:19:14.331Z"
   },
   {
    "duration": 11,
    "start_time": "2022-10-25T20:19:14.431Z"
   },
   {
    "duration": 13,
    "start_time": "2022-10-25T20:19:14.443Z"
   },
   {
    "duration": 14,
    "start_time": "2022-10-25T20:19:14.457Z"
   },
   {
    "duration": 66,
    "start_time": "2022-10-25T20:19:14.473Z"
   },
   {
    "duration": 21,
    "start_time": "2022-10-25T20:19:14.541Z"
   },
   {
    "duration": 14,
    "start_time": "2022-10-25T20:19:14.564Z"
   },
   {
    "duration": 14,
    "start_time": "2022-10-25T20:19:14.579Z"
   },
   {
    "duration": 115,
    "start_time": "2022-10-25T20:19:14.595Z"
   },
   {
    "duration": 0,
    "start_time": "2022-10-25T20:19:14.714Z"
   },
   {
    "duration": 0,
    "start_time": "2022-10-25T20:19:14.716Z"
   },
   {
    "duration": 0,
    "start_time": "2022-10-25T20:19:14.718Z"
   },
   {
    "duration": 0,
    "start_time": "2022-10-25T20:19:14.720Z"
   },
   {
    "duration": 0,
    "start_time": "2022-10-25T20:19:14.721Z"
   },
   {
    "duration": 0,
    "start_time": "2022-10-25T20:19:14.723Z"
   },
   {
    "duration": 0,
    "start_time": "2022-10-25T20:19:14.724Z"
   },
   {
    "duration": 0,
    "start_time": "2022-10-25T20:19:14.726Z"
   },
   {
    "duration": 0,
    "start_time": "2022-10-25T20:19:14.728Z"
   },
   {
    "duration": 0,
    "start_time": "2022-10-25T20:19:14.729Z"
   },
   {
    "duration": 0,
    "start_time": "2022-10-25T20:19:14.731Z"
   },
   {
    "duration": 0,
    "start_time": "2022-10-25T20:19:14.732Z"
   },
   {
    "duration": 0,
    "start_time": "2022-10-25T20:19:14.733Z"
   },
   {
    "duration": 0,
    "start_time": "2022-10-25T20:19:14.735Z"
   },
   {
    "duration": 0,
    "start_time": "2022-10-25T20:19:14.736Z"
   },
   {
    "duration": 0,
    "start_time": "2022-10-25T20:19:14.737Z"
   },
   {
    "duration": 0,
    "start_time": "2022-10-25T20:19:14.738Z"
   },
   {
    "duration": 0,
    "start_time": "2022-10-25T20:19:14.739Z"
   },
   {
    "duration": 0,
    "start_time": "2022-10-25T20:19:14.740Z"
   },
   {
    "duration": 0,
    "start_time": "2022-10-25T20:19:14.742Z"
   },
   {
    "duration": 0,
    "start_time": "2022-10-25T20:19:14.743Z"
   },
   {
    "duration": 0,
    "start_time": "2022-10-25T20:19:14.744Z"
   },
   {
    "duration": 0,
    "start_time": "2022-10-25T20:19:14.745Z"
   },
   {
    "duration": 0,
    "start_time": "2022-10-25T20:19:14.746Z"
   },
   {
    "duration": 0,
    "start_time": "2022-10-25T20:19:14.747Z"
   },
   {
    "duration": 0,
    "start_time": "2022-10-25T20:19:14.748Z"
   },
   {
    "duration": 0,
    "start_time": "2022-10-25T20:19:14.749Z"
   },
   {
    "duration": 0,
    "start_time": "2022-10-25T20:19:14.750Z"
   },
   {
    "duration": 0,
    "start_time": "2022-10-25T20:19:14.751Z"
   },
   {
    "duration": 0,
    "start_time": "2022-10-25T20:19:14.752Z"
   },
   {
    "duration": 0,
    "start_time": "2022-10-25T20:19:14.752Z"
   },
   {
    "duration": 0,
    "start_time": "2022-10-25T20:19:14.753Z"
   },
   {
    "duration": 0,
    "start_time": "2022-10-25T20:19:14.755Z"
   },
   {
    "duration": 0,
    "start_time": "2022-10-25T20:19:14.756Z"
   },
   {
    "duration": 0,
    "start_time": "2022-10-25T20:19:14.757Z"
   },
   {
    "duration": 0,
    "start_time": "2022-10-25T20:19:14.758Z"
   },
   {
    "duration": 0,
    "start_time": "2022-10-25T20:19:14.759Z"
   },
   {
    "duration": 0,
    "start_time": "2022-10-25T20:19:14.760Z"
   },
   {
    "duration": 0,
    "start_time": "2022-10-25T20:19:14.761Z"
   },
   {
    "duration": 0,
    "start_time": "2022-10-25T20:19:14.762Z"
   },
   {
    "duration": 0,
    "start_time": "2022-10-25T20:19:14.763Z"
   },
   {
    "duration": 0,
    "start_time": "2022-10-25T20:19:14.824Z"
   },
   {
    "duration": 0,
    "start_time": "2022-10-25T20:19:14.826Z"
   },
   {
    "duration": 0,
    "start_time": "2022-10-25T20:19:14.827Z"
   },
   {
    "duration": 4,
    "start_time": "2022-10-25T20:20:00.070Z"
   },
   {
    "duration": 81,
    "start_time": "2022-10-25T20:20:01.413Z"
   },
   {
    "duration": 132,
    "start_time": "2022-10-25T20:20:11.403Z"
   },
   {
    "duration": 3,
    "start_time": "2022-10-25T20:20:25.242Z"
   },
   {
    "duration": 1300,
    "start_time": "2022-10-25T20:25:30.880Z"
   },
   {
    "duration": 46,
    "start_time": "2022-10-25T20:25:32.182Z"
   },
   {
    "duration": 17,
    "start_time": "2022-10-25T20:25:32.230Z"
   },
   {
    "duration": 24,
    "start_time": "2022-10-25T20:25:32.249Z"
   },
   {
    "duration": 10,
    "start_time": "2022-10-25T20:25:32.276Z"
   },
   {
    "duration": 39,
    "start_time": "2022-10-25T20:25:32.288Z"
   },
   {
    "duration": 6,
    "start_time": "2022-10-25T20:25:32.329Z"
   },
   {
    "duration": 8,
    "start_time": "2022-10-25T20:25:32.337Z"
   },
   {
    "duration": 8,
    "start_time": "2022-10-25T20:25:32.347Z"
   },
   {
    "duration": 14,
    "start_time": "2022-10-25T20:25:32.357Z"
   },
   {
    "duration": 7,
    "start_time": "2022-10-25T20:25:32.373Z"
   },
   {
    "duration": 9,
    "start_time": "2022-10-25T20:25:32.423Z"
   },
   {
    "duration": 5307,
    "start_time": "2022-10-25T20:25:32.434Z"
   },
   {
    "duration": 35,
    "start_time": "2022-10-25T20:25:37.745Z"
   },
   {
    "duration": 1254,
    "start_time": "2022-10-25T20:26:19.864Z"
   },
   {
    "duration": 46,
    "start_time": "2022-10-25T20:26:21.120Z"
   },
   {
    "duration": 15,
    "start_time": "2022-10-25T20:26:21.171Z"
   },
   {
    "duration": 32,
    "start_time": "2022-10-25T20:26:21.188Z"
   },
   {
    "duration": 17,
    "start_time": "2022-10-25T20:26:21.222Z"
   },
   {
    "duration": 27,
    "start_time": "2022-10-25T20:26:21.241Z"
   },
   {
    "duration": 24,
    "start_time": "2022-10-25T20:26:21.270Z"
   },
   {
    "duration": 25,
    "start_time": "2022-10-25T20:26:21.296Z"
   },
   {
    "duration": 31,
    "start_time": "2022-10-25T20:26:21.325Z"
   },
   {
    "duration": 34,
    "start_time": "2022-10-25T20:26:21.358Z"
   },
   {
    "duration": 8,
    "start_time": "2022-10-25T20:26:21.394Z"
   },
   {
    "duration": 39,
    "start_time": "2022-10-25T20:26:21.404Z"
   },
   {
    "duration": 5400,
    "start_time": "2022-10-25T20:26:21.445Z"
   },
   {
    "duration": 41,
    "start_time": "2022-10-25T20:26:26.847Z"
   },
   {
    "duration": 79821,
    "start_time": "2022-10-25T20:26:26.890Z"
   },
   {
    "duration": 488,
    "start_time": "2022-10-25T20:27:46.712Z"
   },
   {
    "duration": 123,
    "start_time": "2022-10-25T20:27:47.202Z"
   },
   {
    "duration": 105,
    "start_time": "2022-10-25T20:27:47.329Z"
   },
   {
    "duration": 14,
    "start_time": "2022-10-25T20:27:47.436Z"
   },
   {
    "duration": 12,
    "start_time": "2022-10-25T20:27:47.451Z"
   },
   {
    "duration": 14,
    "start_time": "2022-10-25T20:27:47.465Z"
   },
   {
    "duration": 67,
    "start_time": "2022-10-25T20:27:47.481Z"
   },
   {
    "duration": 21,
    "start_time": "2022-10-25T20:27:47.550Z"
   },
   {
    "duration": 15,
    "start_time": "2022-10-25T20:27:47.573Z"
   },
   {
    "duration": 39,
    "start_time": "2022-10-25T20:27:47.590Z"
   },
   {
    "duration": 4,
    "start_time": "2022-10-25T20:27:47.631Z"
   },
   {
    "duration": 3,
    "start_time": "2022-10-25T20:27:47.639Z"
   },
   {
    "duration": 950797,
    "start_time": "2022-10-25T20:27:47.644Z"
   },
   {
    "duration": 0,
    "start_time": "2022-10-25T20:43:38.443Z"
   },
   {
    "duration": 0,
    "start_time": "2022-10-25T20:43:38.445Z"
   },
   {
    "duration": 0,
    "start_time": "2022-10-25T20:43:38.447Z"
   },
   {
    "duration": 0,
    "start_time": "2022-10-25T20:43:38.449Z"
   },
   {
    "duration": 0,
    "start_time": "2022-10-25T20:43:38.451Z"
   },
   {
    "duration": 0,
    "start_time": "2022-10-25T20:43:38.452Z"
   },
   {
    "duration": 0,
    "start_time": "2022-10-25T20:43:38.454Z"
   },
   {
    "duration": 0,
    "start_time": "2022-10-25T20:43:38.456Z"
   },
   {
    "duration": 0,
    "start_time": "2022-10-25T20:43:38.457Z"
   },
   {
    "duration": 0,
    "start_time": "2022-10-25T20:43:38.459Z"
   },
   {
    "duration": 0,
    "start_time": "2022-10-25T20:43:38.460Z"
   },
   {
    "duration": 0,
    "start_time": "2022-10-25T20:43:38.462Z"
   },
   {
    "duration": 0,
    "start_time": "2022-10-25T20:43:38.464Z"
   },
   {
    "duration": 0,
    "start_time": "2022-10-25T20:43:38.465Z"
   },
   {
    "duration": 0,
    "start_time": "2022-10-25T20:43:38.467Z"
   },
   {
    "duration": 0,
    "start_time": "2022-10-25T20:43:38.468Z"
   },
   {
    "duration": 0,
    "start_time": "2022-10-25T20:43:38.470Z"
   },
   {
    "duration": 0,
    "start_time": "2022-10-25T20:43:38.472Z"
   },
   {
    "duration": 0,
    "start_time": "2022-10-25T20:43:38.473Z"
   },
   {
    "duration": 0,
    "start_time": "2022-10-25T20:43:38.474Z"
   },
   {
    "duration": 0,
    "start_time": "2022-10-25T20:43:38.524Z"
   },
   {
    "duration": 0,
    "start_time": "2022-10-25T20:43:38.526Z"
   },
   {
    "duration": 0,
    "start_time": "2022-10-25T20:43:38.527Z"
   },
   {
    "duration": 0,
    "start_time": "2022-10-25T20:43:38.529Z"
   },
   {
    "duration": 0,
    "start_time": "2022-10-25T20:43:38.530Z"
   },
   {
    "duration": 0,
    "start_time": "2022-10-25T20:43:38.531Z"
   },
   {
    "duration": 0,
    "start_time": "2022-10-25T20:43:38.532Z"
   },
   {
    "duration": 0,
    "start_time": "2022-10-25T20:43:38.534Z"
   },
   {
    "duration": 0,
    "start_time": "2022-10-25T20:43:38.535Z"
   },
   {
    "duration": 0,
    "start_time": "2022-10-25T20:43:38.536Z"
   },
   {
    "duration": 0,
    "start_time": "2022-10-25T20:43:38.537Z"
   },
   {
    "duration": 0,
    "start_time": "2022-10-25T20:43:38.538Z"
   },
   {
    "duration": 0,
    "start_time": "2022-10-25T20:43:38.539Z"
   },
   {
    "duration": 1,
    "start_time": "2022-10-25T20:43:38.540Z"
   },
   {
    "duration": 0,
    "start_time": "2022-10-25T20:43:38.542Z"
   },
   {
    "duration": 0,
    "start_time": "2022-10-25T20:43:38.543Z"
   },
   {
    "duration": 0,
    "start_time": "2022-10-25T20:43:38.544Z"
   },
   {
    "duration": 0,
    "start_time": "2022-10-25T20:43:38.545Z"
   },
   {
    "duration": 0,
    "start_time": "2022-10-25T20:43:38.546Z"
   },
   {
    "duration": 0,
    "start_time": "2022-10-25T20:43:38.547Z"
   },
   {
    "duration": 0,
    "start_time": "2022-10-25T20:43:38.548Z"
   },
   {
    "duration": 0,
    "start_time": "2022-10-25T20:43:38.549Z"
   },
   {
    "duration": 5,
    "start_time": "2022-10-25T20:43:59.715Z"
   },
   {
    "duration": 4,
    "start_time": "2022-10-25T20:44:00.376Z"
   },
   {
    "duration": 138284,
    "start_time": "2022-10-25T20:44:01.161Z"
   },
   {
    "duration": 4,
    "start_time": "2022-10-25T20:46:27.108Z"
   },
   {
    "duration": 4,
    "start_time": "2022-10-25T20:46:27.549Z"
   },
   {
    "duration": 144595,
    "start_time": "2022-10-25T20:46:27.961Z"
   },
   {
    "duration": 0,
    "start_time": "2022-10-25T20:48:52.558Z"
   },
   {
    "duration": 0,
    "start_time": "2022-10-25T20:48:52.559Z"
   },
   {
    "duration": 17,
    "start_time": "2022-10-25T20:48:56.696Z"
   },
   {
    "duration": 8,
    "start_time": "2022-10-25T20:48:57.581Z"
   },
   {
    "duration": 4,
    "start_time": "2022-10-25T20:48:58.622Z"
   },
   {
    "duration": 43857,
    "start_time": "2022-10-25T20:48:59.713Z"
   },
   {
    "duration": 4,
    "start_time": "2022-10-25T20:49:56.140Z"
   },
   {
    "duration": 4,
    "start_time": "2022-10-25T20:51:42.644Z"
   },
   {
    "duration": 3,
    "start_time": "2022-10-25T20:51:43.083Z"
   },
   {
    "duration": 82976,
    "start_time": "2022-10-25T20:51:43.692Z"
   },
   {
    "duration": 6,
    "start_time": "2022-10-25T20:53:09.794Z"
   },
   {
    "duration": 3,
    "start_time": "2022-10-25T20:54:25.116Z"
   },
   {
    "duration": 5,
    "start_time": "2022-10-25T20:54:25.557Z"
   },
   {
    "duration": 24737,
    "start_time": "2022-10-25T20:54:26.416Z"
   },
   {
    "duration": 3,
    "start_time": "2022-10-25T20:55:13.194Z"
   },
   {
    "duration": 3,
    "start_time": "2022-10-25T20:55:13.659Z"
   },
   {
    "duration": 63417,
    "start_time": "2022-10-25T20:55:14.149Z"
   },
   {
    "duration": 4,
    "start_time": "2022-10-25T20:56:17.568Z"
   },
   {
    "duration": 3,
    "start_time": "2022-10-25T21:14:46.054Z"
   },
   {
    "duration": 3,
    "start_time": "2022-10-25T21:14:46.171Z"
   },
   {
    "duration": 43326,
    "start_time": "2022-10-25T21:14:46.648Z"
   },
   {
    "duration": 5,
    "start_time": "2022-10-25T21:15:29.976Z"
   },
   {
    "duration": 1171,
    "start_time": "2022-10-25T21:21:41.268Z"
   },
   {
    "duration": 43,
    "start_time": "2022-10-25T21:21:42.441Z"
   },
   {
    "duration": 13,
    "start_time": "2022-10-25T21:21:42.486Z"
   },
   {
    "duration": 20,
    "start_time": "2022-10-25T21:21:42.501Z"
   },
   {
    "duration": 7,
    "start_time": "2022-10-25T21:21:42.523Z"
   },
   {
    "duration": 7,
    "start_time": "2022-10-25T21:21:42.532Z"
   },
   {
    "duration": 5,
    "start_time": "2022-10-25T21:21:42.540Z"
   },
   {
    "duration": 7,
    "start_time": "2022-10-25T21:21:42.547Z"
   },
   {
    "duration": 6,
    "start_time": "2022-10-25T21:21:42.556Z"
   },
   {
    "duration": 10,
    "start_time": "2022-10-25T21:21:42.565Z"
   },
   {
    "duration": 5,
    "start_time": "2022-10-25T21:21:42.577Z"
   },
   {
    "duration": 45,
    "start_time": "2022-10-25T21:21:42.584Z"
   },
   {
    "duration": 4812,
    "start_time": "2022-10-25T21:21:42.630Z"
   },
   {
    "duration": 36,
    "start_time": "2022-10-25T21:21:47.444Z"
   },
   {
    "duration": 60569,
    "start_time": "2022-10-25T21:21:47.482Z"
   },
   {
    "duration": 378,
    "start_time": "2022-10-25T21:22:48.053Z"
   },
   {
    "duration": 26,
    "start_time": "2022-10-25T21:22:48.433Z"
   },
   {
    "duration": 105,
    "start_time": "2022-10-25T21:22:48.526Z"
   },
   {
    "duration": 11,
    "start_time": "2022-10-25T21:22:48.632Z"
   },
   {
    "duration": 12,
    "start_time": "2022-10-25T21:22:48.645Z"
   },
   {
    "duration": 18,
    "start_time": "2022-10-25T21:22:48.658Z"
   },
   {
    "duration": 63,
    "start_time": "2022-10-25T21:22:48.678Z"
   },
   {
    "duration": 19,
    "start_time": "2022-10-25T21:22:48.742Z"
   },
   {
    "duration": 13,
    "start_time": "2022-10-25T21:22:48.763Z"
   },
   {
    "duration": 11,
    "start_time": "2022-10-25T21:22:48.778Z"
   },
   {
    "duration": 3,
    "start_time": "2022-10-25T21:22:48.791Z"
   },
   {
    "duration": 3,
    "start_time": "2022-10-25T21:22:48.823Z"
   },
   {
    "duration": 44237,
    "start_time": "2022-10-25T21:22:48.830Z"
   },
   {
    "duration": 5,
    "start_time": "2022-10-25T21:23:33.069Z"
   },
   {
    "duration": 254,
    "start_time": "2022-10-25T21:23:33.075Z"
   },
   {
    "duration": 94,
    "start_time": "2022-10-25T21:23:33.331Z"
   },
   {
    "duration": 8,
    "start_time": "2022-10-25T21:23:33.428Z"
   },
   {
    "duration": 192,
    "start_time": "2022-10-25T21:23:33.438Z"
   },
   {
    "duration": 0,
    "start_time": "2022-10-25T21:23:33.632Z"
   },
   {
    "duration": 0,
    "start_time": "2022-10-25T21:23:33.633Z"
   },
   {
    "duration": 0,
    "start_time": "2022-10-25T21:23:33.634Z"
   },
   {
    "duration": 0,
    "start_time": "2022-10-25T21:23:33.636Z"
   },
   {
    "duration": 0,
    "start_time": "2022-10-25T21:23:33.637Z"
   },
   {
    "duration": 0,
    "start_time": "2022-10-25T21:23:33.637Z"
   },
   {
    "duration": 0,
    "start_time": "2022-10-25T21:23:33.639Z"
   },
   {
    "duration": 0,
    "start_time": "2022-10-25T21:23:33.640Z"
   },
   {
    "duration": 0,
    "start_time": "2022-10-25T21:23:33.641Z"
   },
   {
    "duration": 0,
    "start_time": "2022-10-25T21:23:33.642Z"
   },
   {
    "duration": 0,
    "start_time": "2022-10-25T21:23:33.643Z"
   },
   {
    "duration": 0,
    "start_time": "2022-10-25T21:23:33.644Z"
   },
   {
    "duration": 0,
    "start_time": "2022-10-25T21:23:33.645Z"
   },
   {
    "duration": 0,
    "start_time": "2022-10-25T21:23:33.645Z"
   },
   {
    "duration": 0,
    "start_time": "2022-10-25T21:23:33.647Z"
   },
   {
    "duration": 0,
    "start_time": "2022-10-25T21:23:33.648Z"
   },
   {
    "duration": 0,
    "start_time": "2022-10-25T21:23:33.649Z"
   },
   {
    "duration": 0,
    "start_time": "2022-10-25T21:23:33.650Z"
   },
   {
    "duration": 0,
    "start_time": "2022-10-25T21:23:33.651Z"
   },
   {
    "duration": 0,
    "start_time": "2022-10-25T21:23:33.652Z"
   },
   {
    "duration": 0,
    "start_time": "2022-10-25T21:23:33.653Z"
   },
   {
    "duration": 0,
    "start_time": "2022-10-25T21:23:33.655Z"
   },
   {
    "duration": 0,
    "start_time": "2022-10-25T21:23:33.655Z"
   },
   {
    "duration": 0,
    "start_time": "2022-10-25T21:23:33.656Z"
   },
   {
    "duration": 0,
    "start_time": "2022-10-25T21:23:33.657Z"
   },
   {
    "duration": 1,
    "start_time": "2022-10-25T21:23:33.658Z"
   },
   {
    "duration": 0,
    "start_time": "2022-10-25T21:23:33.659Z"
   },
   {
    "duration": 0,
    "start_time": "2022-10-25T21:23:33.661Z"
   },
   {
    "duration": 0,
    "start_time": "2022-10-25T21:23:33.662Z"
   },
   {
    "duration": 0,
    "start_time": "2022-10-25T21:23:33.663Z"
   },
   {
    "duration": 0,
    "start_time": "2022-10-25T21:23:33.664Z"
   },
   {
    "duration": 0,
    "start_time": "2022-10-25T21:23:33.665Z"
   },
   {
    "duration": 0,
    "start_time": "2022-10-25T21:23:33.666Z"
   },
   {
    "duration": 0,
    "start_time": "2022-10-25T21:23:33.667Z"
   },
   {
    "duration": 0,
    "start_time": "2022-10-25T21:23:33.668Z"
   },
   {
    "duration": 0,
    "start_time": "2022-10-25T21:23:33.723Z"
   },
   {
    "duration": 0,
    "start_time": "2022-10-25T21:23:33.725Z"
   },
   {
    "duration": 54444,
    "start_time": "2022-10-25T21:23:54.183Z"
   },
   {
    "duration": 53660,
    "start_time": "2022-10-25T21:24:50.766Z"
   },
   {
    "duration": 5,
    "start_time": "2022-10-25T21:25:44.523Z"
   },
   {
    "duration": 203,
    "start_time": "2022-10-25T21:25:44.530Z"
   },
   {
    "duration": 5,
    "start_time": "2022-10-25T21:25:44.826Z"
   },
   {
    "duration": 100,
    "start_time": "2022-10-25T21:25:44.833Z"
   },
   {
    "duration": 33890,
    "start_time": "2022-10-25T21:25:44.935Z"
   },
   {
    "duration": 96,
    "start_time": "2022-10-25T21:26:18.828Z"
   },
   {
    "duration": 99,
    "start_time": "2022-10-25T21:26:18.926Z"
   },
   {
    "duration": 4309,
    "start_time": "2022-10-25T21:26:19.028Z"
   },
   {
    "duration": 42,
    "start_time": "2022-10-25T21:26:23.340Z"
   },
   {
    "duration": 5142,
    "start_time": "2022-10-25T21:26:23.384Z"
   },
   {
    "duration": 70,
    "start_time": "2022-10-25T21:26:28.527Z"
   },
   {
    "duration": 2144,
    "start_time": "2022-10-25T21:26:28.599Z"
   },
   {
    "duration": 79,
    "start_time": "2022-10-25T21:26:30.745Z"
   },
   {
    "duration": 140341,
    "start_time": "2022-10-25T21:26:30.826Z"
   },
   {
    "duration": 432,
    "start_time": "2022-10-25T21:28:51.169Z"
   },
   {
    "duration": 0,
    "start_time": "2022-10-25T21:28:51.603Z"
   },
   {
    "duration": 0,
    "start_time": "2022-10-25T21:28:51.604Z"
   },
   {
    "duration": 0,
    "start_time": "2022-10-25T21:28:51.605Z"
   },
   {
    "duration": 0,
    "start_time": "2022-10-25T21:28:51.606Z"
   },
   {
    "duration": 0,
    "start_time": "2022-10-25T21:28:51.607Z"
   },
   {
    "duration": 0,
    "start_time": "2022-10-25T21:28:51.608Z"
   },
   {
    "duration": 0,
    "start_time": "2022-10-25T21:28:51.609Z"
   },
   {
    "duration": 0,
    "start_time": "2022-10-25T21:28:51.610Z"
   },
   {
    "duration": 0,
    "start_time": "2022-10-25T21:28:51.624Z"
   },
   {
    "duration": 0,
    "start_time": "2022-10-25T21:28:51.626Z"
   },
   {
    "duration": 0,
    "start_time": "2022-10-25T21:28:51.627Z"
   },
   {
    "duration": 0,
    "start_time": "2022-10-25T21:28:51.629Z"
   },
   {
    "duration": 0,
    "start_time": "2022-10-25T21:28:51.630Z"
   },
   {
    "duration": 0,
    "start_time": "2022-10-25T21:28:51.632Z"
   },
   {
    "duration": 0,
    "start_time": "2022-10-25T21:28:51.633Z"
   },
   {
    "duration": 0,
    "start_time": "2022-10-25T21:28:51.634Z"
   },
   {
    "duration": 0,
    "start_time": "2022-10-25T21:28:51.635Z"
   },
   {
    "duration": 0,
    "start_time": "2022-10-25T21:28:51.636Z"
   },
   {
    "duration": 0,
    "start_time": "2022-10-25T21:28:51.638Z"
   },
   {
    "duration": 0,
    "start_time": "2022-10-25T21:28:51.639Z"
   },
   {
    "duration": 0,
    "start_time": "2022-10-25T21:28:51.640Z"
   },
   {
    "duration": 0,
    "start_time": "2022-10-25T21:28:51.641Z"
   },
   {
    "duration": 425,
    "start_time": "2022-10-25T21:29:44.738Z"
   },
   {
    "duration": 194659,
    "start_time": "2022-10-25T21:29:48.202Z"
   },
   {
    "duration": 635,
    "start_time": "2022-10-25T21:33:02.863Z"
   },
   {
    "duration": 0,
    "start_time": "2022-10-25T21:33:03.500Z"
   },
   {
    "duration": 0,
    "start_time": "2022-10-25T21:33:03.502Z"
   },
   {
    "duration": 0,
    "start_time": "2022-10-25T21:33:03.503Z"
   },
   {
    "duration": 0,
    "start_time": "2022-10-25T21:33:03.505Z"
   },
   {
    "duration": 0,
    "start_time": "2022-10-25T21:33:03.507Z"
   },
   {
    "duration": 0,
    "start_time": "2022-10-25T21:33:03.509Z"
   },
   {
    "duration": 0,
    "start_time": "2022-10-25T21:33:03.523Z"
   },
   {
    "duration": 0,
    "start_time": "2022-10-25T21:33:03.525Z"
   },
   {
    "duration": 0,
    "start_time": "2022-10-25T21:33:03.527Z"
   },
   {
    "duration": 0,
    "start_time": "2022-10-25T21:33:03.529Z"
   },
   {
    "duration": 0,
    "start_time": "2022-10-25T21:33:03.530Z"
   },
   {
    "duration": 0,
    "start_time": "2022-10-25T21:33:03.532Z"
   },
   {
    "duration": 0,
    "start_time": "2022-10-25T21:33:03.534Z"
   },
   {
    "duration": 0,
    "start_time": "2022-10-25T21:33:03.536Z"
   },
   {
    "duration": 0,
    "start_time": "2022-10-25T21:33:03.537Z"
   },
   {
    "duration": 0,
    "start_time": "2022-10-25T21:33:03.539Z"
   },
   {
    "duration": 0,
    "start_time": "2022-10-25T21:33:03.541Z"
   },
   {
    "duration": 0,
    "start_time": "2022-10-25T21:33:03.542Z"
   },
   {
    "duration": 0,
    "start_time": "2022-10-25T21:33:03.544Z"
   },
   {
    "duration": 0,
    "start_time": "2022-10-25T21:33:03.545Z"
   },
   {
    "duration": 545,
    "start_time": "2022-10-25T21:33:32.116Z"
   },
   {
    "duration": 85551,
    "start_time": "2022-10-25T21:33:33.666Z"
   },
   {
    "duration": 419,
    "start_time": "2022-10-25T21:34:59.224Z"
   },
   {
    "duration": 0,
    "start_time": "2022-10-25T21:34:59.645Z"
   },
   {
    "duration": 0,
    "start_time": "2022-10-25T21:34:59.646Z"
   },
   {
    "duration": 0,
    "start_time": "2022-10-25T21:34:59.647Z"
   },
   {
    "duration": 0,
    "start_time": "2022-10-25T21:34:59.648Z"
   },
   {
    "duration": 0,
    "start_time": "2022-10-25T21:34:59.649Z"
   },
   {
    "duration": 0,
    "start_time": "2022-10-25T21:34:59.650Z"
   },
   {
    "duration": 0,
    "start_time": "2022-10-25T21:34:59.651Z"
   },
   {
    "duration": 0,
    "start_time": "2022-10-25T21:34:59.652Z"
   },
   {
    "duration": 0,
    "start_time": "2022-10-25T21:34:59.654Z"
   },
   {
    "duration": 0,
    "start_time": "2022-10-25T21:34:59.655Z"
   },
   {
    "duration": 1,
    "start_time": "2022-10-25T21:34:59.655Z"
   },
   {
    "duration": 0,
    "start_time": "2022-10-25T21:34:59.656Z"
   },
   {
    "duration": 0,
    "start_time": "2022-10-25T21:34:59.657Z"
   },
   {
    "duration": 0,
    "start_time": "2022-10-25T21:34:59.658Z"
   },
   {
    "duration": 0,
    "start_time": "2022-10-25T21:34:59.659Z"
   },
   {
    "duration": 0,
    "start_time": "2022-10-25T21:34:59.660Z"
   },
   {
    "duration": 0,
    "start_time": "2022-10-25T21:34:59.661Z"
   },
   {
    "duration": 0,
    "start_time": "2022-10-25T21:34:59.663Z"
   },
   {
    "duration": 400,
    "start_time": "2022-10-25T21:35:50.455Z"
   },
   {
    "duration": 809,
    "start_time": "2022-10-25T21:35:52.215Z"
   },
   {
    "duration": 405,
    "start_time": "2022-10-25T21:35:53.026Z"
   },
   {
    "duration": 502,
    "start_time": "2022-10-25T21:35:53.434Z"
   },
   {
    "duration": 106,
    "start_time": "2022-10-25T21:35:54.026Z"
   },
   {
    "duration": 22,
    "start_time": "2022-10-25T21:35:54.133Z"
   },
   {
    "duration": 22,
    "start_time": "2022-10-25T21:35:54.156Z"
   },
   {
    "duration": 184,
    "start_time": "2022-10-25T21:35:54.180Z"
   },
   {
    "duration": 0,
    "start_time": "2022-10-25T21:35:54.366Z"
   },
   {
    "duration": 0,
    "start_time": "2022-10-25T21:35:54.368Z"
   },
   {
    "duration": 15,
    "start_time": "2022-10-25T21:35:54.485Z"
   },
   {
    "duration": 12,
    "start_time": "2022-10-25T21:35:54.625Z"
   },
   {
    "duration": 10,
    "start_time": "2022-10-25T21:35:54.824Z"
   },
   {
    "duration": 8,
    "start_time": "2022-10-25T21:35:55.457Z"
   },
   {
    "duration": 10,
    "start_time": "2022-10-25T21:35:55.568Z"
   },
   {
    "duration": 11,
    "start_time": "2022-10-25T21:35:55.714Z"
   },
   {
    "duration": 26,
    "start_time": "2022-10-25T21:35:55.839Z"
   },
   {
    "duration": 31,
    "start_time": "2022-10-25T21:35:56.387Z"
   },
   {
    "duration": 25,
    "start_time": "2022-10-25T21:35:56.547Z"
   },
   {
    "duration": 1102,
    "start_time": "2022-10-25T21:36:12.271Z"
   },
   {
    "duration": 49,
    "start_time": "2022-10-25T21:36:13.375Z"
   },
   {
    "duration": 15,
    "start_time": "2022-10-25T21:36:13.426Z"
   },
   {
    "duration": 20,
    "start_time": "2022-10-25T21:36:13.443Z"
   },
   {
    "duration": 7,
    "start_time": "2022-10-25T21:36:13.465Z"
   },
   {
    "duration": 5,
    "start_time": "2022-10-25T21:36:13.473Z"
   },
   {
    "duration": 8,
    "start_time": "2022-10-25T21:36:13.479Z"
   },
   {
    "duration": 36,
    "start_time": "2022-10-25T21:36:13.488Z"
   },
   {
    "duration": 7,
    "start_time": "2022-10-25T21:36:13.526Z"
   },
   {
    "duration": 10,
    "start_time": "2022-10-25T21:36:13.535Z"
   },
   {
    "duration": 5,
    "start_time": "2022-10-25T21:36:13.547Z"
   },
   {
    "duration": 9,
    "start_time": "2022-10-25T21:36:13.553Z"
   },
   {
    "duration": 1200,
    "start_time": "2022-10-25T21:36:13.564Z"
   },
   {
    "duration": 32,
    "start_time": "2022-10-25T21:36:14.767Z"
   },
   {
    "duration": 89693,
    "start_time": "2022-10-25T21:36:14.801Z"
   },
   {
    "duration": 392,
    "start_time": "2022-10-25T21:37:44.496Z"
   },
   {
    "duration": 37,
    "start_time": "2022-10-25T21:37:44.890Z"
   },
   {
    "duration": 95,
    "start_time": "2022-10-25T21:37:44.930Z"
   },
   {
    "duration": 99,
    "start_time": "2022-10-25T21:37:45.027Z"
   },
   {
    "duration": 21,
    "start_time": "2022-10-25T21:37:45.128Z"
   },
   {
    "duration": 20,
    "start_time": "2022-10-25T21:37:45.151Z"
   },
   {
    "duration": 25,
    "start_time": "2022-10-25T21:37:45.173Z"
   },
   {
    "duration": 42,
    "start_time": "2022-10-25T21:37:45.200Z"
   },
   {
    "duration": 14,
    "start_time": "2022-10-25T21:37:45.243Z"
   },
   {
    "duration": 14,
    "start_time": "2022-10-25T21:37:45.259Z"
   },
   {
    "duration": 3,
    "start_time": "2022-10-25T21:37:45.275Z"
   },
   {
    "duration": 6,
    "start_time": "2022-10-25T21:37:45.279Z"
   },
   {
    "duration": 47172,
    "start_time": "2022-10-25T21:37:45.287Z"
   },
   {
    "duration": 5,
    "start_time": "2022-10-25T21:38:32.460Z"
   },
   {
    "duration": 263,
    "start_time": "2022-10-25T21:38:32.466Z"
   },
   {
    "duration": 94,
    "start_time": "2022-10-25T21:38:32.732Z"
   },
   {
    "duration": 103,
    "start_time": "2022-10-25T21:38:32.828Z"
   },
   {
    "duration": 65996,
    "start_time": "2022-10-25T21:38:32.933Z"
   },
   {
    "duration": 95,
    "start_time": "2022-10-25T21:39:38.931Z"
   },
   {
    "duration": 204,
    "start_time": "2022-10-25T21:39:39.029Z"
   },
   {
    "duration": 4,
    "start_time": "2022-10-25T21:39:39.326Z"
   },
   {
    "duration": 93,
    "start_time": "2022-10-25T21:39:39.332Z"
   },
   {
    "duration": 39397,
    "start_time": "2022-10-25T21:39:39.426Z"
   },
   {
    "duration": 6,
    "start_time": "2022-10-25T21:40:18.826Z"
   },
   {
    "duration": 104,
    "start_time": "2022-10-25T21:40:18.924Z"
   },
   {
    "duration": 1430,
    "start_time": "2022-10-25T21:40:19.123Z"
   },
   {
    "duration": 44,
    "start_time": "2022-10-25T21:40:20.555Z"
   },
   {
    "duration": 1743,
    "start_time": "2022-10-25T21:40:20.601Z"
   },
   {
    "duration": 40,
    "start_time": "2022-10-25T21:40:22.345Z"
   },
   {
    "duration": 796,
    "start_time": "2022-10-25T21:40:22.387Z"
   },
   {
    "duration": 40,
    "start_time": "2022-10-25T21:40:23.185Z"
   },
   {
    "duration": 96128,
    "start_time": "2022-10-25T21:40:23.227Z"
   },
   {
    "duration": 399,
    "start_time": "2022-10-25T21:41:59.356Z"
   },
   {
    "duration": 167453,
    "start_time": "2022-10-25T21:41:59.757Z"
   },
   {
    "duration": 566,
    "start_time": "2022-10-25T21:44:47.213Z"
   },
   {
    "duration": 83006,
    "start_time": "2022-10-25T21:44:47.781Z"
   },
   {
    "duration": 391,
    "start_time": "2022-10-25T21:46:10.789Z"
   },
   {
    "duration": 544,
    "start_time": "2022-10-25T21:46:11.182Z"
   },
   {
    "duration": 995,
    "start_time": "2022-10-25T21:46:11.729Z"
   },
   {
    "duration": 901,
    "start_time": "2022-10-25T21:46:12.727Z"
   },
   {
    "duration": 108,
    "start_time": "2022-10-25T21:46:13.631Z"
   },
   {
    "duration": 16,
    "start_time": "2022-10-25T21:46:13.741Z"
   },
   {
    "duration": 15,
    "start_time": "2022-10-25T21:46:13.759Z"
   },
   {
    "duration": 277,
    "start_time": "2022-10-25T21:46:13.775Z"
   },
   {
    "duration": 0,
    "start_time": "2022-10-25T21:46:14.053Z"
   },
   {
    "duration": 0,
    "start_time": "2022-10-25T21:46:14.055Z"
   },
   {
    "duration": 0,
    "start_time": "2022-10-25T21:46:14.055Z"
   },
   {
    "duration": 0,
    "start_time": "2022-10-25T21:46:14.056Z"
   },
   {
    "duration": 0,
    "start_time": "2022-10-25T21:46:14.057Z"
   },
   {
    "duration": 0,
    "start_time": "2022-10-25T21:46:14.058Z"
   },
   {
    "duration": 0,
    "start_time": "2022-10-25T21:46:14.059Z"
   },
   {
    "duration": 0,
    "start_time": "2022-10-25T21:46:14.061Z"
   },
   {
    "duration": 0,
    "start_time": "2022-10-25T21:46:14.061Z"
   },
   {
    "duration": 0,
    "start_time": "2022-10-25T21:46:14.064Z"
   },
   {
    "duration": 0,
    "start_time": "2022-10-25T21:46:14.065Z"
   },
   {
    "duration": 8,
    "start_time": "2022-10-25T21:47:39.737Z"
   },
   {
    "duration": 1207,
    "start_time": "2022-10-25T21:49:28.673Z"
   },
   {
    "duration": 43,
    "start_time": "2022-10-25T21:49:29.883Z"
   },
   {
    "duration": 13,
    "start_time": "2022-10-25T21:49:29.928Z"
   },
   {
    "duration": 21,
    "start_time": "2022-10-25T21:49:29.943Z"
   },
   {
    "duration": 8,
    "start_time": "2022-10-25T21:49:29.966Z"
   },
   {
    "duration": 4,
    "start_time": "2022-10-25T21:49:29.976Z"
   },
   {
    "duration": 43,
    "start_time": "2022-10-25T21:49:29.982Z"
   },
   {
    "duration": 6,
    "start_time": "2022-10-25T21:49:30.027Z"
   },
   {
    "duration": 27,
    "start_time": "2022-10-25T21:49:30.035Z"
   },
   {
    "duration": 29,
    "start_time": "2022-10-25T21:49:30.064Z"
   },
   {
    "duration": 19,
    "start_time": "2022-10-25T21:49:30.095Z"
   },
   {
    "duration": 28,
    "start_time": "2022-10-25T21:49:30.116Z"
   },
   {
    "duration": 1299,
    "start_time": "2022-10-25T21:49:30.146Z"
   },
   {
    "duration": 35,
    "start_time": "2022-10-25T21:49:31.448Z"
   },
   {
    "duration": 91256,
    "start_time": "2022-10-25T21:49:31.484Z"
   },
   {
    "duration": 377,
    "start_time": "2022-10-25T21:51:02.742Z"
   },
   {
    "duration": 24,
    "start_time": "2022-10-25T21:51:03.124Z"
   },
   {
    "duration": 79,
    "start_time": "2022-10-25T21:51:03.151Z"
   },
   {
    "duration": 115,
    "start_time": "2022-10-25T21:51:03.232Z"
   },
   {
    "duration": 20,
    "start_time": "2022-10-25T21:51:03.349Z"
   },
   {
    "duration": 16,
    "start_time": "2022-10-25T21:51:03.371Z"
   },
   {
    "duration": 35,
    "start_time": "2022-10-25T21:51:03.389Z"
   },
   {
    "duration": 26,
    "start_time": "2022-10-25T21:51:03.426Z"
   },
   {
    "duration": 14,
    "start_time": "2022-10-25T21:51:03.454Z"
   },
   {
    "duration": 19,
    "start_time": "2022-10-25T21:51:03.470Z"
   },
   {
    "duration": 26,
    "start_time": "2022-10-25T21:51:03.491Z"
   },
   {
    "duration": 22,
    "start_time": "2022-10-25T21:51:03.519Z"
   },
   {
    "duration": 59029,
    "start_time": "2022-10-25T21:51:03.543Z"
   },
   {
    "duration": 5,
    "start_time": "2022-10-25T21:52:02.574Z"
   },
   {
    "duration": 153,
    "start_time": "2022-10-25T21:52:02.581Z"
   },
   {
    "duration": 5,
    "start_time": "2022-10-25T21:52:02.826Z"
   },
   {
    "duration": 89,
    "start_time": "2022-10-25T21:52:02.835Z"
   },
   {
    "duration": 75605,
    "start_time": "2022-10-25T21:52:02.926Z"
   },
   {
    "duration": 98,
    "start_time": "2022-10-25T21:53:18.533Z"
   },
   {
    "duration": 290,
    "start_time": "2022-10-25T21:53:18.635Z"
   },
   {
    "duration": 4,
    "start_time": "2022-10-25T21:53:18.927Z"
   },
   {
    "duration": 90,
    "start_time": "2022-10-25T21:53:18.935Z"
   },
   {
    "duration": 45298,
    "start_time": "2022-10-25T21:53:19.028Z"
   },
   {
    "duration": 6,
    "start_time": "2022-10-25T21:54:04.328Z"
   },
   {
    "duration": 199,
    "start_time": "2022-10-25T21:54:04.425Z"
   },
   {
    "duration": 1953,
    "start_time": "2022-10-25T21:54:04.630Z"
   },
   {
    "duration": 45,
    "start_time": "2022-10-25T21:54:06.585Z"
   },
   {
    "duration": 1705,
    "start_time": "2022-10-25T21:54:06.631Z"
   },
   {
    "duration": 40,
    "start_time": "2022-10-25T21:54:08.338Z"
   },
   {
    "duration": 752,
    "start_time": "2022-10-25T21:54:08.379Z"
   },
   {
    "duration": 35,
    "start_time": "2022-10-25T21:54:09.133Z"
   },
   {
    "duration": 1095,
    "start_time": "2022-10-25T21:55:04.971Z"
   },
   {
    "duration": 43,
    "start_time": "2022-10-25T21:55:06.068Z"
   },
   {
    "duration": 14,
    "start_time": "2022-10-25T21:55:06.113Z"
   },
   {
    "duration": 20,
    "start_time": "2022-10-25T21:55:06.129Z"
   },
   {
    "duration": 8,
    "start_time": "2022-10-25T21:55:06.151Z"
   },
   {
    "duration": 7,
    "start_time": "2022-10-25T21:55:06.161Z"
   },
   {
    "duration": 13,
    "start_time": "2022-10-25T21:55:06.170Z"
   },
   {
    "duration": 7,
    "start_time": "2022-10-25T21:55:06.184Z"
   },
   {
    "duration": 7,
    "start_time": "2022-10-25T21:55:06.193Z"
   },
   {
    "duration": 12,
    "start_time": "2022-10-25T21:55:06.224Z"
   },
   {
    "duration": 6,
    "start_time": "2022-10-25T21:55:06.238Z"
   },
   {
    "duration": 12,
    "start_time": "2022-10-25T21:55:06.245Z"
   },
   {
    "duration": 1249,
    "start_time": "2022-10-25T21:55:06.259Z"
   },
   {
    "duration": 39,
    "start_time": "2022-10-25T21:55:07.512Z"
   },
   {
    "duration": 88764,
    "start_time": "2022-10-25T21:55:07.553Z"
   },
   {
    "duration": 357,
    "start_time": "2022-10-25T21:56:36.319Z"
   },
   {
    "duration": 55,
    "start_time": "2022-10-25T21:56:36.678Z"
   },
   {
    "duration": 9,
    "start_time": "2022-10-25T21:56:36.825Z"
   },
   {
    "duration": 8,
    "start_time": "2022-10-25T21:56:36.836Z"
   },
   {
    "duration": 9,
    "start_time": "2022-10-25T21:56:36.846Z"
   },
   {
    "duration": 13,
    "start_time": "2022-10-25T21:56:36.857Z"
   },
   {
    "duration": 72,
    "start_time": "2022-10-25T21:56:36.871Z"
   },
   {
    "duration": 18,
    "start_time": "2022-10-25T21:56:36.945Z"
   },
   {
    "duration": 13,
    "start_time": "2022-10-25T21:56:36.965Z"
   },
   {
    "duration": 11,
    "start_time": "2022-10-25T21:56:36.980Z"
   },
   {
    "duration": 33,
    "start_time": "2022-10-25T21:56:36.993Z"
   },
   {
    "duration": 4,
    "start_time": "2022-10-25T21:56:37.027Z"
   },
   {
    "duration": 62628,
    "start_time": "2022-10-25T21:56:37.033Z"
   },
   {
    "duration": 5,
    "start_time": "2022-10-25T21:57:39.662Z"
   },
   {
    "duration": 257,
    "start_time": "2022-10-25T21:57:39.668Z"
   },
   {
    "duration": 5,
    "start_time": "2022-10-25T21:57:39.927Z"
   },
   {
    "duration": 96,
    "start_time": "2022-10-25T21:57:39.934Z"
   },
   {
    "duration": 3417,
    "start_time": "2022-10-25T21:57:40.032Z"
   },
   {
    "duration": 0,
    "start_time": "2022-10-25T21:57:43.452Z"
   },
   {
    "duration": 0,
    "start_time": "2022-10-25T21:57:43.454Z"
   },
   {
    "duration": 0,
    "start_time": "2022-10-25T21:57:43.456Z"
   },
   {
    "duration": 0,
    "start_time": "2022-10-25T21:57:43.457Z"
   },
   {
    "duration": 0,
    "start_time": "2022-10-25T21:57:43.459Z"
   },
   {
    "duration": 0,
    "start_time": "2022-10-25T21:57:43.460Z"
   },
   {
    "duration": 0,
    "start_time": "2022-10-25T21:57:43.461Z"
   },
   {
    "duration": 0,
    "start_time": "2022-10-25T21:57:43.462Z"
   },
   {
    "duration": 0,
    "start_time": "2022-10-25T21:57:43.463Z"
   },
   {
    "duration": 0,
    "start_time": "2022-10-25T21:57:43.464Z"
   },
   {
    "duration": 0,
    "start_time": "2022-10-25T21:57:43.465Z"
   },
   {
    "duration": 0,
    "start_time": "2022-10-25T21:57:43.466Z"
   },
   {
    "duration": 0,
    "start_time": "2022-10-25T21:57:43.467Z"
   },
   {
    "duration": 0,
    "start_time": "2022-10-25T21:57:43.469Z"
   },
   {
    "duration": 0,
    "start_time": "2022-10-25T21:57:43.470Z"
   },
   {
    "duration": 0,
    "start_time": "2022-10-25T21:57:43.471Z"
   },
   {
    "duration": 0,
    "start_time": "2022-10-25T21:57:43.472Z"
   },
   {
    "duration": 0,
    "start_time": "2022-10-25T21:57:43.473Z"
   },
   {
    "duration": 0,
    "start_time": "2022-10-25T21:57:43.474Z"
   },
   {
    "duration": 0,
    "start_time": "2022-10-25T21:57:43.475Z"
   },
   {
    "duration": 0,
    "start_time": "2022-10-25T21:57:43.476Z"
   },
   {
    "duration": 0,
    "start_time": "2022-10-25T21:57:43.478Z"
   },
   {
    "duration": 0,
    "start_time": "2022-10-25T21:57:43.523Z"
   },
   {
    "duration": 0,
    "start_time": "2022-10-25T21:57:43.525Z"
   },
   {
    "duration": 0,
    "start_time": "2022-10-25T21:57:43.526Z"
   },
   {
    "duration": 0,
    "start_time": "2022-10-25T21:57:43.527Z"
   },
   {
    "duration": 0,
    "start_time": "2022-10-25T21:57:43.528Z"
   },
   {
    "duration": 0,
    "start_time": "2022-10-25T21:57:43.529Z"
   },
   {
    "duration": 0,
    "start_time": "2022-10-25T21:57:43.531Z"
   },
   {
    "duration": 0,
    "start_time": "2022-10-25T21:57:43.532Z"
   },
   {
    "duration": 0,
    "start_time": "2022-10-25T21:57:43.533Z"
   },
   {
    "duration": 0,
    "start_time": "2022-10-25T21:57:43.534Z"
   },
   {
    "duration": 0,
    "start_time": "2022-10-25T21:57:43.536Z"
   },
   {
    "duration": 0,
    "start_time": "2022-10-25T21:57:43.538Z"
   },
   {
    "duration": 0,
    "start_time": "2022-10-25T21:57:43.539Z"
   },
   {
    "duration": 0,
    "start_time": "2022-10-25T21:57:43.540Z"
   },
   {
    "duration": 0,
    "start_time": "2022-10-25T21:57:43.541Z"
   },
   {
    "duration": 129,
    "start_time": "2022-10-25T21:58:43.194Z"
   },
   {
    "duration": 4,
    "start_time": "2022-10-25T21:58:55.260Z"
   },
   {
    "duration": 59,
    "start_time": "2022-10-25T21:58:56.249Z"
   },
   {
    "duration": 3,
    "start_time": "2022-10-25T21:58:57.398Z"
   },
   {
    "duration": 3,
    "start_time": "2022-10-25T21:59:02.262Z"
   },
   {
    "duration": 75692,
    "start_time": "2022-10-25T21:59:04.036Z"
   },
   {
    "duration": 5,
    "start_time": "2022-10-25T22:00:41.823Z"
   },
   {
    "duration": 7130,
    "start_time": "2022-10-25T22:01:31.093Z"
   },
   {
    "duration": 3,
    "start_time": "2022-10-25T22:01:45.643Z"
   },
   {
    "duration": 3,
    "start_time": "2022-10-25T22:01:47.368Z"
   },
   {
    "duration": 56290,
    "start_time": "2022-10-25T22:01:48.337Z"
   },
   {
    "duration": 5,
    "start_time": "2022-10-25T22:02:47.279Z"
   },
   {
    "duration": 2929,
    "start_time": "2022-10-25T22:03:21.201Z"
   },
   {
    "duration": 1479,
    "start_time": "2022-10-25T22:03:27.591Z"
   },
   {
    "duration": 50,
    "start_time": "2022-10-25T22:03:31.854Z"
   },
   {
    "duration": 1679,
    "start_time": "2022-10-25T22:03:34.068Z"
   },
   {
    "duration": 38,
    "start_time": "2022-10-25T22:03:37.480Z"
   },
   {
    "duration": 733,
    "start_time": "2022-10-25T22:03:38.424Z"
   },
   {
    "duration": 34,
    "start_time": "2022-10-25T22:03:42.706Z"
   },
   {
    "duration": 97096,
    "start_time": "2022-10-25T22:04:09.644Z"
   },
   {
    "duration": 402,
    "start_time": "2022-10-25T22:06:03.796Z"
   },
   {
    "duration": 166408,
    "start_time": "2022-10-25T22:06:05.814Z"
   },
   {
    "duration": 561,
    "start_time": "2022-10-25T22:09:15.210Z"
   },
   {
    "duration": 80964,
    "start_time": "2022-10-25T22:09:18.012Z"
   },
   {
    "duration": 409,
    "start_time": "2022-10-25T22:10:52.728Z"
   },
   {
    "duration": 15,
    "start_time": "2022-10-25T22:10:58.559Z"
   },
   {
    "duration": 12,
    "start_time": "2022-10-25T22:11:12.986Z"
   },
   {
    "duration": 9,
    "start_time": "2022-10-25T22:11:18.339Z"
   },
   {
    "duration": 16,
    "start_time": "2022-10-25T22:11:26.535Z"
   },
   {
    "duration": 10,
    "start_time": "2022-10-25T22:11:31.960Z"
   },
   {
    "duration": 8,
    "start_time": "2022-10-25T22:11:35.991Z"
   },
   {
    "duration": 8,
    "start_time": "2022-10-25T22:11:41.161Z"
   },
   {
    "duration": 16,
    "start_time": "2022-10-25T22:11:50.539Z"
   },
   {
    "duration": 15,
    "start_time": "2022-10-25T22:11:55.353Z"
   },
   {
    "duration": 148,
    "start_time": "2022-10-25T22:11:57.693Z"
   },
   {
    "duration": 23,
    "start_time": "2022-10-25T22:12:08.620Z"
   },
   {
    "duration": 141,
    "start_time": "2022-10-25T22:12:14.575Z"
   },
   {
    "duration": 29,
    "start_time": "2022-10-25T22:12:26.896Z"
   },
   {
    "duration": 10,
    "start_time": "2022-10-25T22:12:27.700Z"
   },
   {
    "duration": 10,
    "start_time": "2022-10-25T22:12:30.124Z"
   },
   {
    "duration": 9,
    "start_time": "2022-10-25T22:12:31.092Z"
   },
   {
    "duration": 8,
    "start_time": "2022-10-25T22:12:32.418Z"
   },
   {
    "duration": 7,
    "start_time": "2022-10-25T22:12:33.681Z"
   },
   {
    "duration": 19,
    "start_time": "2022-10-25T22:12:35.205Z"
   },
   {
    "duration": 30,
    "start_time": "2022-10-25T22:12:36.070Z"
   },
   {
    "duration": 19,
    "start_time": "2022-10-25T22:12:37.036Z"
   },
   {
    "duration": 1143,
    "start_time": "2022-10-25T22:18:28.955Z"
   },
   {
    "duration": 44,
    "start_time": "2022-10-25T22:18:30.100Z"
   },
   {
    "duration": 13,
    "start_time": "2022-10-25T22:18:30.146Z"
   },
   {
    "duration": 22,
    "start_time": "2022-10-25T22:18:30.161Z"
   },
   {
    "duration": 8,
    "start_time": "2022-10-25T22:18:30.185Z"
   },
   {
    "duration": 5,
    "start_time": "2022-10-25T22:18:30.195Z"
   },
   {
    "duration": 25,
    "start_time": "2022-10-25T22:18:30.202Z"
   },
   {
    "duration": 15,
    "start_time": "2022-10-25T22:18:30.228Z"
   },
   {
    "duration": 7,
    "start_time": "2022-10-25T22:18:30.245Z"
   },
   {
    "duration": 11,
    "start_time": "2022-10-25T22:18:30.254Z"
   },
   {
    "duration": 6,
    "start_time": "2022-10-25T22:18:30.267Z"
   },
   {
    "duration": 11,
    "start_time": "2022-10-25T22:18:30.275Z"
   },
   {
    "duration": 1248,
    "start_time": "2022-10-25T22:18:30.288Z"
   },
   {
    "duration": 33,
    "start_time": "2022-10-25T22:18:31.539Z"
   },
   {
    "duration": 87924,
    "start_time": "2022-10-25T22:18:31.574Z"
   },
   {
    "duration": 361,
    "start_time": "2022-10-25T22:19:59.500Z"
   },
   {
    "duration": 67,
    "start_time": "2022-10-25T22:19:59.863Z"
   },
   {
    "duration": 98,
    "start_time": "2022-10-25T22:19:59.933Z"
   },
   {
    "duration": 9,
    "start_time": "2022-10-25T22:20:00.033Z"
   },
   {
    "duration": 23,
    "start_time": "2022-10-25T22:20:00.044Z"
   },
   {
    "duration": 29,
    "start_time": "2022-10-25T22:20:00.068Z"
   },
   {
    "duration": 36,
    "start_time": "2022-10-25T22:20:00.098Z"
   },
   {
    "duration": 19,
    "start_time": "2022-10-25T22:20:00.136Z"
   },
   {
    "duration": 23,
    "start_time": "2022-10-25T22:20:00.157Z"
   },
   {
    "duration": 17,
    "start_time": "2022-10-25T22:20:00.183Z"
   },
   {
    "duration": 39,
    "start_time": "2022-10-25T22:20:00.202Z"
   },
   {
    "duration": 26,
    "start_time": "2022-10-25T22:20:00.243Z"
   },
   {
    "duration": 52393,
    "start_time": "2022-10-25T22:20:00.271Z"
   },
   {
    "duration": 4,
    "start_time": "2022-10-25T22:20:52.666Z"
   },
   {
    "duration": 73,
    "start_time": "2022-10-25T22:20:52.671Z"
   },
   {
    "duration": 79,
    "start_time": "2022-10-25T22:20:52.746Z"
   },
   {
    "duration": 4,
    "start_time": "2022-10-25T22:20:52.828Z"
   },
   {
    "duration": 62370,
    "start_time": "2022-10-25T22:20:52.834Z"
   },
   {
    "duration": 0,
    "start_time": "2022-10-25T22:21:55.208Z"
   },
   {
    "duration": 0,
    "start_time": "2022-10-25T22:21:55.210Z"
   },
   {
    "duration": 0,
    "start_time": "2022-10-25T22:21:55.211Z"
   },
   {
    "duration": 0,
    "start_time": "2022-10-25T22:21:55.224Z"
   },
   {
    "duration": 0,
    "start_time": "2022-10-25T22:21:55.225Z"
   },
   {
    "duration": 0,
    "start_time": "2022-10-25T22:21:55.227Z"
   },
   {
    "duration": 0,
    "start_time": "2022-10-25T22:21:55.228Z"
   },
   {
    "duration": 0,
    "start_time": "2022-10-25T22:21:55.229Z"
   },
   {
    "duration": 0,
    "start_time": "2022-10-25T22:21:55.230Z"
   },
   {
    "duration": 0,
    "start_time": "2022-10-25T22:21:55.231Z"
   },
   {
    "duration": 0,
    "start_time": "2022-10-25T22:21:55.232Z"
   },
   {
    "duration": 0,
    "start_time": "2022-10-25T22:21:55.233Z"
   },
   {
    "duration": 0,
    "start_time": "2022-10-25T22:21:55.234Z"
   },
   {
    "duration": 0,
    "start_time": "2022-10-25T22:21:55.235Z"
   },
   {
    "duration": 0,
    "start_time": "2022-10-25T22:21:55.236Z"
   },
   {
    "duration": 0,
    "start_time": "2022-10-25T22:21:55.237Z"
   },
   {
    "duration": 0,
    "start_time": "2022-10-25T22:21:55.238Z"
   },
   {
    "duration": 0,
    "start_time": "2022-10-25T22:21:55.239Z"
   },
   {
    "duration": 0,
    "start_time": "2022-10-25T22:21:55.240Z"
   },
   {
    "duration": 0,
    "start_time": "2022-10-25T22:21:55.241Z"
   },
   {
    "duration": 0,
    "start_time": "2022-10-25T22:21:55.242Z"
   },
   {
    "duration": 0,
    "start_time": "2022-10-25T22:21:55.243Z"
   },
   {
    "duration": 0,
    "start_time": "2022-10-25T22:21:55.244Z"
   },
   {
    "duration": 0,
    "start_time": "2022-10-25T22:21:55.245Z"
   },
   {
    "duration": 0,
    "start_time": "2022-10-25T22:21:55.246Z"
   },
   {
    "duration": 0,
    "start_time": "2022-10-25T22:21:55.247Z"
   },
   {
    "duration": 0,
    "start_time": "2022-10-25T22:21:55.248Z"
   },
   {
    "duration": 0,
    "start_time": "2022-10-25T22:21:55.249Z"
   },
   {
    "duration": 0,
    "start_time": "2022-10-25T22:21:55.249Z"
   },
   {
    "duration": 0,
    "start_time": "2022-10-25T22:21:55.250Z"
   },
   {
    "duration": 0,
    "start_time": "2022-10-25T22:21:55.251Z"
   },
   {
    "duration": 0,
    "start_time": "2022-10-25T22:21:55.253Z"
   },
   {
    "duration": 0,
    "start_time": "2022-10-25T22:21:55.254Z"
   },
   {
    "duration": 0,
    "start_time": "2022-10-25T22:21:55.255Z"
   },
   {
    "duration": 0,
    "start_time": "2022-10-25T22:21:55.256Z"
   },
   {
    "duration": 0,
    "start_time": "2022-10-25T22:21:55.257Z"
   },
   {
    "duration": 0,
    "start_time": "2022-10-25T22:21:55.258Z"
   },
   {
    "duration": 1125,
    "start_time": "2022-10-25T22:29:00.756Z"
   },
   {
    "duration": 48,
    "start_time": "2022-10-25T22:29:01.884Z"
   },
   {
    "duration": 19,
    "start_time": "2022-10-25T22:29:01.935Z"
   },
   {
    "duration": 29,
    "start_time": "2022-10-25T22:29:01.957Z"
   },
   {
    "duration": 10,
    "start_time": "2022-10-25T22:29:01.989Z"
   },
   {
    "duration": 5,
    "start_time": "2022-10-25T22:29:02.024Z"
   },
   {
    "duration": 6,
    "start_time": "2022-10-25T22:29:02.031Z"
   },
   {
    "duration": 8,
    "start_time": "2022-10-25T22:29:02.038Z"
   },
   {
    "duration": 8,
    "start_time": "2022-10-25T22:29:02.047Z"
   },
   {
    "duration": 15,
    "start_time": "2022-10-25T22:29:02.057Z"
   },
   {
    "duration": 6,
    "start_time": "2022-10-25T22:29:02.075Z"
   },
   {
    "duration": 10,
    "start_time": "2022-10-25T22:29:02.083Z"
   },
   {
    "duration": 1261,
    "start_time": "2022-10-25T22:29:02.124Z"
   },
   {
    "duration": 42,
    "start_time": "2022-10-25T22:29:03.388Z"
   },
   {
    "duration": 89667,
    "start_time": "2022-10-25T22:29:03.431Z"
   },
   {
    "duration": 370,
    "start_time": "2022-10-25T22:30:33.100Z"
   },
   {
    "duration": 60,
    "start_time": "2022-10-25T22:30:33.471Z"
   },
   {
    "duration": 96,
    "start_time": "2022-10-25T22:30:33.534Z"
   },
   {
    "duration": 10,
    "start_time": "2022-10-25T22:30:33.632Z"
   },
   {
    "duration": 11,
    "start_time": "2022-10-25T22:30:33.643Z"
   },
   {
    "duration": 4,
    "start_time": "2022-10-25T22:30:33.656Z"
   },
   {
    "duration": 22,
    "start_time": "2022-10-25T22:30:33.661Z"
   },
   {
    "duration": 55,
    "start_time": "2022-10-25T22:30:33.684Z"
   },
   {
    "duration": 12,
    "start_time": "2022-10-25T22:30:33.740Z"
   },
   {
    "duration": 12,
    "start_time": "2022-10-25T22:30:33.753Z"
   },
   {
    "duration": 13,
    "start_time": "2022-10-25T22:30:33.767Z"
   },
   {
    "duration": 3,
    "start_time": "2022-10-25T22:30:33.781Z"
   },
   {
    "duration": 5,
    "start_time": "2022-10-25T22:30:33.786Z"
   },
   {
    "duration": 52958,
    "start_time": "2022-10-25T22:30:33.792Z"
   },
   {
    "duration": 6,
    "start_time": "2022-10-25T22:31:26.751Z"
   },
   {
    "duration": 80,
    "start_time": "2022-10-25T22:31:26.759Z"
   },
   {
    "duration": 81,
    "start_time": "2022-10-25T22:31:26.843Z"
   },
   {
    "duration": 4,
    "start_time": "2022-10-25T22:31:26.927Z"
   },
   {
    "duration": 78090,
    "start_time": "2022-10-25T22:31:26.934Z"
   },
   {
    "duration": 7,
    "start_time": "2022-10-25T22:32:45.026Z"
   },
   {
    "duration": 6704,
    "start_time": "2022-10-25T22:32:45.123Z"
   },
   {
    "duration": 3,
    "start_time": "2022-10-25T22:32:51.923Z"
   },
   {
    "duration": 8,
    "start_time": "2022-10-25T22:32:51.928Z"
   },
   {
    "duration": 47687,
    "start_time": "2022-10-25T22:32:51.938Z"
   },
   {
    "duration": 96,
    "start_time": "2022-10-25T22:33:39.630Z"
   },
   {
    "duration": 3596,
    "start_time": "2022-10-25T22:33:39.729Z"
   },
   {
    "duration": 1380,
    "start_time": "2022-10-25T22:33:43.326Z"
   },
   {
    "duration": 43,
    "start_time": "2022-10-25T22:33:44.708Z"
   },
   {
    "duration": 1702,
    "start_time": "2022-10-25T22:33:44.753Z"
   },
   {
    "duration": 39,
    "start_time": "2022-10-25T22:33:46.457Z"
   },
   {
    "duration": 762,
    "start_time": "2022-10-25T22:33:46.498Z"
   },
   {
    "duration": 36,
    "start_time": "2022-10-25T22:33:47.261Z"
   },
   {
    "duration": 96274,
    "start_time": "2022-10-25T22:33:47.299Z"
   },
   {
    "duration": 487,
    "start_time": "2022-10-25T22:35:23.574Z"
   },
   {
    "duration": 163651,
    "start_time": "2022-10-25T22:35:24.063Z"
   },
   {
    "duration": 638,
    "start_time": "2022-10-25T22:38:07.716Z"
   },
   {
    "duration": 80735,
    "start_time": "2022-10-25T22:38:08.356Z"
   },
   {
    "duration": 659,
    "start_time": "2022-10-25T22:39:29.093Z"
   },
   {
    "duration": 70,
    "start_time": "2022-10-25T22:39:29.755Z"
   },
   {
    "duration": 102,
    "start_time": "2022-10-25T22:39:29.828Z"
   },
   {
    "duration": 102,
    "start_time": "2022-10-25T22:39:29.932Z"
   },
   {
    "duration": 98,
    "start_time": "2022-10-25T22:39:30.127Z"
   },
   {
    "duration": 25,
    "start_time": "2022-10-25T22:39:30.227Z"
   },
   {
    "duration": 26,
    "start_time": "2022-10-25T22:39:30.254Z"
   },
   {
    "duration": 233,
    "start_time": "2022-10-25T22:39:30.282Z"
   },
   {
    "duration": 38,
    "start_time": "2022-10-25T22:39:30.518Z"
   },
   {
    "duration": 38,
    "start_time": "2022-10-25T22:39:30.558Z"
   },
   {
    "duration": 34,
    "start_time": "2022-10-25T22:39:30.598Z"
   },
   {
    "duration": 104,
    "start_time": "2022-10-25T22:39:30.634Z"
   },
   {
    "duration": 100,
    "start_time": "2022-10-25T22:39:30.825Z"
   },
   {
    "duration": 98,
    "start_time": "2022-10-25T22:39:30.928Z"
   },
   {
    "duration": 9,
    "start_time": "2022-10-25T22:39:31.027Z"
   },
   {
    "duration": 21,
    "start_time": "2022-10-25T22:39:31.038Z"
   },
   {
    "duration": 29,
    "start_time": "2022-10-25T22:39:31.061Z"
   },
   {
    "duration": 53,
    "start_time": "2022-10-25T22:39:31.091Z"
   },
   {
    "duration": 34,
    "start_time": "2022-10-25T22:39:31.145Z"
   },
   {
    "duration": 1149,
    "start_time": "2022-10-25T22:42:03.391Z"
   },
   {
    "duration": 42,
    "start_time": "2022-10-25T22:42:04.542Z"
   },
   {
    "duration": 13,
    "start_time": "2022-10-25T22:42:04.586Z"
   },
   {
    "duration": 20,
    "start_time": "2022-10-25T22:42:04.600Z"
   },
   {
    "duration": 7,
    "start_time": "2022-10-25T22:42:04.622Z"
   },
   {
    "duration": 4,
    "start_time": "2022-10-25T22:42:04.631Z"
   },
   {
    "duration": 5,
    "start_time": "2022-10-25T22:42:04.636Z"
   },
   {
    "duration": 7,
    "start_time": "2022-10-25T22:42:04.642Z"
   },
   {
    "duration": 6,
    "start_time": "2022-10-25T22:42:04.651Z"
   },
   {
    "duration": 10,
    "start_time": "2022-10-25T22:42:04.659Z"
   },
   {
    "duration": 5,
    "start_time": "2022-10-25T22:42:04.671Z"
   },
   {
    "duration": 10,
    "start_time": "2022-10-25T22:42:04.678Z"
   },
   {
    "duration": 1208,
    "start_time": "2022-10-25T22:42:04.690Z"
   },
   {
    "duration": 37,
    "start_time": "2022-10-25T22:42:05.901Z"
   },
   {
    "duration": 89737,
    "start_time": "2022-10-25T22:42:05.939Z"
   },
   {
    "duration": 361,
    "start_time": "2022-10-25T22:43:35.678Z"
   },
   {
    "duration": 25,
    "start_time": "2022-10-25T22:43:36.042Z"
   },
   {
    "duration": 100,
    "start_time": "2022-10-25T22:43:36.131Z"
   },
   {
    "duration": 19,
    "start_time": "2022-10-25T22:43:36.233Z"
   },
   {
    "duration": 22,
    "start_time": "2022-10-25T22:43:36.254Z"
   },
   {
    "duration": 22,
    "start_time": "2022-10-25T22:43:36.278Z"
   },
   {
    "duration": 37,
    "start_time": "2022-10-25T22:43:36.302Z"
   },
   {
    "duration": 25,
    "start_time": "2022-10-25T22:43:36.340Z"
   },
   {
    "duration": 15,
    "start_time": "2022-10-25T22:43:36.367Z"
   },
   {
    "duration": 27,
    "start_time": "2022-10-25T22:43:36.384Z"
   },
   {
    "duration": 28,
    "start_time": "2022-10-25T22:43:36.413Z"
   },
   {
    "duration": 15,
    "start_time": "2022-10-25T22:43:36.443Z"
   },
   {
    "duration": 19,
    "start_time": "2022-10-25T22:43:36.460Z"
   },
   {
    "duration": 52094,
    "start_time": "2022-10-25T22:43:36.481Z"
   },
   {
    "duration": 4,
    "start_time": "2022-10-25T22:44:28.577Z"
   },
   {
    "duration": 143,
    "start_time": "2022-10-25T22:44:28.583Z"
   },
   {
    "duration": 4,
    "start_time": "2022-10-25T22:44:28.728Z"
   },
   {
    "duration": 90,
    "start_time": "2022-10-25T22:44:28.734Z"
   },
   {
    "duration": 75500,
    "start_time": "2022-10-25T22:44:28.826Z"
   },
   {
    "duration": 93,
    "start_time": "2022-10-25T22:45:44.333Z"
   },
   {
    "duration": 6204,
    "start_time": "2022-10-25T22:45:44.427Z"
   },
   {
    "duration": 90,
    "start_time": "2022-10-25T22:45:50.635Z"
   },
   {
    "duration": 8,
    "start_time": "2022-10-25T22:45:50.727Z"
   },
   {
    "duration": 44489,
    "start_time": "2022-10-25T22:45:50.737Z"
   },
   {
    "duration": 5,
    "start_time": "2022-10-25T22:46:35.323Z"
   },
   {
    "duration": 3097,
    "start_time": "2022-10-25T22:46:35.332Z"
   },
   {
    "duration": 1561,
    "start_time": "2022-10-25T22:46:38.431Z"
   },
   {
    "duration": 51,
    "start_time": "2022-10-25T22:46:39.994Z"
   },
   {
    "duration": 1769,
    "start_time": "2022-10-25T22:46:40.047Z"
   },
   {
    "duration": 49,
    "start_time": "2022-10-25T22:46:41.819Z"
   },
   {
    "duration": 766,
    "start_time": "2022-10-25T22:46:41.871Z"
   },
   {
    "duration": 35,
    "start_time": "2022-10-25T22:46:42.639Z"
   },
   {
    "duration": 29473,
    "start_time": "2022-10-25T22:46:42.675Z"
   },
   {
    "duration": 259,
    "start_time": "2022-10-25T22:47:12.150Z"
   },
   {
    "duration": 162675,
    "start_time": "2022-10-25T22:47:12.410Z"
   },
   {
    "duration": 638,
    "start_time": "2022-10-25T22:49:55.086Z"
   },
   {
    "duration": 78980,
    "start_time": "2022-10-25T22:49:55.726Z"
   },
   {
    "duration": 616,
    "start_time": "2022-10-25T22:51:14.707Z"
   },
   {
    "duration": 11,
    "start_time": "2022-10-25T22:51:15.325Z"
   },
   {
    "duration": 185,
    "start_time": "2022-10-25T22:51:15.339Z"
   },
   {
    "duration": 102,
    "start_time": "2022-10-25T22:51:15.530Z"
   },
   {
    "duration": 193,
    "start_time": "2022-10-25T22:51:15.635Z"
   },
   {
    "duration": 9,
    "start_time": "2022-10-25T22:51:15.830Z"
   },
   {
    "duration": 6,
    "start_time": "2022-10-25T22:51:15.841Z"
   },
   {
    "duration": 18,
    "start_time": "2022-10-25T22:51:15.849Z"
   },
   {
    "duration": 62,
    "start_time": "2022-10-25T22:51:15.869Z"
   },
   {
    "duration": 33,
    "start_time": "2022-10-25T22:51:15.933Z"
   },
   {
    "duration": 155,
    "start_time": "2022-10-25T22:51:15.968Z"
   },
   {
    "duration": 100,
    "start_time": "2022-10-25T22:51:16.126Z"
   },
   {
    "duration": 102,
    "start_time": "2022-10-25T22:51:16.228Z"
   },
   {
    "duration": 93,
    "start_time": "2022-10-25T22:51:16.332Z"
   },
   {
    "duration": 99,
    "start_time": "2022-10-25T22:51:16.428Z"
   },
   {
    "duration": 8,
    "start_time": "2022-10-25T22:51:16.528Z"
   },
   {
    "duration": 20,
    "start_time": "2022-10-25T22:51:16.538Z"
   },
   {
    "duration": 34,
    "start_time": "2022-10-25T22:51:16.559Z"
   },
   {
    "duration": 58,
    "start_time": "2022-10-25T22:51:16.595Z"
   },
   {
    "duration": 1176,
    "start_time": "2022-10-25T22:52:30.393Z"
   },
   {
    "duration": 42,
    "start_time": "2022-10-25T22:52:31.572Z"
   },
   {
    "duration": 13,
    "start_time": "2022-10-25T22:52:31.616Z"
   },
   {
    "duration": 20,
    "start_time": "2022-10-25T22:52:31.630Z"
   },
   {
    "duration": 7,
    "start_time": "2022-10-25T22:52:31.652Z"
   },
   {
    "duration": 5,
    "start_time": "2022-10-25T22:52:31.660Z"
   },
   {
    "duration": 14,
    "start_time": "2022-10-25T22:52:31.666Z"
   },
   {
    "duration": 6,
    "start_time": "2022-10-25T22:52:31.682Z"
   },
   {
    "duration": 7,
    "start_time": "2022-10-25T22:52:31.689Z"
   },
   {
    "duration": 32,
    "start_time": "2022-10-25T22:52:31.698Z"
   },
   {
    "duration": 5,
    "start_time": "2022-10-25T22:52:31.732Z"
   },
   {
    "duration": 8,
    "start_time": "2022-10-25T22:52:31.738Z"
   },
   {
    "duration": 1241,
    "start_time": "2022-10-25T22:52:31.747Z"
   },
   {
    "duration": 37,
    "start_time": "2022-10-25T22:52:32.992Z"
   },
   {
    "duration": 52983,
    "start_time": "2022-10-25T22:52:33.031Z"
   },
   {
    "duration": 436,
    "start_time": "2022-10-25T22:53:26.015Z"
   },
   {
    "duration": 26,
    "start_time": "2022-10-25T22:53:26.453Z"
   },
   {
    "duration": 103,
    "start_time": "2022-10-25T22:53:26.526Z"
   },
   {
    "duration": 9,
    "start_time": "2022-10-25T22:53:26.631Z"
   },
   {
    "duration": 10,
    "start_time": "2022-10-25T22:53:26.642Z"
   },
   {
    "duration": 4,
    "start_time": "2022-10-25T22:53:26.654Z"
   },
   {
    "duration": 21,
    "start_time": "2022-10-25T22:53:26.659Z"
   },
   {
    "duration": 54,
    "start_time": "2022-10-25T22:53:26.682Z"
   },
   {
    "duration": 12,
    "start_time": "2022-10-25T22:53:26.738Z"
   },
   {
    "duration": 13,
    "start_time": "2022-10-25T22:53:26.751Z"
   },
   {
    "duration": 15,
    "start_time": "2022-10-25T22:53:26.766Z"
   },
   {
    "duration": 4,
    "start_time": "2022-10-25T22:53:26.782Z"
   },
   {
    "duration": 8,
    "start_time": "2022-10-25T22:53:26.787Z"
   },
   {
    "duration": 34163,
    "start_time": "2022-10-25T22:53:26.797Z"
   },
   {
    "duration": 4,
    "start_time": "2022-10-25T22:54:00.962Z"
   },
   {
    "duration": 77,
    "start_time": "2022-10-25T22:54:00.968Z"
   },
   {
    "duration": 76,
    "start_time": "2022-10-25T22:54:01.048Z"
   },
   {
    "duration": 7,
    "start_time": "2022-10-25T22:54:01.126Z"
   },
   {
    "duration": 58308,
    "start_time": "2022-10-25T22:54:01.225Z"
   },
   {
    "duration": 6,
    "start_time": "2022-10-25T22:54:59.627Z"
   },
   {
    "duration": 6605,
    "start_time": "2022-10-25T22:54:59.725Z"
   },
   {
    "duration": 90,
    "start_time": "2022-10-25T22:55:06.335Z"
   },
   {
    "duration": 7,
    "start_time": "2022-10-25T22:55:06.427Z"
   },
   {
    "duration": 25589,
    "start_time": "2022-10-25T22:55:06.436Z"
   },
   {
    "duration": 4,
    "start_time": "2022-10-25T22:55:32.123Z"
   },
   {
    "duration": 3098,
    "start_time": "2022-10-25T22:55:32.132Z"
   },
   {
    "duration": 1563,
    "start_time": "2022-10-25T22:55:35.232Z"
   },
   {
    "duration": 44,
    "start_time": "2022-10-25T22:55:36.797Z"
   },
   {
    "duration": 1659,
    "start_time": "2022-10-25T22:55:36.843Z"
   },
   {
    "duration": 43,
    "start_time": "2022-10-25T22:55:38.504Z"
   },
   {
    "duration": 569,
    "start_time": "2022-10-25T22:55:38.549Z"
   },
   {
    "duration": 26,
    "start_time": "2022-10-25T22:55:39.123Z"
   },
   {
    "duration": 95440,
    "start_time": "2022-10-25T22:55:39.150Z"
   },
   {
    "duration": 472,
    "start_time": "2022-10-25T22:57:14.592Z"
   },
   {
    "duration": 161663,
    "start_time": "2022-10-25T22:57:15.066Z"
   },
   {
    "duration": 623,
    "start_time": "2022-10-25T22:59:56.731Z"
   },
   {
    "duration": 67444,
    "start_time": "2022-10-25T22:59:57.356Z"
   },
   {
    "duration": 291,
    "start_time": "2022-10-25T23:01:04.802Z"
   },
   {
    "duration": 130,
    "start_time": "2022-10-25T23:01:05.095Z"
   },
   {
    "duration": 11,
    "start_time": "2022-10-25T23:01:05.227Z"
   },
   {
    "duration": 99,
    "start_time": "2022-10-25T23:01:05.326Z"
   },
   {
    "duration": 104,
    "start_time": "2022-10-25T23:01:05.428Z"
   },
   {
    "duration": 8,
    "start_time": "2022-10-25T23:01:05.535Z"
   },
   {
    "duration": 8,
    "start_time": "2022-10-25T23:01:05.545Z"
   },
   {
    "duration": 31,
    "start_time": "2022-10-25T23:01:05.556Z"
   },
   {
    "duration": 60,
    "start_time": "2022-10-25T23:01:05.589Z"
   },
   {
    "duration": 22,
    "start_time": "2022-10-25T23:01:05.651Z"
   },
   {
    "duration": 56,
    "start_time": "2022-10-25T23:01:05.675Z"
   },
   {
    "duration": 98,
    "start_time": "2022-10-25T23:01:05.733Z"
   },
   {
    "duration": 99,
    "start_time": "2022-10-25T23:01:05.833Z"
   },
   {
    "duration": 92,
    "start_time": "2022-10-25T23:01:05.934Z"
   },
   {
    "duration": 101,
    "start_time": "2022-10-25T23:01:06.029Z"
   },
   {
    "duration": 8,
    "start_time": "2022-10-25T23:01:06.131Z"
   },
   {
    "duration": 27,
    "start_time": "2022-10-25T23:01:06.141Z"
   },
   {
    "duration": 54,
    "start_time": "2022-10-25T23:01:06.170Z"
   },
   {
    "duration": 21,
    "start_time": "2022-10-25T23:01:06.225Z"
   },
   {
    "duration": 1125,
    "start_time": "2022-10-26T19:43:09.285Z"
   },
   {
    "duration": 76,
    "start_time": "2022-10-26T19:43:10.413Z"
   },
   {
    "duration": 14,
    "start_time": "2022-10-26T19:43:10.490Z"
   },
   {
    "duration": 19,
    "start_time": "2022-10-26T19:43:10.505Z"
   },
   {
    "duration": 7,
    "start_time": "2022-10-26T19:43:10.527Z"
   },
   {
    "duration": 5,
    "start_time": "2022-10-26T19:43:10.535Z"
   },
   {
    "duration": 5,
    "start_time": "2022-10-26T19:43:10.542Z"
   },
   {
    "duration": 7,
    "start_time": "2022-10-26T19:43:10.548Z"
   },
   {
    "duration": 8,
    "start_time": "2022-10-26T19:43:10.556Z"
   },
   {
    "duration": 45,
    "start_time": "2022-10-26T19:43:10.565Z"
   },
   {
    "duration": 6,
    "start_time": "2022-10-26T19:43:10.611Z"
   },
   {
    "duration": 7,
    "start_time": "2022-10-26T19:43:10.618Z"
   },
   {
    "duration": 910,
    "start_time": "2022-10-26T19:43:10.626Z"
   },
   {
    "duration": 27,
    "start_time": "2022-10-26T19:43:11.539Z"
   },
   {
    "duration": 9679,
    "start_time": "2022-10-26T19:43:11.568Z"
   },
   {
    "duration": 147,
    "start_time": "2022-10-26T19:43:21.249Z"
   },
   {
    "duration": 36,
    "start_time": "2022-10-26T19:43:21.398Z"
   },
   {
    "duration": 81,
    "start_time": "2022-10-26T19:43:21.436Z"
   },
   {
    "duration": 11,
    "start_time": "2022-10-26T19:43:21.609Z"
   },
   {
    "duration": 8,
    "start_time": "2022-10-26T19:43:21.622Z"
   },
   {
    "duration": 5,
    "start_time": "2022-10-26T19:43:21.631Z"
   },
   {
    "duration": 22,
    "start_time": "2022-10-26T19:43:21.637Z"
   },
   {
    "duration": 15,
    "start_time": "2022-10-26T19:43:21.660Z"
   },
   {
    "duration": 35,
    "start_time": "2022-10-26T19:43:21.677Z"
   },
   {
    "duration": 10,
    "start_time": "2022-10-26T19:43:21.713Z"
   },
   {
    "duration": 9,
    "start_time": "2022-10-26T19:43:21.724Z"
   },
   {
    "duration": 2,
    "start_time": "2022-10-26T19:43:21.735Z"
   },
   {
    "duration": 6,
    "start_time": "2022-10-26T19:43:21.739Z"
   },
   {
    "duration": 7272,
    "start_time": "2022-10-26T19:43:21.747Z"
   },
   {
    "duration": 96,
    "start_time": "2022-10-26T19:43:29.022Z"
   },
   {
    "duration": 133,
    "start_time": "2022-10-26T19:43:29.122Z"
   },
   {
    "duration": 55,
    "start_time": "2022-10-26T19:43:29.257Z"
   },
   {
    "duration": 92,
    "start_time": "2022-10-26T19:43:29.317Z"
   },
   {
    "duration": 7207,
    "start_time": "2022-10-26T19:43:29.411Z"
   },
   {
    "duration": 91,
    "start_time": "2022-10-26T19:43:36.620Z"
   },
   {
    "duration": 399,
    "start_time": "2022-10-26T19:43:36.713Z"
   },
   {
    "duration": 8,
    "start_time": "2022-10-26T19:43:37.114Z"
   },
   {
    "duration": 5,
    "start_time": "2022-10-26T19:43:37.209Z"
   },
   {
    "duration": 2604,
    "start_time": "2022-10-26T19:43:37.216Z"
   },
   {
    "duration": 98,
    "start_time": "2022-10-26T19:43:39.821Z"
   },
   {
    "duration": 104,
    "start_time": "2022-10-26T19:43:40.011Z"
   },
   {
    "duration": 1453,
    "start_time": "2022-10-26T19:43:40.117Z"
   },
   {
    "duration": 44,
    "start_time": "2022-10-26T19:43:41.571Z"
   },
   {
    "duration": 1520,
    "start_time": "2022-10-26T19:43:41.617Z"
   },
   {
    "duration": 37,
    "start_time": "2022-10-26T19:43:43.138Z"
   },
   {
    "duration": 521,
    "start_time": "2022-10-26T19:43:43.177Z"
   },
   {
    "duration": 28,
    "start_time": "2022-10-26T19:43:43.700Z"
   },
   {
    "duration": 94391,
    "start_time": "2022-10-26T19:43:43.730Z"
   },
   {
    "duration": 459,
    "start_time": "2022-10-26T19:45:18.123Z"
   },
   {
    "duration": 161832,
    "start_time": "2022-10-26T19:45:18.583Z"
   },
   {
    "duration": 351,
    "start_time": "2022-10-26T19:48:00.417Z"
   },
   {
    "duration": 65946,
    "start_time": "2022-10-26T19:48:00.770Z"
   },
   {
    "duration": 440,
    "start_time": "2022-10-26T19:49:06.718Z"
   },
   {
    "duration": 52,
    "start_time": "2022-10-26T19:49:07.159Z"
   },
   {
    "duration": 101,
    "start_time": "2022-10-26T19:49:07.214Z"
   },
   {
    "duration": 99,
    "start_time": "2022-10-26T19:49:07.320Z"
   },
   {
    "duration": 12,
    "start_time": "2022-10-26T19:49:07.421Z"
   },
   {
    "duration": 9,
    "start_time": "2022-10-26T19:49:07.510Z"
   },
   {
    "duration": 99,
    "start_time": "2022-10-26T19:49:07.521Z"
   },
   {
    "duration": 29,
    "start_time": "2022-10-26T19:49:07.622Z"
   },
   {
    "duration": 19,
    "start_time": "2022-10-26T19:49:07.653Z"
   },
   {
    "duration": 38,
    "start_time": "2022-10-26T19:49:07.673Z"
   },
   {
    "duration": 13,
    "start_time": "2022-10-26T19:49:07.713Z"
   },
   {
    "duration": 93,
    "start_time": "2022-10-26T19:49:07.727Z"
   },
   {
    "duration": 95,
    "start_time": "2022-10-26T19:49:07.821Z"
   },
   {
    "duration": 194,
    "start_time": "2022-10-26T19:49:07.918Z"
   },
   {
    "duration": 7,
    "start_time": "2022-10-26T19:49:08.114Z"
   },
   {
    "duration": 10,
    "start_time": "2022-10-26T19:49:08.123Z"
   },
   {
    "duration": 24,
    "start_time": "2022-10-26T19:49:08.135Z"
   },
   {
    "duration": 19,
    "start_time": "2022-10-26T19:49:08.161Z"
   },
   {
    "duration": 50,
    "start_time": "2022-10-26T19:49:08.181Z"
   },
   {
    "duration": 3,
    "start_time": "2022-10-26T19:58:02.659Z"
   },
   {
    "duration": 518,
    "start_time": "2022-10-26T19:59:08.936Z"
   },
   {
    "duration": 1081,
    "start_time": "2022-10-26T20:01:22.507Z"
   },
   {
    "duration": 41,
    "start_time": "2022-10-26T20:01:23.589Z"
   },
   {
    "duration": 12,
    "start_time": "2022-10-26T20:01:23.632Z"
   },
   {
    "duration": 19,
    "start_time": "2022-10-26T20:01:23.646Z"
   },
   {
    "duration": 7,
    "start_time": "2022-10-26T20:01:23.666Z"
   },
   {
    "duration": 7,
    "start_time": "2022-10-26T20:01:23.674Z"
   },
   {
    "duration": 8,
    "start_time": "2022-10-26T20:01:23.682Z"
   },
   {
    "duration": 6,
    "start_time": "2022-10-26T20:01:23.709Z"
   },
   {
    "duration": 10,
    "start_time": "2022-10-26T20:01:23.716Z"
   },
   {
    "duration": 116,
    "start_time": "2022-10-26T20:01:23.728Z"
   },
   {
    "duration": 0,
    "start_time": "2022-10-26T20:01:23.847Z"
   },
   {
    "duration": 0,
    "start_time": "2022-10-26T20:01:23.848Z"
   },
   {
    "duration": 0,
    "start_time": "2022-10-26T20:01:23.849Z"
   },
   {
    "duration": 0,
    "start_time": "2022-10-26T20:01:23.850Z"
   },
   {
    "duration": 0,
    "start_time": "2022-10-26T20:01:23.851Z"
   },
   {
    "duration": 0,
    "start_time": "2022-10-26T20:01:23.852Z"
   },
   {
    "duration": 0,
    "start_time": "2022-10-26T20:01:23.853Z"
   },
   {
    "duration": 0,
    "start_time": "2022-10-26T20:01:23.854Z"
   },
   {
    "duration": 0,
    "start_time": "2022-10-26T20:01:23.855Z"
   },
   {
    "duration": 0,
    "start_time": "2022-10-26T20:01:23.856Z"
   },
   {
    "duration": 0,
    "start_time": "2022-10-26T20:01:23.857Z"
   },
   {
    "duration": 0,
    "start_time": "2022-10-26T20:01:23.858Z"
   },
   {
    "duration": 0,
    "start_time": "2022-10-26T20:01:23.860Z"
   },
   {
    "duration": 0,
    "start_time": "2022-10-26T20:01:23.860Z"
   },
   {
    "duration": 0,
    "start_time": "2022-10-26T20:01:23.861Z"
   },
   {
    "duration": 0,
    "start_time": "2022-10-26T20:01:23.863Z"
   },
   {
    "duration": 0,
    "start_time": "2022-10-26T20:01:23.863Z"
   },
   {
    "duration": 0,
    "start_time": "2022-10-26T20:01:23.864Z"
   },
   {
    "duration": 0,
    "start_time": "2022-10-26T20:01:23.865Z"
   },
   {
    "duration": 0,
    "start_time": "2022-10-26T20:01:23.866Z"
   },
   {
    "duration": 0,
    "start_time": "2022-10-26T20:01:23.909Z"
   },
   {
    "duration": 0,
    "start_time": "2022-10-26T20:01:23.910Z"
   },
   {
    "duration": 0,
    "start_time": "2022-10-26T20:01:23.911Z"
   },
   {
    "duration": 0,
    "start_time": "2022-10-26T20:01:23.912Z"
   },
   {
    "duration": 0,
    "start_time": "2022-10-26T20:01:23.913Z"
   },
   {
    "duration": 0,
    "start_time": "2022-10-26T20:01:23.915Z"
   },
   {
    "duration": 0,
    "start_time": "2022-10-26T20:01:23.916Z"
   },
   {
    "duration": 0,
    "start_time": "2022-10-26T20:01:23.917Z"
   },
   {
    "duration": 0,
    "start_time": "2022-10-26T20:01:23.918Z"
   },
   {
    "duration": 0,
    "start_time": "2022-10-26T20:01:23.920Z"
   },
   {
    "duration": 0,
    "start_time": "2022-10-26T20:01:23.921Z"
   },
   {
    "duration": 0,
    "start_time": "2022-10-26T20:01:23.923Z"
   },
   {
    "duration": 0,
    "start_time": "2022-10-26T20:01:23.924Z"
   },
   {
    "duration": 0,
    "start_time": "2022-10-26T20:01:23.925Z"
   },
   {
    "duration": 0,
    "start_time": "2022-10-26T20:01:23.927Z"
   },
   {
    "duration": 0,
    "start_time": "2022-10-26T20:01:23.928Z"
   },
   {
    "duration": 0,
    "start_time": "2022-10-26T20:01:23.930Z"
   },
   {
    "duration": 0,
    "start_time": "2022-10-26T20:01:23.931Z"
   },
   {
    "duration": 0,
    "start_time": "2022-10-26T20:01:23.934Z"
   },
   {
    "duration": 0,
    "start_time": "2022-10-26T20:01:23.935Z"
   },
   {
    "duration": 0,
    "start_time": "2022-10-26T20:01:23.937Z"
   },
   {
    "duration": 0,
    "start_time": "2022-10-26T20:01:23.938Z"
   },
   {
    "duration": 0,
    "start_time": "2022-10-26T20:01:23.940Z"
   },
   {
    "duration": 0,
    "start_time": "2022-10-26T20:01:23.941Z"
   },
   {
    "duration": 0,
    "start_time": "2022-10-26T20:01:23.942Z"
   },
   {
    "duration": 0,
    "start_time": "2022-10-26T20:01:23.943Z"
   },
   {
    "duration": 0,
    "start_time": "2022-10-26T20:01:23.945Z"
   },
   {
    "duration": 0,
    "start_time": "2022-10-26T20:01:23.946Z"
   },
   {
    "duration": 0,
    "start_time": "2022-10-26T20:01:23.947Z"
   },
   {
    "duration": 0,
    "start_time": "2022-10-26T20:01:23.949Z"
   },
   {
    "duration": 0,
    "start_time": "2022-10-26T20:01:24.009Z"
   },
   {
    "duration": 0,
    "start_time": "2022-10-26T20:01:24.011Z"
   },
   {
    "duration": 0,
    "start_time": "2022-10-26T20:01:24.012Z"
   },
   {
    "duration": 0,
    "start_time": "2022-10-26T20:01:24.014Z"
   },
   {
    "duration": 0,
    "start_time": "2022-10-26T20:01:24.015Z"
   },
   {
    "duration": 0,
    "start_time": "2022-10-26T20:01:24.017Z"
   },
   {
    "duration": 0,
    "start_time": "2022-10-26T20:01:24.018Z"
   },
   {
    "duration": 0,
    "start_time": "2022-10-26T20:01:24.019Z"
   },
   {
    "duration": 0,
    "start_time": "2022-10-26T20:01:24.020Z"
   },
   {
    "duration": 0,
    "start_time": "2022-10-26T20:01:24.021Z"
   },
   {
    "duration": 0,
    "start_time": "2022-10-26T20:01:24.022Z"
   },
   {
    "duration": 0,
    "start_time": "2022-10-26T20:01:24.023Z"
   },
   {
    "duration": 11,
    "start_time": "2022-10-26T20:02:04.603Z"
   },
   {
    "duration": 13,
    "start_time": "2022-10-26T20:03:09.464Z"
   },
   {
    "duration": 1054,
    "start_time": "2022-10-26T20:03:21.529Z"
   },
   {
    "duration": 41,
    "start_time": "2022-10-26T20:03:22.585Z"
   },
   {
    "duration": 13,
    "start_time": "2022-10-26T20:03:22.627Z"
   },
   {
    "duration": 19,
    "start_time": "2022-10-26T20:03:22.642Z"
   },
   {
    "duration": 25,
    "start_time": "2022-10-26T20:03:22.664Z"
   },
   {
    "duration": 11,
    "start_time": "2022-10-26T20:03:22.690Z"
   },
   {
    "duration": 5,
    "start_time": "2022-10-26T20:03:22.708Z"
   },
   {
    "duration": 6,
    "start_time": "2022-10-26T20:03:22.714Z"
   },
   {
    "duration": 3,
    "start_time": "2022-10-26T20:03:22.722Z"
   },
   {
    "duration": 5,
    "start_time": "2022-10-26T20:03:22.727Z"
   },
   {
    "duration": 13,
    "start_time": "2022-10-26T20:03:22.734Z"
   },
   {
    "duration": 9,
    "start_time": "2022-10-26T20:03:22.748Z"
   },
   {
    "duration": 8,
    "start_time": "2022-10-26T20:03:22.759Z"
   },
   {
    "duration": 1068,
    "start_time": "2022-10-26T20:03:22.771Z"
   },
   {
    "duration": 28,
    "start_time": "2022-10-26T20:03:23.841Z"
   },
   {
    "duration": 6387,
    "start_time": "2022-10-26T20:03:23.870Z"
   },
   {
    "duration": 91,
    "start_time": "2022-10-26T20:03:30.259Z"
   },
   {
    "duration": 60,
    "start_time": "2022-10-26T20:03:30.352Z"
   },
   {
    "duration": 105,
    "start_time": "2022-10-26T20:03:30.413Z"
   },
   {
    "duration": 21,
    "start_time": "2022-10-26T20:03:30.520Z"
   },
   {
    "duration": 38,
    "start_time": "2022-10-26T20:03:30.542Z"
   },
   {
    "duration": 39,
    "start_time": "2022-10-26T20:03:30.582Z"
   },
   {
    "duration": 53,
    "start_time": "2022-10-26T20:03:30.623Z"
   },
   {
    "duration": 0,
    "start_time": "2022-10-26T20:03:30.679Z"
   },
   {
    "duration": 0,
    "start_time": "2022-10-26T20:03:30.681Z"
   },
   {
    "duration": 0,
    "start_time": "2022-10-26T20:03:30.682Z"
   },
   {
    "duration": 0,
    "start_time": "2022-10-26T20:03:30.683Z"
   },
   {
    "duration": 0,
    "start_time": "2022-10-26T20:03:30.683Z"
   },
   {
    "duration": 0,
    "start_time": "2022-10-26T20:03:30.684Z"
   },
   {
    "duration": 0,
    "start_time": "2022-10-26T20:03:30.685Z"
   },
   {
    "duration": 0,
    "start_time": "2022-10-26T20:03:30.686Z"
   },
   {
    "duration": 0,
    "start_time": "2022-10-26T20:03:30.687Z"
   },
   {
    "duration": 0,
    "start_time": "2022-10-26T20:03:30.688Z"
   },
   {
    "duration": 0,
    "start_time": "2022-10-26T20:03:30.689Z"
   },
   {
    "duration": 0,
    "start_time": "2022-10-26T20:03:30.690Z"
   },
   {
    "duration": 0,
    "start_time": "2022-10-26T20:03:30.691Z"
   },
   {
    "duration": 0,
    "start_time": "2022-10-26T20:03:30.693Z"
   },
   {
    "duration": 0,
    "start_time": "2022-10-26T20:03:30.694Z"
   },
   {
    "duration": 0,
    "start_time": "2022-10-26T20:03:30.696Z"
   },
   {
    "duration": 0,
    "start_time": "2022-10-26T20:03:30.697Z"
   },
   {
    "duration": 0,
    "start_time": "2022-10-26T20:03:30.698Z"
   },
   {
    "duration": 0,
    "start_time": "2022-10-26T20:03:30.699Z"
   },
   {
    "duration": 0,
    "start_time": "2022-10-26T20:03:30.700Z"
   },
   {
    "duration": 0,
    "start_time": "2022-10-26T20:03:30.701Z"
   },
   {
    "duration": 0,
    "start_time": "2022-10-26T20:03:30.702Z"
   },
   {
    "duration": 0,
    "start_time": "2022-10-26T20:03:30.703Z"
   },
   {
    "duration": 0,
    "start_time": "2022-10-26T20:03:30.704Z"
   },
   {
    "duration": 0,
    "start_time": "2022-10-26T20:03:30.705Z"
   },
   {
    "duration": 0,
    "start_time": "2022-10-26T20:03:30.706Z"
   },
   {
    "duration": 0,
    "start_time": "2022-10-26T20:03:30.708Z"
   },
   {
    "duration": 0,
    "start_time": "2022-10-26T20:03:30.709Z"
   },
   {
    "duration": 0,
    "start_time": "2022-10-26T20:03:30.710Z"
   },
   {
    "duration": 0,
    "start_time": "2022-10-26T20:03:30.711Z"
   },
   {
    "duration": 0,
    "start_time": "2022-10-26T20:03:30.713Z"
   },
   {
    "duration": 0,
    "start_time": "2022-10-26T20:03:30.714Z"
   },
   {
    "duration": 0,
    "start_time": "2022-10-26T20:03:30.715Z"
   },
   {
    "duration": 0,
    "start_time": "2022-10-26T20:03:30.716Z"
   },
   {
    "duration": 0,
    "start_time": "2022-10-26T20:03:30.717Z"
   },
   {
    "duration": 0,
    "start_time": "2022-10-26T20:03:30.718Z"
   },
   {
    "duration": 0,
    "start_time": "2022-10-26T20:03:30.720Z"
   },
   {
    "duration": 0,
    "start_time": "2022-10-26T20:03:30.720Z"
   },
   {
    "duration": 0,
    "start_time": "2022-10-26T20:03:30.721Z"
   },
   {
    "duration": 0,
    "start_time": "2022-10-26T20:03:30.722Z"
   },
   {
    "duration": 0,
    "start_time": "2022-10-26T20:03:30.723Z"
   },
   {
    "duration": 0,
    "start_time": "2022-10-26T20:03:30.724Z"
   },
   {
    "duration": 0,
    "start_time": "2022-10-26T20:03:30.725Z"
   },
   {
    "duration": 0,
    "start_time": "2022-10-26T20:03:30.726Z"
   },
   {
    "duration": 0,
    "start_time": "2022-10-26T20:03:30.727Z"
   },
   {
    "duration": 0,
    "start_time": "2022-10-26T20:03:30.729Z"
   },
   {
    "duration": 0,
    "start_time": "2022-10-26T20:03:30.730Z"
   },
   {
    "duration": 0,
    "start_time": "2022-10-26T20:03:30.731Z"
   },
   {
    "duration": 0,
    "start_time": "2022-10-26T20:03:30.732Z"
   },
   {
    "duration": 18,
    "start_time": "2022-10-26T20:04:50.929Z"
   },
   {
    "duration": 1058,
    "start_time": "2022-10-26T20:54:11.524Z"
   },
   {
    "duration": 40,
    "start_time": "2022-10-26T20:54:12.583Z"
   },
   {
    "duration": 13,
    "start_time": "2022-10-26T20:54:12.624Z"
   },
   {
    "duration": 18,
    "start_time": "2022-10-26T20:54:12.639Z"
   },
   {
    "duration": 7,
    "start_time": "2022-10-26T20:54:12.658Z"
   },
   {
    "duration": 4,
    "start_time": "2022-10-26T20:54:12.666Z"
   },
   {
    "duration": 5,
    "start_time": "2022-10-26T20:54:12.671Z"
   },
   {
    "duration": 32,
    "start_time": "2022-10-26T20:54:12.677Z"
   },
   {
    "duration": 5,
    "start_time": "2022-10-26T20:54:12.711Z"
   },
   {
    "duration": 6,
    "start_time": "2022-10-26T20:54:12.719Z"
   },
   {
    "duration": 12,
    "start_time": "2022-10-26T20:54:12.727Z"
   },
   {
    "duration": 5,
    "start_time": "2022-10-26T20:54:12.741Z"
   },
   {
    "duration": 7,
    "start_time": "2022-10-26T20:54:12.748Z"
   },
   {
    "duration": 1056,
    "start_time": "2022-10-26T20:54:12.757Z"
   },
   {
    "duration": 30,
    "start_time": "2022-10-26T20:54:13.815Z"
   },
   {
    "duration": 68319,
    "start_time": "2022-10-26T20:54:13.847Z"
   },
   {
    "duration": 349,
    "start_time": "2022-10-26T20:55:22.168Z"
   },
   {
    "duration": 38,
    "start_time": "2022-10-26T20:55:22.518Z"
   },
   {
    "duration": 62,
    "start_time": "2022-10-26T20:55:22.557Z"
   },
   {
    "duration": 99,
    "start_time": "2022-10-26T20:55:22.621Z"
   },
   {
    "duration": 9,
    "start_time": "2022-10-26T20:55:22.722Z"
   },
   {
    "duration": 12,
    "start_time": "2022-10-26T20:55:22.733Z"
   },
   {
    "duration": 136,
    "start_time": "2022-10-26T20:55:22.747Z"
   },
   {
    "duration": 0,
    "start_time": "2022-10-26T20:55:22.887Z"
   },
   {
    "duration": 0,
    "start_time": "2022-10-26T20:55:22.889Z"
   },
   {
    "duration": 0,
    "start_time": "2022-10-26T20:55:22.890Z"
   },
   {
    "duration": 0,
    "start_time": "2022-10-26T20:55:22.891Z"
   },
   {
    "duration": 0,
    "start_time": "2022-10-26T20:55:22.891Z"
   },
   {
    "duration": 0,
    "start_time": "2022-10-26T20:55:22.892Z"
   },
   {
    "duration": 0,
    "start_time": "2022-10-26T20:55:22.893Z"
   },
   {
    "duration": 0,
    "start_time": "2022-10-26T20:55:22.894Z"
   },
   {
    "duration": 0,
    "start_time": "2022-10-26T20:55:22.908Z"
   },
   {
    "duration": 0,
    "start_time": "2022-10-26T20:55:22.909Z"
   },
   {
    "duration": 0,
    "start_time": "2022-10-26T20:55:22.910Z"
   },
   {
    "duration": 0,
    "start_time": "2022-10-26T20:55:22.910Z"
   },
   {
    "duration": 0,
    "start_time": "2022-10-26T20:55:22.911Z"
   },
   {
    "duration": 0,
    "start_time": "2022-10-26T20:55:22.912Z"
   },
   {
    "duration": 0,
    "start_time": "2022-10-26T20:55:22.913Z"
   },
   {
    "duration": 0,
    "start_time": "2022-10-26T20:55:22.914Z"
   },
   {
    "duration": 0,
    "start_time": "2022-10-26T20:55:22.915Z"
   },
   {
    "duration": 0,
    "start_time": "2022-10-26T20:55:22.916Z"
   },
   {
    "duration": 0,
    "start_time": "2022-10-26T20:55:22.917Z"
   },
   {
    "duration": 0,
    "start_time": "2022-10-26T20:55:22.917Z"
   },
   {
    "duration": 0,
    "start_time": "2022-10-26T20:55:22.918Z"
   },
   {
    "duration": 0,
    "start_time": "2022-10-26T20:55:22.919Z"
   },
   {
    "duration": 0,
    "start_time": "2022-10-26T20:55:22.920Z"
   },
   {
    "duration": 0,
    "start_time": "2022-10-26T20:55:22.921Z"
   },
   {
    "duration": 0,
    "start_time": "2022-10-26T20:55:22.922Z"
   },
   {
    "duration": 0,
    "start_time": "2022-10-26T20:55:22.923Z"
   },
   {
    "duration": 0,
    "start_time": "2022-10-26T20:55:22.924Z"
   },
   {
    "duration": 0,
    "start_time": "2022-10-26T20:55:22.925Z"
   },
   {
    "duration": 0,
    "start_time": "2022-10-26T20:55:22.926Z"
   },
   {
    "duration": 0,
    "start_time": "2022-10-26T20:55:22.927Z"
   },
   {
    "duration": 0,
    "start_time": "2022-10-26T20:55:22.928Z"
   },
   {
    "duration": 0,
    "start_time": "2022-10-26T20:55:22.929Z"
   },
   {
    "duration": 0,
    "start_time": "2022-10-26T20:55:22.929Z"
   },
   {
    "duration": 0,
    "start_time": "2022-10-26T20:55:22.930Z"
   },
   {
    "duration": 0,
    "start_time": "2022-10-26T20:55:22.931Z"
   },
   {
    "duration": 0,
    "start_time": "2022-10-26T20:55:22.932Z"
   },
   {
    "duration": 1,
    "start_time": "2022-10-26T20:55:22.932Z"
   },
   {
    "duration": 0,
    "start_time": "2022-10-26T20:55:22.933Z"
   },
   {
    "duration": 0,
    "start_time": "2022-10-26T20:55:22.934Z"
   },
   {
    "duration": 0,
    "start_time": "2022-10-26T20:55:22.935Z"
   },
   {
    "duration": 0,
    "start_time": "2022-10-26T20:55:22.936Z"
   },
   {
    "duration": 0,
    "start_time": "2022-10-26T20:55:22.936Z"
   },
   {
    "duration": 0,
    "start_time": "2022-10-26T20:55:22.937Z"
   },
   {
    "duration": 0,
    "start_time": "2022-10-26T20:55:22.938Z"
   },
   {
    "duration": 0,
    "start_time": "2022-10-26T20:55:22.939Z"
   },
   {
    "duration": 0,
    "start_time": "2022-10-26T20:55:22.940Z"
   },
   {
    "duration": 0,
    "start_time": "2022-10-26T20:55:22.940Z"
   },
   {
    "duration": 0,
    "start_time": "2022-10-26T20:55:22.941Z"
   },
   {
    "duration": 0,
    "start_time": "2022-10-26T20:55:22.942Z"
   },
   {
    "duration": 0,
    "start_time": "2022-10-26T20:55:22.943Z"
   },
   {
    "duration": 23,
    "start_time": "2022-10-26T20:55:51.197Z"
   },
   {
    "duration": 26,
    "start_time": "2022-10-26T20:55:54.419Z"
   },
   {
    "duration": 13,
    "start_time": "2022-10-26T20:55:57.179Z"
   },
   {
    "duration": 14,
    "start_time": "2022-10-26T20:55:59.092Z"
   },
   {
    "duration": 2,
    "start_time": "2022-10-26T20:56:00.286Z"
   },
   {
    "duration": 3,
    "start_time": "2022-10-26T20:56:00.868Z"
   },
   {
    "duration": 6120,
    "start_time": "2022-10-26T20:56:01.292Z"
   },
   {
    "duration": 4,
    "start_time": "2022-10-26T20:56:07.414Z"
   },
   {
    "duration": 102,
    "start_time": "2022-10-26T20:56:07.419Z"
   },
   {
    "duration": 86,
    "start_time": "2022-10-26T20:56:07.523Z"
   },
   {
    "duration": 4,
    "start_time": "2022-10-26T20:56:07.614Z"
   },
   {
    "duration": 7302,
    "start_time": "2022-10-26T20:56:07.710Z"
   },
   {
    "duration": 4,
    "start_time": "2022-10-26T20:56:15.013Z"
   },
   {
    "duration": 398,
    "start_time": "2022-10-26T20:56:15.019Z"
   },
   {
    "duration": 91,
    "start_time": "2022-10-26T20:56:15.419Z"
   },
   {
    "duration": 97,
    "start_time": "2022-10-26T20:56:15.513Z"
   },
   {
    "duration": 4498,
    "start_time": "2022-10-26T20:56:15.611Z"
   },
   {
    "duration": 5,
    "start_time": "2022-10-26T20:56:20.111Z"
   },
   {
    "duration": 200,
    "start_time": "2022-10-26T20:56:20.117Z"
   },
   {
    "duration": 1418,
    "start_time": "2022-10-26T20:56:20.410Z"
   },
   {
    "duration": 36,
    "start_time": "2022-10-26T20:56:21.830Z"
   },
   {
    "duration": 1643,
    "start_time": "2022-10-26T20:56:21.868Z"
   },
   {
    "duration": 35,
    "start_time": "2022-10-26T20:56:23.513Z"
   },
   {
    "duration": 535,
    "start_time": "2022-10-26T20:56:23.550Z"
   },
   {
    "duration": 47,
    "start_time": "2022-10-26T20:56:24.086Z"
   },
   {
    "duration": 76452,
    "start_time": "2022-10-26T20:56:24.135Z"
   },
   {
    "duration": 233,
    "start_time": "2022-10-26T20:57:40.588Z"
   },
   {
    "duration": 129182,
    "start_time": "2022-10-26T20:57:40.822Z"
   },
   {
    "duration": 320,
    "start_time": "2022-10-26T20:59:51.967Z"
   },
   {
    "duration": 58034,
    "start_time": "2022-10-26T21:00:06.562Z"
   },
   {
    "duration": 328,
    "start_time": "2022-10-26T21:01:04.598Z"
   },
   {
    "duration": 10,
    "start_time": "2022-10-26T21:01:10.053Z"
   },
   {
    "duration": 10,
    "start_time": "2022-10-26T21:01:39.924Z"
   },
   {
    "duration": 7,
    "start_time": "2022-10-26T21:01:42.430Z"
   },
   {
    "duration": 10,
    "start_time": "2022-10-26T21:02:12.240Z"
   },
   {
    "duration": 3,
    "start_time": "2022-10-26T21:02:40.566Z"
   },
   {
    "duration": 4,
    "start_time": "2022-10-26T21:02:51.839Z"
   },
   {
    "duration": 9,
    "start_time": "2022-10-26T21:02:56.183Z"
   },
   {
    "duration": 4,
    "start_time": "2022-10-26T21:05:42.548Z"
   },
   {
    "duration": 8,
    "start_time": "2022-10-26T21:05:49.566Z"
   },
   {
    "duration": 12,
    "start_time": "2022-10-26T21:07:15.227Z"
   },
   {
    "duration": 4,
    "start_time": "2022-10-26T21:12:02.268Z"
   },
   {
    "duration": 413,
    "start_time": "2022-10-26T21:12:03.610Z"
   },
   {
    "duration": 4,
    "start_time": "2022-10-26T21:14:25.228Z"
   },
   {
    "duration": 416,
    "start_time": "2022-10-26T21:14:26.009Z"
   },
   {
    "duration": 3,
    "start_time": "2022-10-26T21:15:43.544Z"
   },
   {
    "duration": 494,
    "start_time": "2022-10-26T21:15:44.217Z"
   },
   {
    "duration": 21,
    "start_time": "2022-10-26T21:22:40.504Z"
   },
   {
    "duration": 20,
    "start_time": "2022-10-26T21:22:48.709Z"
   },
   {
    "duration": 1052,
    "start_time": "2022-10-26T21:22:54.944Z"
   },
   {
    "duration": 41,
    "start_time": "2022-10-26T21:22:55.998Z"
   },
   {
    "duration": 13,
    "start_time": "2022-10-26T21:22:56.040Z"
   },
   {
    "duration": 18,
    "start_time": "2022-10-26T21:22:56.055Z"
   },
   {
    "duration": 6,
    "start_time": "2022-10-26T21:22:56.074Z"
   },
   {
    "duration": 6,
    "start_time": "2022-10-26T21:22:56.082Z"
   },
   {
    "duration": 6,
    "start_time": "2022-10-26T21:22:56.090Z"
   },
   {
    "duration": 16,
    "start_time": "2022-10-26T21:22:56.097Z"
   },
   {
    "duration": 6,
    "start_time": "2022-10-26T21:22:56.115Z"
   },
   {
    "duration": 5,
    "start_time": "2022-10-26T21:22:56.123Z"
   },
   {
    "duration": 20,
    "start_time": "2022-10-26T21:22:56.129Z"
   },
   {
    "duration": 6,
    "start_time": "2022-10-26T21:22:56.150Z"
   },
   {
    "duration": 7,
    "start_time": "2022-10-26T21:22:56.157Z"
   },
   {
    "duration": 1072,
    "start_time": "2022-10-26T21:22:56.165Z"
   },
   {
    "duration": 29,
    "start_time": "2022-10-26T21:22:57.239Z"
   },
   {
    "duration": 68296,
    "start_time": "2022-10-26T21:22:57.270Z"
   },
   {
    "duration": 346,
    "start_time": "2022-10-26T21:24:05.567Z"
   },
   {
    "duration": 97,
    "start_time": "2022-10-26T21:24:05.914Z"
   },
   {
    "duration": 99,
    "start_time": "2022-10-26T21:24:06.013Z"
   },
   {
    "duration": 10,
    "start_time": "2022-10-26T21:24:06.113Z"
   },
   {
    "duration": 9,
    "start_time": "2022-10-26T21:24:06.124Z"
   },
   {
    "duration": 12,
    "start_time": "2022-10-26T21:24:06.135Z"
   },
   {
    "duration": 19,
    "start_time": "2022-10-26T21:24:06.148Z"
   },
   {
    "duration": 60,
    "start_time": "2022-10-26T21:24:06.168Z"
   },
   {
    "duration": 30,
    "start_time": "2022-10-26T21:24:06.230Z"
   },
   {
    "duration": 22,
    "start_time": "2022-10-26T21:24:06.262Z"
   },
   {
    "duration": 35,
    "start_time": "2022-10-26T21:24:06.286Z"
   },
   {
    "duration": 10,
    "start_time": "2022-10-26T21:24:06.325Z"
   },
   {
    "duration": 3,
    "start_time": "2022-10-26T21:24:06.337Z"
   },
   {
    "duration": 5,
    "start_time": "2022-10-26T21:24:06.341Z"
   },
   {
    "duration": 6170,
    "start_time": "2022-10-26T21:24:06.348Z"
   },
   {
    "duration": 4,
    "start_time": "2022-10-26T21:24:12.610Z"
   },
   {
    "duration": 108,
    "start_time": "2022-10-26T21:24:12.615Z"
   },
   {
    "duration": 84,
    "start_time": "2022-10-26T21:24:12.725Z"
   },
   {
    "duration": 99,
    "start_time": "2022-10-26T21:24:12.811Z"
   },
   {
    "duration": 7009,
    "start_time": "2022-10-26T21:24:12.912Z"
   },
   {
    "duration": 5,
    "start_time": "2022-10-26T21:24:19.923Z"
   },
   {
    "duration": 486,
    "start_time": "2022-10-26T21:24:19.929Z"
   },
   {
    "duration": 92,
    "start_time": "2022-10-26T21:24:20.417Z"
   },
   {
    "duration": 9,
    "start_time": "2022-10-26T21:24:20.511Z"
   },
   {
    "duration": 4103,
    "start_time": "2022-10-26T21:24:20.610Z"
   },
   {
    "duration": 94,
    "start_time": "2022-10-26T21:24:24.715Z"
   },
   {
    "duration": 107,
    "start_time": "2022-10-26T21:24:24.811Z"
   },
   {
    "duration": 1400,
    "start_time": "2022-10-26T21:24:25.010Z"
   },
   {
    "duration": 36,
    "start_time": "2022-10-26T21:24:26.411Z"
   },
   {
    "duration": 1638,
    "start_time": "2022-10-26T21:24:26.449Z"
   },
   {
    "duration": 41,
    "start_time": "2022-10-26T21:24:28.088Z"
   },
   {
    "duration": 530,
    "start_time": "2022-10-26T21:24:28.131Z"
   },
   {
    "duration": 49,
    "start_time": "2022-10-26T21:24:28.662Z"
   },
   {
    "duration": 75823,
    "start_time": "2022-10-26T21:24:28.712Z"
   },
   {
    "duration": 234,
    "start_time": "2022-10-26T21:25:44.536Z"
   },
   {
    "duration": 128501,
    "start_time": "2022-10-26T21:25:44.772Z"
   },
   {
    "duration": 326,
    "start_time": "2022-10-26T21:27:53.275Z"
   },
   {
    "duration": 57439,
    "start_time": "2022-10-26T21:27:53.603Z"
   },
   {
    "duration": 332,
    "start_time": "2022-10-26T21:28:51.044Z"
   },
   {
    "duration": 5,
    "start_time": "2022-10-26T21:28:51.378Z"
   },
   {
    "duration": 441,
    "start_time": "2022-10-26T21:28:51.385Z"
   },
   {
    "duration": 1097,
    "start_time": "2022-10-26T21:31:17.122Z"
   },
   {
    "duration": 41,
    "start_time": "2022-10-26T21:31:18.220Z"
   },
   {
    "duration": 12,
    "start_time": "2022-10-26T21:31:18.263Z"
   },
   {
    "duration": 16,
    "start_time": "2022-10-26T21:31:18.277Z"
   },
   {
    "duration": 7,
    "start_time": "2022-10-26T21:31:18.294Z"
   },
   {
    "duration": 10,
    "start_time": "2022-10-26T21:31:18.302Z"
   },
   {
    "duration": 16,
    "start_time": "2022-10-26T21:31:18.313Z"
   },
   {
    "duration": 12,
    "start_time": "2022-10-26T21:31:18.330Z"
   },
   {
    "duration": 10,
    "start_time": "2022-10-26T21:31:18.343Z"
   },
   {
    "duration": 9,
    "start_time": "2022-10-26T21:31:18.355Z"
   },
   {
    "duration": 19,
    "start_time": "2022-10-26T21:31:18.366Z"
   },
   {
    "duration": 7,
    "start_time": "2022-10-26T21:31:18.387Z"
   },
   {
    "duration": 11,
    "start_time": "2022-10-26T21:31:18.395Z"
   },
   {
    "duration": 1029,
    "start_time": "2022-10-26T21:31:18.408Z"
   },
   {
    "duration": 27,
    "start_time": "2022-10-26T21:31:19.438Z"
   },
   {
    "duration": 57687,
    "start_time": "2022-10-26T21:31:19.467Z"
   },
   {
    "duration": 355,
    "start_time": "2022-10-26T21:32:17.155Z"
   },
   {
    "duration": 97,
    "start_time": "2022-10-26T21:32:17.512Z"
   },
   {
    "duration": 99,
    "start_time": "2022-10-26T21:32:17.611Z"
   },
   {
    "duration": 8,
    "start_time": "2022-10-26T21:32:17.712Z"
   },
   {
    "duration": 8,
    "start_time": "2022-10-26T21:32:17.722Z"
   },
   {
    "duration": 11,
    "start_time": "2022-10-26T21:32:17.731Z"
   },
   {
    "duration": 22,
    "start_time": "2022-10-26T21:32:17.744Z"
   },
   {
    "duration": 54,
    "start_time": "2022-10-26T21:32:17.768Z"
   },
   {
    "duration": 12,
    "start_time": "2022-10-26T21:32:17.824Z"
   },
   {
    "duration": 10,
    "start_time": "2022-10-26T21:32:17.837Z"
   },
   {
    "duration": 3,
    "start_time": "2022-10-26T21:32:17.848Z"
   },
   {
    "duration": 3,
    "start_time": "2022-10-26T21:32:17.854Z"
   },
   {
    "duration": 5959,
    "start_time": "2022-10-26T21:32:17.858Z"
   },
   {
    "duration": 93,
    "start_time": "2022-10-26T21:32:23.818Z"
   },
   {
    "duration": 106,
    "start_time": "2022-10-26T21:32:23.912Z"
   },
   {
    "duration": 4,
    "start_time": "2022-10-26T21:32:24.020Z"
   },
   {
    "duration": 99,
    "start_time": "2022-10-26T21:32:24.110Z"
   },
   {
    "duration": 7005,
    "start_time": "2022-10-26T21:32:24.211Z"
   },
   {
    "duration": 4,
    "start_time": "2022-10-26T21:32:31.217Z"
   },
   {
    "duration": 487,
    "start_time": "2022-10-26T21:32:31.222Z"
   },
   {
    "duration": 3,
    "start_time": "2022-10-26T21:32:31.711Z"
   },
   {
    "duration": 98,
    "start_time": "2022-10-26T21:32:31.716Z"
   },
   {
    "duration": 4295,
    "start_time": "2022-10-26T21:32:31.816Z"
   },
   {
    "duration": 92,
    "start_time": "2022-10-26T21:32:36.119Z"
   },
   {
    "duration": 195,
    "start_time": "2022-10-26T21:32:36.213Z"
   },
   {
    "duration": 4236,
    "start_time": "2022-10-26T21:32:36.410Z"
   },
   {
    "duration": 36,
    "start_time": "2022-10-26T21:32:40.648Z"
   },
   {
    "duration": 5206,
    "start_time": "2022-10-26T21:32:40.686Z"
   },
   {
    "duration": 71,
    "start_time": "2022-10-26T21:32:45.894Z"
   },
   {
    "duration": 327,
    "start_time": "2022-10-26T21:32:45.967Z"
   },
   {
    "duration": 46,
    "start_time": "2022-10-26T21:32:46.296Z"
   },
   {
    "duration": 49935,
    "start_time": "2022-10-26T21:32:46.344Z"
   },
   {
    "duration": 236,
    "start_time": "2022-10-26T21:33:36.280Z"
   },
   {
    "duration": 86771,
    "start_time": "2022-10-26T21:33:36.518Z"
   },
   {
    "duration": 323,
    "start_time": "2022-10-26T21:35:03.290Z"
   },
   {
    "duration": 57754,
    "start_time": "2022-10-26T21:35:03.614Z"
   },
   {
    "duration": 320,
    "start_time": "2022-10-26T21:36:01.369Z"
   },
   {
    "duration": 4,
    "start_time": "2022-10-26T21:36:01.690Z"
   },
   {
    "duration": 436,
    "start_time": "2022-10-26T21:36:01.696Z"
   },
   {
    "duration": 334,
    "start_time": "2022-10-26T21:40:36.093Z"
   },
   {
    "duration": 1039,
    "start_time": "2022-10-26T21:40:44.833Z"
   },
   {
    "duration": 39,
    "start_time": "2022-10-26T21:40:45.874Z"
   },
   {
    "duration": 13,
    "start_time": "2022-10-26T21:40:45.914Z"
   },
   {
    "duration": 18,
    "start_time": "2022-10-26T21:40:45.929Z"
   },
   {
    "duration": 7,
    "start_time": "2022-10-26T21:40:45.948Z"
   },
   {
    "duration": 4,
    "start_time": "2022-10-26T21:40:45.956Z"
   },
   {
    "duration": 6,
    "start_time": "2022-10-26T21:40:45.961Z"
   },
   {
    "duration": 8,
    "start_time": "2022-10-26T21:40:45.968Z"
   },
   {
    "duration": 6,
    "start_time": "2022-10-26T21:40:45.977Z"
   },
   {
    "duration": 4,
    "start_time": "2022-10-26T21:40:46.008Z"
   },
   {
    "duration": 13,
    "start_time": "2022-10-26T21:40:46.013Z"
   },
   {
    "duration": 4,
    "start_time": "2022-10-26T21:40:46.028Z"
   },
   {
    "duration": 8,
    "start_time": "2022-10-26T21:40:46.033Z"
   },
   {
    "duration": 1044,
    "start_time": "2022-10-26T21:40:46.042Z"
   },
   {
    "duration": 33,
    "start_time": "2022-10-26T21:40:47.087Z"
   },
   {
    "duration": 56864,
    "start_time": "2022-10-26T21:40:47.122Z"
   },
   {
    "duration": 336,
    "start_time": "2022-10-26T21:41:43.987Z"
   },
   {
    "duration": 37,
    "start_time": "2022-10-26T21:41:44.324Z"
   },
   {
    "duration": 58,
    "start_time": "2022-10-26T21:41:44.362Z"
   },
   {
    "duration": 18,
    "start_time": "2022-10-26T21:41:44.510Z"
   },
   {
    "duration": 16,
    "start_time": "2022-10-26T21:41:44.530Z"
   },
   {
    "duration": 11,
    "start_time": "2022-10-26T21:41:44.547Z"
   },
   {
    "duration": 22,
    "start_time": "2022-10-26T21:41:44.560Z"
   },
   {
    "duration": 37,
    "start_time": "2022-10-26T21:41:44.584Z"
   },
   {
    "duration": 11,
    "start_time": "2022-10-26T21:41:44.623Z"
   },
   {
    "duration": 9,
    "start_time": "2022-10-26T21:41:44.635Z"
   },
   {
    "duration": 3,
    "start_time": "2022-10-26T21:41:44.645Z"
   },
   {
    "duration": 3,
    "start_time": "2022-10-26T21:41:44.651Z"
   },
   {
    "duration": 6352,
    "start_time": "2022-10-26T21:41:44.656Z"
   },
   {
    "duration": 4,
    "start_time": "2022-10-26T21:41:51.010Z"
   },
   {
    "duration": 98,
    "start_time": "2022-10-26T21:41:51.016Z"
   },
   {
    "duration": 3,
    "start_time": "2022-10-26T21:41:51.116Z"
   },
   {
    "duration": 192,
    "start_time": "2022-10-26T21:41:51.120Z"
   },
   {
    "duration": 7700,
    "start_time": "2022-10-26T21:41:51.313Z"
   },
   {
    "duration": 4,
    "start_time": "2022-10-26T21:41:59.015Z"
   },
   {
    "duration": 397,
    "start_time": "2022-10-26T21:41:59.021Z"
   },
   {
    "duration": 3,
    "start_time": "2022-10-26T21:41:59.510Z"
   },
   {
    "duration": 102,
    "start_time": "2022-10-26T21:41:59.517Z"
   },
   {
    "duration": 4388,
    "start_time": "2022-10-26T21:41:59.621Z"
   },
   {
    "duration": 7,
    "start_time": "2022-10-26T21:42:04.011Z"
   },
   {
    "duration": 107,
    "start_time": "2022-10-26T21:42:04.109Z"
   },
   {
    "duration": 1512,
    "start_time": "2022-10-26T21:42:04.217Z"
   },
   {
    "duration": 34,
    "start_time": "2022-10-26T21:42:05.730Z"
   },
   {
    "duration": 1650,
    "start_time": "2022-10-26T21:42:05.766Z"
   },
   {
    "duration": 34,
    "start_time": "2022-10-26T21:42:07.418Z"
   },
   {
    "duration": 330,
    "start_time": "2022-10-26T21:42:07.454Z"
   },
   {
    "duration": 48,
    "start_time": "2022-10-26T21:42:07.785Z"
   },
   {
    "duration": 49364,
    "start_time": "2022-10-26T21:42:07.835Z"
   },
   {
    "duration": 238,
    "start_time": "2022-10-26T21:42:57.201Z"
   },
   {
    "duration": 86720,
    "start_time": "2022-10-26T21:42:57.441Z"
   },
   {
    "duration": 352,
    "start_time": "2022-10-26T21:44:24.162Z"
   },
   {
    "duration": 57344,
    "start_time": "2022-10-26T21:44:24.516Z"
   },
   {
    "duration": 319,
    "start_time": "2022-10-26T21:45:21.862Z"
   },
   {
    "duration": 4,
    "start_time": "2022-10-26T21:45:22.182Z"
   },
   {
    "duration": 522,
    "start_time": "2022-10-26T21:45:22.187Z"
   },
   {
    "duration": 341,
    "start_time": "2022-10-26T21:45:22.710Z"
   },
   {
    "duration": 467,
    "start_time": "2022-10-26T21:47:29.366Z"
   },
   {
    "duration": 234,
    "start_time": "2022-10-26T21:47:47.268Z"
   },
   {
    "duration": 341,
    "start_time": "2022-10-26T21:48:48.718Z"
   },
   {
    "duration": 1853,
    "start_time": "2022-10-27T08:59:30.534Z"
   },
   {
    "duration": 79,
    "start_time": "2022-10-27T08:59:32.389Z"
   },
   {
    "duration": 12,
    "start_time": "2022-10-27T08:59:32.470Z"
   },
   {
    "duration": 15,
    "start_time": "2022-10-27T08:59:32.484Z"
   },
   {
    "duration": 8,
    "start_time": "2022-10-27T08:59:32.501Z"
   },
   {
    "duration": 6,
    "start_time": "2022-10-27T08:59:32.511Z"
   },
   {
    "duration": 6,
    "start_time": "2022-10-27T08:59:32.518Z"
   },
   {
    "duration": 17,
    "start_time": "2022-10-27T08:59:32.525Z"
   },
   {
    "duration": 6,
    "start_time": "2022-10-27T08:59:32.544Z"
   },
   {
    "duration": 6,
    "start_time": "2022-10-27T08:59:32.551Z"
   },
   {
    "duration": 17,
    "start_time": "2022-10-27T08:59:32.559Z"
   },
   {
    "duration": 5,
    "start_time": "2022-10-27T08:59:32.578Z"
   },
   {
    "duration": 8,
    "start_time": "2022-10-27T08:59:35.898Z"
   },
   {
    "duration": 12,
    "start_time": "2022-10-27T08:59:40.501Z"
   },
   {
    "duration": 29,
    "start_time": "2022-10-27T08:59:41.121Z"
   },
   {
    "duration": 13,
    "start_time": "2022-10-27T08:59:45.423Z"
   },
   {
    "duration": 11,
    "start_time": "2022-10-27T08:59:47.075Z"
   },
   {
    "duration": 113,
    "start_time": "2022-10-27T08:59:52.635Z"
   },
   {
    "duration": 302,
    "start_time": "2022-10-27T09:00:16.871Z"
   },
   {
    "duration": 1687,
    "start_time": "2022-11-27T19:24:41.988Z"
   },
   {
    "duration": 93,
    "start_time": "2022-11-27T19:24:43.677Z"
   },
   {
    "duration": 19,
    "start_time": "2022-11-27T19:24:43.772Z"
   },
   {
    "duration": 24,
    "start_time": "2022-11-27T19:24:43.794Z"
   },
   {
    "duration": 9,
    "start_time": "2022-11-27T19:24:43.820Z"
   },
   {
    "duration": 11,
    "start_time": "2022-11-27T19:24:43.831Z"
   },
   {
    "duration": 6,
    "start_time": "2022-11-27T19:24:43.844Z"
   },
   {
    "duration": 13,
    "start_time": "2022-11-27T19:24:43.854Z"
   },
   {
    "duration": 13,
    "start_time": "2022-11-27T19:24:43.869Z"
   },
   {
    "duration": 8,
    "start_time": "2022-11-27T19:24:43.884Z"
   },
   {
    "duration": 26,
    "start_time": "2022-11-27T19:24:43.893Z"
   },
   {
    "duration": 7,
    "start_time": "2022-11-27T19:24:43.921Z"
   },
   {
    "duration": 14,
    "start_time": "2022-11-27T19:24:43.930Z"
   },
   {
    "duration": 1077,
    "start_time": "2022-11-27T19:24:43.946Z"
   },
   {
    "duration": 30,
    "start_time": "2022-11-27T19:24:45.025Z"
   },
   {
    "duration": 58995,
    "start_time": "2022-11-27T19:24:45.057Z"
   },
   {
    "duration": 380,
    "start_time": "2022-11-27T19:25:44.054Z"
   },
   {
    "duration": 82,
    "start_time": "2022-11-27T19:25:44.435Z"
   },
   {
    "duration": 12,
    "start_time": "2022-11-27T19:25:44.518Z"
   },
   {
    "duration": 99,
    "start_time": "2022-11-27T19:25:44.614Z"
   },
   {
    "duration": 15,
    "start_time": "2022-11-27T19:25:44.715Z"
   },
   {
    "duration": 21,
    "start_time": "2022-11-27T19:25:44.732Z"
   },
   {
    "duration": 37,
    "start_time": "2022-11-27T19:25:44.755Z"
   },
   {
    "duration": 30,
    "start_time": "2022-11-27T19:25:44.794Z"
   },
   {
    "duration": 18,
    "start_time": "2022-11-27T19:25:44.838Z"
   },
   {
    "duration": 5,
    "start_time": "2022-11-27T19:25:44.859Z"
   },
   {
    "duration": 15,
    "start_time": "2022-11-27T19:25:44.866Z"
   },
   {
    "duration": 22137,
    "start_time": "2022-11-27T19:25:44.886Z"
   },
   {
    "duration": 87,
    "start_time": "2022-11-27T19:26:07.025Z"
   },
   {
    "duration": 108,
    "start_time": "2022-11-27T19:26:07.115Z"
   },
   {
    "duration": 83,
    "start_time": "2022-11-27T19:26:07.229Z"
   },
   {
    "duration": 14,
    "start_time": "2022-11-27T19:26:07.315Z"
   },
   {
    "duration": 12201,
    "start_time": "2022-11-27T19:26:07.332Z"
   },
   {
    "duration": 7,
    "start_time": "2022-11-27T19:26:19.535Z"
   },
   {
    "duration": 1372,
    "start_time": "2022-11-27T19:26:19.544Z"
   },
   {
    "duration": 4,
    "start_time": "2022-11-27T19:26:20.918Z"
   },
   {
    "duration": 93,
    "start_time": "2022-11-27T19:26:20.926Z"
   },
   {
    "duration": 9708,
    "start_time": "2022-11-27T19:26:21.021Z"
   },
   {
    "duration": 88,
    "start_time": "2022-11-27T19:26:30.732Z"
   },
   {
    "duration": 1596,
    "start_time": "2022-11-27T19:26:30.822Z"
   },
   {
    "duration": 971,
    "start_time": "2022-11-27T19:26:32.424Z"
   },
   {
    "duration": 42,
    "start_time": "2022-11-27T19:26:33.398Z"
   },
   {
    "duration": 1112,
    "start_time": "2022-11-27T19:26:33.444Z"
   },
   {
    "duration": 27,
    "start_time": "2022-11-27T19:26:34.558Z"
   },
   {
    "duration": 322,
    "start_time": "2022-11-27T19:26:34.587Z"
   },
   {
    "duration": 27,
    "start_time": "2022-11-27T19:26:34.913Z"
   },
   {
    "duration": 39771,
    "start_time": "2022-11-27T19:26:34.943Z"
   },
   {
    "duration": 170,
    "start_time": "2022-11-27T19:27:14.717Z"
   },
   {
    "duration": 68690,
    "start_time": "2022-11-27T19:27:14.889Z"
   },
   {
    "duration": 309,
    "start_time": "2022-11-27T19:28:23.581Z"
   },
   {
    "duration": 49890,
    "start_time": "2022-11-27T19:28:23.892Z"
   },
   {
    "duration": 255,
    "start_time": "2022-11-27T19:29:13.785Z"
   },
   {
    "duration": 4,
    "start_time": "2022-11-27T19:29:14.041Z"
   },
   {
    "duration": 465,
    "start_time": "2022-11-27T19:29:14.047Z"
   },
   {
    "duration": 308,
    "start_time": "2022-11-27T19:29:14.514Z"
   }
  ],
  "kernelspec": {
   "display_name": "Python 3 (ipykernel)",
   "language": "python",
   "name": "python3"
  },
  "language_info": {
   "codemirror_mode": {
    "name": "ipython",
    "version": 3
   },
   "file_extension": ".py",
   "mimetype": "text/x-python",
   "name": "python",
   "nbconvert_exporter": "python",
   "pygments_lexer": "ipython3",
   "version": "3.9.12"
  },
  "toc": {
   "base_numbering": 1,
   "nav_menu": {},
   "number_sections": true,
   "sideBar": true,
   "skip_h1_title": true,
   "title_cell": "Содержание",
   "title_sidebar": "Contents",
   "toc_cell": true,
   "toc_position": {},
   "toc_section_display": true,
   "toc_window_display": false
  }
 },
 "nbformat": 4,
 "nbformat_minor": 2
}
