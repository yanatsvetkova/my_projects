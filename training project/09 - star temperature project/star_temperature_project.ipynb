{
 "cells": [
  {
   "cell_type": "markdown",
   "id": "ea894a2d",
   "metadata": {},
   "source": [
    "# Прогнозирование температуры звезды"
   ]
  },
  {
   "cell_type": "markdown",
   "id": "9daa99df",
   "metadata": {},
   "source": [
    "Нам пришла задача от обсерватории «Небо на ладони»: нужно придумать, как с помощью нейросети определять температуру на поверхности обнаруженных звёзд. Обычно для расчёта температуры учёные пользуются следующими методами:\n",
    "- Закон смещения Вина.\n",
    "- Закон Стефана-Больцмана.\n",
    "- Спектральный анализ.\n",
    "\n",
    "Каждый из них имеет плюсы и минусы. Обсерватория хочет внедрить технологии машинного обучения для предсказания температуры звёзд, надеясь, что этот метод будет наиболее точным и удобным.\n",
    "В базе обсерватории есть характеристики уже изученных 240 звёзд.\n",
    "\n",
    "Работа включает в себя:\n",
    " - Знакомство с данными\n",
    " - Анализ и предобработка данных\n",
    " - Построение базовой нейросети\n",
    " - Улучшение нейросети\n",
    " - Выводы"
   ]
  },
  {
   "cell_type": "markdown",
   "id": "c9aa2ced",
   "metadata": {},
   "source": [
    "## Загружаем необходимые библиотеки"
   ]
  },
  {
   "cell_type": "code",
   "execution_count": 1,
   "id": "28fd315d",
   "metadata": {},
   "outputs": [
    {
     "name": "stdout",
     "output_type": "stream",
     "text": [
      "Requirement already satisfied: scikit-learn==1.2.1 in /opt/conda/lib/python3.9/site-packages (1.2.1)\n",
      "Requirement already satisfied: scipy>=1.3.2 in /opt/conda/lib/python3.9/site-packages (from scikit-learn==1.2.1) (1.9.1)\n",
      "Requirement already satisfied: numpy>=1.17.3 in /opt/conda/lib/python3.9/site-packages (from scikit-learn==1.2.1) (1.21.1)\n",
      "Requirement already satisfied: threadpoolctl>=2.0.0 in /opt/conda/lib/python3.9/site-packages (from scikit-learn==1.2.1) (3.1.0)\n",
      "Requirement already satisfied: joblib>=1.1.1 in /opt/conda/lib/python3.9/site-packages (from scikit-learn==1.2.1) (1.2.0)\n"
     ]
    },
    {
     "data": {
      "text/plain": [
       "<torch._C.Generator at 0x7fcfac8a4550>"
      ]
     },
     "execution_count": 1,
     "metadata": {},
     "output_type": "execute_result"
    }
   ],
   "source": [
    "import pandas as pd\n",
    "import numpy as np\n",
    "import random\n",
    "from matplotlib import pyplot as plt\n",
    "import seaborn as sns #библиотеки для предобработки\n",
    "\n",
    "!pip install scikit-learn==1.2.1\n",
    "\n",
    "from math import ceil, sqrt\n",
    "\n",
    "import sklearn\n",
    "from sklearn.model_selection import train_test_split\n",
    "from sklearn.preprocessing import OneHotEncoder, StandardScaler\n",
    "from sklearn.compose import ColumnTransformer\n",
    "from sklearn.metrics import mean_squared_error #библиотеки для ML\n",
    "\n",
    "import torch\n",
    "import torch.nn as nn #библиотеки НС\n",
    "\n",
    "random.seed(42)\n",
    "np.random.seed(42)\n",
    "torch.manual_seed(42)"
   ]
  },
  {
   "cell_type": "markdown",
   "id": "simple-subdivision",
   "metadata": {},
   "source": [
    "## Предобработка и анализ данных"
   ]
  },
  {
   "cell_type": "code",
   "execution_count": 2,
   "id": "108aab36",
   "metadata": {},
   "outputs": [],
   "source": [
    "data = pd.read_csv('/datasets/6_class.csv')"
   ]
  },
  {
   "cell_type": "code",
   "execution_count": 3,
   "id": "flush-dream",
   "metadata": {},
   "outputs": [],
   "source": [
    "def prepare(df): #фунция предобработки данных\n",
    "    display(df.head())\n",
    "    display(df.info())\n",
    "    display(df.isna().sum())\n",
    "    display(df.duplicated().sum())"
   ]
  },
  {
   "cell_type": "code",
   "execution_count": 4,
   "id": "f73bd929",
   "metadata": {},
   "outputs": [
    {
     "data": {
      "text/html": [
       "<div>\n",
       "<style scoped>\n",
       "    .dataframe tbody tr th:only-of-type {\n",
       "        vertical-align: middle;\n",
       "    }\n",
       "\n",
       "    .dataframe tbody tr th {\n",
       "        vertical-align: top;\n",
       "    }\n",
       "\n",
       "    .dataframe thead th {\n",
       "        text-align: right;\n",
       "    }\n",
       "</style>\n",
       "<table border=\"1\" class=\"dataframe\">\n",
       "  <thead>\n",
       "    <tr style=\"text-align: right;\">\n",
       "      <th></th>\n",
       "      <th>Unnamed: 0</th>\n",
       "      <th>Temperature (K)</th>\n",
       "      <th>Luminosity(L/Lo)</th>\n",
       "      <th>Radius(R/Ro)</th>\n",
       "      <th>Absolute magnitude(Mv)</th>\n",
       "      <th>Star type</th>\n",
       "      <th>Star color</th>\n",
       "    </tr>\n",
       "  </thead>\n",
       "  <tbody>\n",
       "    <tr>\n",
       "      <th>0</th>\n",
       "      <td>0</td>\n",
       "      <td>3068</td>\n",
       "      <td>0.002400</td>\n",
       "      <td>0.1700</td>\n",
       "      <td>16.12</td>\n",
       "      <td>0</td>\n",
       "      <td>Red</td>\n",
       "    </tr>\n",
       "    <tr>\n",
       "      <th>1</th>\n",
       "      <td>1</td>\n",
       "      <td>3042</td>\n",
       "      <td>0.000500</td>\n",
       "      <td>0.1542</td>\n",
       "      <td>16.60</td>\n",
       "      <td>0</td>\n",
       "      <td>Red</td>\n",
       "    </tr>\n",
       "    <tr>\n",
       "      <th>2</th>\n",
       "      <td>2</td>\n",
       "      <td>2600</td>\n",
       "      <td>0.000300</td>\n",
       "      <td>0.1020</td>\n",
       "      <td>18.70</td>\n",
       "      <td>0</td>\n",
       "      <td>Red</td>\n",
       "    </tr>\n",
       "    <tr>\n",
       "      <th>3</th>\n",
       "      <td>3</td>\n",
       "      <td>2800</td>\n",
       "      <td>0.000200</td>\n",
       "      <td>0.1600</td>\n",
       "      <td>16.65</td>\n",
       "      <td>0</td>\n",
       "      <td>Red</td>\n",
       "    </tr>\n",
       "    <tr>\n",
       "      <th>4</th>\n",
       "      <td>4</td>\n",
       "      <td>1939</td>\n",
       "      <td>0.000138</td>\n",
       "      <td>0.1030</td>\n",
       "      <td>20.06</td>\n",
       "      <td>0</td>\n",
       "      <td>Red</td>\n",
       "    </tr>\n",
       "  </tbody>\n",
       "</table>\n",
       "</div>"
      ],
      "text/plain": [
       "   Unnamed: 0  Temperature (K)  Luminosity(L/Lo)  Radius(R/Ro)  \\\n",
       "0           0             3068          0.002400        0.1700   \n",
       "1           1             3042          0.000500        0.1542   \n",
       "2           2             2600          0.000300        0.1020   \n",
       "3           3             2800          0.000200        0.1600   \n",
       "4           4             1939          0.000138        0.1030   \n",
       "\n",
       "   Absolute magnitude(Mv)  Star type Star color  \n",
       "0                   16.12          0        Red  \n",
       "1                   16.60          0        Red  \n",
       "2                   18.70          0        Red  \n",
       "3                   16.65          0        Red  \n",
       "4                   20.06          0        Red  "
      ]
     },
     "metadata": {},
     "output_type": "display_data"
    },
    {
     "name": "stdout",
     "output_type": "stream",
     "text": [
      "<class 'pandas.core.frame.DataFrame'>\n",
      "RangeIndex: 240 entries, 0 to 239\n",
      "Data columns (total 7 columns):\n",
      " #   Column                  Non-Null Count  Dtype  \n",
      "---  ------                  --------------  -----  \n",
      " 0   Unnamed: 0              240 non-null    int64  \n",
      " 1   Temperature (K)         240 non-null    int64  \n",
      " 2   Luminosity(L/Lo)        240 non-null    float64\n",
      " 3   Radius(R/Ro)            240 non-null    float64\n",
      " 4   Absolute magnitude(Mv)  240 non-null    float64\n",
      " 5   Star type               240 non-null    int64  \n",
      " 6   Star color              240 non-null    object \n",
      "dtypes: float64(3), int64(3), object(1)\n",
      "memory usage: 13.2+ KB\n"
     ]
    },
    {
     "data": {
      "text/plain": [
       "None"
      ]
     },
     "metadata": {},
     "output_type": "display_data"
    },
    {
     "data": {
      "text/plain": [
       "Unnamed: 0                0\n",
       "Temperature (K)           0\n",
       "Luminosity(L/Lo)          0\n",
       "Radius(R/Ro)              0\n",
       "Absolute magnitude(Mv)    0\n",
       "Star type                 0\n",
       "Star color                0\n",
       "dtype: int64"
      ]
     },
     "metadata": {},
     "output_type": "display_data"
    },
    {
     "data": {
      "text/plain": [
       "0"
      ]
     },
     "metadata": {},
     "output_type": "display_data"
    }
   ],
   "source": [
    "prepare(data)"
   ]
  },
  {
   "cell_type": "code",
   "execution_count": 5,
   "id": "9f9d1abf",
   "metadata": {},
   "outputs": [],
   "source": [
    "data = data.iloc[:,1:] #нам не нужны нативные индексы-удаляем"
   ]
  },
  {
   "cell_type": "code",
   "execution_count": 6,
   "id": "4fc70320",
   "metadata": {},
   "outputs": [],
   "source": [
    "data = data.rename(columns = \n",
    "                   {'Temperature (K)':'Temperature', 'Luminosity(L/Lo)': 'Luminosity', \n",
    "                    'Radius(R/Ro)': 'Radius', 'Absolute magnitude(Mv)': 'Absolute magnitude'}\n",
    "                  ) #переименуем столбцы во избежания ошибок"
   ]
  },
  {
   "cell_type": "code",
   "execution_count": 7,
   "id": "710a67f4",
   "metadata": {},
   "outputs": [
    {
     "data": {
      "text/plain": [
       "array(['Red', 'Blue White', 'White', 'Yellowish White', 'Blue white',\n",
       "       'Pale yellow orange', 'Blue', 'Blue-white', 'Whitish',\n",
       "       'yellow-white', 'Orange', 'White-Yellow', 'white', 'Blue ',\n",
       "       'yellowish', 'Yellowish', 'Orange-Red', 'Blue white ',\n",
       "       'Blue-White'], dtype=object)"
      ]
     },
     "execution_count": 7,
     "metadata": {},
     "output_type": "execute_result"
    }
   ],
   "source": [
    "data['Star color'].unique()"
   ]
  },
  {
   "cell_type": "code",
   "execution_count": 8,
   "id": "dbfdc551",
   "metadata": {},
   "outputs": [],
   "source": [
    "data['Star color'] = data['Star color'].str.lower()\n",
    "data['Star color'] = data['Star color'].replace('blue white', 'blue-white')\n",
    "data['Star color'] = data['Star color'].replace(['yellow-white', 'yellowish white'], 'white-yellow')\n",
    "data['Star color'] = data['Star color'].replace('whitish', 'white')\n",
    "data['Star color'] = data['Star color'].replace(['pale yellow orange', 'orange-red'], 'orange')\n",
    "data['Star color'] = data['Star color'].str.strip(to_strip = None) #заменим названия"
   ]
  },
  {
   "cell_type": "code",
   "execution_count": 9,
   "id": "5deafc4b",
   "metadata": {},
   "outputs": [],
   "source": [
    "def boxplot_df(column_list, df): # функция для построения диаграммы размаха\n",
    "    for column in column_list:\n",
    "        df.boxplot(column=column)\n",
    "        plt.title(f'Диаграмма размаха на столбце {column}')\n",
    "        plt.show()\n",
    "        df[column].plot(kind='hist', bins=100, grid=True)\n",
    "        plt.title(f'Гистограмма на столбце {column}')\n",
    "        plt.xlabel(column)\n",
    "        plt.ylabel('Кол-во наблюдений')\n",
    "        plt.show()"
   ]
  },
  {
   "cell_type": "code",
   "execution_count": 10,
   "id": "98694e7d",
   "metadata": {},
   "outputs": [
    {
     "data": {
      "image/png": "[encoded data removed]",
      "text/plain": [
       "<Figure size 432x288 with 1 Axes>"
      ]
     },
     "metadata": {
      "needs_background": "light"
     },
     "output_type": "display_data"
    },
    {
     "data": {
      "image/png": "[encoded data removed]",
      "text/plain": [
       "<Figure size 432x288 with 1 Axes>"
      ]
     },
     "metadata": {
      "needs_background": "light"
     },
     "output_type": "display_data"
    },
    {
     "data": {
      "image/png": "[encoded data removed]",
      "text/plain": [
       "<Figure size 432x288 with 1 Axes>"
      ]
     },
     "metadata": {
      "needs_background": "light"
     },
     "output_type": "display_data"
    },
    {
     "data": {
      "image/png": "[encoded data removed]",
      "text/plain": [
       "<Figure size 432x288 with 1 Axes>"
      ]
     },
     "metadata": {
      "needs_background": "light"
     },
     "output_type": "display_data"
    },
    {
     "data": {
      "image/png": "[encoded data removed]",
      "text/plain": [
       "<Figure size 432x288 with 1 Axes>"
      ]
     },
     "metadata": {
      "needs_background": "light"
     },
     "output_type": "display_data"
    },
    {
     "data": {
      "image/png": "[encoded data removed]",
      "text/plain": [
       "<Figure size 432x288 with 1 Axes>"
      ]
     },
     "metadata": {
      "needs_background": "light"
     },
     "output_type": "display_data"
    },
    {
     "data": {
      "image/png": "[encoded data removed]",
      "text/plain": [
       "<Figure size 432x288 with 1 Axes>"
      ]
     },
     "metadata": {
      "needs_background": "light"
     },
     "output_type": "display_data"
    },
    {
     "data": {
      "image/png": "[encoded data removed]",
      "text/plain": [
       "<Figure size 432x288 with 1 Axes>"
      ]
     },
     "metadata": {
      "needs_background": "light"
     },
     "output_type": "display_data"
    },
    {
     "data": {
      "image/png": "[encoded data removed]",
      "text/plain": [
       "<Figure size 432x288 with 1 Axes>"
      ]
     },
     "metadata": {
      "needs_background": "light"
     },
     "output_type": "display_data"
    },
    {
     "data": {
      "image/png": "[encoded data removed]",
      "text/plain": [
       "<Figure size 432x288 with 1 Axes>"
      ]
     },
     "metadata": {
      "needs_background": "light"
     },
     "output_type": "display_data"
    }
   ],
   "source": [
    "boxplot_df(['Temperature', 'Luminosity', 'Radius', 'Absolute magnitude', 'Star type'], data)"
   ]
  },
  {
   "cell_type": "code",
   "execution_count": 11,
   "id": "2efa61e0",
   "metadata": {},
   "outputs": [
    {
     "data": {
      "text/html": [
       "<div>\n",
       "<style scoped>\n",
       "    .dataframe tbody tr th:only-of-type {\n",
       "        vertical-align: middle;\n",
       "    }\n",
       "\n",
       "    .dataframe tbody tr th {\n",
       "        vertical-align: top;\n",
       "    }\n",
       "\n",
       "    .dataframe thead th {\n",
       "        text-align: right;\n",
       "    }\n",
       "</style>\n",
       "<table border=\"1\" class=\"dataframe\">\n",
       "  <thead>\n",
       "    <tr style=\"text-align: right;\">\n",
       "      <th></th>\n",
       "      <th>Temperature</th>\n",
       "      <th>Luminosity</th>\n",
       "      <th>Radius</th>\n",
       "      <th>Absolute magnitude</th>\n",
       "      <th>Star type</th>\n",
       "    </tr>\n",
       "  </thead>\n",
       "  <tbody>\n",
       "    <tr>\n",
       "      <th>count</th>\n",
       "      <td>240.000000</td>\n",
       "      <td>240.000000</td>\n",
       "      <td>240.000000</td>\n",
       "      <td>240.000000</td>\n",
       "      <td>240.000000</td>\n",
       "    </tr>\n",
       "    <tr>\n",
       "      <th>mean</th>\n",
       "      <td>10497.462500</td>\n",
       "      <td>107188.361635</td>\n",
       "      <td>237.157781</td>\n",
       "      <td>4.382396</td>\n",
       "      <td>2.500000</td>\n",
       "    </tr>\n",
       "    <tr>\n",
       "      <th>std</th>\n",
       "      <td>9552.425037</td>\n",
       "      <td>179432.244940</td>\n",
       "      <td>517.155763</td>\n",
       "      <td>10.532512</td>\n",
       "      <td>1.711394</td>\n",
       "    </tr>\n",
       "    <tr>\n",
       "      <th>min</th>\n",
       "      <td>1939.000000</td>\n",
       "      <td>0.000080</td>\n",
       "      <td>0.008400</td>\n",
       "      <td>-11.920000</td>\n",
       "      <td>0.000000</td>\n",
       "    </tr>\n",
       "    <tr>\n",
       "      <th>25%</th>\n",
       "      <td>3344.250000</td>\n",
       "      <td>0.000865</td>\n",
       "      <td>0.102750</td>\n",
       "      <td>-6.232500</td>\n",
       "      <td>1.000000</td>\n",
       "    </tr>\n",
       "    <tr>\n",
       "      <th>50%</th>\n",
       "      <td>5776.000000</td>\n",
       "      <td>0.070500</td>\n",
       "      <td>0.762500</td>\n",
       "      <td>8.313000</td>\n",
       "      <td>2.500000</td>\n",
       "    </tr>\n",
       "    <tr>\n",
       "      <th>75%</th>\n",
       "      <td>15055.500000</td>\n",
       "      <td>198050.000000</td>\n",
       "      <td>42.750000</td>\n",
       "      <td>13.697500</td>\n",
       "      <td>4.000000</td>\n",
       "    </tr>\n",
       "    <tr>\n",
       "      <th>max</th>\n",
       "      <td>40000.000000</td>\n",
       "      <td>849420.000000</td>\n",
       "      <td>1948.500000</td>\n",
       "      <td>20.060000</td>\n",
       "      <td>5.000000</td>\n",
       "    </tr>\n",
       "  </tbody>\n",
       "</table>\n",
       "</div>"
      ],
      "text/plain": [
       "        Temperature     Luminosity       Radius  Absolute magnitude  \\\n",
       "count    240.000000     240.000000   240.000000          240.000000   \n",
       "mean   10497.462500  107188.361635   237.157781            4.382396   \n",
       "std     9552.425037  179432.244940   517.155763           10.532512   \n",
       "min     1939.000000       0.000080     0.008400          -11.920000   \n",
       "25%     3344.250000       0.000865     0.102750           -6.232500   \n",
       "50%     5776.000000       0.070500     0.762500            8.313000   \n",
       "75%    15055.500000  198050.000000    42.750000           13.697500   \n",
       "max    40000.000000  849420.000000  1948.500000           20.060000   \n",
       "\n",
       "        Star type  \n",
       "count  240.000000  \n",
       "mean     2.500000  \n",
       "std      1.711394  \n",
       "min      0.000000  \n",
       "25%      1.000000  \n",
       "50%      2.500000  \n",
       "75%      4.000000  \n",
       "max      5.000000  "
      ]
     },
     "execution_count": 11,
     "metadata": {},
     "output_type": "execute_result"
    }
   ],
   "source": [
    "data.describe() #метрики по таблице"
   ]
  },
  {
   "cell_type": "markdown",
   "id": "51da4a7f",
   "metadata": {},
   "source": [
    "Вывод: наш датасет невелик, поэтому имеющиеся выбросы удалять нецелесообразно.. Но если оценить данные по столбцам, можно сделать вывод, что были неявные дубликаты в названии цветов звезд, мы их заменили. В столбцах \"Абсолютная звёздная величина\" выбросов не замечено. По остальным столбцам медианное значение приближено к истиной медиане, поэтому никаких правок я бы не вносила ссылаясь на небольшой датасет."
   ]
  },
  {
   "cell_type": "markdown",
   "id": "funded-electric",
   "metadata": {},
   "source": [
    "## Построение базовой нейронной сети"
   ]
  },
  {
   "cell_type": "markdown",
   "id": "968dc794",
   "metadata": {},
   "source": [
    "### Подготовка данных для НС"
   ]
  },
  {
   "cell_type": "code",
   "execution_count": 12,
   "id": "forced-concentrate",
   "metadata": {},
   "outputs": [],
   "source": [
    "num_cols = ['Luminosity','Radius','Absolute magnitude'] #числовые признаки\n",
    "cat_cols = ['Star type', 'Star color'] #категориальные признаки\n",
    "target = ['Temperature'] #целевой признак\n",
    "x = data.drop(target, axis = 1).copy()\n",
    "y = data[target].copy()"
   ]
  },
  {
   "cell_type": "code",
   "execution_count": 13,
   "id": "07c090b8",
   "metadata": {},
   "outputs": [],
   "source": [
    "x_train, x_test, y_train, y_test = train_test_split(x, y, test_size=0.2, random_state=3214)"
   ]
  },
  {
   "cell_type": "code",
   "execution_count": 14,
   "id": "48f73c3f",
   "metadata": {},
   "outputs": [],
   "source": [
    "for i in [x_train, x_test, y_train, y_test]:\n",
    "    i.reset_index(drop=True, inplace=True)"
   ]
  },
  {
   "cell_type": "code",
   "execution_count": 15,
   "id": "1f247140",
   "metadata": {},
   "outputs": [
    {
     "name": "stderr",
     "output_type": "stream",
     "text": [
      "/opt/conda/lib/python3.9/site-packages/sklearn/preprocessing/_encoders.py:828: FutureWarning: `sparse` was renamed to `sparse_output` in version 1.2 and will be removed in 1.4. `sparse_output` is ignored unless you leave `sparse` to its default value.\n",
      "  warnings.warn(\n"
     ]
    }
   ],
   "source": [
    "OHE = OneHotEncoder(sparse=False, drop = 'first', handle_unknown = 'error') #преобразование категориальных данных методом OHE\n",
    "\n",
    "x_train_cat = pd.DataFrame(OHE.fit_transform(x_train.loc[:,cat_cols]))\n",
    "x_train_cat.columns = OHE.get_feature_names_out(cat_cols)\n",
    "x_train.drop(cat_cols, axis = 1, inplace = True)\n",
    "x_train = pd.concat([x_train, x_train_cat], axis = 1)\n",
    "\n",
    "x_test_cat = pd.DataFrame(OHE.transform(x_test.loc[:,cat_cols]))\n",
    "x_test_cat.columns = OHE.get_feature_names_out(cat_cols)\n",
    "x_test.drop(cat_cols, axis = 1, inplace = True)\n",
    "x_test = pd.concat([x_test, x_test_cat], axis = 1)"
   ]
  },
  {
   "cell_type": "code",
   "execution_count": 16,
   "id": "6d2e8a87",
   "metadata": {},
   "outputs": [],
   "source": [
    "scaler = StandardScaler() #стандартизация числовых данных\n",
    "\n",
    "x_train[num_cols] = scaler.fit_transform(x_train[num_cols])\n",
    "x_test[num_cols] = scaler.transform(x_test[num_cols])"
   ]
  },
  {
   "cell_type": "code",
   "execution_count": 17,
   "id": "f2471718",
   "metadata": {},
   "outputs": [
    {
     "data": {
      "text/html": [
       "<div>\n",
       "<style scoped>\n",
       "    .dataframe tbody tr th:only-of-type {\n",
       "        vertical-align: middle;\n",
       "    }\n",
       "\n",
       "    .dataframe tbody tr th {\n",
       "        vertical-align: top;\n",
       "    }\n",
       "\n",
       "    .dataframe thead th {\n",
       "        text-align: right;\n",
       "    }\n",
       "</style>\n",
       "<table border=\"1\" class=\"dataframe\">\n",
       "  <thead>\n",
       "    <tr style=\"text-align: right;\">\n",
       "      <th></th>\n",
       "      <th>Luminosity</th>\n",
       "      <th>Radius</th>\n",
       "      <th>Absolute magnitude</th>\n",
       "      <th>Star type_1</th>\n",
       "      <th>Star type_2</th>\n",
       "      <th>Star type_3</th>\n",
       "      <th>Star type_4</th>\n",
       "      <th>Star type_5</th>\n",
       "      <th>Star color_blue white</th>\n",
       "      <th>Star color_blue-white</th>\n",
       "      <th>Star color_orange</th>\n",
       "      <th>Star color_red</th>\n",
       "      <th>Star color_white</th>\n",
       "      <th>Star color_white-yellow</th>\n",
       "      <th>Star color_yellowish</th>\n",
       "    </tr>\n",
       "  </thead>\n",
       "  <tbody>\n",
       "    <tr>\n",
       "      <th>0</th>\n",
       "      <td>-0.627498</td>\n",
       "      <td>-0.440475</td>\n",
       "      <td>-0.145987</td>\n",
       "      <td>0.0</td>\n",
       "      <td>0.0</td>\n",
       "      <td>1.0</td>\n",
       "      <td>0.0</td>\n",
       "      <td>0.0</td>\n",
       "      <td>0.0</td>\n",
       "      <td>0.0</td>\n",
       "      <td>0.0</td>\n",
       "      <td>0.0</td>\n",
       "      <td>0.0</td>\n",
       "      <td>1.0</td>\n",
       "      <td>0.0</td>\n",
       "    </tr>\n",
       "    <tr>\n",
       "      <th>1</th>\n",
       "      <td>0.496468</td>\n",
       "      <td>2.230756</td>\n",
       "      <td>-1.387146</td>\n",
       "      <td>0.0</td>\n",
       "      <td>0.0</td>\n",
       "      <td>0.0</td>\n",
       "      <td>0.0</td>\n",
       "      <td>1.0</td>\n",
       "      <td>0.0</td>\n",
       "      <td>0.0</td>\n",
       "      <td>0.0</td>\n",
       "      <td>1.0</td>\n",
       "      <td>0.0</td>\n",
       "      <td>0.0</td>\n",
       "      <td>0.0</td>\n",
       "    </tr>\n",
       "    <tr>\n",
       "      <th>2</th>\n",
       "      <td>-0.627506</td>\n",
       "      <td>-0.442579</td>\n",
       "      <td>1.477650</td>\n",
       "      <td>0.0</td>\n",
       "      <td>0.0</td>\n",
       "      <td>0.0</td>\n",
       "      <td>0.0</td>\n",
       "      <td>0.0</td>\n",
       "      <td>0.0</td>\n",
       "      <td>0.0</td>\n",
       "      <td>0.0</td>\n",
       "      <td>1.0</td>\n",
       "      <td>0.0</td>\n",
       "      <td>0.0</td>\n",
       "      <td>0.0</td>\n",
       "    </tr>\n",
       "    <tr>\n",
       "      <th>3</th>\n",
       "      <td>-0.627506</td>\n",
       "      <td>-0.442030</td>\n",
       "      <td>0.756244</td>\n",
       "      <td>1.0</td>\n",
       "      <td>0.0</td>\n",
       "      <td>0.0</td>\n",
       "      <td>0.0</td>\n",
       "      <td>0.0</td>\n",
       "      <td>0.0</td>\n",
       "      <td>0.0</td>\n",
       "      <td>0.0</td>\n",
       "      <td>1.0</td>\n",
       "      <td>0.0</td>\n",
       "      <td>0.0</td>\n",
       "      <td>0.0</td>\n",
       "    </tr>\n",
       "    <tr>\n",
       "      <th>4</th>\n",
       "      <td>-0.627506</td>\n",
       "      <td>-0.442717</td>\n",
       "      <td>0.754351</td>\n",
       "      <td>0.0</td>\n",
       "      <td>1.0</td>\n",
       "      <td>0.0</td>\n",
       "      <td>0.0</td>\n",
       "      <td>0.0</td>\n",
       "      <td>0.0</td>\n",
       "      <td>1.0</td>\n",
       "      <td>0.0</td>\n",
       "      <td>0.0</td>\n",
       "      <td>0.0</td>\n",
       "      <td>0.0</td>\n",
       "      <td>0.0</td>\n",
       "    </tr>\n",
       "  </tbody>\n",
       "</table>\n",
       "</div>"
      ],
      "text/plain": [
       "   Luminosity    Radius  Absolute magnitude  Star type_1  Star type_2  \\\n",
       "0   -0.627498 -0.440475           -0.145987          0.0          0.0   \n",
       "1    0.496468  2.230756           -1.387146          0.0          0.0   \n",
       "2   -0.627506 -0.442579            1.477650          0.0          0.0   \n",
       "3   -0.627506 -0.442030            0.756244          1.0          0.0   \n",
       "4   -0.627506 -0.442717            0.754351          0.0          1.0   \n",
       "\n",
       "   Star type_3  Star type_4  Star type_5  Star color_blue white  \\\n",
       "0          1.0          0.0          0.0                    0.0   \n",
       "1          0.0          0.0          1.0                    0.0   \n",
       "2          0.0          0.0          0.0                    0.0   \n",
       "3          0.0          0.0          0.0                    0.0   \n",
       "4          0.0          0.0          0.0                    0.0   \n",
       "\n",
       "   Star color_blue-white  Star color_orange  Star color_red  Star color_white  \\\n",
       "0                    0.0                0.0             0.0               0.0   \n",
       "1                    0.0                0.0             1.0               0.0   \n",
       "2                    0.0                0.0             1.0               0.0   \n",
       "3                    0.0                0.0             1.0               0.0   \n",
       "4                    1.0                0.0             0.0               0.0   \n",
       "\n",
       "   Star color_white-yellow  Star color_yellowish  \n",
       "0                      1.0                   0.0  \n",
       "1                      0.0                   0.0  \n",
       "2                      0.0                   0.0  \n",
       "3                      0.0                   0.0  \n",
       "4                      0.0                   0.0  "
      ]
     },
     "execution_count": 17,
     "metadata": {},
     "output_type": "execute_result"
    }
   ],
   "source": [
    "x_train.head()"
   ]
  },
  {
   "cell_type": "code",
   "execution_count": 18,
   "id": "465a8ddf",
   "metadata": {},
   "outputs": [
    {
     "data": {
      "text/html": [
       "<div>\n",
       "<style scoped>\n",
       "    .dataframe tbody tr th:only-of-type {\n",
       "        vertical-align: middle;\n",
       "    }\n",
       "\n",
       "    .dataframe tbody tr th {\n",
       "        vertical-align: top;\n",
       "    }\n",
       "\n",
       "    .dataframe thead th {\n",
       "        text-align: right;\n",
       "    }\n",
       "</style>\n",
       "<table border=\"1\" class=\"dataframe\">\n",
       "  <thead>\n",
       "    <tr style=\"text-align: right;\">\n",
       "      <th></th>\n",
       "      <th>Luminosity</th>\n",
       "      <th>Radius</th>\n",
       "      <th>Absolute magnitude</th>\n",
       "      <th>Star type_1</th>\n",
       "      <th>Star type_2</th>\n",
       "      <th>Star type_3</th>\n",
       "      <th>Star type_4</th>\n",
       "      <th>Star type_5</th>\n",
       "      <th>Star color_blue white</th>\n",
       "      <th>Star color_blue-white</th>\n",
       "      <th>Star color_orange</th>\n",
       "      <th>Star color_red</th>\n",
       "      <th>Star color_white</th>\n",
       "      <th>Star color_white-yellow</th>\n",
       "      <th>Star color_yellowish</th>\n",
       "    </tr>\n",
       "  </thead>\n",
       "  <tbody>\n",
       "    <tr>\n",
       "      <th>0</th>\n",
       "      <td>-0.627506</td>\n",
       "      <td>-0.442718</td>\n",
       "      <td>0.774232</td>\n",
       "      <td>0.0</td>\n",
       "      <td>1.0</td>\n",
       "      <td>0.0</td>\n",
       "      <td>0.0</td>\n",
       "      <td>0.0</td>\n",
       "      <td>0.0</td>\n",
       "      <td>1.0</td>\n",
       "      <td>0.0</td>\n",
       "      <td>0.0</td>\n",
       "      <td>0.0</td>\n",
       "      <td>0.0</td>\n",
       "      <td>0.0</td>\n",
       "    </tr>\n",
       "    <tr>\n",
       "      <th>1</th>\n",
       "      <td>3.016587</td>\n",
       "      <td>3.491780</td>\n",
       "      <td>-1.400400</td>\n",
       "      <td>0.0</td>\n",
       "      <td>0.0</td>\n",
       "      <td>0.0</td>\n",
       "      <td>0.0</td>\n",
       "      <td>1.0</td>\n",
       "      <td>0.0</td>\n",
       "      <td>0.0</td>\n",
       "      <td>0.0</td>\n",
       "      <td>0.0</td>\n",
       "      <td>0.0</td>\n",
       "      <td>0.0</td>\n",
       "      <td>0.0</td>\n",
       "    </tr>\n",
       "    <tr>\n",
       "      <th>2</th>\n",
       "      <td>-0.627503</td>\n",
       "      <td>-0.440899</td>\n",
       "      <td>0.145605</td>\n",
       "      <td>0.0</td>\n",
       "      <td>0.0</td>\n",
       "      <td>1.0</td>\n",
       "      <td>0.0</td>\n",
       "      <td>0.0</td>\n",
       "      <td>0.0</td>\n",
       "      <td>0.0</td>\n",
       "      <td>0.0</td>\n",
       "      <td>0.0</td>\n",
       "      <td>0.0</td>\n",
       "      <td>1.0</td>\n",
       "      <td>0.0</td>\n",
       "    </tr>\n",
       "    <tr>\n",
       "      <th>3</th>\n",
       "      <td>-0.627506</td>\n",
       "      <td>-0.441263</td>\n",
       "      <td>1.022274</td>\n",
       "      <td>1.0</td>\n",
       "      <td>0.0</td>\n",
       "      <td>0.0</td>\n",
       "      <td>0.0</td>\n",
       "      <td>0.0</td>\n",
       "      <td>0.0</td>\n",
       "      <td>0.0</td>\n",
       "      <td>0.0</td>\n",
       "      <td>1.0</td>\n",
       "      <td>0.0</td>\n",
       "      <td>0.0</td>\n",
       "      <td>0.0</td>\n",
       "    </tr>\n",
       "    <tr>\n",
       "      <th>4</th>\n",
       "      <td>-0.627506</td>\n",
       "      <td>-0.442186</td>\n",
       "      <td>0.790326</td>\n",
       "      <td>1.0</td>\n",
       "      <td>0.0</td>\n",
       "      <td>0.0</td>\n",
       "      <td>0.0</td>\n",
       "      <td>0.0</td>\n",
       "      <td>0.0</td>\n",
       "      <td>0.0</td>\n",
       "      <td>0.0</td>\n",
       "      <td>1.0</td>\n",
       "      <td>0.0</td>\n",
       "      <td>0.0</td>\n",
       "      <td>0.0</td>\n",
       "    </tr>\n",
       "  </tbody>\n",
       "</table>\n",
       "</div>"
      ],
      "text/plain": [
       "   Luminosity    Radius  Absolute magnitude  Star type_1  Star type_2  \\\n",
       "0   -0.627506 -0.442718            0.774232          0.0          1.0   \n",
       "1    3.016587  3.491780           -1.400400          0.0          0.0   \n",
       "2   -0.627503 -0.440899            0.145605          0.0          0.0   \n",
       "3   -0.627506 -0.441263            1.022274          1.0          0.0   \n",
       "4   -0.627506 -0.442186            0.790326          1.0          0.0   \n",
       "\n",
       "   Star type_3  Star type_4  Star type_5  Star color_blue white  \\\n",
       "0          0.0          0.0          0.0                    0.0   \n",
       "1          0.0          0.0          1.0                    0.0   \n",
       "2          1.0          0.0          0.0                    0.0   \n",
       "3          0.0          0.0          0.0                    0.0   \n",
       "4          0.0          0.0          0.0                    0.0   \n",
       "\n",
       "   Star color_blue-white  Star color_orange  Star color_red  Star color_white  \\\n",
       "0                    1.0                0.0             0.0               0.0   \n",
       "1                    0.0                0.0             0.0               0.0   \n",
       "2                    0.0                0.0             0.0               0.0   \n",
       "3                    0.0                0.0             1.0               0.0   \n",
       "4                    0.0                0.0             1.0               0.0   \n",
       "\n",
       "   Star color_white-yellow  Star color_yellowish  \n",
       "0                      0.0                   0.0  \n",
       "1                      0.0                   0.0  \n",
       "2                      1.0                   0.0  \n",
       "3                      0.0                   0.0  \n",
       "4                      0.0                   0.0  "
      ]
     },
     "execution_count": 18,
     "metadata": {},
     "output_type": "execute_result"
    }
   ],
   "source": [
    "x_test.head()"
   ]
  },
  {
   "cell_type": "markdown",
   "id": "5a46094e",
   "metadata": {},
   "source": [
    "### Построение НС"
   ]
  },
  {
   "cell_type": "code",
   "execution_count": 19,
   "id": "1ce8c356",
   "metadata": {},
   "outputs": [],
   "source": [
    "x_train = torch.FloatTensor(x_train.values) #переменные должны быть тензорами\n",
    "x_test  = torch.FloatTensor(x_test.values)\n",
    "y_train  = torch.FloatTensor(y_train.values)\n",
    "y_test = torch.FloatTensor(y_test.values)"
   ]
  },
  {
   "cell_type": "code",
   "execution_count": 20,
   "id": "5f6dd9a3",
   "metadata": {},
   "outputs": [],
   "source": [
    "n_in_neurons = 15 #задаем послойно количество нейронов, произвольно\n",
    "n_hidden_neurons_1 = 50\n",
    "n_hidden_neurons_2 = 30\n",
    "n_out_neurons = 1"
   ]
  },
  {
   "cell_type": "code",
   "execution_count": 21,
   "id": "eb78b272",
   "metadata": {},
   "outputs": [],
   "source": [
    "class Model(nn.Module): #создаем класс\n",
    "    def __init__(self, n_in_neurons, n_hidden_neurons_1, n_hidden_neurons_2, n_out_neurons):\n",
    "        super(Model, self).__init__()\n",
    "        \n",
    "        self.fc1 = nn.Linear(n_in_neurons, n_hidden_neurons_1)\n",
    "        self.act1 = nn.ReLU()\n",
    "        self.fc2 = nn.Linear(n_hidden_neurons_1, n_hidden_neurons_2)\n",
    "        self.act2 = nn.ReLU()\n",
    "        self.fc3 = nn.Linear(n_hidden_neurons_2, n_out_neurons)\n",
    "        self.act3 = nn.ReLU()\n",
    "\n",
    "\n",
    "    def forward(self, x):\n",
    "        x = self.fc1(x)\n",
    "        x = self.act1(x)\n",
    "        x = self.fc2(x)\n",
    "        x = self.act2(x)\n",
    "        x = self.fc3(x)\n",
    "        x = self.act3(x)\n",
    "\n",
    "        \n",
    "        return x         "
   ]
  },
  {
   "cell_type": "code",
   "execution_count": 22,
   "id": "18f63579",
   "metadata": {},
   "outputs": [],
   "source": [
    "net = Model(n_in_neurons, n_hidden_neurons_1, n_hidden_neurons_2, n_out_neurons) \n",
    "#создаем модель, включающую нейроны, функцию потерь, оптимизатор\n",
    "\n",
    "loss=nn.MSELoss()\n",
    "\n",
    "optimizer = torch.optim.Adam(net.parameters(), lr=1e-3)\n",
    "optimizer_1 = torch.optim.RMSprop(net.parameters(), lr=1e-3)\n",
    "optimizer_2 = torch.optim.Adamax(net.parameters(), lr=1e-2)"
   ]
  },
  {
   "cell_type": "code",
   "execution_count": 23,
   "id": "877bf729",
   "metadata": {},
   "outputs": [],
   "source": [
    "def cross_val_score_(model, x_train, y_train, optim, num_epochs=250, batch_size=6, k=4, loss=nn.MSELoss()):\n",
    "    #Функция для кросс-валидации нейронной сети\n",
    "    num_of_batches = ceil(len(x_train)/batch_size) # батчи\n",
    "    num_of_valid = len(x_train)//k \n",
    "    all_scores = []\n",
    "    \n",
    "    for i in range(k): \n",
    "        print('processing fold #', i+1, end='  ')\n",
    "        \n",
    "        for layer in model.children():\n",
    "            if hasattr(layer, 'reset_parameters'):\n",
    "                layer.reset_parameters()\n",
    "            \n",
    "        valid_data = x_train[i*num_of_valid: (i+1)*num_of_valid]\n",
    "        valid_targets = y_train[i*num_of_valid: (i+1)*num_of_valid]\n",
    "        \n",
    "        train_data_= np.concatenate([x_train[:i*num_of_valid], x_train[(i+1)*num_of_valid:]], axis = 0)\n",
    "        train_target_ = np.concatenate([y_train[:i*num_of_valid], y_train[(i+1)*num_of_valid:]], axis = 0)\n",
    "        \n",
    "        \n",
    "        valid_data = torch.FloatTensor(valid_data) #создаем из полученных переменных тензоры\n",
    "        valid_targets = torch.FloatTensor(valid_targets)\n",
    "        train_data_ = torch.FloatTensor(train_data_)\n",
    "        train_target_ = torch.FloatTensor(train_target_)\n",
    "        \n",
    "        for epoch in range(num_epochs):\n",
    "            order = np.random.permutation(len(train_data_))\n",
    "            for batch_idx in range(num_of_batches):\n",
    "                start_index = batch_idx * batch_size \n",
    "                optim.zero_grad() #обнуляем градиаенты\n",
    "                \n",
    "               \n",
    "                batch_indexes = order[start_index:start_index+batch_size]\n",
    "                x_batch = train_data_[batch_indexes]\n",
    "                y_batch = train_target_[batch_indexes]\n",
    "                \n",
    "                preds = net.forward(x_batch).flatten() #вычисляем предсказания\n",
    "                loss_value = loss(preds, y_batch.flatten()) \n",
    "                loss_value.backward()\n",
    "                optim.step()\n",
    "                \n",
    "            if epoch == num_epochs-1: #выводим на экран по эпохам результаты расчетов\n",
    "                model.eval()\n",
    "                val_preds = model.forward(valid_data)\n",
    "                RMSE_loss = torch.sqrt(loss(valid_targets, val_preds))\n",
    "                all_scores.append(RMSE_loss)\n",
    "                print('RMSE метрика =', float(RMSE_loss))\n",
    "    print('Средняя RMSE метрика =', int(sum(all_scores)/len(all_scores)),  '\\n')\n",
    "    return"
   ]
  },
  {
   "cell_type": "code",
   "execution_count": 24,
   "id": "69c48f33",
   "metadata": {},
   "outputs": [
    {
     "name": "stdout",
     "output_type": "stream",
     "text": [
      "Adam (\n",
      "Parameter Group 0\n",
      "    amsgrad: False\n",
      "    betas: (0.9, 0.999)\n",
      "    eps: 1e-08\n",
      "    lr: 0.001\n",
      "    weight_decay: 0\n",
      ")\n",
      "processing fold # 1  RMSE метрика = 5879.142578125\n",
      "processing fold # 2  RMSE метрика = 16192.5771484375\n",
      "processing fold # 3  RMSE метрика = 11712.4326171875\n",
      "processing fold # 4  RMSE метрика = 14440.392578125\n",
      "Средняя RMSE метрика = 12056 \n",
      "\n",
      "RMSprop (\n",
      "Parameter Group 0\n",
      "    alpha: 0.99\n",
      "    centered: False\n",
      "    eps: 1e-08\n",
      "    lr: 0.001\n",
      "    momentum: 0\n",
      "    weight_decay: 0\n",
      ")\n",
      "processing fold # 1  RMSE метрика = 6016.591796875\n",
      "processing fold # 2  RMSE метрика = 7071.54833984375\n",
      "processing fold # 3  RMSE метрика = 5560.9287109375\n",
      "processing fold # 4  RMSE метрика = 14440.392578125\n",
      "Средняя RMSE метрика = 8272 \n",
      "\n",
      "Adamax (\n",
      "Parameter Group 0\n",
      "    betas: (0.9, 0.999)\n",
      "    eps: 1e-08\n",
      "    lr: 0.01\n",
      "    weight_decay: 0\n",
      ")\n",
      "processing fold # 1  RMSE метрика = 5939.17138671875\n",
      "processing fold # 2  RMSE метрика = 5434.8310546875\n",
      "processing fold # 3  RMSE метрика = 5381.56396484375\n",
      "processing fold # 4  RMSE метрика = 14440.392578125\n",
      "Средняя RMSE метрика = 7798 \n",
      "\n"
     ]
    }
   ],
   "source": [
    "x = [optimizer, optimizer_1, optimizer_2]\n",
    "\n",
    "for i in x: #применяем функции с разными оптимизаторами\n",
    "    print(i)\n",
    "    cross_val_score_(net, x_train, y_train, i)"
   ]
  },
  {
   "cell_type": "code",
   "execution_count": 25,
   "id": "9eb6b7b5",
   "metadata": {},
   "outputs": [],
   "source": [
    "def neyron(model, x_train, y_train, optim, num_epochs = 250, batch_size = 6): \n",
    "    \n",
    "    #Функция для обучения НС\n",
    "    \n",
    "    num_batches = ceil(len(x_train)/batch_size)\n",
    "    for epoch in range(num_epochs):\n",
    "        order = np.random.permutation(len(x_train))\n",
    "        for batch_idx in range(num_batches):\n",
    "            start_index = batch_idx * batch_size \n",
    "            optim.zero_grad() \n",
    "        \n",
    "            batch_indexes = order[start_index:start_index+batch_size] \n",
    "            x_batch = x_train[batch_indexes]\n",
    "            y_batch = y_train[batch_indexes]\n",
    "        \n",
    "            preds = model.forward(x_batch).flatten() \n",
    "            loss_value = loss(preds, y_batch.flatten())\n",
    "            loss_value.backward()\n",
    "            optim.step()\n",
    "    return  model"
   ]
  },
  {
   "cell_type": "code",
   "execution_count": 26,
   "id": "7fed71d6",
   "metadata": {},
   "outputs": [],
   "source": [
    "net = neyron(net, x_train, y_train, optimizer_2) #обучаем модель"
   ]
  },
  {
   "cell_type": "code",
   "execution_count": 27,
   "id": "adb2c7e0",
   "metadata": {},
   "outputs": [
    {
     "name": "stdout",
     "output_type": "stream",
     "text": [
      "RMSE НС на тестовой выборке =  12071\n"
     ]
    }
   ],
   "source": [
    "net.eval()\n",
    "test_preds = net.forward(x_test)\n",
    "print('RMSE НС на тестовой выборке = ', int(torch.sqrt(loss(y_test, test_preds))))"
   ]
  },
  {
   "cell_type": "code",
   "execution_count": 28,
   "id": "53da4ad7",
   "metadata": {},
   "outputs": [],
   "source": [
    "def double_plot(target, preds, width = 0.3): #строим график \"Факт-прогноз\"\n",
    "    \n",
    "    y1 = target.numpy().reshape([-1])\n",
    "    y2 = preds.reshape([-1]).detach().numpy()\n",
    "    x = np.arange(len(y1))\n",
    "    \n",
    "    fig,ax = plt.subplots()\n",
    "    f = ax.bar(x - width/2, y1, width, label = 'Факт')\n",
    "    f1 = ax.bar(x + width/2, y2, width, label = 'Прогноз')\n",
    "    \n",
    "    ax.set_title('Факт-Прогноз')\n",
    "    ax.set_xticks(x)\n",
    "    ax.set_xlabel('Номер звезды в таблице данных')\n",
    "    ax.set_ylabel('Температура звезды')\n",
    "    \n",
    "    fig.set_figwidth(17)\n",
    "    fig.set_figheight(10)\n",
    "    ax.legend();"
   ]
  },
  {
   "cell_type": "code",
   "execution_count": 29,
   "id": "c2e7d3b7",
   "metadata": {},
   "outputs": [
    {
     "data": {
      "image/png": "[encoded data removed]",
      "text/plain": [
       "<Figure size 1224x720 with 1 Axes>"
      ]
     },
     "metadata": {
      "needs_background": "light"
     },
     "output_type": "display_data"
    }
   ],
   "source": [
    "double_plot(y_test, test_preds)"
   ]
  },
  {
   "cell_type": "markdown",
   "id": "e7e88c14",
   "metadata": {},
   "source": [
    "Вывод: нейронная сеть показывает хороший результат с оптимизатором Adamax, его мы и будем применять и тюнить на следующем этапе. "
   ]
  },
  {
   "cell_type": "markdown",
   "id": "growing-supply",
   "metadata": {},
   "source": [
    "## Улучшение нейронной сети"
   ]
  },
  {
   "cell_type": "code",
   "execution_count": 30,
   "id": "8da488a4",
   "metadata": {},
   "outputs": [],
   "source": [
    "class Model_1(nn.Module):\n",
    "    def __init__(self, n_in_neurons, n_hidden_neurons_1, n_hidden_neurons_2, n_out_neurons):\n",
    "            super(Model_1, self).__init__()\n",
    "            \n",
    "            self.fc1 = nn.Linear(n_in_neurons, n_hidden_neurons_1)\n",
    "            self.bn1 = nn.BatchNorm1d(n_hidden_neurons_1)\n",
    "            self.act1 = nn.ReLU()\n",
    "            self.dp2 = nn.Dropout(p=0.5)\n",
    "            self.fc2 = nn.Linear(n_hidden_neurons_1, n_hidden_neurons_2)\n",
    "            self.act2 = nn.ReLU()\n",
    "            self.fc3 = nn.Linear(n_hidden_neurons_2, n_out_neurons)\n",
    "            self.act3 = nn.ReLU()\n",
    "\n",
    "    def forward(self, x):\n",
    "        x = self.fc1(x)\n",
    "        x = self.bn1(x)\n",
    "        x = self.act1(x)\n",
    "        x = self.dp2(x)\n",
    "        x = self.fc2(x)\n",
    "        x = self.act2(x)\n",
    "        x = self.fc3(x)\n",
    "        x = self.act3(x)\n",
    "        \n",
    "        return x"
   ]
  },
  {
   "cell_type": "code",
   "execution_count": 31,
   "id": "210931a5",
   "metadata": {},
   "outputs": [],
   "source": [
    "class Model_2(nn.Module):\n",
    "    def __init__(self, n_in_neurons, n_hidden_neurons_1, n_hidden_neurons_2, n_out_neurons):\n",
    "            super(Model_2, self).__init__()\n",
    "            \n",
    "            self.fc1 = nn.Linear(n_in_neurons, n_hidden_neurons_1)\n",
    "            self.bn1 = nn.Dropout(p=0.7)\n",
    "            self.act1 = nn.ReLU()\n",
    "            self.fc2 = nn.Linear(n_hidden_neurons_1, n_hidden_neurons_2)\n",
    "            self.bn2 = nn.BatchNorm1d(n_hidden_neurons_2)\n",
    "            self.dp2 = nn.Dropout(p=0.2)\n",
    "            self.fc3 = nn.Linear(n_hidden_neurons_2, n_out_neurons)\n",
    "            self.act3 = nn.ReLU()\n",
    "\n",
    "    def forward(self, x):\n",
    "        x = self.fc1(x)\n",
    "        x = self.bn1(x)\n",
    "        x = self.act1(x)\n",
    "        x = self.fc2(x)\n",
    "        x = self.bn2(x)\n",
    "        x = self.dp2(x)\n",
    "        x = self.fc3(x)\n",
    "        x = self.act3(x)\n",
    "        \n",
    "        return x"
   ]
  },
  {
   "cell_type": "code",
   "execution_count": 32,
   "id": "08964ce3",
   "metadata": {},
   "outputs": [],
   "source": [
    "net_1 = Model_1(n_in_neurons, n_hidden_neurons_1, n_hidden_neurons_2, n_out_neurons) #вызываем модель\n",
    "\n",
    "loss = nn.MSELoss() #задаем функцию потерь\n",
    "\n",
    "optimizer_2 = torch.optim.Adamax(net_1.parameters(), lr=1e-2)"
   ]
  },
  {
   "cell_type": "code",
   "execution_count": 33,
   "id": "5ed39dc8",
   "metadata": {},
   "outputs": [],
   "source": [
    "net_2 = Model_2(n_in_neurons, n_hidden_neurons_1, n_hidden_neurons_2, n_out_neurons) #вызываем модель\n",
    "\n",
    "loss = nn.MSELoss() #задаем функцию потерь\n",
    "\n",
    "optimizer_2 = torch.optim.Adamax(net_2.parameters(), lr=1e-2)"
   ]
  },
  {
   "cell_type": "code",
   "execution_count": 34,
   "id": "20b85d38",
   "metadata": {},
   "outputs": [],
   "source": [
    "net_1 = neyron(net_1, x_train, y_train, optimizer_2)"
   ]
  },
  {
   "cell_type": "code",
   "execution_count": 35,
   "id": "8fd17d81",
   "metadata": {},
   "outputs": [],
   "source": [
    "net_2 = neyron(net_2, x_train, y_train, optimizer_2)"
   ]
  },
  {
   "cell_type": "code",
   "execution_count": 36,
   "id": "5d6df50c",
   "metadata": {},
   "outputs": [
    {
     "name": "stdout",
     "output_type": "stream",
     "text": [
      "RMSE НС на тестовой выборке =  12071\n"
     ]
    }
   ],
   "source": [
    "net_1.eval()\n",
    "test_preds_1 = net_1.forward(x_test)\n",
    "print('RMSE НС на тестовой выборке = ', int(torch.sqrt(loss(y_test, test_preds_1))))"
   ]
  },
  {
   "cell_type": "code",
   "execution_count": 37,
   "id": "0a75ce3c",
   "metadata": {},
   "outputs": [
    {
     "name": "stdout",
     "output_type": "stream",
     "text": [
      "RMSE НС на тестовой выборке =  3912\n"
     ]
    }
   ],
   "source": [
    "net_2.eval()\n",
    "test_preds_2 = net_2.forward(x_test)\n",
    "print('RMSE НС на тестовой выборке = ', int(torch.sqrt(loss(y_test, test_preds_2))))"
   ]
  },
  {
   "cell_type": "code",
   "execution_count": 38,
   "id": "cf55906d",
   "metadata": {},
   "outputs": [
    {
     "data": {
      "image/png": "[encoded data removed]",
      "text/plain": [
       "<Figure size 1224x720 with 1 Axes>"
      ]
     },
     "metadata": {
      "needs_background": "light"
     },
     "output_type": "display_data"
    }
   ],
   "source": [
    "double_plot(y_test, test_preds_2) #строим график"
   ]
  },
  {
   "cell_type": "markdown",
   "id": "accurate-infrastructure",
   "metadata": {},
   "source": [
    "## Выводы"
   ]
  },
  {
   "cell_type": "markdown",
   "id": "44e750d6",
   "metadata": {},
   "source": [
    "В этом проекте мы разработали нейронную сеть, которая поможет предсказывать абсолютную температуру на поверхности звезды.\n",
    "\n",
    "В ходе работы мы проанализировали исходные данные и подготовили их к работе. Разделили данные на выборки, стандартизировали и преобразовали методом OHE.\n",
    "\n",
    "Исследовали базовые архитектуры нейронных сетей из 1, 2 и 3 слоёв с разными функциями активациями. Оценили их эффективность по метрике RMSE. А также проэксперементировали с улучшением их с помощью методов BatchNorm1d и Dropout, в результате чего получили:\n",
    "\n",
    "После применения наилучшего оптимизатора из первой части в совокупности с BatchNorm1d и Dropout метрика улучшилась, поэтому рекомендуемая мною модель, та что содержит следующие параметры:\n",
    "\n",
    " - Dropout-1 p=0.7\n",
    " - Dropout-2 p=0.2\n",
    " - BatchNorm1d -2\n",
    " - выходная функция ReLU\n",
    "\n"
   ]
  }
 ],
 "metadata": {
  "ExecuteTimeLog": [
   {
    "duration": 848,
    "start_time": "2023-05-16T12:07:05.972Z"
   },
   {
    "duration": 4,
    "start_time": "2023-05-16T12:10:02.388Z"
   },
   {
    "duration": 61,
    "start_time": "2023-05-16T12:11:29.992Z"
   },
   {
    "duration": 3,
    "start_time": "2023-05-16T12:11:30.880Z"
   },
   {
    "duration": 33,
    "start_time": "2023-05-16T12:11:31.750Z"
   },
   {
    "duration": 4,
    "start_time": "2023-05-16T12:16:08.850Z"
   },
   {
    "duration": 4,
    "start_time": "2023-05-16T12:16:09.749Z"
   },
   {
    "duration": 15,
    "start_time": "2023-05-16T12:16:24.784Z"
   },
   {
    "duration": 5,
    "start_time": "2023-05-16T13:13:58.625Z"
   },
   {
    "duration": 7,
    "start_time": "2023-05-16T13:14:12.653Z"
   },
   {
    "duration": 7,
    "start_time": "2023-05-16T13:19:23.950Z"
   },
   {
    "duration": 5,
    "start_time": "2023-05-16T13:19:32.454Z"
   },
   {
    "duration": 6,
    "start_time": "2023-05-16T13:21:47.684Z"
   },
   {
    "duration": 5,
    "start_time": "2023-05-16T13:21:48.444Z"
   },
   {
    "duration": 9,
    "start_time": "2023-05-16T13:23:01.573Z"
   },
   {
    "duration": 5,
    "start_time": "2023-05-16T13:23:02.158Z"
   },
   {
    "duration": 4,
    "start_time": "2023-05-16T13:26:40.854Z"
   },
   {
    "duration": 8,
    "start_time": "2023-05-16T13:27:53.888Z"
   },
   {
    "duration": 4,
    "start_time": "2023-05-16T13:28:04.213Z"
   },
   {
    "duration": 7,
    "start_time": "2023-05-16T13:28:31.454Z"
   },
   {
    "duration": 5,
    "start_time": "2023-05-16T13:28:36.452Z"
   },
   {
    "duration": 8,
    "start_time": "2023-05-16T13:28:36.888Z"
   },
   {
    "duration": 4,
    "start_time": "2023-05-16T13:28:37.384Z"
   },
   {
    "duration": 8,
    "start_time": "2023-05-16T13:28:48.420Z"
   },
   {
    "duration": 4,
    "start_time": "2023-05-16T13:28:48.968Z"
   },
   {
    "duration": 7,
    "start_time": "2023-05-16T13:28:58.750Z"
   },
   {
    "duration": 4,
    "start_time": "2023-05-16T13:28:59.412Z"
   },
   {
    "duration": 8,
    "start_time": "2023-05-16T13:30:40.925Z"
   },
   {
    "duration": 5,
    "start_time": "2023-05-16T13:30:41.502Z"
   },
   {
    "duration": 4,
    "start_time": "2023-05-16T13:30:49.549Z"
   },
   {
    "duration": 11,
    "start_time": "2023-05-16T13:30:49.963Z"
   },
   {
    "duration": 4,
    "start_time": "2023-05-16T13:30:50.448Z"
   },
   {
    "duration": 8,
    "start_time": "2023-05-16T13:31:02.420Z"
   },
   {
    "duration": 4,
    "start_time": "2023-05-16T13:31:02.996Z"
   },
   {
    "duration": 5,
    "start_time": "2023-05-16T13:31:06.852Z"
   },
   {
    "duration": 693,
    "start_time": "2023-05-16T13:31:14.821Z"
   },
   {
    "duration": 28,
    "start_time": "2023-05-16T13:31:15.516Z"
   },
   {
    "duration": 3,
    "start_time": "2023-05-16T13:31:15.546Z"
   },
   {
    "duration": 32,
    "start_time": "2023-05-16T13:31:15.550Z"
   },
   {
    "duration": 4,
    "start_time": "2023-05-16T13:31:15.584Z"
   },
   {
    "duration": 6,
    "start_time": "2023-05-16T13:31:15.590Z"
   },
   {
    "duration": 7,
    "start_time": "2023-05-16T13:31:15.598Z"
   },
   {
    "duration": 26,
    "start_time": "2023-05-16T13:31:15.607Z"
   },
   {
    "duration": 8,
    "start_time": "2023-05-16T13:31:15.635Z"
   },
   {
    "duration": 4,
    "start_time": "2023-05-16T13:54:12.107Z"
   },
   {
    "duration": 72,
    "start_time": "2023-05-16T13:54:52.995Z"
   },
   {
    "duration": 1966,
    "start_time": "2023-05-16T13:55:00.995Z"
   },
   {
    "duration": 22,
    "start_time": "2023-05-16T13:55:56.351Z"
   },
   {
    "duration": 1241,
    "start_time": "2023-05-16T14:10:45.351Z"
   },
   {
    "duration": 70,
    "start_time": "2023-05-16T14:10:47.902Z"
   },
   {
    "duration": 4,
    "start_time": "2023-05-16T14:11:05.955Z"
   },
   {
    "duration": 12,
    "start_time": "2023-05-16T14:11:06.555Z"
   },
   {
    "duration": 32,
    "start_time": "2023-05-16T14:11:09.851Z"
   },
   {
    "duration": 3,
    "start_time": "2023-05-16T14:11:09.972Z"
   },
   {
    "duration": 29,
    "start_time": "2023-05-16T14:11:10.160Z"
   },
   {
    "duration": 3,
    "start_time": "2023-05-16T14:11:10.314Z"
   },
   {
    "duration": 5,
    "start_time": "2023-05-16T14:11:10.455Z"
   },
   {
    "duration": 5,
    "start_time": "2023-05-16T14:11:10.670Z"
   },
   {
    "duration": 8,
    "start_time": "2023-05-16T14:11:10.967Z"
   },
   {
    "duration": 4,
    "start_time": "2023-05-16T14:11:11.102Z"
   },
   {
    "duration": 2097,
    "start_time": "2023-05-16T14:11:11.263Z"
   },
   {
    "duration": 26,
    "start_time": "2023-05-16T14:11:13.362Z"
   },
   {
    "duration": 11,
    "start_time": "2023-05-16T14:11:15.270Z"
   },
   {
    "duration": 28,
    "start_time": "2023-05-16T14:11:28.210Z"
   },
   {
    "duration": 5,
    "start_time": "2023-05-16T14:11:44.859Z"
   },
   {
    "duration": 22,
    "start_time": "2023-05-16T14:11:45.821Z"
   },
   {
    "duration": 5,
    "start_time": "2023-05-16T14:11:54.480Z"
   },
   {
    "duration": 3,
    "start_time": "2023-05-16T14:11:56.576Z"
   },
   {
    "duration": 6,
    "start_time": "2023-05-16T14:11:57.922Z"
   },
   {
    "duration": 25,
    "start_time": "2023-05-16T14:11:59.210Z"
   },
   {
    "duration": 14,
    "start_time": "2023-05-16T14:13:27.055Z"
   },
   {
    "duration": 9,
    "start_time": "2023-05-16T14:14:03.643Z"
   },
   {
    "duration": 4,
    "start_time": "2023-05-16T14:14:20.671Z"
   },
   {
    "duration": 6,
    "start_time": "2023-05-16T14:14:21.597Z"
   },
   {
    "duration": 26,
    "start_time": "2023-05-16T14:14:26.222Z"
   },
   {
    "duration": 17,
    "start_time": "2023-05-16T14:14:31.363Z"
   },
   {
    "duration": 7,
    "start_time": "2023-05-16T14:16:35.457Z"
   },
   {
    "duration": 4,
    "start_time": "2023-05-16T14:16:36.172Z"
   },
   {
    "duration": 17,
    "start_time": "2023-05-16T14:16:41.939Z"
   },
   {
    "duration": 58,
    "start_time": "2023-05-16T14:17:59.297Z"
   },
   {
    "duration": 1389,
    "start_time": "2023-05-16T14:18:10.405Z"
   },
   {
    "duration": 6823,
    "start_time": "2023-05-16T14:20:18.526Z"
   },
   {
    "duration": 21,
    "start_time": "2023-05-16T14:20:32.868Z"
   },
   {
    "duration": 4251,
    "start_time": "2023-05-16T14:20:39.113Z"
   },
   {
    "duration": 6,
    "start_time": "2023-05-16T14:20:43.367Z"
   },
   {
    "duration": 13,
    "start_time": "2023-05-16T14:20:43.375Z"
   },
   {
    "duration": 29,
    "start_time": "2023-05-16T14:20:43.390Z"
   },
   {
    "duration": 4,
    "start_time": "2023-05-16T14:20:43.421Z"
   },
   {
    "duration": 44,
    "start_time": "2023-05-16T14:20:43.426Z"
   },
   {
    "duration": 4,
    "start_time": "2023-05-16T14:20:43.472Z"
   },
   {
    "duration": 17,
    "start_time": "2023-05-16T14:20:43.477Z"
   },
   {
    "duration": 19,
    "start_time": "2023-05-16T14:20:43.496Z"
   },
   {
    "duration": 9,
    "start_time": "2023-05-16T14:20:43.516Z"
   },
   {
    "duration": 6,
    "start_time": "2023-05-16T14:20:43.527Z"
   },
   {
    "duration": 1992,
    "start_time": "2023-05-16T14:20:43.535Z"
   },
   {
    "duration": 27,
    "start_time": "2023-05-16T14:20:45.529Z"
   },
   {
    "duration": 11,
    "start_time": "2023-05-16T14:20:45.559Z"
   },
   {
    "duration": 17,
    "start_time": "2023-05-16T14:20:45.571Z"
   },
   {
    "duration": 18,
    "start_time": "2023-05-16T14:20:45.590Z"
   },
   {
    "duration": 15,
    "start_time": "2023-05-16T14:20:45.610Z"
   },
   {
    "duration": 24,
    "start_time": "2023-05-16T14:20:45.627Z"
   },
   {
    "duration": 13,
    "start_time": "2023-05-16T14:20:45.653Z"
   },
   {
    "duration": 144,
    "start_time": "2023-05-16T14:20:45.668Z"
   },
   {
    "duration": 0,
    "start_time": "2023-05-16T14:20:45.814Z"
   },
   {
    "duration": 4,
    "start_time": "2023-05-16T14:21:06.152Z"
   },
   {
    "duration": 3,
    "start_time": "2023-05-16T14:21:07.797Z"
   },
   {
    "duration": 3,
    "start_time": "2023-05-16T14:44:53.943Z"
   },
   {
    "duration": 4,
    "start_time": "2023-05-16T14:44:55.375Z"
   },
   {
    "duration": 6,
    "start_time": "2023-05-16T14:44:56.858Z"
   },
   {
    "duration": 8,
    "start_time": "2023-05-16T15:20:18.340Z"
   },
   {
    "duration": 5,
    "start_time": "2023-05-16T15:20:19.077Z"
   },
   {
    "duration": 3,
    "start_time": "2023-05-16T15:20:21.537Z"
   },
   {
    "duration": 16,
    "start_time": "2023-05-16T15:20:22.425Z"
   },
   {
    "duration": 12,
    "start_time": "2023-05-16T15:20:25.297Z"
   },
   {
    "duration": 6,
    "start_time": "2023-05-16T15:20:28.518Z"
   },
   {
    "duration": 2,
    "start_time": "2023-05-16T15:20:29.181Z"
   },
   {
    "duration": 5,
    "start_time": "2023-05-16T15:20:30.419Z"
   },
   {
    "duration": 6,
    "start_time": "2023-05-16T15:20:48.796Z"
   },
   {
    "duration": 5,
    "start_time": "2023-05-16T15:21:37.676Z"
   },
   {
    "duration": 10,
    "start_time": "2023-05-16T17:37:20.761Z"
   },
   {
    "duration": 13,
    "start_time": "2023-05-16T17:37:25.890Z"
   },
   {
    "duration": 5,
    "start_time": "2023-05-16T17:37:47.698Z"
   },
   {
    "duration": 9,
    "start_time": "2023-05-16T17:37:48.961Z"
   },
   {
    "duration": 6350,
    "start_time": "2023-05-16T17:37:49.793Z"
   },
   {
    "duration": 17,
    "start_time": "2023-05-16T17:38:11.619Z"
   },
   {
    "duration": 6229,
    "start_time": "2023-05-16T17:38:12.259Z"
   },
   {
    "duration": 8,
    "start_time": "2023-05-16T17:38:33.194Z"
   },
   {
    "duration": 73803,
    "start_time": "2023-05-16T17:38:33.789Z"
   },
   {
    "duration": 5,
    "start_time": "2023-05-16T17:39:47.594Z"
   },
   {
    "duration": 3864,
    "start_time": "2023-05-16T17:39:47.600Z"
   },
   {
    "duration": 4,
    "start_time": "2023-05-16T17:39:51.466Z"
   },
   {
    "duration": 11,
    "start_time": "2023-05-16T17:39:51.471Z"
   },
   {
    "duration": 675,
    "start_time": "2023-05-16T17:39:51.484Z"
   },
   {
    "duration": 5,
    "start_time": "2023-05-16T17:40:46.348Z"
   },
   {
    "duration": 7,
    "start_time": "2023-05-16T17:40:58.858Z"
   },
   {
    "duration": 12,
    "start_time": "2023-05-16T17:40:59.553Z"
   },
   {
    "duration": 6,
    "start_time": "2023-05-16T17:41:24.252Z"
   },
   {
    "duration": 684744,
    "start_time": "2023-05-16T17:41:25.117Z"
   },
   {
    "duration": 51790,
    "start_time": "2023-05-16T17:52:49.864Z"
   },
   {
    "duration": 6,
    "start_time": "2023-05-16T17:53:41.660Z"
   },
   {
    "duration": 717,
    "start_time": "2023-05-16T17:53:41.725Z"
   },
   {
    "duration": 134,
    "start_time": "2023-05-16T17:56:56.884Z"
   },
   {
    "duration": 5,
    "start_time": "2023-05-16T17:56:57.305Z"
   },
   {
    "duration": 724781,
    "start_time": "2023-05-16T17:56:57.997Z"
   },
   {
    "duration": 0,
    "start_time": "2023-05-16T18:09:02.780Z"
   },
   {
    "duration": 0,
    "start_time": "2023-05-16T18:09:02.781Z"
   },
   {
    "duration": 0,
    "start_time": "2023-05-16T18:09:02.782Z"
   },
   {
    "duration": 4866,
    "start_time": "2023-05-16T18:09:07.096Z"
   },
   {
    "duration": 29,
    "start_time": "2023-05-16T18:09:11.967Z"
   },
   {
    "duration": 3,
    "start_time": "2023-05-16T18:09:11.997Z"
   },
   {
    "duration": 36,
    "start_time": "2023-05-16T18:09:12.002Z"
   },
   {
    "duration": 5,
    "start_time": "2023-05-16T18:09:12.042Z"
   },
   {
    "duration": 19,
    "start_time": "2023-05-16T18:09:12.055Z"
   },
   {
    "duration": 5,
    "start_time": "2023-05-16T18:09:12.078Z"
   },
   {
    "duration": 8,
    "start_time": "2023-05-16T18:09:12.086Z"
   },
   {
    "duration": 4,
    "start_time": "2023-05-16T18:09:12.096Z"
   },
   {
    "duration": 2230,
    "start_time": "2023-05-16T18:09:12.103Z"
   },
   {
    "duration": 36,
    "start_time": "2023-05-16T18:09:14.335Z"
   },
   {
    "duration": 5,
    "start_time": "2023-05-16T18:09:14.374Z"
   },
   {
    "duration": 8,
    "start_time": "2023-05-16T18:09:14.381Z"
   },
   {
    "duration": 4,
    "start_time": "2023-05-16T18:09:14.390Z"
   },
   {
    "duration": 14,
    "start_time": "2023-05-16T18:09:14.395Z"
   },
   {
    "duration": 43,
    "start_time": "2023-05-16T18:09:14.410Z"
   },
   {
    "duration": 21,
    "start_time": "2023-05-16T18:09:14.464Z"
   },
   {
    "duration": 4,
    "start_time": "2023-05-16T18:09:14.486Z"
   },
   {
    "duration": 5,
    "start_time": "2023-05-16T18:09:14.492Z"
   },
   {
    "duration": 7,
    "start_time": "2023-05-16T18:09:14.499Z"
   },
   {
    "duration": 10,
    "start_time": "2023-05-16T18:09:14.508Z"
   },
   {
    "duration": 90687,
    "start_time": "2023-05-16T18:09:14.519Z"
   },
   {
    "duration": 5,
    "start_time": "2023-05-16T18:10:45.208Z"
   },
   {
    "duration": 234,
    "start_time": "2023-05-16T18:10:45.215Z"
   },
   {
    "duration": 0,
    "start_time": "2023-05-16T18:10:45.459Z"
   },
   {
    "duration": 0,
    "start_time": "2023-05-16T18:10:45.467Z"
   },
   {
    "duration": 0,
    "start_time": "2023-05-16T18:10:45.472Z"
   },
   {
    "duration": 0,
    "start_time": "2023-05-16T18:10:45.474Z"
   },
   {
    "duration": 0,
    "start_time": "2023-05-16T18:10:45.475Z"
   },
   {
    "duration": 0,
    "start_time": "2023-05-16T18:10:45.486Z"
   },
   {
    "duration": 0,
    "start_time": "2023-05-16T18:10:45.489Z"
   },
   {
    "duration": 0,
    "start_time": "2023-05-16T18:10:45.494Z"
   },
   {
    "duration": 0,
    "start_time": "2023-05-16T18:10:45.495Z"
   },
   {
    "duration": 7392,
    "start_time": "2023-05-16T18:12:40.505Z"
   },
   {
    "duration": 5,
    "start_time": "2023-05-16T18:13:22.716Z"
   },
   {
    "duration": 9,
    "start_time": "2023-05-16T18:13:23.728Z"
   },
   {
    "duration": 724,
    "start_time": "2023-05-16T18:13:24.692Z"
   },
   {
    "duration": 5,
    "start_time": "2023-05-16T18:13:36.685Z"
   },
   {
    "duration": 13,
    "start_time": "2023-05-16T18:13:37.352Z"
   },
   {
    "duration": 11,
    "start_time": "2023-05-16T18:13:37.993Z"
   },
   {
    "duration": 1559625,
    "start_time": "2023-05-16T18:14:06.659Z"
   },
   {
    "duration": 14,
    "start_time": "2023-05-16T18:49:52.349Z"
   },
   {
    "duration": 100946,
    "start_time": "2023-05-16T18:49:59.994Z"
   },
   {
    "duration": 6,
    "start_time": "2023-05-16T18:51:40.946Z"
   },
   {
    "duration": 738,
    "start_time": "2023-05-16T18:51:40.954Z"
   },
   {
    "duration": 20,
    "start_time": "2023-05-16T18:59:47.383Z"
   },
   {
    "duration": 12,
    "start_time": "2023-05-16T19:00:06.103Z"
   },
   {
    "duration": 18235,
    "start_time": "2023-05-17T09:25:16.513Z"
   },
   {
    "duration": 77,
    "start_time": "2023-05-17T09:25:34.750Z"
   },
   {
    "duration": 3,
    "start_time": "2023-05-17T09:25:34.828Z"
   },
   {
    "duration": 29,
    "start_time": "2023-05-17T09:25:34.833Z"
   },
   {
    "duration": 3,
    "start_time": "2023-05-17T09:25:34.864Z"
   },
   {
    "duration": 46,
    "start_time": "2023-05-17T09:25:34.868Z"
   },
   {
    "duration": 13,
    "start_time": "2023-05-17T09:25:34.916Z"
   },
   {
    "duration": 18,
    "start_time": "2023-05-17T09:25:34.930Z"
   },
   {
    "duration": 30,
    "start_time": "2023-05-17T09:25:34.950Z"
   },
   {
    "duration": 1859,
    "start_time": "2023-05-17T09:25:34.982Z"
   },
   {
    "duration": 19,
    "start_time": "2023-05-17T09:25:36.842Z"
   },
   {
    "duration": 6,
    "start_time": "2023-05-17T09:25:36.862Z"
   },
   {
    "duration": 37,
    "start_time": "2023-05-17T09:25:36.869Z"
   },
   {
    "duration": 6,
    "start_time": "2023-05-17T09:25:36.910Z"
   },
   {
    "duration": 17,
    "start_time": "2023-05-17T09:25:36.917Z"
   },
   {
    "duration": 17,
    "start_time": "2023-05-17T09:25:36.935Z"
   },
   {
    "duration": 13,
    "start_time": "2023-05-17T09:25:36.953Z"
   },
   {
    "duration": 9,
    "start_time": "2023-05-17T09:25:36.968Z"
   },
   {
    "duration": 7,
    "start_time": "2023-05-17T09:25:36.978Z"
   },
   {
    "duration": 36,
    "start_time": "2023-05-17T09:25:36.994Z"
   },
   {
    "duration": 22,
    "start_time": "2023-05-17T09:25:37.032Z"
   },
   {
    "duration": 54049,
    "start_time": "2023-05-17T09:25:37.056Z"
   },
   {
    "duration": 5,
    "start_time": "2023-05-17T09:26:31.107Z"
   },
   {
    "duration": 5020,
    "start_time": "2023-05-17T09:26:31.114Z"
   },
   {
    "duration": 4,
    "start_time": "2023-05-17T09:26:36.136Z"
   },
   {
    "duration": 16,
    "start_time": "2023-05-17T09:26:36.141Z"
   },
   {
    "duration": 592,
    "start_time": "2023-05-17T09:26:36.158Z"
   },
   {
    "duration": 4,
    "start_time": "2023-05-17T09:26:36.752Z"
   },
   {
    "duration": 36,
    "start_time": "2023-05-17T09:26:36.758Z"
   },
   {
    "duration": 1051640,
    "start_time": "2023-05-17T09:26:36.803Z"
   },
   {
    "duration": 64216,
    "start_time": "2023-05-17T09:44:08.491Z"
   },
   {
    "duration": 4,
    "start_time": "2023-05-17T09:45:12.712Z"
   },
   {
    "duration": 617,
    "start_time": "2023-05-17T09:45:12.785Z"
   },
   {
    "duration": 46,
    "start_time": "2023-05-18T17:00:58.613Z"
   },
   {
    "duration": 8386,
    "start_time": "2023-05-18T17:01:03.065Z"
   },
   {
    "duration": 64,
    "start_time": "2023-05-18T17:01:11.453Z"
   },
   {
    "duration": 3,
    "start_time": "2023-05-18T17:01:11.519Z"
   },
   {
    "duration": 33,
    "start_time": "2023-05-18T17:01:11.524Z"
   },
   {
    "duration": 2,
    "start_time": "2023-05-18T17:01:11.560Z"
   },
   {
    "duration": 7,
    "start_time": "2023-05-18T17:01:11.564Z"
   },
   {
    "duration": 7,
    "start_time": "2023-05-18T17:01:11.573Z"
   },
   {
    "duration": 9,
    "start_time": "2023-05-18T17:01:11.581Z"
   },
   {
    "duration": 36,
    "start_time": "2023-05-18T17:01:11.592Z"
   },
   {
    "duration": 1998,
    "start_time": "2023-05-18T17:01:11.630Z"
   },
   {
    "duration": 22,
    "start_time": "2023-05-18T17:01:13.630Z"
   },
   {
    "duration": 7,
    "start_time": "2023-05-18T17:01:13.654Z"
   },
   {
    "duration": 16,
    "start_time": "2023-05-18T17:01:13.662Z"
   },
   {
    "duration": 3,
    "start_time": "2023-05-18T17:01:13.681Z"
   },
   {
    "duration": 17,
    "start_time": "2023-05-18T17:01:13.686Z"
   },
   {
    "duration": 26,
    "start_time": "2023-05-18T17:01:13.704Z"
   },
   {
    "duration": 23,
    "start_time": "2023-05-18T17:01:13.732Z"
   },
   {
    "duration": 6,
    "start_time": "2023-05-18T17:01:13.757Z"
   },
   {
    "duration": 6,
    "start_time": "2023-05-18T17:01:13.764Z"
   },
   {
    "duration": 11,
    "start_time": "2023-05-18T17:01:13.772Z"
   },
   {
    "duration": 8,
    "start_time": "2023-05-18T17:01:13.784Z"
   },
   {
    "duration": 9,
    "start_time": "2023-05-18T17:01:13.793Z"
   },
   {
    "duration": 71452,
    "start_time": "2023-05-18T17:01:13.804Z"
   },
   {
    "duration": 5,
    "start_time": "2023-05-18T17:02:25.258Z"
   },
   {
    "duration": 6967,
    "start_time": "2023-05-18T17:02:25.265Z"
   },
   {
    "duration": 4,
    "start_time": "2023-05-18T17:02:32.234Z"
   },
   {
    "duration": 14,
    "start_time": "2023-05-18T17:02:32.240Z"
   },
   {
    "duration": 642,
    "start_time": "2023-05-18T17:02:32.256Z"
   },
   {
    "duration": 6,
    "start_time": "2023-05-18T17:02:32.900Z"
   },
   {
    "duration": 23,
    "start_time": "2023-05-18T17:02:32.908Z"
   },
   {
    "duration": 436612,
    "start_time": "2023-05-18T17:02:32.933Z"
   },
   {
    "duration": 47084,
    "start_time": "2023-05-18T17:09:49.547Z"
   },
   {
    "duration": 6,
    "start_time": "2023-05-18T17:10:36.633Z"
   },
   {
    "duration": 807,
    "start_time": "2023-05-18T17:10:36.641Z"
   },
   {
    "duration": 43,
    "start_time": "2023-05-18T17:10:37.452Z"
   },
   {
    "duration": 6,
    "start_time": "2023-05-18T17:25:53.807Z"
   },
   {
    "duration": 6,
    "start_time": "2023-05-18T17:25:58.727Z"
   },
   {
    "duration": 8,
    "start_time": "2023-05-18T17:26:03.458Z"
   },
   {
    "duration": 72432,
    "start_time": "2023-05-18T17:26:05.062Z"
   },
   {
    "duration": 5,
    "start_time": "2023-05-18T17:27:17.496Z"
   },
   {
    "duration": 6790,
    "start_time": "2023-05-18T17:27:17.502Z"
   },
   {
    "duration": 4,
    "start_time": "2023-05-18T17:27:24.294Z"
   },
   {
    "duration": 6,
    "start_time": "2023-05-18T17:27:24.299Z"
   },
   {
    "duration": 621,
    "start_time": "2023-05-18T17:27:24.306Z"
   },
   {
    "duration": 7093,
    "start_time": "2023-05-18T17:53:48.045Z"
   },
   {
    "duration": 5,
    "start_time": "2023-05-18T17:53:55.140Z"
   },
   {
    "duration": 7511,
    "start_time": "2023-05-18T17:54:11.646Z"
   },
   {
    "duration": 6,
    "start_time": "2023-05-18T17:54:19.159Z"
   },
   {
    "duration": 4430,
    "start_time": "2023-05-18T17:54:38.218Z"
   },
   {
    "duration": 29,
    "start_time": "2023-05-18T17:54:42.651Z"
   },
   {
    "duration": 3,
    "start_time": "2023-05-18T17:54:42.682Z"
   },
   {
    "duration": 34,
    "start_time": "2023-05-18T17:54:42.687Z"
   },
   {
    "duration": 3,
    "start_time": "2023-05-18T17:54:42.726Z"
   },
   {
    "duration": 8,
    "start_time": "2023-05-18T17:54:42.731Z"
   },
   {
    "duration": 11,
    "start_time": "2023-05-18T17:54:42.741Z"
   },
   {
    "duration": 12,
    "start_time": "2023-05-18T17:54:42.754Z"
   },
   {
    "duration": 6,
    "start_time": "2023-05-18T17:54:42.768Z"
   },
   {
    "duration": 2167,
    "start_time": "2023-05-18T17:54:42.776Z"
   },
   {
    "duration": 29,
    "start_time": "2023-05-18T17:54:44.945Z"
   },
   {
    "duration": 23,
    "start_time": "2023-05-18T17:54:44.975Z"
   },
   {
    "duration": 86,
    "start_time": "2023-05-18T17:54:45.000Z"
   },
   {
    "duration": 39,
    "start_time": "2023-05-18T17:54:45.090Z"
   },
   {
    "duration": 39,
    "start_time": "2023-05-18T17:54:45.131Z"
   },
   {
    "duration": 47,
    "start_time": "2023-05-18T17:54:45.171Z"
   },
   {
    "duration": 37,
    "start_time": "2023-05-18T17:54:45.220Z"
   },
   {
    "duration": 30,
    "start_time": "2023-05-18T17:54:45.259Z"
   },
   {
    "duration": 11,
    "start_time": "2023-05-18T17:54:45.291Z"
   },
   {
    "duration": 51,
    "start_time": "2023-05-18T17:54:45.304Z"
   },
   {
    "duration": 13,
    "start_time": "2023-05-18T17:54:45.357Z"
   },
   {
    "duration": 33,
    "start_time": "2023-05-18T17:54:45.372Z"
   },
   {
    "duration": 18,
    "start_time": "2023-05-18T17:54:45.406Z"
   },
   {
    "duration": 76685,
    "start_time": "2023-05-18T17:54:45.426Z"
   },
   {
    "duration": 13,
    "start_time": "2023-05-18T17:56:02.113Z"
   },
   {
    "duration": 7052,
    "start_time": "2023-05-18T17:56:02.128Z"
   },
   {
    "duration": 5,
    "start_time": "2023-05-18T17:56:09.182Z"
   },
   {
    "duration": 10,
    "start_time": "2023-05-18T17:56:09.189Z"
   },
   {
    "duration": 810,
    "start_time": "2023-05-18T17:56:09.201Z"
   },
   {
    "duration": 12,
    "start_time": "2023-05-18T17:56:10.014Z"
   },
   {
    "duration": 36,
    "start_time": "2023-05-18T17:56:10.028Z"
   },
   {
    "duration": 4589,
    "start_time": "2023-05-18T17:56:45.900Z"
   },
   {
    "duration": 30,
    "start_time": "2023-05-18T17:56:50.491Z"
   },
   {
    "duration": 5,
    "start_time": "2023-05-18T17:56:50.523Z"
   },
   {
    "duration": 56,
    "start_time": "2023-05-18T17:56:50.529Z"
   },
   {
    "duration": 5,
    "start_time": "2023-05-18T17:56:50.588Z"
   },
   {
    "duration": 30,
    "start_time": "2023-05-18T17:56:50.595Z"
   },
   {
    "duration": 15,
    "start_time": "2023-05-18T17:56:50.628Z"
   },
   {
    "duration": 28,
    "start_time": "2023-05-18T17:56:50.646Z"
   },
   {
    "duration": 22,
    "start_time": "2023-05-18T17:56:50.676Z"
   },
   {
    "duration": 2220,
    "start_time": "2023-05-18T17:56:50.699Z"
   },
   {
    "duration": 24,
    "start_time": "2023-05-18T17:56:52.924Z"
   },
   {
    "duration": 5,
    "start_time": "2023-05-18T17:56:52.950Z"
   },
   {
    "duration": 8,
    "start_time": "2023-05-18T17:56:52.957Z"
   },
   {
    "duration": 3,
    "start_time": "2023-05-18T17:56:52.968Z"
   },
   {
    "duration": 15,
    "start_time": "2023-05-18T17:56:52.973Z"
   },
   {
    "duration": 44,
    "start_time": "2023-05-18T17:56:52.990Z"
   },
   {
    "duration": 47,
    "start_time": "2023-05-18T17:56:53.037Z"
   },
   {
    "duration": 22,
    "start_time": "2023-05-18T17:56:53.086Z"
   },
   {
    "duration": 33,
    "start_time": "2023-05-18T17:56:53.111Z"
   },
   {
    "duration": 24,
    "start_time": "2023-05-18T17:56:53.147Z"
   },
   {
    "duration": 38,
    "start_time": "2023-05-18T17:56:53.174Z"
   },
   {
    "duration": 12,
    "start_time": "2023-05-18T17:56:53.214Z"
   },
   {
    "duration": 13,
    "start_time": "2023-05-18T17:56:53.228Z"
   },
   {
    "duration": 78191,
    "start_time": "2023-05-18T17:56:53.243Z"
   },
   {
    "duration": 14,
    "start_time": "2023-05-18T17:58:11.436Z"
   },
   {
    "duration": 7522,
    "start_time": "2023-05-18T17:58:11.452Z"
   },
   {
    "duration": 4,
    "start_time": "2023-05-18T17:58:18.976Z"
   },
   {
    "duration": 6,
    "start_time": "2023-05-18T17:58:18.982Z"
   },
   {
    "duration": 767,
    "start_time": "2023-05-18T17:58:18.990Z"
   },
   {
    "duration": 6,
    "start_time": "2023-05-18T17:58:19.761Z"
   },
   {
    "duration": 24,
    "start_time": "2023-05-18T17:58:19.769Z"
   },
   {
    "duration": 5240,
    "start_time": "2023-05-18T17:58:19.795Z"
   },
   {
    "duration": 0,
    "start_time": "2023-05-18T17:58:25.040Z"
   },
   {
    "duration": 0,
    "start_time": "2023-05-18T17:58:25.042Z"
   },
   {
    "duration": 5200,
    "start_time": "2023-05-18T17:59:58.905Z"
   },
   {
    "duration": 44,
    "start_time": "2023-05-18T18:00:04.108Z"
   },
   {
    "duration": 3,
    "start_time": "2023-05-18T18:00:04.155Z"
   },
   {
    "duration": 79,
    "start_time": "2023-05-18T18:00:04.160Z"
   },
   {
    "duration": 5,
    "start_time": "2023-05-18T18:00:04.242Z"
   },
   {
    "duration": 38,
    "start_time": "2023-05-18T18:00:04.250Z"
   },
   {
    "duration": 36,
    "start_time": "2023-05-18T18:00:04.291Z"
   },
   {
    "duration": 18,
    "start_time": "2023-05-18T18:00:04.329Z"
   },
   {
    "duration": 32,
    "start_time": "2023-05-18T18:00:04.349Z"
   },
   {
    "duration": 2277,
    "start_time": "2023-05-18T18:00:04.384Z"
   },
   {
    "duration": 23,
    "start_time": "2023-05-18T18:00:06.664Z"
   },
   {
    "duration": 6,
    "start_time": "2023-05-18T18:00:06.689Z"
   },
   {
    "duration": 30,
    "start_time": "2023-05-18T18:00:06.696Z"
   },
   {
    "duration": 8,
    "start_time": "2023-05-18T18:00:06.728Z"
   },
   {
    "duration": 88,
    "start_time": "2023-05-18T18:00:06.739Z"
   },
   {
    "duration": 16,
    "start_time": "2023-05-18T18:00:06.831Z"
   },
   {
    "duration": 43,
    "start_time": "2023-05-18T18:00:06.853Z"
   },
   {
    "duration": 49,
    "start_time": "2023-05-18T18:00:06.898Z"
   },
   {
    "duration": 31,
    "start_time": "2023-05-18T18:00:06.950Z"
   },
   {
    "duration": 13,
    "start_time": "2023-05-18T18:00:06.983Z"
   },
   {
    "duration": 20,
    "start_time": "2023-05-18T18:00:06.998Z"
   },
   {
    "duration": 35,
    "start_time": "2023-05-18T18:00:07.020Z"
   },
   {
    "duration": 19,
    "start_time": "2023-05-18T18:00:07.057Z"
   },
   {
    "duration": 74567,
    "start_time": "2023-05-18T18:00:07.078Z"
   },
   {
    "duration": 5,
    "start_time": "2023-05-18T18:01:21.647Z"
   },
   {
    "duration": 6917,
    "start_time": "2023-05-18T18:01:21.653Z"
   },
   {
    "duration": 5,
    "start_time": "2023-05-18T18:01:28.572Z"
   },
   {
    "duration": 15,
    "start_time": "2023-05-18T18:01:28.580Z"
   },
   {
    "duration": 673,
    "start_time": "2023-05-18T18:01:28.597Z"
   },
   {
    "duration": 8,
    "start_time": "2023-05-18T18:01:29.272Z"
   },
   {
    "duration": 34,
    "start_time": "2023-05-18T18:01:29.282Z"
   },
   {
    "duration": 5014,
    "start_time": "2023-05-18T18:01:29.318Z"
   },
   {
    "duration": 0,
    "start_time": "2023-05-18T18:01:34.334Z"
   },
   {
    "duration": 0,
    "start_time": "2023-05-18T18:01:34.335Z"
   },
   {
    "duration": 4764,
    "start_time": "2023-05-18T18:05:56.174Z"
   },
   {
    "duration": 31,
    "start_time": "2023-05-18T18:06:00.943Z"
   },
   {
    "duration": 33,
    "start_time": "2023-05-18T18:06:00.976Z"
   },
   {
    "duration": 90,
    "start_time": "2023-05-18T18:06:01.011Z"
   },
   {
    "duration": 41,
    "start_time": "2023-05-18T18:06:01.103Z"
   },
   {
    "duration": 125,
    "start_time": "2023-05-18T18:06:01.147Z"
   },
   {
    "duration": 37,
    "start_time": "2023-05-18T18:06:01.274Z"
   },
   {
    "duration": 80,
    "start_time": "2023-05-18T18:06:01.313Z"
   },
   {
    "duration": 42,
    "start_time": "2023-05-18T18:06:01.395Z"
   },
   {
    "duration": 2372,
    "start_time": "2023-05-18T18:06:01.444Z"
   },
   {
    "duration": 39,
    "start_time": "2023-05-18T18:06:03.818Z"
   },
   {
    "duration": 7,
    "start_time": "2023-05-18T18:06:03.860Z"
   },
   {
    "duration": 12,
    "start_time": "2023-05-18T18:06:03.868Z"
   },
   {
    "duration": 12,
    "start_time": "2023-05-18T18:06:03.882Z"
   },
   {
    "duration": 31,
    "start_time": "2023-05-18T18:06:03.896Z"
   },
   {
    "duration": 18,
    "start_time": "2023-05-18T18:06:03.929Z"
   },
   {
    "duration": 52,
    "start_time": "2023-05-18T18:06:03.949Z"
   },
   {
    "duration": 27,
    "start_time": "2023-05-18T18:06:04.003Z"
   },
   {
    "duration": 12,
    "start_time": "2023-05-18T18:06:04.032Z"
   },
   {
    "duration": 18,
    "start_time": "2023-05-18T18:06:04.046Z"
   },
   {
    "duration": 13,
    "start_time": "2023-05-18T18:06:04.067Z"
   },
   {
    "duration": 8,
    "start_time": "2023-05-18T18:06:04.082Z"
   },
   {
    "duration": 9,
    "start_time": "2023-05-18T18:06:04.091Z"
   },
   {
    "duration": 79467,
    "start_time": "2023-05-18T18:06:04.102Z"
   },
   {
    "duration": 5,
    "start_time": "2023-05-18T18:07:23.571Z"
   },
   {
    "duration": 7419,
    "start_time": "2023-05-18T18:07:23.578Z"
   },
   {
    "duration": 5,
    "start_time": "2023-05-18T18:07:30.998Z"
   },
   {
    "duration": 37,
    "start_time": "2023-05-18T18:07:31.007Z"
   },
   {
    "duration": 664,
    "start_time": "2023-05-18T18:07:31.047Z"
   },
   {
    "duration": 13,
    "start_time": "2023-05-18T18:07:31.713Z"
   },
   {
    "duration": 24,
    "start_time": "2023-05-18T18:07:31.728Z"
   },
   {
    "duration": 4739,
    "start_time": "2023-05-18T18:07:31.754Z"
   },
   {
    "duration": 0,
    "start_time": "2023-05-18T18:07:36.496Z"
   },
   {
    "duration": 0,
    "start_time": "2023-05-18T18:07:36.497Z"
   },
   {
    "duration": 5,
    "start_time": "2023-05-18T18:08:20.166Z"
   },
   {
    "duration": 6,
    "start_time": "2023-05-18T18:08:22.544Z"
   },
   {
    "duration": 9,
    "start_time": "2023-05-18T18:08:24.859Z"
   },
   {
    "duration": 77496,
    "start_time": "2023-05-18T18:08:25.797Z"
   },
   {
    "duration": 5,
    "start_time": "2023-05-18T18:09:43.295Z"
   },
   {
    "duration": 7324,
    "start_time": "2023-05-18T18:09:43.302Z"
   },
   {
    "duration": 5,
    "start_time": "2023-05-18T18:09:50.628Z"
   },
   {
    "duration": 16,
    "start_time": "2023-05-18T18:09:50.634Z"
   },
   {
    "duration": 776,
    "start_time": "2023-05-18T18:09:50.651Z"
   },
   {
    "duration": 5,
    "start_time": "2023-05-18T18:10:18.019Z"
   },
   {
    "duration": 7,
    "start_time": "2023-05-18T18:10:19.692Z"
   },
   {
    "duration": 13,
    "start_time": "2023-05-18T18:10:21.209Z"
   },
   {
    "duration": 81305,
    "start_time": "2023-05-18T18:10:21.971Z"
   },
   {
    "duration": 5,
    "start_time": "2023-05-18T18:11:43.278Z"
   },
   {
    "duration": 8168,
    "start_time": "2023-05-18T18:11:43.285Z"
   },
   {
    "duration": 6,
    "start_time": "2023-05-18T18:11:51.455Z"
   },
   {
    "duration": 17,
    "start_time": "2023-05-18T18:11:51.462Z"
   },
   {
    "duration": 678,
    "start_time": "2023-05-18T18:11:51.480Z"
   },
   {
    "duration": 7,
    "start_time": "2023-05-18T18:12:09.157Z"
   },
   {
    "duration": 5,
    "start_time": "2023-05-18T18:12:10.558Z"
   },
   {
    "duration": 10,
    "start_time": "2023-05-18T18:12:11.246Z"
   },
   {
    "duration": 25,
    "start_time": "2023-05-18T18:12:11.460Z"
   },
   {
    "duration": 4912,
    "start_time": "2023-05-18T18:15:06.163Z"
   },
   {
    "duration": 31,
    "start_time": "2023-05-18T18:15:11.078Z"
   },
   {
    "duration": 6,
    "start_time": "2023-05-18T18:15:11.111Z"
   },
   {
    "duration": 60,
    "start_time": "2023-05-18T18:15:11.121Z"
   },
   {
    "duration": 27,
    "start_time": "2023-05-18T18:15:11.183Z"
   },
   {
    "duration": 29,
    "start_time": "2023-05-18T18:15:11.213Z"
   },
   {
    "duration": 51,
    "start_time": "2023-05-18T18:15:11.244Z"
   },
   {
    "duration": 31,
    "start_time": "2023-05-18T18:15:11.297Z"
   },
   {
    "duration": 34,
    "start_time": "2023-05-18T18:15:11.330Z"
   },
   {
    "duration": 2221,
    "start_time": "2023-05-18T18:15:11.368Z"
   },
   {
    "duration": 37,
    "start_time": "2023-05-18T18:15:13.591Z"
   },
   {
    "duration": 6,
    "start_time": "2023-05-18T18:15:13.630Z"
   },
   {
    "duration": 6,
    "start_time": "2023-05-18T18:15:13.639Z"
   },
   {
    "duration": 6,
    "start_time": "2023-05-18T18:15:13.647Z"
   },
   {
    "duration": 19,
    "start_time": "2023-05-18T18:15:13.655Z"
   },
   {
    "duration": 31,
    "start_time": "2023-05-18T18:15:13.676Z"
   },
   {
    "duration": 41,
    "start_time": "2023-05-18T18:15:13.709Z"
   },
   {
    "duration": 21,
    "start_time": "2023-05-18T18:15:13.752Z"
   },
   {
    "duration": 5,
    "start_time": "2023-05-18T18:15:13.775Z"
   },
   {
    "duration": 5,
    "start_time": "2023-05-18T18:15:13.781Z"
   },
   {
    "duration": 7,
    "start_time": "2023-05-18T18:15:13.788Z"
   },
   {
    "duration": 32,
    "start_time": "2023-05-18T18:15:13.797Z"
   },
   {
    "duration": 11,
    "start_time": "2023-05-18T18:15:13.831Z"
   },
   {
    "duration": 76612,
    "start_time": "2023-05-18T18:15:13.844Z"
   },
   {
    "duration": 8,
    "start_time": "2023-05-18T18:16:30.461Z"
   },
   {
    "duration": 8412,
    "start_time": "2023-05-18T18:16:30.472Z"
   },
   {
    "duration": 6,
    "start_time": "2023-05-18T18:16:38.886Z"
   },
   {
    "duration": 11,
    "start_time": "2023-05-18T18:16:38.897Z"
   },
   {
    "duration": 726,
    "start_time": "2023-05-18T18:16:38.926Z"
   },
   {
    "duration": 11,
    "start_time": "2023-05-18T18:16:39.655Z"
   },
   {
    "duration": 8,
    "start_time": "2023-05-18T18:16:39.669Z"
   },
   {
    "duration": 75062,
    "start_time": "2023-05-18T18:16:39.686Z"
   },
   {
    "duration": 13,
    "start_time": "2023-05-18T18:17:54.825Z"
   },
   {
    "duration": 744,
    "start_time": "2023-05-18T18:17:54.841Z"
   },
   {
    "duration": 12,
    "start_time": "2023-05-18T18:17:55.589Z"
   },
   {
    "duration": 153,
    "start_time": "2023-05-18T18:18:02.173Z"
   },
   {
    "duration": 8,
    "start_time": "2023-05-18T18:18:14.446Z"
   },
   {
    "duration": 5,
    "start_time": "2023-05-18T18:18:27.568Z"
   },
   {
    "duration": 5,
    "start_time": "2023-05-18T18:18:28.276Z"
   },
   {
    "duration": 166,
    "start_time": "2023-05-18T18:18:29.818Z"
   },
   {
    "duration": 78109,
    "start_time": "2023-05-18T18:18:30.218Z"
   },
   {
    "duration": 5,
    "start_time": "2023-05-18T18:19:48.329Z"
   },
   {
    "duration": 7405,
    "start_time": "2023-05-18T18:19:48.336Z"
   },
   {
    "duration": 5,
    "start_time": "2023-05-18T18:19:55.744Z"
   },
   {
    "duration": 12,
    "start_time": "2023-05-18T18:19:55.751Z"
   },
   {
    "duration": 736,
    "start_time": "2023-05-18T18:19:55.764Z"
   },
   {
    "duration": 4880,
    "start_time": "2023-05-18T18:30:11.904Z"
   },
   {
    "duration": 31,
    "start_time": "2023-05-18T18:30:16.786Z"
   },
   {
    "duration": 5,
    "start_time": "2023-05-18T18:30:16.819Z"
   },
   {
    "duration": 39,
    "start_time": "2023-05-18T18:30:16.829Z"
   },
   {
    "duration": 5,
    "start_time": "2023-05-18T18:30:16.872Z"
   },
   {
    "duration": 29,
    "start_time": "2023-05-18T18:30:16.879Z"
   },
   {
    "duration": 10,
    "start_time": "2023-05-18T18:30:16.910Z"
   },
   {
    "duration": 12,
    "start_time": "2023-05-18T18:30:16.926Z"
   },
   {
    "duration": 7,
    "start_time": "2023-05-18T18:30:16.941Z"
   },
   {
    "duration": 2390,
    "start_time": "2023-05-18T18:30:16.951Z"
   },
   {
    "duration": 26,
    "start_time": "2023-05-18T18:30:19.343Z"
   },
   {
    "duration": 6,
    "start_time": "2023-05-18T18:30:19.372Z"
   },
   {
    "duration": 18,
    "start_time": "2023-05-18T18:30:19.381Z"
   },
   {
    "duration": 25,
    "start_time": "2023-05-18T18:30:19.403Z"
   },
   {
    "duration": 16,
    "start_time": "2023-05-18T18:30:19.431Z"
   },
   {
    "duration": 16,
    "start_time": "2023-05-18T18:30:19.450Z"
   },
   {
    "duration": 40,
    "start_time": "2023-05-18T18:30:19.468Z"
   },
   {
    "duration": 41,
    "start_time": "2023-05-18T18:30:19.510Z"
   },
   {
    "duration": 24,
    "start_time": "2023-05-18T18:30:19.553Z"
   },
   {
    "duration": 23,
    "start_time": "2023-05-18T18:30:19.580Z"
   },
   {
    "duration": 8,
    "start_time": "2023-05-18T18:30:19.605Z"
   },
   {
    "duration": 12,
    "start_time": "2023-05-18T18:30:19.615Z"
   },
   {
    "duration": 10,
    "start_time": "2023-05-18T18:30:19.629Z"
   },
   {
    "duration": 78626,
    "start_time": "2023-05-18T18:30:19.641Z"
   },
   {
    "duration": 5,
    "start_time": "2023-05-18T18:31:38.269Z"
   },
   {
    "duration": 7331,
    "start_time": "2023-05-18T18:31:38.277Z"
   },
   {
    "duration": 6,
    "start_time": "2023-05-18T18:31:45.609Z"
   },
   {
    "duration": 7,
    "start_time": "2023-05-18T18:31:45.625Z"
   },
   {
    "duration": 736,
    "start_time": "2023-05-18T18:31:45.634Z"
   },
   {
    "duration": 6,
    "start_time": "2023-05-18T18:31:46.373Z"
   },
   {
    "duration": 8,
    "start_time": "2023-05-18T18:31:46.381Z"
   },
   {
    "duration": 231,
    "start_time": "2023-05-18T18:31:46.390Z"
   },
   {
    "duration": 0,
    "start_time": "2023-05-18T18:31:46.625Z"
   },
   {
    "duration": 0,
    "start_time": "2023-05-18T18:31:46.627Z"
   },
   {
    "duration": 0,
    "start_time": "2023-05-18T18:31:46.629Z"
   },
   {
    "duration": 0,
    "start_time": "2023-05-18T18:31:46.630Z"
   },
   {
    "duration": 24,
    "start_time": "2023-05-18T18:32:52.506Z"
   },
   {
    "duration": 9,
    "start_time": "2023-05-18T18:33:34.598Z"
   },
   {
    "duration": 8,
    "start_time": "2023-05-18T18:33:45.504Z"
   },
   {
    "duration": 6,
    "start_time": "2023-05-18T18:33:53.782Z"
   },
   {
    "duration": 7,
    "start_time": "2023-05-18T18:34:06.668Z"
   },
   {
    "duration": 44534,
    "start_time": "2023-05-18T18:34:25.404Z"
   },
   {
    "duration": 9,
    "start_time": "2023-05-18T18:35:09.944Z"
   },
   {
    "duration": 74578,
    "start_time": "2023-05-18T18:36:00.053Z"
   },
   {
    "duration": 10,
    "start_time": "2023-05-18T18:37:14.634Z"
   },
   {
    "duration": 13,
    "start_time": "2023-05-18T18:38:11.891Z"
   },
   {
    "duration": 1139,
    "start_time": "2023-05-18T18:38:13.105Z"
   },
   {
    "duration": 4992,
    "start_time": "2023-05-18T18:41:27.122Z"
   },
   {
    "duration": 35,
    "start_time": "2023-05-18T18:41:32.116Z"
   },
   {
    "duration": 9,
    "start_time": "2023-05-18T18:41:32.154Z"
   },
   {
    "duration": 55,
    "start_time": "2023-05-18T18:41:32.167Z"
   },
   {
    "duration": 5,
    "start_time": "2023-05-18T18:41:32.224Z"
   },
   {
    "duration": 22,
    "start_time": "2023-05-18T18:41:32.231Z"
   },
   {
    "duration": 8,
    "start_time": "2023-05-18T18:41:32.255Z"
   },
   {
    "duration": 21,
    "start_time": "2023-05-18T18:41:32.265Z"
   },
   {
    "duration": 50,
    "start_time": "2023-05-18T18:41:32.288Z"
   },
   {
    "duration": 2279,
    "start_time": "2023-05-18T18:41:32.341Z"
   },
   {
    "duration": 34,
    "start_time": "2023-05-18T18:41:34.631Z"
   },
   {
    "duration": 8,
    "start_time": "2023-05-18T18:41:34.667Z"
   },
   {
    "duration": 14,
    "start_time": "2023-05-18T18:41:34.678Z"
   },
   {
    "duration": 17,
    "start_time": "2023-05-18T18:41:34.694Z"
   },
   {
    "duration": 24,
    "start_time": "2023-05-18T18:41:34.712Z"
   },
   {
    "duration": 14,
    "start_time": "2023-05-18T18:41:34.741Z"
   },
   {
    "duration": 43,
    "start_time": "2023-05-18T18:41:34.758Z"
   },
   {
    "duration": 45,
    "start_time": "2023-05-18T18:41:34.804Z"
   },
   {
    "duration": 16,
    "start_time": "2023-05-18T18:41:34.852Z"
   },
   {
    "duration": 4,
    "start_time": "2023-05-18T18:41:34.872Z"
   },
   {
    "duration": 6,
    "start_time": "2023-05-18T18:41:34.878Z"
   },
   {
    "duration": 8,
    "start_time": "2023-05-18T18:41:34.885Z"
   },
   {
    "duration": 11,
    "start_time": "2023-05-18T18:41:34.895Z"
   },
   {
    "duration": 90371,
    "start_time": "2023-05-18T18:41:34.908Z"
   },
   {
    "duration": 6,
    "start_time": "2023-05-18T18:43:05.281Z"
   },
   {
    "duration": 8668,
    "start_time": "2023-05-18T18:43:05.289Z"
   },
   {
    "duration": 5,
    "start_time": "2023-05-18T18:43:13.960Z"
   },
   {
    "duration": 7,
    "start_time": "2023-05-18T18:43:13.970Z"
   },
   {
    "duration": 1026,
    "start_time": "2023-05-18T18:43:13.979Z"
   },
   {
    "duration": 21,
    "start_time": "2023-05-18T18:43:15.008Z"
   },
   {
    "duration": 24,
    "start_time": "2023-05-18T18:43:15.032Z"
   },
   {
    "duration": 10,
    "start_time": "2023-05-18T18:43:15.059Z"
   },
   {
    "duration": 14,
    "start_time": "2023-05-18T18:43:15.072Z"
   },
   {
    "duration": 289054,
    "start_time": "2023-05-18T18:43:15.088Z"
   },
   {
    "duration": 360023,
    "start_time": "2023-05-18T18:48:04.148Z"
   },
   {
    "duration": 70,
    "start_time": "2023-05-18T18:54:04.173Z"
   },
   {
    "duration": 9,
    "start_time": "2023-05-18T18:54:04.254Z"
   },
   {
    "duration": 909,
    "start_time": "2023-05-18T18:54:04.265Z"
   },
   {
    "duration": 79,
    "start_time": "2023-05-18T18:54:05.177Z"
   }
  ],
  "kernelspec": {
   "display_name": "Python 3 (ipykernel)",
   "language": "python",
   "name": "python3"
  },
  "language_info": {
   "codemirror_mode": {
    "name": "ipython",
    "version": 3
   },
   "file_extension": ".py",
   "mimetype": "text/x-python",
   "name": "python",
   "nbconvert_exporter": "python",
   "pygments_lexer": "ipython3",
   "version": "3.9.12"
  },
  "toc": {
   "base_numbering": 1,
   "nav_menu": {},
   "number_sections": false,
   "sideBar": true,
   "skip_h1_title": false,
   "title_cell": "Table of Contents",
   "title_sidebar": "Contents",
   "toc_cell": false,
   "toc_position": {},
   "toc_section_display": true,
   "toc_window_display": false
  },
  "varInspector": {
   "cols": {
    "lenName": 16,
    "lenType": 16,
    "lenVar": 40
   },
   "kernels_config": {
    "python": {
     "delete_cmd_postfix": "",
     "delete_cmd_prefix": "del ",
     "library": "var_list.py",
     "varRefreshCmd": "print(var_dic_list())"
    },
    "r": {
     "delete_cmd_postfix": ") ",
     "delete_cmd_prefix": "rm(",
     "library": "var_list.r",
     "varRefreshCmd": "cat(var_dic_list()) "
    }
   },
   "types_to_exclude": [
    "module",
    "function",
    "builtin_function_or_method",
    "instance",
    "_Feature"
   ],
   "window_display": false
  }
 },
 "nbformat": 4,
 "nbformat_minor": 5
}
