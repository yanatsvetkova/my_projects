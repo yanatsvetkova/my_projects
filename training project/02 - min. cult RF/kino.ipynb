{
 "cells": [
  {
   "cell_type": "markdown",
   "metadata": {
    "id": "sIfNaMOxgFyK"
   },
   "source": [
    "## Исследование данных о российском кинопрокате\n",
    "\n"
   ]
  },
  {
   "cell_type": "markdown",
   "metadata": {},
   "source": [
    "**Цель исследования** — проверить гипотезы:\n",
    "1. Выяснить за какой год было зафиксированно наибольшее число релизов.\n",
    "2. Изучить влияет ли возрастное ограничение на рейтинг и кассовый сбор фильма, как и в какие года какие показатели. \n",
    "3. Какова окупаемость, рейтинги у фильмов, финансируемых государственным бюджетом.\n",
    "**Ход исследования**\n",
    " 1. Обзор данных.\n",
    " 2. Предобработка данных.\n",
    " 3. Расчет и визуализация необходимых данных.\n",
    " 4. Проверка гипотез."
   ]
  },
  {
   "cell_type": "markdown",
   "metadata": {},
   "source": [
    "### Обзор данных"
   ]
  },
  {
   "cell_type": "code",
   "execution_count": 1,
   "metadata": {},
   "outputs": [],
   "source": [
    "import pandas as pd"
   ]
  },
  {
   "cell_type": "code",
   "execution_count": 2,
   "metadata": {
    "id": "dw87FlzMgFyM",
    "scrolled": true
   },
   "outputs": [
    {
     "ename": "FileNotFoundError",
     "evalue": "[Errno 2] No such file or directory: 'C:\\\\Users\\\\yana\\\\Desktop\\\\проекты\\\\минкульт рф\\\\mkrf_movies.csv'",
     "output_type": "error",
     "traceback": [
      "\u001b[1;31m---------------------------------------------------------------------------\u001b[0m",
      "\u001b[1;31mFileNotFoundError\u001b[0m                         Traceback (most recent call last)",
      "Input \u001b[1;32mIn [2]\u001b[0m, in \u001b[0;36m<cell line: 1>\u001b[1;34m()\u001b[0m\n\u001b[1;32m----> 1\u001b[0m mkrf_movies \u001b[38;5;241m=\u001b[39m \u001b[43mpd\u001b[49m\u001b[38;5;241;43m.\u001b[39;49m\u001b[43mread_csv\u001b[49m\u001b[43m(\u001b[49m\u001b[38;5;124;43mr\u001b[39;49m\u001b[38;5;124;43m\"\u001b[39;49m\u001b[38;5;124;43mC:\u001b[39;49m\u001b[38;5;124;43m\\\u001b[39;49m\u001b[38;5;124;43mUsers\u001b[39;49m\u001b[38;5;124;43m\\\u001b[39;49m\u001b[38;5;124;43myana\u001b[39;49m\u001b[38;5;124;43m\\\u001b[39;49m\u001b[38;5;124;43mDesktop\u001b[39;49m\u001b[38;5;124;43m\\\u001b[39;49m\u001b[38;5;124;43mпроекты\u001b[39;49m\u001b[38;5;124;43m\\\u001b[39;49m\u001b[38;5;124;43mминкульт рф\u001b[39;49m\u001b[38;5;124;43m\\\u001b[39;49m\u001b[38;5;124;43mmkrf_movies.csv\u001b[39;49m\u001b[38;5;124;43m\"\u001b[39;49m\u001b[43m)\u001b[49m\n\u001b[0;32m      2\u001b[0m mkrf_shows \u001b[38;5;241m=\u001b[39m pd\u001b[38;5;241m.\u001b[39mread_csv(\u001b[38;5;124mr\u001b[39m\u001b[38;5;124m\"\u001b[39m\u001b[38;5;124mC:\u001b[39m\u001b[38;5;124m\\\u001b[39m\u001b[38;5;124mUsers\u001b[39m\u001b[38;5;124m\\\u001b[39m\u001b[38;5;124myana\u001b[39m\u001b[38;5;124m\\\u001b[39m\u001b[38;5;124mDesktop\u001b[39m\u001b[38;5;124m\\\u001b[39m\u001b[38;5;124mпроекты\u001b[39m\u001b[38;5;124m\\\u001b[39m\u001b[38;5;124mминкульт рф\u001b[39m\u001b[38;5;124m\\\u001b[39m\u001b[38;5;124mmkrf_shows.csv\u001b[39m\u001b[38;5;124m\"\u001b[39m)\n",
      "File \u001b[1;32m~\\anaconda3\\lib\\site-packages\\pandas\\util\\_decorators.py:311\u001b[0m, in \u001b[0;36mdeprecate_nonkeyword_arguments.<locals>.decorate.<locals>.wrapper\u001b[1;34m(*args, **kwargs)\u001b[0m\n\u001b[0;32m    305\u001b[0m \u001b[38;5;28;01mif\u001b[39;00m \u001b[38;5;28mlen\u001b[39m(args) \u001b[38;5;241m>\u001b[39m num_allow_args:\n\u001b[0;32m    306\u001b[0m     warnings\u001b[38;5;241m.\u001b[39mwarn(\n\u001b[0;32m    307\u001b[0m         msg\u001b[38;5;241m.\u001b[39mformat(arguments\u001b[38;5;241m=\u001b[39marguments),\n\u001b[0;32m    308\u001b[0m         \u001b[38;5;167;01mFutureWarning\u001b[39;00m,\n\u001b[0;32m    309\u001b[0m         stacklevel\u001b[38;5;241m=\u001b[39mstacklevel,\n\u001b[0;32m    310\u001b[0m     )\n\u001b[1;32m--> 311\u001b[0m \u001b[38;5;28;01mreturn\u001b[39;00m func(\u001b[38;5;241m*\u001b[39margs, \u001b[38;5;241m*\u001b[39m\u001b[38;5;241m*\u001b[39mkwargs)\n",
      "File \u001b[1;32m~\\anaconda3\\lib\\site-packages\\pandas\\io\\parsers\\readers.py:680\u001b[0m, in \u001b[0;36mread_csv\u001b[1;34m(filepath_or_buffer, sep, delimiter, header, names, index_col, usecols, squeeze, prefix, mangle_dupe_cols, dtype, engine, converters, true_values, false_values, skipinitialspace, skiprows, skipfooter, nrows, na_values, keep_default_na, na_filter, verbose, skip_blank_lines, parse_dates, infer_datetime_format, keep_date_col, date_parser, dayfirst, cache_dates, iterator, chunksize, compression, thousands, decimal, lineterminator, quotechar, quoting, doublequote, escapechar, comment, encoding, encoding_errors, dialect, error_bad_lines, warn_bad_lines, on_bad_lines, delim_whitespace, low_memory, memory_map, float_precision, storage_options)\u001b[0m\n\u001b[0;32m    665\u001b[0m kwds_defaults \u001b[38;5;241m=\u001b[39m _refine_defaults_read(\n\u001b[0;32m    666\u001b[0m     dialect,\n\u001b[0;32m    667\u001b[0m     delimiter,\n\u001b[1;32m   (...)\u001b[0m\n\u001b[0;32m    676\u001b[0m     defaults\u001b[38;5;241m=\u001b[39m{\u001b[38;5;124m\"\u001b[39m\u001b[38;5;124mdelimiter\u001b[39m\u001b[38;5;124m\"\u001b[39m: \u001b[38;5;124m\"\u001b[39m\u001b[38;5;124m,\u001b[39m\u001b[38;5;124m\"\u001b[39m},\n\u001b[0;32m    677\u001b[0m )\n\u001b[0;32m    678\u001b[0m kwds\u001b[38;5;241m.\u001b[39mupdate(kwds_defaults)\n\u001b[1;32m--> 680\u001b[0m \u001b[38;5;28;01mreturn\u001b[39;00m \u001b[43m_read\u001b[49m\u001b[43m(\u001b[49m\u001b[43mfilepath_or_buffer\u001b[49m\u001b[43m,\u001b[49m\u001b[43m \u001b[49m\u001b[43mkwds\u001b[49m\u001b[43m)\u001b[49m\n",
      "File \u001b[1;32m~\\anaconda3\\lib\\site-packages\\pandas\\io\\parsers\\readers.py:575\u001b[0m, in \u001b[0;36m_read\u001b[1;34m(filepath_or_buffer, kwds)\u001b[0m\n\u001b[0;32m    572\u001b[0m _validate_names(kwds\u001b[38;5;241m.\u001b[39mget(\u001b[38;5;124m\"\u001b[39m\u001b[38;5;124mnames\u001b[39m\u001b[38;5;124m\"\u001b[39m, \u001b[38;5;28;01mNone\u001b[39;00m))\n\u001b[0;32m    574\u001b[0m \u001b[38;5;66;03m# Create the parser.\u001b[39;00m\n\u001b[1;32m--> 575\u001b[0m parser \u001b[38;5;241m=\u001b[39m TextFileReader(filepath_or_buffer, \u001b[38;5;241m*\u001b[39m\u001b[38;5;241m*\u001b[39mkwds)\n\u001b[0;32m    577\u001b[0m \u001b[38;5;28;01mif\u001b[39;00m chunksize \u001b[38;5;129;01mor\u001b[39;00m iterator:\n\u001b[0;32m    578\u001b[0m     \u001b[38;5;28;01mreturn\u001b[39;00m parser\n",
      "File \u001b[1;32m~\\anaconda3\\lib\\site-packages\\pandas\\io\\parsers\\readers.py:933\u001b[0m, in \u001b[0;36mTextFileReader.__init__\u001b[1;34m(self, f, engine, **kwds)\u001b[0m\n\u001b[0;32m    930\u001b[0m     \u001b[38;5;28mself\u001b[39m\u001b[38;5;241m.\u001b[39moptions[\u001b[38;5;124m\"\u001b[39m\u001b[38;5;124mhas_index_names\u001b[39m\u001b[38;5;124m\"\u001b[39m] \u001b[38;5;241m=\u001b[39m kwds[\u001b[38;5;124m\"\u001b[39m\u001b[38;5;124mhas_index_names\u001b[39m\u001b[38;5;124m\"\u001b[39m]\n\u001b[0;32m    932\u001b[0m \u001b[38;5;28mself\u001b[39m\u001b[38;5;241m.\u001b[39mhandles: IOHandles \u001b[38;5;241m|\u001b[39m \u001b[38;5;28;01mNone\u001b[39;00m \u001b[38;5;241m=\u001b[39m \u001b[38;5;28;01mNone\u001b[39;00m\n\u001b[1;32m--> 933\u001b[0m \u001b[38;5;28mself\u001b[39m\u001b[38;5;241m.\u001b[39m_engine \u001b[38;5;241m=\u001b[39m \u001b[38;5;28;43mself\u001b[39;49m\u001b[38;5;241;43m.\u001b[39;49m\u001b[43m_make_engine\u001b[49m\u001b[43m(\u001b[49m\u001b[43mf\u001b[49m\u001b[43m,\u001b[49m\u001b[43m \u001b[49m\u001b[38;5;28;43mself\u001b[39;49m\u001b[38;5;241;43m.\u001b[39;49m\u001b[43mengine\u001b[49m\u001b[43m)\u001b[49m\n",
      "File \u001b[1;32m~\\anaconda3\\lib\\site-packages\\pandas\\io\\parsers\\readers.py:1217\u001b[0m, in \u001b[0;36mTextFileReader._make_engine\u001b[1;34m(self, f, engine)\u001b[0m\n\u001b[0;32m   1213\u001b[0m     mode \u001b[38;5;241m=\u001b[39m \u001b[38;5;124m\"\u001b[39m\u001b[38;5;124mrb\u001b[39m\u001b[38;5;124m\"\u001b[39m\n\u001b[0;32m   1214\u001b[0m \u001b[38;5;66;03m# error: No overload variant of \"get_handle\" matches argument types\u001b[39;00m\n\u001b[0;32m   1215\u001b[0m \u001b[38;5;66;03m# \"Union[str, PathLike[str], ReadCsvBuffer[bytes], ReadCsvBuffer[str]]\"\u001b[39;00m\n\u001b[0;32m   1216\u001b[0m \u001b[38;5;66;03m# , \"str\", \"bool\", \"Any\", \"Any\", \"Any\", \"Any\", \"Any\"\u001b[39;00m\n\u001b[1;32m-> 1217\u001b[0m \u001b[38;5;28mself\u001b[39m\u001b[38;5;241m.\u001b[39mhandles \u001b[38;5;241m=\u001b[39m \u001b[43mget_handle\u001b[49m\u001b[43m(\u001b[49m\u001b[43m  \u001b[49m\u001b[38;5;66;43;03m# type: ignore[call-overload]\u001b[39;49;00m\n\u001b[0;32m   1218\u001b[0m \u001b[43m    \u001b[49m\u001b[43mf\u001b[49m\u001b[43m,\u001b[49m\n\u001b[0;32m   1219\u001b[0m \u001b[43m    \u001b[49m\u001b[43mmode\u001b[49m\u001b[43m,\u001b[49m\n\u001b[0;32m   1220\u001b[0m \u001b[43m    \u001b[49m\u001b[43mencoding\u001b[49m\u001b[38;5;241;43m=\u001b[39;49m\u001b[38;5;28;43mself\u001b[39;49m\u001b[38;5;241;43m.\u001b[39;49m\u001b[43moptions\u001b[49m\u001b[38;5;241;43m.\u001b[39;49m\u001b[43mget\u001b[49m\u001b[43m(\u001b[49m\u001b[38;5;124;43m\"\u001b[39;49m\u001b[38;5;124;43mencoding\u001b[39;49m\u001b[38;5;124;43m\"\u001b[39;49m\u001b[43m,\u001b[49m\u001b[43m \u001b[49m\u001b[38;5;28;43;01mNone\u001b[39;49;00m\u001b[43m)\u001b[49m\u001b[43m,\u001b[49m\n\u001b[0;32m   1221\u001b[0m \u001b[43m    \u001b[49m\u001b[43mcompression\u001b[49m\u001b[38;5;241;43m=\u001b[39;49m\u001b[38;5;28;43mself\u001b[39;49m\u001b[38;5;241;43m.\u001b[39;49m\u001b[43moptions\u001b[49m\u001b[38;5;241;43m.\u001b[39;49m\u001b[43mget\u001b[49m\u001b[43m(\u001b[49m\u001b[38;5;124;43m\"\u001b[39;49m\u001b[38;5;124;43mcompression\u001b[39;49m\u001b[38;5;124;43m\"\u001b[39;49m\u001b[43m,\u001b[49m\u001b[43m \u001b[49m\u001b[38;5;28;43;01mNone\u001b[39;49;00m\u001b[43m)\u001b[49m\u001b[43m,\u001b[49m\n\u001b[0;32m   1222\u001b[0m \u001b[43m    \u001b[49m\u001b[43mmemory_map\u001b[49m\u001b[38;5;241;43m=\u001b[39;49m\u001b[38;5;28;43mself\u001b[39;49m\u001b[38;5;241;43m.\u001b[39;49m\u001b[43moptions\u001b[49m\u001b[38;5;241;43m.\u001b[39;49m\u001b[43mget\u001b[49m\u001b[43m(\u001b[49m\u001b[38;5;124;43m\"\u001b[39;49m\u001b[38;5;124;43mmemory_map\u001b[39;49m\u001b[38;5;124;43m\"\u001b[39;49m\u001b[43m,\u001b[49m\u001b[43m \u001b[49m\u001b[38;5;28;43;01mFalse\u001b[39;49;00m\u001b[43m)\u001b[49m\u001b[43m,\u001b[49m\n\u001b[0;32m   1223\u001b[0m \u001b[43m    \u001b[49m\u001b[43mis_text\u001b[49m\u001b[38;5;241;43m=\u001b[39;49m\u001b[43mis_text\u001b[49m\u001b[43m,\u001b[49m\n\u001b[0;32m   1224\u001b[0m \u001b[43m    \u001b[49m\u001b[43merrors\u001b[49m\u001b[38;5;241;43m=\u001b[39;49m\u001b[38;5;28;43mself\u001b[39;49m\u001b[38;5;241;43m.\u001b[39;49m\u001b[43moptions\u001b[49m\u001b[38;5;241;43m.\u001b[39;49m\u001b[43mget\u001b[49m\u001b[43m(\u001b[49m\u001b[38;5;124;43m\"\u001b[39;49m\u001b[38;5;124;43mencoding_errors\u001b[39;49m\u001b[38;5;124;43m\"\u001b[39;49m\u001b[43m,\u001b[49m\u001b[43m \u001b[49m\u001b[38;5;124;43m\"\u001b[39;49m\u001b[38;5;124;43mstrict\u001b[39;49m\u001b[38;5;124;43m\"\u001b[39;49m\u001b[43m)\u001b[49m\u001b[43m,\u001b[49m\n\u001b[0;32m   1225\u001b[0m \u001b[43m    \u001b[49m\u001b[43mstorage_options\u001b[49m\u001b[38;5;241;43m=\u001b[39;49m\u001b[38;5;28;43mself\u001b[39;49m\u001b[38;5;241;43m.\u001b[39;49m\u001b[43moptions\u001b[49m\u001b[38;5;241;43m.\u001b[39;49m\u001b[43mget\u001b[49m\u001b[43m(\u001b[49m\u001b[38;5;124;43m\"\u001b[39;49m\u001b[38;5;124;43mstorage_options\u001b[39;49m\u001b[38;5;124;43m\"\u001b[39;49m\u001b[43m,\u001b[49m\u001b[43m \u001b[49m\u001b[38;5;28;43;01mNone\u001b[39;49;00m\u001b[43m)\u001b[49m\u001b[43m,\u001b[49m\n\u001b[0;32m   1226\u001b[0m \u001b[43m\u001b[49m\u001b[43m)\u001b[49m\n\u001b[0;32m   1227\u001b[0m \u001b[38;5;28;01massert\u001b[39;00m \u001b[38;5;28mself\u001b[39m\u001b[38;5;241m.\u001b[39mhandles \u001b[38;5;129;01mis\u001b[39;00m \u001b[38;5;129;01mnot\u001b[39;00m \u001b[38;5;28;01mNone\u001b[39;00m\n\u001b[0;32m   1228\u001b[0m f \u001b[38;5;241m=\u001b[39m \u001b[38;5;28mself\u001b[39m\u001b[38;5;241m.\u001b[39mhandles\u001b[38;5;241m.\u001b[39mhandle\n",
      "File \u001b[1;32m~\\anaconda3\\lib\\site-packages\\pandas\\io\\common.py:789\u001b[0m, in \u001b[0;36mget_handle\u001b[1;34m(path_or_buf, mode, encoding, compression, memory_map, is_text, errors, storage_options)\u001b[0m\n\u001b[0;32m    784\u001b[0m \u001b[38;5;28;01melif\u001b[39;00m \u001b[38;5;28misinstance\u001b[39m(handle, \u001b[38;5;28mstr\u001b[39m):\n\u001b[0;32m    785\u001b[0m     \u001b[38;5;66;03m# Check whether the filename is to be opened in binary mode.\u001b[39;00m\n\u001b[0;32m    786\u001b[0m     \u001b[38;5;66;03m# Binary mode does not support 'encoding' and 'newline'.\u001b[39;00m\n\u001b[0;32m    787\u001b[0m     \u001b[38;5;28;01mif\u001b[39;00m ioargs\u001b[38;5;241m.\u001b[39mencoding \u001b[38;5;129;01mand\u001b[39;00m \u001b[38;5;124m\"\u001b[39m\u001b[38;5;124mb\u001b[39m\u001b[38;5;124m\"\u001b[39m \u001b[38;5;129;01mnot\u001b[39;00m \u001b[38;5;129;01min\u001b[39;00m ioargs\u001b[38;5;241m.\u001b[39mmode:\n\u001b[0;32m    788\u001b[0m         \u001b[38;5;66;03m# Encoding\u001b[39;00m\n\u001b[1;32m--> 789\u001b[0m         handle \u001b[38;5;241m=\u001b[39m \u001b[38;5;28;43mopen\u001b[39;49m\u001b[43m(\u001b[49m\n\u001b[0;32m    790\u001b[0m \u001b[43m            \u001b[49m\u001b[43mhandle\u001b[49m\u001b[43m,\u001b[49m\n\u001b[0;32m    791\u001b[0m \u001b[43m            \u001b[49m\u001b[43mioargs\u001b[49m\u001b[38;5;241;43m.\u001b[39;49m\u001b[43mmode\u001b[49m\u001b[43m,\u001b[49m\n\u001b[0;32m    792\u001b[0m \u001b[43m            \u001b[49m\u001b[43mencoding\u001b[49m\u001b[38;5;241;43m=\u001b[39;49m\u001b[43mioargs\u001b[49m\u001b[38;5;241;43m.\u001b[39;49m\u001b[43mencoding\u001b[49m\u001b[43m,\u001b[49m\n\u001b[0;32m    793\u001b[0m \u001b[43m            \u001b[49m\u001b[43merrors\u001b[49m\u001b[38;5;241;43m=\u001b[39;49m\u001b[43merrors\u001b[49m\u001b[43m,\u001b[49m\n\u001b[0;32m    794\u001b[0m \u001b[43m            \u001b[49m\u001b[43mnewline\u001b[49m\u001b[38;5;241;43m=\u001b[39;49m\u001b[38;5;124;43m\"\u001b[39;49m\u001b[38;5;124;43m\"\u001b[39;49m\u001b[43m,\u001b[49m\n\u001b[0;32m    795\u001b[0m \u001b[43m        \u001b[49m\u001b[43m)\u001b[49m\n\u001b[0;32m    796\u001b[0m     \u001b[38;5;28;01melse\u001b[39;00m:\n\u001b[0;32m    797\u001b[0m         \u001b[38;5;66;03m# Binary mode\u001b[39;00m\n\u001b[0;32m    798\u001b[0m         handle \u001b[38;5;241m=\u001b[39m \u001b[38;5;28mopen\u001b[39m(handle, ioargs\u001b[38;5;241m.\u001b[39mmode)\n",
      "\u001b[1;31mFileNotFoundError\u001b[0m: [Errno 2] No such file or directory: 'C:\\\\Users\\\\yana\\\\Desktop\\\\проекты\\\\минкульт рф\\\\mkrf_movies.csv'"
     ]
    }
   ],
   "source": [
    "mkrf_movies = pd.read_csv(r\"C:\\Users\\yana\\Desktop\\проекты\\минкульт рф\\mkrf_movies.csv\")\n",
    "mkrf_shows = pd.read_csv(r\"C:\\Users\\yana\\Desktop\\проекты\\минкульт рф\\mkrf_shows.csv\")"
   ]
  },
  {
   "cell_type": "code",
   "execution_count": null,
   "metadata": {},
   "outputs": [],
   "source": [
    "def prepare(df): #фунция предобработки данных\n",
    "    display(df.head())\n",
    "    display(df.info())\n",
    "    display(df.isna().sum())\n",
    "    display(df.duplicated().sum())"
   ]
  },
  {
   "cell_type": "code",
   "execution_count": null,
   "metadata": {},
   "outputs": [],
   "source": [
    "prepare(mkrf_movies)"
   ]
  },
  {
   "cell_type": "code",
   "execution_count": null,
   "metadata": {},
   "outputs": [],
   "source": [
    "prepare(mkrf_shows)"
   ]
  },
  {
   "cell_type": "code",
   "execution_count": null,
   "metadata": {},
   "outputs": [],
   "source": [
    "mkrf_movies['puNumber'] = pd.to_numeric(mkrf_movies['puNumber'], errors='coerce')\n",
    "mkrf_movies['puNumber'] = mkrf_movies['puNumber'].fillna(0)\n",
    "mkrf_movies['puNumber'] = mkrf_movies['puNumber'].astype('int')"
   ]
  },
  {
   "cell_type": "code",
   "execution_count": null,
   "metadata": {},
   "outputs": [],
   "source": [
    "movies = mkrf_movies.merge(mkrf_shows, on='puNumber', how='left')"
   ]
  },
  {
   "cell_type": "markdown",
   "metadata": {},
   "source": [
    "### Предобработка данных"
   ]
  },
  {
   "cell_type": "code",
   "execution_count": null,
   "metadata": {},
   "outputs": [],
   "source": [
    "movies['ratings'] = pd.to_numeric(movies['ratings'], errors='coerce')"
   ]
  },
  {
   "cell_type": "code",
   "execution_count": null,
   "metadata": {},
   "outputs": [],
   "source": [
    "movies['age_restriction'].unique()\n",
    "def short_age(age):\n",
    "    if '18+' in age:\n",
    "        return '18'\n",
    "    elif '16+' in age:\n",
    "        return '16'\n",
    "    elif '12+' in age:\n",
    "        return '12'\n",
    "    elif '6+' in age:\n",
    "        return '6'\n",
    "    elif '0+' in age:\n",
    "        return '0' \n",
    "movies['age_restriction'] = movies['age_restriction'].apply(short_age)\n",
    "movies['age_restriction'] = movies['age_restriction'].astype('int')\n",
    "movies['age_restriction'].unique()"
   ]
  },
  {
   "cell_type": "markdown",
   "metadata": {},
   "source": [
    "**Тип данных** изменила тип данных изначально в столбце id фильма для дальнейшего объединения столбцов, перевела рейтинг в float, тк были выбивающиеся значения, ограничесния по возрасту видоизменила и перевела в целочисленные для дальнейшего удобства и снижения занимаемой памяти."
   ]
  },
  {
   "cell_type": "code",
   "execution_count": null,
   "metadata": {},
   "outputs": [],
   "source": [
    "movies = movies.dropna(subset=['director'])"
   ]
  },
  {
   "cell_type": "markdown",
   "metadata": {},
   "source": [
    "**Пропуски** были заполнены частично на предыдущем этапе, чтобы изменить тип данных. Удалила строки с пропусками в графе режиссер, тк дальше нужно анализировать данные о режиссерах и их жанрах."
   ]
  },
  {
   "cell_type": "code",
   "execution_count": null,
   "metadata": {},
   "outputs": [],
   "source": [
    "movies['title'].duplicated().sum()\n",
    "movies.groupby('title').agg(count=('title','count'))[lambda x : x['count'] > 1] \n",
    "#фнукция для подсчета дублированных названий фильмов в отдельный словарь."
   ]
  },
  {
   "cell_type": "code",
   "execution_count": null,
   "metadata": {},
   "outputs": [],
   "source": [
    "movies.groupby('title').agg(count=('title','count'))[lambda x : x['count'] > 1]"
   ]
  },
  {
   "cell_type": "code",
   "execution_count": null,
   "metadata": {},
   "outputs": [],
   "source": [
    "data_copy = movies.copy()"
   ]
  },
  {
   "cell_type": "code",
   "execution_count": null,
   "metadata": {},
   "outputs": [],
   "source": [
    "idx = data_copy[data_copy.duplicated(subset='title', keep=False) & (data_copy['box_office'].isna() == False)].index\n",
    "data_copy.loc[idx]"
   ]
  },
  {
   "cell_type": "code",
   "execution_count": null,
   "metadata": {
    "scrolled": true
   },
   "outputs": [],
   "source": [
    "len(set(idx) - set(movies.index))"
   ]
  },
  {
   "cell_type": "markdown",
   "metadata": {},
   "source": [
    "Дубли в названиях присутствуют в незначительном количесвте, но содержат в себе ту или иную важную информацию, поэтому удалять их не будем."
   ]
  },
  {
   "cell_type": "code",
   "execution_count": null,
   "metadata": {
    "id": "PnXKIVdFgFyR"
   },
   "outputs": [],
   "source": [
    "movies['type'] = movies['type'].str.strip()\n",
    "movies['type'].unique()"
   ]
  },
  {
   "cell_type": "code",
   "execution_count": null,
   "metadata": {},
   "outputs": [],
   "source": [
    "movies['film_studio'].unique()"
   ]
  },
  {
   "cell_type": "code",
   "execution_count": null,
   "metadata": {},
   "outputs": [],
   "source": [
    "movies['production_country'].unique()"
   ]
  },
  {
   "cell_type": "code",
   "execution_count": null,
   "metadata": {},
   "outputs": [],
   "source": [
    "movies['director'].unique()"
   ]
  },
  {
   "cell_type": "code",
   "execution_count": null,
   "metadata": {},
   "outputs": [],
   "source": [
    "movies['financing_source'].unique()"
   ]
  },
  {
   "cell_type": "code",
   "execution_count": null,
   "metadata": {},
   "outputs": [],
   "source": [
    "movies['genres'].unique()"
   ]
  },
  {
   "cell_type": "code",
   "execution_count": null,
   "metadata": {
    "id": "YbzClBxagFyS"
   },
   "outputs": [],
   "source": [
    "movies['budget'].unique() \n",
    "movies['refundable_support'].unique()\n",
    "movies['nonrefundable_support'].unique()"
   ]
  },
  {
   "cell_type": "markdown",
   "metadata": {},
   "source": [
    "refundable_support и nonrefundable_support входят в budget. есть пропуски  в графах невозвращаемого объема(что может быть), есть пропуски в графе бюджет. Не знала заполнять или нет, провела проект до конца, поняла что с пропусками значеня получились более похожими на правду, тк если заполнять их 0 или -1, конечные данные по вычислениям искажаются."
   ]
  },
  {
   "cell_type": "code",
   "execution_count": null,
   "metadata": {
    "id": "I-yd1DkWgFyT"
   },
   "outputs": [],
   "source": [
    "movies['start_year'] = pd.to_datetime(movies['show_start_date'], format='%Y-%m-%dT%H:%M:%S')\n",
    "movies['start_year'] = movies['start_year'].dt.year #год рубликации"
   ]
  },
  {
   "cell_type": "code",
   "execution_count": null,
   "metadata": {
    "id": "LSbRZKbMgFyU"
   },
   "outputs": [],
   "source": [
    "def first_name(name): #функция вычленияет значения до запятой, то есть только первое имя или жанр.\n",
    "    try:\n",
    "        return name.partition(',')[0]\n",
    "    except:\n",
    "        return name\n",
    "movies['first_director'] = movies['director'].apply(first_name)\n",
    "movies['first_genre'] = movies['genres'].apply(first_name)   "
   ]
  },
  {
   "cell_type": "markdown",
   "metadata": {},
   "source": [
    "### Расчет и визуализация необходимых данных."
   ]
  },
  {
   "cell_type": "code",
   "execution_count": null,
   "metadata": {
    "id": "LV6qFuZLgFyV"
   },
   "outputs": [],
   "source": [
    "movies['part_of_budget'] = (movies['refundable_support'] + movies['nonrefundable_support']) / movies['budget'] \n",
    "#тк возвратная и невозвратная это переменные, означающие фин помощь от государства, \n",
    "#то их сумму делим на общий бюджет и получаем долю господдержки.\n",
    "gos_movies = movies[movies['budget'] >= 0] #для проверки"
   ]
  },
  {
   "cell_type": "code",
   "execution_count": null,
   "metadata": {
    "id": "ABeV47y7gFyW"
   },
   "outputs": [],
   "source": [
    "for year in range (2010, 2020):\n",
    "    display((movies[movies['start_year'] == year]['box_office'].isna() == False).mean()) \n",
    "#высчитана доля заполненных фильмов по каждому году"
   ]
  },
  {
   "cell_type": "code",
   "execution_count": null,
   "metadata": {
    "id": "tfEhofYvgFyX"
   },
   "outputs": [],
   "source": [
    "movies.pivot_table(index = {'start_year'}, values='box_office', aggfunc='sum').plot(kind='barh') \n",
    "#наглядный график\n",
    "sbor = movies.pivot_table(index = {'start_year'}, values='box_office', aggfunc=['sum', 'mean', 'median']) \n",
    "#сводная таблица с суммой, медианой и средним арифметическим.\n",
    "sbor.columns = ['summa','mean_summa', 'median_summa']\n",
    "sbor_new = sbor.sort_values(by = 'summa') \n",
    "min_sbor = sbor_new.iloc[0] #год с минимальным сбором\n",
    "max_sbor = sbor_new.iloc[-1] #год с максимальным сбором"
   ]
  },
  {
   "cell_type": "code",
   "execution_count": null,
   "metadata": {
    "id": "jmp-rgg9gFyY"
   },
   "outputs": [],
   "source": [
    "with pd.option_context('display.float_format','{:,.0f}'.format):\n",
    "    display(sbor) #расчеты в предыдыущем пункте\n",
    "    \n",
    "type(sbor)"
   ]
  },
  {
   "cell_type": "code",
   "execution_count": null,
   "metadata": {
    "id": "jsSbEqfjgFya"
   },
   "outputs": [],
   "source": [
    "age_ristrict = movies.query('start_year >=2015')\n",
    "age_ristrict.pivot_table(index='start_year', columns='age_restriction', values='box_office', aggfunc={'box_office' :'sum'}).plot(kind='bar', figsize=(15,5))\n",
    "age_ristrict.pivot_table(index={'start_year', 'age_restriction'}, values='box_office', aggfunc={'box_office' :'sum'})"
   ]
  },
  {
   "cell_type": "markdown",
   "metadata": {},
   "source": [
    "### Проверка гипотез"
   ]
  },
  {
   "cell_type": "code",
   "execution_count": null,
   "metadata": {},
   "outputs": [],
   "source": [
    "gos_movies = movies[movies['budget'] >= 0] #для проверки\n",
    "gos_movies #ознакомилась с гос фильмами"
   ]
  },
  {
   "cell_type": "code",
   "execution_count": null,
   "metadata": {
    "id": "W9QKpjUdgFyb"
   },
   "outputs": [],
   "source": [
    "payback = gos_movies[gos_movies['box_office'] > gos_movies['budget']]\n",
    "payback_fin = len(payback)/len(gos_movies)\n",
    "payback_fin #окупаемость 25%"
   ]
  },
  {
   "cell_type": "code",
   "execution_count": null,
   "metadata": {},
   "outputs": [],
   "source": [
    "gos_movies['ratings'].describe()"
   ]
  },
  {
   "cell_type": "code",
   "execution_count": null,
   "metadata": {},
   "outputs": [],
   "source": [
    "gos_movies['first_genre'].value_counts()"
   ]
  },
  {
   "cell_type": "code",
   "execution_count": null,
   "metadata": {},
   "outputs": [],
   "source": [
    "gos_movies['age_restriction'].value_counts()"
   ]
  },
  {
   "cell_type": "code",
   "execution_count": null,
   "metadata": {},
   "outputs": [],
   "source": [
    "gos_movies.pivot_table(index='start_year', values='ratings', aggfunc='median').plot(); #зависимость года выпуска и рейтинга"
   ]
  },
  {
   "cell_type": "code",
   "execution_count": null,
   "metadata": {},
   "outputs": [],
   "source": [
    "gos_movies.pivot_table(index='start_year', values='budget', aggfunc='median').plot(); #зависимость года выпуска и бюджета"
   ]
  },
  {
   "cell_type": "code",
   "execution_count": null,
   "metadata": {},
   "outputs": [],
   "source": [
    "payback.pivot_table(index='start_year', values='ratings', aggfunc='median').plot(); #зависимость года выпуска и рейтинга"
   ]
  },
  {
   "cell_type": "code",
   "execution_count": null,
   "metadata": {},
   "outputs": [],
   "source": [
    "payback.pivot_table(index='start_year', values='budget', aggfunc='median').plot(); #зависимость года выпуска и бюджета"
   ]
  },
  {
   "cell_type": "code",
   "execution_count": null,
   "metadata": {},
   "outputs": [],
   "source": [
    "correlyatia = payback['box_office'].corr(movies['budget'])"
   ]
  },
  {
   "cell_type": "code",
   "execution_count": null,
   "metadata": {},
   "outputs": [],
   "source": [
    "for year in range(2015, 2020):\n",
    "    ganre_years = gos_movies[gos_movies['start_year'] == year] \n",
    "    b = ganre_years['first_genre'].value_counts().head(5)\n",
    "    print(b)"
   ]
  },
  {
   "cell_type": "code",
   "execution_count": null,
   "metadata": {},
   "outputs": [],
   "source": [
    "for year in range(2015, 2020):\n",
    "    ganre_years_n = payback[payback['start_year'] == year] \n",
    "    c = ganre_years_n['first_genre'].value_counts().head(5)\n",
    "    print(c)"
   ]
  },
  {
   "cell_type": "markdown",
   "metadata": {
    "id": "AYRg3dzXgFye"
   },
   "source": [
    "**Общий вывод:**\n",
    "- В ходе исследования было выполнено ознакомление с данными, их предобработка, сцелью улучшить их качество и сделать более точные выводы. Далее производились необходимые расчеты. Данные представлены в виде расчетов и визуальных структур с целью более комплексного и понятного восприятия.\n",
    "- Из года в год доля фильмов с известным бюджетом стала больше: с 10% поднялась до 70% с 2015-20117 годах, и подупала до 50% в 2018-2019 гг.\n",
    "- Сборы и возрастные ограничения: за 2015 год больше всего принесли прибыль  фильмы с возрастным ограниченем 12+, в следующем 2016 году кассовые сборы подтянулись и прибыльными также оказались помимо 12+, фильмы 6+ И 18+, за 2017 год более прибыльными стали только 6+ и 18+, за следующие 2 года(2018 и 2019 соответственно) киностудии подтянулись и в прибыльные опять вышли фильмы с рейтнгом 12+, помимо 6 и 18. Таким образом, наиболее окупаемые фильмы в средней возрастной категории.\n",
    "- **Фильмов, спосируемых государством чуть больше 300 из представленных данных**, по ним мы можем сказать следующее:\n",
    "- **Окупаемость фильмов, спонсированных государством, чуть больше 25%.** За окупаемость считается кассовые сборы, превысившие бюджет фильма.\n",
    "- Фильмы с господдержкой имеют **чаще всего рейтинг чуть больше 6**, что является не самым лучшим показателем. Среднее арифметическое примерно такое же.\n",
    "- Чаще всего финансируемыми государством снимали фильмы в **жанре драма, комедия, мультфильм, мелодрама и триллер.**\n",
    "- Больше всего фильмов снято в **средней возрастной категории**.\n",
    "- Чаще всего **рейтинг с каждым годом становится немного меньше.** В период, начиная с 2017, рейтинг вышел на плато. Хотя финансирование после таких фильмов только увеличивалось.\n",
    "- Если рассматривать **окупившиеся фильмы, то можем сказать, что денег на них тратят гораздо больше, а жанры остаются все те же.**\n",
    "- **Самые удачные фильмы были все равно из тройки лидеров: драма, комедия или мультфильм. при этом окупаются из них чаще всего комедии.**"
   ]
  }
 ],
 "metadata": {
  "ExecuteTimeLog": [
   {
    "duration": 537,
    "start_time": "2021-07-07T10:12:08.634Z"
   },
   {
    "duration": 206,
    "start_time": "2021-07-07T10:12:30.191Z"
   },
   {
    "duration": 227,
    "start_time": "2021-07-07T10:12:33.078Z"
   },
   {
    "duration": 153,
    "start_time": "2021-07-07T10:13:42.146Z"
   },
   {
    "duration": 233,
    "start_time": "2021-07-07T10:30:09.252Z"
   },
   {
    "duration": 19,
    "start_time": "2021-07-07T10:30:15.577Z"
   },
   {
    "duration": 18,
    "start_time": "2021-07-07T10:30:57.348Z"
   },
   {
    "duration": 19,
    "start_time": "2021-07-07T10:31:17.452Z"
   },
   {
    "duration": 21,
    "start_time": "2021-07-07T10:31:32.227Z"
   },
   {
    "duration": 27,
    "start_time": "2021-07-07T10:32:06.588Z"
   },
   {
    "duration": 23,
    "start_time": "2021-07-07T10:32:43.645Z"
   },
   {
    "duration": 24,
    "start_time": "2021-07-07T10:33:06.948Z"
   },
   {
    "duration": 7,
    "start_time": "2021-07-07T10:33:28.558Z"
   },
   {
    "duration": 23,
    "start_time": "2021-07-07T10:33:43.761Z"
   },
   {
    "duration": 28,
    "start_time": "2021-07-07T10:34:13.466Z"
   },
   {
    "duration": 23,
    "start_time": "2021-07-07T10:35:56.187Z"
   },
   {
    "duration": 6,
    "start_time": "2021-07-07T10:36:48.182Z"
   },
   {
    "duration": 14,
    "start_time": "2021-07-07T10:37:49.641Z"
   },
   {
    "duration": 6,
    "start_time": "2021-07-07T10:38:06.694Z"
   },
   {
    "duration": 6,
    "start_time": "2021-07-07T10:38:13.493Z"
   },
   {
    "duration": 19,
    "start_time": "2021-07-07T10:38:44.056Z"
   },
   {
    "duration": 186,
    "start_time": "2021-07-07T10:48:35.618Z"
   },
   {
    "duration": 24,
    "start_time": "2021-07-07T10:48:51.498Z"
   },
   {
    "duration": 20,
    "start_time": "2021-07-07T10:48:59.415Z"
   },
   {
    "duration": 20,
    "start_time": "2021-07-07T10:53:02.195Z"
   },
   {
    "duration": 188,
    "start_time": "2021-07-07T10:54:40.486Z"
   },
   {
    "duration": 115,
    "start_time": "2021-07-07T10:54:52.552Z"
   },
   {
    "duration": 214,
    "start_time": "2021-07-07T10:54:56.354Z"
   },
   {
    "duration": 47,
    "start_time": "2021-07-07T10:54:58.282Z"
   },
   {
    "duration": 217,
    "start_time": "2021-07-07T10:59:16.075Z"
   },
   {
    "duration": 51,
    "start_time": "2021-07-07T10:59:16.243Z"
   },
   {
    "duration": 578,
    "start_time": "2021-07-07T10:59:18.774Z"
   },
   {
    "duration": 161,
    "start_time": "2021-07-07T10:59:21.238Z"
   },
   {
    "duration": 59,
    "start_time": "2021-07-07T10:59:21.453Z"
   },
   {
    "duration": 3,
    "start_time": "2021-07-07T11:02:10.786Z"
   },
   {
    "duration": 13,
    "start_time": "2021-07-07T11:07:07.722Z"
   },
   {
    "duration": 26,
    "start_time": "2021-07-07T11:07:17.958Z"
   },
   {
    "duration": 22,
    "start_time": "2021-07-07T11:08:17.939Z"
   },
   {
    "duration": 212,
    "start_time": "2021-07-07T11:08:19.665Z"
   },
   {
    "duration": 21,
    "start_time": "2021-07-07T11:08:29.945Z"
   },
   {
    "duration": 31,
    "start_time": "2021-07-07T11:08:38.899Z"
   },
   {
    "duration": 23,
    "start_time": "2021-07-07T11:08:54.527Z"
   },
   {
    "duration": 8,
    "start_time": "2021-07-07T11:18:55.974Z"
   },
   {
    "duration": 7,
    "start_time": "2021-07-07T11:19:03.639Z"
   },
   {
    "duration": 7,
    "start_time": "2021-07-07T11:19:06.444Z"
   },
   {
    "duration": 578,
    "start_time": "2021-07-07T12:09:59.576Z"
   },
   {
    "duration": 195,
    "start_time": "2021-07-07T12:10:00.156Z"
   },
   {
    "duration": 115,
    "start_time": "2021-07-07T12:10:00.353Z"
   },
   {
    "duration": 3,
    "start_time": "2021-07-07T12:10:00.470Z"
   },
   {
    "duration": 32,
    "start_time": "2021-07-07T12:10:00.474Z"
   },
   {
    "duration": 23,
    "start_time": "2021-07-07T12:10:00.508Z"
   },
   {
    "duration": 19,
    "start_time": "2021-07-07T12:10:00.533Z"
   },
   {
    "duration": 44,
    "start_time": "2021-07-07T12:10:00.553Z"
   },
   {
    "duration": 7,
    "start_time": "2021-07-07T12:10:00.600Z"
   },
   {
    "duration": 7,
    "start_time": "2021-07-07T12:19:45.761Z"
   },
   {
    "duration": 21,
    "start_time": "2021-07-07T12:21:35.482Z"
   },
   {
    "duration": 21,
    "start_time": "2021-07-07T12:29:23.569Z"
   },
   {
    "duration": 525,
    "start_time": "2021-07-07T12:29:44.542Z"
   },
   {
    "duration": 214,
    "start_time": "2021-07-07T12:29:45.069Z"
   },
   {
    "duration": 92,
    "start_time": "2021-07-07T12:29:45.285Z"
   },
   {
    "duration": 3,
    "start_time": "2021-07-07T12:29:45.379Z"
   },
   {
    "duration": 28,
    "start_time": "2021-07-07T12:29:45.384Z"
   },
   {
    "duration": 23,
    "start_time": "2021-07-07T12:29:45.413Z"
   },
   {
    "duration": 21,
    "start_time": "2021-07-07T12:29:45.437Z"
   },
   {
    "duration": 41,
    "start_time": "2021-07-07T12:29:45.460Z"
   },
   {
    "duration": 7,
    "start_time": "2021-07-07T12:29:45.502Z"
   },
   {
    "duration": 20,
    "start_time": "2021-07-07T12:29:45.511Z"
   },
   {
    "duration": 12,
    "start_time": "2021-07-07T12:34:02.800Z"
   },
   {
    "duration": 7,
    "start_time": "2021-07-07T12:35:10.479Z"
   },
   {
    "duration": 8,
    "start_time": "2021-07-07T12:35:22.440Z"
   },
   {
    "duration": 6,
    "start_time": "2021-07-07T12:35:35.649Z"
   },
   {
    "duration": 6,
    "start_time": "2021-07-07T12:35:43.107Z"
   },
   {
    "duration": 22,
    "start_time": "2021-07-07T12:38:03.029Z"
   },
   {
    "duration": 10,
    "start_time": "2021-07-07T12:38:06.592Z"
   },
   {
    "duration": 563,
    "start_time": "2021-07-07T12:38:46.493Z"
   },
   {
    "duration": 265,
    "start_time": "2021-07-07T12:38:47.058Z"
   },
   {
    "duration": 94,
    "start_time": "2021-07-07T12:38:47.325Z"
   },
   {
    "duration": 3,
    "start_time": "2021-07-07T12:38:47.422Z"
   },
   {
    "duration": 30,
    "start_time": "2021-07-07T12:38:47.427Z"
   },
   {
    "duration": 16,
    "start_time": "2021-07-07T12:38:53.305Z"
   },
   {
    "duration": 10,
    "start_time": "2021-07-07T12:38:53.499Z"
   },
   {
    "duration": 8,
    "start_time": "2021-07-07T12:39:48.161Z"
   },
   {
    "duration": 27,
    "start_time": "2021-07-07T12:41:17.629Z"
   },
   {
    "duration": 17,
    "start_time": "2021-07-07T12:41:17.867Z"
   },
   {
    "duration": 21,
    "start_time": "2021-07-07T12:41:19.310Z"
   },
   {
    "duration": 7,
    "start_time": "2021-07-07T12:41:19.544Z"
   },
   {
    "duration": 20,
    "start_time": "2021-07-07T12:41:20.504Z"
   },
   {
    "duration": 554,
    "start_time": "2021-07-07T12:56:23.696Z"
   },
   {
    "duration": 200,
    "start_time": "2021-07-07T12:56:25.234Z"
   },
   {
    "duration": 119,
    "start_time": "2021-07-07T12:56:25.480Z"
   },
   {
    "duration": 4,
    "start_time": "2021-07-07T12:56:25.762Z"
   },
   {
    "duration": 26,
    "start_time": "2021-07-07T12:56:27.172Z"
   },
   {
    "duration": 12,
    "start_time": "2021-07-07T12:56:29.051Z"
   },
   {
    "duration": 10,
    "start_time": "2021-07-07T12:56:29.291Z"
   },
   {
    "duration": 8,
    "start_time": "2021-07-07T12:56:29.623Z"
   },
   {
    "duration": 28,
    "start_time": "2021-07-07T12:56:32.137Z"
   },
   {
    "duration": 19,
    "start_time": "2021-07-07T12:56:39.785Z"
   },
   {
    "duration": 20,
    "start_time": "2021-07-07T12:56:44.297Z"
   },
   {
    "duration": 7,
    "start_time": "2021-07-07T12:56:45.392Z"
   },
   {
    "duration": 23,
    "start_time": "2021-07-07T12:56:46.615Z"
   },
   {
    "duration": 4,
    "start_time": "2021-07-07T12:57:06.625Z"
   },
   {
    "duration": 32,
    "start_time": "2021-07-07T12:57:36.690Z"
   },
   {
    "duration": 18,
    "start_time": "2021-07-07T12:58:00.149Z"
   },
   {
    "duration": 15,
    "start_time": "2021-07-07T12:59:16.793Z"
   },
   {
    "duration": 7,
    "start_time": "2021-07-07T13:19:22.624Z"
   },
   {
    "duration": 6,
    "start_time": "2021-07-07T14:17:33.527Z"
   },
   {
    "duration": 9,
    "start_time": "2021-07-07T14:17:48.409Z"
   },
   {
    "duration": 8,
    "start_time": "2021-07-07T14:20:13.060Z"
   },
   {
    "duration": 8,
    "start_time": "2021-07-07T14:20:37.957Z"
   },
   {
    "duration": 8,
    "start_time": "2021-07-07T14:20:47.470Z"
   },
   {
    "duration": 9,
    "start_time": "2021-07-07T14:20:54.503Z"
   },
   {
    "duration": 10,
    "start_time": "2021-07-07T14:28:57.763Z"
   },
   {
    "duration": 3,
    "start_time": "2021-07-07T14:30:23.377Z"
   },
   {
    "duration": 3,
    "start_time": "2021-07-07T14:30:36.489Z"
   },
   {
    "duration": 103,
    "start_time": "2021-07-07T14:30:52.351Z"
   },
   {
    "duration": 8,
    "start_time": "2021-07-07T14:30:54.763Z"
   },
   {
    "duration": 8,
    "start_time": "2021-07-07T14:31:29.301Z"
   },
   {
    "duration": 13,
    "start_time": "2021-07-07T14:31:44.516Z"
   },
   {
    "duration": 7,
    "start_time": "2021-07-07T14:33:10.972Z"
   },
   {
    "duration": 11,
    "start_time": "2021-07-07T14:33:27.780Z"
   },
   {
    "duration": 8,
    "start_time": "2021-07-07T14:34:44.588Z"
   },
   {
    "duration": 57,
    "start_time": "2021-07-07T14:35:59.042Z"
   },
   {
    "duration": 3,
    "start_time": "2021-07-07T14:36:28.168Z"
   },
   {
    "duration": 5,
    "start_time": "2021-07-07T14:36:46.254Z"
   },
   {
    "duration": 4,
    "start_time": "2021-07-07T14:36:52.714Z"
   },
   {
    "duration": 3,
    "start_time": "2021-07-07T14:36:56.612Z"
   },
   {
    "duration": 4,
    "start_time": "2021-07-07T14:36:57.049Z"
   },
   {
    "duration": 3,
    "start_time": "2021-07-07T14:39:21.214Z"
   },
   {
    "duration": 7,
    "start_time": "2021-07-07T14:39:52.406Z"
   },
   {
    "duration": 11,
    "start_time": "2021-07-07T14:39:58.576Z"
   },
   {
    "duration": 9,
    "start_time": "2021-07-07T14:40:26.301Z"
   },
   {
    "duration": 10,
    "start_time": "2021-07-07T14:40:31.704Z"
   },
   {
    "duration": 11,
    "start_time": "2021-07-07T14:40:36.249Z"
   },
   {
    "duration": 10,
    "start_time": "2021-07-07T14:40:39.783Z"
   },
   {
    "duration": 9,
    "start_time": "2021-07-07T14:40:48.558Z"
   },
   {
    "duration": 10,
    "start_time": "2021-07-07T14:40:57.143Z"
   },
   {
    "duration": 9,
    "start_time": "2021-07-07T14:41:06.074Z"
   },
   {
    "duration": 4324,
    "start_time": "2021-07-07T14:41:22.004Z"
   },
   {
    "duration": 11,
    "start_time": "2021-07-07T14:41:33.392Z"
   },
   {
    "duration": 9,
    "start_time": "2021-07-07T14:41:39.288Z"
   },
   {
    "duration": 569,
    "start_time": "2021-07-07T14:42:14.387Z"
   },
   {
    "duration": 197,
    "start_time": "2021-07-07T14:42:14.959Z"
   },
   {
    "duration": 84,
    "start_time": "2021-07-07T14:42:16.052Z"
   },
   {
    "duration": 4,
    "start_time": "2021-07-07T14:42:16.900Z"
   },
   {
    "duration": 27,
    "start_time": "2021-07-07T14:42:19.898Z"
   },
   {
    "duration": 12,
    "start_time": "2021-07-07T14:42:21.577Z"
   },
   {
    "duration": 9,
    "start_time": "2021-07-07T14:42:21.813Z"
   },
   {
    "duration": 9,
    "start_time": "2021-07-07T14:42:22.569Z"
   },
   {
    "duration": 29,
    "start_time": "2021-07-07T14:42:25.837Z"
   },
   {
    "duration": 20,
    "start_time": "2021-07-07T14:42:27.003Z"
   },
   {
    "duration": 21,
    "start_time": "2021-07-07T14:42:28.767Z"
   },
   {
    "duration": 7,
    "start_time": "2021-07-07T14:42:29.838Z"
   },
   {
    "duration": 4,
    "start_time": "2021-07-07T14:43:25.493Z"
   },
   {
    "duration": 7,
    "start_time": "2021-07-07T14:43:26.573Z"
   },
   {
    "duration": 10,
    "start_time": "2021-07-07T14:43:31.639Z"
   },
   {
    "duration": 9,
    "start_time": "2021-07-07T14:43:32.046Z"
   },
   {
    "duration": 10,
    "start_time": "2021-07-07T14:43:33.301Z"
   },
   {
    "duration": 12,
    "start_time": "2021-07-07T14:43:33.658Z"
   },
   {
    "duration": 8,
    "start_time": "2021-07-07T14:43:34.552Z"
   },
   {
    "duration": 9,
    "start_time": "2021-07-07T14:43:35.058Z"
   },
   {
    "duration": 12,
    "start_time": "2021-07-07T14:43:35.914Z"
   },
   {
    "duration": 17,
    "start_time": "2021-07-07T14:45:34.368Z"
   },
   {
    "duration": 512,
    "start_time": "2021-07-07T14:51:58.236Z"
   },
   {
    "duration": 223,
    "start_time": "2021-07-07T14:51:58.750Z"
   },
   {
    "duration": 93,
    "start_time": "2021-07-07T14:51:58.977Z"
   },
   {
    "duration": 4,
    "start_time": "2021-07-07T14:51:59.071Z"
   },
   {
    "duration": 37,
    "start_time": "2021-07-07T14:51:59.077Z"
   },
   {
    "duration": 18,
    "start_time": "2021-07-07T14:51:59.116Z"
   },
   {
    "duration": 10,
    "start_time": "2021-07-07T14:51:59.137Z"
   },
   {
    "duration": 8,
    "start_time": "2021-07-07T14:51:59.149Z"
   },
   {
    "duration": 54,
    "start_time": "2021-07-07T14:51:59.158Z"
   },
   {
    "duration": 18,
    "start_time": "2021-07-07T14:51:59.213Z"
   },
   {
    "duration": 22,
    "start_time": "2021-07-07T14:51:59.232Z"
   },
   {
    "duration": 36,
    "start_time": "2021-07-07T14:51:59.255Z"
   },
   {
    "duration": 7,
    "start_time": "2021-07-07T14:51:59.293Z"
   },
   {
    "duration": 10,
    "start_time": "2021-07-07T14:51:59.302Z"
   },
   {
    "duration": 9,
    "start_time": "2021-07-07T14:51:59.313Z"
   },
   {
    "duration": 11,
    "start_time": "2021-07-07T14:51:59.324Z"
   },
   {
    "duration": 8,
    "start_time": "2021-07-07T14:51:59.337Z"
   },
   {
    "duration": 46,
    "start_time": "2021-07-07T14:51:59.347Z"
   },
   {
    "duration": 22,
    "start_time": "2021-07-07T14:51:59.395Z"
   },
   {
    "duration": 24,
    "start_time": "2021-07-07T14:57:32.911Z"
   },
   {
    "duration": 7,
    "start_time": "2021-07-07T14:58:22.070Z"
   },
   {
    "duration": 4,
    "start_time": "2021-07-07T14:59:11.239Z"
   },
   {
    "duration": 25,
    "start_time": "2021-07-07T15:07:22.208Z"
   },
   {
    "duration": 16,
    "start_time": "2021-07-07T15:08:25.560Z"
   },
   {
    "duration": 15,
    "start_time": "2021-07-07T15:08:40.647Z"
   },
   {
    "duration": 14,
    "start_time": "2021-07-07T15:08:46.669Z"
   },
   {
    "duration": 533,
    "start_time": "2021-07-07T15:18:07.440Z"
   },
   {
    "duration": 173,
    "start_time": "2021-07-07T15:18:07.974Z"
   },
   {
    "duration": 84,
    "start_time": "2021-07-07T15:18:08.149Z"
   },
   {
    "duration": 3,
    "start_time": "2021-07-07T15:18:08.235Z"
   },
   {
    "duration": 30,
    "start_time": "2021-07-07T15:18:08.240Z"
   },
   {
    "duration": 22,
    "start_time": "2021-07-07T15:18:08.272Z"
   },
   {
    "duration": 11,
    "start_time": "2021-07-07T15:18:08.295Z"
   },
   {
    "duration": 11,
    "start_time": "2021-07-07T15:18:08.309Z"
   },
   {
    "duration": 40,
    "start_time": "2021-07-07T15:18:08.322Z"
   },
   {
    "duration": 42,
    "start_time": "2021-07-07T15:18:08.364Z"
   },
   {
    "duration": 22,
    "start_time": "2021-07-07T15:18:08.408Z"
   },
   {
    "duration": 5,
    "start_time": "2021-07-07T15:18:08.432Z"
   },
   {
    "duration": 13,
    "start_time": "2021-07-07T15:18:08.439Z"
   },
   {
    "duration": 9,
    "start_time": "2021-07-07T15:18:08.454Z"
   },
   {
    "duration": 32,
    "start_time": "2021-07-07T15:18:08.465Z"
   },
   {
    "duration": 10,
    "start_time": "2021-07-07T15:18:08.501Z"
   },
   {
    "duration": 7,
    "start_time": "2021-07-07T15:18:08.513Z"
   },
   {
    "duration": 11,
    "start_time": "2021-07-07T15:18:08.521Z"
   },
   {
    "duration": 17,
    "start_time": "2021-07-07T15:18:08.534Z"
   },
   {
    "duration": 44,
    "start_time": "2021-07-07T15:18:08.553Z"
   },
   {
    "duration": 22,
    "start_time": "2021-07-07T15:18:08.599Z"
   },
   {
    "duration": 61,
    "start_time": "2021-07-07T15:18:08.622Z"
   },
   {
    "duration": 7,
    "start_time": "2021-07-07T15:18:39.457Z"
   },
   {
    "duration": 5,
    "start_time": "2021-07-07T16:05:17.020Z"
   },
   {
    "duration": 5,
    "start_time": "2021-07-07T16:51:28.794Z"
   },
   {
    "duration": 546,
    "start_time": "2021-07-07T16:52:26.306Z"
   },
   {
    "duration": 203,
    "start_time": "2021-07-07T16:52:27.523Z"
   },
   {
    "duration": 85,
    "start_time": "2021-07-07T16:52:27.736Z"
   },
   {
    "duration": 4,
    "start_time": "2021-07-07T16:52:27.899Z"
   },
   {
    "duration": 25,
    "start_time": "2021-07-07T16:52:28.674Z"
   },
   {
    "duration": 8,
    "start_time": "2021-07-07T16:52:32.956Z"
   },
   {
    "duration": 18,
    "start_time": "2021-07-07T16:52:35.616Z"
   },
   {
    "duration": 6,
    "start_time": "2021-07-07T16:52:36.913Z"
   },
   {
    "duration": 11,
    "start_time": "2021-07-07T16:52:40.258Z"
   },
   {
    "duration": 10,
    "start_time": "2021-07-07T16:52:46.251Z"
   },
   {
    "duration": 8,
    "start_time": "2021-07-07T16:52:47.182Z"
   },
   {
    "duration": 27,
    "start_time": "2021-07-07T16:53:20.391Z"
   },
   {
    "duration": 20,
    "start_time": "2021-07-07T16:53:22.022Z"
   },
   {
    "duration": 23,
    "start_time": "2021-07-07T16:53:23.690Z"
   },
   {
    "duration": 8,
    "start_time": "2021-07-07T16:53:24.261Z"
   },
   {
    "duration": 4,
    "start_time": "2021-07-07T16:53:38.733Z"
   },
   {
    "duration": 7,
    "start_time": "2021-07-07T16:53:40.445Z"
   },
   {
    "duration": 11,
    "start_time": "2021-07-07T16:53:41.348Z"
   },
   {
    "duration": 13,
    "start_time": "2021-07-07T16:53:45.250Z"
   },
   {
    "duration": 12,
    "start_time": "2021-07-07T16:53:45.467Z"
   },
   {
    "duration": 4,
    "start_time": "2021-07-07T16:55:32.704Z"
   },
   {
    "duration": 12,
    "start_time": "2021-07-07T16:55:49.012Z"
   },
   {
    "duration": 18,
    "start_time": "2021-07-07T16:55:49.547Z"
   },
   {
    "duration": 611,
    "start_time": "2021-07-07T16:58:35.156Z"
   },
   {
    "duration": 200,
    "start_time": "2021-07-07T16:58:35.770Z"
   },
   {
    "duration": 86,
    "start_time": "2021-07-07T16:58:35.972Z"
   },
   {
    "duration": 3,
    "start_time": "2021-07-07T16:58:36.060Z"
   },
   {
    "duration": 27,
    "start_time": "2021-07-07T16:58:36.065Z"
   },
   {
    "duration": 8,
    "start_time": "2021-07-07T16:58:36.094Z"
   },
   {
    "duration": 17,
    "start_time": "2021-07-07T16:58:36.103Z"
   },
   {
    "duration": 5,
    "start_time": "2021-07-07T16:58:36.123Z"
   },
   {
    "duration": 11,
    "start_time": "2021-07-07T16:58:36.130Z"
   },
   {
    "duration": 7,
    "start_time": "2021-07-07T16:58:36.143Z"
   },
   {
    "duration": 37,
    "start_time": "2021-07-07T16:58:36.152Z"
   },
   {
    "duration": 27,
    "start_time": "2021-07-07T16:58:36.191Z"
   },
   {
    "duration": 19,
    "start_time": "2021-07-07T16:58:36.219Z"
   },
   {
    "duration": 49,
    "start_time": "2021-07-07T16:58:36.240Z"
   },
   {
    "duration": 6,
    "start_time": "2021-07-07T16:58:36.291Z"
   },
   {
    "duration": 3,
    "start_time": "2021-07-07T16:58:36.299Z"
   },
   {
    "duration": 13,
    "start_time": "2021-07-07T16:58:36.304Z"
   },
   {
    "duration": 10,
    "start_time": "2021-07-07T16:58:36.319Z"
   },
   {
    "duration": 10,
    "start_time": "2021-07-07T16:58:36.331Z"
   },
   {
    "duration": 44,
    "start_time": "2021-07-07T16:58:36.343Z"
   },
   {
    "duration": 4,
    "start_time": "2021-07-07T16:58:36.388Z"
   },
   {
    "duration": 13,
    "start_time": "2021-07-07T16:58:36.394Z"
   },
   {
    "duration": 16,
    "start_time": "2021-07-07T16:58:36.410Z"
   },
   {
    "duration": 8,
    "start_time": "2021-07-07T17:02:31.629Z"
   },
   {
    "duration": 8,
    "start_time": "2021-07-07T17:02:34.308Z"
   },
   {
    "duration": 6,
    "start_time": "2021-07-07T17:05:13.483Z"
   },
   {
    "duration": 17,
    "start_time": "2021-07-07T17:05:20.606Z"
   },
   {
    "duration": 7,
    "start_time": "2021-07-07T17:05:34.638Z"
   },
   {
    "duration": 3,
    "start_time": "2021-07-07T17:06:31.883Z"
   },
   {
    "duration": 570,
    "start_time": "2021-07-07T17:06:37.165Z"
   },
   {
    "duration": 174,
    "start_time": "2021-07-07T17:06:37.737Z"
   },
   {
    "duration": 47,
    "start_time": "2021-07-07T17:06:37.913Z"
   },
   {
    "duration": 3,
    "start_time": "2021-07-07T17:06:37.962Z"
   },
   {
    "duration": 27,
    "start_time": "2021-07-07T17:06:37.967Z"
   },
   {
    "duration": 7,
    "start_time": "2021-07-07T17:06:37.996Z"
   },
   {
    "duration": 16,
    "start_time": "2021-07-07T17:06:38.005Z"
   },
   {
    "duration": 6,
    "start_time": "2021-07-07T17:06:38.024Z"
   },
   {
    "duration": 12,
    "start_time": "2021-07-07T17:06:38.031Z"
   },
   {
    "duration": 41,
    "start_time": "2021-07-07T17:06:38.045Z"
   },
   {
    "duration": 8,
    "start_time": "2021-07-07T17:06:38.088Z"
   },
   {
    "duration": 26,
    "start_time": "2021-07-07T17:06:38.098Z"
   },
   {
    "duration": 17,
    "start_time": "2021-07-07T17:06:38.126Z"
   },
   {
    "duration": 43,
    "start_time": "2021-07-07T17:06:38.144Z"
   },
   {
    "duration": 6,
    "start_time": "2021-07-07T17:06:38.188Z"
   },
   {
    "duration": 5,
    "start_time": "2021-07-07T17:06:38.195Z"
   },
   {
    "duration": 9,
    "start_time": "2021-07-07T17:06:38.201Z"
   },
   {
    "duration": 12,
    "start_time": "2021-07-07T17:06:38.212Z"
   },
   {
    "duration": 11,
    "start_time": "2021-07-07T17:06:38.226Z"
   },
   {
    "duration": 47,
    "start_time": "2021-07-07T17:06:38.239Z"
   },
   {
    "duration": 4,
    "start_time": "2021-07-07T17:06:38.288Z"
   },
   {
    "duration": 13,
    "start_time": "2021-07-07T17:06:38.293Z"
   },
   {
    "duration": 5,
    "start_time": "2021-07-07T17:06:38.309Z"
   },
   {
    "duration": 18,
    "start_time": "2021-07-07T17:06:38.325Z"
   },
   {
    "duration": 20,
    "start_time": "2021-07-07T17:07:02.805Z"
   },
   {
    "duration": 19,
    "start_time": "2021-07-07T17:07:08.527Z"
   },
   {
    "duration": 19,
    "start_time": "2021-07-07T17:07:12.758Z"
   },
   {
    "duration": 22,
    "start_time": "2021-07-07T17:07:17.497Z"
   },
   {
    "duration": 19,
    "start_time": "2021-07-07T17:07:19.645Z"
   },
   {
    "duration": 10,
    "start_time": "2021-07-07T17:07:34.239Z"
   },
   {
    "duration": 17,
    "start_time": "2021-07-07T17:07:54.144Z"
   },
   {
    "duration": 14,
    "start_time": "2021-07-07T17:08:14.357Z"
   },
   {
    "duration": 616,
    "start_time": "2021-07-07T17:08:45.254Z"
   },
   {
    "duration": 178,
    "start_time": "2021-07-07T17:08:45.872Z"
   },
   {
    "duration": 60,
    "start_time": "2021-07-07T17:08:46.054Z"
   },
   {
    "duration": 3,
    "start_time": "2021-07-07T17:08:46.116Z"
   },
   {
    "duration": 26,
    "start_time": "2021-07-07T17:08:46.121Z"
   },
   {
    "duration": 7,
    "start_time": "2021-07-07T17:08:46.149Z"
   },
   {
    "duration": 17,
    "start_time": "2021-07-07T17:08:46.158Z"
   },
   {
    "duration": 14,
    "start_time": "2021-07-07T17:08:46.176Z"
   },
   {
    "duration": 17,
    "start_time": "2021-07-07T17:08:46.193Z"
   },
   {
    "duration": 9,
    "start_time": "2021-07-07T17:08:46.211Z"
   },
   {
    "duration": 21,
    "start_time": "2021-07-07T17:08:46.221Z"
   },
   {
    "duration": 49,
    "start_time": "2021-07-07T17:08:46.244Z"
   },
   {
    "duration": 24,
    "start_time": "2021-07-07T17:08:46.295Z"
   },
   {
    "duration": 22,
    "start_time": "2021-07-07T17:08:46.321Z"
   },
   {
    "duration": 6,
    "start_time": "2021-07-07T17:08:46.345Z"
   },
   {
    "duration": 5,
    "start_time": "2021-07-07T17:08:46.353Z"
   },
   {
    "duration": 13,
    "start_time": "2021-07-07T17:08:46.386Z"
   },
   {
    "duration": 12,
    "start_time": "2021-07-07T17:08:46.402Z"
   },
   {
    "duration": 10,
    "start_time": "2021-07-07T17:08:46.415Z"
   },
   {
    "duration": 7,
    "start_time": "2021-07-07T17:08:46.427Z"
   },
   {
    "duration": 8,
    "start_time": "2021-07-07T17:08:46.435Z"
   },
   {
    "duration": 68,
    "start_time": "2021-07-07T17:08:46.446Z"
   },
   {
    "duration": 13,
    "start_time": "2021-07-07T17:08:46.516Z"
   },
   {
    "duration": 78,
    "start_time": "2021-07-07T17:08:46.530Z"
   },
   {
    "duration": 40,
    "start_time": "2021-07-07T17:09:08.185Z"
   },
   {
    "duration": 16,
    "start_time": "2021-07-07T17:09:19.324Z"
   },
   {
    "duration": 21,
    "start_time": "2021-07-07T17:09:23.290Z"
   },
   {
    "duration": 13,
    "start_time": "2021-07-07T17:09:54.812Z"
   },
   {
    "duration": 13,
    "start_time": "2021-07-07T17:10:02.039Z"
   },
   {
    "duration": 10,
    "start_time": "2021-07-07T17:10:29.632Z"
   },
   {
    "duration": 13,
    "start_time": "2021-07-07T17:10:52.372Z"
   },
   {
    "duration": 13,
    "start_time": "2021-07-07T17:11:17.270Z"
   },
   {
    "duration": 13,
    "start_time": "2021-07-07T17:14:59.284Z"
   },
   {
    "duration": 547,
    "start_time": "2021-07-07T17:18:52.403Z"
   },
   {
    "duration": 163,
    "start_time": "2021-07-07T17:18:52.952Z"
   },
   {
    "duration": 44,
    "start_time": "2021-07-07T17:18:53.117Z"
   },
   {
    "duration": 3,
    "start_time": "2021-07-07T17:18:53.162Z"
   },
   {
    "duration": 26,
    "start_time": "2021-07-07T17:18:53.167Z"
   },
   {
    "duration": 6,
    "start_time": "2021-07-07T17:18:53.195Z"
   },
   {
    "duration": 15,
    "start_time": "2021-07-07T17:18:53.203Z"
   },
   {
    "duration": 5,
    "start_time": "2021-07-07T17:18:53.220Z"
   },
   {
    "duration": 11,
    "start_time": "2021-07-07T17:18:53.228Z"
   },
   {
    "duration": 9,
    "start_time": "2021-07-07T17:18:53.241Z"
   },
   {
    "duration": 41,
    "start_time": "2021-07-07T17:18:53.252Z"
   },
   {
    "duration": 33,
    "start_time": "2021-07-07T17:18:53.295Z"
   },
   {
    "duration": 19,
    "start_time": "2021-07-07T17:18:53.330Z"
   },
   {
    "duration": 49,
    "start_time": "2021-07-07T17:18:53.350Z"
   },
   {
    "duration": 5,
    "start_time": "2021-07-07T17:18:53.401Z"
   },
   {
    "duration": 5,
    "start_time": "2021-07-07T17:18:53.408Z"
   },
   {
    "duration": 11,
    "start_time": "2021-07-07T17:18:53.414Z"
   },
   {
    "duration": 9,
    "start_time": "2021-07-07T17:18:53.427Z"
   },
   {
    "duration": 10,
    "start_time": "2021-07-07T17:18:53.437Z"
   },
   {
    "duration": 39,
    "start_time": "2021-07-07T17:18:53.448Z"
   },
   {
    "duration": 26,
    "start_time": "2021-07-07T17:18:55.799Z"
   },
   {
    "duration": 598,
    "start_time": "2021-07-07T17:20:17.862Z"
   },
   {
    "duration": 161,
    "start_time": "2021-07-07T17:20:18.462Z"
   },
   {
    "duration": 45,
    "start_time": "2021-07-07T17:20:18.626Z"
   },
   {
    "duration": 4,
    "start_time": "2021-07-07T17:20:18.673Z"
   },
   {
    "duration": 38,
    "start_time": "2021-07-07T17:20:26.877Z"
   },
   {
    "duration": 7,
    "start_time": "2021-07-07T17:20:37.405Z"
   },
   {
    "duration": 19,
    "start_time": "2021-07-07T17:20:51.534Z"
   },
   {
    "duration": 5,
    "start_time": "2021-07-07T17:20:57.228Z"
   },
   {
    "duration": 7,
    "start_time": "2021-07-07T17:21:08.235Z"
   },
   {
    "duration": 19,
    "start_time": "2021-07-07T17:21:42.158Z"
   },
   {
    "duration": 14,
    "start_time": "2021-07-07T17:21:50.225Z"
   },
   {
    "duration": 22,
    "start_time": "2021-07-07T17:22:54.104Z"
   },
   {
    "duration": 5,
    "start_time": "2021-07-07T17:22:56.371Z"
   },
   {
    "duration": 14,
    "start_time": "2021-07-07T17:22:58.316Z"
   },
   {
    "duration": 5,
    "start_time": "2021-07-07T17:22:58.493Z"
   },
   {
    "duration": 35,
    "start_time": "2021-07-07T17:22:59.666Z"
   },
   {
    "duration": 6,
    "start_time": "2021-07-07T17:23:02.410Z"
   },
   {
    "duration": 611,
    "start_time": "2021-07-07T17:24:59.664Z"
   },
   {
    "duration": 178,
    "start_time": "2021-07-07T17:25:01.945Z"
   },
   {
    "duration": 47,
    "start_time": "2021-07-07T17:25:02.125Z"
   },
   {
    "duration": 2,
    "start_time": "2021-07-07T17:25:07.903Z"
   },
   {
    "duration": 254,
    "start_time": "2021-07-07T17:25:08.232Z"
   },
   {
    "duration": 182,
    "start_time": "2021-07-07T17:25:08.671Z"
   },
   {
    "duration": 6,
    "start_time": "2021-07-07T17:25:13.104Z"
   },
   {
    "duration": 36,
    "start_time": "2021-07-07T17:25:13.662Z"
   },
   {
    "duration": 7,
    "start_time": "2021-07-07T17:25:14.528Z"
   },
   {
    "duration": 24,
    "start_time": "2021-07-07T17:25:27.982Z"
   },
   {
    "duration": 3,
    "start_time": "2021-07-07T17:25:48.982Z"
   },
   {
    "duration": 165,
    "start_time": "2021-07-07T17:25:48.987Z"
   },
   {
    "duration": 50,
    "start_time": "2021-07-07T17:25:49.154Z"
   },
   {
    "duration": 4,
    "start_time": "2021-07-07T17:25:49.206Z"
   },
   {
    "duration": 26,
    "start_time": "2021-07-07T17:25:49.212Z"
   },
   {
    "duration": 7,
    "start_time": "2021-07-07T17:25:49.240Z"
   },
   {
    "duration": 16,
    "start_time": "2021-07-07T17:25:49.249Z"
   },
   {
    "duration": 22,
    "start_time": "2021-07-07T17:25:49.266Z"
   },
   {
    "duration": 16,
    "start_time": "2021-07-07T17:25:49.291Z"
   },
   {
    "duration": 9,
    "start_time": "2021-07-07T17:25:49.309Z"
   },
   {
    "duration": 7,
    "start_time": "2021-07-07T17:25:49.319Z"
   },
   {
    "duration": 28,
    "start_time": "2021-07-07T17:25:49.328Z"
   },
   {
    "duration": 44,
    "start_time": "2021-07-07T17:25:49.357Z"
   },
   {
    "duration": 22,
    "start_time": "2021-07-07T17:25:49.403Z"
   },
   {
    "duration": 7,
    "start_time": "2021-07-07T17:25:49.427Z"
   },
   {
    "duration": 3,
    "start_time": "2021-07-07T17:25:49.436Z"
   },
   {
    "duration": 44,
    "start_time": "2021-07-07T17:25:49.441Z"
   },
   {
    "duration": 12,
    "start_time": "2021-07-07T17:25:49.488Z"
   },
   {
    "duration": 13,
    "start_time": "2021-07-07T17:25:49.502Z"
   },
   {
    "duration": 10,
    "start_time": "2021-07-07T17:25:49.516Z"
   },
   {
    "duration": 62,
    "start_time": "2021-07-07T17:25:49.527Z"
   },
   {
    "duration": 26,
    "start_time": "2021-07-07T17:26:51.809Z"
   },
   {
    "duration": 26,
    "start_time": "2021-07-07T17:26:55.759Z"
   },
   {
    "duration": 26,
    "start_time": "2021-07-07T17:27:04.501Z"
   },
   {
    "duration": 25,
    "start_time": "2021-07-07T17:28:24.859Z"
   },
   {
    "duration": 21,
    "start_time": "2021-07-07T17:28:55.250Z"
   },
   {
    "duration": 21,
    "start_time": "2021-07-07T17:28:58.885Z"
   },
   {
    "duration": 7,
    "start_time": "2021-07-07T17:45:40.972Z"
   },
   {
    "duration": 13,
    "start_time": "2021-07-07T17:45:42.529Z"
   },
   {
    "duration": 27,
    "start_time": "2021-07-07T17:45:51.026Z"
   },
   {
    "duration": 518,
    "start_time": "2021-07-07T17:46:15.532Z"
   },
   {
    "duration": 235,
    "start_time": "2021-07-07T17:46:16.053Z"
   },
   {
    "duration": 80,
    "start_time": "2021-07-07T17:46:16.292Z"
   },
   {
    "duration": 5,
    "start_time": "2021-07-07T17:46:16.373Z"
   },
   {
    "duration": 26,
    "start_time": "2021-07-07T17:46:16.380Z"
   },
   {
    "duration": 7,
    "start_time": "2021-07-07T17:46:16.408Z"
   },
   {
    "duration": 16,
    "start_time": "2021-07-07T17:46:16.418Z"
   },
   {
    "duration": 5,
    "start_time": "2021-07-07T17:46:16.436Z"
   },
   {
    "duration": 13,
    "start_time": "2021-07-07T17:46:16.442Z"
   },
   {
    "duration": 35,
    "start_time": "2021-07-07T17:46:16.456Z"
   },
   {
    "duration": 8,
    "start_time": "2021-07-07T17:46:16.493Z"
   },
   {
    "duration": 28,
    "start_time": "2021-07-07T17:46:16.502Z"
   },
   {
    "duration": 17,
    "start_time": "2021-07-07T17:46:16.532Z"
   },
   {
    "duration": 44,
    "start_time": "2021-07-07T17:46:16.551Z"
   },
   {
    "duration": 6,
    "start_time": "2021-07-07T17:46:16.597Z"
   },
   {
    "duration": 4,
    "start_time": "2021-07-07T17:46:16.605Z"
   },
   {
    "duration": 9,
    "start_time": "2021-07-07T17:46:16.610Z"
   },
   {
    "duration": 9,
    "start_time": "2021-07-07T17:46:16.621Z"
   },
   {
    "duration": 10,
    "start_time": "2021-07-07T17:46:16.632Z"
   },
   {
    "duration": 43,
    "start_time": "2021-07-07T17:46:16.644Z"
   },
   {
    "duration": 26,
    "start_time": "2021-07-07T17:46:16.689Z"
   },
   {
    "duration": 19,
    "start_time": "2021-07-07T17:46:16.718Z"
   },
   {
    "duration": 8,
    "start_time": "2021-07-07T17:46:16.738Z"
   },
   {
    "duration": 43,
    "start_time": "2021-07-07T17:46:16.747Z"
   },
   {
    "duration": 19,
    "start_time": "2021-07-07T17:46:16.791Z"
   },
   {
    "duration": 9,
    "start_time": "2021-07-07T17:46:16.812Z"
   },
   {
    "duration": 60,
    "start_time": "2021-07-07T17:46:16.822Z"
   },
   {
    "duration": -8,
    "start_time": "2021-07-07T17:46:16.892Z"
   },
   {
    "duration": 12,
    "start_time": "2021-07-07T17:48:47.707Z"
   },
   {
    "duration": 553,
    "start_time": "2021-07-07T18:10:09.350Z"
   },
   {
    "duration": 230,
    "start_time": "2021-07-07T18:10:09.905Z"
   },
   {
    "duration": 97,
    "start_time": "2021-07-07T18:10:10.137Z"
   },
   {
    "duration": 5,
    "start_time": "2021-07-07T18:10:10.236Z"
   },
   {
    "duration": 29,
    "start_time": "2021-07-07T18:10:10.242Z"
   },
   {
    "duration": 7,
    "start_time": "2021-07-07T18:10:10.272Z"
   },
   {
    "duration": 15,
    "start_time": "2021-07-07T18:10:10.281Z"
   },
   {
    "duration": 4,
    "start_time": "2021-07-07T18:10:10.299Z"
   },
   {
    "duration": 14,
    "start_time": "2021-07-07T18:10:10.305Z"
   },
   {
    "duration": 8,
    "start_time": "2021-07-07T18:10:10.321Z"
   },
   {
    "duration": 8,
    "start_time": "2021-07-07T18:10:10.331Z"
   },
   {
    "duration": 56,
    "start_time": "2021-07-07T18:10:10.341Z"
   },
   {
    "duration": 19,
    "start_time": "2021-07-07T18:10:10.399Z"
   },
   {
    "duration": 23,
    "start_time": "2021-07-07T18:10:10.419Z"
   },
   {
    "duration": 6,
    "start_time": "2021-07-07T18:10:10.444Z"
   },
   {
    "duration": 9,
    "start_time": "2021-07-07T18:10:10.451Z"
   },
   {
    "duration": 30,
    "start_time": "2021-07-07T18:10:10.462Z"
   },
   {
    "duration": 9,
    "start_time": "2021-07-07T18:10:10.494Z"
   },
   {
    "duration": 14,
    "start_time": "2021-07-07T18:10:10.505Z"
   },
   {
    "duration": 7,
    "start_time": "2021-07-07T18:10:10.521Z"
   },
   {
    "duration": 26,
    "start_time": "2021-07-07T18:10:10.530Z"
   },
   {
    "duration": 44,
    "start_time": "2021-07-07T18:10:10.558Z"
   },
   {
    "duration": 7,
    "start_time": "2021-07-07T18:10:10.605Z"
   },
   {
    "duration": 11,
    "start_time": "2021-07-07T18:10:10.614Z"
   },
   {
    "duration": 19,
    "start_time": "2021-07-07T18:10:10.626Z"
   },
   {
    "duration": 44,
    "start_time": "2021-07-07T18:10:10.646Z"
   },
   {
    "duration": 516,
    "start_time": "2021-07-07T18:14:00.826Z"
   },
   {
    "duration": 230,
    "start_time": "2021-07-07T18:14:01.344Z"
   },
   {
    "duration": 105,
    "start_time": "2021-07-07T18:14:01.576Z"
   },
   {
    "duration": 5,
    "start_time": "2021-07-07T18:14:01.683Z"
   },
   {
    "duration": 46,
    "start_time": "2021-07-07T18:14:01.690Z"
   },
   {
    "duration": 7,
    "start_time": "2021-07-07T18:14:01.738Z"
   },
   {
    "duration": 20,
    "start_time": "2021-07-07T18:14:01.747Z"
   },
   {
    "duration": 16,
    "start_time": "2021-07-07T18:14:01.769Z"
   },
   {
    "duration": 14,
    "start_time": "2021-07-07T18:14:01.787Z"
   },
   {
    "duration": 15,
    "start_time": "2021-07-07T18:14:01.803Z"
   },
   {
    "duration": 12,
    "start_time": "2021-07-07T18:14:01.820Z"
   },
   {
    "duration": 35,
    "start_time": "2021-07-07T18:14:01.833Z"
   },
   {
    "duration": 31,
    "start_time": "2021-07-07T18:14:01.869Z"
   },
   {
    "duration": 37,
    "start_time": "2021-07-07T18:14:01.902Z"
   },
   {
    "duration": 8,
    "start_time": "2021-07-07T18:14:01.942Z"
   },
   {
    "duration": 16,
    "start_time": "2021-07-07T18:14:01.952Z"
   },
   {
    "duration": 13,
    "start_time": "2021-07-07T18:14:01.970Z"
   },
   {
    "duration": 32,
    "start_time": "2021-07-07T18:14:01.985Z"
   },
   {
    "duration": 11,
    "start_time": "2021-07-07T18:14:02.019Z"
   },
   {
    "duration": 22,
    "start_time": "2021-07-07T18:14:02.031Z"
   },
   {
    "duration": 27,
    "start_time": "2021-07-07T18:14:02.055Z"
   },
   {
    "duration": 18,
    "start_time": "2021-07-07T18:14:02.084Z"
   },
   {
    "duration": 18,
    "start_time": "2021-07-07T18:14:02.106Z"
   },
   {
    "duration": 11,
    "start_time": "2021-07-07T18:14:02.126Z"
   },
   {
    "duration": 21,
    "start_time": "2021-07-07T18:14:02.138Z"
   },
   {
    "duration": 32,
    "start_time": "2021-07-07T18:14:02.161Z"
   },
   {
    "duration": 28,
    "start_time": "2021-07-07T18:14:44.295Z"
   },
   {
    "duration": 6,
    "start_time": "2021-07-07T18:15:05.834Z"
   },
   {
    "duration": 511,
    "start_time": "2021-07-07T18:15:41.541Z"
   },
   {
    "duration": 183,
    "start_time": "2021-07-07T18:15:42.054Z"
   },
   {
    "duration": 50,
    "start_time": "2021-07-07T18:15:42.239Z"
   },
   {
    "duration": 5,
    "start_time": "2021-07-07T18:15:42.291Z"
   },
   {
    "duration": 48,
    "start_time": "2021-07-07T18:15:42.297Z"
   },
   {
    "duration": 8,
    "start_time": "2021-07-07T18:15:42.346Z"
   },
   {
    "duration": 17,
    "start_time": "2021-07-07T18:15:42.356Z"
   },
   {
    "duration": 15,
    "start_time": "2021-07-07T18:15:42.375Z"
   },
   {
    "duration": 12,
    "start_time": "2021-07-07T18:15:42.392Z"
   },
   {
    "duration": 7,
    "start_time": "2021-07-07T18:15:42.406Z"
   },
   {
    "duration": 7,
    "start_time": "2021-07-07T18:15:42.415Z"
   },
   {
    "duration": 29,
    "start_time": "2021-07-07T18:15:42.423Z"
   },
   {
    "duration": 43,
    "start_time": "2021-07-07T18:15:42.453Z"
   },
   {
    "duration": 18,
    "start_time": "2021-07-07T18:15:42.497Z"
   },
   {
    "duration": 6,
    "start_time": "2021-07-07T18:15:42.516Z"
   },
   {
    "duration": 3,
    "start_time": "2021-07-07T18:15:42.523Z"
   },
   {
    "duration": 18,
    "start_time": "2021-07-07T18:15:42.528Z"
   },
   {
    "duration": 10,
    "start_time": "2021-07-07T18:15:42.547Z"
   },
   {
    "duration": 36,
    "start_time": "2021-07-07T18:15:42.559Z"
   },
   {
    "duration": 8,
    "start_time": "2021-07-07T18:15:42.597Z"
   },
   {
    "duration": 28,
    "start_time": "2021-07-07T18:15:42.606Z"
   },
   {
    "duration": 52,
    "start_time": "2021-07-07T18:15:42.635Z"
   },
   {
    "duration": 7,
    "start_time": "2021-07-07T18:15:42.690Z"
   },
   {
    "duration": 10,
    "start_time": "2021-07-07T18:15:42.699Z"
   },
   {
    "duration": 19,
    "start_time": "2021-07-07T18:15:42.711Z"
   },
   {
    "duration": 9,
    "start_time": "2021-07-07T18:15:42.732Z"
   },
   {
    "duration": 5,
    "start_time": "2021-07-07T18:15:42.743Z"
   },
   {
    "duration": 1450,
    "start_time": "2021-07-07T18:15:51.984Z"
   },
   {
    "duration": 161,
    "start_time": "2021-07-07T18:15:53.435Z"
   },
   {
    "duration": 124,
    "start_time": "2021-07-07T18:15:53.598Z"
   },
   {
    "duration": 5,
    "start_time": "2021-07-07T18:15:53.724Z"
   },
   {
    "duration": 34,
    "start_time": "2021-07-07T18:15:53.730Z"
   },
   {
    "duration": 7,
    "start_time": "2021-07-07T18:15:53.765Z"
   },
   {
    "duration": 15,
    "start_time": "2021-07-07T18:15:53.773Z"
   },
   {
    "duration": 5,
    "start_time": "2021-07-07T18:15:53.791Z"
   },
   {
    "duration": 19,
    "start_time": "2021-07-07T18:15:53.798Z"
   },
   {
    "duration": 9,
    "start_time": "2021-07-07T18:15:53.818Z"
   },
   {
    "duration": 19,
    "start_time": "2021-07-07T18:15:53.828Z"
   },
   {
    "duration": 27,
    "start_time": "2021-07-07T18:15:53.848Z"
   },
   {
    "duration": 16,
    "start_time": "2021-07-07T18:15:53.884Z"
   },
   {
    "duration": 29,
    "start_time": "2021-07-07T18:15:53.901Z"
   },
   {
    "duration": 5,
    "start_time": "2021-07-07T18:15:53.932Z"
   },
   {
    "duration": 15,
    "start_time": "2021-07-07T18:15:53.939Z"
   },
   {
    "duration": 13,
    "start_time": "2021-07-07T18:15:53.956Z"
   },
   {
    "duration": 20,
    "start_time": "2021-07-07T18:15:53.971Z"
   },
   {
    "duration": 14,
    "start_time": "2021-07-07T18:15:53.992Z"
   },
   {
    "duration": 9,
    "start_time": "2021-07-07T18:15:54.009Z"
   },
   {
    "duration": 28,
    "start_time": "2021-07-07T18:15:54.020Z"
   },
   {
    "duration": 50,
    "start_time": "2021-07-07T18:15:54.051Z"
   },
   {
    "duration": 8,
    "start_time": "2021-07-07T18:15:54.105Z"
   },
   {
    "duration": 11,
    "start_time": "2021-07-07T18:15:54.115Z"
   },
   {
    "duration": 20,
    "start_time": "2021-07-07T18:15:54.128Z"
   },
   {
    "duration": 13,
    "start_time": "2021-07-07T18:15:54.184Z"
   },
   {
    "duration": 7,
    "start_time": "2021-07-07T18:15:54.199Z"
   },
   {
    "duration": 7,
    "start_time": "2021-07-07T18:17:08.042Z"
   },
   {
    "duration": 8,
    "start_time": "2021-07-07T18:17:21.008Z"
   },
   {
    "duration": 7,
    "start_time": "2021-07-07T18:17:29.003Z"
   },
   {
    "duration": 8,
    "start_time": "2021-07-07T18:17:32.492Z"
   },
   {
    "duration": 9,
    "start_time": "2021-07-07T18:17:41.758Z"
   },
   {
    "duration": 255,
    "start_time": "2021-07-07T18:20:20.897Z"
   },
   {
    "duration": 173,
    "start_time": "2021-07-07T18:20:26.636Z"
   },
   {
    "duration": 7,
    "start_time": "2021-07-07T18:21:47.164Z"
   },
   {
    "duration": 254,
    "start_time": "2021-07-07T18:23:08.703Z"
   },
   {
    "duration": 21,
    "start_time": "2021-07-07T18:23:22.506Z"
   },
   {
    "duration": 315,
    "start_time": "2021-07-07T18:25:54.801Z"
   },
   {
    "duration": 34,
    "start_time": "2021-07-07T18:26:51.817Z"
   },
   {
    "duration": 327,
    "start_time": "2021-07-07T18:26:56.147Z"
   },
   {
    "duration": 342,
    "start_time": "2021-07-07T18:27:15.887Z"
   },
   {
    "duration": 302,
    "start_time": "2021-07-07T18:28:18.569Z"
   },
   {
    "duration": 226,
    "start_time": "2021-07-07T18:29:20.879Z"
   },
   {
    "duration": 207,
    "start_time": "2021-07-07T18:29:58.114Z"
   },
   {
    "duration": 140,
    "start_time": "2021-07-07T18:32:04.372Z"
   },
   {
    "duration": 158,
    "start_time": "2021-07-07T18:32:32.508Z"
   },
   {
    "duration": 145,
    "start_time": "2021-07-07T18:32:41.365Z"
   },
   {
    "duration": 132,
    "start_time": "2021-07-07T18:32:45.199Z"
   },
   {
    "duration": 11,
    "start_time": "2021-07-07T18:35:24.679Z"
   },
   {
    "duration": 268,
    "start_time": "2021-07-07T18:36:16.145Z"
   },
   {
    "duration": 227,
    "start_time": "2021-07-07T18:37:04.918Z"
   },
   {
    "duration": 3,
    "start_time": "2021-07-07T18:37:33.012Z"
   },
   {
    "duration": 671,
    "start_time": "2021-07-07T18:37:38.295Z"
   },
   {
    "duration": 54,
    "start_time": "2021-07-07T18:37:53.406Z"
   },
   {
    "duration": 631,
    "start_time": "2021-07-07T18:37:56.463Z"
   },
   {
    "duration": 19,
    "start_time": "2021-07-07T18:39:40.535Z"
   },
   {
    "duration": 20,
    "start_time": "2021-07-07T18:40:12.236Z"
   },
   {
    "duration": 633,
    "start_time": "2021-07-07T18:42:00.398Z"
   },
   {
    "duration": 218,
    "start_time": "2021-07-07T18:42:01.033Z"
   },
   {
    "duration": 49,
    "start_time": "2021-07-07T18:42:01.253Z"
   },
   {
    "duration": 5,
    "start_time": "2021-07-07T18:42:01.303Z"
   },
   {
    "duration": 27,
    "start_time": "2021-07-07T18:42:01.310Z"
   },
   {
    "duration": 8,
    "start_time": "2021-07-07T18:42:01.339Z"
   },
   {
    "duration": 20,
    "start_time": "2021-07-07T18:42:01.348Z"
   },
   {
    "duration": 6,
    "start_time": "2021-07-07T18:42:01.386Z"
   },
   {
    "duration": 16,
    "start_time": "2021-07-07T18:42:01.394Z"
   },
   {
    "duration": 9,
    "start_time": "2021-07-07T18:42:01.411Z"
   },
   {
    "duration": 11,
    "start_time": "2021-07-07T18:42:01.421Z"
   },
   {
    "duration": 31,
    "start_time": "2021-07-07T18:42:01.434Z"
   },
   {
    "duration": 18,
    "start_time": "2021-07-07T18:42:01.485Z"
   },
   {
    "duration": 23,
    "start_time": "2021-07-07T18:42:01.505Z"
   },
   {
    "duration": 6,
    "start_time": "2021-07-07T18:42:01.530Z"
   },
   {
    "duration": 10,
    "start_time": "2021-07-07T18:42:01.538Z"
   },
   {
    "duration": 13,
    "start_time": "2021-07-07T18:42:01.550Z"
   },
   {
    "duration": 24,
    "start_time": "2021-07-07T18:42:01.564Z"
   },
   {
    "duration": 20,
    "start_time": "2021-07-07T18:42:01.590Z"
   },
   {
    "duration": 8,
    "start_time": "2021-07-07T18:42:01.611Z"
   },
   {
    "duration": 31,
    "start_time": "2021-07-07T18:42:01.620Z"
   },
   {
    "duration": 39,
    "start_time": "2021-07-07T18:42:01.653Z"
   },
   {
    "duration": 8,
    "start_time": "2021-07-07T18:42:01.696Z"
   },
   {
    "duration": 13,
    "start_time": "2021-07-07T18:42:01.705Z"
   },
   {
    "duration": 20,
    "start_time": "2021-07-07T18:42:01.720Z"
   },
   {
    "duration": 12,
    "start_time": "2021-07-07T18:42:01.741Z"
   },
   {
    "duration": 35,
    "start_time": "2021-07-07T18:42:01.755Z"
   },
   {
    "duration": 14,
    "start_time": "2021-07-07T18:42:01.792Z"
   },
   {
    "duration": 188,
    "start_time": "2021-07-07T18:42:01.808Z"
   },
   {
    "duration": 19,
    "start_time": "2021-07-07T18:42:01.998Z"
   },
   {
    "duration": 175,
    "start_time": "2021-07-07T18:42:02.019Z"
   },
   {
    "duration": 134,
    "start_time": "2021-07-07T18:42:02.196Z"
   },
   {
    "duration": 10,
    "start_time": "2021-07-07T18:42:02.331Z"
   },
   {
    "duration": 19,
    "start_time": "2021-07-07T18:42:02.343Z"
   },
   {
    "duration": 628,
    "start_time": "2021-07-07T18:46:30.701Z"
   },
   {
    "duration": 183,
    "start_time": "2021-07-07T18:46:31.331Z"
   },
   {
    "duration": 48,
    "start_time": "2021-07-07T18:46:31.516Z"
   },
   {
    "duration": 5,
    "start_time": "2021-07-07T18:46:31.566Z"
   },
   {
    "duration": 28,
    "start_time": "2021-07-07T18:46:31.572Z"
   },
   {
    "duration": 8,
    "start_time": "2021-07-07T18:46:31.602Z"
   },
   {
    "duration": 19,
    "start_time": "2021-07-07T18:46:31.611Z"
   },
   {
    "duration": 6,
    "start_time": "2021-07-07T18:46:31.633Z"
   },
   {
    "duration": 17,
    "start_time": "2021-07-07T18:46:31.642Z"
   },
   {
    "duration": 10,
    "start_time": "2021-07-07T18:46:31.684Z"
   },
   {
    "duration": 9,
    "start_time": "2021-07-07T18:46:31.695Z"
   },
   {
    "duration": 28,
    "start_time": "2021-07-07T18:46:31.705Z"
   },
   {
    "duration": 18,
    "start_time": "2021-07-07T18:46:31.735Z"
   },
   {
    "duration": 48,
    "start_time": "2021-07-07T18:46:31.755Z"
   },
   {
    "duration": 6,
    "start_time": "2021-07-07T18:46:31.804Z"
   },
   {
    "duration": 4,
    "start_time": "2021-07-07T18:46:31.812Z"
   },
   {
    "duration": 9,
    "start_time": "2021-07-07T18:46:31.817Z"
   },
   {
    "duration": 10,
    "start_time": "2021-07-07T18:46:31.827Z"
   },
   {
    "duration": 12,
    "start_time": "2021-07-07T18:46:31.838Z"
   },
   {
    "duration": 39,
    "start_time": "2021-07-07T18:46:31.851Z"
   },
   {
    "duration": 24,
    "start_time": "2021-07-07T18:46:31.892Z"
   },
   {
    "duration": 15,
    "start_time": "2021-07-07T18:46:31.918Z"
   },
   {
    "duration": 7,
    "start_time": "2021-07-07T18:46:31.936Z"
   },
   {
    "duration": 8,
    "start_time": "2021-07-07T18:46:31.944Z"
   },
   {
    "duration": 19,
    "start_time": "2021-07-07T18:46:31.984Z"
   },
   {
    "duration": 10,
    "start_time": "2021-07-07T18:46:32.004Z"
   },
   {
    "duration": 5,
    "start_time": "2021-07-07T18:46:32.016Z"
   },
   {
    "duration": 9,
    "start_time": "2021-07-07T18:46:32.023Z"
   },
   {
    "duration": 199,
    "start_time": "2021-07-07T18:46:32.033Z"
   },
   {
    "duration": 19,
    "start_time": "2021-07-07T18:46:32.234Z"
   },
   {
    "duration": 159,
    "start_time": "2021-07-07T18:46:32.255Z"
   },
   {
    "duration": 134,
    "start_time": "2021-07-07T18:46:32.416Z"
   },
   {
    "duration": 10,
    "start_time": "2021-07-07T18:46:32.552Z"
   },
   {
    "duration": 34,
    "start_time": "2021-07-07T18:46:32.563Z"
   },
   {
    "duration": 1039,
    "start_time": "2021-07-08T08:41:09.419Z"
   },
   {
    "duration": 333,
    "start_time": "2021-07-08T08:41:10.459Z"
   },
   {
    "duration": 173,
    "start_time": "2021-07-08T08:41:10.794Z"
   },
   {
    "duration": 5,
    "start_time": "2021-07-08T08:41:10.968Z"
   },
   {
    "duration": 25,
    "start_time": "2021-07-08T08:41:10.975Z"
   },
   {
    "duration": 9,
    "start_time": "2021-07-08T08:41:11.002Z"
   },
   {
    "duration": 18,
    "start_time": "2021-07-08T08:41:11.013Z"
   },
   {
    "duration": 6,
    "start_time": "2021-07-08T08:41:11.033Z"
   },
   {
    "duration": 44,
    "start_time": "2021-07-08T08:41:11.042Z"
   },
   {
    "duration": 10,
    "start_time": "2021-07-08T08:41:11.088Z"
   },
   {
    "duration": 9,
    "start_time": "2021-07-08T08:41:11.100Z"
   },
   {
    "duration": 27,
    "start_time": "2021-07-08T08:41:11.111Z"
   },
   {
    "duration": 46,
    "start_time": "2021-07-08T08:41:11.140Z"
   },
   {
    "duration": 17,
    "start_time": "2021-07-08T08:41:11.187Z"
   },
   {
    "duration": 6,
    "start_time": "2021-07-08T08:41:11.206Z"
   },
   {
    "duration": 5,
    "start_time": "2021-07-08T08:41:11.213Z"
   },
   {
    "duration": 10,
    "start_time": "2021-07-08T08:41:11.219Z"
   },
   {
    "duration": 9,
    "start_time": "2021-07-08T08:41:11.230Z"
   },
   {
    "duration": 45,
    "start_time": "2021-07-08T08:41:11.241Z"
   },
   {
    "duration": 7,
    "start_time": "2021-07-08T08:41:11.287Z"
   },
   {
    "duration": 24,
    "start_time": "2021-07-08T08:41:11.296Z"
   },
   {
    "duration": 16,
    "start_time": "2021-07-08T08:41:11.322Z"
   },
   {
    "duration": 7,
    "start_time": "2021-07-08T08:41:11.341Z"
   },
   {
    "duration": 41,
    "start_time": "2021-07-08T08:41:11.349Z"
   },
   {
    "duration": 17,
    "start_time": "2021-07-08T08:41:11.391Z"
   },
   {
    "duration": 9,
    "start_time": "2021-07-08T08:41:11.410Z"
   },
   {
    "duration": 5,
    "start_time": "2021-07-08T08:41:11.421Z"
   },
   {
    "duration": 6,
    "start_time": "2021-07-08T08:41:11.428Z"
   },
   {
    "duration": 198,
    "start_time": "2021-07-08T08:41:11.435Z"
   },
   {
    "duration": 18,
    "start_time": "2021-07-08T08:41:11.635Z"
   },
   {
    "duration": 155,
    "start_time": "2021-07-08T08:41:11.655Z"
   },
   {
    "duration": 138,
    "start_time": "2021-07-08T08:41:11.811Z"
   },
   {
    "duration": 10,
    "start_time": "2021-07-08T08:41:11.950Z"
   },
   {
    "duration": 29,
    "start_time": "2021-07-08T08:41:11.961Z"
   },
   {
    "duration": 171,
    "start_time": "2021-07-08T08:47:44.522Z"
   },
   {
    "duration": 124,
    "start_time": "2021-07-08T08:47:46.872Z"
   },
   {
    "duration": 191,
    "start_time": "2021-07-08T08:47:58.148Z"
   },
   {
    "duration": 191,
    "start_time": "2021-07-08T08:48:07.412Z"
   },
   {
    "duration": 261,
    "start_time": "2021-07-08T08:48:10.385Z"
   },
   {
    "duration": 255,
    "start_time": "2021-07-08T08:48:14.494Z"
   },
   {
    "duration": 219,
    "start_time": "2021-07-08T08:48:22.752Z"
   },
   {
    "duration": 173,
    "start_time": "2021-07-08T08:49:06.395Z"
   },
   {
    "duration": 180,
    "start_time": "2021-07-08T08:49:21.011Z"
   },
   {
    "duration": 6,
    "start_time": "2021-07-08T08:50:31.697Z"
   },
   {
    "duration": 10,
    "start_time": "2021-07-08T08:50:47.394Z"
   },
   {
    "duration": 11,
    "start_time": "2021-07-08T08:53:49.332Z"
   },
   {
    "duration": 171,
    "start_time": "2021-07-08T08:54:28.408Z"
   },
   {
    "duration": 636,
    "start_time": "2021-07-08T09:02:48.385Z"
   },
   {
    "duration": 227,
    "start_time": "2021-07-08T09:02:49.023Z"
   },
   {
    "duration": 104,
    "start_time": "2021-07-08T09:02:49.252Z"
   },
   {
    "duration": 5,
    "start_time": "2021-07-08T09:02:49.358Z"
   },
   {
    "duration": 27,
    "start_time": "2021-07-08T09:02:49.365Z"
   },
   {
    "duration": 8,
    "start_time": "2021-07-08T09:02:49.394Z"
   },
   {
    "duration": 18,
    "start_time": "2021-07-08T09:02:49.404Z"
   },
   {
    "duration": 6,
    "start_time": "2021-07-08T09:02:49.424Z"
   },
   {
    "duration": 11,
    "start_time": "2021-07-08T09:02:49.433Z"
   },
   {
    "duration": 13,
    "start_time": "2021-07-08T09:02:49.485Z"
   },
   {
    "duration": 9,
    "start_time": "2021-07-08T09:02:49.500Z"
   },
   {
    "duration": 38,
    "start_time": "2021-07-08T09:02:49.511Z"
   },
   {
    "duration": 42,
    "start_time": "2021-07-08T09:02:49.551Z"
   },
   {
    "duration": 21,
    "start_time": "2021-07-08T09:02:49.594Z"
   },
   {
    "duration": 6,
    "start_time": "2021-07-08T09:02:49.616Z"
   },
   {
    "duration": 3,
    "start_time": "2021-07-08T09:02:49.623Z"
   },
   {
    "duration": 9,
    "start_time": "2021-07-08T09:02:49.628Z"
   },
   {
    "duration": 52,
    "start_time": "2021-07-08T09:02:49.638Z"
   },
   {
    "duration": 11,
    "start_time": "2021-07-08T09:02:49.692Z"
   },
   {
    "duration": 8,
    "start_time": "2021-07-08T09:02:49.704Z"
   },
   {
    "duration": 27,
    "start_time": "2021-07-08T09:02:49.713Z"
   },
   {
    "duration": 59,
    "start_time": "2021-07-08T09:02:49.741Z"
   },
   {
    "duration": 8,
    "start_time": "2021-07-08T09:02:49.803Z"
   },
   {
    "duration": 14,
    "start_time": "2021-07-08T09:02:49.813Z"
   },
   {
    "duration": 20,
    "start_time": "2021-07-08T09:02:49.829Z"
   },
   {
    "duration": 44,
    "start_time": "2021-07-08T09:02:49.851Z"
   },
   {
    "duration": 14,
    "start_time": "2021-07-08T09:02:49.896Z"
   },
   {
    "duration": 221,
    "start_time": "2021-07-08T09:02:49.912Z"
   },
   {
    "duration": 6,
    "start_time": "2021-07-08T09:02:50.134Z"
   },
   {
    "duration": 206,
    "start_time": "2021-07-08T09:02:50.142Z"
   },
   {
    "duration": 19,
    "start_time": "2021-07-08T09:02:50.350Z"
   },
   {
    "duration": 21,
    "start_time": "2021-07-08T09:02:50.370Z"
   },
   {
    "duration": 20,
    "start_time": "2021-07-08T09:02:50.393Z"
   },
   {
    "duration": 5,
    "start_time": "2021-07-08T09:02:50.414Z"
   },
   {
    "duration": 5,
    "start_time": "2021-07-08T09:03:34.173Z"
   },
   {
    "duration": 6,
    "start_time": "2021-07-08T09:04:49.062Z"
   },
   {
    "duration": 9,
    "start_time": "2021-07-08T09:04:50.118Z"
   },
   {
    "duration": 14,
    "start_time": "2021-07-08T09:04:58.512Z"
   },
   {
    "duration": 9,
    "start_time": "2021-07-08T09:05:10.988Z"
   },
   {
    "duration": 11,
    "start_time": "2021-07-08T09:05:11.743Z"
   },
   {
    "duration": 7,
    "start_time": "2021-07-08T09:05:25.677Z"
   },
   {
    "duration": 13,
    "start_time": "2021-07-08T09:05:47.189Z"
   },
   {
    "duration": 13,
    "start_time": "2021-07-08T09:05:54.755Z"
   },
   {
    "duration": 4,
    "start_time": "2021-07-08T09:06:29.189Z"
   },
   {
    "duration": 244,
    "start_time": "2021-07-08T09:06:29.195Z"
   },
   {
    "duration": 91,
    "start_time": "2021-07-08T09:06:29.441Z"
   },
   {
    "duration": 4,
    "start_time": "2021-07-08T09:06:29.534Z"
   },
   {
    "duration": 28,
    "start_time": "2021-07-08T09:06:29.540Z"
   },
   {
    "duration": 6,
    "start_time": "2021-07-08T09:06:29.570Z"
   },
   {
    "duration": 18,
    "start_time": "2021-07-08T09:06:29.578Z"
   },
   {
    "duration": 5,
    "start_time": "2021-07-08T09:06:29.597Z"
   },
   {
    "duration": 13,
    "start_time": "2021-07-08T09:06:29.605Z"
   },
   {
    "duration": 8,
    "start_time": "2021-07-08T09:06:29.620Z"
   },
   {
    "duration": 7,
    "start_time": "2021-07-08T09:06:29.630Z"
   },
   {
    "duration": 63,
    "start_time": "2021-07-08T09:06:29.639Z"
   },
   {
    "duration": 17,
    "start_time": "2021-07-08T09:06:29.704Z"
   },
   {
    "duration": 20,
    "start_time": "2021-07-08T09:06:29.723Z"
   },
   {
    "duration": 6,
    "start_time": "2021-07-08T09:06:29.745Z"
   },
   {
    "duration": 3,
    "start_time": "2021-07-08T09:06:29.752Z"
   },
   {
    "duration": 7,
    "start_time": "2021-07-08T09:06:29.785Z"
   },
   {
    "duration": 11,
    "start_time": "2021-07-08T09:06:29.794Z"
   },
   {
    "duration": 15,
    "start_time": "2021-07-08T09:06:29.807Z"
   },
   {
    "duration": 8,
    "start_time": "2021-07-08T09:06:29.823Z"
   },
   {
    "duration": 70,
    "start_time": "2021-07-08T09:06:29.832Z"
   },
   {
    "duration": 17,
    "start_time": "2021-07-08T09:06:29.903Z"
   },
   {
    "duration": 9,
    "start_time": "2021-07-08T09:06:29.921Z"
   },
   {
    "duration": 9,
    "start_time": "2021-07-08T09:06:29.932Z"
   },
   {
    "duration": 57,
    "start_time": "2021-07-08T09:06:29.942Z"
   },
   {
    "duration": 11,
    "start_time": "2021-07-08T09:06:30.001Z"
   },
   {
    "duration": 19,
    "start_time": "2021-07-08T09:06:30.016Z"
   },
   {
    "duration": 217,
    "start_time": "2021-07-08T09:06:30.037Z"
   },
   {
    "duration": 6,
    "start_time": "2021-07-08T09:06:30.255Z"
   },
   {
    "duration": 205,
    "start_time": "2021-07-08T09:06:30.263Z"
   },
   {
    "duration": 27,
    "start_time": "2021-07-08T09:06:30.470Z"
   },
   {
    "duration": 11,
    "start_time": "2021-07-08T09:06:30.500Z"
   },
   {
    "duration": 31,
    "start_time": "2021-07-08T09:06:30.513Z"
   },
   {
    "duration": 18,
    "start_time": "2021-07-08T09:06:30.546Z"
   },
   {
    "duration": 11,
    "start_time": "2021-07-08T09:06:30.566Z"
   },
   {
    "duration": 19,
    "start_time": "2021-07-08T09:06:30.579Z"
   },
   {
    "duration": 20,
    "start_time": "2021-07-08T09:06:49.466Z"
   },
   {
    "duration": 9,
    "start_time": "2021-07-08T09:06:51.994Z"
   },
   {
    "duration": 20,
    "start_time": "2021-07-08T09:06:52.273Z"
   },
   {
    "duration": 246,
    "start_time": "2021-07-08T09:10:21.272Z"
   },
   {
    "duration": 84,
    "start_time": "2021-07-08T09:10:21.436Z"
   },
   {
    "duration": 7,
    "start_time": "2021-07-08T09:10:37.608Z"
   },
   {
    "duration": 189,
    "start_time": "2021-07-08T09:10:38.573Z"
   },
   {
    "duration": 185,
    "start_time": "2021-07-08T09:10:53.181Z"
   },
   {
    "duration": 11,
    "start_time": "2021-07-08T09:10:59.549Z"
   },
   {
    "duration": 42,
    "start_time": "2021-07-08T09:10:59.709Z"
   },
   {
    "duration": 12,
    "start_time": "2021-07-08T09:11:02.857Z"
   },
   {
    "duration": 28,
    "start_time": "2021-07-08T09:11:10.062Z"
   },
   {
    "duration": 249,
    "start_time": "2021-07-08T09:11:37.388Z"
   },
   {
    "duration": 232,
    "start_time": "2021-07-08T09:11:49.485Z"
   },
   {
    "duration": 453,
    "start_time": "2021-07-08T09:12:01.546Z"
   },
   {
    "duration": 440,
    "start_time": "2021-07-08T09:12:12.347Z"
   },
   {
    "duration": 213,
    "start_time": "2021-07-08T09:13:32.196Z"
   },
   {
    "duration": 172,
    "start_time": "2021-07-08T09:14:07.400Z"
   },
   {
    "duration": 185,
    "start_time": "2021-07-08T09:14:14.905Z"
   },
   {
    "duration": 209,
    "start_time": "2021-07-08T09:14:40.109Z"
   },
   {
    "duration": 201,
    "start_time": "2021-07-08T09:14:54.506Z"
   },
   {
    "duration": 622,
    "start_time": "2021-07-08T09:18:14.497Z"
   },
   {
    "duration": 220,
    "start_time": "2021-07-08T09:18:15.121Z"
   },
   {
    "duration": 79,
    "start_time": "2021-07-08T09:18:15.343Z"
   },
   {
    "duration": 4,
    "start_time": "2021-07-08T09:18:15.425Z"
   },
   {
    "duration": 24,
    "start_time": "2021-07-08T09:18:15.431Z"
   },
   {
    "duration": 8,
    "start_time": "2021-07-08T09:18:15.457Z"
   },
   {
    "duration": 16,
    "start_time": "2021-07-08T09:18:15.466Z"
   },
   {
    "duration": 5,
    "start_time": "2021-07-08T09:18:15.484Z"
   },
   {
    "duration": 10,
    "start_time": "2021-07-08T09:18:15.493Z"
   },
   {
    "duration": 8,
    "start_time": "2021-07-08T09:18:15.504Z"
   },
   {
    "duration": 7,
    "start_time": "2021-07-08T09:18:15.513Z"
   },
   {
    "duration": 26,
    "start_time": "2021-07-08T09:18:15.522Z"
   },
   {
    "duration": 49,
    "start_time": "2021-07-08T09:18:15.550Z"
   },
   {
    "duration": 21,
    "start_time": "2021-07-08T09:18:15.601Z"
   },
   {
    "duration": 8,
    "start_time": "2021-07-08T09:18:15.624Z"
   },
   {
    "duration": 3,
    "start_time": "2021-07-08T09:18:15.634Z"
   },
   {
    "duration": 8,
    "start_time": "2021-07-08T09:18:15.639Z"
   },
   {
    "duration": 45,
    "start_time": "2021-07-08T09:18:15.649Z"
   },
   {
    "duration": 13,
    "start_time": "2021-07-08T09:18:15.696Z"
   },
   {
    "duration": 10,
    "start_time": "2021-07-08T09:18:15.711Z"
   },
   {
    "duration": 64,
    "start_time": "2021-07-08T09:18:15.722Z"
   },
   {
    "duration": 19,
    "start_time": "2021-07-08T09:18:15.788Z"
   },
   {
    "duration": 9,
    "start_time": "2021-07-08T09:18:15.809Z"
   },
   {
    "duration": 9,
    "start_time": "2021-07-08T09:18:15.820Z"
   },
   {
    "duration": 18,
    "start_time": "2021-07-08T09:18:15.831Z"
   },
   {
    "duration": 43,
    "start_time": "2021-07-08T09:18:15.851Z"
   },
   {
    "duration": 12,
    "start_time": "2021-07-08T09:18:15.897Z"
   },
   {
    "duration": 219,
    "start_time": "2021-07-08T09:18:15.911Z"
   },
   {
    "duration": 8,
    "start_time": "2021-07-08T09:18:16.132Z"
   },
   {
    "duration": 199,
    "start_time": "2021-07-08T09:18:16.141Z"
   },
   {
    "duration": 18,
    "start_time": "2021-07-08T09:18:16.341Z"
   },
   {
    "duration": 24,
    "start_time": "2021-07-08T09:18:16.361Z"
   },
   {
    "duration": 24,
    "start_time": "2021-07-08T09:18:16.387Z"
   },
   {
    "duration": 211,
    "start_time": "2021-07-08T09:18:16.413Z"
   },
   {
    "duration": 18,
    "start_time": "2021-07-08T09:18:16.626Z"
   },
   {
    "duration": 596,
    "start_time": "2021-07-08T10:06:33.623Z"
   },
   {
    "duration": 181,
    "start_time": "2021-07-08T10:06:34.221Z"
   },
   {
    "duration": 176,
    "start_time": "2021-07-08T10:06:34.635Z"
   },
   {
    "duration": 239,
    "start_time": "2021-07-08T10:06:55.572Z"
   },
   {
    "duration": 6,
    "start_time": "2021-07-08T10:06:57.687Z"
   },
   {
    "duration": 4,
    "start_time": "2021-07-08T10:07:03.956Z"
   },
   {
    "duration": 4,
    "start_time": "2021-07-08T10:07:10.376Z"
   },
   {
    "duration": 4,
    "start_time": "2021-07-08T10:17:19.889Z"
   },
   {
    "duration": 3,
    "start_time": "2021-07-08T10:19:19.407Z"
   },
   {
    "duration": 197,
    "start_time": "2021-07-08T10:19:19.412Z"
   },
   {
    "duration": 127,
    "start_time": "2021-07-08T10:19:19.611Z"
   },
   {
    "duration": 4,
    "start_time": "2021-07-08T10:19:19.740Z"
   },
   {
    "duration": 27,
    "start_time": "2021-07-08T10:19:19.746Z"
   },
   {
    "duration": 7,
    "start_time": "2021-07-08T10:19:19.775Z"
   },
   {
    "duration": 30,
    "start_time": "2021-07-08T10:19:19.784Z"
   },
   {
    "duration": 7,
    "start_time": "2021-07-08T10:19:19.817Z"
   },
   {
    "duration": 26,
    "start_time": "2021-07-08T10:19:19.826Z"
   },
   {
    "duration": 18,
    "start_time": "2021-07-08T10:19:19.854Z"
   },
   {
    "duration": 14,
    "start_time": "2021-07-08T10:19:19.874Z"
   },
   {
    "duration": 48,
    "start_time": "2021-07-08T10:19:19.890Z"
   },
   {
    "duration": 17,
    "start_time": "2021-07-08T10:19:19.940Z"
   },
   {
    "duration": 38,
    "start_time": "2021-07-08T10:19:19.959Z"
   },
   {
    "duration": 8,
    "start_time": "2021-07-08T10:19:19.999Z"
   },
   {
    "duration": 15,
    "start_time": "2021-07-08T10:19:20.009Z"
   },
   {
    "duration": 22,
    "start_time": "2021-07-08T10:19:20.026Z"
   },
   {
    "duration": 10,
    "start_time": "2021-07-08T10:19:20.050Z"
   },
   {
    "duration": 10,
    "start_time": "2021-07-08T10:19:20.062Z"
   },
   {
    "duration": 20,
    "start_time": "2021-07-08T10:19:20.073Z"
   },
   {
    "duration": 29,
    "start_time": "2021-07-08T10:19:20.095Z"
   },
   {
    "duration": 17,
    "start_time": "2021-07-08T10:19:20.126Z"
   },
   {
    "duration": 40,
    "start_time": "2021-07-08T10:19:20.146Z"
   },
   {
    "duration": 15,
    "start_time": "2021-07-08T10:19:20.189Z"
   },
   {
    "duration": 19,
    "start_time": "2021-07-08T10:19:20.206Z"
   },
   {
    "duration": 10,
    "start_time": "2021-07-08T10:19:20.226Z"
   },
   {
    "duration": 11,
    "start_time": "2021-07-08T10:19:20.238Z"
   },
   {
    "duration": 297,
    "start_time": "2021-07-08T10:19:20.250Z"
   },
   {
    "duration": 6,
    "start_time": "2021-07-08T10:19:20.549Z"
   },
   {
    "duration": 191,
    "start_time": "2021-07-08T10:19:20.557Z"
   },
   {
    "duration": 19,
    "start_time": "2021-07-08T10:19:20.750Z"
   },
   {
    "duration": 20,
    "start_time": "2021-07-08T10:19:20.771Z"
   },
   {
    "duration": 15,
    "start_time": "2021-07-08T10:19:20.793Z"
   },
   {
    "duration": 222,
    "start_time": "2021-07-08T10:19:20.809Z"
   },
   {
    "duration": 20,
    "start_time": "2021-07-08T10:19:21.033Z"
   },
   {
    "duration": 27,
    "start_time": "2021-07-08T10:45:04.055Z"
   },
   {
    "duration": 8,
    "start_time": "2021-07-08T10:45:08.478Z"
   },
   {
    "duration": 8,
    "start_time": "2021-07-08T10:45:31.982Z"
   },
   {
    "duration": 10,
    "start_time": "2021-07-08T10:46:01.221Z"
   },
   {
    "duration": 17,
    "start_time": "2021-07-08T10:46:40.011Z"
   },
   {
    "duration": 193,
    "start_time": "2021-07-08T10:48:19.471Z"
   },
   {
    "duration": 225,
    "start_time": "2021-07-08T10:49:26.480Z"
   },
   {
    "duration": 204,
    "start_time": "2021-07-08T10:49:59.992Z"
   },
   {
    "duration": 435,
    "start_time": "2021-07-08T10:50:06.779Z"
   },
   {
    "duration": 199,
    "start_time": "2021-07-08T10:50:14.891Z"
   },
   {
    "duration": 204,
    "start_time": "2021-07-08T10:50:18.501Z"
   },
   {
    "duration": 244,
    "start_time": "2021-07-08T10:50:23.359Z"
   },
   {
    "duration": 192,
    "start_time": "2021-07-08T10:50:29.135Z"
   },
   {
    "duration": 218,
    "start_time": "2021-07-08T10:50:33.092Z"
   },
   {
    "duration": 207,
    "start_time": "2021-07-08T10:52:45.381Z"
   },
   {
    "duration": 5,
    "start_time": "2021-07-08T10:53:34.641Z"
   },
   {
    "duration": 196,
    "start_time": "2021-07-08T10:53:41.478Z"
   },
   {
    "duration": 43,
    "start_time": "2021-07-08T10:53:50.335Z"
   },
   {
    "duration": 32,
    "start_time": "2021-07-08T10:53:55.294Z"
   },
   {
    "duration": 55,
    "start_time": "2021-07-08T10:54:09.675Z"
   },
   {
    "duration": 16,
    "start_time": "2021-07-08T10:54:12.260Z"
   },
   {
    "duration": 15,
    "start_time": "2021-07-08T10:54:49.150Z"
   },
   {
    "duration": 20,
    "start_time": "2021-07-08T10:56:07.596Z"
   },
   {
    "duration": 16,
    "start_time": "2021-07-08T10:58:26.276Z"
   },
   {
    "duration": 22,
    "start_time": "2021-07-08T10:59:00.486Z"
   },
   {
    "duration": 18,
    "start_time": "2021-07-08T11:02:09.653Z"
   },
   {
    "duration": 10,
    "start_time": "2021-07-08T11:03:44.331Z"
   },
   {
    "duration": 10,
    "start_time": "2021-07-08T11:03:54.055Z"
   },
   {
    "duration": 12,
    "start_time": "2021-07-08T11:04:41.967Z"
   },
   {
    "duration": 24,
    "start_time": "2021-07-08T11:07:30.732Z"
   },
   {
    "duration": 6,
    "start_time": "2021-07-08T11:07:37.364Z"
   },
   {
    "duration": 16,
    "start_time": "2021-07-08T11:08:01.819Z"
   },
   {
    "duration": 17,
    "start_time": "2021-07-08T11:09:47.488Z"
   },
   {
    "duration": 246,
    "start_time": "2021-07-08T11:10:00.830Z"
   },
   {
    "duration": 18,
    "start_time": "2021-07-08T11:13:55.195Z"
   },
   {
    "duration": 204,
    "start_time": "2021-07-08T11:14:04.951Z"
   },
   {
    "duration": 19,
    "start_time": "2021-07-08T11:15:10.613Z"
   },
   {
    "duration": 680,
    "start_time": "2021-07-08T11:16:25.793Z"
   },
   {
    "duration": 451,
    "start_time": "2021-07-08T11:16:40.313Z"
   },
   {
    "duration": 469,
    "start_time": "2021-07-08T11:17:21.286Z"
   },
   {
    "duration": 20,
    "start_time": "2021-07-08T11:19:12.554Z"
   },
   {
    "duration": 35,
    "start_time": "2021-07-08T11:20:05.484Z"
   },
   {
    "duration": 53,
    "start_time": "2021-07-08T11:21:40.050Z"
   },
   {
    "duration": 13,
    "start_time": "2021-07-08T11:22:26.059Z"
   },
   {
    "duration": 19,
    "start_time": "2021-07-08T11:22:47.419Z"
   },
   {
    "duration": 25,
    "start_time": "2021-07-08T11:23:19.958Z"
   },
   {
    "duration": 29,
    "start_time": "2021-07-08T11:23:25.415Z"
   },
   {
    "duration": 10,
    "start_time": "2021-07-08T11:24:45.138Z"
   },
   {
    "duration": 19,
    "start_time": "2021-07-08T11:24:54.498Z"
   },
   {
    "duration": 12,
    "start_time": "2021-07-08T11:25:32.225Z"
   },
   {
    "duration": 19,
    "start_time": "2021-07-08T11:25:37.092Z"
   },
   {
    "duration": 17,
    "start_time": "2021-07-08T11:25:58.116Z"
   },
   {
    "duration": 15,
    "start_time": "2021-07-08T11:26:02.258Z"
   },
   {
    "duration": 8,
    "start_time": "2021-07-08T11:26:59.682Z"
   },
   {
    "duration": 184,
    "start_time": "2021-07-08T11:27:21.894Z"
   },
   {
    "duration": 8,
    "start_time": "2021-07-08T11:27:23.824Z"
   },
   {
    "duration": 202,
    "start_time": "2021-07-08T11:27:23.962Z"
   },
   {
    "duration": 360,
    "start_time": "2021-07-08T11:28:33.215Z"
   },
   {
    "duration": 231,
    "start_time": "2021-07-08T11:32:05.542Z"
   },
   {
    "duration": 607,
    "start_time": "2021-07-08T11:36:27.854Z"
   },
   {
    "duration": 241,
    "start_time": "2021-07-08T11:36:28.463Z"
   },
   {
    "duration": 67,
    "start_time": "2021-07-08T11:36:28.709Z"
   },
   {
    "duration": 5,
    "start_time": "2021-07-08T11:36:28.778Z"
   },
   {
    "duration": 32,
    "start_time": "2021-07-08T11:36:28.784Z"
   },
   {
    "duration": 11,
    "start_time": "2021-07-08T11:36:28.819Z"
   },
   {
    "duration": 20,
    "start_time": "2021-07-08T11:36:28.834Z"
   },
   {
    "duration": 36,
    "start_time": "2021-07-08T11:36:28.857Z"
   },
   {
    "duration": 16,
    "start_time": "2021-07-08T11:36:28.895Z"
   },
   {
    "duration": 14,
    "start_time": "2021-07-08T11:36:28.913Z"
   },
   {
    "duration": 9,
    "start_time": "2021-07-08T11:36:28.930Z"
   },
   {
    "duration": 55,
    "start_time": "2021-07-08T11:36:28.941Z"
   },
   {
    "duration": 27,
    "start_time": "2021-07-08T11:36:28.999Z"
   },
   {
    "duration": 30,
    "start_time": "2021-07-08T11:36:29.028Z"
   },
   {
    "duration": 31,
    "start_time": "2021-07-08T11:36:29.060Z"
   },
   {
    "duration": 3,
    "start_time": "2021-07-08T11:36:29.093Z"
   },
   {
    "duration": 12,
    "start_time": "2021-07-08T11:36:29.099Z"
   },
   {
    "duration": 11,
    "start_time": "2021-07-08T11:36:29.112Z"
   },
   {
    "duration": 12,
    "start_time": "2021-07-08T11:36:29.125Z"
   },
   {
    "duration": 9,
    "start_time": "2021-07-08T11:36:29.139Z"
   },
   {
    "duration": 31,
    "start_time": "2021-07-08T11:36:29.191Z"
   },
   {
    "duration": 17,
    "start_time": "2021-07-08T11:36:29.226Z"
   },
   {
    "duration": 7,
    "start_time": "2021-07-08T11:36:29.245Z"
   },
   {
    "duration": 10,
    "start_time": "2021-07-08T11:36:29.254Z"
   },
   {
    "duration": 30,
    "start_time": "2021-07-08T11:36:29.292Z"
   },
   {
    "duration": 11,
    "start_time": "2021-07-08T11:36:29.324Z"
   },
   {
    "duration": 11,
    "start_time": "2021-07-08T11:36:29.337Z"
   },
   {
    "duration": 230,
    "start_time": "2021-07-08T11:36:29.349Z"
   },
   {
    "duration": 13,
    "start_time": "2021-07-08T11:36:29.588Z"
   },
   {
    "duration": 205,
    "start_time": "2021-07-08T11:36:29.603Z"
   },
   {
    "duration": 20,
    "start_time": "2021-07-08T11:36:29.810Z"
   },
   {
    "duration": 9,
    "start_time": "2021-07-08T11:36:29.832Z"
   },
   {
    "duration": 16,
    "start_time": "2021-07-08T11:36:29.843Z"
   },
   {
    "duration": 283,
    "start_time": "2021-07-08T11:36:29.861Z"
   },
   {
    "duration": 50,
    "start_time": "2021-07-08T11:36:30.146Z"
   },
   {
    "duration": 14,
    "start_time": "2021-07-08T11:36:30.198Z"
   },
   {
    "duration": 11,
    "start_time": "2021-07-08T11:36:30.214Z"
   },
   {
    "duration": 245,
    "start_time": "2021-07-08T11:36:30.227Z"
   },
   {
    "duration": 439,
    "start_time": "2021-07-08T11:36:30.474Z"
   },
   {
    "duration": 210,
    "start_time": "2021-07-08T11:36:30.915Z"
   },
   {
    "duration": 15,
    "start_time": "2021-07-08T11:36:31.127Z"
   },
   {
    "duration": 17,
    "start_time": "2021-07-08T11:38:20.451Z"
   },
   {
    "duration": 642,
    "start_time": "2021-07-08T11:46:17.881Z"
   },
   {
    "duration": 210,
    "start_time": "2021-07-08T11:46:18.525Z"
   },
   {
    "duration": 104,
    "start_time": "2021-07-08T11:46:18.741Z"
   },
   {
    "duration": 8,
    "start_time": "2021-07-08T11:46:18.847Z"
   },
   {
    "duration": 25,
    "start_time": "2021-07-08T11:46:18.857Z"
   },
   {
    "duration": 14,
    "start_time": "2021-07-08T11:46:18.884Z"
   },
   {
    "duration": 22,
    "start_time": "2021-07-08T11:46:18.900Z"
   },
   {
    "duration": 5,
    "start_time": "2021-07-08T11:46:18.924Z"
   },
   {
    "duration": 13,
    "start_time": "2021-07-08T11:46:18.931Z"
   },
   {
    "duration": 45,
    "start_time": "2021-07-08T11:46:18.946Z"
   },
   {
    "duration": 12,
    "start_time": "2021-07-08T11:46:18.993Z"
   },
   {
    "duration": 38,
    "start_time": "2021-07-08T11:46:19.006Z"
   },
   {
    "duration": 50,
    "start_time": "2021-07-08T11:46:19.046Z"
   },
   {
    "duration": 29,
    "start_time": "2021-07-08T11:46:19.099Z"
   },
   {
    "duration": 7,
    "start_time": "2021-07-08T11:46:19.130Z"
   },
   {
    "duration": 3,
    "start_time": "2021-07-08T11:46:19.139Z"
   },
   {
    "duration": 11,
    "start_time": "2021-07-08T11:46:19.144Z"
   },
   {
    "duration": 40,
    "start_time": "2021-07-08T11:46:19.157Z"
   },
   {
    "duration": 15,
    "start_time": "2021-07-08T11:46:19.199Z"
   },
   {
    "duration": 10,
    "start_time": "2021-07-08T11:46:19.217Z"
   },
   {
    "duration": 68,
    "start_time": "2021-07-08T11:46:19.230Z"
   },
   {
    "duration": 17,
    "start_time": "2021-07-08T11:46:19.301Z"
   },
   {
    "duration": 7,
    "start_time": "2021-07-08T11:46:19.321Z"
   },
   {
    "duration": 11,
    "start_time": "2021-07-08T11:46:19.330Z"
   },
   {
    "duration": 59,
    "start_time": "2021-07-08T11:46:19.343Z"
   },
   {
    "duration": 17,
    "start_time": "2021-07-08T11:46:19.405Z"
   },
   {
    "duration": 16,
    "start_time": "2021-07-08T11:46:19.424Z"
   },
   {
    "duration": 252,
    "start_time": "2021-07-08T11:46:19.443Z"
   },
   {
    "duration": 9,
    "start_time": "2021-07-08T11:46:19.697Z"
   },
   {
    "duration": 224,
    "start_time": "2021-07-08T11:46:19.708Z"
   },
   {
    "duration": 21,
    "start_time": "2021-07-08T11:46:19.934Z"
   },
   {
    "duration": 9,
    "start_time": "2021-07-08T11:46:19.956Z"
   },
   {
    "duration": 32,
    "start_time": "2021-07-08T11:46:19.967Z"
   },
   {
    "duration": 288,
    "start_time": "2021-07-08T11:46:20.004Z"
   },
   {
    "duration": 23,
    "start_time": "2021-07-08T11:46:20.300Z"
   },
   {
    "duration": 11,
    "start_time": "2021-07-08T11:46:20.325Z"
   },
   {
    "duration": 11,
    "start_time": "2021-07-08T11:46:20.339Z"
   },
   {
    "duration": 259,
    "start_time": "2021-07-08T11:46:20.352Z"
   },
   {
    "duration": 438,
    "start_time": "2021-07-08T11:46:20.613Z"
   },
   {
    "duration": 207,
    "start_time": "2021-07-08T11:46:21.054Z"
   },
   {
    "duration": 27,
    "start_time": "2021-07-08T11:46:21.262Z"
   },
   {
    "duration": 19,
    "start_time": "2021-07-08T11:46:21.291Z"
   },
   {
    "duration": 820,
    "start_time": "2021-07-08T11:49:01.655Z"
   },
   {
    "duration": 372,
    "start_time": "2021-07-08T11:49:02.478Z"
   },
   {
    "duration": 98,
    "start_time": "2021-07-08T11:49:02.853Z"
   },
   {
    "duration": 6,
    "start_time": "2021-07-08T11:49:02.953Z"
   },
   {
    "duration": 39,
    "start_time": "2021-07-08T11:49:02.960Z"
   },
   {
    "duration": 9,
    "start_time": "2021-07-08T11:49:03.003Z"
   },
   {
    "duration": 23,
    "start_time": "2021-07-08T11:49:03.014Z"
   },
   {
    "duration": 6,
    "start_time": "2021-07-08T11:49:03.041Z"
   },
   {
    "duration": 20,
    "start_time": "2021-07-08T11:49:03.049Z"
   },
   {
    "duration": 18,
    "start_time": "2021-07-08T11:49:03.084Z"
   },
   {
    "duration": 14,
    "start_time": "2021-07-08T11:49:03.104Z"
   },
   {
    "duration": 39,
    "start_time": "2021-07-08T11:49:03.119Z"
   },
   {
    "duration": 38,
    "start_time": "2021-07-08T11:49:03.160Z"
   },
   {
    "duration": 26,
    "start_time": "2021-07-08T11:49:03.200Z"
   },
   {
    "duration": 7,
    "start_time": "2021-07-08T11:49:03.227Z"
   },
   {
    "duration": 4,
    "start_time": "2021-07-08T11:49:03.236Z"
   },
   {
    "duration": 15,
    "start_time": "2021-07-08T11:49:03.243Z"
   },
   {
    "duration": 21,
    "start_time": "2021-07-08T11:49:03.285Z"
   },
   {
    "duration": 17,
    "start_time": "2021-07-08T11:49:03.309Z"
   },
   {
    "duration": 10,
    "start_time": "2021-07-08T11:49:03.328Z"
   },
   {
    "duration": 65,
    "start_time": "2021-07-08T11:49:03.340Z"
   },
   {
    "duration": 18,
    "start_time": "2021-07-08T11:49:03.407Z"
   },
   {
    "duration": 8,
    "start_time": "2021-07-08T11:49:03.428Z"
   },
   {
    "duration": 15,
    "start_time": "2021-07-08T11:49:03.438Z"
   },
   {
    "duration": 40,
    "start_time": "2021-07-08T11:49:03.455Z"
   },
   {
    "duration": 12,
    "start_time": "2021-07-08T11:49:03.497Z"
   },
   {
    "duration": 29,
    "start_time": "2021-07-08T11:49:03.511Z"
   },
   {
    "duration": 285,
    "start_time": "2021-07-08T11:49:03.542Z"
   },
   {
    "duration": 8,
    "start_time": "2021-07-08T11:49:03.829Z"
   },
   {
    "duration": 227,
    "start_time": "2021-07-08T11:49:03.838Z"
   },
   {
    "duration": 40,
    "start_time": "2021-07-08T11:49:04.066Z"
   },
   {
    "duration": 10,
    "start_time": "2021-07-08T11:49:04.108Z"
   },
   {
    "duration": 26,
    "start_time": "2021-07-08T11:49:04.121Z"
   },
   {
    "duration": 290,
    "start_time": "2021-07-08T11:49:04.149Z"
   },
   {
    "duration": 26,
    "start_time": "2021-07-08T11:49:04.441Z"
   },
   {
    "duration": 31,
    "start_time": "2021-07-08T11:49:04.470Z"
   },
   {
    "duration": 14,
    "start_time": "2021-07-08T11:49:04.503Z"
   },
   {
    "duration": 259,
    "start_time": "2021-07-08T11:49:04.521Z"
   },
   {
    "duration": 480,
    "start_time": "2021-07-08T11:49:04.782Z"
   },
   {
    "duration": 225,
    "start_time": "2021-07-08T11:49:05.264Z"
   },
   {
    "duration": 22,
    "start_time": "2021-07-08T11:49:05.491Z"
   },
   {
    "duration": 24,
    "start_time": "2021-07-08T11:49:05.515Z"
   },
   {
    "duration": 634,
    "start_time": "2021-07-08T11:52:24.960Z"
   },
   {
    "duration": 199,
    "start_time": "2021-07-08T11:52:25.599Z"
   },
   {
    "duration": 106,
    "start_time": "2021-07-08T11:52:25.803Z"
   },
   {
    "duration": 7,
    "start_time": "2021-07-08T11:52:25.911Z"
   },
   {
    "duration": 29,
    "start_time": "2021-07-08T11:52:25.920Z"
   },
   {
    "duration": 7,
    "start_time": "2021-07-08T11:52:25.951Z"
   },
   {
    "duration": 26,
    "start_time": "2021-07-08T11:52:25.961Z"
   },
   {
    "duration": 11,
    "start_time": "2021-07-08T11:52:25.990Z"
   },
   {
    "duration": 29,
    "start_time": "2021-07-08T11:52:26.005Z"
   },
   {
    "duration": 9,
    "start_time": "2021-07-08T11:52:26.036Z"
   },
   {
    "duration": 8,
    "start_time": "2021-07-08T11:52:26.047Z"
   },
   {
    "duration": 63,
    "start_time": "2021-07-08T11:52:26.057Z"
   },
   {
    "duration": 17,
    "start_time": "2021-07-08T11:52:26.122Z"
   },
   {
    "duration": 43,
    "start_time": "2021-07-08T11:52:26.142Z"
   },
   {
    "duration": 17,
    "start_time": "2021-07-08T11:52:26.187Z"
   },
   {
    "duration": 5,
    "start_time": "2021-07-08T11:52:26.206Z"
   },
   {
    "duration": 12,
    "start_time": "2021-07-08T11:52:26.212Z"
   },
   {
    "duration": 11,
    "start_time": "2021-07-08T11:52:26.226Z"
   },
   {
    "duration": 12,
    "start_time": "2021-07-08T11:52:26.238Z"
   },
   {
    "duration": 38,
    "start_time": "2021-07-08T11:52:26.252Z"
   },
   {
    "duration": 40,
    "start_time": "2021-07-08T11:52:26.292Z"
   },
   {
    "duration": 17,
    "start_time": "2021-07-08T11:52:26.336Z"
   },
   {
    "duration": 39,
    "start_time": "2021-07-08T11:52:26.355Z"
   },
   {
    "duration": 11,
    "start_time": "2021-07-08T11:52:26.395Z"
   },
   {
    "duration": 23,
    "start_time": "2021-07-08T11:52:26.408Z"
   },
   {
    "duration": 12,
    "start_time": "2021-07-08T11:52:26.432Z"
   },
   {
    "duration": 41,
    "start_time": "2021-07-08T11:52:26.446Z"
   },
   {
    "duration": 215,
    "start_time": "2021-07-08T11:52:26.493Z"
   },
   {
    "duration": 8,
    "start_time": "2021-07-08T11:52:26.710Z"
   },
   {
    "duration": 228,
    "start_time": "2021-07-08T11:52:26.720Z"
   },
   {
    "duration": 18,
    "start_time": "2021-07-08T11:52:26.950Z"
   },
   {
    "duration": 35,
    "start_time": "2021-07-08T11:52:26.969Z"
   },
   {
    "duration": 23,
    "start_time": "2021-07-08T11:52:27.006Z"
   },
   {
    "duration": 258,
    "start_time": "2021-07-08T11:52:27.030Z"
   },
   {
    "duration": 24,
    "start_time": "2021-07-08T11:52:27.290Z"
   },
   {
    "duration": 12,
    "start_time": "2021-07-08T11:52:27.316Z"
   },
   {
    "duration": 10,
    "start_time": "2021-07-08T11:52:27.329Z"
   },
   {
    "duration": 298,
    "start_time": "2021-07-08T11:52:27.341Z"
   },
   {
    "duration": 436,
    "start_time": "2021-07-08T11:52:27.641Z"
   },
   {
    "duration": 216,
    "start_time": "2021-07-08T11:52:28.079Z"
   },
   {
    "duration": 20,
    "start_time": "2021-07-08T11:52:28.297Z"
   },
   {
    "duration": 17,
    "start_time": "2021-07-08T11:52:28.319Z"
   },
   {
    "duration": 693,
    "start_time": "2022-08-08T14:40:40.335Z"
   },
   {
    "duration": 130,
    "start_time": "2022-08-08T14:41:26.076Z"
   },
   {
    "duration": 65,
    "start_time": "2022-08-08T15:12:13.808Z"
   },
   {
    "duration": 20,
    "start_time": "2022-08-08T15:12:18.991Z"
   },
   {
    "duration": 712,
    "start_time": "2022-08-08T20:29:06.152Z"
   },
   {
    "duration": 15,
    "start_time": "2022-08-08T20:29:15.173Z"
   },
   {
    "duration": 315,
    "start_time": "2022-08-08T20:31:30.034Z"
   },
   {
    "duration": 285,
    "start_time": "2022-08-08T20:31:59.838Z"
   },
   {
    "duration": 32,
    "start_time": "2022-08-08T21:30:40.445Z"
   },
   {
    "duration": 27,
    "start_time": "2022-08-08T21:31:34.340Z"
   },
   {
    "duration": 31,
    "start_time": "2022-08-08T21:32:24.218Z"
   },
   {
    "duration": 49,
    "start_time": "2022-08-08T21:32:35.077Z"
   },
   {
    "duration": 46,
    "start_time": "2022-08-08T21:32:54.380Z"
   },
   {
    "duration": 284,
    "start_time": "2022-08-08T21:33:07.674Z"
   },
   {
    "duration": 216,
    "start_time": "2022-08-08T21:33:43.103Z"
   },
   {
    "duration": 200,
    "start_time": "2022-08-08T21:33:55.626Z"
   },
   {
    "duration": 199,
    "start_time": "2022-08-08T21:34:04.620Z"
   },
   {
    "duration": 8,
    "start_time": "2022-08-08T21:36:36.272Z"
   },
   {
    "duration": 7,
    "start_time": "2022-08-08T21:36:46.682Z"
   },
   {
    "duration": 9,
    "start_time": "2022-08-08T21:36:50.215Z"
   },
   {
    "duration": 651,
    "start_time": "2022-08-09T10:11:31.321Z"
   },
   {
    "duration": 21,
    "start_time": "2022-08-09T10:11:31.974Z"
   },
   {
    "duration": 73,
    "start_time": "2022-08-09T10:11:31.997Z"
   },
   {
    "duration": 333,
    "start_time": "2022-08-09T10:12:02.585Z"
   },
   {
    "duration": 14,
    "start_time": "2022-08-09T11:04:08.242Z"
   },
   {
    "duration": 16,
    "start_time": "2022-08-09T11:05:48.892Z"
   },
   {
    "duration": 69,
    "start_time": "2022-08-09T11:06:20.031Z"
   },
   {
    "duration": 488,
    "start_time": "2022-08-09T11:06:29.611Z"
   },
   {
    "duration": 74,
    "start_time": "2022-08-09T11:06:30.100Z"
   },
   {
    "duration": 0,
    "start_time": "2022-08-09T11:06:30.175Z"
   },
   {
    "duration": 722,
    "start_time": "2022-08-09T11:12:25.599Z"
   },
   {
    "duration": 21,
    "start_time": "2022-08-09T11:21:35.581Z"
   },
   {
    "duration": 23,
    "start_time": "2022-08-09T11:21:57.511Z"
   },
   {
    "duration": 17,
    "start_time": "2022-08-09T11:36:29.498Z"
   },
   {
    "duration": 25,
    "start_time": "2022-08-09T11:36:44.547Z"
   },
   {
    "duration": 34,
    "start_time": "2022-08-09T11:37:21.864Z"
   },
   {
    "duration": 1003,
    "start_time": "2022-08-09T11:38:29.132Z"
   },
   {
    "duration": 17,
    "start_time": "2022-08-09T11:39:25.057Z"
   },
   {
    "duration": 114,
    "start_time": "2022-08-09T11:39:37.631Z"
   },
   {
    "duration": 530,
    "start_time": "2022-08-09T11:40:09.450Z"
   },
   {
    "duration": 20,
    "start_time": "2022-08-09T11:40:09.982Z"
   },
   {
    "duration": 22,
    "start_time": "2022-08-09T11:40:10.004Z"
   },
   {
    "duration": 14,
    "start_time": "2022-08-09T11:43:27.968Z"
   },
   {
    "duration": 27,
    "start_time": "2022-08-09T13:53:05.632Z"
   },
   {
    "duration": 36,
    "start_time": "2022-08-09T13:54:43.050Z"
   },
   {
    "duration": 22,
    "start_time": "2022-08-09T13:56:35.196Z"
   },
   {
    "duration": 5,
    "start_time": "2022-08-09T13:57:11.389Z"
   },
   {
    "duration": 5,
    "start_time": "2022-08-09T13:57:33.782Z"
   },
   {
    "duration": 6,
    "start_time": "2022-08-09T13:57:43.993Z"
   },
   {
    "duration": 5,
    "start_time": "2022-08-09T13:58:22.831Z"
   },
   {
    "duration": 5,
    "start_time": "2022-08-09T13:58:28.794Z"
   },
   {
    "duration": 6,
    "start_time": "2022-08-09T13:58:50.048Z"
   },
   {
    "duration": 8,
    "start_time": "2022-08-09T14:08:09.306Z"
   },
   {
    "duration": 49,
    "start_time": "2022-08-09T14:15:24.400Z"
   },
   {
    "duration": 17,
    "start_time": "2022-08-09T14:16:18.926Z"
   },
   {
    "duration": 54,
    "start_time": "2022-08-09T14:19:21.574Z"
   },
   {
    "duration": 24,
    "start_time": "2022-08-09T14:19:33.663Z"
   },
   {
    "duration": 14,
    "start_time": "2022-08-09T15:23:16.409Z"
   },
   {
    "duration": 70,
    "start_time": "2022-08-09T15:35:52.113Z"
   },
   {
    "duration": 510,
    "start_time": "2022-08-09T15:36:38.023Z"
   },
   {
    "duration": 22,
    "start_time": "2022-08-09T15:36:38.536Z"
   },
   {
    "duration": 15,
    "start_time": "2022-08-09T15:36:38.560Z"
   },
   {
    "duration": 22,
    "start_time": "2022-08-09T15:36:38.577Z"
   },
   {
    "duration": 73,
    "start_time": "2022-08-09T15:36:38.601Z"
   },
   {
    "duration": 0,
    "start_time": "2022-08-09T15:36:38.676Z"
   },
   {
    "duration": 0,
    "start_time": "2022-08-09T15:36:38.677Z"
   },
   {
    "duration": 0,
    "start_time": "2022-08-09T15:36:38.678Z"
   },
   {
    "duration": 1,
    "start_time": "2022-08-09T15:36:38.678Z"
   },
   {
    "duration": 0,
    "start_time": "2022-08-09T15:36:38.680Z"
   },
   {
    "duration": 27,
    "start_time": "2022-08-09T15:38:05.126Z"
   },
   {
    "duration": 251,
    "start_time": "2022-08-09T15:46:20.827Z"
   },
   {
    "duration": 11,
    "start_time": "2022-08-09T15:46:33.797Z"
   },
   {
    "duration": 16,
    "start_time": "2022-08-09T15:47:46.766Z"
   },
   {
    "duration": 2,
    "start_time": "2022-08-09T15:48:49.376Z"
   },
   {
    "duration": 3,
    "start_time": "2022-08-09T15:48:50.525Z"
   },
   {
    "duration": 3,
    "start_time": "2022-08-09T15:48:51.386Z"
   },
   {
    "duration": 29,
    "start_time": "2022-08-09T15:49:42.837Z"
   },
   {
    "duration": 36,
    "start_time": "2022-08-09T15:50:23.125Z"
   },
   {
    "duration": 37,
    "start_time": "2022-08-09T15:50:39.081Z"
   },
   {
    "duration": 2,
    "start_time": "2022-08-09T15:50:53.058Z"
   },
   {
    "duration": 13,
    "start_time": "2022-08-09T15:50:55.994Z"
   },
   {
    "duration": 5,
    "start_time": "2022-08-09T15:51:27.066Z"
   },
   {
    "duration": 10,
    "start_time": "2022-08-09T15:52:31.987Z"
   },
   {
    "duration": 20,
    "start_time": "2022-08-09T16:00:16.043Z"
   },
   {
    "duration": 26,
    "start_time": "2022-08-09T16:26:57.512Z"
   },
   {
    "duration": 13,
    "start_time": "2022-08-09T16:35:17.688Z"
   },
   {
    "duration": 5,
    "start_time": "2022-08-09T16:36:21.616Z"
   },
   {
    "duration": 8,
    "start_time": "2022-08-09T16:42:22.978Z"
   },
   {
    "duration": 10,
    "start_time": "2022-08-09T16:42:45.051Z"
   },
   {
    "duration": 560,
    "start_time": "2022-08-09T16:42:58.811Z"
   },
   {
    "duration": 125,
    "start_time": "2022-08-09T16:43:23.183Z"
   },
   {
    "duration": 114,
    "start_time": "2022-08-09T16:44:00.647Z"
   },
   {
    "duration": 178,
    "start_time": "2022-08-09T16:44:20.484Z"
   },
   {
    "duration": 2,
    "start_time": "2022-08-09T16:47:44.171Z"
   },
   {
    "duration": 214,
    "start_time": "2022-08-09T16:50:44.982Z"
   },
   {
    "duration": 5,
    "start_time": "2022-08-09T16:57:59.531Z"
   },
   {
    "duration": 19,
    "start_time": "2022-08-09T16:58:39.372Z"
   },
   {
    "duration": 16,
    "start_time": "2022-08-09T16:59:57.915Z"
   },
   {
    "duration": 22,
    "start_time": "2022-08-09T17:01:50.187Z"
   },
   {
    "duration": 28,
    "start_time": "2022-08-09T17:02:37.032Z"
   },
   {
    "duration": 32,
    "start_time": "2022-08-09T17:02:50.898Z"
   },
   {
    "duration": 26,
    "start_time": "2022-08-09T17:06:30.824Z"
   },
   {
    "duration": 30,
    "start_time": "2022-08-09T17:06:41.461Z"
   },
   {
    "duration": 26,
    "start_time": "2022-08-09T17:07:21.706Z"
   },
   {
    "duration": 26,
    "start_time": "2022-08-09T17:07:43.860Z"
   },
   {
    "duration": 25,
    "start_time": "2022-08-09T17:08:18.844Z"
   },
   {
    "duration": 26,
    "start_time": "2022-08-09T17:08:31.617Z"
   },
   {
    "duration": 10,
    "start_time": "2022-08-09T17:09:07.461Z"
   },
   {
    "duration": 17,
    "start_time": "2022-08-09T17:20:19.976Z"
   },
   {
    "duration": 3,
    "start_time": "2022-08-09T17:20:35.838Z"
   },
   {
    "duration": 77,
    "start_time": "2022-08-09T17:22:05.859Z"
   },
   {
    "duration": 4,
    "start_time": "2022-08-09T17:22:25.803Z"
   },
   {
    "duration": 9,
    "start_time": "2022-08-09T17:26:23.970Z"
   },
   {
    "duration": 229,
    "start_time": "2022-08-09T17:26:46.328Z"
   },
   {
    "duration": 210,
    "start_time": "2022-08-09T17:27:27.374Z"
   },
   {
    "duration": 278,
    "start_time": "2022-08-09T17:35:14.848Z"
   },
   {
    "duration": 298,
    "start_time": "2022-08-09T17:37:06.753Z"
   },
   {
    "duration": 208,
    "start_time": "2022-08-09T17:37:29.697Z"
   },
   {
    "duration": 216,
    "start_time": "2022-08-09T17:37:54.378Z"
   },
   {
    "duration": 240,
    "start_time": "2022-08-09T17:38:02.912Z"
   },
   {
    "duration": 226,
    "start_time": "2022-08-09T17:38:33.625Z"
   },
   {
    "duration": 207,
    "start_time": "2022-08-09T17:39:52.758Z"
   },
   {
    "duration": 12,
    "start_time": "2022-08-09T17:40:18.104Z"
   },
   {
    "duration": 4,
    "start_time": "2022-08-09T17:41:58.524Z"
   },
   {
    "duration": 3,
    "start_time": "2022-08-09T17:42:07.808Z"
   },
   {
    "duration": 656,
    "start_time": "2022-08-09T17:42:16.326Z"
   },
   {
    "duration": 32,
    "start_time": "2022-08-09T17:42:16.984Z"
   },
   {
    "duration": 23,
    "start_time": "2022-08-09T17:42:17.020Z"
   },
   {
    "duration": 57,
    "start_time": "2022-08-09T17:42:17.046Z"
   },
   {
    "duration": 3,
    "start_time": "2022-08-09T17:42:17.105Z"
   },
   {
    "duration": 94,
    "start_time": "2022-08-09T17:42:17.109Z"
   },
   {
    "duration": 0,
    "start_time": "2022-08-09T17:42:17.206Z"
   },
   {
    "duration": 0,
    "start_time": "2022-08-09T17:42:17.207Z"
   },
   {
    "duration": 0,
    "start_time": "2022-08-09T17:42:17.208Z"
   },
   {
    "duration": 0,
    "start_time": "2022-08-09T17:42:17.209Z"
   },
   {
    "duration": 0,
    "start_time": "2022-08-09T17:42:17.211Z"
   },
   {
    "duration": 11,
    "start_time": "2022-08-09T17:42:30.934Z"
   },
   {
    "duration": 5,
    "start_time": "2022-08-09T17:42:55.621Z"
   },
   {
    "duration": 532,
    "start_time": "2022-08-09T17:43:03.936Z"
   },
   {
    "duration": 21,
    "start_time": "2022-08-09T17:43:04.470Z"
   },
   {
    "duration": 16,
    "start_time": "2022-08-09T17:43:04.492Z"
   },
   {
    "duration": 56,
    "start_time": "2022-08-09T17:43:04.511Z"
   },
   {
    "duration": 3,
    "start_time": "2022-08-09T17:43:04.570Z"
   },
   {
    "duration": 123,
    "start_time": "2022-08-09T17:43:04.575Z"
   },
   {
    "duration": 0,
    "start_time": "2022-08-09T17:43:04.700Z"
   },
   {
    "duration": 0,
    "start_time": "2022-08-09T17:43:04.702Z"
   },
   {
    "duration": 0,
    "start_time": "2022-08-09T17:43:04.704Z"
   },
   {
    "duration": 0,
    "start_time": "2022-08-09T17:43:04.706Z"
   },
   {
    "duration": 0,
    "start_time": "2022-08-09T17:43:04.708Z"
   },
   {
    "duration": 0,
    "start_time": "2022-08-09T17:43:04.709Z"
   },
   {
    "duration": 6,
    "start_time": "2022-08-09T17:43:17.882Z"
   },
   {
    "duration": 14,
    "start_time": "2022-08-09T17:43:20.717Z"
   },
   {
    "duration": 12,
    "start_time": "2022-08-09T17:45:02.171Z"
   },
   {
    "duration": 11,
    "start_time": "2022-08-09T17:46:08.943Z"
   },
   {
    "duration": 10,
    "start_time": "2022-08-09T17:48:28.262Z"
   },
   {
    "duration": 11,
    "start_time": "2022-08-09T17:48:51.918Z"
   },
   {
    "duration": 13,
    "start_time": "2022-08-09T17:49:06.111Z"
   },
   {
    "duration": 562,
    "start_time": "2022-08-09T17:49:09.842Z"
   },
   {
    "duration": 24,
    "start_time": "2022-08-09T17:49:10.406Z"
   },
   {
    "duration": 13,
    "start_time": "2022-08-09T17:49:10.433Z"
   },
   {
    "duration": 39,
    "start_time": "2022-08-09T17:49:10.449Z"
   },
   {
    "duration": 3,
    "start_time": "2022-08-09T17:49:10.490Z"
   },
   {
    "duration": 83,
    "start_time": "2022-08-09T17:49:10.495Z"
   },
   {
    "duration": 0,
    "start_time": "2022-08-09T17:49:10.580Z"
   },
   {
    "duration": 0,
    "start_time": "2022-08-09T17:49:10.581Z"
   },
   {
    "duration": 0,
    "start_time": "2022-08-09T17:49:10.582Z"
   },
   {
    "duration": 0,
    "start_time": "2022-08-09T17:49:10.584Z"
   },
   {
    "duration": 0,
    "start_time": "2022-08-09T17:49:10.584Z"
   },
   {
    "duration": 0,
    "start_time": "2022-08-09T17:49:10.586Z"
   },
   {
    "duration": 8,
    "start_time": "2022-08-09T17:49:19.750Z"
   },
   {
    "duration": 10,
    "start_time": "2022-08-09T17:53:30.270Z"
   },
   {
    "duration": 18,
    "start_time": "2022-08-09T17:53:45.956Z"
   },
   {
    "duration": 12,
    "start_time": "2022-08-09T17:54:23.734Z"
   },
   {
    "duration": 617,
    "start_time": "2022-08-09T17:54:30.115Z"
   },
   {
    "duration": 28,
    "start_time": "2022-08-09T17:54:30.735Z"
   },
   {
    "duration": 61,
    "start_time": "2022-08-09T17:54:30.765Z"
   },
   {
    "duration": 107,
    "start_time": "2022-08-09T17:54:30.829Z"
   },
   {
    "duration": 3,
    "start_time": "2022-08-09T17:54:30.938Z"
   },
   {
    "duration": 28,
    "start_time": "2022-08-09T17:54:30.943Z"
   },
   {
    "duration": 29,
    "start_time": "2022-08-09T17:54:30.973Z"
   },
   {
    "duration": 28,
    "start_time": "2022-08-09T17:54:31.004Z"
   },
   {
    "duration": 35,
    "start_time": "2022-08-09T17:54:31.034Z"
   },
   {
    "duration": 47,
    "start_time": "2022-08-09T17:54:31.071Z"
   },
   {
    "duration": 26,
    "start_time": "2022-08-09T17:54:31.120Z"
   },
   {
    "duration": 11,
    "start_time": "2022-08-09T17:55:05.187Z"
   },
   {
    "duration": 8,
    "start_time": "2022-08-09T18:09:24.042Z"
   },
   {
    "duration": 9,
    "start_time": "2022-08-09T18:09:48.400Z"
   },
   {
    "duration": 535,
    "start_time": "2022-08-09T18:09:52.840Z"
   },
   {
    "duration": 19,
    "start_time": "2022-08-09T18:09:53.377Z"
   },
   {
    "duration": 11,
    "start_time": "2022-08-09T18:09:53.397Z"
   },
   {
    "duration": 35,
    "start_time": "2022-08-09T18:09:53.410Z"
   },
   {
    "duration": 2,
    "start_time": "2022-08-09T18:09:53.457Z"
   },
   {
    "duration": 37,
    "start_time": "2022-08-09T18:09:53.461Z"
   },
   {
    "duration": 12,
    "start_time": "2022-08-09T18:09:53.500Z"
   },
   {
    "duration": 32,
    "start_time": "2022-08-09T18:09:53.514Z"
   },
   {
    "duration": 41,
    "start_time": "2022-08-09T18:09:53.548Z"
   },
   {
    "duration": 13,
    "start_time": "2022-08-09T18:09:53.592Z"
   },
   {
    "duration": 8,
    "start_time": "2022-08-09T18:10:14.753Z"
   },
   {
    "duration": 4,
    "start_time": "2022-08-09T18:14:08.884Z"
   },
   {
    "duration": 4,
    "start_time": "2022-08-09T18:14:37.225Z"
   },
   {
    "duration": 6,
    "start_time": "2022-08-09T18:14:47.475Z"
   },
   {
    "duration": 5,
    "start_time": "2022-08-09T18:15:06.110Z"
   },
   {
    "duration": 10,
    "start_time": "2022-08-09T18:16:08.350Z"
   },
   {
    "duration": 4,
    "start_time": "2022-08-09T18:16:31.403Z"
   },
   {
    "duration": 8,
    "start_time": "2022-08-09T18:16:39.412Z"
   },
   {
    "duration": 8,
    "start_time": "2022-08-09T18:17:15.911Z"
   },
   {
    "duration": 64,
    "start_time": "2022-08-09T18:18:06.088Z"
   },
   {
    "duration": 11,
    "start_time": "2022-08-09T18:18:15.150Z"
   },
   {
    "duration": 16,
    "start_time": "2022-08-09T18:18:22.142Z"
   },
   {
    "duration": 12,
    "start_time": "2022-08-09T18:18:42.508Z"
   },
   {
    "duration": 15,
    "start_time": "2022-08-09T18:19:03.252Z"
   },
   {
    "duration": 538,
    "start_time": "2022-08-09T18:19:09.446Z"
   },
   {
    "duration": 29,
    "start_time": "2022-08-09T18:19:09.986Z"
   },
   {
    "duration": 12,
    "start_time": "2022-08-09T18:19:10.017Z"
   },
   {
    "duration": 48,
    "start_time": "2022-08-09T18:19:10.030Z"
   },
   {
    "duration": 3,
    "start_time": "2022-08-09T18:19:10.080Z"
   },
   {
    "duration": 11,
    "start_time": "2022-08-09T18:19:10.084Z"
   },
   {
    "duration": 20,
    "start_time": "2022-08-09T18:19:10.097Z"
   },
   {
    "duration": 6,
    "start_time": "2022-08-09T18:19:10.119Z"
   },
   {
    "duration": 12,
    "start_time": "2022-08-09T18:19:10.126Z"
   },
   {
    "duration": 30,
    "start_time": "2022-08-09T18:19:10.140Z"
   },
   {
    "duration": 7,
    "start_time": "2022-08-09T18:19:10.172Z"
   },
   {
    "duration": 67,
    "start_time": "2022-08-09T18:19:33.057Z"
   },
   {
    "duration": 11,
    "start_time": "2022-08-09T18:19:40.066Z"
   },
   {
    "duration": 10,
    "start_time": "2022-08-09T18:19:44.647Z"
   },
   {
    "duration": 6,
    "start_time": "2022-08-09T18:21:08.443Z"
   },
   {
    "duration": 9,
    "start_time": "2022-08-09T18:21:20.914Z"
   },
   {
    "duration": 10,
    "start_time": "2022-08-09T18:45:09.865Z"
   },
   {
    "duration": 531,
    "start_time": "2022-08-09T18:45:19.943Z"
   },
   {
    "duration": 20,
    "start_time": "2022-08-09T18:45:20.476Z"
   },
   {
    "duration": 10,
    "start_time": "2022-08-09T18:45:20.498Z"
   },
   {
    "duration": 50,
    "start_time": "2022-08-09T18:45:20.510Z"
   },
   {
    "duration": 3,
    "start_time": "2022-08-09T18:45:20.562Z"
   },
   {
    "duration": 10,
    "start_time": "2022-08-09T18:45:20.566Z"
   },
   {
    "duration": 11,
    "start_time": "2022-08-09T18:45:20.577Z"
   },
   {
    "duration": 16,
    "start_time": "2022-08-09T18:45:20.589Z"
   },
   {
    "duration": 13,
    "start_time": "2022-08-09T18:45:20.607Z"
   },
   {
    "duration": 23,
    "start_time": "2022-08-09T18:45:20.622Z"
   },
   {
    "duration": 11,
    "start_time": "2022-08-09T18:45:20.647Z"
   },
   {
    "duration": 14,
    "start_time": "2022-08-09T18:46:10.408Z"
   },
   {
    "duration": 69,
    "start_time": "2022-08-09T18:46:34.052Z"
   },
   {
    "duration": 6,
    "start_time": "2022-08-09T18:47:10.095Z"
   },
   {
    "duration": 6,
    "start_time": "2022-08-09T18:59:13.612Z"
   },
   {
    "duration": 9,
    "start_time": "2022-08-09T19:01:10.186Z"
   },
   {
    "duration": 9,
    "start_time": "2022-08-09T19:01:19.796Z"
   },
   {
    "duration": 596,
    "start_time": "2022-08-09T19:01:35.153Z"
   },
   {
    "duration": 20,
    "start_time": "2022-08-09T19:01:35.751Z"
   },
   {
    "duration": 12,
    "start_time": "2022-08-09T19:01:35.773Z"
   },
   {
    "duration": 16,
    "start_time": "2022-08-09T19:01:35.787Z"
   },
   {
    "duration": 2,
    "start_time": "2022-08-09T19:01:35.804Z"
   },
   {
    "duration": 9,
    "start_time": "2022-08-09T19:01:35.808Z"
   },
   {
    "duration": 9,
    "start_time": "2022-08-09T19:01:35.818Z"
   },
   {
    "duration": 39,
    "start_time": "2022-08-09T19:01:35.828Z"
   },
   {
    "duration": 16,
    "start_time": "2022-08-09T19:01:35.869Z"
   },
   {
    "duration": 9,
    "start_time": "2022-08-09T19:01:35.887Z"
   },
   {
    "duration": 16,
    "start_time": "2022-08-09T19:01:35.897Z"
   },
   {
    "duration": 63,
    "start_time": "2022-08-09T19:02:06.123Z"
   },
   {
    "duration": 65,
    "start_time": "2022-08-09T19:03:23.204Z"
   },
   {
    "duration": 11,
    "start_time": "2022-08-09T19:03:32.232Z"
   },
   {
    "duration": 61,
    "start_time": "2022-08-09T19:04:14.358Z"
   },
   {
    "duration": 13,
    "start_time": "2022-08-09T19:05:15.583Z"
   },
   {
    "duration": 9,
    "start_time": "2022-08-09T19:06:01.529Z"
   },
   {
    "duration": 7,
    "start_time": "2022-08-09T19:06:08.401Z"
   },
   {
    "duration": 7,
    "start_time": "2022-08-09T19:06:30.705Z"
   },
   {
    "duration": 500,
    "start_time": "2022-08-09T19:06:39.796Z"
   },
   {
    "duration": 31,
    "start_time": "2022-08-09T19:06:40.299Z"
   },
   {
    "duration": 14,
    "start_time": "2022-08-09T19:06:40.332Z"
   },
   {
    "duration": 38,
    "start_time": "2022-08-09T19:06:40.349Z"
   },
   {
    "duration": 5,
    "start_time": "2022-08-09T19:06:40.389Z"
   },
   {
    "duration": 16,
    "start_time": "2022-08-09T19:06:40.396Z"
   },
   {
    "duration": 8,
    "start_time": "2022-08-09T19:06:40.414Z"
   },
   {
    "duration": 26,
    "start_time": "2022-08-09T19:06:40.424Z"
   },
   {
    "duration": 24,
    "start_time": "2022-08-09T19:06:40.452Z"
   },
   {
    "duration": 18,
    "start_time": "2022-08-09T19:06:40.481Z"
   },
   {
    "duration": 14,
    "start_time": "2022-08-09T19:06:40.501Z"
   },
   {
    "duration": 7,
    "start_time": "2022-08-09T19:07:34.109Z"
   },
   {
    "duration": 497,
    "start_time": "2022-08-09T19:07:39.289Z"
   },
   {
    "duration": 23,
    "start_time": "2022-08-09T19:07:39.788Z"
   },
   {
    "duration": 11,
    "start_time": "2022-08-09T19:07:39.813Z"
   },
   {
    "duration": 15,
    "start_time": "2022-08-09T19:07:39.826Z"
   },
   {
    "duration": 3,
    "start_time": "2022-08-09T19:07:39.843Z"
   },
   {
    "duration": 24,
    "start_time": "2022-08-09T19:07:39.847Z"
   },
   {
    "duration": 10,
    "start_time": "2022-08-09T19:07:39.873Z"
   },
   {
    "duration": 17,
    "start_time": "2022-08-09T19:07:39.885Z"
   },
   {
    "duration": 18,
    "start_time": "2022-08-09T19:07:39.904Z"
   },
   {
    "duration": 8,
    "start_time": "2022-08-09T19:07:39.924Z"
   },
   {
    "duration": 25,
    "start_time": "2022-08-09T19:07:39.933Z"
   },
   {
    "duration": 7,
    "start_time": "2022-08-09T19:08:52.491Z"
   },
   {
    "duration": 8,
    "start_time": "2022-08-09T19:12:03.154Z"
   },
   {
    "duration": 5,
    "start_time": "2022-08-09T19:14:56.970Z"
   },
   {
    "duration": 305,
    "start_time": "2022-08-09T19:18:44.767Z"
   },
   {
    "duration": 32,
    "start_time": "2022-08-09T19:19:28.792Z"
   },
   {
    "duration": 484,
    "start_time": "2022-08-09T19:19:40.396Z"
   },
   {
    "duration": 23,
    "start_time": "2022-08-09T19:19:40.882Z"
   },
   {
    "duration": 11,
    "start_time": "2022-08-09T19:19:40.907Z"
   },
   {
    "duration": 13,
    "start_time": "2022-08-09T19:19:40.921Z"
   },
   {
    "duration": 4,
    "start_time": "2022-08-09T19:19:40.936Z"
   },
   {
    "duration": 23,
    "start_time": "2022-08-09T19:19:40.941Z"
   },
   {
    "duration": 6,
    "start_time": "2022-08-09T19:19:40.966Z"
   },
   {
    "duration": 25,
    "start_time": "2022-08-09T19:19:40.973Z"
   },
   {
    "duration": 17,
    "start_time": "2022-08-09T19:19:40.999Z"
   },
   {
    "duration": 21,
    "start_time": "2022-08-09T19:19:41.019Z"
   },
   {
    "duration": 46,
    "start_time": "2022-08-09T19:19:41.042Z"
   },
   {
    "duration": 537,
    "start_time": "2022-08-09T19:23:14.199Z"
   },
   {
    "duration": 29,
    "start_time": "2022-08-09T19:23:14.739Z"
   },
   {
    "duration": 12,
    "start_time": "2022-08-09T19:23:14.770Z"
   },
   {
    "duration": 16,
    "start_time": "2022-08-09T19:23:14.784Z"
   },
   {
    "duration": 5,
    "start_time": "2022-08-09T19:23:14.801Z"
   },
   {
    "duration": 12,
    "start_time": "2022-08-09T19:23:14.807Z"
   },
   {
    "duration": 3,
    "start_time": "2022-08-09T19:23:14.821Z"
   },
   {
    "duration": 52,
    "start_time": "2022-08-09T19:23:14.826Z"
   },
   {
    "duration": 26,
    "start_time": "2022-08-09T19:23:14.880Z"
   },
   {
    "duration": 11,
    "start_time": "2022-08-09T19:23:14.909Z"
   },
   {
    "duration": 69,
    "start_time": "2022-08-09T19:23:14.922Z"
   },
   {
    "duration": 31,
    "start_time": "2022-08-09T19:23:44.272Z"
   },
   {
    "duration": 31,
    "start_time": "2022-08-09T19:24:59.608Z"
   },
   {
    "duration": 28,
    "start_time": "2022-08-09T19:26:42.634Z"
   },
   {
    "duration": 39,
    "start_time": "2022-08-09T19:27:06.208Z"
   },
   {
    "duration": 29,
    "start_time": "2022-08-09T19:27:21.088Z"
   },
   {
    "duration": 30,
    "start_time": "2022-08-09T19:27:39.477Z"
   },
   {
    "duration": 573,
    "start_time": "2022-08-09T19:27:45.153Z"
   },
   {
    "duration": 22,
    "start_time": "2022-08-09T19:27:45.728Z"
   },
   {
    "duration": 20,
    "start_time": "2022-08-09T19:27:45.753Z"
   },
   {
    "duration": 15,
    "start_time": "2022-08-09T19:27:45.775Z"
   },
   {
    "duration": 3,
    "start_time": "2022-08-09T19:27:45.791Z"
   },
   {
    "duration": 9,
    "start_time": "2022-08-09T19:27:45.795Z"
   },
   {
    "duration": 5,
    "start_time": "2022-08-09T19:27:45.805Z"
   },
   {
    "duration": 18,
    "start_time": "2022-08-09T19:27:45.811Z"
   },
   {
    "duration": 32,
    "start_time": "2022-08-09T19:27:45.831Z"
   },
   {
    "duration": 9,
    "start_time": "2022-08-09T19:27:45.865Z"
   },
   {
    "duration": 31,
    "start_time": "2022-08-09T19:27:45.876Z"
   },
   {
    "duration": 6,
    "start_time": "2022-08-09T19:32:01.902Z"
   },
   {
    "duration": 69,
    "start_time": "2022-08-09T19:32:34.953Z"
   },
   {
    "duration": 11,
    "start_time": "2022-08-09T19:32:52.985Z"
   },
   {
    "duration": 9,
    "start_time": "2022-08-09T19:34:02.215Z"
   },
   {
    "duration": 223,
    "start_time": "2022-08-09T19:34:10.442Z"
   },
   {
    "duration": 522,
    "start_time": "2022-08-09T19:35:39.326Z"
   },
   {
    "duration": 22,
    "start_time": "2022-08-09T19:35:39.851Z"
   },
   {
    "duration": 16,
    "start_time": "2022-08-09T19:35:39.874Z"
   },
   {
    "duration": 20,
    "start_time": "2022-08-09T19:35:39.892Z"
   },
   {
    "duration": 6,
    "start_time": "2022-08-09T19:35:39.913Z"
   },
   {
    "duration": 11,
    "start_time": "2022-08-09T19:35:39.920Z"
   },
   {
    "duration": 5,
    "start_time": "2022-08-09T19:35:39.932Z"
   },
   {
    "duration": 19,
    "start_time": "2022-08-09T19:35:39.939Z"
   },
   {
    "duration": 16,
    "start_time": "2022-08-09T19:35:39.960Z"
   },
   {
    "duration": 9,
    "start_time": "2022-08-09T19:35:39.977Z"
   },
   {
    "duration": 14,
    "start_time": "2022-08-09T19:35:39.987Z"
   },
   {
    "duration": 4,
    "start_time": "2022-08-09T19:45:53.785Z"
   },
   {
    "duration": 498,
    "start_time": "2022-08-09T19:45:59.124Z"
   },
   {
    "duration": 10,
    "start_time": "2022-08-09T19:45:59.624Z"
   },
   {
    "duration": 17,
    "start_time": "2022-08-09T19:45:59.635Z"
   },
   {
    "duration": 24,
    "start_time": "2022-08-09T19:45:59.654Z"
   },
   {
    "duration": 11,
    "start_time": "2022-08-09T19:45:59.680Z"
   },
   {
    "duration": 14,
    "start_time": "2022-08-09T19:45:59.692Z"
   },
   {
    "duration": 5,
    "start_time": "2022-08-09T19:45:59.708Z"
   },
   {
    "duration": 15,
    "start_time": "2022-08-09T19:45:59.714Z"
   },
   {
    "duration": 6,
    "start_time": "2022-08-09T19:45:59.731Z"
   },
   {
    "duration": 21,
    "start_time": "2022-08-09T19:45:59.738Z"
   },
   {
    "duration": 8,
    "start_time": "2022-08-09T19:45:59.761Z"
   },
   {
    "duration": 22,
    "start_time": "2022-08-09T19:45:59.771Z"
   },
   {
    "duration": 8,
    "start_time": "2022-08-09T19:45:59.794Z"
   },
   {
    "duration": 10,
    "start_time": "2022-08-09T19:45:59.804Z"
   },
   {
    "duration": 9,
    "start_time": "2022-08-09T19:45:59.815Z"
   },
   {
    "duration": 13,
    "start_time": "2022-08-09T19:45:59.825Z"
   },
   {
    "duration": 7,
    "start_time": "2022-08-09T19:48:45.642Z"
   },
   {
    "duration": 525,
    "start_time": "2022-08-09T19:57:58.338Z"
   },
   {
    "duration": 11,
    "start_time": "2022-08-09T19:57:58.865Z"
   },
   {
    "duration": 21,
    "start_time": "2022-08-09T19:57:58.878Z"
   },
   {
    "duration": 23,
    "start_time": "2022-08-09T19:57:58.901Z"
   },
   {
    "duration": 10,
    "start_time": "2022-08-09T19:57:58.925Z"
   },
   {
    "duration": 25,
    "start_time": "2022-08-09T19:57:58.937Z"
   },
   {
    "duration": 2,
    "start_time": "2022-08-09T19:57:58.964Z"
   },
   {
    "duration": 12,
    "start_time": "2022-08-09T19:57:58.968Z"
   },
   {
    "duration": 16,
    "start_time": "2022-08-09T19:57:58.981Z"
   },
   {
    "duration": 10,
    "start_time": "2022-08-09T19:57:58.999Z"
   },
   {
    "duration": 9,
    "start_time": "2022-08-09T19:57:59.010Z"
   },
   {
    "duration": 16,
    "start_time": "2022-08-09T19:57:59.021Z"
   },
   {
    "duration": 18,
    "start_time": "2022-08-09T19:57:59.039Z"
   },
   {
    "duration": 8,
    "start_time": "2022-08-09T19:57:59.059Z"
   },
   {
    "duration": 4,
    "start_time": "2022-08-09T19:57:59.068Z"
   },
   {
    "duration": 6,
    "start_time": "2022-08-09T19:57:59.074Z"
   },
   {
    "duration": 474,
    "start_time": "2022-08-09T20:03:43.190Z"
   },
   {
    "duration": 10,
    "start_time": "2022-08-09T20:03:43.666Z"
   },
   {
    "duration": 20,
    "start_time": "2022-08-09T20:03:43.677Z"
   },
   {
    "duration": 25,
    "start_time": "2022-08-09T20:03:43.699Z"
   },
   {
    "duration": 10,
    "start_time": "2022-08-09T20:03:43.726Z"
   },
   {
    "duration": 22,
    "start_time": "2022-08-09T20:03:43.738Z"
   },
   {
    "duration": 6,
    "start_time": "2022-08-09T20:03:43.762Z"
   },
   {
    "duration": 25,
    "start_time": "2022-08-09T20:03:43.770Z"
   },
   {
    "duration": 13,
    "start_time": "2022-08-09T20:03:43.797Z"
   },
   {
    "duration": 9,
    "start_time": "2022-08-09T20:03:43.812Z"
   },
   {
    "duration": 16,
    "start_time": "2022-08-09T20:03:43.822Z"
   },
   {
    "duration": 17,
    "start_time": "2022-08-09T20:03:43.840Z"
   },
   {
    "duration": 7,
    "start_time": "2022-08-09T20:03:43.859Z"
   },
   {
    "duration": 5,
    "start_time": "2022-08-09T20:03:43.867Z"
   },
   {
    "duration": 5,
    "start_time": "2022-08-09T20:03:43.874Z"
   },
   {
    "duration": 65,
    "start_time": "2022-08-09T20:13:35.984Z"
   },
   {
    "duration": 8,
    "start_time": "2022-08-09T20:14:08.394Z"
   },
   {
    "duration": 6,
    "start_time": "2022-08-09T20:21:51.803Z"
   },
   {
    "duration": 8,
    "start_time": "2022-08-09T20:22:42.303Z"
   },
   {
    "duration": 5,
    "start_time": "2022-08-09T20:23:13.337Z"
   },
   {
    "duration": 510,
    "start_time": "2022-08-09T20:24:43.537Z"
   },
   {
    "duration": 10,
    "start_time": "2022-08-09T20:24:44.049Z"
   },
   {
    "duration": 31,
    "start_time": "2022-08-09T20:24:44.061Z"
   },
   {
    "duration": 34,
    "start_time": "2022-08-09T20:24:44.093Z"
   },
   {
    "duration": 11,
    "start_time": "2022-08-09T20:24:44.129Z"
   },
   {
    "duration": 27,
    "start_time": "2022-08-09T20:24:44.141Z"
   },
   {
    "duration": 8,
    "start_time": "2022-08-09T20:24:44.169Z"
   },
   {
    "duration": 8,
    "start_time": "2022-08-09T20:24:44.178Z"
   },
   {
    "duration": 24,
    "start_time": "2022-08-09T20:24:44.188Z"
   },
   {
    "duration": 25,
    "start_time": "2022-08-09T20:24:44.214Z"
   },
   {
    "duration": 27,
    "start_time": "2022-08-09T20:24:44.241Z"
   },
   {
    "duration": 8,
    "start_time": "2022-08-09T20:24:44.270Z"
   },
   {
    "duration": 77,
    "start_time": "2022-08-09T20:24:44.279Z"
   },
   {
    "duration": 0,
    "start_time": "2022-08-09T20:24:44.358Z"
   },
   {
    "duration": 0,
    "start_time": "2022-08-09T20:24:44.359Z"
   },
   {
    "duration": 0,
    "start_time": "2022-08-09T20:24:44.360Z"
   },
   {
    "duration": 0,
    "start_time": "2022-08-09T20:24:44.360Z"
   },
   {
    "duration": 668,
    "start_time": "2022-08-10T12:11:30.627Z"
   },
   {
    "duration": 11,
    "start_time": "2022-08-10T12:11:31.297Z"
   },
   {
    "duration": 49,
    "start_time": "2022-08-10T12:11:31.309Z"
   },
   {
    "duration": 30,
    "start_time": "2022-08-10T12:11:31.360Z"
   },
   {
    "duration": 19,
    "start_time": "2022-08-10T12:11:31.392Z"
   },
   {
    "duration": 36,
    "start_time": "2022-08-10T12:11:31.413Z"
   },
   {
    "duration": 9,
    "start_time": "2022-08-10T12:11:31.451Z"
   },
   {
    "duration": 18,
    "start_time": "2022-08-10T12:11:31.462Z"
   },
   {
    "duration": 20,
    "start_time": "2022-08-10T12:11:31.481Z"
   },
   {
    "duration": 34,
    "start_time": "2022-08-10T12:11:31.503Z"
   },
   {
    "duration": 30,
    "start_time": "2022-08-10T12:11:31.539Z"
   },
   {
    "duration": 11,
    "start_time": "2022-08-10T12:11:31.571Z"
   },
   {
    "duration": 54,
    "start_time": "2022-08-10T12:11:31.584Z"
   },
   {
    "duration": 0,
    "start_time": "2022-08-10T12:11:31.639Z"
   },
   {
    "duration": 0,
    "start_time": "2022-08-10T12:11:31.641Z"
   },
   {
    "duration": 0,
    "start_time": "2022-08-10T12:11:31.642Z"
   },
   {
    "duration": 0,
    "start_time": "2022-08-10T12:11:31.643Z"
   },
   {
    "duration": 15,
    "start_time": "2022-08-10T12:11:47.285Z"
   },
   {
    "duration": 11,
    "start_time": "2022-08-10T12:12:33.991Z"
   },
   {
    "duration": 15,
    "start_time": "2022-08-10T12:12:38.058Z"
   },
   {
    "duration": 460,
    "start_time": "2022-08-10T12:12:44.356Z"
   },
   {
    "duration": 10,
    "start_time": "2022-08-10T12:12:44.818Z"
   },
   {
    "duration": 17,
    "start_time": "2022-08-10T12:12:44.831Z"
   },
   {
    "duration": 30,
    "start_time": "2022-08-10T12:12:44.849Z"
   },
   {
    "duration": 11,
    "start_time": "2022-08-10T12:12:44.881Z"
   },
   {
    "duration": 15,
    "start_time": "2022-08-10T12:12:44.899Z"
   },
   {
    "duration": 8,
    "start_time": "2022-08-10T12:12:44.915Z"
   },
   {
    "duration": 7,
    "start_time": "2022-08-10T12:12:44.925Z"
   },
   {
    "duration": 11,
    "start_time": "2022-08-10T12:12:44.934Z"
   },
   {
    "duration": 8,
    "start_time": "2022-08-10T12:12:44.947Z"
   },
   {
    "duration": 44,
    "start_time": "2022-08-10T12:12:44.957Z"
   },
   {
    "duration": 9,
    "start_time": "2022-08-10T12:12:45.003Z"
   },
   {
    "duration": 39,
    "start_time": "2022-08-10T12:12:45.013Z"
   },
   {
    "duration": 9,
    "start_time": "2022-08-10T12:12:45.054Z"
   },
   {
    "duration": 17,
    "start_time": "2022-08-10T12:12:45.064Z"
   },
   {
    "duration": 5,
    "start_time": "2022-08-10T12:12:45.083Z"
   },
   {
    "duration": 6,
    "start_time": "2022-08-10T12:12:45.089Z"
   },
   {
    "duration": 6,
    "start_time": "2022-08-10T12:13:08.389Z"
   },
   {
    "duration": 468,
    "start_time": "2022-08-10T12:13:13.039Z"
   },
   {
    "duration": 11,
    "start_time": "2022-08-10T12:13:13.511Z"
   },
   {
    "duration": 43,
    "start_time": "2022-08-10T12:13:13.523Z"
   },
   {
    "duration": 24,
    "start_time": "2022-08-10T12:13:13.567Z"
   },
   {
    "duration": 20,
    "start_time": "2022-08-10T12:13:13.593Z"
   },
   {
    "duration": 28,
    "start_time": "2022-08-10T12:13:13.615Z"
   },
   {
    "duration": 24,
    "start_time": "2022-08-10T12:13:13.644Z"
   },
   {
    "duration": 27,
    "start_time": "2022-08-10T12:13:13.670Z"
   },
   {
    "duration": 28,
    "start_time": "2022-08-10T12:13:13.699Z"
   },
   {
    "duration": 22,
    "start_time": "2022-08-10T12:13:13.729Z"
   },
   {
    "duration": 37,
    "start_time": "2022-08-10T12:13:13.753Z"
   },
   {
    "duration": 9,
    "start_time": "2022-08-10T12:13:13.792Z"
   },
   {
    "duration": 28,
    "start_time": "2022-08-10T12:13:13.803Z"
   },
   {
    "duration": 16,
    "start_time": "2022-08-10T12:13:13.834Z"
   },
   {
    "duration": 33,
    "start_time": "2022-08-10T12:13:13.852Z"
   },
   {
    "duration": 36,
    "start_time": "2022-08-10T12:13:13.886Z"
   },
   {
    "duration": 17,
    "start_time": "2022-08-10T12:13:13.925Z"
   },
   {
    "duration": 5,
    "start_time": "2022-08-10T12:15:53.874Z"
   },
   {
    "duration": 530,
    "start_time": "2022-08-10T12:15:57.790Z"
   },
   {
    "duration": 11,
    "start_time": "2022-08-10T12:15:58.322Z"
   },
   {
    "duration": 18,
    "start_time": "2022-08-10T12:15:58.334Z"
   },
   {
    "duration": 22,
    "start_time": "2022-08-10T12:15:58.354Z"
   },
   {
    "duration": 22,
    "start_time": "2022-08-10T12:15:58.379Z"
   },
   {
    "duration": 15,
    "start_time": "2022-08-10T12:15:58.403Z"
   },
   {
    "duration": 8,
    "start_time": "2022-08-10T12:15:58.419Z"
   },
   {
    "duration": 6,
    "start_time": "2022-08-10T12:15:58.429Z"
   },
   {
    "duration": 12,
    "start_time": "2022-08-10T12:15:58.436Z"
   },
   {
    "duration": 9,
    "start_time": "2022-08-10T12:15:58.450Z"
   },
   {
    "duration": 52,
    "start_time": "2022-08-10T12:15:58.461Z"
   },
   {
    "duration": 8,
    "start_time": "2022-08-10T12:15:58.514Z"
   },
   {
    "duration": 6,
    "start_time": "2022-08-10T12:15:58.525Z"
   },
   {
    "duration": 71,
    "start_time": "2022-08-10T12:15:58.534Z"
   },
   {
    "duration": 0,
    "start_time": "2022-08-10T12:15:58.607Z"
   },
   {
    "duration": 0,
    "start_time": "2022-08-10T12:15:58.609Z"
   },
   {
    "duration": 0,
    "start_time": "2022-08-10T12:15:58.610Z"
   },
   {
    "duration": 9,
    "start_time": "2022-08-10T12:16:46.258Z"
   },
   {
    "duration": 496,
    "start_time": "2022-08-10T12:16:55.338Z"
   },
   {
    "duration": 12,
    "start_time": "2022-08-10T12:16:55.838Z"
   },
   {
    "duration": 22,
    "start_time": "2022-08-10T12:16:55.852Z"
   },
   {
    "duration": 25,
    "start_time": "2022-08-10T12:16:55.875Z"
   },
   {
    "duration": 14,
    "start_time": "2022-08-10T12:16:55.903Z"
   },
   {
    "duration": 18,
    "start_time": "2022-08-10T12:16:55.920Z"
   },
   {
    "duration": 8,
    "start_time": "2022-08-10T12:16:55.940Z"
   },
   {
    "duration": 10,
    "start_time": "2022-08-10T12:16:55.950Z"
   },
   {
    "duration": 14,
    "start_time": "2022-08-10T12:16:55.961Z"
   },
   {
    "duration": 12,
    "start_time": "2022-08-10T12:16:56.001Z"
   },
   {
    "duration": 74,
    "start_time": "2022-08-10T12:16:56.015Z"
   },
   {
    "duration": 17,
    "start_time": "2022-08-10T12:16:56.091Z"
   },
   {
    "duration": 17,
    "start_time": "2022-08-10T12:16:56.109Z"
   },
   {
    "duration": 29,
    "start_time": "2022-08-10T12:16:56.129Z"
   },
   {
    "duration": 33,
    "start_time": "2022-08-10T12:16:56.159Z"
   },
   {
    "duration": 11,
    "start_time": "2022-08-10T12:16:56.193Z"
   },
   {
    "duration": 18,
    "start_time": "2022-08-10T12:16:56.206Z"
   },
   {
    "duration": 9,
    "start_time": "2022-08-10T13:02:08.417Z"
   },
   {
    "duration": 498,
    "start_time": "2022-08-10T13:02:12.808Z"
   },
   {
    "duration": 9,
    "start_time": "2022-08-10T13:02:13.308Z"
   },
   {
    "duration": 16,
    "start_time": "2022-08-10T13:02:13.319Z"
   },
   {
    "duration": 24,
    "start_time": "2022-08-10T13:02:13.337Z"
   },
   {
    "duration": 10,
    "start_time": "2022-08-10T13:02:13.363Z"
   },
   {
    "duration": 25,
    "start_time": "2022-08-10T13:02:13.375Z"
   },
   {
    "duration": 6,
    "start_time": "2022-08-10T13:02:13.401Z"
   },
   {
    "duration": 8,
    "start_time": "2022-08-10T13:02:13.408Z"
   },
   {
    "duration": 10,
    "start_time": "2022-08-10T13:02:13.418Z"
   },
   {
    "duration": 8,
    "start_time": "2022-08-10T13:02:13.429Z"
   },
   {
    "duration": 15,
    "start_time": "2022-08-10T13:02:13.439Z"
   },
   {
    "duration": 9,
    "start_time": "2022-08-10T13:02:13.456Z"
   },
   {
    "duration": 42,
    "start_time": "2022-08-10T13:02:13.466Z"
   },
   {
    "duration": 8,
    "start_time": "2022-08-10T13:02:13.510Z"
   },
   {
    "duration": 18,
    "start_time": "2022-08-10T13:02:13.519Z"
   },
   {
    "duration": 8,
    "start_time": "2022-08-10T13:02:13.538Z"
   },
   {
    "duration": 5,
    "start_time": "2022-08-10T13:02:13.547Z"
   },
   {
    "duration": 13,
    "start_time": "2022-08-10T13:11:06.770Z"
   },
   {
    "duration": 39,
    "start_time": "2022-08-10T13:30:54.124Z"
   },
   {
    "duration": 18,
    "start_time": "2022-08-10T13:32:40.600Z"
   },
   {
    "duration": 5,
    "start_time": "2022-08-10T13:35:01.490Z"
   },
   {
    "duration": 67,
    "start_time": "2022-08-10T13:35:48.216Z"
   },
   {
    "duration": 5,
    "start_time": "2022-08-10T13:35:52.733Z"
   },
   {
    "duration": 1045,
    "start_time": "2022-08-10T13:39:25.788Z"
   },
   {
    "duration": 11,
    "start_time": "2022-08-10T13:39:44.595Z"
   },
   {
    "duration": 5,
    "start_time": "2022-08-10T13:43:22.724Z"
   },
   {
    "duration": 7,
    "start_time": "2022-08-10T13:43:38.082Z"
   },
   {
    "duration": 4,
    "start_time": "2022-08-10T13:44:06.524Z"
   },
   {
    "duration": 1774,
    "start_time": "2022-08-10T13:46:13.234Z"
   },
   {
    "duration": 1575,
    "start_time": "2022-08-10T13:46:16.176Z"
   },
   {
    "duration": 931,
    "start_time": "2022-08-10T13:46:35.365Z"
   },
   {
    "duration": 4,
    "start_time": "2022-08-10T13:46:44.374Z"
   },
   {
    "duration": 1175,
    "start_time": "2022-08-10T13:48:00.892Z"
   },
   {
    "duration": 7,
    "start_time": "2022-08-10T13:48:11.077Z"
   },
   {
    "duration": 6,
    "start_time": "2022-08-10T14:17:43.614Z"
   },
   {
    "duration": 9,
    "start_time": "2022-08-10T14:18:28.758Z"
   },
   {
    "duration": 529,
    "start_time": "2022-08-10T14:20:06.610Z"
   },
   {
    "duration": 105,
    "start_time": "2022-08-10T14:22:07.807Z"
   },
   {
    "duration": 101,
    "start_time": "2022-08-10T14:42:06.534Z"
   },
   {
    "duration": 104,
    "start_time": "2022-08-10T14:43:02.537Z"
   },
   {
    "duration": 151,
    "start_time": "2022-08-10T14:43:15.398Z"
   },
   {
    "duration": 27,
    "start_time": "2022-08-10T14:58:34.792Z"
   },
   {
    "duration": 25,
    "start_time": "2022-08-10T15:01:04.744Z"
   },
   {
    "duration": 22,
    "start_time": "2022-08-10T15:12:17.630Z"
   },
   {
    "duration": 23,
    "start_time": "2022-08-10T15:12:26.719Z"
   },
   {
    "duration": 6,
    "start_time": "2022-08-10T15:13:20.394Z"
   },
   {
    "duration": 83,
    "start_time": "2022-08-10T15:16:17.475Z"
   },
   {
    "duration": 21,
    "start_time": "2022-08-10T15:16:22.074Z"
   },
   {
    "duration": 8,
    "start_time": "2022-08-10T19:58:31.663Z"
   },
   {
    "duration": 498,
    "start_time": "2022-08-10T19:58:37.765Z"
   },
   {
    "duration": 9,
    "start_time": "2022-08-10T19:58:38.265Z"
   },
   {
    "duration": 20,
    "start_time": "2022-08-10T19:58:38.275Z"
   },
   {
    "duration": 19,
    "start_time": "2022-08-10T19:58:38.297Z"
   },
   {
    "duration": 10,
    "start_time": "2022-08-10T19:58:38.317Z"
   },
   {
    "duration": 14,
    "start_time": "2022-08-10T19:58:38.328Z"
   },
   {
    "duration": 6,
    "start_time": "2022-08-10T19:58:38.344Z"
   },
   {
    "duration": 7,
    "start_time": "2022-08-10T19:58:38.352Z"
   },
   {
    "duration": 10,
    "start_time": "2022-08-10T19:58:38.360Z"
   },
   {
    "duration": 30,
    "start_time": "2022-08-10T19:58:38.372Z"
   },
   {
    "duration": 9,
    "start_time": "2022-08-10T19:58:38.404Z"
   },
   {
    "duration": 17,
    "start_time": "2022-08-10T19:58:38.414Z"
   },
   {
    "duration": 7,
    "start_time": "2022-08-10T19:58:38.433Z"
   },
   {
    "duration": 7,
    "start_time": "2022-08-10T19:58:38.442Z"
   },
   {
    "duration": 7,
    "start_time": "2022-08-10T19:58:38.451Z"
   },
   {
    "duration": 41,
    "start_time": "2022-08-10T19:58:38.460Z"
   },
   {
    "duration": 8,
    "start_time": "2022-08-10T19:58:38.502Z"
   },
   {
    "duration": 6,
    "start_time": "2022-08-10T19:58:38.511Z"
   },
   {
    "duration": 5,
    "start_time": "2022-08-10T19:58:38.518Z"
   },
   {
    "duration": 8,
    "start_time": "2022-08-10T19:58:38.524Z"
   },
   {
    "duration": 7,
    "start_time": "2022-08-10T19:58:38.534Z"
   },
   {
    "duration": 5,
    "start_time": "2022-08-10T19:58:38.542Z"
   },
   {
    "duration": 4,
    "start_time": "2022-08-10T19:58:38.548Z"
   },
   {
    "duration": 53,
    "start_time": "2022-08-10T19:58:38.553Z"
   },
   {
    "duration": 0,
    "start_time": "2022-08-10T19:58:38.608Z"
   },
   {
    "duration": 0,
    "start_time": "2022-08-10T19:58:38.609Z"
   },
   {
    "duration": 0,
    "start_time": "2022-08-10T19:58:38.610Z"
   },
   {
    "duration": 0,
    "start_time": "2022-08-10T19:58:38.611Z"
   },
   {
    "duration": 0,
    "start_time": "2022-08-10T19:58:38.612Z"
   },
   {
    "duration": 9,
    "start_time": "2022-08-10T19:59:00.108Z"
   },
   {
    "duration": 11,
    "start_time": "2022-08-10T19:59:37.038Z"
   },
   {
    "duration": 69,
    "start_time": "2022-08-10T20:00:19.979Z"
   },
   {
    "duration": 279,
    "start_time": "2022-08-10T20:00:33.427Z"
   },
   {
    "duration": 7,
    "start_time": "2022-08-10T20:00:58.553Z"
   },
   {
    "duration": 12,
    "start_time": "2022-08-10T20:01:09.064Z"
   },
   {
    "duration": 20,
    "start_time": "2022-08-10T20:01:14.913Z"
   },
   {
    "duration": 4,
    "start_time": "2022-08-10T20:02:08.910Z"
   },
   {
    "duration": 6,
    "start_time": "2022-08-10T20:05:36.291Z"
   },
   {
    "duration": 6,
    "start_time": "2022-08-10T20:06:14.307Z"
   },
   {
    "duration": 457,
    "start_time": "2022-08-10T20:06:18.053Z"
   },
   {
    "duration": 10,
    "start_time": "2022-08-10T20:06:18.511Z"
   },
   {
    "duration": 17,
    "start_time": "2022-08-10T20:06:18.523Z"
   },
   {
    "duration": 25,
    "start_time": "2022-08-10T20:06:18.542Z"
   },
   {
    "duration": 11,
    "start_time": "2022-08-10T20:06:18.569Z"
   },
   {
    "duration": 31,
    "start_time": "2022-08-10T20:06:18.581Z"
   },
   {
    "duration": 7,
    "start_time": "2022-08-10T20:06:18.614Z"
   },
   {
    "duration": 6,
    "start_time": "2022-08-10T20:06:18.622Z"
   },
   {
    "duration": 11,
    "start_time": "2022-08-10T20:06:18.629Z"
   },
   {
    "duration": 9,
    "start_time": "2022-08-10T20:06:18.642Z"
   },
   {
    "duration": 10,
    "start_time": "2022-08-10T20:06:18.652Z"
   },
   {
    "duration": 48,
    "start_time": "2022-08-10T20:06:18.663Z"
   },
   {
    "duration": 8,
    "start_time": "2022-08-10T20:06:18.712Z"
   },
   {
    "duration": 8,
    "start_time": "2022-08-10T20:06:18.721Z"
   },
   {
    "duration": 6,
    "start_time": "2022-08-10T20:06:18.731Z"
   },
   {
    "duration": 13,
    "start_time": "2022-08-10T20:06:18.739Z"
   },
   {
    "duration": 10,
    "start_time": "2022-08-10T20:06:18.753Z"
   },
   {
    "duration": 6,
    "start_time": "2022-08-10T20:06:18.765Z"
   },
   {
    "duration": 30,
    "start_time": "2022-08-10T20:06:18.772Z"
   },
   {
    "duration": 10,
    "start_time": "2022-08-10T20:06:18.804Z"
   },
   {
    "duration": 8,
    "start_time": "2022-08-10T20:06:18.816Z"
   },
   {
    "duration": 3,
    "start_time": "2022-08-10T20:06:18.825Z"
   },
   {
    "duration": 14,
    "start_time": "2022-08-10T20:06:18.830Z"
   },
   {
    "duration": 5,
    "start_time": "2022-08-10T20:06:18.845Z"
   },
   {
    "duration": 9,
    "start_time": "2022-08-10T20:06:18.851Z"
   },
   {
    "duration": 7,
    "start_time": "2022-08-10T20:06:18.862Z"
   },
   {
    "duration": 16,
    "start_time": "2022-08-10T20:06:18.870Z"
   },
   {
    "duration": 7,
    "start_time": "2022-08-10T20:06:18.889Z"
   },
   {
    "duration": 5,
    "start_time": "2022-08-10T20:06:18.898Z"
   },
   {
    "duration": 26,
    "start_time": "2022-08-10T20:07:17.189Z"
   },
   {
    "duration": 24,
    "start_time": "2022-08-10T20:07:44.465Z"
   },
   {
    "duration": 82,
    "start_time": "2022-08-10T20:26:32.987Z"
   },
   {
    "duration": 55,
    "start_time": "2022-08-10T20:27:17.469Z"
   },
   {
    "duration": 56,
    "start_time": "2022-08-10T20:29:00.673Z"
   },
   {
    "duration": 47,
    "start_time": "2022-08-10T20:29:34.297Z"
   },
   {
    "duration": 364,
    "start_time": "2022-08-10T20:38:31.168Z"
   },
   {
    "duration": 9,
    "start_time": "2022-08-10T20:40:42.495Z"
   },
   {
    "duration": 508,
    "start_time": "2022-08-10T20:40:57.801Z"
   },
   {
    "duration": 10,
    "start_time": "2022-08-10T20:40:58.311Z"
   },
   {
    "duration": 15,
    "start_time": "2022-08-10T20:40:58.322Z"
   },
   {
    "duration": 26,
    "start_time": "2022-08-10T20:40:58.339Z"
   },
   {
    "duration": 10,
    "start_time": "2022-08-10T20:40:58.367Z"
   },
   {
    "duration": 22,
    "start_time": "2022-08-10T20:40:58.378Z"
   },
   {
    "duration": 7,
    "start_time": "2022-08-10T20:40:58.402Z"
   },
   {
    "duration": 10,
    "start_time": "2022-08-10T20:40:58.410Z"
   },
   {
    "duration": 15,
    "start_time": "2022-08-10T20:40:58.421Z"
   },
   {
    "duration": 8,
    "start_time": "2022-08-10T20:40:58.437Z"
   },
   {
    "duration": 9,
    "start_time": "2022-08-10T20:40:58.446Z"
   },
   {
    "duration": 16,
    "start_time": "2022-08-10T20:40:58.457Z"
   },
   {
    "duration": 31,
    "start_time": "2022-08-10T20:40:58.474Z"
   },
   {
    "duration": 13,
    "start_time": "2022-08-10T20:40:58.507Z"
   },
   {
    "duration": 9,
    "start_time": "2022-08-10T20:40:58.522Z"
   },
   {
    "duration": 8,
    "start_time": "2022-08-10T20:40:58.532Z"
   },
   {
    "duration": 12,
    "start_time": "2022-08-10T20:40:58.542Z"
   },
   {
    "duration": 7,
    "start_time": "2022-08-10T20:40:58.555Z"
   },
   {
    "duration": 8,
    "start_time": "2022-08-10T20:40:58.563Z"
   },
   {
    "duration": 15,
    "start_time": "2022-08-10T20:40:58.573Z"
   },
   {
    "duration": 14,
    "start_time": "2022-08-10T20:40:58.589Z"
   },
   {
    "duration": 9,
    "start_time": "2022-08-10T20:40:58.604Z"
   },
   {
    "duration": 10,
    "start_time": "2022-08-10T20:40:58.614Z"
   },
   {
    "duration": 10,
    "start_time": "2022-08-10T20:40:58.625Z"
   },
   {
    "duration": 11,
    "start_time": "2022-08-10T20:40:58.637Z"
   },
   {
    "duration": 3,
    "start_time": "2022-08-10T20:40:58.649Z"
   },
   {
    "duration": 5,
    "start_time": "2022-08-10T20:40:58.653Z"
   },
   {
    "duration": 6,
    "start_time": "2022-08-10T20:40:58.659Z"
   },
   {
    "duration": 5,
    "start_time": "2022-08-10T20:40:58.667Z"
   },
   {
    "duration": 32,
    "start_time": "2022-08-10T20:41:18.324Z"
   },
   {
    "duration": 4,
    "start_time": "2022-08-10T20:44:01.736Z"
   },
   {
    "duration": 11,
    "start_time": "2022-08-10T20:44:10.972Z"
   },
   {
    "duration": 31,
    "start_time": "2022-08-10T20:44:32.221Z"
   },
   {
    "duration": 10,
    "start_time": "2022-08-10T20:45:10.728Z"
   },
   {
    "duration": 10,
    "start_time": "2022-08-10T20:45:18.832Z"
   },
   {
    "duration": 493,
    "start_time": "2022-08-10T20:45:41.447Z"
   },
   {
    "duration": 31,
    "start_time": "2022-08-10T20:50:59.509Z"
   },
   {
    "duration": 22,
    "start_time": "2022-08-10T20:51:17.936Z"
   },
   {
    "duration": 25,
    "start_time": "2022-08-10T20:51:27.130Z"
   },
   {
    "duration": 12,
    "start_time": "2022-08-10T20:51:48.293Z"
   },
   {
    "duration": 505,
    "start_time": "2022-08-10T20:51:52.722Z"
   },
   {
    "duration": 9,
    "start_time": "2022-08-10T20:51:53.229Z"
   },
   {
    "duration": 20,
    "start_time": "2022-08-10T20:51:53.239Z"
   },
   {
    "duration": 39,
    "start_time": "2022-08-10T20:51:53.261Z"
   },
   {
    "duration": 11,
    "start_time": "2022-08-10T20:51:53.303Z"
   },
   {
    "duration": 16,
    "start_time": "2022-08-10T20:51:53.315Z"
   },
   {
    "duration": 6,
    "start_time": "2022-08-10T20:51:53.332Z"
   },
   {
    "duration": 8,
    "start_time": "2022-08-10T20:51:53.340Z"
   },
   {
    "duration": 14,
    "start_time": "2022-08-10T20:51:53.350Z"
   },
   {
    "duration": 8,
    "start_time": "2022-08-10T20:51:53.366Z"
   },
   {
    "duration": 11,
    "start_time": "2022-08-10T20:51:53.400Z"
   },
   {
    "duration": 24,
    "start_time": "2022-08-10T20:51:53.412Z"
   },
   {
    "duration": 8,
    "start_time": "2022-08-10T20:51:53.437Z"
   },
   {
    "duration": 20,
    "start_time": "2022-08-10T20:51:53.449Z"
   },
   {
    "duration": 11,
    "start_time": "2022-08-10T20:51:53.471Z"
   },
   {
    "duration": 7,
    "start_time": "2022-08-10T20:51:53.483Z"
   },
   {
    "duration": 8,
    "start_time": "2022-08-10T20:51:53.501Z"
   },
   {
    "duration": 9,
    "start_time": "2022-08-10T20:51:53.511Z"
   },
   {
    "duration": 5,
    "start_time": "2022-08-10T20:51:53.522Z"
   },
   {
    "duration": 12,
    "start_time": "2022-08-10T20:51:53.528Z"
   },
   {
    "duration": 14,
    "start_time": "2022-08-10T20:51:53.541Z"
   },
   {
    "duration": 4,
    "start_time": "2022-08-10T20:51:53.557Z"
   },
   {
    "duration": 9,
    "start_time": "2022-08-10T20:51:53.562Z"
   },
   {
    "duration": 8,
    "start_time": "2022-08-10T20:51:53.573Z"
   },
   {
    "duration": 10,
    "start_time": "2022-08-10T20:51:53.600Z"
   },
   {
    "duration": 12,
    "start_time": "2022-08-10T20:51:53.611Z"
   },
   {
    "duration": 448,
    "start_time": "2022-08-10T20:51:53.624Z"
   },
   {
    "duration": 2,
    "start_time": "2022-08-10T20:51:54.074Z"
   },
   {
    "duration": 25,
    "start_time": "2022-08-10T20:51:54.077Z"
   },
   {
    "duration": 11,
    "start_time": "2022-08-10T20:52:11.951Z"
   },
   {
    "duration": 968,
    "start_time": "2022-08-10T20:54:07.639Z"
   },
   {
    "duration": 20,
    "start_time": "2022-08-10T20:54:23.177Z"
   },
   {
    "duration": 9,
    "start_time": "2022-08-10T20:55:41.177Z"
   },
   {
    "duration": 22,
    "start_time": "2022-08-10T20:55:43.851Z"
   },
   {
    "duration": 20,
    "start_time": "2022-08-10T20:56:38.942Z"
   },
   {
    "duration": 20,
    "start_time": "2022-08-10T20:56:49.782Z"
   },
   {
    "duration": 21,
    "start_time": "2022-08-10T20:56:54.708Z"
   },
   {
    "duration": 55,
    "start_time": "2022-08-10T20:58:17.435Z"
   },
   {
    "duration": 49,
    "start_time": "2022-08-10T20:58:27.099Z"
   },
   {
    "duration": 21,
    "start_time": "2022-08-10T20:58:36.218Z"
   },
   {
    "duration": 20,
    "start_time": "2022-08-10T20:58:50.903Z"
   },
   {
    "duration": 13,
    "start_time": "2022-08-10T21:00:23.330Z"
   },
   {
    "duration": 13,
    "start_time": "2022-08-10T21:00:39.945Z"
   },
   {
    "duration": 45,
    "start_time": "2022-08-10T21:00:54.840Z"
   },
   {
    "duration": 11,
    "start_time": "2022-08-10T21:01:02.495Z"
   },
   {
    "duration": 10,
    "start_time": "2022-08-10T21:02:45.830Z"
   },
   {
    "duration": 19,
    "start_time": "2022-08-10T21:03:04.546Z"
   },
   {
    "duration": 2,
    "start_time": "2022-08-10T21:04:24.247Z"
   },
   {
    "duration": 515,
    "start_time": "2022-08-10T21:04:29.281Z"
   },
   {
    "duration": 9,
    "start_time": "2022-08-10T21:04:29.798Z"
   },
   {
    "duration": 21,
    "start_time": "2022-08-10T21:04:29.809Z"
   },
   {
    "duration": 23,
    "start_time": "2022-08-10T21:04:29.831Z"
   },
   {
    "duration": 10,
    "start_time": "2022-08-10T21:04:29.856Z"
   },
   {
    "duration": 14,
    "start_time": "2022-08-10T21:04:29.867Z"
   },
   {
    "duration": 22,
    "start_time": "2022-08-10T21:04:29.883Z"
   },
   {
    "duration": 6,
    "start_time": "2022-08-10T21:04:29.907Z"
   },
   {
    "duration": 13,
    "start_time": "2022-08-10T21:04:29.915Z"
   },
   {
    "duration": 9,
    "start_time": "2022-08-10T21:04:29.929Z"
   },
   {
    "duration": 9,
    "start_time": "2022-08-10T21:04:29.939Z"
   },
   {
    "duration": 19,
    "start_time": "2022-08-10T21:04:29.949Z"
   },
   {
    "duration": 35,
    "start_time": "2022-08-10T21:04:29.970Z"
   },
   {
    "duration": 15,
    "start_time": "2022-08-10T21:04:30.009Z"
   },
   {
    "duration": 19,
    "start_time": "2022-08-10T21:04:30.026Z"
   },
   {
    "duration": 18,
    "start_time": "2022-08-10T21:04:30.047Z"
   },
   {
    "duration": 26,
    "start_time": "2022-08-10T21:04:30.066Z"
   },
   {
    "duration": 14,
    "start_time": "2022-08-10T21:04:30.094Z"
   },
   {
    "duration": 11,
    "start_time": "2022-08-10T21:04:30.109Z"
   },
   {
    "duration": 16,
    "start_time": "2022-08-10T21:04:30.121Z"
   },
   {
    "duration": 21,
    "start_time": "2022-08-10T21:04:30.139Z"
   },
   {
    "duration": 10,
    "start_time": "2022-08-10T21:04:30.162Z"
   },
   {
    "duration": 10,
    "start_time": "2022-08-10T21:04:30.173Z"
   },
   {
    "duration": 9,
    "start_time": "2022-08-10T21:04:30.184Z"
   },
   {
    "duration": 20,
    "start_time": "2022-08-10T21:04:30.194Z"
   },
   {
    "duration": 18,
    "start_time": "2022-08-10T21:04:30.215Z"
   },
   {
    "duration": 444,
    "start_time": "2022-08-10T21:04:30.234Z"
   },
   {
    "duration": 2,
    "start_time": "2022-08-10T21:04:30.679Z"
   },
   {
    "duration": 8,
    "start_time": "2022-08-10T21:04:30.683Z"
   },
   {
    "duration": 216,
    "start_time": "2022-08-10T21:06:27.394Z"
   },
   {
    "duration": 201,
    "start_time": "2022-08-10T21:07:04.130Z"
   },
   {
    "duration": 62,
    "start_time": "2022-08-10T21:07:20.775Z"
   },
   {
    "duration": 137,
    "start_time": "2022-08-10T21:07:34.387Z"
   },
   {
    "duration": 2,
    "start_time": "2022-08-10T21:08:09.936Z"
   },
   {
    "duration": 418,
    "start_time": "2022-08-10T21:14:04.840Z"
   },
   {
    "duration": 395,
    "start_time": "2022-08-10T21:14:30.491Z"
   },
   {
    "duration": 200,
    "start_time": "2022-08-10T21:15:05.601Z"
   },
   {
    "duration": 51,
    "start_time": "2022-08-10T21:50:50.650Z"
   },
   {
    "duration": 27,
    "start_time": "2022-08-10T21:51:34.377Z"
   },
   {
    "duration": 51,
    "start_time": "2022-08-10T22:12:48.063Z"
   },
   {
    "duration": 48,
    "start_time": "2022-08-10T22:13:51.570Z"
   },
   {
    "duration": 543,
    "start_time": "2022-08-10T22:14:11.199Z"
   },
   {
    "duration": 11,
    "start_time": "2022-08-10T22:14:11.744Z"
   },
   {
    "duration": 19,
    "start_time": "2022-08-10T22:14:11.757Z"
   },
   {
    "duration": 20,
    "start_time": "2022-08-10T22:14:11.779Z"
   },
   {
    "duration": 11,
    "start_time": "2022-08-10T22:14:11.801Z"
   },
   {
    "duration": 14,
    "start_time": "2022-08-10T22:14:11.813Z"
   },
   {
    "duration": 8,
    "start_time": "2022-08-10T22:14:11.828Z"
   },
   {
    "duration": 15,
    "start_time": "2022-08-10T22:14:11.838Z"
   },
   {
    "duration": 10,
    "start_time": "2022-08-10T22:14:11.854Z"
   },
   {
    "duration": 37,
    "start_time": "2022-08-10T22:14:11.867Z"
   },
   {
    "duration": 19,
    "start_time": "2022-08-10T22:14:11.906Z"
   },
   {
    "duration": 8,
    "start_time": "2022-08-10T22:14:11.926Z"
   },
   {
    "duration": 8,
    "start_time": "2022-08-10T22:14:11.935Z"
   },
   {
    "duration": 7,
    "start_time": "2022-08-10T22:14:11.944Z"
   },
   {
    "duration": 8,
    "start_time": "2022-08-10T22:14:11.952Z"
   },
   {
    "duration": 41,
    "start_time": "2022-08-10T22:14:11.962Z"
   },
   {
    "duration": 4,
    "start_time": "2022-08-10T22:14:12.005Z"
   },
   {
    "duration": 5,
    "start_time": "2022-08-10T22:14:12.011Z"
   },
   {
    "duration": 12,
    "start_time": "2022-08-10T22:14:12.018Z"
   },
   {
    "duration": 9,
    "start_time": "2022-08-10T22:14:12.031Z"
   },
   {
    "duration": 7,
    "start_time": "2022-08-10T22:14:12.042Z"
   },
   {
    "duration": 7,
    "start_time": "2022-08-10T22:14:12.050Z"
   },
   {
    "duration": 9,
    "start_time": "2022-08-10T22:14:12.059Z"
   },
   {
    "duration": 34,
    "start_time": "2022-08-10T22:14:12.070Z"
   },
   {
    "duration": 31,
    "start_time": "2022-08-10T22:14:12.106Z"
   },
   {
    "duration": 53,
    "start_time": "2022-08-10T22:14:12.138Z"
   },
   {
    "duration": 0,
    "start_time": "2022-08-10T22:14:12.193Z"
   },
   {
    "duration": 0,
    "start_time": "2022-08-10T22:14:12.194Z"
   },
   {
    "duration": 116,
    "start_time": "2022-08-10T22:16:43.809Z"
   },
   {
    "duration": 60,
    "start_time": "2022-08-10T22:17:27.234Z"
   },
   {
    "duration": 453,
    "start_time": "2022-08-10T22:17:44.951Z"
   },
   {
    "duration": 203,
    "start_time": "2022-08-10T22:20:46.804Z"
   },
   {
    "duration": 204,
    "start_time": "2022-08-10T22:21:12.263Z"
   },
   {
    "duration": 247,
    "start_time": "2022-08-10T22:22:32.026Z"
   },
   {
    "duration": 270,
    "start_time": "2022-08-10T22:25:09.100Z"
   },
   {
    "duration": 201,
    "start_time": "2022-08-10T22:25:34.663Z"
   },
   {
    "duration": 1141,
    "start_time": "2022-08-10T22:27:16.481Z"
   },
   {
    "duration": 977,
    "start_time": "2022-08-10T22:27:59.148Z"
   },
   {
    "duration": 202,
    "start_time": "2022-08-10T22:29:38.660Z"
   },
   {
    "duration": 193,
    "start_time": "2022-08-10T22:30:14.835Z"
   },
   {
    "duration": 146,
    "start_time": "2022-08-10T22:31:08.720Z"
   },
   {
    "duration": 8,
    "start_time": "2022-08-10T22:31:13.563Z"
   },
   {
    "duration": 18,
    "start_time": "2022-08-10T22:44:13.886Z"
   },
   {
    "duration": 10,
    "start_time": "2022-08-10T22:44:54.891Z"
   },
   {
    "duration": 79,
    "start_time": "2022-08-10T22:48:15.598Z"
   },
   {
    "duration": 16,
    "start_time": "2022-08-10T22:48:22.483Z"
   },
   {
    "duration": 85,
    "start_time": "2022-08-10T22:49:00.328Z"
   },
   {
    "duration": 513,
    "start_time": "2022-08-10T22:49:28.925Z"
   },
   {
    "duration": 11,
    "start_time": "2022-08-10T22:49:29.440Z"
   },
   {
    "duration": 20,
    "start_time": "2022-08-10T22:49:29.452Z"
   },
   {
    "duration": 23,
    "start_time": "2022-08-10T22:49:29.475Z"
   },
   {
    "duration": 11,
    "start_time": "2022-08-10T22:49:29.500Z"
   },
   {
    "duration": 14,
    "start_time": "2022-08-10T22:49:29.513Z"
   },
   {
    "duration": 11,
    "start_time": "2022-08-10T22:49:29.528Z"
   },
   {
    "duration": 15,
    "start_time": "2022-08-10T22:49:29.541Z"
   },
   {
    "duration": 44,
    "start_time": "2022-08-10T22:49:29.558Z"
   },
   {
    "duration": 11,
    "start_time": "2022-08-10T22:49:29.605Z"
   },
   {
    "duration": 18,
    "start_time": "2022-08-10T22:49:29.618Z"
   },
   {
    "duration": 8,
    "start_time": "2022-08-10T22:49:29.638Z"
   },
   {
    "duration": 7,
    "start_time": "2022-08-10T22:49:29.648Z"
   },
   {
    "duration": 8,
    "start_time": "2022-08-10T22:49:29.656Z"
   },
   {
    "duration": 40,
    "start_time": "2022-08-10T22:49:29.665Z"
   },
   {
    "duration": 12,
    "start_time": "2022-08-10T22:49:29.707Z"
   },
   {
    "duration": 8,
    "start_time": "2022-08-10T22:49:29.721Z"
   },
   {
    "duration": 6,
    "start_time": "2022-08-10T22:49:29.730Z"
   },
   {
    "duration": 8,
    "start_time": "2022-08-10T22:49:29.738Z"
   },
   {
    "duration": 9,
    "start_time": "2022-08-10T22:49:29.748Z"
   },
   {
    "duration": 6,
    "start_time": "2022-08-10T22:49:29.759Z"
   },
   {
    "duration": 41,
    "start_time": "2022-08-10T22:49:29.766Z"
   },
   {
    "duration": 20,
    "start_time": "2022-08-10T22:49:29.809Z"
   },
   {
    "duration": 15,
    "start_time": "2022-08-10T22:49:29.832Z"
   },
   {
    "duration": 31,
    "start_time": "2022-08-10T22:49:29.849Z"
   },
   {
    "duration": 427,
    "start_time": "2022-08-10T22:49:29.881Z"
   },
   {
    "duration": 9,
    "start_time": "2022-08-10T22:49:30.310Z"
   },
   {
    "duration": 65,
    "start_time": "2022-08-10T22:49:30.323Z"
   },
   {
    "duration": 27,
    "start_time": "2022-08-10T22:49:59.621Z"
   },
   {
    "duration": 20,
    "start_time": "2022-08-10T22:52:17.165Z"
   },
   {
    "duration": 161,
    "start_time": "2022-08-10T22:52:59.875Z"
   },
   {
    "duration": 29,
    "start_time": "2022-08-10T22:53:48.183Z"
   },
   {
    "duration": 515,
    "start_time": "2022-08-10T22:55:14.320Z"
   },
   {
    "duration": 10,
    "start_time": "2022-08-10T22:55:14.838Z"
   },
   {
    "duration": 17,
    "start_time": "2022-08-10T22:55:14.850Z"
   },
   {
    "duration": 21,
    "start_time": "2022-08-10T22:55:14.870Z"
   },
   {
    "duration": 15,
    "start_time": "2022-08-10T22:55:14.893Z"
   },
   {
    "duration": 17,
    "start_time": "2022-08-10T22:55:14.910Z"
   },
   {
    "duration": 7,
    "start_time": "2022-08-10T22:55:14.929Z"
   },
   {
    "duration": 17,
    "start_time": "2022-08-10T22:55:14.938Z"
   },
   {
    "duration": 9,
    "start_time": "2022-08-10T22:55:14.958Z"
   },
   {
    "duration": 12,
    "start_time": "2022-08-10T22:55:14.969Z"
   },
   {
    "duration": 42,
    "start_time": "2022-08-10T22:55:14.982Z"
   },
   {
    "duration": 12,
    "start_time": "2022-08-10T22:55:15.026Z"
   },
   {
    "duration": 10,
    "start_time": "2022-08-10T22:55:15.039Z"
   },
   {
    "duration": 14,
    "start_time": "2022-08-10T22:55:15.051Z"
   },
   {
    "duration": 14,
    "start_time": "2022-08-10T22:55:15.066Z"
   },
   {
    "duration": 32,
    "start_time": "2022-08-10T22:55:15.081Z"
   },
   {
    "duration": 10,
    "start_time": "2022-08-10T22:55:15.115Z"
   },
   {
    "duration": 6,
    "start_time": "2022-08-10T22:55:15.126Z"
   },
   {
    "duration": 10,
    "start_time": "2022-08-10T22:55:15.133Z"
   },
   {
    "duration": 8,
    "start_time": "2022-08-10T22:55:15.144Z"
   },
   {
    "duration": 7,
    "start_time": "2022-08-10T22:55:15.154Z"
   },
   {
    "duration": 10,
    "start_time": "2022-08-10T22:55:15.163Z"
   },
   {
    "duration": 9,
    "start_time": "2022-08-10T22:55:15.174Z"
   },
   {
    "duration": 24,
    "start_time": "2022-08-10T22:55:15.184Z"
   },
   {
    "duration": 37,
    "start_time": "2022-08-10T22:55:15.212Z"
   },
   {
    "duration": 396,
    "start_time": "2022-08-10T22:55:15.251Z"
   },
   {
    "duration": 8,
    "start_time": "2022-08-10T22:55:15.649Z"
   },
   {
    "duration": 24,
    "start_time": "2022-08-10T22:55:15.660Z"
   },
   {
    "duration": 689,
    "start_time": "2022-08-10T22:58:45.905Z"
   },
   {
    "duration": 725,
    "start_time": "2022-08-10T22:59:50.477Z"
   },
   {
    "duration": 528,
    "start_time": "2022-08-10T23:00:00.132Z"
   },
   {
    "duration": 12,
    "start_time": "2022-08-10T23:00:00.662Z"
   },
   {
    "duration": 40,
    "start_time": "2022-08-10T23:00:00.676Z"
   },
   {
    "duration": 29,
    "start_time": "2022-08-10T23:00:00.718Z"
   },
   {
    "duration": 21,
    "start_time": "2022-08-10T23:00:00.749Z"
   },
   {
    "duration": 28,
    "start_time": "2022-08-10T23:00:00.772Z"
   },
   {
    "duration": 30,
    "start_time": "2022-08-10T23:00:00.806Z"
   },
   {
    "duration": 36,
    "start_time": "2022-08-10T23:00:00.838Z"
   },
   {
    "duration": 47,
    "start_time": "2022-08-10T23:00:00.875Z"
   },
   {
    "duration": 33,
    "start_time": "2022-08-10T23:00:00.924Z"
   },
   {
    "duration": 31,
    "start_time": "2022-08-10T23:00:00.959Z"
   },
   {
    "duration": 14,
    "start_time": "2022-08-10T23:00:00.991Z"
   },
   {
    "duration": 41,
    "start_time": "2022-08-10T23:00:01.007Z"
   },
   {
    "duration": 11,
    "start_time": "2022-08-10T23:00:01.051Z"
   },
   {
    "duration": 67,
    "start_time": "2022-08-10T23:00:01.064Z"
   },
   {
    "duration": 19,
    "start_time": "2022-08-10T23:00:01.132Z"
   },
   {
    "duration": 20,
    "start_time": "2022-08-10T23:00:01.153Z"
   },
   {
    "duration": 33,
    "start_time": "2022-08-10T23:00:01.175Z"
   },
   {
    "duration": 33,
    "start_time": "2022-08-10T23:00:01.210Z"
   },
   {
    "duration": 42,
    "start_time": "2022-08-10T23:00:01.245Z"
   },
   {
    "duration": 38,
    "start_time": "2022-08-10T23:00:01.289Z"
   },
   {
    "duration": 18,
    "start_time": "2022-08-10T23:00:01.329Z"
   },
   {
    "duration": 13,
    "start_time": "2022-08-10T23:00:01.350Z"
   },
   {
    "duration": 24,
    "start_time": "2022-08-10T23:00:01.366Z"
   },
   {
    "duration": 113,
    "start_time": "2022-08-10T23:00:01.392Z"
   },
   {
    "duration": 527,
    "start_time": "2022-08-10T23:00:01.508Z"
   },
   {
    "duration": 9,
    "start_time": "2022-08-10T23:00:02.038Z"
   },
   {
    "duration": 831,
    "start_time": "2022-08-10T23:00:02.049Z"
   },
   {
    "duration": 78,
    "start_time": "2022-08-10T23:00:23.499Z"
   },
   {
    "duration": 736,
    "start_time": "2022-08-10T23:00:35.033Z"
   },
   {
    "duration": 647,
    "start_time": "2022-08-10T23:01:12.633Z"
   },
   {
    "duration": 34,
    "start_time": "2022-08-10T23:06:19.574Z"
   },
   {
    "duration": 5,
    "start_time": "2022-08-10T23:06:58.027Z"
   },
   {
    "duration": 5,
    "start_time": "2022-08-10T23:07:00.851Z"
   },
   {
    "duration": 31,
    "start_time": "2022-08-10T23:07:07.250Z"
   },
   {
    "duration": 26,
    "start_time": "2022-08-10T23:07:58.446Z"
   },
   {
    "duration": 29,
    "start_time": "2022-08-10T23:10:05.699Z"
   },
   {
    "duration": 28,
    "start_time": "2022-08-10T23:10:35.695Z"
   },
   {
    "duration": 5,
    "start_time": "2022-08-10T23:12:04.771Z"
   },
   {
    "duration": 1219,
    "start_time": "2022-08-10T23:14:26.650Z"
   },
   {
    "duration": 9,
    "start_time": "2022-08-10T23:14:52.595Z"
   },
   {
    "duration": 10,
    "start_time": "2022-08-10T23:18:38.945Z"
   },
   {
    "duration": 9,
    "start_time": "2022-08-10T23:18:46.837Z"
   },
   {
    "duration": 6,
    "start_time": "2022-08-10T23:18:59.839Z"
   },
   {
    "duration": 5,
    "start_time": "2022-08-10T23:21:53.280Z"
   },
   {
    "duration": 130,
    "start_time": "2022-08-10T23:25:03.969Z"
   },
   {
    "duration": 33,
    "start_time": "2022-08-10T23:25:25.782Z"
   },
   {
    "duration": 13,
    "start_time": "2022-08-10T23:25:54.445Z"
   },
   {
    "duration": 9,
    "start_time": "2022-08-10T23:26:17.272Z"
   },
   {
    "duration": 124,
    "start_time": "2022-08-10T23:26:33.403Z"
   },
   {
    "duration": 122,
    "start_time": "2022-08-10T23:28:03.210Z"
   },
   {
    "duration": 132,
    "start_time": "2022-08-10T23:28:45.923Z"
   },
   {
    "duration": 55,
    "start_time": "2022-08-10T23:29:25.713Z"
   },
   {
    "duration": 134,
    "start_time": "2022-08-10T23:31:14.123Z"
   },
   {
    "duration": 114,
    "start_time": "2022-08-10T23:33:44.833Z"
   },
   {
    "duration": 209,
    "start_time": "2022-08-10T23:34:35.683Z"
   },
   {
    "duration": 802,
    "start_time": "2022-08-11T07:08:15.078Z"
   },
   {
    "duration": 12,
    "start_time": "2022-08-11T07:08:15.882Z"
   },
   {
    "duration": 31,
    "start_time": "2022-08-11T07:08:15.896Z"
   },
   {
    "duration": 58,
    "start_time": "2022-08-11T07:08:15.929Z"
   },
   {
    "duration": 13,
    "start_time": "2022-08-11T07:08:15.988Z"
   },
   {
    "duration": 30,
    "start_time": "2022-08-11T07:08:16.003Z"
   },
   {
    "duration": 23,
    "start_time": "2022-08-11T07:08:16.035Z"
   },
   {
    "duration": 23,
    "start_time": "2022-08-11T07:08:16.059Z"
   },
   {
    "duration": 12,
    "start_time": "2022-08-11T07:08:16.084Z"
   },
   {
    "duration": 11,
    "start_time": "2022-08-11T07:08:16.099Z"
   },
   {
    "duration": 31,
    "start_time": "2022-08-11T07:08:16.112Z"
   },
   {
    "duration": 25,
    "start_time": "2022-08-11T07:08:16.146Z"
   },
   {
    "duration": 11,
    "start_time": "2022-08-11T07:08:16.174Z"
   },
   {
    "duration": 54,
    "start_time": "2022-08-11T07:08:16.187Z"
   },
   {
    "duration": 16,
    "start_time": "2022-08-11T07:08:16.243Z"
   },
   {
    "duration": 15,
    "start_time": "2022-08-11T07:08:16.262Z"
   },
   {
    "duration": 12,
    "start_time": "2022-08-11T07:08:16.279Z"
   },
   {
    "duration": 9,
    "start_time": "2022-08-11T07:08:16.293Z"
   },
   {
    "duration": 18,
    "start_time": "2022-08-11T07:08:16.304Z"
   },
   {
    "duration": 30,
    "start_time": "2022-08-11T07:08:16.323Z"
   },
   {
    "duration": 8,
    "start_time": "2022-08-11T07:08:16.355Z"
   },
   {
    "duration": 25,
    "start_time": "2022-08-11T07:08:16.365Z"
   },
   {
    "duration": 27,
    "start_time": "2022-08-11T07:08:16.392Z"
   },
   {
    "duration": 38,
    "start_time": "2022-08-11T07:08:16.421Z"
   },
   {
    "duration": 35,
    "start_time": "2022-08-11T07:08:16.461Z"
   },
   {
    "duration": 661,
    "start_time": "2022-08-11T07:08:16.498Z"
   },
   {
    "duration": 10,
    "start_time": "2022-08-11T07:08:17.168Z"
   },
   {
    "duration": 797,
    "start_time": "2022-08-11T07:08:17.181Z"
   },
   {
    "duration": 34,
    "start_time": "2022-08-11T07:08:17.979Z"
   },
   {
    "duration": 6,
    "start_time": "2022-08-11T07:08:18.015Z"
   },
   {
    "duration": 52,
    "start_time": "2022-08-11T07:08:18.023Z"
   },
   {
    "duration": 77,
    "start_time": "2022-08-11T07:08:18.077Z"
   },
   {
    "duration": 13,
    "start_time": "2022-08-11T07:08:18.156Z"
   },
   {
    "duration": 231,
    "start_time": "2022-08-11T07:08:18.171Z"
   },
   {
    "duration": 175,
    "start_time": "2022-08-11T07:08:18.404Z"
   },
   {
    "duration": 158,
    "start_time": "2022-08-11T07:08:18.581Z"
   },
   {
    "duration": 189,
    "start_time": "2022-08-11T07:08:18.741Z"
   },
   {
    "duration": 67,
    "start_time": "2022-08-11T10:12:11.808Z"
   },
   {
    "duration": 713,
    "start_time": "2022-08-11T10:12:18.124Z"
   },
   {
    "duration": 14,
    "start_time": "2022-08-11T10:12:18.839Z"
   },
   {
    "duration": 22,
    "start_time": "2022-08-11T10:12:18.855Z"
   },
   {
    "duration": 22,
    "start_time": "2022-08-11T10:12:18.879Z"
   },
   {
    "duration": 9,
    "start_time": "2022-08-11T10:12:18.905Z"
   },
   {
    "duration": 16,
    "start_time": "2022-08-11T10:12:18.916Z"
   },
   {
    "duration": 7,
    "start_time": "2022-08-11T10:12:18.933Z"
   },
   {
    "duration": 13,
    "start_time": "2022-08-11T10:12:18.941Z"
   },
   {
    "duration": 10,
    "start_time": "2022-08-11T10:12:18.956Z"
   },
   {
    "duration": 10,
    "start_time": "2022-08-11T10:12:18.998Z"
   },
   {
    "duration": 23,
    "start_time": "2022-08-11T10:12:19.009Z"
   },
   {
    "duration": 10,
    "start_time": "2022-08-11T10:12:19.033Z"
   },
   {
    "duration": 16,
    "start_time": "2022-08-11T10:12:19.045Z"
   },
   {
    "duration": 35,
    "start_time": "2022-08-11T10:12:19.064Z"
   },
   {
    "duration": 5,
    "start_time": "2022-08-11T10:12:19.101Z"
   },
   {
    "duration": 9,
    "start_time": "2022-08-11T10:12:19.108Z"
   },
   {
    "duration": 7,
    "start_time": "2022-08-11T10:12:19.119Z"
   },
   {
    "duration": 7,
    "start_time": "2022-08-11T10:12:19.128Z"
   },
   {
    "duration": 12,
    "start_time": "2022-08-11T10:12:19.137Z"
   },
   {
    "duration": 8,
    "start_time": "2022-08-11T10:12:19.151Z"
   },
   {
    "duration": 37,
    "start_time": "2022-08-11T10:12:19.161Z"
   },
   {
    "duration": 9,
    "start_time": "2022-08-11T10:12:19.200Z"
   },
   {
    "duration": 19,
    "start_time": "2022-08-11T10:12:19.210Z"
   },
   {
    "duration": 41,
    "start_time": "2022-08-11T10:12:19.230Z"
   },
   {
    "duration": 35,
    "start_time": "2022-08-11T10:12:19.273Z"
   },
   {
    "duration": 572,
    "start_time": "2022-08-11T10:12:19.311Z"
   },
   {
    "duration": 15,
    "start_time": "2022-08-11T10:12:19.885Z"
   },
   {
    "duration": 102,
    "start_time": "2022-08-11T10:12:19.902Z"
   },
   {
    "duration": 0,
    "start_time": "2022-08-11T10:12:20.006Z"
   },
   {
    "duration": 0,
    "start_time": "2022-08-11T10:12:20.007Z"
   },
   {
    "duration": 0,
    "start_time": "2022-08-11T10:12:20.007Z"
   },
   {
    "duration": 0,
    "start_time": "2022-08-11T10:12:20.008Z"
   },
   {
    "duration": 0,
    "start_time": "2022-08-11T10:12:20.009Z"
   },
   {
    "duration": 0,
    "start_time": "2022-08-11T10:12:20.010Z"
   },
   {
    "duration": 0,
    "start_time": "2022-08-11T10:12:20.011Z"
   },
   {
    "duration": 0,
    "start_time": "2022-08-11T10:12:20.012Z"
   },
   {
    "duration": 0,
    "start_time": "2022-08-11T10:12:20.014Z"
   },
   {
    "duration": 52,
    "start_time": "2022-08-11T10:13:52.720Z"
   },
   {
    "duration": 34,
    "start_time": "2022-08-11T10:16:03.529Z"
   },
   {
    "duration": 834,
    "start_time": "2022-08-11T10:17:21.727Z"
   },
   {
    "duration": 52,
    "start_time": "2022-08-11T12:17:19.630Z"
   },
   {
    "duration": 699,
    "start_time": "2022-08-11T12:17:26.858Z"
   },
   {
    "duration": 12,
    "start_time": "2022-08-11T12:17:27.560Z"
   },
   {
    "duration": 20,
    "start_time": "2022-08-11T12:17:27.573Z"
   },
   {
    "duration": 41,
    "start_time": "2022-08-11T12:17:27.596Z"
   },
   {
    "duration": 12,
    "start_time": "2022-08-11T12:17:27.639Z"
   },
   {
    "duration": 20,
    "start_time": "2022-08-11T12:17:27.653Z"
   },
   {
    "duration": 13,
    "start_time": "2022-08-11T12:17:27.674Z"
   },
   {
    "duration": 31,
    "start_time": "2022-08-11T12:17:27.689Z"
   },
   {
    "duration": 22,
    "start_time": "2022-08-11T12:17:27.722Z"
   },
   {
    "duration": 30,
    "start_time": "2022-08-11T12:17:27.747Z"
   },
   {
    "duration": 35,
    "start_time": "2022-08-11T12:17:27.779Z"
   },
   {
    "duration": 22,
    "start_time": "2022-08-11T12:17:27.816Z"
   },
   {
    "duration": 18,
    "start_time": "2022-08-11T12:17:27.840Z"
   },
   {
    "duration": 9,
    "start_time": "2022-08-11T12:17:27.859Z"
   },
   {
    "duration": 9,
    "start_time": "2022-08-11T12:17:27.869Z"
   },
   {
    "duration": 22,
    "start_time": "2022-08-11T12:17:27.880Z"
   },
   {
    "duration": 32,
    "start_time": "2022-08-11T12:17:27.905Z"
   },
   {
    "duration": 23,
    "start_time": "2022-08-11T12:17:27.940Z"
   },
   {
    "duration": 13,
    "start_time": "2022-08-11T12:17:27.966Z"
   },
   {
    "duration": 11,
    "start_time": "2022-08-11T12:17:27.981Z"
   },
   {
    "duration": 26,
    "start_time": "2022-08-11T12:17:27.994Z"
   },
   {
    "duration": 29,
    "start_time": "2022-08-11T12:17:28.022Z"
   },
   {
    "duration": 27,
    "start_time": "2022-08-11T12:17:28.053Z"
   },
   {
    "duration": 48,
    "start_time": "2022-08-11T12:17:28.083Z"
   },
   {
    "duration": 31,
    "start_time": "2022-08-11T12:17:28.132Z"
   },
   {
    "duration": 701,
    "start_time": "2022-08-11T12:17:28.165Z"
   },
   {
    "duration": 14,
    "start_time": "2022-08-11T12:17:28.869Z"
   },
   {
    "duration": 988,
    "start_time": "2022-08-11T12:17:28.888Z"
   },
   {
    "duration": 54,
    "start_time": "2022-08-11T12:17:29.877Z"
   },
   {
    "duration": 6,
    "start_time": "2022-08-11T12:17:29.933Z"
   },
   {
    "duration": 12,
    "start_time": "2022-08-11T12:17:29.941Z"
   },
   {
    "duration": 6,
    "start_time": "2022-08-11T12:17:29.955Z"
   },
   {
    "duration": 12,
    "start_time": "2022-08-11T12:17:29.963Z"
   },
   {
    "duration": 256,
    "start_time": "2022-08-11T12:17:30.002Z"
   },
   {
    "duration": 193,
    "start_time": "2022-08-11T12:17:30.260Z"
   },
   {
    "duration": 165,
    "start_time": "2022-08-11T12:17:30.455Z"
   },
   {
    "duration": 196,
    "start_time": "2022-08-11T12:17:30.622Z"
   },
   {
    "duration": 177,
    "start_time": "2022-08-11T12:17:30.820Z"
   },
   {
    "duration": 170,
    "start_time": "2022-08-11T12:17:52.468Z"
   },
   {
    "duration": 533,
    "start_time": "2022-08-11T12:21:42.542Z"
   },
   {
    "duration": 14,
    "start_time": "2022-08-11T12:21:43.078Z"
   },
   {
    "duration": 40,
    "start_time": "2022-08-11T12:21:43.094Z"
   },
   {
    "duration": 54,
    "start_time": "2022-08-11T12:21:43.136Z"
   },
   {
    "duration": 37,
    "start_time": "2022-08-11T12:21:43.193Z"
   },
   {
    "duration": 17,
    "start_time": "2022-08-11T12:21:43.232Z"
   },
   {
    "duration": 9,
    "start_time": "2022-08-11T12:21:43.251Z"
   },
   {
    "duration": 28,
    "start_time": "2022-08-11T12:21:43.262Z"
   },
   {
    "duration": 16,
    "start_time": "2022-08-11T12:21:43.292Z"
   },
   {
    "duration": 13,
    "start_time": "2022-08-11T12:21:43.310Z"
   },
   {
    "duration": 30,
    "start_time": "2022-08-11T12:21:43.325Z"
   },
   {
    "duration": 11,
    "start_time": "2022-08-11T12:21:43.357Z"
   },
   {
    "duration": 42,
    "start_time": "2022-08-11T12:21:43.370Z"
   },
   {
    "duration": 9,
    "start_time": "2022-08-11T12:21:43.415Z"
   },
   {
    "duration": 22,
    "start_time": "2022-08-11T12:21:43.426Z"
   },
   {
    "duration": 13,
    "start_time": "2022-08-11T12:21:43.450Z"
   },
   {
    "duration": 12,
    "start_time": "2022-08-11T12:21:43.464Z"
   },
   {
    "duration": 26,
    "start_time": "2022-08-11T12:21:43.478Z"
   },
   {
    "duration": 73,
    "start_time": "2022-08-11T12:23:05.766Z"
   },
   {
    "duration": 599,
    "start_time": "2022-08-11T12:23:05.884Z"
   },
   {
    "duration": 14,
    "start_time": "2022-08-11T12:23:06.485Z"
   },
   {
    "duration": 45,
    "start_time": "2022-08-11T12:23:06.501Z"
   },
   {
    "duration": 31,
    "start_time": "2022-08-11T12:23:06.548Z"
   },
   {
    "duration": 19,
    "start_time": "2022-08-11T12:23:06.582Z"
   },
   {
    "duration": 39,
    "start_time": "2022-08-11T12:23:06.606Z"
   },
   {
    "duration": 23,
    "start_time": "2022-08-11T12:23:06.647Z"
   },
   {
    "duration": 20,
    "start_time": "2022-08-11T12:23:06.672Z"
   },
   {
    "duration": 30,
    "start_time": "2022-08-11T12:23:06.694Z"
   },
   {
    "duration": 16,
    "start_time": "2022-08-11T12:23:06.726Z"
   },
   {
    "duration": 21,
    "start_time": "2022-08-11T12:23:06.743Z"
   },
   {
    "duration": 12,
    "start_time": "2022-08-11T12:23:06.766Z"
   },
   {
    "duration": 31,
    "start_time": "2022-08-11T12:23:06.780Z"
   },
   {
    "duration": 18,
    "start_time": "2022-08-11T12:23:06.815Z"
   },
   {
    "duration": 8,
    "start_time": "2022-08-11T12:23:06.835Z"
   },
   {
    "duration": 18,
    "start_time": "2022-08-11T12:23:06.845Z"
   },
   {
    "duration": 7,
    "start_time": "2022-08-11T12:23:06.866Z"
   },
   {
    "duration": 39,
    "start_time": "2022-08-11T12:23:06.876Z"
   },
   {
    "duration": 16,
    "start_time": "2022-08-11T12:23:06.917Z"
   },
   {
    "duration": 11,
    "start_time": "2022-08-11T12:23:06.935Z"
   },
   {
    "duration": 13,
    "start_time": "2022-08-11T12:23:06.949Z"
   },
   {
    "duration": 13,
    "start_time": "2022-08-11T12:23:06.964Z"
   },
   {
    "duration": 14,
    "start_time": "2022-08-11T12:23:06.979Z"
   },
   {
    "duration": 58,
    "start_time": "2022-08-11T12:23:07.007Z"
   },
   {
    "duration": 50,
    "start_time": "2022-08-11T12:23:07.067Z"
   },
   {
    "duration": 529,
    "start_time": "2022-08-11T12:23:07.120Z"
   },
   {
    "duration": 12,
    "start_time": "2022-08-11T12:23:07.651Z"
   },
   {
    "duration": 957,
    "start_time": "2022-08-11T12:23:07.665Z"
   },
   {
    "duration": 36,
    "start_time": "2022-08-11T12:23:08.624Z"
   },
   {
    "duration": 8,
    "start_time": "2022-08-11T12:23:08.662Z"
   },
   {
    "duration": 43,
    "start_time": "2022-08-11T12:23:08.672Z"
   },
   {
    "duration": 7,
    "start_time": "2022-08-11T12:23:08.719Z"
   },
   {
    "duration": 11,
    "start_time": "2022-08-11T12:23:08.728Z"
   },
   {
    "duration": 283,
    "start_time": "2022-08-11T12:23:08.741Z"
   },
   {
    "duration": 235,
    "start_time": "2022-08-11T12:23:09.027Z"
   },
   {
    "duration": 169,
    "start_time": "2022-08-11T12:23:09.264Z"
   },
   {
    "duration": 186,
    "start_time": "2022-08-11T12:23:09.436Z"
   },
   {
    "duration": 962,
    "start_time": "2022-08-11T12:23:09.624Z"
   },
   {
    "duration": 872,
    "start_time": "2022-08-11T12:24:32.265Z"
   },
   {
    "duration": 608,
    "start_time": "2022-08-11T12:24:46.584Z"
   },
   {
    "duration": 18,
    "start_time": "2022-08-11T12:24:47.195Z"
   },
   {
    "duration": 32,
    "start_time": "2022-08-11T12:24:47.216Z"
   },
   {
    "duration": 27,
    "start_time": "2022-08-11T12:24:47.251Z"
   },
   {
    "duration": 20,
    "start_time": "2022-08-11T12:24:47.281Z"
   },
   {
    "duration": 47,
    "start_time": "2022-08-11T12:24:47.306Z"
   },
   {
    "duration": 11,
    "start_time": "2022-08-11T12:24:47.355Z"
   },
   {
    "duration": 29,
    "start_time": "2022-08-11T12:24:47.369Z"
   },
   {
    "duration": 25,
    "start_time": "2022-08-11T12:24:47.401Z"
   },
   {
    "duration": 22,
    "start_time": "2022-08-11T12:24:47.429Z"
   },
   {
    "duration": 57,
    "start_time": "2022-08-11T12:24:47.453Z"
   },
   {
    "duration": 16,
    "start_time": "2022-08-11T12:24:47.512Z"
   },
   {
    "duration": 15,
    "start_time": "2022-08-11T12:24:47.532Z"
   },
   {
    "duration": 22,
    "start_time": "2022-08-11T12:24:47.549Z"
   },
   {
    "duration": 6,
    "start_time": "2022-08-11T12:24:47.573Z"
   },
   {
    "duration": 33,
    "start_time": "2022-08-11T12:24:47.581Z"
   },
   {
    "duration": 19,
    "start_time": "2022-08-11T12:24:47.616Z"
   },
   {
    "duration": 7,
    "start_time": "2022-08-11T12:24:47.637Z"
   },
   {
    "duration": 12,
    "start_time": "2022-08-11T12:24:47.646Z"
   },
   {
    "duration": 12,
    "start_time": "2022-08-11T12:24:47.660Z"
   },
   {
    "duration": 8,
    "start_time": "2022-08-11T12:24:47.674Z"
   },
   {
    "duration": 13,
    "start_time": "2022-08-11T12:24:47.703Z"
   },
   {
    "duration": 36,
    "start_time": "2022-08-11T12:24:47.718Z"
   },
   {
    "duration": 49,
    "start_time": "2022-08-11T12:24:47.756Z"
   },
   {
    "duration": 46,
    "start_time": "2022-08-11T12:24:47.807Z"
   },
   {
    "duration": 505,
    "start_time": "2022-08-11T12:24:47.856Z"
   },
   {
    "duration": 12,
    "start_time": "2022-08-11T12:24:48.363Z"
   },
   {
    "duration": 1023,
    "start_time": "2022-08-11T12:24:48.378Z"
   },
   {
    "duration": 54,
    "start_time": "2022-08-11T12:24:49.408Z"
   },
   {
    "duration": 8,
    "start_time": "2022-08-11T12:24:49.464Z"
   },
   {
    "duration": 33,
    "start_time": "2022-08-11T12:24:49.474Z"
   },
   {
    "duration": 10,
    "start_time": "2022-08-11T12:24:49.509Z"
   },
   {
    "duration": 17,
    "start_time": "2022-08-11T12:24:49.521Z"
   },
   {
    "duration": 222,
    "start_time": "2022-08-11T12:24:49.540Z"
   },
   {
    "duration": 277,
    "start_time": "2022-08-11T12:24:49.766Z"
   },
   {
    "duration": 182,
    "start_time": "2022-08-11T12:24:50.045Z"
   },
   {
    "duration": 200,
    "start_time": "2022-08-11T12:24:50.229Z"
   },
   {
    "duration": 962,
    "start_time": "2022-08-11T12:24:50.432Z"
   },
   {
    "duration": 116,
    "start_time": "2022-08-11T12:25:35.228Z"
   },
   {
    "duration": 604,
    "start_time": "2022-08-11T12:25:55.089Z"
   },
   {
    "duration": 23,
    "start_time": "2022-08-11T12:25:55.696Z"
   },
   {
    "duration": 29,
    "start_time": "2022-08-11T12:25:55.725Z"
   },
   {
    "duration": 31,
    "start_time": "2022-08-11T12:25:55.757Z"
   },
   {
    "duration": 20,
    "start_time": "2022-08-11T12:25:55.790Z"
   },
   {
    "duration": 38,
    "start_time": "2022-08-11T12:25:55.812Z"
   },
   {
    "duration": 19,
    "start_time": "2022-08-11T12:25:55.852Z"
   },
   {
    "duration": 17,
    "start_time": "2022-08-11T12:25:55.873Z"
   },
   {
    "duration": 22,
    "start_time": "2022-08-11T12:25:55.892Z"
   },
   {
    "duration": 18,
    "start_time": "2022-08-11T12:25:55.920Z"
   },
   {
    "duration": 31,
    "start_time": "2022-08-11T12:25:55.940Z"
   },
   {
    "duration": 18,
    "start_time": "2022-08-11T12:25:55.973Z"
   },
   {
    "duration": 12,
    "start_time": "2022-08-11T12:25:56.005Z"
   },
   {
    "duration": 18,
    "start_time": "2022-08-11T12:25:56.020Z"
   },
   {
    "duration": 6,
    "start_time": "2022-08-11T12:25:56.041Z"
   },
   {
    "duration": 12,
    "start_time": "2022-08-11T12:25:56.050Z"
   },
   {
    "duration": 11,
    "start_time": "2022-08-11T12:25:56.064Z"
   },
   {
    "duration": 9,
    "start_time": "2022-08-11T12:25:56.103Z"
   },
   {
    "duration": 11,
    "start_time": "2022-08-11T12:25:56.114Z"
   },
   {
    "duration": 14,
    "start_time": "2022-08-11T12:25:56.128Z"
   },
   {
    "duration": 7,
    "start_time": "2022-08-11T12:25:56.145Z"
   },
   {
    "duration": 16,
    "start_time": "2022-08-11T12:25:56.153Z"
   },
   {
    "duration": 59,
    "start_time": "2022-08-11T12:25:56.171Z"
   },
   {
    "duration": 40,
    "start_time": "2022-08-11T12:25:56.232Z"
   },
   {
    "duration": 39,
    "start_time": "2022-08-11T12:25:56.275Z"
   },
   {
    "duration": 494,
    "start_time": "2022-08-11T12:25:56.320Z"
   },
   {
    "duration": 15,
    "start_time": "2022-08-11T12:25:56.815Z"
   },
   {
    "duration": 953,
    "start_time": "2022-08-11T12:25:56.832Z"
   },
   {
    "duration": 56,
    "start_time": "2022-08-11T12:25:57.787Z"
   },
   {
    "duration": 8,
    "start_time": "2022-08-11T12:25:57.845Z"
   },
   {
    "duration": 13,
    "start_time": "2022-08-11T12:25:57.855Z"
   },
   {
    "duration": 52,
    "start_time": "2022-08-11T12:25:57.870Z"
   },
   {
    "duration": 9,
    "start_time": "2022-08-11T12:25:57.924Z"
   },
   {
    "duration": 219,
    "start_time": "2022-08-11T12:25:57.936Z"
   },
   {
    "duration": 178,
    "start_time": "2022-08-11T12:25:58.157Z"
   },
   {
    "duration": 185,
    "start_time": "2022-08-11T12:25:58.337Z"
   },
   {
    "duration": 187,
    "start_time": "2022-08-11T12:25:58.525Z"
   },
   {
    "duration": 123,
    "start_time": "2022-08-11T12:25:58.714Z"
   },
   {
    "duration": 872,
    "start_time": "2022-08-11T12:27:52.886Z"
   },
   {
    "duration": 585,
    "start_time": "2022-08-11T12:28:04.276Z"
   },
   {
    "duration": 13,
    "start_time": "2022-08-11T12:28:04.863Z"
   },
   {
    "duration": 20,
    "start_time": "2022-08-11T12:28:04.878Z"
   },
   {
    "duration": 23,
    "start_time": "2022-08-11T12:28:04.901Z"
   },
   {
    "duration": 13,
    "start_time": "2022-08-11T12:28:04.925Z"
   },
   {
    "duration": 16,
    "start_time": "2022-08-11T12:28:04.940Z"
   },
   {
    "duration": 8,
    "start_time": "2022-08-11T12:28:04.958Z"
   },
   {
    "duration": 44,
    "start_time": "2022-08-11T12:28:04.968Z"
   },
   {
    "duration": 11,
    "start_time": "2022-08-11T12:28:05.013Z"
   },
   {
    "duration": 12,
    "start_time": "2022-08-11T12:28:05.028Z"
   },
   {
    "duration": 22,
    "start_time": "2022-08-11T12:28:05.041Z"
   },
   {
    "duration": 43,
    "start_time": "2022-08-11T12:28:05.065Z"
   },
   {
    "duration": 10,
    "start_time": "2022-08-11T12:28:05.110Z"
   },
   {
    "duration": 9,
    "start_time": "2022-08-11T12:28:05.122Z"
   },
   {
    "duration": 9,
    "start_time": "2022-08-11T12:28:05.133Z"
   },
   {
    "duration": 13,
    "start_time": "2022-08-11T12:28:05.144Z"
   },
   {
    "duration": 9,
    "start_time": "2022-08-11T12:28:05.159Z"
   },
   {
    "duration": 5,
    "start_time": "2022-08-11T12:28:05.203Z"
   },
   {
    "duration": 10,
    "start_time": "2022-08-11T12:28:05.210Z"
   },
   {
    "duration": 13,
    "start_time": "2022-08-11T12:28:05.222Z"
   },
   {
    "duration": 5,
    "start_time": "2022-08-11T12:28:05.237Z"
   },
   {
    "duration": 18,
    "start_time": "2022-08-11T12:28:05.244Z"
   },
   {
    "duration": 15,
    "start_time": "2022-08-11T12:28:05.264Z"
   },
   {
    "duration": 57,
    "start_time": "2022-08-11T12:28:05.281Z"
   },
   {
    "duration": 31,
    "start_time": "2022-08-11T12:28:05.340Z"
   },
   {
    "duration": 479,
    "start_time": "2022-08-11T12:28:05.373Z"
   },
   {
    "duration": 11,
    "start_time": "2022-08-11T12:28:05.854Z"
   },
   {
    "duration": 897,
    "start_time": "2022-08-11T12:28:05.869Z"
   },
   {
    "duration": 47,
    "start_time": "2022-08-11T12:28:06.767Z"
   },
   {
    "duration": 6,
    "start_time": "2022-08-11T12:28:06.815Z"
   },
   {
    "duration": 15,
    "start_time": "2022-08-11T12:28:06.823Z"
   },
   {
    "duration": 11,
    "start_time": "2022-08-11T12:28:06.841Z"
   },
   {
    "duration": 10,
    "start_time": "2022-08-11T12:28:06.854Z"
   },
   {
    "duration": 178,
    "start_time": "2022-08-11T12:28:06.866Z"
   },
   {
    "duration": 239,
    "start_time": "2022-08-11T12:28:07.046Z"
   },
   {
    "duration": 160,
    "start_time": "2022-08-11T12:28:07.287Z"
   },
   {
    "duration": 183,
    "start_time": "2022-08-11T12:28:07.450Z"
   },
   {
    "duration": 886,
    "start_time": "2022-08-11T12:28:07.635Z"
   },
   {
    "duration": 891,
    "start_time": "2022-08-11T12:28:41.929Z"
   },
   {
    "duration": 1073,
    "start_time": "2022-08-11T12:29:42.531Z"
   },
   {
    "duration": 537,
    "start_time": "2022-08-11T12:30:07.352Z"
   },
   {
    "duration": 20,
    "start_time": "2022-08-11T12:30:07.891Z"
   },
   {
    "duration": 24,
    "start_time": "2022-08-11T12:30:07.913Z"
   },
   {
    "duration": 24,
    "start_time": "2022-08-11T12:30:07.940Z"
   },
   {
    "duration": 12,
    "start_time": "2022-08-11T12:30:07.966Z"
   },
   {
    "duration": 33,
    "start_time": "2022-08-11T12:30:07.980Z"
   },
   {
    "duration": 10,
    "start_time": "2022-08-11T12:30:08.015Z"
   },
   {
    "duration": 19,
    "start_time": "2022-08-11T12:30:08.027Z"
   },
   {
    "duration": 10,
    "start_time": "2022-08-11T12:30:08.048Z"
   },
   {
    "duration": 10,
    "start_time": "2022-08-11T12:30:08.061Z"
   },
   {
    "duration": 24,
    "start_time": "2022-08-11T12:30:08.107Z"
   },
   {
    "duration": 13,
    "start_time": "2022-08-11T12:30:08.137Z"
   },
   {
    "duration": 11,
    "start_time": "2022-08-11T12:30:08.152Z"
   },
   {
    "duration": 10,
    "start_time": "2022-08-11T12:30:08.165Z"
   },
   {
    "duration": 37,
    "start_time": "2022-08-11T12:30:08.176Z"
   },
   {
    "duration": 15,
    "start_time": "2022-08-11T12:30:08.217Z"
   },
   {
    "duration": 7,
    "start_time": "2022-08-11T12:30:08.234Z"
   },
   {
    "duration": 6,
    "start_time": "2022-08-11T12:30:08.243Z"
   },
   {
    "duration": 15,
    "start_time": "2022-08-11T12:30:08.251Z"
   },
   {
    "duration": 9,
    "start_time": "2022-08-11T12:30:08.268Z"
   },
   {
    "duration": 13,
    "start_time": "2022-08-11T12:30:08.302Z"
   },
   {
    "duration": 16,
    "start_time": "2022-08-11T12:30:08.317Z"
   },
   {
    "duration": 12,
    "start_time": "2022-08-11T12:30:08.335Z"
   },
   {
    "duration": 45,
    "start_time": "2022-08-11T12:30:08.349Z"
   },
   {
    "duration": 39,
    "start_time": "2022-08-11T12:30:08.402Z"
   },
   {
    "duration": 487,
    "start_time": "2022-08-11T12:30:08.443Z"
   },
   {
    "duration": 12,
    "start_time": "2022-08-11T12:30:08.932Z"
   },
   {
    "duration": 979,
    "start_time": "2022-08-11T12:30:08.949Z"
   },
   {
    "duration": 35,
    "start_time": "2022-08-11T12:30:09.930Z"
   },
   {
    "duration": 8,
    "start_time": "2022-08-11T12:30:09.967Z"
   },
   {
    "duration": 41,
    "start_time": "2022-08-11T12:30:09.976Z"
   },
   {
    "duration": 15,
    "start_time": "2022-08-11T12:30:10.019Z"
   },
   {
    "duration": 12,
    "start_time": "2022-08-11T12:30:10.035Z"
   },
   {
    "duration": 146,
    "start_time": "2022-08-11T12:30:10.049Z"
   },
   {
    "duration": 248,
    "start_time": "2022-08-11T12:30:10.197Z"
   },
   {
    "duration": 150,
    "start_time": "2022-08-11T12:30:10.447Z"
   },
   {
    "duration": 176,
    "start_time": "2022-08-11T12:30:10.603Z"
   },
   {
    "duration": 883,
    "start_time": "2022-08-11T12:30:10.781Z"
   },
   {
    "duration": 20,
    "start_time": "2022-08-11T12:40:23.621Z"
   },
   {
    "duration": 547,
    "start_time": "2022-08-11T12:40:44.214Z"
   },
   {
    "duration": 11,
    "start_time": "2022-08-11T12:40:44.763Z"
   },
   {
    "duration": 17,
    "start_time": "2022-08-11T12:40:44.777Z"
   },
   {
    "duration": 25,
    "start_time": "2022-08-11T12:40:44.797Z"
   },
   {
    "duration": 11,
    "start_time": "2022-08-11T12:40:44.824Z"
   },
   {
    "duration": 15,
    "start_time": "2022-08-11T12:40:44.837Z"
   },
   {
    "duration": 11,
    "start_time": "2022-08-11T12:40:44.853Z"
   },
   {
    "duration": 16,
    "start_time": "2022-08-11T12:40:44.866Z"
   },
   {
    "duration": 30,
    "start_time": "2022-08-11T12:40:44.884Z"
   },
   {
    "duration": 11,
    "start_time": "2022-08-11T12:40:44.917Z"
   },
   {
    "duration": 20,
    "start_time": "2022-08-11T12:40:44.930Z"
   },
   {
    "duration": 13,
    "start_time": "2022-08-11T12:40:44.951Z"
   },
   {
    "duration": 41,
    "start_time": "2022-08-11T12:40:44.966Z"
   },
   {
    "duration": 9,
    "start_time": "2022-08-11T12:40:45.009Z"
   },
   {
    "duration": 17,
    "start_time": "2022-08-11T12:40:45.020Z"
   },
   {
    "duration": 31,
    "start_time": "2022-08-11T12:40:45.039Z"
   },
   {
    "duration": 22,
    "start_time": "2022-08-11T12:40:45.072Z"
   },
   {
    "duration": 7,
    "start_time": "2022-08-11T12:40:45.096Z"
   },
   {
    "duration": 10,
    "start_time": "2022-08-11T12:40:45.105Z"
   },
   {
    "duration": 9,
    "start_time": "2022-08-11T12:40:45.117Z"
   },
   {
    "duration": 7,
    "start_time": "2022-08-11T12:40:45.128Z"
   },
   {
    "duration": 10,
    "start_time": "2022-08-11T12:40:45.137Z"
   },
   {
    "duration": 13,
    "start_time": "2022-08-11T12:40:45.149Z"
   },
   {
    "duration": 62,
    "start_time": "2022-08-11T12:40:45.164Z"
   },
   {
    "duration": 29,
    "start_time": "2022-08-11T12:40:45.227Z"
   },
   {
    "duration": 463,
    "start_time": "2022-08-11T12:40:45.258Z"
   },
   {
    "duration": 11,
    "start_time": "2022-08-11T12:40:45.723Z"
   },
   {
    "duration": 883,
    "start_time": "2022-08-11T12:40:45.739Z"
   },
   {
    "duration": 33,
    "start_time": "2022-08-11T12:40:46.624Z"
   },
   {
    "duration": 11,
    "start_time": "2022-08-11T12:40:46.658Z"
   },
   {
    "duration": 9,
    "start_time": "2022-08-11T12:40:46.671Z"
   },
   {
    "duration": 7,
    "start_time": "2022-08-11T12:40:46.702Z"
   },
   {
    "duration": 7,
    "start_time": "2022-08-11T12:40:46.711Z"
   },
   {
    "duration": 158,
    "start_time": "2022-08-11T12:40:46.719Z"
   },
   {
    "duration": 225,
    "start_time": "2022-08-11T12:40:46.879Z"
   },
   {
    "duration": 157,
    "start_time": "2022-08-11T12:40:47.106Z"
   },
   {
    "duration": 170,
    "start_time": "2022-08-11T12:40:47.265Z"
   },
   {
    "duration": 21,
    "start_time": "2022-08-11T12:40:47.437Z"
   },
   {
    "duration": 17,
    "start_time": "2022-08-11T12:42:13.255Z"
   },
   {
    "duration": 26,
    "start_time": "2022-08-11T12:45:22.723Z"
   },
   {
    "duration": 921,
    "start_time": "2022-08-11T19:02:05.913Z"
   },
   {
    "duration": 11,
    "start_time": "2022-08-11T19:02:06.836Z"
   },
   {
    "duration": 20,
    "start_time": "2022-08-11T19:02:06.849Z"
   },
   {
    "duration": 20,
    "start_time": "2022-08-11T19:02:06.872Z"
   },
   {
    "duration": 23,
    "start_time": "2022-08-11T19:02:06.894Z"
   },
   {
    "duration": 20,
    "start_time": "2022-08-11T19:02:06.919Z"
   },
   {
    "duration": 6,
    "start_time": "2022-08-11T19:02:06.941Z"
   },
   {
    "duration": 12,
    "start_time": "2022-08-11T19:02:06.949Z"
   },
   {
    "duration": 8,
    "start_time": "2022-08-11T19:02:06.962Z"
   },
   {
    "duration": 38,
    "start_time": "2022-08-11T19:02:06.971Z"
   },
   {
    "duration": 20,
    "start_time": "2022-08-11T19:02:07.011Z"
   },
   {
    "duration": 15,
    "start_time": "2022-08-11T19:02:07.032Z"
   },
   {
    "duration": 8,
    "start_time": "2022-08-11T19:02:07.051Z"
   },
   {
    "duration": 9,
    "start_time": "2022-08-11T19:02:07.060Z"
   },
   {
    "duration": 6,
    "start_time": "2022-08-11T19:02:07.071Z"
   },
   {
    "duration": 37,
    "start_time": "2022-08-11T19:02:07.079Z"
   },
   {
    "duration": 5,
    "start_time": "2022-08-11T19:02:07.117Z"
   },
   {
    "duration": 4,
    "start_time": "2022-08-11T19:02:07.124Z"
   },
   {
    "duration": 10,
    "start_time": "2022-08-11T19:02:07.130Z"
   },
   {
    "duration": 7,
    "start_time": "2022-08-11T19:02:07.141Z"
   },
   {
    "duration": 6,
    "start_time": "2022-08-11T19:02:07.149Z"
   },
   {
    "duration": 10,
    "start_time": "2022-08-11T19:02:07.156Z"
   },
   {
    "duration": 42,
    "start_time": "2022-08-11T19:02:07.167Z"
   },
   {
    "duration": 34,
    "start_time": "2022-08-11T19:02:07.211Z"
   },
   {
    "duration": 27,
    "start_time": "2022-08-11T19:02:07.247Z"
   },
   {
    "duration": 637,
    "start_time": "2022-08-11T19:02:07.276Z"
   },
   {
    "duration": 9,
    "start_time": "2022-08-11T19:02:07.915Z"
   },
   {
    "duration": 820,
    "start_time": "2022-08-11T19:02:07.926Z"
   },
   {
    "duration": 29,
    "start_time": "2022-08-11T19:02:08.748Z"
   },
   {
    "duration": 5,
    "start_time": "2022-08-11T19:02:08.779Z"
   },
   {
    "duration": 14,
    "start_time": "2022-08-11T19:02:08.805Z"
   },
   {
    "duration": 10,
    "start_time": "2022-08-11T19:02:08.820Z"
   },
   {
    "duration": 11,
    "start_time": "2022-08-11T19:02:08.831Z"
   },
   {
    "duration": 191,
    "start_time": "2022-08-11T19:02:08.843Z"
   },
   {
    "duration": 155,
    "start_time": "2022-08-11T19:02:09.036Z"
   },
   {
    "duration": 138,
    "start_time": "2022-08-11T19:02:09.193Z"
   },
   {
    "duration": 149,
    "start_time": "2022-08-11T19:02:09.333Z"
   },
   {
    "duration": 44,
    "start_time": "2022-08-11T19:02:09.484Z"
   },
   {
    "duration": 747,
    "start_time": "2022-08-11T19:04:31.491Z"
   },
   {
    "duration": 28,
    "start_time": "2022-08-11T19:04:59.164Z"
   },
   {
    "duration": 174,
    "start_time": "2022-08-11T19:07:30.424Z"
   },
   {
    "duration": 565,
    "start_time": "2022-08-11T19:07:49.625Z"
   },
   {
    "duration": 12,
    "start_time": "2022-08-11T19:07:50.192Z"
   },
   {
    "duration": 45,
    "start_time": "2022-08-11T19:07:50.206Z"
   },
   {
    "duration": 32,
    "start_time": "2022-08-11T19:07:50.253Z"
   },
   {
    "duration": 14,
    "start_time": "2022-08-11T19:07:50.288Z"
   },
   {
    "duration": 39,
    "start_time": "2022-08-11T19:07:50.303Z"
   },
   {
    "duration": 6,
    "start_time": "2022-08-11T19:07:50.344Z"
   },
   {
    "duration": 10,
    "start_time": "2022-08-11T19:07:50.352Z"
   },
   {
    "duration": 8,
    "start_time": "2022-08-11T19:07:50.364Z"
   },
   {
    "duration": 9,
    "start_time": "2022-08-11T19:07:50.373Z"
   },
   {
    "duration": 28,
    "start_time": "2022-08-11T19:07:50.384Z"
   },
   {
    "duration": 16,
    "start_time": "2022-08-11T19:07:50.413Z"
   },
   {
    "duration": 8,
    "start_time": "2022-08-11T19:07:50.430Z"
   },
   {
    "duration": 10,
    "start_time": "2022-08-11T19:07:50.440Z"
   },
   {
    "duration": 6,
    "start_time": "2022-08-11T19:07:50.451Z"
   },
   {
    "duration": 12,
    "start_time": "2022-08-11T19:07:50.458Z"
   },
   {
    "duration": 39,
    "start_time": "2022-08-11T19:07:50.471Z"
   },
   {
    "duration": 21,
    "start_time": "2022-08-11T19:07:50.517Z"
   },
   {
    "duration": 9,
    "start_time": "2022-08-11T19:07:50.540Z"
   },
   {
    "duration": 9,
    "start_time": "2022-08-11T19:07:50.551Z"
   },
   {
    "duration": 5,
    "start_time": "2022-08-11T19:07:50.562Z"
   },
   {
    "duration": 8,
    "start_time": "2022-08-11T19:07:50.568Z"
   },
   {
    "duration": 10,
    "start_time": "2022-08-11T19:07:50.577Z"
   },
   {
    "duration": 46,
    "start_time": "2022-08-11T19:07:50.589Z"
   },
   {
    "duration": 24,
    "start_time": "2022-08-11T19:07:50.637Z"
   },
   {
    "duration": 474,
    "start_time": "2022-08-11T19:07:50.663Z"
   },
   {
    "duration": 9,
    "start_time": "2022-08-11T19:07:51.139Z"
   },
   {
    "duration": 188,
    "start_time": "2022-08-11T19:07:51.149Z"
   },
   {
    "duration": 27,
    "start_time": "2022-08-11T19:07:51.339Z"
   },
   {
    "duration": 5,
    "start_time": "2022-08-11T19:07:51.368Z"
   },
   {
    "duration": 35,
    "start_time": "2022-08-11T19:07:51.375Z"
   },
   {
    "duration": 9,
    "start_time": "2022-08-11T19:07:51.411Z"
   },
   {
    "duration": 23,
    "start_time": "2022-08-11T19:07:51.421Z"
   },
   {
    "duration": 183,
    "start_time": "2022-08-11T19:07:51.445Z"
   },
   {
    "duration": 151,
    "start_time": "2022-08-11T19:07:51.631Z"
   },
   {
    "duration": 190,
    "start_time": "2022-08-11T19:07:51.783Z"
   },
   {
    "duration": 184,
    "start_time": "2022-08-11T19:07:51.975Z"
   },
   {
    "duration": 63,
    "start_time": "2022-08-11T19:07:52.161Z"
   },
   {
    "duration": 110,
    "start_time": "2022-08-11T19:18:39.757Z"
   },
   {
    "duration": 839,
    "start_time": "2022-08-11T19:19:39.948Z"
   },
   {
    "duration": 772,
    "start_time": "2022-08-11T19:20:45.389Z"
   },
   {
    "duration": 899,
    "start_time": "2022-08-11T19:22:26.543Z"
   },
   {
    "duration": 841,
    "start_time": "2022-08-11T19:22:39.822Z"
   },
   {
    "duration": 508,
    "start_time": "2022-08-11T19:22:52.967Z"
   },
   {
    "duration": 14,
    "start_time": "2022-08-11T19:22:53.478Z"
   },
   {
    "duration": 34,
    "start_time": "2022-08-11T19:22:53.494Z"
   },
   {
    "duration": 35,
    "start_time": "2022-08-11T19:22:53.531Z"
   },
   {
    "duration": 14,
    "start_time": "2022-08-11T19:22:53.568Z"
   },
   {
    "duration": 40,
    "start_time": "2022-08-11T19:22:53.584Z"
   },
   {
    "duration": 30,
    "start_time": "2022-08-11T19:22:53.625Z"
   },
   {
    "duration": 22,
    "start_time": "2022-08-11T19:22:53.656Z"
   },
   {
    "duration": 10,
    "start_time": "2022-08-11T19:22:53.680Z"
   },
   {
    "duration": 31,
    "start_time": "2022-08-11T19:22:53.693Z"
   },
   {
    "duration": 43,
    "start_time": "2022-08-11T19:22:53.730Z"
   },
   {
    "duration": 9,
    "start_time": "2022-08-11T19:22:53.775Z"
   },
   {
    "duration": 13,
    "start_time": "2022-08-11T19:22:53.786Z"
   },
   {
    "duration": 27,
    "start_time": "2022-08-11T19:22:53.811Z"
   },
   {
    "duration": 7,
    "start_time": "2022-08-11T19:22:53.839Z"
   },
   {
    "duration": 12,
    "start_time": "2022-08-11T19:22:53.847Z"
   },
   {
    "duration": 6,
    "start_time": "2022-08-11T19:22:53.861Z"
   },
   {
    "duration": 5,
    "start_time": "2022-08-11T19:22:53.868Z"
   },
   {
    "duration": 10,
    "start_time": "2022-08-11T19:22:53.875Z"
   },
   {
    "duration": 17,
    "start_time": "2022-08-11T19:22:53.887Z"
   },
   {
    "duration": 29,
    "start_time": "2022-08-11T19:22:53.905Z"
   },
   {
    "duration": 9,
    "start_time": "2022-08-11T19:22:53.935Z"
   },
   {
    "duration": 10,
    "start_time": "2022-08-11T19:22:53.946Z"
   },
   {
    "duration": 48,
    "start_time": "2022-08-11T19:22:53.958Z"
   },
   {
    "duration": 38,
    "start_time": "2022-08-11T19:22:54.008Z"
   },
   {
    "duration": 479,
    "start_time": "2022-08-11T19:22:54.050Z"
   },
   {
    "duration": 11,
    "start_time": "2022-08-11T19:22:54.531Z"
   },
   {
    "duration": 894,
    "start_time": "2022-08-11T19:22:54.546Z"
   },
   {
    "duration": 30,
    "start_time": "2022-08-11T19:22:55.442Z"
   },
   {
    "duration": 5,
    "start_time": "2022-08-11T19:22:55.474Z"
   },
   {
    "duration": 52,
    "start_time": "2022-08-11T19:22:55.480Z"
   },
   {
    "duration": 7,
    "start_time": "2022-08-11T19:22:55.533Z"
   },
   {
    "duration": 8,
    "start_time": "2022-08-11T19:22:55.541Z"
   },
   {
    "duration": 133,
    "start_time": "2022-08-11T19:22:55.550Z"
   },
   {
    "duration": 192,
    "start_time": "2022-08-11T19:22:55.684Z"
   },
   {
    "duration": 168,
    "start_time": "2022-08-11T19:22:55.878Z"
   },
   {
    "duration": 146,
    "start_time": "2022-08-11T19:22:56.048Z"
   },
   {
    "duration": 42,
    "start_time": "2022-08-11T19:22:56.197Z"
   },
   {
    "duration": 165,
    "start_time": "2022-08-11T19:32:12.048Z"
   },
   {
    "duration": 13,
    "start_time": "2022-08-11T19:32:18.265Z"
   },
   {
    "duration": 593,
    "start_time": "2022-08-11T19:35:24.383Z"
   },
   {
    "duration": 10,
    "start_time": "2022-08-11T19:35:24.978Z"
   },
   {
    "duration": 16,
    "start_time": "2022-08-11T19:35:24.990Z"
   },
   {
    "duration": 31,
    "start_time": "2022-08-11T19:35:25.008Z"
   },
   {
    "duration": 10,
    "start_time": "2022-08-11T19:35:25.041Z"
   },
   {
    "duration": 13,
    "start_time": "2022-08-11T19:35:25.053Z"
   },
   {
    "duration": 8,
    "start_time": "2022-08-11T19:35:25.068Z"
   },
   {
    "duration": 25,
    "start_time": "2022-08-11T19:35:25.077Z"
   },
   {
    "duration": 17,
    "start_time": "2022-08-11T19:35:25.104Z"
   },
   {
    "duration": 9,
    "start_time": "2022-08-11T19:35:25.124Z"
   },
   {
    "duration": 19,
    "start_time": "2022-08-11T19:35:25.135Z"
   },
   {
    "duration": 9,
    "start_time": "2022-08-11T19:35:25.156Z"
   },
   {
    "duration": 48,
    "start_time": "2022-08-11T19:35:25.166Z"
   },
   {
    "duration": 9,
    "start_time": "2022-08-11T19:35:25.216Z"
   },
   {
    "duration": 11,
    "start_time": "2022-08-11T19:35:25.226Z"
   },
   {
    "duration": 13,
    "start_time": "2022-08-11T19:35:25.239Z"
   },
   {
    "duration": 11,
    "start_time": "2022-08-11T19:35:25.254Z"
   },
   {
    "duration": 7,
    "start_time": "2022-08-11T19:35:25.266Z"
   },
   {
    "duration": 35,
    "start_time": "2022-08-11T19:35:25.274Z"
   },
   {
    "duration": 8,
    "start_time": "2022-08-11T19:35:25.311Z"
   },
   {
    "duration": 6,
    "start_time": "2022-08-11T19:35:25.320Z"
   },
   {
    "duration": 8,
    "start_time": "2022-08-11T19:35:25.327Z"
   },
   {
    "duration": 9,
    "start_time": "2022-08-11T19:35:25.337Z"
   },
   {
    "duration": 64,
    "start_time": "2022-08-11T19:35:25.347Z"
   },
   {
    "duration": 28,
    "start_time": "2022-08-11T19:35:25.413Z"
   },
   {
    "duration": 435,
    "start_time": "2022-08-11T19:35:25.443Z"
   },
   {
    "duration": 9,
    "start_time": "2022-08-11T19:35:25.879Z"
   },
   {
    "duration": 759,
    "start_time": "2022-08-11T19:35:25.901Z"
   },
   {
    "duration": 39,
    "start_time": "2022-08-11T19:35:26.662Z"
   },
   {
    "duration": 6,
    "start_time": "2022-08-11T19:35:26.703Z"
   },
   {
    "duration": 14,
    "start_time": "2022-08-11T19:35:26.711Z"
   },
   {
    "duration": 6,
    "start_time": "2022-08-11T19:35:26.726Z"
   },
   {
    "duration": 7,
    "start_time": "2022-08-11T19:35:26.733Z"
   },
   {
    "duration": 146,
    "start_time": "2022-08-11T19:35:26.741Z"
   },
   {
    "duration": 186,
    "start_time": "2022-08-11T19:35:26.889Z"
   },
   {
    "duration": 141,
    "start_time": "2022-08-11T19:35:27.077Z"
   },
   {
    "duration": 153,
    "start_time": "2022-08-11T19:35:27.219Z"
   },
   {
    "duration": 13,
    "start_time": "2022-08-11T19:35:27.373Z"
   },
   {
    "duration": 550,
    "start_time": "2022-08-11T19:43:10.411Z"
   },
   {
    "duration": 10,
    "start_time": "2022-08-11T19:43:10.963Z"
   },
   {
    "duration": 17,
    "start_time": "2022-08-11T19:43:10.974Z"
   },
   {
    "duration": 27,
    "start_time": "2022-08-11T19:43:10.993Z"
   },
   {
    "duration": 10,
    "start_time": "2022-08-11T19:43:11.023Z"
   },
   {
    "duration": 13,
    "start_time": "2022-08-11T19:43:11.034Z"
   },
   {
    "duration": 7,
    "start_time": "2022-08-11T19:43:11.048Z"
   },
   {
    "duration": 15,
    "start_time": "2022-08-11T19:43:11.057Z"
   },
   {
    "duration": 31,
    "start_time": "2022-08-11T19:43:11.073Z"
   },
   {
    "duration": 9,
    "start_time": "2022-08-11T19:43:11.105Z"
   },
   {
    "duration": 20,
    "start_time": "2022-08-11T19:43:11.116Z"
   },
   {
    "duration": 8,
    "start_time": "2022-08-11T19:43:11.137Z"
   },
   {
    "duration": 14,
    "start_time": "2022-08-11T19:43:11.146Z"
   },
   {
    "duration": 6,
    "start_time": "2022-08-11T19:43:11.163Z"
   },
   {
    "duration": 6,
    "start_time": "2022-08-11T19:43:11.170Z"
   },
   {
    "duration": 36,
    "start_time": "2022-08-11T19:43:11.178Z"
   },
   {
    "duration": 5,
    "start_time": "2022-08-11T19:43:11.216Z"
   },
   {
    "duration": 6,
    "start_time": "2022-08-11T19:43:11.222Z"
   },
   {
    "duration": 8,
    "start_time": "2022-08-11T19:43:11.229Z"
   },
   {
    "duration": 12,
    "start_time": "2022-08-11T19:43:11.238Z"
   },
   {
    "duration": 6,
    "start_time": "2022-08-11T19:43:11.251Z"
   },
   {
    "duration": 11,
    "start_time": "2022-08-11T19:43:11.258Z"
   },
   {
    "duration": 40,
    "start_time": "2022-08-11T19:43:11.271Z"
   },
   {
    "duration": 42,
    "start_time": "2022-08-11T19:43:11.313Z"
   },
   {
    "duration": 25,
    "start_time": "2022-08-11T19:43:11.357Z"
   },
   {
    "duration": 406,
    "start_time": "2022-08-11T19:43:11.383Z"
   },
   {
    "duration": 17,
    "start_time": "2022-08-11T19:43:11.791Z"
   },
   {
    "duration": 749,
    "start_time": "2022-08-11T19:43:11.809Z"
   },
   {
    "duration": 30,
    "start_time": "2022-08-11T19:43:12.560Z"
   },
   {
    "duration": 7,
    "start_time": "2022-08-11T19:43:12.609Z"
   },
   {
    "duration": 8,
    "start_time": "2022-08-11T19:43:12.618Z"
   },
   {
    "duration": 8,
    "start_time": "2022-08-11T19:43:12.628Z"
   },
   {
    "duration": 7,
    "start_time": "2022-08-11T19:43:12.637Z"
   },
   {
    "duration": 191,
    "start_time": "2022-08-11T19:43:12.645Z"
   },
   {
    "duration": 154,
    "start_time": "2022-08-11T19:43:12.838Z"
   },
   {
    "duration": 170,
    "start_time": "2022-08-11T19:43:13.005Z"
   },
   {
    "duration": 136,
    "start_time": "2022-08-11T19:43:13.177Z"
   },
   {
    "duration": 13,
    "start_time": "2022-08-11T19:43:13.315Z"
   },
   {
    "duration": 535,
    "start_time": "2022-08-11T20:59:16.142Z"
   },
   {
    "duration": 11,
    "start_time": "2022-08-11T20:59:16.679Z"
   },
   {
    "duration": 26,
    "start_time": "2022-08-11T20:59:16.692Z"
   },
   {
    "duration": 23,
    "start_time": "2022-08-11T20:59:16.721Z"
   },
   {
    "duration": 17,
    "start_time": "2022-08-11T20:59:16.746Z"
   },
   {
    "duration": 43,
    "start_time": "2022-08-11T20:59:16.765Z"
   },
   {
    "duration": 12,
    "start_time": "2022-08-11T20:59:16.810Z"
   },
   {
    "duration": 17,
    "start_time": "2022-08-11T20:59:16.824Z"
   },
   {
    "duration": 13,
    "start_time": "2022-08-11T20:59:16.843Z"
   },
   {
    "duration": 11,
    "start_time": "2022-08-11T20:59:16.860Z"
   },
   {
    "duration": 23,
    "start_time": "2022-08-11T20:59:16.898Z"
   },
   {
    "duration": 11,
    "start_time": "2022-08-11T20:59:16.925Z"
   },
   {
    "duration": 8,
    "start_time": "2022-08-11T20:59:16.938Z"
   },
   {
    "duration": 8,
    "start_time": "2022-08-11T20:59:16.948Z"
   },
   {
    "duration": 8,
    "start_time": "2022-08-11T20:59:16.958Z"
   },
   {
    "duration": 13,
    "start_time": "2022-08-11T20:59:16.998Z"
   },
   {
    "duration": 10,
    "start_time": "2022-08-11T20:59:17.013Z"
   },
   {
    "duration": 5,
    "start_time": "2022-08-11T20:59:17.026Z"
   },
   {
    "duration": 14,
    "start_time": "2022-08-11T20:59:17.033Z"
   },
   {
    "duration": 7,
    "start_time": "2022-08-11T20:59:17.049Z"
   },
   {
    "duration": 40,
    "start_time": "2022-08-11T20:59:17.058Z"
   },
   {
    "duration": 11,
    "start_time": "2022-08-11T20:59:17.100Z"
   },
   {
    "duration": 16,
    "start_time": "2022-08-11T20:59:17.112Z"
   },
   {
    "duration": 31,
    "start_time": "2022-08-11T20:59:17.130Z"
   },
   {
    "duration": 437,
    "start_time": "2022-08-11T20:59:17.163Z"
   },
   {
    "duration": 10,
    "start_time": "2022-08-11T20:59:17.601Z"
   },
   {
    "duration": 749,
    "start_time": "2022-08-11T20:59:17.613Z"
   },
   {
    "duration": 43,
    "start_time": "2022-08-11T20:59:18.366Z"
   },
   {
    "duration": 5,
    "start_time": "2022-08-11T20:59:18.411Z"
   },
   {
    "duration": 8,
    "start_time": "2022-08-11T20:59:18.418Z"
   },
   {
    "duration": 6,
    "start_time": "2022-08-11T20:59:18.428Z"
   },
   {
    "duration": 7,
    "start_time": "2022-08-11T20:59:18.436Z"
   },
   {
    "duration": 162,
    "start_time": "2022-08-11T20:59:18.444Z"
   },
   {
    "duration": 208,
    "start_time": "2022-08-11T20:59:18.608Z"
   },
   {
    "duration": 150,
    "start_time": "2022-08-11T20:59:18.818Z"
   },
   {
    "duration": 150,
    "start_time": "2022-08-11T20:59:18.970Z"
   },
   {
    "duration": 13,
    "start_time": "2022-08-11T20:59:19.122Z"
   },
   {
    "duration": 48,
    "start_time": "2022-08-12T10:40:03.721Z"
   },
   {
    "duration": 667,
    "start_time": "2022-08-12T10:40:07.536Z"
   },
   {
    "duration": 18,
    "start_time": "2022-08-12T10:40:08.205Z"
   },
   {
    "duration": 23,
    "start_time": "2022-08-12T10:40:08.224Z"
   },
   {
    "duration": 33,
    "start_time": "2022-08-12T10:40:08.249Z"
   },
   {
    "duration": 11,
    "start_time": "2022-08-12T10:40:08.283Z"
   },
   {
    "duration": 25,
    "start_time": "2022-08-12T10:40:08.296Z"
   },
   {
    "duration": 15,
    "start_time": "2022-08-12T10:40:08.324Z"
   },
   {
    "duration": 17,
    "start_time": "2022-08-12T10:40:08.340Z"
   },
   {
    "duration": 24,
    "start_time": "2022-08-12T10:40:08.359Z"
   },
   {
    "duration": 36,
    "start_time": "2022-08-12T10:40:08.386Z"
   },
   {
    "duration": 9,
    "start_time": "2022-08-12T10:40:08.424Z"
   },
   {
    "duration": 30,
    "start_time": "2022-08-12T10:40:08.435Z"
   },
   {
    "duration": 8,
    "start_time": "2022-08-12T10:40:08.466Z"
   },
   {
    "duration": 20,
    "start_time": "2022-08-12T10:40:08.475Z"
   },
   {
    "duration": 31,
    "start_time": "2022-08-12T10:40:08.497Z"
   },
   {
    "duration": 10,
    "start_time": "2022-08-12T10:40:08.529Z"
   },
   {
    "duration": 19,
    "start_time": "2022-08-12T10:40:08.540Z"
   },
   {
    "duration": 10,
    "start_time": "2022-08-12T10:40:08.560Z"
   },
   {
    "duration": 12,
    "start_time": "2022-08-12T10:40:08.572Z"
   },
   {
    "duration": 15,
    "start_time": "2022-08-12T10:40:08.586Z"
   },
   {
    "duration": 22,
    "start_time": "2022-08-12T10:40:08.603Z"
   },
   {
    "duration": 16,
    "start_time": "2022-08-12T10:40:08.627Z"
   },
   {
    "duration": 10,
    "start_time": "2022-08-12T10:40:08.645Z"
   },
   {
    "duration": 26,
    "start_time": "2022-08-12T10:40:08.657Z"
   },
   {
    "duration": 32,
    "start_time": "2022-08-12T10:40:08.685Z"
   },
   {
    "duration": 437,
    "start_time": "2022-08-12T10:40:08.720Z"
   },
   {
    "duration": 9,
    "start_time": "2022-08-12T10:40:09.158Z"
   },
   {
    "duration": 716,
    "start_time": "2022-08-12T10:40:09.170Z"
   },
   {
    "duration": 38,
    "start_time": "2022-08-12T10:40:09.887Z"
   },
   {
    "duration": 21,
    "start_time": "2022-08-12T10:40:09.926Z"
   },
   {
    "duration": 14,
    "start_time": "2022-08-12T10:40:09.948Z"
   },
   {
    "duration": 18,
    "start_time": "2022-08-12T10:40:09.963Z"
   },
   {
    "duration": 23,
    "start_time": "2022-08-12T10:40:09.983Z"
   },
   {
    "duration": 151,
    "start_time": "2022-08-12T10:40:10.007Z"
   },
   {
    "duration": 210,
    "start_time": "2022-08-12T10:40:10.160Z"
   },
   {
    "duration": 151,
    "start_time": "2022-08-12T10:40:10.371Z"
   },
   {
    "duration": 127,
    "start_time": "2022-08-12T10:40:10.524Z"
   },
   {
    "duration": 11,
    "start_time": "2022-08-12T10:40:10.653Z"
   },
   {
    "duration": 20,
    "start_time": "2022-08-12T10:41:49.645Z"
   },
   {
    "duration": 19,
    "start_time": "2022-08-12T10:42:02.385Z"
   },
   {
    "duration": 127,
    "start_time": "2022-08-12T10:42:05.654Z"
   },
   {
    "duration": 9,
    "start_time": "2022-08-12T10:42:05.783Z"
   },
   {
    "duration": 52,
    "start_time": "2022-08-12T10:42:05.793Z"
   },
   {
    "duration": 25,
    "start_time": "2022-08-12T10:42:05.847Z"
   },
   {
    "duration": 13,
    "start_time": "2022-08-12T10:42:05.874Z"
   },
   {
    "duration": 26,
    "start_time": "2022-08-12T10:42:05.889Z"
   },
   {
    "duration": 22,
    "start_time": "2022-08-12T10:42:05.918Z"
   },
   {
    "duration": 24,
    "start_time": "2022-08-12T10:42:05.941Z"
   },
   {
    "duration": 9,
    "start_time": "2022-08-12T10:42:05.967Z"
   },
   {
    "duration": 13,
    "start_time": "2022-08-12T10:42:05.978Z"
   },
   {
    "duration": 32,
    "start_time": "2022-08-12T10:42:05.993Z"
   },
   {
    "duration": 50,
    "start_time": "2022-08-12T10:42:06.027Z"
   },
   {
    "duration": 9,
    "start_time": "2022-08-12T10:42:06.078Z"
   },
   {
    "duration": 28,
    "start_time": "2022-08-12T10:42:06.090Z"
   },
   {
    "duration": 8,
    "start_time": "2022-08-12T10:42:06.119Z"
   },
   {
    "duration": 8,
    "start_time": "2022-08-12T10:42:06.129Z"
   },
   {
    "duration": 9,
    "start_time": "2022-08-12T10:42:06.138Z"
   },
   {
    "duration": 12,
    "start_time": "2022-08-12T10:42:06.148Z"
   },
   {
    "duration": 8,
    "start_time": "2022-08-12T10:42:06.161Z"
   },
   {
    "duration": 5,
    "start_time": "2022-08-12T10:42:06.170Z"
   },
   {
    "duration": 9,
    "start_time": "2022-08-12T10:42:06.177Z"
   },
   {
    "duration": 20,
    "start_time": "2022-08-12T10:42:06.211Z"
   },
   {
    "duration": 11,
    "start_time": "2022-08-12T10:42:06.232Z"
   },
   {
    "duration": 9,
    "start_time": "2022-08-12T10:42:06.244Z"
   },
   {
    "duration": 10,
    "start_time": "2022-08-12T10:42:06.254Z"
   },
   {
    "duration": 24,
    "start_time": "2022-08-12T10:42:06.266Z"
   },
   {
    "duration": 180,
    "start_time": "2022-08-12T10:42:06.292Z"
   },
   {
    "duration": 8,
    "start_time": "2022-08-12T10:42:06.474Z"
   },
   {
    "duration": 721,
    "start_time": "2022-08-12T10:42:06.484Z"
   },
   {
    "duration": 37,
    "start_time": "2022-08-12T10:42:07.207Z"
   },
   {
    "duration": 25,
    "start_time": "2022-08-12T10:42:07.246Z"
   },
   {
    "duration": 17,
    "start_time": "2022-08-12T10:42:07.273Z"
   },
   {
    "duration": 31,
    "start_time": "2022-08-12T10:42:07.292Z"
   },
   {
    "duration": 15,
    "start_time": "2022-08-12T10:42:07.325Z"
   },
   {
    "duration": 190,
    "start_time": "2022-08-12T10:42:07.342Z"
   },
   {
    "duration": 149,
    "start_time": "2022-08-12T10:42:07.534Z"
   },
   {
    "duration": 149,
    "start_time": "2022-08-12T10:42:07.685Z"
   },
   {
    "duration": 138,
    "start_time": "2022-08-12T10:42:07.836Z"
   },
   {
    "duration": 12,
    "start_time": "2022-08-12T10:42:07.975Z"
   },
   {
    "duration": 98,
    "start_time": "2022-08-12T10:45:18.701Z"
   },
   {
    "duration": 26,
    "start_time": "2022-08-12T10:48:19.963Z"
   },
   {
    "duration": 26,
    "start_time": "2022-08-12T10:50:18.481Z"
   },
   {
    "duration": 8,
    "start_time": "2022-08-12T10:53:42.828Z"
   },
   {
    "duration": 81,
    "start_time": "2022-08-12T10:54:54.800Z"
   },
   {
    "duration": 90,
    "start_time": "2022-08-12T10:54:58.729Z"
   },
   {
    "duration": 36,
    "start_time": "2022-08-12T10:55:10.670Z"
   },
   {
    "duration": 8,
    "start_time": "2022-08-12T10:55:18.157Z"
   },
   {
    "duration": 120,
    "start_time": "2022-08-12T10:55:34.610Z"
   },
   {
    "duration": 8,
    "start_time": "2022-08-12T10:55:45.530Z"
   },
   {
    "duration": 22,
    "start_time": "2022-08-12T10:56:26.271Z"
   },
   {
    "duration": 104,
    "start_time": "2022-08-12T10:56:53.661Z"
   },
   {
    "duration": 285,
    "start_time": "2022-08-12T10:56:59.541Z"
   },
   {
    "duration": 227,
    "start_time": "2022-08-12T10:57:08.435Z"
   },
   {
    "duration": 1954,
    "start_time": "2022-08-12T11:02:26.035Z"
   },
   {
    "duration": 8,
    "start_time": "2022-08-12T11:02:32.426Z"
   },
   {
    "duration": 17,
    "start_time": "2022-08-12T11:02:40.451Z"
   },
   {
    "duration": 85,
    "start_time": "2022-08-12T11:19:35.068Z"
   },
   {
    "duration": 72,
    "start_time": "2022-08-12T11:19:45.322Z"
   },
   {
    "duration": 402,
    "start_time": "2022-08-12T20:24:22.917Z"
   },
   {
    "duration": 302,
    "start_time": "2022-08-12T20:24:23.321Z"
   },
   {
    "duration": 12,
    "start_time": "2022-08-12T20:24:23.624Z"
   },
   {
    "duration": 19,
    "start_time": "2022-08-12T20:24:23.638Z"
   },
   {
    "duration": 26,
    "start_time": "2022-08-12T20:24:23.659Z"
   },
   {
    "duration": 18,
    "start_time": "2022-08-12T20:24:23.687Z"
   },
   {
    "duration": 13,
    "start_time": "2022-08-12T20:24:23.707Z"
   },
   {
    "duration": 8,
    "start_time": "2022-08-12T20:24:23.722Z"
   },
   {
    "duration": 17,
    "start_time": "2022-08-12T20:24:23.732Z"
   },
   {
    "duration": 8,
    "start_time": "2022-08-12T20:24:23.751Z"
   },
   {
    "duration": 37,
    "start_time": "2022-08-12T20:24:23.760Z"
   },
   {
    "duration": 20,
    "start_time": "2022-08-12T20:24:23.800Z"
   },
   {
    "duration": 52,
    "start_time": "2022-08-12T20:24:23.822Z"
   },
   {
    "duration": 10,
    "start_time": "2022-08-12T20:24:23.876Z"
   },
   {
    "duration": 47,
    "start_time": "2022-08-12T20:24:23.889Z"
   },
   {
    "duration": 9,
    "start_time": "2022-08-12T20:24:23.938Z"
   },
   {
    "duration": 16,
    "start_time": "2022-08-12T20:24:23.949Z"
   },
   {
    "duration": 21,
    "start_time": "2022-08-12T20:24:23.966Z"
   },
   {
    "duration": 14,
    "start_time": "2022-08-12T20:24:23.989Z"
   },
   {
    "duration": 28,
    "start_time": "2022-08-12T20:24:24.005Z"
   },
   {
    "duration": 25,
    "start_time": "2022-08-12T20:24:24.036Z"
   },
   {
    "duration": 28,
    "start_time": "2022-08-12T20:24:24.063Z"
   },
   {
    "duration": 27,
    "start_time": "2022-08-12T20:24:24.093Z"
   },
   {
    "duration": 62,
    "start_time": "2022-08-12T20:24:24.123Z"
   },
   {
    "duration": 8,
    "start_time": "2022-08-12T20:24:24.187Z"
   },
   {
    "duration": 22,
    "start_time": "2022-08-12T20:24:24.196Z"
   },
   {
    "duration": 16,
    "start_time": "2022-08-12T20:24:24.220Z"
   },
   {
    "duration": 50,
    "start_time": "2022-08-12T20:24:24.240Z"
   },
   {
    "duration": 49,
    "start_time": "2022-08-12T20:24:24.292Z"
   },
   {
    "duration": 7,
    "start_time": "2022-08-12T20:24:24.343Z"
   },
   {
    "duration": 591,
    "start_time": "2022-08-12T20:24:24.352Z"
   },
   {
    "duration": 10,
    "start_time": "2022-08-12T20:24:24.945Z"
   },
   {
    "duration": 19,
    "start_time": "2022-08-12T20:24:24.956Z"
   },
   {
    "duration": 728,
    "start_time": "2022-08-12T20:24:24.976Z"
   },
   {
    "duration": 288,
    "start_time": "2022-08-12T20:24:25.705Z"
   },
   {
    "duration": 29,
    "start_time": "2022-08-12T20:24:25.995Z"
   },
   {
    "duration": 4,
    "start_time": "2022-08-12T20:24:26.026Z"
   },
   {
    "duration": 10,
    "start_time": "2022-08-12T20:24:26.032Z"
   },
   {
    "duration": 11,
    "start_time": "2022-08-12T20:24:26.043Z"
   },
   {
    "duration": 9,
    "start_time": "2022-08-12T20:24:26.055Z"
   },
   {
    "duration": 154,
    "start_time": "2022-08-12T20:24:26.065Z"
   },
   {
    "duration": 148,
    "start_time": "2022-08-12T20:24:26.221Z"
   },
   {
    "duration": 136,
    "start_time": "2022-08-12T20:24:26.371Z"
   },
   {
    "duration": 17,
    "start_time": "2022-08-12T20:24:26.508Z"
   },
   {
    "duration": 142,
    "start_time": "2022-08-12T20:24:26.526Z"
   },
   {
    "duration": 13,
    "start_time": "2022-08-12T20:24:26.670Z"
   },
   {
    "duration": 13,
    "start_time": "2022-08-12T20:25:38.153Z"
   },
   {
    "duration": 16,
    "start_time": "2022-08-12T20:25:41.502Z"
   },
   {
    "duration": 63,
    "start_time": "2022-08-12T21:05:18.837Z"
   },
   {
    "duration": 8,
    "start_time": "2022-08-12T21:05:57.538Z"
   },
   {
    "duration": 14,
    "start_time": "2022-08-12T21:06:07.029Z"
   },
   {
    "duration": 9,
    "start_time": "2022-08-12T21:06:12.294Z"
   },
   {
    "duration": 7,
    "start_time": "2022-08-12T21:11:13.843Z"
   },
   {
    "duration": 383,
    "start_time": "2022-08-12T21:11:26.766Z"
   },
   {
    "duration": 124,
    "start_time": "2022-08-12T21:11:27.151Z"
   },
   {
    "duration": 9,
    "start_time": "2022-08-12T21:11:27.277Z"
   },
   {
    "duration": 29,
    "start_time": "2022-08-12T21:11:27.288Z"
   },
   {
    "duration": 35,
    "start_time": "2022-08-12T21:11:27.319Z"
   },
   {
    "duration": 22,
    "start_time": "2022-08-12T21:11:27.355Z"
   },
   {
    "duration": 29,
    "start_time": "2022-08-12T21:11:27.378Z"
   },
   {
    "duration": 18,
    "start_time": "2022-08-12T21:11:27.409Z"
   },
   {
    "duration": 28,
    "start_time": "2022-08-12T21:11:27.428Z"
   },
   {
    "duration": 8,
    "start_time": "2022-08-12T21:11:27.458Z"
   },
   {
    "duration": 25,
    "start_time": "2022-08-12T21:11:27.468Z"
   },
   {
    "duration": 15,
    "start_time": "2022-08-12T21:11:27.494Z"
   },
   {
    "duration": 27,
    "start_time": "2022-08-12T21:11:27.511Z"
   },
   {
    "duration": 12,
    "start_time": "2022-08-12T21:11:27.540Z"
   },
   {
    "duration": 20,
    "start_time": "2022-08-12T21:11:27.553Z"
   },
   {
    "duration": 6,
    "start_time": "2022-08-12T21:11:27.575Z"
   },
   {
    "duration": 18,
    "start_time": "2022-08-12T21:11:27.582Z"
   },
   {
    "duration": 11,
    "start_time": "2022-08-12T21:11:27.602Z"
   },
   {
    "duration": 17,
    "start_time": "2022-08-12T21:11:27.615Z"
   },
   {
    "duration": 12,
    "start_time": "2022-08-12T21:11:27.633Z"
   },
   {
    "duration": 12,
    "start_time": "2022-08-12T21:11:27.647Z"
   },
   {
    "duration": 24,
    "start_time": "2022-08-12T21:11:27.661Z"
   },
   {
    "duration": 16,
    "start_time": "2022-08-12T21:11:27.686Z"
   },
   {
    "duration": 41,
    "start_time": "2022-08-12T21:11:27.703Z"
   },
   {
    "duration": 10,
    "start_time": "2022-08-12T21:11:27.745Z"
   },
   {
    "duration": 18,
    "start_time": "2022-08-12T21:11:27.757Z"
   },
   {
    "duration": 30,
    "start_time": "2022-08-12T21:11:27.776Z"
   },
   {
    "duration": 24,
    "start_time": "2022-08-12T21:11:27.809Z"
   },
   {
    "duration": 33,
    "start_time": "2022-08-12T21:11:27.834Z"
   },
   {
    "duration": 6,
    "start_time": "2022-08-12T21:11:27.868Z"
   },
   {
    "duration": 380,
    "start_time": "2022-08-12T21:11:27.876Z"
   },
   {
    "duration": 8,
    "start_time": "2022-08-12T21:11:28.258Z"
   },
   {
    "duration": 19,
    "start_time": "2022-08-12T21:11:28.267Z"
   },
   {
    "duration": 653,
    "start_time": "2022-08-12T21:11:28.287Z"
   },
   {
    "duration": 263,
    "start_time": "2022-08-12T21:11:28.941Z"
   },
   {
    "duration": 29,
    "start_time": "2022-08-12T21:11:29.206Z"
   },
   {
    "duration": 5,
    "start_time": "2022-08-12T21:11:29.236Z"
   },
   {
    "duration": 9,
    "start_time": "2022-08-12T21:11:29.242Z"
   },
   {
    "duration": 6,
    "start_time": "2022-08-12T21:11:29.252Z"
   },
   {
    "duration": 5,
    "start_time": "2022-08-12T21:11:29.259Z"
   },
   {
    "duration": 137,
    "start_time": "2022-08-12T21:11:29.266Z"
   },
   {
    "duration": 135,
    "start_time": "2022-08-12T21:11:29.405Z"
   },
   {
    "duration": 137,
    "start_time": "2022-08-12T21:11:29.542Z"
   },
   {
    "duration": 10,
    "start_time": "2022-08-12T21:11:29.680Z"
   },
   {
    "duration": 133,
    "start_time": "2022-08-12T21:11:29.691Z"
   },
   {
    "duration": 11,
    "start_time": "2022-08-12T21:11:29.826Z"
   },
   {
    "duration": 68,
    "start_time": "2022-08-12T21:15:52.612Z"
   },
   {
    "duration": 390,
    "start_time": "2022-08-12T21:16:08.989Z"
   },
   {
    "duration": 136,
    "start_time": "2022-08-12T21:16:09.381Z"
   },
   {
    "duration": 9,
    "start_time": "2022-08-12T21:16:09.519Z"
   },
   {
    "duration": 18,
    "start_time": "2022-08-12T21:16:09.530Z"
   },
   {
    "duration": 20,
    "start_time": "2022-08-12T21:16:09.550Z"
   },
   {
    "duration": 28,
    "start_time": "2022-08-12T21:16:09.572Z"
   },
   {
    "duration": 14,
    "start_time": "2022-08-12T21:16:09.602Z"
   },
   {
    "duration": 6,
    "start_time": "2022-08-12T21:16:09.618Z"
   },
   {
    "duration": 11,
    "start_time": "2022-08-12T21:16:09.625Z"
   },
   {
    "duration": 9,
    "start_time": "2022-08-12T21:16:09.639Z"
   },
   {
    "duration": 11,
    "start_time": "2022-08-12T21:16:09.649Z"
   },
   {
    "duration": 9,
    "start_time": "2022-08-12T21:16:09.661Z"
   },
   {
    "duration": 44,
    "start_time": "2022-08-12T21:16:09.671Z"
   },
   {
    "duration": 8,
    "start_time": "2022-08-12T21:16:09.716Z"
   },
   {
    "duration": 22,
    "start_time": "2022-08-12T21:16:09.725Z"
   },
   {
    "duration": 6,
    "start_time": "2022-08-12T21:16:09.749Z"
   },
   {
    "duration": 8,
    "start_time": "2022-08-12T21:16:09.756Z"
   },
   {
    "duration": 6,
    "start_time": "2022-08-12T21:16:09.765Z"
   },
   {
    "duration": 32,
    "start_time": "2022-08-12T21:16:09.772Z"
   },
   {
    "duration": 6,
    "start_time": "2022-08-12T21:16:09.806Z"
   },
   {
    "duration": 4,
    "start_time": "2022-08-12T21:16:09.813Z"
   },
   {
    "duration": 7,
    "start_time": "2022-08-12T21:16:09.819Z"
   },
   {
    "duration": 9,
    "start_time": "2022-08-12T21:16:09.827Z"
   },
   {
    "duration": 22,
    "start_time": "2022-08-12T21:16:09.838Z"
   },
   {
    "duration": 936,
    "start_time": "2022-08-12T21:16:09.862Z"
   },
   {
    "duration": 0,
    "start_time": "2022-08-12T21:16:10.800Z"
   },
   {
    "duration": 0,
    "start_time": "2022-08-12T21:16:10.801Z"
   },
   {
    "duration": 0,
    "start_time": "2022-08-12T21:16:10.802Z"
   },
   {
    "duration": 0,
    "start_time": "2022-08-12T21:16:10.803Z"
   },
   {
    "duration": 0,
    "start_time": "2022-08-12T21:16:10.804Z"
   },
   {
    "duration": 0,
    "start_time": "2022-08-12T21:16:10.804Z"
   },
   {
    "duration": 0,
    "start_time": "2022-08-12T21:16:10.806Z"
   },
   {
    "duration": 0,
    "start_time": "2022-08-12T21:16:10.806Z"
   },
   {
    "duration": 0,
    "start_time": "2022-08-12T21:16:10.808Z"
   },
   {
    "duration": 0,
    "start_time": "2022-08-12T21:16:10.808Z"
   },
   {
    "duration": 0,
    "start_time": "2022-08-12T21:16:10.810Z"
   },
   {
    "duration": 0,
    "start_time": "2022-08-12T21:16:10.811Z"
   },
   {
    "duration": 0,
    "start_time": "2022-08-12T21:16:10.811Z"
   },
   {
    "duration": 0,
    "start_time": "2022-08-12T21:16:10.813Z"
   },
   {
    "duration": 0,
    "start_time": "2022-08-12T21:16:10.814Z"
   },
   {
    "duration": 0,
    "start_time": "2022-08-12T21:16:10.815Z"
   },
   {
    "duration": 0,
    "start_time": "2022-08-12T21:16:10.815Z"
   },
   {
    "duration": 0,
    "start_time": "2022-08-12T21:16:10.816Z"
   },
   {
    "duration": 0,
    "start_time": "2022-08-12T21:16:10.818Z"
   },
   {
    "duration": 0,
    "start_time": "2022-08-12T21:16:10.819Z"
   },
   {
    "duration": 0,
    "start_time": "2022-08-12T21:16:10.820Z"
   },
   {
    "duration": 808,
    "start_time": "2022-08-12T21:16:52.995Z"
   },
   {
    "duration": 401,
    "start_time": "2022-08-12T21:17:01.012Z"
   },
   {
    "duration": 157,
    "start_time": "2022-08-12T21:17:01.415Z"
   },
   {
    "duration": 13,
    "start_time": "2022-08-12T21:17:01.574Z"
   },
   {
    "duration": 44,
    "start_time": "2022-08-12T21:17:01.590Z"
   },
   {
    "duration": 35,
    "start_time": "2022-08-12T21:17:01.637Z"
   },
   {
    "duration": 10,
    "start_time": "2022-08-12T21:17:01.674Z"
   },
   {
    "duration": 32,
    "start_time": "2022-08-12T21:17:01.686Z"
   },
   {
    "duration": 14,
    "start_time": "2022-08-12T21:17:01.719Z"
   },
   {
    "duration": 16,
    "start_time": "2022-08-12T21:17:01.734Z"
   },
   {
    "duration": 14,
    "start_time": "2022-08-12T21:17:01.751Z"
   },
   {
    "duration": 60,
    "start_time": "2022-08-12T21:17:01.767Z"
   },
   {
    "duration": 19,
    "start_time": "2022-08-12T21:17:01.829Z"
   },
   {
    "duration": 24,
    "start_time": "2022-08-12T21:17:01.850Z"
   },
   {
    "duration": 33,
    "start_time": "2022-08-12T21:17:01.878Z"
   },
   {
    "duration": 47,
    "start_time": "2022-08-12T21:17:01.912Z"
   },
   {
    "duration": 9,
    "start_time": "2022-08-12T21:17:01.961Z"
   },
   {
    "duration": 14,
    "start_time": "2022-08-12T21:17:01.971Z"
   },
   {
    "duration": 20,
    "start_time": "2022-08-12T21:17:01.987Z"
   },
   {
    "duration": 23,
    "start_time": "2022-08-12T21:17:02.008Z"
   },
   {
    "duration": 12,
    "start_time": "2022-08-12T21:17:02.033Z"
   },
   {
    "duration": 12,
    "start_time": "2022-08-12T21:17:02.047Z"
   },
   {
    "duration": 30,
    "start_time": "2022-08-12T21:17:02.061Z"
   },
   {
    "duration": 13,
    "start_time": "2022-08-12T21:17:02.093Z"
   },
   {
    "duration": 29,
    "start_time": "2022-08-12T21:17:02.107Z"
   },
   {
    "duration": 1024,
    "start_time": "2022-08-12T21:17:02.137Z"
   },
   {
    "duration": 0,
    "start_time": "2022-08-12T21:17:03.163Z"
   },
   {
    "duration": 0,
    "start_time": "2022-08-12T21:17:03.165Z"
   },
   {
    "duration": 0,
    "start_time": "2022-08-12T21:17:03.165Z"
   },
   {
    "duration": 0,
    "start_time": "2022-08-12T21:17:03.167Z"
   },
   {
    "duration": 0,
    "start_time": "2022-08-12T21:17:03.168Z"
   },
   {
    "duration": 0,
    "start_time": "2022-08-12T21:17:03.169Z"
   },
   {
    "duration": 0,
    "start_time": "2022-08-12T21:17:03.171Z"
   },
   {
    "duration": 0,
    "start_time": "2022-08-12T21:17:03.173Z"
   },
   {
    "duration": 0,
    "start_time": "2022-08-12T21:17:03.174Z"
   },
   {
    "duration": 0,
    "start_time": "2022-08-12T21:17:03.175Z"
   },
   {
    "duration": 0,
    "start_time": "2022-08-12T21:17:03.177Z"
   },
   {
    "duration": 0,
    "start_time": "2022-08-12T21:17:03.177Z"
   },
   {
    "duration": 0,
    "start_time": "2022-08-12T21:17:03.179Z"
   },
   {
    "duration": 0,
    "start_time": "2022-08-12T21:17:03.180Z"
   },
   {
    "duration": 0,
    "start_time": "2022-08-12T21:17:03.182Z"
   },
   {
    "duration": 0,
    "start_time": "2022-08-12T21:17:03.184Z"
   },
   {
    "duration": 0,
    "start_time": "2022-08-12T21:17:03.185Z"
   },
   {
    "duration": 0,
    "start_time": "2022-08-12T21:17:03.186Z"
   },
   {
    "duration": 0,
    "start_time": "2022-08-12T21:17:03.188Z"
   },
   {
    "duration": 0,
    "start_time": "2022-08-12T21:17:03.189Z"
   },
   {
    "duration": 0,
    "start_time": "2022-08-12T21:17:03.190Z"
   },
   {
    "duration": 12,
    "start_time": "2022-08-12T21:18:00.200Z"
   },
   {
    "duration": 380,
    "start_time": "2022-08-12T21:18:06.815Z"
   },
   {
    "duration": 127,
    "start_time": "2022-08-12T21:18:07.199Z"
   },
   {
    "duration": 12,
    "start_time": "2022-08-12T21:18:07.328Z"
   },
   {
    "duration": 18,
    "start_time": "2022-08-12T21:18:07.341Z"
   },
   {
    "duration": 20,
    "start_time": "2022-08-12T21:18:07.361Z"
   },
   {
    "duration": 17,
    "start_time": "2022-08-12T21:18:07.383Z"
   },
   {
    "duration": 15,
    "start_time": "2022-08-12T21:18:07.401Z"
   },
   {
    "duration": 5,
    "start_time": "2022-08-12T21:18:07.417Z"
   },
   {
    "duration": 16,
    "start_time": "2022-08-12T21:18:07.423Z"
   },
   {
    "duration": 8,
    "start_time": "2022-08-12T21:18:07.440Z"
   },
   {
    "duration": 12,
    "start_time": "2022-08-12T21:18:07.449Z"
   },
   {
    "duration": 11,
    "start_time": "2022-08-12T21:18:07.463Z"
   },
   {
    "duration": 38,
    "start_time": "2022-08-12T21:18:07.476Z"
   },
   {
    "duration": 8,
    "start_time": "2022-08-12T21:18:07.517Z"
   },
   {
    "duration": 22,
    "start_time": "2022-08-12T21:18:07.526Z"
   },
   {
    "duration": 7,
    "start_time": "2022-08-12T21:18:07.550Z"
   },
   {
    "duration": 6,
    "start_time": "2022-08-12T21:18:07.559Z"
   },
   {
    "duration": 34,
    "start_time": "2022-08-12T21:18:07.567Z"
   },
   {
    "duration": 13,
    "start_time": "2022-08-12T21:18:07.603Z"
   },
   {
    "duration": 7,
    "start_time": "2022-08-12T21:18:07.618Z"
   },
   {
    "duration": 11,
    "start_time": "2022-08-12T21:18:07.626Z"
   },
   {
    "duration": 11,
    "start_time": "2022-08-12T21:18:07.638Z"
   },
   {
    "duration": 6,
    "start_time": "2022-08-12T21:18:07.651Z"
   },
   {
    "duration": 43,
    "start_time": "2022-08-12T21:18:07.658Z"
   },
   {
    "duration": 66,
    "start_time": "2022-08-12T21:18:07.702Z"
   },
   {
    "duration": 0,
    "start_time": "2022-08-12T21:18:07.770Z"
   },
   {
    "duration": 0,
    "start_time": "2022-08-12T21:18:07.771Z"
   },
   {
    "duration": 0,
    "start_time": "2022-08-12T21:18:07.771Z"
   },
   {
    "duration": 0,
    "start_time": "2022-08-12T21:18:07.772Z"
   },
   {
    "duration": 0,
    "start_time": "2022-08-12T21:18:07.773Z"
   },
   {
    "duration": 0,
    "start_time": "2022-08-12T21:18:07.774Z"
   },
   {
    "duration": 0,
    "start_time": "2022-08-12T21:18:07.775Z"
   },
   {
    "duration": 0,
    "start_time": "2022-08-12T21:18:07.776Z"
   },
   {
    "duration": 0,
    "start_time": "2022-08-12T21:18:07.776Z"
   },
   {
    "duration": 0,
    "start_time": "2022-08-12T21:18:07.777Z"
   },
   {
    "duration": 0,
    "start_time": "2022-08-12T21:18:07.778Z"
   },
   {
    "duration": 0,
    "start_time": "2022-08-12T21:18:07.779Z"
   },
   {
    "duration": 0,
    "start_time": "2022-08-12T21:18:07.780Z"
   },
   {
    "duration": 0,
    "start_time": "2022-08-12T21:18:07.780Z"
   },
   {
    "duration": 0,
    "start_time": "2022-08-12T21:18:07.781Z"
   },
   {
    "duration": 0,
    "start_time": "2022-08-12T21:18:07.799Z"
   },
   {
    "duration": 0,
    "start_time": "2022-08-12T21:18:07.800Z"
   },
   {
    "duration": 0,
    "start_time": "2022-08-12T21:18:07.801Z"
   },
   {
    "duration": 0,
    "start_time": "2022-08-12T21:18:07.802Z"
   },
   {
    "duration": 1,
    "start_time": "2022-08-12T21:18:07.803Z"
   },
   {
    "duration": 0,
    "start_time": "2022-08-12T21:18:07.804Z"
   },
   {
    "duration": 10,
    "start_time": "2022-08-12T21:18:53.075Z"
   },
   {
    "duration": 21,
    "start_time": "2022-08-12T21:19:37.479Z"
   },
   {
    "duration": 355,
    "start_time": "2022-08-12T21:19:43.140Z"
   },
   {
    "duration": 124,
    "start_time": "2022-08-12T21:19:43.499Z"
   },
   {
    "duration": 10,
    "start_time": "2022-08-12T21:19:43.624Z"
   },
   {
    "duration": 16,
    "start_time": "2022-08-12T21:19:43.636Z"
   },
   {
    "duration": 22,
    "start_time": "2022-08-12T21:19:43.653Z"
   },
   {
    "duration": 9,
    "start_time": "2022-08-12T21:19:43.677Z"
   },
   {
    "duration": 19,
    "start_time": "2022-08-12T21:19:43.687Z"
   },
   {
    "duration": 5,
    "start_time": "2022-08-12T21:19:43.708Z"
   },
   {
    "duration": 13,
    "start_time": "2022-08-12T21:19:43.714Z"
   },
   {
    "duration": 6,
    "start_time": "2022-08-12T21:19:43.729Z"
   },
   {
    "duration": 23,
    "start_time": "2022-08-12T21:19:43.736Z"
   },
   {
    "duration": 11,
    "start_time": "2022-08-12T21:19:43.760Z"
   },
   {
    "duration": 28,
    "start_time": "2022-08-12T21:19:43.772Z"
   },
   {
    "duration": 21,
    "start_time": "2022-08-12T21:19:43.802Z"
   },
   {
    "duration": 18,
    "start_time": "2022-08-12T21:19:43.824Z"
   },
   {
    "duration": 7,
    "start_time": "2022-08-12T21:19:43.844Z"
   },
   {
    "duration": 11,
    "start_time": "2022-08-12T21:19:43.853Z"
   },
   {
    "duration": 6,
    "start_time": "2022-08-12T21:19:43.865Z"
   },
   {
    "duration": 36,
    "start_time": "2022-08-12T21:19:43.872Z"
   },
   {
    "duration": 19,
    "start_time": "2022-08-12T21:19:43.911Z"
   },
   {
    "duration": 8,
    "start_time": "2022-08-12T21:19:43.932Z"
   },
   {
    "duration": 9,
    "start_time": "2022-08-12T21:19:43.942Z"
   },
   {
    "duration": 11,
    "start_time": "2022-08-12T21:19:43.952Z"
   },
   {
    "duration": 21,
    "start_time": "2022-08-12T21:19:43.964Z"
   },
   {
    "duration": 18,
    "start_time": "2022-08-12T21:19:43.986Z"
   },
   {
    "duration": 9,
    "start_time": "2022-08-12T21:19:44.006Z"
   },
   {
    "duration": 12,
    "start_time": "2022-08-12T21:19:44.016Z"
   },
   {
    "duration": 23,
    "start_time": "2022-08-12T21:19:44.031Z"
   },
   {
    "duration": 30,
    "start_time": "2022-08-12T21:19:44.055Z"
   },
   {
    "duration": 5,
    "start_time": "2022-08-12T21:19:44.100Z"
   },
   {
    "duration": 395,
    "start_time": "2022-08-12T21:19:44.107Z"
   },
   {
    "duration": 8,
    "start_time": "2022-08-12T21:19:44.503Z"
   },
   {
    "duration": 10,
    "start_time": "2022-08-12T21:19:44.512Z"
   },
   {
    "duration": 678,
    "start_time": "2022-08-12T21:19:44.524Z"
   },
   {
    "duration": 262,
    "start_time": "2022-08-12T21:19:45.204Z"
   },
   {
    "duration": 34,
    "start_time": "2022-08-12T21:19:45.468Z"
   },
   {
    "duration": 4,
    "start_time": "2022-08-12T21:19:45.503Z"
   },
   {
    "duration": 9,
    "start_time": "2022-08-12T21:19:45.509Z"
   },
   {
    "duration": 5,
    "start_time": "2022-08-12T21:19:45.519Z"
   },
   {
    "duration": 6,
    "start_time": "2022-08-12T21:19:45.525Z"
   },
   {
    "duration": 135,
    "start_time": "2022-08-12T21:19:45.532Z"
   },
   {
    "duration": 133,
    "start_time": "2022-08-12T21:19:45.668Z"
   },
   {
    "duration": 131,
    "start_time": "2022-08-12T21:19:45.803Z"
   },
   {
    "duration": 9,
    "start_time": "2022-08-12T21:19:45.936Z"
   },
   {
    "duration": 134,
    "start_time": "2022-08-12T21:19:45.946Z"
   },
   {
    "duration": 20,
    "start_time": "2022-08-12T21:19:46.082Z"
   },
   {
    "duration": 46,
    "start_time": "2022-08-12T21:23:45.363Z"
   },
   {
    "duration": 51,
    "start_time": "2022-08-12T21:24:02.230Z"
   },
   {
    "duration": 14,
    "start_time": "2022-08-12T21:44:23.934Z"
   },
   {
    "duration": 63,
    "start_time": "2022-08-12T21:46:58.891Z"
   },
   {
    "duration": 56,
    "start_time": "2022-08-12T21:47:04.925Z"
   },
   {
    "duration": 4,
    "start_time": "2022-08-12T21:47:12.470Z"
   },
   {
    "duration": 72,
    "start_time": "2022-08-12T21:47:24.527Z"
   },
   {
    "duration": 7,
    "start_time": "2022-08-12T21:48:33.039Z"
   },
   {
    "duration": 7,
    "start_time": "2022-08-12T22:20:52.259Z"
   },
   {
    "duration": 427,
    "start_time": "2022-08-12T22:21:00.305Z"
   },
   {
    "duration": 133,
    "start_time": "2022-08-12T22:21:00.734Z"
   },
   {
    "duration": 14,
    "start_time": "2022-08-12T22:21:00.869Z"
   },
   {
    "duration": 19,
    "start_time": "2022-08-12T22:21:00.885Z"
   },
   {
    "duration": 30,
    "start_time": "2022-08-12T22:21:00.906Z"
   },
   {
    "duration": 10,
    "start_time": "2022-08-12T22:21:00.938Z"
   },
   {
    "duration": 14,
    "start_time": "2022-08-12T22:21:00.950Z"
   },
   {
    "duration": 15,
    "start_time": "2022-08-12T22:21:00.965Z"
   },
   {
    "duration": 24,
    "start_time": "2022-08-12T22:21:00.982Z"
   },
   {
    "duration": 6,
    "start_time": "2022-08-12T22:21:01.009Z"
   },
   {
    "duration": 19,
    "start_time": "2022-08-12T22:21:01.017Z"
   },
   {
    "duration": 16,
    "start_time": "2022-08-12T22:21:01.038Z"
   },
   {
    "duration": 30,
    "start_time": "2022-08-12T22:21:01.056Z"
   },
   {
    "duration": 46,
    "start_time": "2022-08-12T22:21:01.088Z"
   },
   {
    "duration": 25,
    "start_time": "2022-08-12T22:21:01.135Z"
   },
   {
    "duration": 58,
    "start_time": "2022-08-12T22:21:01.162Z"
   },
   {
    "duration": 0,
    "start_time": "2022-08-12T22:21:01.222Z"
   },
   {
    "duration": 0,
    "start_time": "2022-08-12T22:21:01.223Z"
   },
   {
    "duration": 0,
    "start_time": "2022-08-12T22:21:01.225Z"
   },
   {
    "duration": 0,
    "start_time": "2022-08-12T22:21:01.225Z"
   },
   {
    "duration": 0,
    "start_time": "2022-08-12T22:21:01.226Z"
   },
   {
    "duration": 0,
    "start_time": "2022-08-12T22:21:01.227Z"
   },
   {
    "duration": 0,
    "start_time": "2022-08-12T22:21:01.228Z"
   },
   {
    "duration": 0,
    "start_time": "2022-08-12T22:21:01.229Z"
   },
   {
    "duration": 0,
    "start_time": "2022-08-12T22:21:01.230Z"
   },
   {
    "duration": 0,
    "start_time": "2022-08-12T22:21:01.230Z"
   },
   {
    "duration": 0,
    "start_time": "2022-08-12T22:21:01.231Z"
   },
   {
    "duration": 0,
    "start_time": "2022-08-12T22:21:01.232Z"
   },
   {
    "duration": 0,
    "start_time": "2022-08-12T22:21:01.233Z"
   },
   {
    "duration": 0,
    "start_time": "2022-08-12T22:21:01.234Z"
   },
   {
    "duration": 0,
    "start_time": "2022-08-12T22:21:01.235Z"
   },
   {
    "duration": 0,
    "start_time": "2022-08-12T22:21:01.236Z"
   },
   {
    "duration": 0,
    "start_time": "2022-08-12T22:21:01.237Z"
   },
   {
    "duration": 0,
    "start_time": "2022-08-12T22:21:01.238Z"
   },
   {
    "duration": 0,
    "start_time": "2022-08-12T22:21:01.239Z"
   },
   {
    "duration": 0,
    "start_time": "2022-08-12T22:21:01.240Z"
   },
   {
    "duration": 0,
    "start_time": "2022-08-12T22:21:01.241Z"
   },
   {
    "duration": 0,
    "start_time": "2022-08-12T22:21:01.242Z"
   },
   {
    "duration": 0,
    "start_time": "2022-08-12T22:21:01.243Z"
   },
   {
    "duration": 0,
    "start_time": "2022-08-12T22:21:01.244Z"
   },
   {
    "duration": 0,
    "start_time": "2022-08-12T22:21:01.245Z"
   },
   {
    "duration": 0,
    "start_time": "2022-08-12T22:21:01.246Z"
   },
   {
    "duration": 0,
    "start_time": "2022-08-12T22:21:01.247Z"
   },
   {
    "duration": 0,
    "start_time": "2022-08-12T22:21:01.248Z"
   },
   {
    "duration": 0,
    "start_time": "2022-08-12T22:21:01.249Z"
   },
   {
    "duration": 0,
    "start_time": "2022-08-12T22:21:01.250Z"
   },
   {
    "duration": 0,
    "start_time": "2022-08-12T22:21:01.251Z"
   },
   {
    "duration": 0,
    "start_time": "2022-08-12T22:21:01.251Z"
   },
   {
    "duration": 6,
    "start_time": "2022-08-12T22:23:12.265Z"
   },
   {
    "duration": 2,
    "start_time": "2022-08-12T22:27:40.561Z"
   },
   {
    "duration": 765,
    "start_time": "2022-08-12T22:28:55.125Z"
   },
   {
    "duration": 14,
    "start_time": "2022-08-12T22:34:09.580Z"
   },
   {
    "duration": 3,
    "start_time": "2022-08-12T22:34:47.175Z"
   },
   {
    "duration": 14,
    "start_time": "2022-08-12T22:34:59.972Z"
   },
   {
    "duration": 895,
    "start_time": "2022-08-12T22:37:16.064Z"
   },
   {
    "duration": 7,
    "start_time": "2022-08-12T22:37:26.923Z"
   },
   {
    "duration": 12,
    "start_time": "2022-08-12T22:37:51.943Z"
   },
   {
    "duration": 16,
    "start_time": "2022-08-12T22:39:23.546Z"
   },
   {
    "duration": 381,
    "start_time": "2022-08-12T22:39:31.454Z"
   },
   {
    "duration": 131,
    "start_time": "2022-08-12T22:39:31.837Z"
   },
   {
    "duration": 9,
    "start_time": "2022-08-12T22:39:31.970Z"
   },
   {
    "duration": 32,
    "start_time": "2022-08-12T22:39:31.980Z"
   },
   {
    "duration": 25,
    "start_time": "2022-08-12T22:39:32.013Z"
   },
   {
    "duration": 11,
    "start_time": "2022-08-12T22:39:32.040Z"
   },
   {
    "duration": 13,
    "start_time": "2022-08-12T22:39:32.052Z"
   },
   {
    "duration": 8,
    "start_time": "2022-08-12T22:39:32.066Z"
   },
   {
    "duration": 29,
    "start_time": "2022-08-12T22:39:32.076Z"
   },
   {
    "duration": 6,
    "start_time": "2022-08-12T22:39:32.108Z"
   },
   {
    "duration": 11,
    "start_time": "2022-08-12T22:39:32.116Z"
   },
   {
    "duration": 16,
    "start_time": "2022-08-12T22:39:32.128Z"
   },
   {
    "duration": 18,
    "start_time": "2022-08-12T22:39:32.145Z"
   },
   {
    "duration": 50,
    "start_time": "2022-08-12T22:39:32.165Z"
   },
   {
    "duration": 26,
    "start_time": "2022-08-12T22:39:32.217Z"
   },
   {
    "duration": 12,
    "start_time": "2022-08-12T22:39:32.245Z"
   },
   {
    "duration": 10,
    "start_time": "2022-08-12T22:39:32.258Z"
   },
   {
    "duration": 32,
    "start_time": "2022-08-12T22:39:32.269Z"
   },
   {
    "duration": 11,
    "start_time": "2022-08-12T22:39:32.302Z"
   },
   {
    "duration": 9,
    "start_time": "2022-08-12T22:39:32.314Z"
   },
   {
    "duration": 7,
    "start_time": "2022-08-12T22:39:32.324Z"
   },
   {
    "duration": 10,
    "start_time": "2022-08-12T22:39:32.332Z"
   },
   {
    "duration": 10,
    "start_time": "2022-08-12T22:39:32.343Z"
   },
   {
    "duration": 26,
    "start_time": "2022-08-12T22:39:32.354Z"
   },
   {
    "duration": 9,
    "start_time": "2022-08-12T22:39:32.400Z"
   },
   {
    "duration": 10,
    "start_time": "2022-08-12T22:39:32.410Z"
   },
   {
    "duration": 11,
    "start_time": "2022-08-12T22:39:32.422Z"
   },
   {
    "duration": 24,
    "start_time": "2022-08-12T22:39:32.436Z"
   },
   {
    "duration": 58,
    "start_time": "2022-08-12T22:39:32.462Z"
   },
   {
    "duration": 6,
    "start_time": "2022-08-12T22:39:32.523Z"
   },
   {
    "duration": 388,
    "start_time": "2022-08-12T22:39:32.531Z"
   },
   {
    "duration": 7,
    "start_time": "2022-08-12T22:39:32.921Z"
   },
   {
    "duration": 10,
    "start_time": "2022-08-12T22:39:32.929Z"
   },
   {
    "duration": 80,
    "start_time": "2022-08-12T22:39:32.940Z"
   },
   {
    "duration": 0,
    "start_time": "2022-08-12T22:39:33.022Z"
   },
   {
    "duration": 0,
    "start_time": "2022-08-12T22:39:33.023Z"
   },
   {
    "duration": 0,
    "start_time": "2022-08-12T22:39:33.024Z"
   },
   {
    "duration": 0,
    "start_time": "2022-08-12T22:39:33.025Z"
   },
   {
    "duration": 0,
    "start_time": "2022-08-12T22:39:33.026Z"
   },
   {
    "duration": 0,
    "start_time": "2022-08-12T22:39:33.027Z"
   },
   {
    "duration": 0,
    "start_time": "2022-08-12T22:39:33.028Z"
   },
   {
    "duration": 0,
    "start_time": "2022-08-12T22:39:33.029Z"
   },
   {
    "duration": 0,
    "start_time": "2022-08-12T22:39:33.031Z"
   },
   {
    "duration": 0,
    "start_time": "2022-08-12T22:39:33.032Z"
   },
   {
    "duration": 0,
    "start_time": "2022-08-12T22:39:33.033Z"
   },
   {
    "duration": 0,
    "start_time": "2022-08-12T22:39:33.034Z"
   },
   {
    "duration": 0,
    "start_time": "2022-08-12T22:39:33.035Z"
   },
   {
    "duration": 0,
    "start_time": "2022-08-12T22:39:33.036Z"
   },
   {
    "duration": 14,
    "start_time": "2022-08-12T22:39:56.866Z"
   },
   {
    "duration": 408,
    "start_time": "2022-08-12T22:40:01.662Z"
   },
   {
    "duration": 136,
    "start_time": "2022-08-12T22:40:02.072Z"
   },
   {
    "duration": 11,
    "start_time": "2022-08-12T22:40:02.210Z"
   },
   {
    "duration": 33,
    "start_time": "2022-08-12T22:40:02.223Z"
   },
   {
    "duration": 25,
    "start_time": "2022-08-12T22:40:02.257Z"
   },
   {
    "duration": 11,
    "start_time": "2022-08-12T22:40:02.284Z"
   },
   {
    "duration": 15,
    "start_time": "2022-08-12T22:40:02.297Z"
   },
   {
    "duration": 8,
    "start_time": "2022-08-12T22:40:02.314Z"
   },
   {
    "duration": 21,
    "start_time": "2022-08-12T22:40:02.323Z"
   },
   {
    "duration": 23,
    "start_time": "2022-08-12T22:40:02.347Z"
   },
   {
    "duration": 14,
    "start_time": "2022-08-12T22:40:02.371Z"
   },
   {
    "duration": 9,
    "start_time": "2022-08-12T22:40:02.386Z"
   },
   {
    "duration": 16,
    "start_time": "2022-08-12T22:40:02.396Z"
   },
   {
    "duration": 21,
    "start_time": "2022-08-12T22:40:02.414Z"
   },
   {
    "duration": 20,
    "start_time": "2022-08-12T22:40:02.436Z"
   },
   {
    "duration": 11,
    "start_time": "2022-08-12T22:40:02.457Z"
   },
   {
    "duration": 32,
    "start_time": "2022-08-12T22:40:02.470Z"
   },
   {
    "duration": 12,
    "start_time": "2022-08-12T22:40:02.503Z"
   },
   {
    "duration": 10,
    "start_time": "2022-08-12T22:40:02.516Z"
   },
   {
    "duration": 16,
    "start_time": "2022-08-12T22:40:02.527Z"
   },
   {
    "duration": 18,
    "start_time": "2022-08-12T22:40:02.544Z"
   },
   {
    "duration": 14,
    "start_time": "2022-08-12T22:40:02.564Z"
   },
   {
    "duration": 23,
    "start_time": "2022-08-12T22:40:02.579Z"
   },
   {
    "duration": 23,
    "start_time": "2022-08-12T22:40:02.604Z"
   },
   {
    "duration": 18,
    "start_time": "2022-08-12T22:40:02.629Z"
   },
   {
    "duration": 12,
    "start_time": "2022-08-12T22:40:02.648Z"
   },
   {
    "duration": 13,
    "start_time": "2022-08-12T22:40:02.661Z"
   },
   {
    "duration": 31,
    "start_time": "2022-08-12T22:40:02.677Z"
   },
   {
    "duration": 31,
    "start_time": "2022-08-12T22:40:02.710Z"
   },
   {
    "duration": 5,
    "start_time": "2022-08-12T22:40:02.743Z"
   },
   {
    "duration": 407,
    "start_time": "2022-08-12T22:40:02.749Z"
   },
   {
    "duration": 8,
    "start_time": "2022-08-12T22:40:03.158Z"
   },
   {
    "duration": 9,
    "start_time": "2022-08-12T22:40:03.168Z"
   },
   {
    "duration": 80,
    "start_time": "2022-08-12T22:40:03.178Z"
   },
   {
    "duration": 0,
    "start_time": "2022-08-12T22:40:03.260Z"
   },
   {
    "duration": 0,
    "start_time": "2022-08-12T22:40:03.261Z"
   },
   {
    "duration": 0,
    "start_time": "2022-08-12T22:40:03.262Z"
   },
   {
    "duration": 0,
    "start_time": "2022-08-12T22:40:03.264Z"
   },
   {
    "duration": 0,
    "start_time": "2022-08-12T22:40:03.265Z"
   },
   {
    "duration": 0,
    "start_time": "2022-08-12T22:40:03.266Z"
   },
   {
    "duration": 0,
    "start_time": "2022-08-12T22:40:03.267Z"
   },
   {
    "duration": 0,
    "start_time": "2022-08-12T22:40:03.269Z"
   },
   {
    "duration": 0,
    "start_time": "2022-08-12T22:40:03.270Z"
   },
   {
    "duration": 0,
    "start_time": "2022-08-12T22:40:03.271Z"
   },
   {
    "duration": 0,
    "start_time": "2022-08-12T22:40:03.273Z"
   },
   {
    "duration": 0,
    "start_time": "2022-08-12T22:40:03.274Z"
   },
   {
    "duration": 0,
    "start_time": "2022-08-12T22:40:03.274Z"
   },
   {
    "duration": 0,
    "start_time": "2022-08-12T22:40:03.275Z"
   },
   {
    "duration": 17,
    "start_time": "2022-08-12T22:42:03.807Z"
   },
   {
    "duration": 385,
    "start_time": "2022-08-12T22:42:09.557Z"
   },
   {
    "duration": 145,
    "start_time": "2022-08-12T22:42:09.944Z"
   },
   {
    "duration": 16,
    "start_time": "2022-08-12T22:42:10.091Z"
   },
   {
    "duration": 38,
    "start_time": "2022-08-12T22:42:10.110Z"
   },
   {
    "duration": 52,
    "start_time": "2022-08-12T22:42:10.150Z"
   },
   {
    "duration": 16,
    "start_time": "2022-08-12T22:42:10.204Z"
   },
   {
    "duration": 29,
    "start_time": "2022-08-12T22:42:10.222Z"
   },
   {
    "duration": 10,
    "start_time": "2022-08-12T22:42:10.253Z"
   },
   {
    "duration": 37,
    "start_time": "2022-08-12T22:42:10.266Z"
   },
   {
    "duration": 20,
    "start_time": "2022-08-12T22:42:10.307Z"
   },
   {
    "duration": 33,
    "start_time": "2022-08-12T22:42:10.329Z"
   },
   {
    "duration": 26,
    "start_time": "2022-08-12T22:42:10.364Z"
   },
   {
    "duration": 30,
    "start_time": "2022-08-12T22:42:10.392Z"
   },
   {
    "duration": 22,
    "start_time": "2022-08-12T22:42:10.424Z"
   },
   {
    "duration": 26,
    "start_time": "2022-08-12T22:42:10.448Z"
   },
   {
    "duration": 36,
    "start_time": "2022-08-12T22:42:10.476Z"
   },
   {
    "duration": 9,
    "start_time": "2022-08-12T22:42:10.514Z"
   },
   {
    "duration": 17,
    "start_time": "2022-08-12T22:42:10.525Z"
   },
   {
    "duration": 33,
    "start_time": "2022-08-12T22:42:10.544Z"
   },
   {
    "duration": 44,
    "start_time": "2022-08-12T22:42:10.579Z"
   },
   {
    "duration": 16,
    "start_time": "2022-08-12T22:42:10.624Z"
   },
   {
    "duration": 32,
    "start_time": "2022-08-12T22:42:10.641Z"
   },
   {
    "duration": 24,
    "start_time": "2022-08-12T22:42:10.675Z"
   },
   {
    "duration": 26,
    "start_time": "2022-08-12T22:42:10.700Z"
   },
   {
    "duration": 19,
    "start_time": "2022-08-12T22:42:10.727Z"
   },
   {
    "duration": 45,
    "start_time": "2022-08-12T22:42:10.747Z"
   },
   {
    "duration": 28,
    "start_time": "2022-08-12T22:42:10.794Z"
   },
   {
    "duration": 40,
    "start_time": "2022-08-12T22:42:10.826Z"
   },
   {
    "duration": 55,
    "start_time": "2022-08-12T22:42:10.868Z"
   },
   {
    "duration": 6,
    "start_time": "2022-08-12T22:42:10.925Z"
   },
   {
    "duration": 391,
    "start_time": "2022-08-12T22:42:10.933Z"
   },
   {
    "duration": 8,
    "start_time": "2022-08-12T22:42:11.326Z"
   },
   {
    "duration": 15,
    "start_time": "2022-08-12T22:42:11.336Z"
   },
   {
    "duration": 107,
    "start_time": "2022-08-12T22:42:11.353Z"
   },
   {
    "duration": 0,
    "start_time": "2022-08-12T22:42:11.462Z"
   },
   {
    "duration": 0,
    "start_time": "2022-08-12T22:42:11.464Z"
   },
   {
    "duration": 0,
    "start_time": "2022-08-12T22:42:11.465Z"
   },
   {
    "duration": 0,
    "start_time": "2022-08-12T22:42:11.466Z"
   },
   {
    "duration": 0,
    "start_time": "2022-08-12T22:42:11.467Z"
   },
   {
    "duration": 0,
    "start_time": "2022-08-12T22:42:11.468Z"
   },
   {
    "duration": 0,
    "start_time": "2022-08-12T22:42:11.470Z"
   },
   {
    "duration": 0,
    "start_time": "2022-08-12T22:42:11.470Z"
   },
   {
    "duration": 0,
    "start_time": "2022-08-12T22:42:11.471Z"
   },
   {
    "duration": 0,
    "start_time": "2022-08-12T22:42:11.472Z"
   },
   {
    "duration": 0,
    "start_time": "2022-08-12T22:42:11.473Z"
   },
   {
    "duration": 0,
    "start_time": "2022-08-12T22:42:11.474Z"
   },
   {
    "duration": 0,
    "start_time": "2022-08-12T22:42:11.475Z"
   },
   {
    "duration": 1,
    "start_time": "2022-08-12T22:42:11.500Z"
   },
   {
    "duration": 345,
    "start_time": "2022-08-12T22:44:42.544Z"
   },
   {
    "duration": 125,
    "start_time": "2022-08-12T22:44:42.891Z"
   },
   {
    "duration": 9,
    "start_time": "2022-08-12T22:44:43.018Z"
   },
   {
    "duration": 16,
    "start_time": "2022-08-12T22:44:43.029Z"
   },
   {
    "duration": 19,
    "start_time": "2022-08-12T22:44:43.046Z"
   },
   {
    "duration": 11,
    "start_time": "2022-08-12T22:44:43.066Z"
   },
   {
    "duration": 32,
    "start_time": "2022-08-12T22:44:43.078Z"
   },
   {
    "duration": 6,
    "start_time": "2022-08-12T22:44:43.111Z"
   },
   {
    "duration": 14,
    "start_time": "2022-08-12T22:44:43.119Z"
   },
   {
    "duration": 7,
    "start_time": "2022-08-12T22:44:43.135Z"
   },
   {
    "duration": 10,
    "start_time": "2022-08-12T22:44:43.143Z"
   },
   {
    "duration": 10,
    "start_time": "2022-08-12T22:44:43.154Z"
   },
   {
    "duration": 39,
    "start_time": "2022-08-12T22:44:43.165Z"
   },
   {
    "duration": 20,
    "start_time": "2022-08-12T22:44:43.205Z"
   },
   {
    "duration": 17,
    "start_time": "2022-08-12T22:44:43.227Z"
   },
   {
    "duration": 14,
    "start_time": "2022-08-12T22:44:43.245Z"
   },
   {
    "duration": 6,
    "start_time": "2022-08-12T22:44:43.260Z"
   },
   {
    "duration": 34,
    "start_time": "2022-08-12T22:44:43.267Z"
   },
   {
    "duration": 7,
    "start_time": "2022-08-12T22:44:43.302Z"
   },
   {
    "duration": 8,
    "start_time": "2022-08-12T22:44:43.311Z"
   },
   {
    "duration": 6,
    "start_time": "2022-08-12T22:44:43.321Z"
   },
   {
    "duration": 13,
    "start_time": "2022-08-12T22:44:43.328Z"
   },
   {
    "duration": 7,
    "start_time": "2022-08-12T22:44:43.343Z"
   },
   {
    "duration": 24,
    "start_time": "2022-08-12T22:44:43.352Z"
   },
   {
    "duration": 28,
    "start_time": "2022-08-12T22:44:43.378Z"
   },
   {
    "duration": 9,
    "start_time": "2022-08-12T22:44:43.408Z"
   },
   {
    "duration": 13,
    "start_time": "2022-08-12T22:44:43.418Z"
   },
   {
    "duration": 24,
    "start_time": "2022-08-12T22:44:43.434Z"
   },
   {
    "duration": 50,
    "start_time": "2022-08-12T22:44:43.459Z"
   },
   {
    "duration": 6,
    "start_time": "2022-08-12T22:44:43.510Z"
   },
   {
    "duration": 410,
    "start_time": "2022-08-12T22:44:43.517Z"
   },
   {
    "duration": 7,
    "start_time": "2022-08-12T22:44:43.929Z"
   },
   {
    "duration": 8,
    "start_time": "2022-08-12T22:44:43.938Z"
   },
   {
    "duration": 73,
    "start_time": "2022-08-12T22:44:43.948Z"
   },
   {
    "duration": 0,
    "start_time": "2022-08-12T22:44:44.023Z"
   },
   {
    "duration": 0,
    "start_time": "2022-08-12T22:44:44.024Z"
   },
   {
    "duration": 0,
    "start_time": "2022-08-12T22:44:44.025Z"
   },
   {
    "duration": 0,
    "start_time": "2022-08-12T22:44:44.026Z"
   },
   {
    "duration": 0,
    "start_time": "2022-08-12T22:44:44.027Z"
   },
   {
    "duration": 0,
    "start_time": "2022-08-12T22:44:44.028Z"
   },
   {
    "duration": 0,
    "start_time": "2022-08-12T22:44:44.029Z"
   },
   {
    "duration": 0,
    "start_time": "2022-08-12T22:44:44.030Z"
   },
   {
    "duration": 0,
    "start_time": "2022-08-12T22:44:44.031Z"
   },
   {
    "duration": 0,
    "start_time": "2022-08-12T22:44:44.032Z"
   },
   {
    "duration": 0,
    "start_time": "2022-08-12T22:44:44.033Z"
   },
   {
    "duration": 0,
    "start_time": "2022-08-12T22:44:44.034Z"
   },
   {
    "duration": 0,
    "start_time": "2022-08-12T22:44:44.035Z"
   },
   {
    "duration": 0,
    "start_time": "2022-08-12T22:44:44.036Z"
   },
   {
    "duration": 210,
    "start_time": "2022-08-12T22:46:45.933Z"
   },
   {
    "duration": 368,
    "start_time": "2022-08-12T22:46:51.057Z"
   },
   {
    "duration": 139,
    "start_time": "2022-08-12T22:46:51.428Z"
   },
   {
    "duration": 13,
    "start_time": "2022-08-12T22:46:51.569Z"
   },
   {
    "duration": 40,
    "start_time": "2022-08-12T22:46:51.584Z"
   },
   {
    "duration": 32,
    "start_time": "2022-08-12T22:46:51.626Z"
   },
   {
    "duration": 19,
    "start_time": "2022-08-12T22:46:51.659Z"
   },
   {
    "duration": 14,
    "start_time": "2022-08-12T22:46:51.679Z"
   },
   {
    "duration": 20,
    "start_time": "2022-08-12T22:46:51.694Z"
   },
   {
    "duration": 31,
    "start_time": "2022-08-12T22:46:51.715Z"
   },
   {
    "duration": 14,
    "start_time": "2022-08-12T22:46:51.748Z"
   },
   {
    "duration": 31,
    "start_time": "2022-08-12T22:46:51.763Z"
   },
   {
    "duration": 21,
    "start_time": "2022-08-12T22:46:51.795Z"
   },
   {
    "duration": 18,
    "start_time": "2022-08-12T22:46:51.817Z"
   },
   {
    "duration": 21,
    "start_time": "2022-08-12T22:46:51.836Z"
   },
   {
    "duration": 18,
    "start_time": "2022-08-12T22:46:51.859Z"
   },
   {
    "duration": 31,
    "start_time": "2022-08-12T22:46:51.879Z"
   },
   {
    "duration": 6,
    "start_time": "2022-08-12T22:46:51.911Z"
   },
   {
    "duration": 6,
    "start_time": "2022-08-12T22:46:51.919Z"
   },
   {
    "duration": 9,
    "start_time": "2022-08-12T22:46:51.927Z"
   },
   {
    "duration": 6,
    "start_time": "2022-08-12T22:46:51.937Z"
   },
   {
    "duration": 4,
    "start_time": "2022-08-12T22:46:51.944Z"
   },
   {
    "duration": 11,
    "start_time": "2022-08-12T22:46:51.949Z"
   },
   {
    "duration": 6,
    "start_time": "2022-08-12T22:46:51.961Z"
   },
   {
    "duration": 49,
    "start_time": "2022-08-12T22:46:51.969Z"
   },
   {
    "duration": 7,
    "start_time": "2022-08-12T22:46:52.020Z"
   },
   {
    "duration": 11,
    "start_time": "2022-08-12T22:46:52.028Z"
   },
   {
    "duration": 8,
    "start_time": "2022-08-12T22:46:52.040Z"
   },
   {
    "duration": 23,
    "start_time": "2022-08-12T22:46:52.050Z"
   },
   {
    "duration": 29,
    "start_time": "2022-08-12T22:46:52.100Z"
   },
   {
    "duration": 5,
    "start_time": "2022-08-12T22:46:52.131Z"
   },
   {
    "duration": 377,
    "start_time": "2022-08-12T22:46:52.138Z"
   },
   {
    "duration": 8,
    "start_time": "2022-08-12T22:46:52.516Z"
   },
   {
    "duration": 9,
    "start_time": "2022-08-12T22:46:52.525Z"
   },
   {
    "duration": 222,
    "start_time": "2022-08-12T22:46:52.536Z"
   },
   {
    "duration": 200,
    "start_time": "2022-08-12T22:46:52.760Z"
   },
   {
    "duration": 27,
    "start_time": "2022-08-12T22:46:52.962Z"
   },
   {
    "duration": 6,
    "start_time": "2022-08-12T22:46:53.000Z"
   },
   {
    "duration": 17,
    "start_time": "2022-08-12T22:46:53.007Z"
   },
   {
    "duration": 6,
    "start_time": "2022-08-12T22:46:53.025Z"
   },
   {
    "duration": 7,
    "start_time": "2022-08-12T22:46:53.033Z"
   },
   {
    "duration": 127,
    "start_time": "2022-08-12T22:46:53.041Z"
   },
   {
    "duration": 205,
    "start_time": "2022-08-12T22:46:53.169Z"
   },
   {
    "duration": 128,
    "start_time": "2022-08-12T22:46:53.376Z"
   },
   {
    "duration": 9,
    "start_time": "2022-08-12T22:46:53.506Z"
   },
   {
    "duration": 141,
    "start_time": "2022-08-12T22:46:53.517Z"
   },
   {
    "duration": 4,
    "start_time": "2022-08-12T22:46:53.660Z"
   },
   {
    "duration": 14,
    "start_time": "2022-08-12T22:46:53.666Z"
   },
   {
    "duration": 23,
    "start_time": "2022-08-12T22:46:53.681Z"
   },
   {
    "duration": 363,
    "start_time": "2022-08-12T22:49:05.923Z"
   },
   {
    "duration": 127,
    "start_time": "2022-08-12T22:49:06.287Z"
   },
   {
    "duration": 11,
    "start_time": "2022-08-12T22:49:06.415Z"
   },
   {
    "duration": 23,
    "start_time": "2022-08-12T22:49:06.428Z"
   },
   {
    "duration": 26,
    "start_time": "2022-08-12T22:49:06.453Z"
   },
   {
    "duration": 23,
    "start_time": "2022-08-12T22:49:06.480Z"
   },
   {
    "duration": 16,
    "start_time": "2022-08-12T22:49:06.504Z"
   },
   {
    "duration": 7,
    "start_time": "2022-08-12T22:49:06.522Z"
   },
   {
    "duration": 14,
    "start_time": "2022-08-12T22:49:06.531Z"
   },
   {
    "duration": 7,
    "start_time": "2022-08-12T22:49:06.548Z"
   },
   {
    "duration": 43,
    "start_time": "2022-08-12T22:49:06.557Z"
   },
   {
    "duration": 10,
    "start_time": "2022-08-12T22:49:06.602Z"
   },
   {
    "duration": 18,
    "start_time": "2022-08-12T22:49:06.613Z"
   },
   {
    "duration": 23,
    "start_time": "2022-08-12T22:49:06.632Z"
   },
   {
    "duration": 49,
    "start_time": "2022-08-12T22:49:06.657Z"
   },
   {
    "duration": 10,
    "start_time": "2022-08-12T22:49:06.707Z"
   },
   {
    "duration": 9,
    "start_time": "2022-08-12T22:49:06.718Z"
   },
   {
    "duration": 8,
    "start_time": "2022-08-12T22:49:06.728Z"
   },
   {
    "duration": 13,
    "start_time": "2022-08-12T22:49:06.737Z"
   },
   {
    "duration": 6,
    "start_time": "2022-08-12T22:49:06.751Z"
   },
   {
    "duration": 7,
    "start_time": "2022-08-12T22:49:06.758Z"
   },
   {
    "duration": 8,
    "start_time": "2022-08-12T22:49:06.767Z"
   },
   {
    "duration": 25,
    "start_time": "2022-08-12T22:49:06.776Z"
   },
   {
    "duration": 20,
    "start_time": "2022-08-12T22:49:06.802Z"
   },
   {
    "duration": 10,
    "start_time": "2022-08-12T22:49:06.823Z"
   },
   {
    "duration": 8,
    "start_time": "2022-08-12T22:49:06.834Z"
   },
   {
    "duration": 12,
    "start_time": "2022-08-12T22:49:06.844Z"
   },
   {
    "duration": 42,
    "start_time": "2022-08-12T22:49:06.859Z"
   },
   {
    "duration": 26,
    "start_time": "2022-08-12T22:49:06.902Z"
   },
   {
    "duration": 4,
    "start_time": "2022-08-12T22:49:06.930Z"
   },
   {
    "duration": 383,
    "start_time": "2022-08-12T22:49:06.936Z"
   },
   {
    "duration": 6,
    "start_time": "2022-08-12T22:49:07.321Z"
   },
   {
    "duration": 8,
    "start_time": "2022-08-12T22:49:07.329Z"
   },
   {
    "duration": 234,
    "start_time": "2022-08-12T22:49:07.339Z"
   },
   {
    "duration": 206,
    "start_time": "2022-08-12T22:49:07.574Z"
   },
   {
    "duration": 37,
    "start_time": "2022-08-12T22:49:07.782Z"
   },
   {
    "duration": 4,
    "start_time": "2022-08-12T22:49:07.821Z"
   },
   {
    "duration": 8,
    "start_time": "2022-08-12T22:49:07.827Z"
   },
   {
    "duration": 7,
    "start_time": "2022-08-12T22:49:07.836Z"
   },
   {
    "duration": 11,
    "start_time": "2022-08-12T22:49:07.844Z"
   },
   {
    "duration": 131,
    "start_time": "2022-08-12T22:49:07.856Z"
   },
   {
    "duration": 195,
    "start_time": "2022-08-12T22:49:07.989Z"
   },
   {
    "duration": 135,
    "start_time": "2022-08-12T22:49:08.186Z"
   },
   {
    "duration": 10,
    "start_time": "2022-08-12T22:49:08.323Z"
   },
   {
    "duration": 139,
    "start_time": "2022-08-12T22:49:08.334Z"
   },
   {
    "duration": 5,
    "start_time": "2022-08-12T22:49:08.475Z"
   },
   {
    "duration": 21,
    "start_time": "2022-08-12T22:49:08.482Z"
   },
   {
    "duration": 11,
    "start_time": "2022-08-12T22:49:08.504Z"
   },
   {
    "duration": 8,
    "start_time": "2022-08-12T22:59:02.530Z"
   },
   {
    "duration": 7,
    "start_time": "2022-08-12T22:59:13.071Z"
   },
   {
    "duration": 4,
    "start_time": "2022-08-12T23:00:04.771Z"
   },
   {
    "duration": 16,
    "start_time": "2022-08-12T23:00:09.537Z"
   },
   {
    "duration": 29,
    "start_time": "2022-08-12T23:00:40.095Z"
   },
   {
    "duration": 30,
    "start_time": "2022-08-12T23:00:57.307Z"
   },
   {
    "duration": 426,
    "start_time": "2022-08-12T23:03:10.001Z"
   },
   {
    "duration": 142,
    "start_time": "2022-08-12T23:03:10.430Z"
   },
   {
    "duration": 10,
    "start_time": "2022-08-12T23:03:10.573Z"
   },
   {
    "duration": 15,
    "start_time": "2022-08-12T23:03:10.585Z"
   },
   {
    "duration": 21,
    "start_time": "2022-08-12T23:03:10.602Z"
   },
   {
    "duration": 11,
    "start_time": "2022-08-12T23:03:10.625Z"
   },
   {
    "duration": 13,
    "start_time": "2022-08-12T23:03:10.638Z"
   },
   {
    "duration": 6,
    "start_time": "2022-08-12T23:03:10.653Z"
   },
   {
    "duration": 15,
    "start_time": "2022-08-12T23:03:10.660Z"
   },
   {
    "duration": 25,
    "start_time": "2022-08-12T23:03:10.677Z"
   },
   {
    "duration": 12,
    "start_time": "2022-08-12T23:03:10.704Z"
   },
   {
    "duration": 9,
    "start_time": "2022-08-12T23:03:10.718Z"
   },
   {
    "duration": 16,
    "start_time": "2022-08-12T23:03:10.728Z"
   },
   {
    "duration": 21,
    "start_time": "2022-08-12T23:03:10.746Z"
   },
   {
    "duration": 21,
    "start_time": "2022-08-12T23:03:10.800Z"
   },
   {
    "duration": 11,
    "start_time": "2022-08-12T23:03:10.822Z"
   },
   {
    "duration": 7,
    "start_time": "2022-08-12T23:03:10.834Z"
   },
   {
    "duration": 11,
    "start_time": "2022-08-12T23:03:10.844Z"
   },
   {
    "duration": 17,
    "start_time": "2022-08-12T23:03:10.857Z"
   },
   {
    "duration": 7,
    "start_time": "2022-08-12T23:03:10.900Z"
   },
   {
    "duration": 6,
    "start_time": "2022-08-12T23:03:10.909Z"
   },
   {
    "duration": 13,
    "start_time": "2022-08-12T23:03:10.917Z"
   },
   {
    "duration": 9,
    "start_time": "2022-08-12T23:03:10.932Z"
   },
   {
    "duration": 23,
    "start_time": "2022-08-12T23:03:10.943Z"
   },
   {
    "duration": 37,
    "start_time": "2022-08-12T23:03:10.968Z"
   },
   {
    "duration": 22,
    "start_time": "2022-08-12T23:03:11.007Z"
   },
   {
    "duration": 12,
    "start_time": "2022-08-12T23:03:11.030Z"
   },
   {
    "duration": 24,
    "start_time": "2022-08-12T23:03:11.045Z"
   },
   {
    "duration": 46,
    "start_time": "2022-08-12T23:03:11.071Z"
   },
   {
    "duration": 6,
    "start_time": "2022-08-12T23:03:11.118Z"
   },
   {
    "duration": 422,
    "start_time": "2022-08-12T23:03:11.125Z"
   },
   {
    "duration": 9,
    "start_time": "2022-08-12T23:03:11.549Z"
   },
   {
    "duration": 14,
    "start_time": "2022-08-12T23:03:11.560Z"
   },
   {
    "duration": 228,
    "start_time": "2022-08-12T23:03:11.575Z"
   },
   {
    "duration": 217,
    "start_time": "2022-08-12T23:03:11.805Z"
   },
   {
    "duration": 27,
    "start_time": "2022-08-12T23:03:12.023Z"
   },
   {
    "duration": 4,
    "start_time": "2022-08-12T23:03:12.051Z"
   },
   {
    "duration": 10,
    "start_time": "2022-08-12T23:03:12.057Z"
   },
   {
    "duration": 7,
    "start_time": "2022-08-12T23:03:12.069Z"
   },
   {
    "duration": 27,
    "start_time": "2022-08-12T23:03:12.077Z"
   },
   {
    "duration": 127,
    "start_time": "2022-08-12T23:03:12.105Z"
   },
   {
    "duration": 201,
    "start_time": "2022-08-12T23:03:12.234Z"
   },
   {
    "duration": 132,
    "start_time": "2022-08-12T23:03:12.437Z"
   },
   {
    "duration": 10,
    "start_time": "2022-08-12T23:03:12.570Z"
   },
   {
    "duration": 136,
    "start_time": "2022-08-12T23:03:12.581Z"
   },
   {
    "duration": 4,
    "start_time": "2022-08-12T23:03:12.718Z"
   },
   {
    "duration": 14,
    "start_time": "2022-08-12T23:03:12.723Z"
   },
   {
    "duration": 10,
    "start_time": "2022-08-12T23:03:12.738Z"
   },
   {
    "duration": 45,
    "start_time": "2022-08-13T19:27:14.291Z"
   },
   {
    "duration": 438,
    "start_time": "2022-08-13T19:27:16.620Z"
   },
   {
    "duration": 352,
    "start_time": "2022-08-13T19:27:17.061Z"
   },
   {
    "duration": 10,
    "start_time": "2022-08-13T19:27:17.415Z"
   },
   {
    "duration": 16,
    "start_time": "2022-08-13T19:27:17.428Z"
   },
   {
    "duration": 22,
    "start_time": "2022-08-13T19:27:17.445Z"
   },
   {
    "duration": 11,
    "start_time": "2022-08-13T19:27:17.468Z"
   },
   {
    "duration": 37,
    "start_time": "2022-08-13T19:27:17.480Z"
   },
   {
    "duration": 8,
    "start_time": "2022-08-13T19:27:17.519Z"
   },
   {
    "duration": 14,
    "start_time": "2022-08-13T19:27:17.529Z"
   },
   {
    "duration": 6,
    "start_time": "2022-08-13T19:27:17.546Z"
   },
   {
    "duration": 11,
    "start_time": "2022-08-13T19:27:17.554Z"
   },
   {
    "duration": 9,
    "start_time": "2022-08-13T19:27:17.567Z"
   },
   {
    "duration": 45,
    "start_time": "2022-08-13T19:27:17.577Z"
   },
   {
    "duration": 22,
    "start_time": "2022-08-13T19:27:17.624Z"
   },
   {
    "duration": 19,
    "start_time": "2022-08-13T19:27:17.648Z"
   },
   {
    "duration": 3,
    "start_time": "2022-08-13T19:27:17.669Z"
   },
   {
    "duration": 41,
    "start_time": "2022-08-13T19:27:17.674Z"
   },
   {
    "duration": 21,
    "start_time": "2022-08-13T19:27:17.717Z"
   },
   {
    "duration": 7,
    "start_time": "2022-08-13T19:27:17.740Z"
   },
   {
    "duration": 7,
    "start_time": "2022-08-13T19:27:17.749Z"
   },
   {
    "duration": 10,
    "start_time": "2022-08-13T19:27:17.758Z"
   },
   {
    "duration": 6,
    "start_time": "2022-08-13T19:27:17.770Z"
   },
   {
    "duration": 34,
    "start_time": "2022-08-13T19:27:17.778Z"
   },
   {
    "duration": 12,
    "start_time": "2022-08-13T19:27:17.814Z"
   },
   {
    "duration": 9,
    "start_time": "2022-08-13T19:27:17.827Z"
   },
   {
    "duration": 23,
    "start_time": "2022-08-13T19:27:17.837Z"
   },
   {
    "duration": 10,
    "start_time": "2022-08-13T19:27:17.861Z"
   },
   {
    "duration": 35,
    "start_time": "2022-08-13T19:27:17.874Z"
   },
   {
    "duration": 9,
    "start_time": "2022-08-13T19:27:17.910Z"
   },
   {
    "duration": 26,
    "start_time": "2022-08-13T19:27:17.921Z"
   },
   {
    "duration": 29,
    "start_time": "2022-08-13T19:27:17.949Z"
   },
   {
    "duration": 34,
    "start_time": "2022-08-13T19:27:17.979Z"
   },
   {
    "duration": 602,
    "start_time": "2022-08-13T19:27:18.015Z"
   },
   {
    "duration": 8,
    "start_time": "2022-08-13T19:27:18.619Z"
   },
   {
    "duration": 9,
    "start_time": "2022-08-13T19:27:18.629Z"
   },
   {
    "duration": 247,
    "start_time": "2022-08-13T19:27:18.639Z"
   },
   {
    "duration": 214,
    "start_time": "2022-08-13T19:27:18.888Z"
   },
   {
    "duration": 32,
    "start_time": "2022-08-13T19:27:19.104Z"
   },
   {
    "duration": 4,
    "start_time": "2022-08-13T19:27:19.138Z"
   },
   {
    "duration": 8,
    "start_time": "2022-08-13T19:27:19.144Z"
   },
   {
    "duration": 11,
    "start_time": "2022-08-13T19:27:19.154Z"
   },
   {
    "duration": 19,
    "start_time": "2022-08-13T19:27:19.167Z"
   },
   {
    "duration": 137,
    "start_time": "2022-08-13T19:27:19.187Z"
   },
   {
    "duration": 208,
    "start_time": "2022-08-13T19:27:19.325Z"
   },
   {
    "duration": 184,
    "start_time": "2022-08-13T19:27:19.535Z"
   },
   {
    "duration": 18,
    "start_time": "2022-08-13T19:27:19.722Z"
   },
   {
    "duration": 150,
    "start_time": "2022-08-13T19:27:19.743Z"
   },
   {
    "duration": 7,
    "start_time": "2022-08-13T19:27:19.895Z"
   },
   {
    "duration": 19,
    "start_time": "2022-08-13T19:27:19.909Z"
   },
   {
    "duration": 18,
    "start_time": "2022-08-13T19:27:19.930Z"
   },
   {
    "duration": 14,
    "start_time": "2022-08-13T19:29:23.413Z"
   },
   {
    "duration": 3,
    "start_time": "2022-08-13T19:29:28.360Z"
   },
   {
    "duration": 142,
    "start_time": "2022-08-13T19:29:28.364Z"
   },
   {
    "duration": 9,
    "start_time": "2022-08-13T19:29:28.508Z"
   },
   {
    "duration": 23,
    "start_time": "2022-08-13T19:29:28.518Z"
   },
   {
    "duration": 24,
    "start_time": "2022-08-13T19:29:28.543Z"
   },
   {
    "duration": 11,
    "start_time": "2022-08-13T19:29:28.569Z"
   },
   {
    "duration": 29,
    "start_time": "2022-08-13T19:29:28.582Z"
   },
   {
    "duration": 5,
    "start_time": "2022-08-13T19:29:28.612Z"
   },
   {
    "duration": 13,
    "start_time": "2022-08-13T19:29:28.619Z"
   },
   {
    "duration": 6,
    "start_time": "2022-08-13T19:29:28.634Z"
   },
   {
    "duration": 13,
    "start_time": "2022-08-13T19:29:28.642Z"
   },
   {
    "duration": 8,
    "start_time": "2022-08-13T19:29:28.656Z"
   },
   {
    "duration": 17,
    "start_time": "2022-08-13T19:29:28.665Z"
   },
   {
    "duration": 25,
    "start_time": "2022-08-13T19:29:28.708Z"
   },
   {
    "duration": 19,
    "start_time": "2022-08-13T19:29:28.734Z"
   },
   {
    "duration": 3,
    "start_time": "2022-08-13T19:29:28.754Z"
   },
   {
    "duration": 12,
    "start_time": "2022-08-13T19:29:28.758Z"
   },
   {
    "duration": 47,
    "start_time": "2022-08-13T19:29:28.771Z"
   },
   {
    "duration": 8,
    "start_time": "2022-08-13T19:29:28.820Z"
   },
   {
    "duration": 5,
    "start_time": "2022-08-13T19:29:28.829Z"
   },
   {
    "duration": 9,
    "start_time": "2022-08-13T19:29:28.835Z"
   },
   {
    "duration": 6,
    "start_time": "2022-08-13T19:29:28.846Z"
   },
   {
    "duration": 4,
    "start_time": "2022-08-13T19:29:28.854Z"
   },
   {
    "duration": 8,
    "start_time": "2022-08-13T19:29:28.859Z"
   },
   {
    "duration": 39,
    "start_time": "2022-08-13T19:29:28.869Z"
   },
   {
    "duration": 21,
    "start_time": "2022-08-13T19:29:28.910Z"
   },
   {
    "duration": 10,
    "start_time": "2022-08-13T19:29:28.933Z"
   },
   {
    "duration": 11,
    "start_time": "2022-08-13T19:29:28.944Z"
   },
   {
    "duration": 8,
    "start_time": "2022-08-13T19:29:28.958Z"
   },
   {
    "duration": 44,
    "start_time": "2022-08-13T19:29:28.967Z"
   },
   {
    "duration": 31,
    "start_time": "2022-08-13T19:29:29.013Z"
   },
   {
    "duration": 14,
    "start_time": "2022-08-13T19:29:29.045Z"
   },
   {
    "duration": 6,
    "start_time": "2022-08-13T19:29:29.060Z"
   },
   {
    "duration": 157,
    "start_time": "2022-08-13T19:29:29.108Z"
   },
   {
    "duration": 7,
    "start_time": "2022-08-13T19:29:29.266Z"
   },
   {
    "duration": 9,
    "start_time": "2022-08-13T19:29:29.275Z"
   },
   {
    "duration": 234,
    "start_time": "2022-08-13T19:29:29.285Z"
   },
   {
    "duration": 230,
    "start_time": "2022-08-13T19:29:29.521Z"
   },
   {
    "duration": 29,
    "start_time": "2022-08-13T19:29:29.753Z"
   },
   {
    "duration": 32,
    "start_time": "2022-08-13T19:29:29.784Z"
   },
   {
    "duration": 11,
    "start_time": "2022-08-13T19:29:29.817Z"
   },
   {
    "duration": 6,
    "start_time": "2022-08-13T19:29:29.829Z"
   },
   {
    "duration": 8,
    "start_time": "2022-08-13T19:29:29.836Z"
   },
   {
    "duration": 143,
    "start_time": "2022-08-13T19:29:29.845Z"
   },
   {
    "duration": 151,
    "start_time": "2022-08-13T19:29:29.989Z"
   },
   {
    "duration": 142,
    "start_time": "2022-08-13T19:29:30.141Z"
   },
   {
    "duration": 9,
    "start_time": "2022-08-13T19:29:30.285Z"
   },
   {
    "duration": 168,
    "start_time": "2022-08-13T19:29:30.295Z"
   },
   {
    "duration": 3,
    "start_time": "2022-08-13T19:29:30.465Z"
   },
   {
    "duration": 19,
    "start_time": "2022-08-13T19:29:30.470Z"
   },
   {
    "duration": 19,
    "start_time": "2022-08-13T19:29:30.490Z"
   },
   {
    "duration": 31,
    "start_time": "2022-08-13T19:32:16.026Z"
   },
   {
    "duration": 35,
    "start_time": "2022-08-13T19:32:20.165Z"
   },
   {
    "duration": 28,
    "start_time": "2022-08-13T19:32:51.677Z"
   },
   {
    "duration": 26,
    "start_time": "2022-08-13T19:33:00.709Z"
   },
   {
    "duration": 40,
    "start_time": "2022-08-13T19:33:43.968Z"
   },
   {
    "duration": 38,
    "start_time": "2022-08-13T19:33:49.653Z"
   },
   {
    "duration": 10,
    "start_time": "2022-08-13T19:34:06.077Z"
   },
   {
    "duration": 11,
    "start_time": "2022-08-13T19:34:15.483Z"
   },
   {
    "duration": 4,
    "start_time": "2022-08-13T19:34:35.358Z"
   },
   {
    "duration": 5,
    "start_time": "2022-08-13T19:34:48.483Z"
   },
   {
    "duration": 4,
    "start_time": "2022-08-13T19:34:59.238Z"
   }
  ],
  "colab": {
   "name": "DA+. Сборный проект 1. Шаблон (1).ipynb",
   "provenance": []
  },
  "kernelspec": {
   "display_name": "Python 3 (ipykernel)",
   "language": "python",
   "name": "python3"
  },
  "language_info": {
   "codemirror_mode": {
    "name": "ipython",
    "version": 3
   },
   "file_extension": ".py",
   "mimetype": "text/x-python",
   "name": "python",
   "nbconvert_exporter": "python",
   "pygments_lexer": "ipython3",
   "version": "3.9.12"
  },
  "toc": {
   "base_numbering": 1,
   "nav_menu": {},
   "number_sections": true,
   "sideBar": true,
   "skip_h1_title": true,
   "title_cell": "Table of Contents",
   "title_sidebar": "Contents",
   "toc_cell": false,
   "toc_position": {
    "height": "calc(100% - 180px)",
    "left": "10px",
    "top": "150px",
    "width": "375.391px"
   },
   "toc_section_display": true,
   "toc_window_display": false
  }
 },
 "nbformat": 4,
 "nbformat_minor": 1
}
