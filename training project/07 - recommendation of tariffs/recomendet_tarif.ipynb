{
 "cells": [
  {
   "cell_type": "markdown",
   "metadata": {},
   "source": [
    "# Рекомендация тарифов"
   ]
  },
  {
   "cell_type": "markdown",
   "metadata": {},
   "source": [
    " - В нашем распоряжении данные о поведении клиентов, которые уже пользуются тарифамиторая выберет подходящий тариф.\n",
    " - Данные известные в таблице о использованных в рамках пакета услуг(мегабайты, смс-ки и звонки), данные о пользователе и его тарифе при этом.\n",
    " - Создадим модель с максимально большим значением *accuracy* и доведем долю правильных ответов по крайней мере до 0.75.\n",
    " - Проверим *accuracy* на тестовой выборке.\n",
    " - Оценим модели на адекватность."
   ]
  },
  {
   "cell_type": "markdown",
   "metadata": {},
   "source": [
    "## Загрузка файлов"
   ]
  },
  {
   "cell_type": "code",
   "execution_count": 1,
   "metadata": {},
   "outputs": [],
   "source": [
    "import pandas as pd\n",
    "import time\n",
    "import sklearn.metrics\n",
    "from sklearn.tree import DecisionTreeClassifier\n",
    "from sklearn.ensemble import RandomForestClassifier\n",
    "from sklearn.linear_model import LogisticRegression\n",
    "from sklearn.model_selection import train_test_split\n",
    "from sklearn.metrics import accuracy_score\n",
    "from sklearn.metrics import mean_squared_error"
   ]
  },
  {
   "cell_type": "code",
   "execution_count": 2,
   "metadata": {},
   "outputs": [],
   "source": [
    "df = pd.read_csv('/datasets/users_behavior.csv')"
   ]
  },
  {
   "cell_type": "code",
   "execution_count": 3,
   "metadata": {},
   "outputs": [
    {
     "data": {
      "text/plain": [
       "0    2229\n",
       "1     985\n",
       "Name: is_ultra, dtype: int64"
      ]
     },
     "execution_count": 3,
     "metadata": {},
     "output_type": "execute_result"
    }
   ],
   "source": [
    "df['is_ultra'].value_counts()"
   ]
  },
  {
   "cell_type": "markdown",
   "metadata": {},
   "source": [
    "## Разбейте данные на выборки"
   ]
  },
  {
   "cell_type": "code",
   "execution_count": 4,
   "metadata": {},
   "outputs": [
    {
     "data": {
      "text/html": [
       "<div>\n",
       "<style scoped>\n",
       "    .dataframe tbody tr th:only-of-type {\n",
       "        vertical-align: middle;\n",
       "    }\n",
       "\n",
       "    .dataframe tbody tr th {\n",
       "        vertical-align: top;\n",
       "    }\n",
       "\n",
       "    .dataframe thead th {\n",
       "        text-align: right;\n",
       "    }\n",
       "</style>\n",
       "<table border=\"1\" class=\"dataframe\">\n",
       "  <thead>\n",
       "    <tr style=\"text-align: right;\">\n",
       "      <th></th>\n",
       "      <th>calls</th>\n",
       "      <th>minutes</th>\n",
       "      <th>messages</th>\n",
       "      <th>mb_used</th>\n",
       "      <th>is_ultra</th>\n",
       "    </tr>\n",
       "  </thead>\n",
       "  <tbody>\n",
       "    <tr>\n",
       "      <th>0</th>\n",
       "      <td>40.0</td>\n",
       "      <td>311.90</td>\n",
       "      <td>83.0</td>\n",
       "      <td>19915.42</td>\n",
       "      <td>0</td>\n",
       "    </tr>\n",
       "    <tr>\n",
       "      <th>1</th>\n",
       "      <td>85.0</td>\n",
       "      <td>516.75</td>\n",
       "      <td>56.0</td>\n",
       "      <td>22696.96</td>\n",
       "      <td>0</td>\n",
       "    </tr>\n",
       "    <tr>\n",
       "      <th>2</th>\n",
       "      <td>77.0</td>\n",
       "      <td>467.66</td>\n",
       "      <td>86.0</td>\n",
       "      <td>21060.45</td>\n",
       "      <td>0</td>\n",
       "    </tr>\n",
       "    <tr>\n",
       "      <th>3</th>\n",
       "      <td>106.0</td>\n",
       "      <td>745.53</td>\n",
       "      <td>81.0</td>\n",
       "      <td>8437.39</td>\n",
       "      <td>1</td>\n",
       "    </tr>\n",
       "    <tr>\n",
       "      <th>4</th>\n",
       "      <td>66.0</td>\n",
       "      <td>418.74</td>\n",
       "      <td>1.0</td>\n",
       "      <td>14502.75</td>\n",
       "      <td>0</td>\n",
       "    </tr>\n",
       "  </tbody>\n",
       "</table>\n",
       "</div>"
      ],
      "text/plain": [
       "   calls  minutes  messages   mb_used  is_ultra\n",
       "0   40.0   311.90      83.0  19915.42         0\n",
       "1   85.0   516.75      56.0  22696.96         0\n",
       "2   77.0   467.66      86.0  21060.45         0\n",
       "3  106.0   745.53      81.0   8437.39         1\n",
       "4   66.0   418.74       1.0  14502.75         0"
      ]
     },
     "execution_count": 4,
     "metadata": {},
     "output_type": "execute_result"
    }
   ],
   "source": [
    "df.head() #изучаем датасет"
   ]
  },
  {
   "cell_type": "code",
   "execution_count": 5,
   "metadata": {},
   "outputs": [],
   "source": [
    "x = df.drop('is_ultra', axis=1)\n",
    "y = df['is_ultra']\n",
    "x_train, x_valid, y_train, y_valid = train_test_split(x, y, test_size=0.4, random_state=12345, stratify=y)\n",
    "x_valid, x_test, y_valid, y_test = train_test_split(x_valid, y_valid, test_size=0.5, random_state=12345, stratify=y_valid)\n",
    "#поделила выборки на валидационную, тестовую и тренировочную.\n"
   ]
  },
  {
   "cell_type": "code",
   "execution_count": 6,
   "metadata": {},
   "outputs": [
    {
     "name": "stdout",
     "output_type": "stream",
     "text": [
      "(1928, 4)\n",
      "(1928,)\n",
      "(643,)\n",
      "(643, 4)\n"
     ]
    }
   ],
   "source": [
    "print(x_train.shape) #узнала размеры выборок\n",
    "print(y_train.shape)\n",
    "print(y_test.shape)\n",
    "print(x_test.shape)"
   ]
  },
  {
   "cell_type": "markdown",
   "metadata": {},
   "source": [
    "## Исследование модели"
   ]
  },
  {
   "cell_type": "code",
   "execution_count": 7,
   "metadata": {},
   "outputs": [
    {
     "name": "stdout",
     "output_type": "stream",
     "text": [
      "наилучшая глубина 8 наилучшая точность при этом 0.80248833592535\n",
      "CPU times: user 1.07 s, sys: 1.03 ms, total: 1.08 s\n",
      "Wall time: 1.07 s\n"
     ]
    }
   ],
   "source": [
    "%%time\n",
    "best_result = 0\n",
    "best_depth = 0\n",
    "for depth in range (1, 101):\n",
    "    model =  DecisionTreeClassifier(random_state=12345, max_depth=depth)\n",
    "    model.fit(x_train, y_train) # обучаем модель на тренировочной выборке\n",
    "    predictions_valid = model.predict(x_valid) # вычисляем предсказания модели на валидационной выборке\n",
    "    result = accuracy_score(y_valid, predictions_valid) # определяем качество модели на валидационной выборке\n",
    "    if result > best_result:\n",
    "        best_result = result\n",
    "        best_depth = depth\n",
    "print(\"наилучшая глубина\", best_depth, \"наилучшая точность при этом\", best_result)"
   ]
  },
  {
   "cell_type": "code",
   "execution_count": 8,
   "metadata": {},
   "outputs": [
    {
     "name": "stdout",
     "output_type": "stream",
     "text": [
      "Accuracy наилучшей модели на тестовой выборке: 0.80248833592535\n"
     ]
    }
   ],
   "source": [
    "model = DecisionTreeClassifier(random_state=12345, max_depth = best_depth)\n",
    "model.fit(x_train, y_train) #подставляем наилучшее значение гиперпараметра в модель\n",
    "predictions_valid = model.predict(x_valid)\n",
    "accuracy = accuracy_score(y_valid, predictions_valid)\n",
    "print(\"Accuracy наилучшей модели на тестовой выборке:\", accuracy)"
   ]
  },
  {
   "cell_type": "code",
   "execution_count": 9,
   "metadata": {},
   "outputs": [
    {
     "name": "stdout",
     "output_type": "stream",
     "text": [
      "Accuracy наилучшей модели на валидационной выборке: 0.80248833592535 Лучшее количество деревьев 1 Лучшая глубина дерева: 5\n",
      "CPU times: user 2min 3s, sys: 784 ms, total: 2min 3s\n",
      "Wall time: 2min 3s\n"
     ]
    }
   ],
   "source": [
    "%%time\n",
    "best_result_1 = 0\n",
    "best_depth_1 = 0\n",
    "best_estimators_1 = 0\n",
    "for depth in range(5, 13):\n",
    "    for est in range (1, 101):\n",
    "        model_1 = RandomForestClassifier(random_state=12345, n_estimators=est, max_depth=depth)\n",
    "        model_1.fit(x_train, y_train)\n",
    "        predictions_valid_1 = model_1.predict(x_valid) \n",
    "        result = accuracy_score(y_valid, predictions_valid)\n",
    "        if result > best_result_1:\n",
    "            best_result_1 = result\n",
    "            best_estimators_1 = est\n",
    "            best_depth_1 = depth\n",
    "\n",
    "print(\"Accuracy наилучшей модели на валидационной выборке:\", best_result_1, \"Лучшее количество деревьев\", \n",
    "      best_estimators_1, 'Лучшая глубина дерева:', best_depth_1)"
   ]
  },
  {
   "cell_type": "code",
   "execution_count": 10,
   "metadata": {},
   "outputs": [
    {
     "name": "stdout",
     "output_type": "stream",
     "text": [
      "Accuracy наилучшей модели на тестовой выборке: 0.7713841368584758\n"
     ]
    }
   ],
   "source": [
    "model_1 = RandomForestClassifier(random_state=12345, n_estimators = best_estimators_1, max_depth=best_depth_1)\n",
    "model_1.fit(x_train, y_train) \n",
    "predictions_valid_1 = model_1.predict(x_valid)\n",
    "accuracy_1 = accuracy_score(y_valid, predictions_valid_1)\n",
    "print(\"Accuracy наилучшей модели на тестовой выборке:\", accuracy_1)"
   ]
  },
  {
   "cell_type": "markdown",
   "metadata": {},
   "source": [
    "## Проверка модели на тестовой выборке"
   ]
  },
  {
   "cell_type": "code",
   "execution_count": 11,
   "metadata": {},
   "outputs": [
    {
     "name": "stdout",
     "output_type": "stream",
     "text": [
      "Accuracy наилучшей модели на тестовой выборке: 0.7838258164852255\n"
     ]
    }
   ],
   "source": [
    "predictions_test = model.predict(x_test)\n",
    "accuracy = accuracy_score(predictions_test, y_test)\n",
    "print(\"Accuracy наилучшей модели на тестовой выборке:\", accuracy)"
   ]
  },
  {
   "cell_type": "code",
   "execution_count": 12,
   "metadata": {},
   "outputs": [
    {
     "name": "stdout",
     "output_type": "stream",
     "text": [
      "Accuracy наилучшей модели на тестовой выборке: 0.8444790046656299\n"
     ]
    }
   ],
   "source": [
    "model_1 = RandomForestClassifier(random_state=12345, n_estimators = best_estimators_1, max_depth=best_depth_1)\n",
    "model_1.fit(x_test, y_test) # проверяем модель на тренировочной выборке\n",
    "predictions_test_1= model_1.predict(x_test)\n",
    "accuracy_1 = accuracy_score(predictions_test_1, y_test)\n",
    "print(\"Accuracy наилучшей модели на тестовой выборке:\", accuracy_1)"
   ]
  },
  {
   "cell_type": "markdown",
   "metadata": {},
   "source": [
    "**Вывод**: для более точных расчетов следует выбрать модель случайного леса, тк на тестовой выборке ее показатели превысили 0.75."
   ]
  },
  {
   "cell_type": "markdown",
   "metadata": {},
   "source": [
    "## Проверка моделей на адекватность"
   ]
  },
  {
   "cell_type": "code",
   "execution_count": 13,
   "metadata": {},
   "outputs": [
    {
     "data": {
      "text/plain": [
       "0.5685279187817259"
      ]
     },
     "execution_count": 13,
     "metadata": {},
     "output_type": "execute_result"
    }
   ],
   "source": [
    "predictions_all = model.predict(x) #расчет по первой модели ко всем признакам \n",
    "y_pred = predictions_all #правильные ответы модели\n",
    "y_true = df['is_ultra'] #правильные ответы все\n",
    "recall = sklearn.metrics.recall_score(y_true, y_pred, pos_label=1)\n",
    "recall #менее точная оценка"
   ]
  },
  {
   "cell_type": "code",
   "execution_count": 14,
   "metadata": {},
   "outputs": [
    {
     "data": {
      "text/plain": [
       "0.8247422680412371"
      ]
     },
     "execution_count": 14,
     "metadata": {},
     "output_type": "execute_result"
    }
   ],
   "source": [
    "precision = sklearn.metrics.precision_score(y_true, y_pred, pos_label=1)\n",
    "precision #более точная оценка"
   ]
  },
  {
   "cell_type": "code",
   "execution_count": 15,
   "metadata": {},
   "outputs": [
    {
     "data": {
      "text/plain": [
       "0.4558375634517767"
      ]
     },
     "execution_count": 15,
     "metadata": {},
     "output_type": "execute_result"
    }
   ],
   "source": [
    "predictions_all_1 = model_1.predict(x)\n",
    "y_pred_1 = predictions_all_1\n",
    "recall_1 = sklearn.metrics.recall_score(y_true, y_pred_1, pos_label=1)\n",
    "recall_1"
   ]
  },
  {
   "cell_type": "code",
   "execution_count": 16,
   "metadata": {},
   "outputs": [
    {
     "data": {
      "text/plain": [
       "0.7636054421768708"
      ]
     },
     "execution_count": 16,
     "metadata": {},
     "output_type": "execute_result"
    }
   ],
   "source": [
    "precision_1= sklearn.metrics.precision_score(y_true, y_pred_1, pos_label=1)\n",
    "precision_1"
   ]
  },
  {
   "cell_type": "markdown",
   "metadata": {},
   "source": [
    "**Вывод:** Значения параметров recall и precision выше 0.5 у обеих модель, значит можно говорить, что они как минимум точнее случайных. Однако, у второй модели эти параметры незначительно больше, что заставляет нас отдать предпочтения ей, то есть модели случайных лесов."
   ]
  }
 ],
 "metadata": {
  "ExecuteTimeLog": [
   {
    "duration": 1245,
    "start_time": "2022-09-29T19:26:34.228Z"
   },
   {
    "duration": 54,
    "start_time": "2022-10-01T22:07:52.626Z"
   },
   {
    "duration": 1152,
    "start_time": "2022-10-01T22:07:55.686Z"
   },
   {
    "duration": 18,
    "start_time": "2022-10-01T22:07:56.872Z"
   },
   {
    "duration": 6,
    "start_time": "2022-10-01T22:10:37.986Z"
   },
   {
    "duration": 7,
    "start_time": "2022-10-01T22:17:41.828Z"
   },
   {
    "duration": 6,
    "start_time": "2022-10-01T22:18:10.409Z"
   },
   {
    "duration": 6,
    "start_time": "2022-10-01T22:19:11.770Z"
   },
   {
    "duration": 7,
    "start_time": "2022-10-01T22:20:09.348Z"
   },
   {
    "duration": 76,
    "start_time": "2022-10-01T22:34:35.551Z"
   },
   {
    "duration": 11,
    "start_time": "2022-10-01T22:34:36.930Z"
   },
   {
    "duration": 5,
    "start_time": "2022-10-01T22:34:37.319Z"
   },
   {
    "duration": 5,
    "start_time": "2022-10-01T22:34:38.460Z"
   },
   {
    "duration": 6,
    "start_time": "2022-10-01T22:34:39.010Z"
   },
   {
    "duration": 71,
    "start_time": "2022-10-01T22:39:07.641Z"
   },
   {
    "duration": 8,
    "start_time": "2022-10-01T22:39:33.130Z"
   },
   {
    "duration": 30,
    "start_time": "2022-10-01T22:55:50.783Z"
   },
   {
    "duration": 5,
    "start_time": "2022-10-01T23:37:09.252Z"
   },
   {
    "duration": 9,
    "start_time": "2022-10-01T23:37:10.048Z"
   },
   {
    "duration": 11632,
    "start_time": "2022-10-01T23:37:11.635Z"
   },
   {
    "duration": 59,
    "start_time": "2022-10-01T23:38:31.328Z"
   },
   {
    "duration": 1091,
    "start_time": "2022-10-01T23:38:43.235Z"
   },
   {
    "duration": 16,
    "start_time": "2022-10-01T23:38:44.328Z"
   },
   {
    "duration": 7,
    "start_time": "2022-10-01T23:38:44.346Z"
   },
   {
    "duration": 5,
    "start_time": "2022-10-01T23:38:44.355Z"
   },
   {
    "duration": 8,
    "start_time": "2022-10-01T23:38:44.362Z"
   },
   {
    "duration": 1238,
    "start_time": "2022-10-01T23:40:43.634Z"
   },
   {
    "duration": 17,
    "start_time": "2022-10-01T23:40:44.875Z"
   },
   {
    "duration": 6,
    "start_time": "2022-10-01T23:40:44.893Z"
   },
   {
    "duration": 6,
    "start_time": "2022-10-01T23:40:44.901Z"
   },
   {
    "duration": 11,
    "start_time": "2022-10-01T23:40:44.909Z"
   },
   {
    "duration": 92351,
    "start_time": "2022-10-01T23:40:44.922Z"
   },
   {
    "duration": 20,
    "start_time": "2022-10-01T23:42:17.275Z"
   },
   {
    "duration": 1236,
    "start_time": "2022-10-02T20:40:26.740Z"
   },
   {
    "duration": 28,
    "start_time": "2022-10-02T20:40:27.978Z"
   },
   {
    "duration": 7,
    "start_time": "2022-10-02T20:40:28.009Z"
   },
   {
    "duration": 8,
    "start_time": "2022-10-02T20:40:28.019Z"
   },
   {
    "duration": 10,
    "start_time": "2022-10-02T20:40:28.028Z"
   },
   {
    "duration": 100532,
    "start_time": "2022-10-02T20:40:28.039Z"
   },
   {
    "duration": 25,
    "start_time": "2022-10-02T20:42:08.573Z"
   },
   {
    "duration": 827339,
    "start_time": "2022-10-02T20:42:08.601Z"
   },
   {
    "duration": 2,
    "start_time": "2022-10-02T20:55:55.942Z"
   },
   {
    "duration": 7,
    "start_time": "2022-10-02T20:55:55.947Z"
   },
   {
    "duration": 4,
    "start_time": "2022-10-02T20:55:55.956Z"
   },
   {
    "duration": 46,
    "start_time": "2022-10-02T20:55:59.550Z"
   },
   {
    "duration": 937,
    "start_time": "2022-10-02T20:56:27.523Z"
   },
   {
    "duration": 14,
    "start_time": "2022-10-02T20:56:43.079Z"
   },
   {
    "duration": 954,
    "start_time": "2022-10-02T20:58:32.492Z"
   },
   {
    "duration": 1283,
    "start_time": "2022-10-02T20:59:11.944Z"
   },
   {
    "duration": 20,
    "start_time": "2022-10-02T20:59:13.229Z"
   },
   {
    "duration": 7,
    "start_time": "2022-10-02T20:59:13.251Z"
   },
   {
    "duration": 8,
    "start_time": "2022-10-02T20:59:13.259Z"
   },
   {
    "duration": 7,
    "start_time": "2022-10-02T20:59:13.270Z"
   },
   {
    "duration": 211,
    "start_time": "2022-10-02T20:59:13.279Z"
   },
   {
    "duration": 10,
    "start_time": "2022-10-02T20:59:13.493Z"
   },
   {
    "duration": 95,
    "start_time": "2022-10-02T20:59:13.505Z"
   },
   {
    "duration": 3,
    "start_time": "2022-10-02T20:59:13.602Z"
   },
   {
    "duration": 17,
    "start_time": "2022-10-02T20:59:13.607Z"
   },
   {
    "duration": 25,
    "start_time": "2022-10-02T20:59:13.627Z"
   },
   {
    "duration": 1217,
    "start_time": "2022-10-02T20:59:29.740Z"
   },
   {
    "duration": 18,
    "start_time": "2022-10-02T20:59:30.959Z"
   },
   {
    "duration": 26,
    "start_time": "2022-10-02T20:59:30.978Z"
   },
   {
    "duration": 34,
    "start_time": "2022-10-02T20:59:31.007Z"
   },
   {
    "duration": 50,
    "start_time": "2022-10-02T20:59:31.042Z"
   },
   {
    "duration": 992,
    "start_time": "2022-10-02T20:59:31.094Z"
   },
   {
    "duration": 21,
    "start_time": "2022-10-02T20:59:32.088Z"
   },
   {
    "duration": 1297,
    "start_time": "2022-10-02T21:01:00.388Z"
   },
   {
    "duration": 21,
    "start_time": "2022-10-02T21:01:01.688Z"
   },
   {
    "duration": 42,
    "start_time": "2022-10-02T21:01:01.712Z"
   },
   {
    "duration": 28,
    "start_time": "2022-10-02T21:01:01.757Z"
   },
   {
    "duration": 54,
    "start_time": "2022-10-02T21:01:01.787Z"
   },
   {
    "duration": 1080,
    "start_time": "2022-10-02T21:01:01.844Z"
   },
   {
    "duration": 18,
    "start_time": "2022-10-02T21:01:02.926Z"
   },
   {
    "duration": 2,
    "start_time": "2022-10-02T21:01:23.660Z"
   },
   {
    "duration": 10,
    "start_time": "2022-10-02T21:01:23.665Z"
   },
   {
    "duration": 10,
    "start_time": "2022-10-02T21:01:23.678Z"
   },
   {
    "duration": 1266,
    "start_time": "2022-10-02T21:02:25.714Z"
   },
   {
    "duration": 19,
    "start_time": "2022-10-02T21:02:26.982Z"
   },
   {
    "duration": 6,
    "start_time": "2022-10-02T21:02:27.003Z"
   },
   {
    "duration": 11,
    "start_time": "2022-10-02T21:02:27.011Z"
   },
   {
    "duration": 13,
    "start_time": "2022-10-02T21:02:27.026Z"
   },
   {
    "duration": 1068,
    "start_time": "2022-10-02T21:02:27.042Z"
   },
   {
    "duration": 14,
    "start_time": "2022-10-02T21:02:28.112Z"
   },
   {
    "duration": 1219,
    "start_time": "2022-10-02T21:02:52.912Z"
   },
   {
    "duration": 19,
    "start_time": "2022-10-02T21:02:54.134Z"
   },
   {
    "duration": 12,
    "start_time": "2022-10-02T21:02:54.155Z"
   },
   {
    "duration": 26,
    "start_time": "2022-10-02T21:02:54.168Z"
   },
   {
    "duration": 13,
    "start_time": "2022-10-02T21:02:54.196Z"
   },
   {
    "duration": 985,
    "start_time": "2022-10-02T21:02:54.211Z"
   },
   {
    "duration": 14,
    "start_time": "2022-10-02T21:02:55.198Z"
   },
   {
    "duration": 121310,
    "start_time": "2022-10-02T21:02:55.214Z"
   },
   {
    "duration": 2,
    "start_time": "2022-10-02T21:04:56.526Z"
   },
   {
    "duration": 5,
    "start_time": "2022-10-02T21:04:56.532Z"
   },
   {
    "duration": 5,
    "start_time": "2022-10-02T21:04:56.538Z"
   },
   {
    "duration": 1235,
    "start_time": "2022-10-02T21:09:43.952Z"
   },
   {
    "duration": 20,
    "start_time": "2022-10-02T21:09:45.189Z"
   },
   {
    "duration": 10,
    "start_time": "2022-10-02T21:09:45.211Z"
   },
   {
    "duration": 12,
    "start_time": "2022-10-02T21:09:45.223Z"
   },
   {
    "duration": 9,
    "start_time": "2022-10-02T21:09:45.238Z"
   },
   {
    "duration": 1063,
    "start_time": "2022-10-02T21:09:45.249Z"
   },
   {
    "duration": 19,
    "start_time": "2022-10-02T21:09:46.315Z"
   },
   {
    "duration": 223,
    "start_time": "2022-10-02T21:09:46.337Z"
   },
   {
    "duration": 3,
    "start_time": "2022-10-02T21:09:46.562Z"
   },
   {
    "duration": 5,
    "start_time": "2022-10-02T21:09:46.566Z"
   },
   {
    "duration": 5,
    "start_time": "2022-10-02T21:09:46.573Z"
   },
   {
    "duration": 1256,
    "start_time": "2022-10-02T21:10:15.891Z"
   },
   {
    "duration": 17,
    "start_time": "2022-10-02T21:10:17.149Z"
   },
   {
    "duration": 5,
    "start_time": "2022-10-02T21:10:17.168Z"
   },
   {
    "duration": 7,
    "start_time": "2022-10-02T21:10:17.176Z"
   },
   {
    "duration": 17,
    "start_time": "2022-10-02T21:10:17.184Z"
   },
   {
    "duration": 964,
    "start_time": "2022-10-02T21:10:17.203Z"
   },
   {
    "duration": 22,
    "start_time": "2022-10-02T21:10:18.169Z"
   },
   {
    "duration": 28222,
    "start_time": "2022-10-02T21:10:18.193Z"
   },
   {
    "duration": 3,
    "start_time": "2022-10-02T21:10:46.417Z"
   },
   {
    "duration": 6,
    "start_time": "2022-10-02T21:10:46.422Z"
   },
   {
    "duration": 8,
    "start_time": "2022-10-02T21:10:46.430Z"
   },
   {
    "duration": 1204,
    "start_time": "2022-10-02T21:13:54.754Z"
   },
   {
    "duration": 18,
    "start_time": "2022-10-02T21:13:55.960Z"
   },
   {
    "duration": 6,
    "start_time": "2022-10-02T21:13:55.980Z"
   },
   {
    "duration": 6,
    "start_time": "2022-10-02T21:13:55.988Z"
   },
   {
    "duration": 8,
    "start_time": "2022-10-02T21:13:55.996Z"
   },
   {
    "duration": 960,
    "start_time": "2022-10-02T21:13:56.006Z"
   },
   {
    "duration": 7,
    "start_time": "2022-10-02T21:13:56.968Z"
   },
   {
    "duration": 26685,
    "start_time": "2022-10-02T21:13:56.977Z"
   },
   {
    "duration": 3,
    "start_time": "2022-10-02T21:14:23.664Z"
   },
   {
    "duration": 18,
    "start_time": "2022-10-02T21:14:23.669Z"
   },
   {
    "duration": 8,
    "start_time": "2022-10-02T21:14:23.689Z"
   },
   {
    "duration": 1097,
    "start_time": "2022-10-02T21:17:20.812Z"
   },
   {
    "duration": 1342,
    "start_time": "2022-10-02T21:17:56.309Z"
   },
   {
    "duration": 17,
    "start_time": "2022-10-02T21:17:57.654Z"
   },
   {
    "duration": 5,
    "start_time": "2022-10-02T21:17:57.673Z"
   },
   {
    "duration": 7,
    "start_time": "2022-10-02T21:17:57.680Z"
   },
   {
    "duration": 23,
    "start_time": "2022-10-02T21:17:57.690Z"
   },
   {
    "duration": 1120,
    "start_time": "2022-10-02T21:17:57.716Z"
   },
   {
    "duration": 12,
    "start_time": "2022-10-02T21:17:58.838Z"
   },
   {
    "duration": 31506,
    "start_time": "2022-10-02T21:17:58.852Z"
   },
   {
    "duration": 2,
    "start_time": "2022-10-02T21:18:30.360Z"
   },
   {
    "duration": 12,
    "start_time": "2022-10-02T21:18:30.363Z"
   },
   {
    "duration": 13,
    "start_time": "2022-10-02T21:18:30.377Z"
   },
   {
    "duration": 1205,
    "start_time": "2022-10-02T21:18:30.393Z"
   },
   {
    "duration": 1410,
    "start_time": "2022-10-02T21:18:42.481Z"
   },
   {
    "duration": 28,
    "start_time": "2022-10-02T21:18:43.893Z"
   },
   {
    "duration": 30,
    "start_time": "2022-10-02T21:18:43.923Z"
   },
   {
    "duration": 15,
    "start_time": "2022-10-02T21:18:43.956Z"
   },
   {
    "duration": 29,
    "start_time": "2022-10-02T21:18:43.974Z"
   },
   {
    "duration": 1420,
    "start_time": "2022-10-02T21:18:44.012Z"
   },
   {
    "duration": 12,
    "start_time": "2022-10-02T21:18:45.434Z"
   },
   {
    "duration": 1215,
    "start_time": "2022-10-02T21:18:54.589Z"
   },
   {
    "duration": 28,
    "start_time": "2022-10-02T21:18:55.807Z"
   },
   {
    "duration": 5,
    "start_time": "2022-10-02T21:18:55.837Z"
   },
   {
    "duration": 7,
    "start_time": "2022-10-02T21:18:55.844Z"
   },
   {
    "duration": 9,
    "start_time": "2022-10-02T21:18:55.853Z"
   },
   {
    "duration": 1009,
    "start_time": "2022-10-02T21:18:55.863Z"
   },
   {
    "duration": 18,
    "start_time": "2022-10-02T21:18:56.874Z"
   },
   {
    "duration": 27836,
    "start_time": "2022-10-02T21:18:56.894Z"
   },
   {
    "duration": 3,
    "start_time": "2022-10-02T21:19:24.732Z"
   },
   {
    "duration": 8,
    "start_time": "2022-10-02T21:19:24.738Z"
   },
   {
    "duration": 5,
    "start_time": "2022-10-02T21:19:24.748Z"
   },
   {
    "duration": 29020,
    "start_time": "2022-10-02T21:20:45.819Z"
   },
   {
    "duration": 1375,
    "start_time": "2022-10-02T21:21:55.818Z"
   },
   {
    "duration": 27,
    "start_time": "2022-10-02T21:21:57.196Z"
   },
   {
    "duration": 25,
    "start_time": "2022-10-02T21:21:57.225Z"
   },
   {
    "duration": 28,
    "start_time": "2022-10-02T21:21:57.253Z"
   },
   {
    "duration": 26,
    "start_time": "2022-10-02T21:21:57.283Z"
   },
   {
    "duration": 1107,
    "start_time": "2022-10-02T21:21:57.311Z"
   },
   {
    "duration": 10,
    "start_time": "2022-10-02T21:21:58.420Z"
   },
   {
    "duration": 29211,
    "start_time": "2022-10-02T21:21:58.433Z"
   },
   {
    "duration": 110,
    "start_time": "2022-10-02T21:22:27.647Z"
   },
   {
    "duration": 0,
    "start_time": "2022-10-02T21:22:27.759Z"
   },
   {
    "duration": 0,
    "start_time": "2022-10-02T21:22:27.760Z"
   },
   {
    "duration": 1187,
    "start_time": "2022-10-02T21:23:09.141Z"
   },
   {
    "duration": 18,
    "start_time": "2022-10-02T21:23:10.330Z"
   },
   {
    "duration": 5,
    "start_time": "2022-10-02T21:23:10.350Z"
   },
   {
    "duration": 7,
    "start_time": "2022-10-02T21:23:10.357Z"
   },
   {
    "duration": 8,
    "start_time": "2022-10-02T21:23:10.366Z"
   },
   {
    "duration": 944,
    "start_time": "2022-10-02T21:23:10.376Z"
   },
   {
    "duration": 9,
    "start_time": "2022-10-02T21:23:11.323Z"
   },
   {
    "duration": 28214,
    "start_time": "2022-10-02T21:23:11.334Z"
   },
   {
    "duration": 128,
    "start_time": "2022-10-02T21:23:39.549Z"
   },
   {
    "duration": 0,
    "start_time": "2022-10-02T21:23:39.679Z"
   },
   {
    "duration": 0,
    "start_time": "2022-10-02T21:23:39.680Z"
   },
   {
    "duration": 1178,
    "start_time": "2022-10-02T21:24:48.418Z"
   },
   {
    "duration": 21,
    "start_time": "2022-10-02T21:24:49.599Z"
   },
   {
    "duration": 18,
    "start_time": "2022-10-02T21:24:49.623Z"
   },
   {
    "duration": 8,
    "start_time": "2022-10-02T21:24:49.643Z"
   },
   {
    "duration": 7,
    "start_time": "2022-10-02T21:24:49.653Z"
   },
   {
    "duration": 951,
    "start_time": "2022-10-02T21:24:49.662Z"
   },
   {
    "duration": 11,
    "start_time": "2022-10-02T21:24:50.616Z"
   },
   {
    "duration": 27786,
    "start_time": "2022-10-02T21:24:50.630Z"
   },
   {
    "duration": 15,
    "start_time": "2022-10-02T21:25:18.419Z"
   },
   {
    "duration": 3,
    "start_time": "2022-10-02T21:25:18.438Z"
   },
   {
    "duration": 5,
    "start_time": "2022-10-02T21:25:18.443Z"
   },
   {
    "duration": 205,
    "start_time": "2022-10-02T21:26:23.502Z"
   },
   {
    "duration": 110,
    "start_time": "2022-10-02T21:26:44.933Z"
   },
   {
    "duration": 1197,
    "start_time": "2022-10-02T21:26:57.591Z"
   },
   {
    "duration": 21,
    "start_time": "2022-10-02T21:26:58.790Z"
   },
   {
    "duration": 6,
    "start_time": "2022-10-02T21:26:58.813Z"
   },
   {
    "duration": 6,
    "start_time": "2022-10-02T21:26:58.822Z"
   },
   {
    "duration": 12,
    "start_time": "2022-10-02T21:26:58.830Z"
   },
   {
    "duration": 1032,
    "start_time": "2022-10-02T21:26:58.844Z"
   },
   {
    "duration": 13,
    "start_time": "2022-10-02T21:26:59.878Z"
   },
   {
    "duration": 27741,
    "start_time": "2022-10-02T21:26:59.893Z"
   },
   {
    "duration": 14,
    "start_time": "2022-10-02T21:27:27.636Z"
   },
   {
    "duration": 4,
    "start_time": "2022-10-02T21:27:27.652Z"
   },
   {
    "duration": 25,
    "start_time": "2022-10-02T21:27:27.658Z"
   },
   {
    "duration": 29794,
    "start_time": "2022-10-02T21:29:16.723Z"
   },
   {
    "duration": 1241,
    "start_time": "2022-10-02T21:30:53.758Z"
   },
   {
    "duration": 26,
    "start_time": "2022-10-02T21:30:55.002Z"
   },
   {
    "duration": 8,
    "start_time": "2022-10-02T21:30:55.030Z"
   },
   {
    "duration": 9,
    "start_time": "2022-10-02T21:30:55.041Z"
   },
   {
    "duration": 36,
    "start_time": "2022-10-02T21:30:55.053Z"
   },
   {
    "duration": 1013,
    "start_time": "2022-10-02T21:30:55.092Z"
   },
   {
    "duration": 11,
    "start_time": "2022-10-02T21:30:56.107Z"
   },
   {
    "duration": 29326,
    "start_time": "2022-10-02T21:30:56.121Z"
   },
   {
    "duration": 113,
    "start_time": "2022-10-02T21:31:25.448Z"
   },
   {
    "duration": 0,
    "start_time": "2022-10-02T21:31:25.563Z"
   },
   {
    "duration": 0,
    "start_time": "2022-10-02T21:31:25.564Z"
   },
   {
    "duration": 1247,
    "start_time": "2022-10-02T21:32:18.021Z"
   },
   {
    "duration": 17,
    "start_time": "2022-10-02T21:32:19.270Z"
   },
   {
    "duration": 6,
    "start_time": "2022-10-02T21:32:19.289Z"
   },
   {
    "duration": 9,
    "start_time": "2022-10-02T21:32:19.298Z"
   },
   {
    "duration": 9,
    "start_time": "2022-10-02T21:32:19.310Z"
   },
   {
    "duration": 979,
    "start_time": "2022-10-02T21:32:19.321Z"
   },
   {
    "duration": 11,
    "start_time": "2022-10-02T21:32:20.302Z"
   },
   {
    "duration": 176,
    "start_time": "2022-10-02T21:32:20.315Z"
   },
   {
    "duration": 16,
    "start_time": "2022-10-02T21:32:20.494Z"
   },
   {
    "duration": 0,
    "start_time": "2022-10-02T21:32:20.513Z"
   },
   {
    "duration": 0,
    "start_time": "2022-10-02T21:32:20.514Z"
   },
   {
    "duration": 1536,
    "start_time": "2022-10-02T21:35:31.207Z"
   },
   {
    "duration": 0,
    "start_time": "2022-10-02T21:35:32.745Z"
   },
   {
    "duration": 0,
    "start_time": "2022-10-02T21:35:32.748Z"
   },
   {
    "duration": 0,
    "start_time": "2022-10-02T21:35:32.749Z"
   },
   {
    "duration": 0,
    "start_time": "2022-10-02T21:35:32.750Z"
   },
   {
    "duration": 0,
    "start_time": "2022-10-02T21:35:32.752Z"
   },
   {
    "duration": 0,
    "start_time": "2022-10-02T21:35:32.753Z"
   },
   {
    "duration": 0,
    "start_time": "2022-10-02T21:35:32.754Z"
   },
   {
    "duration": 0,
    "start_time": "2022-10-02T21:35:32.755Z"
   },
   {
    "duration": 0,
    "start_time": "2022-10-02T21:35:32.755Z"
   },
   {
    "duration": 0,
    "start_time": "2022-10-02T21:35:32.756Z"
   },
   {
    "duration": 32,
    "start_time": "2022-10-02T21:36:14.771Z"
   },
   {
    "duration": 1180,
    "start_time": "2022-10-02T21:36:20.002Z"
   },
   {
    "duration": 18,
    "start_time": "2022-10-02T21:36:21.184Z"
   },
   {
    "duration": 7,
    "start_time": "2022-10-02T21:36:21.204Z"
   },
   {
    "duration": 8,
    "start_time": "2022-10-02T21:36:21.214Z"
   },
   {
    "duration": 10,
    "start_time": "2022-10-02T21:36:21.225Z"
   },
   {
    "duration": 1129,
    "start_time": "2022-10-02T21:36:21.237Z"
   },
   {
    "duration": 12,
    "start_time": "2022-10-02T21:36:22.368Z"
   },
   {
    "duration": 20226,
    "start_time": "2022-10-02T21:36:22.381Z"
   },
   {
    "duration": 270,
    "start_time": "2022-10-02T21:36:42.609Z"
   },
   {
    "duration": 3,
    "start_time": "2022-10-02T21:36:42.881Z"
   },
   {
    "duration": 16,
    "start_time": "2022-10-02T21:36:42.889Z"
   },
   {
    "duration": 1243,
    "start_time": "2022-10-02T21:43:44.186Z"
   },
   {
    "duration": 20,
    "start_time": "2022-10-02T21:43:45.431Z"
   },
   {
    "duration": 6,
    "start_time": "2022-10-02T21:43:45.453Z"
   },
   {
    "duration": 12,
    "start_time": "2022-10-02T21:43:45.460Z"
   },
   {
    "duration": 8,
    "start_time": "2022-10-02T21:43:45.475Z"
   },
   {
    "duration": 1135,
    "start_time": "2022-10-02T21:43:45.484Z"
   },
   {
    "duration": 10,
    "start_time": "2022-10-02T21:43:46.621Z"
   },
   {
    "duration": 20876,
    "start_time": "2022-10-02T21:43:46.633Z"
   },
   {
    "duration": 278,
    "start_time": "2022-10-02T21:44:07.511Z"
   },
   {
    "duration": 3,
    "start_time": "2022-10-02T21:44:07.792Z"
   },
   {
    "duration": 47,
    "start_time": "2022-10-02T21:44:07.797Z"
   },
   {
    "duration": 1250,
    "start_time": "2022-10-02T21:56:24.915Z"
   },
   {
    "duration": 16,
    "start_time": "2022-10-02T21:56:26.167Z"
   },
   {
    "duration": 24,
    "start_time": "2022-10-02T21:56:26.185Z"
   },
   {
    "duration": 15,
    "start_time": "2022-10-02T21:56:26.211Z"
   },
   {
    "duration": 31,
    "start_time": "2022-10-02T21:56:26.228Z"
   },
   {
    "duration": 1088,
    "start_time": "2022-10-02T21:56:26.261Z"
   },
   {
    "duration": 10,
    "start_time": "2022-10-02T21:56:27.351Z"
   },
   {
    "duration": 20891,
    "start_time": "2022-10-02T21:56:27.363Z"
   },
   {
    "duration": 273,
    "start_time": "2022-10-02T21:56:48.255Z"
   },
   {
    "duration": 3,
    "start_time": "2022-10-02T21:56:48.530Z"
   },
   {
    "duration": 1196,
    "start_time": "2022-10-04T21:34:43.590Z"
   },
   {
    "duration": 18,
    "start_time": "2022-10-04T21:34:44.788Z"
   },
   {
    "duration": 6,
    "start_time": "2022-10-04T21:34:44.808Z"
   },
   {
    "duration": 6,
    "start_time": "2022-10-04T21:34:44.817Z"
   },
   {
    "duration": 13,
    "start_time": "2022-10-04T21:34:44.824Z"
   },
   {
    "duration": 424,
    "start_time": "2022-10-04T21:34:44.839Z"
   },
   {
    "duration": 10386,
    "start_time": "2022-10-04T21:34:45.264Z"
   },
   {
    "duration": 3773,
    "start_time": "2022-10-04T21:34:55.653Z"
   },
   {
    "duration": 11,
    "start_time": "2022-10-04T21:34:59.427Z"
   },
   {
    "duration": 23,
    "start_time": "2022-10-04T21:34:59.440Z"
   },
   {
    "duration": 4,
    "start_time": "2022-10-04T21:34:59.465Z"
   },
   {
    "duration": 1160,
    "start_time": "2022-10-04T21:38:43.631Z"
   },
   {
    "duration": 17,
    "start_time": "2022-10-04T21:38:44.793Z"
   },
   {
    "duration": 5,
    "start_time": "2022-10-04T21:38:44.812Z"
   },
   {
    "duration": 10,
    "start_time": "2022-10-04T21:38:44.819Z"
   },
   {
    "duration": 9,
    "start_time": "2022-10-04T21:38:44.830Z"
   },
   {
    "duration": 426,
    "start_time": "2022-10-04T21:38:44.841Z"
   },
   {
    "duration": 10395,
    "start_time": "2022-10-04T21:38:45.268Z"
   },
   {
    "duration": 1534,
    "start_time": "2022-10-04T21:38:55.665Z"
   },
   {
    "duration": 11,
    "start_time": "2022-10-04T21:38:57.200Z"
   },
   {
    "duration": 14,
    "start_time": "2022-10-04T21:38:57.213Z"
   },
   {
    "duration": 26,
    "start_time": "2022-10-04T21:38:57.228Z"
   },
   {
    "duration": 1128,
    "start_time": "2022-10-04T21:39:07.194Z"
   },
   {
    "duration": 19,
    "start_time": "2022-10-04T21:39:08.325Z"
   },
   {
    "duration": 7,
    "start_time": "2022-10-04T21:39:08.346Z"
   },
   {
    "duration": 10,
    "start_time": "2022-10-04T21:39:08.355Z"
   },
   {
    "duration": 11,
    "start_time": "2022-10-04T21:39:08.367Z"
   },
   {
    "duration": 464,
    "start_time": "2022-10-04T21:39:08.379Z"
   },
   {
    "duration": 10514,
    "start_time": "2022-10-04T21:39:08.844Z"
   },
   {
    "duration": 1708,
    "start_time": "2022-10-04T21:39:19.360Z"
   },
   {
    "duration": 10,
    "start_time": "2022-10-04T21:39:21.070Z"
   },
   {
    "duration": 11,
    "start_time": "2022-10-04T21:39:21.082Z"
   },
   {
    "duration": 3,
    "start_time": "2022-10-04T21:39:21.095Z"
   },
   {
    "duration": 1196,
    "start_time": "2022-10-04T21:42:39.043Z"
   },
   {
    "duration": 17,
    "start_time": "2022-10-04T21:42:40.242Z"
   },
   {
    "duration": 6,
    "start_time": "2022-10-04T21:42:40.260Z"
   },
   {
    "duration": 7,
    "start_time": "2022-10-04T21:42:40.268Z"
   },
   {
    "duration": 10,
    "start_time": "2022-10-04T21:42:40.276Z"
   },
   {
    "duration": 508,
    "start_time": "2022-10-04T21:42:40.288Z"
   },
   {
    "duration": 10490,
    "start_time": "2022-10-04T21:42:40.799Z"
   },
   {
    "duration": 1514,
    "start_time": "2022-10-04T21:42:51.291Z"
   },
   {
    "duration": 10,
    "start_time": "2022-10-04T21:42:52.807Z"
   },
   {
    "duration": 143,
    "start_time": "2022-10-04T21:42:52.819Z"
   },
   {
    "duration": 20,
    "start_time": "2022-10-04T21:42:52.964Z"
   },
   {
    "duration": 1104,
    "start_time": "2022-10-04T21:43:15.594Z"
   },
   {
    "duration": 19,
    "start_time": "2022-10-04T21:43:16.700Z"
   },
   {
    "duration": 8,
    "start_time": "2022-10-04T21:43:16.720Z"
   },
   {
    "duration": 10,
    "start_time": "2022-10-04T21:43:16.730Z"
   },
   {
    "duration": 14,
    "start_time": "2022-10-04T21:43:16.742Z"
   },
   {
    "duration": 468,
    "start_time": "2022-10-04T21:43:16.759Z"
   },
   {
    "duration": 10597,
    "start_time": "2022-10-04T21:43:17.229Z"
   },
   {
    "duration": 1495,
    "start_time": "2022-10-04T21:43:27.828Z"
   },
   {
    "duration": 9,
    "start_time": "2022-10-04T21:43:29.325Z"
   },
   {
    "duration": 182,
    "start_time": "2022-10-04T21:43:29.336Z"
   },
   {
    "duration": 21,
    "start_time": "2022-10-04T21:43:29.520Z"
   },
   {
    "duration": 1114,
    "start_time": "2022-10-04T21:45:18.090Z"
   },
   {
    "duration": 16,
    "start_time": "2022-10-04T21:45:19.206Z"
   },
   {
    "duration": 5,
    "start_time": "2022-10-04T21:45:19.224Z"
   },
   {
    "duration": 14,
    "start_time": "2022-10-04T21:45:19.230Z"
   },
   {
    "duration": 14,
    "start_time": "2022-10-04T21:45:19.246Z"
   },
   {
    "duration": 453,
    "start_time": "2022-10-04T21:45:19.261Z"
   },
   {
    "duration": 10572,
    "start_time": "2022-10-04T21:45:19.716Z"
   },
   {
    "duration": 1467,
    "start_time": "2022-10-04T21:45:30.290Z"
   },
   {
    "duration": 13,
    "start_time": "2022-10-04T21:45:31.759Z"
   },
   {
    "duration": 182,
    "start_time": "2022-10-04T21:45:31.775Z"
   },
   {
    "duration": 19,
    "start_time": "2022-10-04T21:45:31.959Z"
   },
   {
    "duration": 1178,
    "start_time": "2022-10-04T21:46:07.118Z"
   },
   {
    "duration": 18,
    "start_time": "2022-10-04T21:46:08.298Z"
   },
   {
    "duration": 18,
    "start_time": "2022-10-04T21:46:08.318Z"
   },
   {
    "duration": 10,
    "start_time": "2022-10-04T21:46:08.339Z"
   },
   {
    "duration": 11,
    "start_time": "2022-10-04T21:46:08.351Z"
   },
   {
    "duration": 465,
    "start_time": "2022-10-04T21:46:08.364Z"
   },
   {
    "duration": 10652,
    "start_time": "2022-10-04T21:46:08.831Z"
   },
   {
    "duration": 1502,
    "start_time": "2022-10-04T21:46:19.485Z"
   },
   {
    "duration": 12,
    "start_time": "2022-10-04T21:46:20.989Z"
   },
   {
    "duration": 204,
    "start_time": "2022-10-04T21:46:21.004Z"
   },
   {
    "duration": 22,
    "start_time": "2022-10-04T21:46:21.211Z"
   },
   {
    "duration": 10796,
    "start_time": "2022-10-04T21:46:26.131Z"
   },
   {
    "duration": 1387,
    "start_time": "2022-10-04T21:46:36.929Z"
   },
   {
    "duration": 467,
    "start_time": "2022-10-04T21:46:42.067Z"
   },
   {
    "duration": 442,
    "start_time": "2022-10-04T21:46:44.991Z"
   },
   {
    "duration": 475,
    "start_time": "2022-10-04T21:46:47.384Z"
   },
   {
    "duration": 10556,
    "start_time": "2022-10-04T21:46:51.699Z"
   },
   {
    "duration": 1399,
    "start_time": "2022-10-04T21:47:02.257Z"
   },
   {
    "duration": 10625,
    "start_time": "2022-10-04T21:47:10.463Z"
   },
   {
    "duration": 1524,
    "start_time": "2022-10-04T21:47:21.091Z"
   },
   {
    "duration": 13,
    "start_time": "2022-10-04T21:47:30.204Z"
   },
   {
    "duration": 197,
    "start_time": "2022-10-04T21:47:31.242Z"
   },
   {
    "duration": 23,
    "start_time": "2022-10-04T21:47:32.200Z"
   },
   {
    "duration": 21,
    "start_time": "2022-10-04T21:47:35.033Z"
   },
   {
    "duration": 1176,
    "start_time": "2022-10-04T21:47:43.426Z"
   },
   {
    "duration": 17,
    "start_time": "2022-10-04T21:47:44.605Z"
   },
   {
    "duration": 5,
    "start_time": "2022-10-04T21:47:44.624Z"
   },
   {
    "duration": 8,
    "start_time": "2022-10-04T21:47:44.630Z"
   },
   {
    "duration": 10,
    "start_time": "2022-10-04T21:47:44.640Z"
   },
   {
    "duration": 437,
    "start_time": "2022-10-04T21:47:44.652Z"
   },
   {
    "duration": 10556,
    "start_time": "2022-10-04T21:47:45.091Z"
   },
   {
    "duration": 1409,
    "start_time": "2022-10-04T21:47:55.654Z"
   },
   {
    "duration": 10,
    "start_time": "2022-10-04T21:47:57.065Z"
   },
   {
    "duration": 152,
    "start_time": "2022-10-04T21:47:57.077Z"
   },
   {
    "duration": 28,
    "start_time": "2022-10-04T21:47:57.230Z"
   },
   {
    "duration": 22,
    "start_time": "2022-10-04T21:48:53.358Z"
   },
   {
    "duration": 22,
    "start_time": "2022-10-04T21:48:59.723Z"
   },
   {
    "duration": 1087,
    "start_time": "2022-10-04T21:49:18.605Z"
   },
   {
    "duration": 17,
    "start_time": "2022-10-04T21:49:19.694Z"
   },
   {
    "duration": 5,
    "start_time": "2022-10-04T21:49:19.713Z"
   },
   {
    "duration": 13,
    "start_time": "2022-10-04T21:49:19.720Z"
   },
   {
    "duration": 11,
    "start_time": "2022-10-04T21:49:19.735Z"
   },
   {
    "duration": 424,
    "start_time": "2022-10-04T21:49:19.747Z"
   },
   {
    "duration": 10423,
    "start_time": "2022-10-04T21:49:20.173Z"
   },
   {
    "duration": 1292,
    "start_time": "2022-10-04T21:49:30.598Z"
   },
   {
    "duration": 11,
    "start_time": "2022-10-04T21:49:31.892Z"
   },
   {
    "duration": 135,
    "start_time": "2022-10-04T21:49:31.905Z"
   },
   {
    "duration": 19,
    "start_time": "2022-10-04T21:49:32.041Z"
   },
   {
    "duration": 1131,
    "start_time": "2022-10-04T21:50:07.452Z"
   },
   {
    "duration": 17,
    "start_time": "2022-10-04T21:50:08.585Z"
   },
   {
    "duration": 11,
    "start_time": "2022-10-04T21:50:08.603Z"
   },
   {
    "duration": 10,
    "start_time": "2022-10-04T21:50:08.616Z"
   },
   {
    "duration": 21,
    "start_time": "2022-10-04T21:50:08.628Z"
   },
   {
    "duration": 440,
    "start_time": "2022-10-04T21:50:08.651Z"
   },
   {
    "duration": 10632,
    "start_time": "2022-10-04T21:50:09.093Z"
   },
   {
    "duration": 1617,
    "start_time": "2022-10-04T21:50:19.727Z"
   },
   {
    "duration": 14,
    "start_time": "2022-10-04T21:50:21.346Z"
   },
   {
    "duration": 68,
    "start_time": "2022-10-04T21:50:21.363Z"
   },
   {
    "duration": 39,
    "start_time": "2022-10-04T21:50:21.433Z"
   },
   {
    "duration": 27,
    "start_time": "2022-10-04T21:51:33.954Z"
   },
   {
    "duration": 1219,
    "start_time": "2022-10-04T21:51:41.361Z"
   },
   {
    "duration": 17,
    "start_time": "2022-10-04T21:51:42.582Z"
   },
   {
    "duration": 5,
    "start_time": "2022-10-04T21:51:42.601Z"
   },
   {
    "duration": 6,
    "start_time": "2022-10-04T21:51:42.608Z"
   },
   {
    "duration": 11,
    "start_time": "2022-10-04T21:51:42.616Z"
   },
   {
    "duration": 433,
    "start_time": "2022-10-04T21:51:42.628Z"
   },
   {
    "duration": 10771,
    "start_time": "2022-10-04T21:51:43.063Z"
   },
   {
    "duration": 1041,
    "start_time": "2022-10-04T21:51:53.836Z"
   },
   {
    "duration": 10,
    "start_time": "2022-10-04T21:51:54.879Z"
   },
   {
    "duration": 71,
    "start_time": "2022-10-04T21:51:54.890Z"
   },
   {
    "duration": 16,
    "start_time": "2022-10-04T21:51:54.963Z"
   },
   {
    "duration": 1190,
    "start_time": "2022-10-04T21:54:44.667Z"
   },
   {
    "duration": 18,
    "start_time": "2022-10-04T21:54:45.860Z"
   },
   {
    "duration": 25,
    "start_time": "2022-10-04T21:54:45.880Z"
   },
   {
    "duration": 9,
    "start_time": "2022-10-04T21:54:45.908Z"
   },
   {
    "duration": 25,
    "start_time": "2022-10-04T21:54:45.919Z"
   },
   {
    "duration": 434,
    "start_time": "2022-10-04T21:54:45.946Z"
   },
   {
    "duration": 10400,
    "start_time": "2022-10-04T21:54:46.382Z"
   },
   {
    "duration": 13732,
    "start_time": "2022-10-04T21:54:56.785Z"
   },
   {
    "duration": 10,
    "start_time": "2022-10-04T21:55:10.518Z"
   },
   {
    "duration": 70,
    "start_time": "2022-10-04T21:55:10.530Z"
   },
   {
    "duration": 21,
    "start_time": "2022-10-04T21:55:10.602Z"
   },
   {
    "duration": 13432,
    "start_time": "2022-10-04T21:55:43.722Z"
   },
   {
    "duration": 13776,
    "start_time": "2022-10-04T21:56:25.593Z"
   },
   {
    "duration": 1155,
    "start_time": "2022-10-04T21:56:55.421Z"
   },
   {
    "duration": 16,
    "start_time": "2022-10-04T21:56:56.578Z"
   },
   {
    "duration": 6,
    "start_time": "2022-10-04T21:56:56.595Z"
   },
   {
    "duration": 6,
    "start_time": "2022-10-04T21:56:56.603Z"
   },
   {
    "duration": 9,
    "start_time": "2022-10-04T21:56:56.611Z"
   },
   {
    "duration": 455,
    "start_time": "2022-10-04T21:56:56.621Z"
   },
   {
    "duration": 10109,
    "start_time": "2022-10-04T21:56:57.077Z"
   },
   {
    "duration": 1394,
    "start_time": "2022-10-04T21:57:07.188Z"
   },
   {
    "duration": 11,
    "start_time": "2022-10-04T21:57:08.583Z"
   },
   {
    "duration": 187,
    "start_time": "2022-10-04T21:57:08.597Z"
   },
   {
    "duration": 19,
    "start_time": "2022-10-04T21:57:08.786Z"
   },
   {
    "duration": 1164,
    "start_time": "2022-10-04T22:01:07.021Z"
   },
   {
    "duration": 18,
    "start_time": "2022-10-04T22:01:08.187Z"
   },
   {
    "duration": 7,
    "start_time": "2022-10-04T22:01:08.207Z"
   },
   {
    "duration": 10,
    "start_time": "2022-10-04T22:01:08.216Z"
   },
   {
    "duration": 11,
    "start_time": "2022-10-04T22:01:08.228Z"
   },
   {
    "duration": 457,
    "start_time": "2022-10-04T22:01:08.240Z"
   },
   {
    "duration": 10318,
    "start_time": "2022-10-04T22:01:08.698Z"
   },
   {
    "duration": 10,
    "start_time": "2022-10-04T22:01:19.018Z"
   },
   {
    "duration": 193,
    "start_time": "2022-10-04T22:01:19.029Z"
   },
   {
    "duration": 1175,
    "start_time": "2022-10-04T22:02:11.443Z"
   },
   {
    "duration": 18,
    "start_time": "2022-10-04T22:02:12.620Z"
   },
   {
    "duration": 6,
    "start_time": "2022-10-04T22:02:12.640Z"
   },
   {
    "duration": 22,
    "start_time": "2022-10-04T22:02:12.648Z"
   },
   {
    "duration": 54,
    "start_time": "2022-10-04T22:02:12.673Z"
   },
   {
    "duration": 0,
    "start_time": "2022-10-04T22:02:12.729Z"
   },
   {
    "duration": 0,
    "start_time": "2022-10-04T22:02:12.730Z"
   },
   {
    "duration": 0,
    "start_time": "2022-10-04T22:02:12.731Z"
   },
   {
    "duration": 0,
    "start_time": "2022-10-04T22:02:12.732Z"
   },
   {
    "duration": 1246,
    "start_time": "2022-10-04T22:02:32.941Z"
   },
   {
    "duration": 17,
    "start_time": "2022-10-04T22:02:34.189Z"
   },
   {
    "duration": 5,
    "start_time": "2022-10-04T22:02:34.207Z"
   },
   {
    "duration": 6,
    "start_time": "2022-10-04T22:02:34.214Z"
   },
   {
    "duration": 10,
    "start_time": "2022-10-04T22:02:34.222Z"
   },
   {
    "duration": 335,
    "start_time": "2022-10-04T22:02:34.234Z"
   },
   {
    "duration": 8542,
    "start_time": "2022-10-04T22:02:34.571Z"
   },
   {
    "duration": 9,
    "start_time": "2022-10-04T22:02:43.115Z"
   },
   {
    "duration": 52,
    "start_time": "2022-10-04T22:02:43.126Z"
   },
   {
    "duration": 1170,
    "start_time": "2022-10-04T22:03:33.060Z"
   },
   {
    "duration": 17,
    "start_time": "2022-10-04T22:03:34.232Z"
   },
   {
    "duration": 6,
    "start_time": "2022-10-04T22:03:34.250Z"
   },
   {
    "duration": 7,
    "start_time": "2022-10-04T22:03:34.258Z"
   },
   {
    "duration": 9,
    "start_time": "2022-10-04T22:03:34.267Z"
   },
   {
    "duration": 436,
    "start_time": "2022-10-04T22:03:34.277Z"
   },
   {
    "duration": 10351,
    "start_time": "2022-10-04T22:03:34.714Z"
   },
   {
    "duration": 11,
    "start_time": "2022-10-04T22:03:45.066Z"
   },
   {
    "duration": 22,
    "start_time": "2022-10-04T22:03:45.079Z"
   },
   {
    "duration": 1143,
    "start_time": "2022-10-04T22:04:02.751Z"
   },
   {
    "duration": 17,
    "start_time": "2022-10-04T22:04:03.896Z"
   },
   {
    "duration": 6,
    "start_time": "2022-10-04T22:04:03.915Z"
   },
   {
    "duration": 9,
    "start_time": "2022-10-04T22:04:03.922Z"
   },
   {
    "duration": 11,
    "start_time": "2022-10-04T22:04:03.933Z"
   },
   {
    "duration": 445,
    "start_time": "2022-10-04T22:04:03.946Z"
   },
   {
    "duration": 10554,
    "start_time": "2022-10-04T22:04:04.393Z"
   },
   {
    "duration": 11,
    "start_time": "2022-10-04T22:04:14.954Z"
   },
   {
    "duration": 116,
    "start_time": "2022-10-04T22:04:14.967Z"
   },
   {
    "duration": 1106,
    "start_time": "2022-10-04T22:04:21.997Z"
   },
   {
    "duration": 17,
    "start_time": "2022-10-04T22:04:23.105Z"
   },
   {
    "duration": 4,
    "start_time": "2022-10-04T22:04:23.124Z"
   },
   {
    "duration": 7,
    "start_time": "2022-10-04T22:04:23.130Z"
   },
   {
    "duration": 9,
    "start_time": "2022-10-04T22:04:23.139Z"
   },
   {
    "duration": 434,
    "start_time": "2022-10-04T22:04:23.150Z"
   },
   {
    "duration": 10488,
    "start_time": "2022-10-04T22:04:23.586Z"
   },
   {
    "duration": 10,
    "start_time": "2022-10-04T22:04:34.077Z"
   },
   {
    "duration": 46,
    "start_time": "2022-10-04T22:04:34.089Z"
   },
   {
    "duration": 1198,
    "start_time": "2022-10-04T22:04:57.690Z"
   },
   {
    "duration": 17,
    "start_time": "2022-10-04T22:04:58.890Z"
   },
   {
    "duration": 12,
    "start_time": "2022-10-04T22:04:58.909Z"
   },
   {
    "duration": 18,
    "start_time": "2022-10-04T22:04:58.922Z"
   },
   {
    "duration": 15,
    "start_time": "2022-10-04T22:04:58.942Z"
   },
   {
    "duration": 483,
    "start_time": "2022-10-04T22:04:58.959Z"
   },
   {
    "duration": 10568,
    "start_time": "2022-10-04T22:04:59.444Z"
   },
   {
    "duration": 10,
    "start_time": "2022-10-04T22:05:10.014Z"
   },
   {
    "duration": 37,
    "start_time": "2022-10-04T22:05:10.025Z"
   },
   {
    "duration": 1185,
    "start_time": "2022-10-04T22:21:09.633Z"
   },
   {
    "duration": 17,
    "start_time": "2022-10-04T22:21:10.821Z"
   },
   {
    "duration": 6,
    "start_time": "2022-10-04T22:21:10.840Z"
   },
   {
    "duration": 9,
    "start_time": "2022-10-04T22:21:10.848Z"
   },
   {
    "duration": 11,
    "start_time": "2022-10-04T22:21:10.859Z"
   },
   {
    "duration": 470,
    "start_time": "2022-10-04T22:21:10.872Z"
   },
   {
    "duration": 10711,
    "start_time": "2022-10-04T22:21:11.344Z"
   },
   {
    "duration": 12,
    "start_time": "2022-10-04T22:21:22.057Z"
   },
   {
    "duration": 63,
    "start_time": "2022-10-04T22:21:22.072Z"
   },
   {
    "duration": 1151,
    "start_time": "2022-10-04T22:21:31.960Z"
   },
   {
    "duration": 18,
    "start_time": "2022-10-04T22:21:33.114Z"
   },
   {
    "duration": 7,
    "start_time": "2022-10-04T22:21:33.134Z"
   },
   {
    "duration": 6,
    "start_time": "2022-10-04T22:21:33.143Z"
   },
   {
    "duration": 11,
    "start_time": "2022-10-04T22:21:33.152Z"
   },
   {
    "duration": 478,
    "start_time": "2022-10-04T22:21:33.165Z"
   },
   {
    "duration": 10651,
    "start_time": "2022-10-04T22:21:33.645Z"
   },
   {
    "duration": 13,
    "start_time": "2022-10-04T22:21:44.298Z"
   },
   {
    "duration": 69,
    "start_time": "2022-10-04T22:21:44.313Z"
   },
   {
    "duration": 1164,
    "start_time": "2022-10-04T22:37:13.337Z"
   },
   {
    "duration": 20,
    "start_time": "2022-10-04T22:37:14.503Z"
   },
   {
    "duration": 9,
    "start_time": "2022-10-04T22:37:14.525Z"
   },
   {
    "duration": 11,
    "start_time": "2022-10-04T22:37:14.537Z"
   },
   {
    "duration": 8,
    "start_time": "2022-10-04T22:37:14.551Z"
   },
   {
    "duration": 1000,
    "start_time": "2022-10-04T22:37:14.561Z"
   },
   {
    "duration": 19156,
    "start_time": "2022-10-04T22:37:15.563Z"
   },
   {
    "duration": 13,
    "start_time": "2022-10-04T22:37:34.721Z"
   },
   {
    "duration": 309,
    "start_time": "2022-10-04T22:37:34.736Z"
   },
   {
    "duration": 1092,
    "start_time": "2022-10-05T19:24:16.902Z"
   },
   {
    "duration": 14,
    "start_time": "2022-10-05T19:24:17.996Z"
   },
   {
    "duration": 7,
    "start_time": "2022-10-05T19:24:18.013Z"
   },
   {
    "duration": 10,
    "start_time": "2022-10-05T19:24:18.021Z"
   },
   {
    "duration": 9,
    "start_time": "2022-10-05T19:24:18.032Z"
   },
   {
    "duration": 8,
    "start_time": "2022-10-05T19:24:18.042Z"
   },
   {
    "duration": 166,
    "start_time": "2022-10-05T19:24:18.052Z"
   },
   {
    "duration": 12,
    "start_time": "2022-10-05T19:24:18.220Z"
   },
   {
    "duration": 0,
    "start_time": "2022-10-05T19:24:18.234Z"
   },
   {
    "duration": 0,
    "start_time": "2022-10-05T19:24:18.235Z"
   },
   {
    "duration": 0,
    "start_time": "2022-10-05T19:24:18.236Z"
   },
   {
    "duration": 0,
    "start_time": "2022-10-05T19:24:18.237Z"
   },
   {
    "duration": 1089,
    "start_time": "2022-10-05T19:30:38.912Z"
   },
   {
    "duration": 15,
    "start_time": "2022-10-05T19:30:40.002Z"
   },
   {
    "duration": 6,
    "start_time": "2022-10-05T19:30:40.019Z"
   },
   {
    "duration": 6,
    "start_time": "2022-10-05T19:30:40.027Z"
   },
   {
    "duration": 11,
    "start_time": "2022-10-05T19:30:40.035Z"
   },
   {
    "duration": 8,
    "start_time": "2022-10-05T19:30:40.047Z"
   },
   {
    "duration": 169,
    "start_time": "2022-10-05T19:30:40.057Z"
   },
   {
    "duration": 15,
    "start_time": "2022-10-05T19:30:40.227Z"
   },
   {
    "duration": 0,
    "start_time": "2022-10-05T19:30:40.243Z"
   },
   {
    "duration": 0,
    "start_time": "2022-10-05T19:30:40.245Z"
   },
   {
    "duration": 0,
    "start_time": "2022-10-05T19:30:40.246Z"
   },
   {
    "duration": 0,
    "start_time": "2022-10-05T19:30:40.247Z"
   },
   {
    "duration": 1046,
    "start_time": "2022-10-05T19:34:40.285Z"
   },
   {
    "duration": 14,
    "start_time": "2022-10-05T19:34:41.333Z"
   },
   {
    "duration": 13,
    "start_time": "2022-10-05T19:34:41.348Z"
   },
   {
    "duration": 7,
    "start_time": "2022-10-05T19:34:41.362Z"
   },
   {
    "duration": 9,
    "start_time": "2022-10-05T19:34:41.371Z"
   },
   {
    "duration": 8,
    "start_time": "2022-10-05T19:34:41.382Z"
   },
   {
    "duration": 164,
    "start_time": "2022-10-05T19:34:41.391Z"
   },
   {
    "duration": 14,
    "start_time": "2022-10-05T19:34:41.557Z"
   },
   {
    "duration": 0,
    "start_time": "2022-10-05T19:34:41.573Z"
   },
   {
    "duration": 0,
    "start_time": "2022-10-05T19:34:41.574Z"
   },
   {
    "duration": 0,
    "start_time": "2022-10-05T19:34:41.576Z"
   },
   {
    "duration": 0,
    "start_time": "2022-10-05T19:34:41.577Z"
   },
   {
    "duration": 3,
    "start_time": "2022-10-05T19:43:58.448Z"
   },
   {
    "duration": 1065,
    "start_time": "2022-10-05T19:44:10.746Z"
   },
   {
    "duration": 15,
    "start_time": "2022-10-05T19:44:11.813Z"
   },
   {
    "duration": 6,
    "start_time": "2022-10-05T19:44:11.829Z"
   },
   {
    "duration": 6,
    "start_time": "2022-10-05T19:44:11.836Z"
   },
   {
    "duration": 10,
    "start_time": "2022-10-05T19:44:11.844Z"
   },
   {
    "duration": 5,
    "start_time": "2022-10-05T19:44:11.855Z"
   },
   {
    "duration": 162,
    "start_time": "2022-10-05T19:44:11.861Z"
   },
   {
    "duration": 13,
    "start_time": "2022-10-05T19:44:12.025Z"
   },
   {
    "duration": 0,
    "start_time": "2022-10-05T19:44:12.039Z"
   },
   {
    "duration": 0,
    "start_time": "2022-10-05T19:44:12.040Z"
   },
   {
    "duration": 0,
    "start_time": "2022-10-05T19:44:12.042Z"
   },
   {
    "duration": 0,
    "start_time": "2022-10-05T19:44:12.043Z"
   },
   {
    "duration": 11,
    "start_time": "2022-10-05T19:45:02.288Z"
   },
   {
    "duration": 6,
    "start_time": "2022-10-05T19:48:06.186Z"
   },
   {
    "duration": 3,
    "start_time": "2022-10-05T19:49:01.842Z"
   },
   {
    "duration": 5,
    "start_time": "2022-10-05T19:49:27.054Z"
   },
   {
    "duration": 5,
    "start_time": "2022-10-05T19:49:40.176Z"
   },
   {
    "duration": 1336,
    "start_time": "2022-10-05T19:56:05.549Z"
   },
   {
    "duration": 17,
    "start_time": "2022-10-05T19:56:06.887Z"
   },
   {
    "duration": 5,
    "start_time": "2022-10-05T19:56:06.906Z"
   },
   {
    "duration": 10,
    "start_time": "2022-10-05T19:56:06.913Z"
   },
   {
    "duration": 8,
    "start_time": "2022-10-05T19:56:06.925Z"
   },
   {
    "duration": 13,
    "start_time": "2022-10-05T19:56:06.934Z"
   },
   {
    "duration": 262,
    "start_time": "2022-10-05T19:56:06.950Z"
   },
   {
    "duration": 13,
    "start_time": "2022-10-05T19:56:07.214Z"
   },
   {
    "duration": 0,
    "start_time": "2022-10-05T19:56:07.228Z"
   },
   {
    "duration": 0,
    "start_time": "2022-10-05T19:56:07.230Z"
   },
   {
    "duration": 0,
    "start_time": "2022-10-05T19:56:07.231Z"
   },
   {
    "duration": 0,
    "start_time": "2022-10-05T19:56:07.233Z"
   },
   {
    "duration": 1072,
    "start_time": "2022-10-05T20:03:56.260Z"
   },
   {
    "duration": 14,
    "start_time": "2022-10-05T20:03:57.334Z"
   },
   {
    "duration": 31,
    "start_time": "2022-10-05T20:03:57.350Z"
   },
   {
    "duration": 27,
    "start_time": "2022-10-05T20:03:57.383Z"
   },
   {
    "duration": 29,
    "start_time": "2022-10-05T20:03:57.413Z"
   },
   {
    "duration": 51,
    "start_time": "2022-10-05T20:03:57.443Z"
   },
   {
    "duration": 796,
    "start_time": "2022-10-05T20:03:57.495Z"
   },
   {
    "duration": 7,
    "start_time": "2022-10-05T20:03:58.293Z"
   },
   {
    "duration": 12859,
    "start_time": "2022-10-05T20:03:58.301Z"
   },
   {
    "duration": 10,
    "start_time": "2022-10-05T20:04:11.162Z"
   },
   {
    "duration": 11,
    "start_time": "2022-10-05T20:04:11.173Z"
   },
   {
    "duration": 109,
    "start_time": "2022-10-05T20:04:11.185Z"
   },
   {
    "duration": 1072,
    "start_time": "2022-10-05T20:05:15.684Z"
   },
   {
    "duration": 15,
    "start_time": "2022-10-05T20:05:16.757Z"
   },
   {
    "duration": 7,
    "start_time": "2022-10-05T20:05:16.773Z"
   },
   {
    "duration": 10,
    "start_time": "2022-10-05T20:05:16.782Z"
   },
   {
    "duration": 8,
    "start_time": "2022-10-05T20:05:16.794Z"
   },
   {
    "duration": 6,
    "start_time": "2022-10-05T20:05:16.803Z"
   },
   {
    "duration": 643,
    "start_time": "2022-10-05T20:05:16.810Z"
   },
   {
    "duration": 14,
    "start_time": "2022-10-05T20:05:17.454Z"
   },
   {
    "duration": 12504,
    "start_time": "2022-10-05T20:05:17.470Z"
   },
   {
    "duration": 11,
    "start_time": "2022-10-05T20:05:29.976Z"
   },
   {
    "duration": 14,
    "start_time": "2022-10-05T20:05:29.989Z"
   },
   {
    "duration": 17,
    "start_time": "2022-10-05T20:05:30.004Z"
   },
   {
    "duration": 1129,
    "start_time": "2022-10-05T20:08:18.808Z"
   },
   {
    "duration": 14,
    "start_time": "2022-10-05T20:08:19.939Z"
   },
   {
    "duration": 5,
    "start_time": "2022-10-05T20:08:19.954Z"
   },
   {
    "duration": 10,
    "start_time": "2022-10-05T20:08:19.960Z"
   },
   {
    "duration": 10,
    "start_time": "2022-10-05T20:08:19.972Z"
   },
   {
    "duration": 5,
    "start_time": "2022-10-05T20:08:19.983Z"
   },
   {
    "duration": 754,
    "start_time": "2022-10-05T20:08:19.990Z"
   },
   {
    "duration": 8,
    "start_time": "2022-10-05T20:08:20.746Z"
   },
   {
    "duration": 12496,
    "start_time": "2022-10-05T20:08:20.756Z"
   },
   {
    "duration": 11,
    "start_time": "2022-10-05T20:08:33.253Z"
   },
   {
    "duration": 7,
    "start_time": "2022-10-05T20:08:33.265Z"
   },
   {
    "duration": 9,
    "start_time": "2022-10-05T20:08:33.274Z"
   },
   {
    "duration": 4,
    "start_time": "2022-10-05T20:51:44.159Z"
   },
   {
    "duration": 3,
    "start_time": "2022-10-05T20:52:05.376Z"
   },
   {
    "duration": 1059,
    "start_time": "2022-10-05T20:56:01.932Z"
   },
   {
    "duration": 14,
    "start_time": "2022-10-05T20:56:02.993Z"
   },
   {
    "duration": 4,
    "start_time": "2022-10-05T20:56:03.008Z"
   },
   {
    "duration": 12,
    "start_time": "2022-10-05T20:56:03.013Z"
   },
   {
    "duration": 7,
    "start_time": "2022-10-05T20:56:03.027Z"
   },
   {
    "duration": 6,
    "start_time": "2022-10-05T20:56:03.035Z"
   },
   {
    "duration": 668,
    "start_time": "2022-10-05T20:56:03.042Z"
   },
   {
    "duration": 11,
    "start_time": "2022-10-05T20:56:03.712Z"
   },
   {
    "duration": 12984,
    "start_time": "2022-10-05T20:56:03.724Z"
   },
   {
    "duration": 17,
    "start_time": "2022-10-05T20:56:16.709Z"
   },
   {
    "duration": 7,
    "start_time": "2022-10-05T20:56:16.728Z"
   },
   {
    "duration": 10,
    "start_time": "2022-10-05T20:56:16.736Z"
   },
   {
    "duration": 109,
    "start_time": "2022-10-05T20:56:16.747Z"
   },
   {
    "duration": 0,
    "start_time": "2022-10-05T20:56:16.858Z"
   },
   {
    "duration": 8,
    "start_time": "2022-10-05T20:58:26.471Z"
   },
   {
    "duration": 13,
    "start_time": "2022-10-05T20:58:36.559Z"
   },
   {
    "duration": 13,
    "start_time": "2022-10-05T20:58:42.331Z"
   },
   {
    "duration": 13,
    "start_time": "2022-10-05T20:58:43.200Z"
   },
   {
    "duration": 8,
    "start_time": "2022-10-05T21:01:19.325Z"
   },
   {
    "duration": 1031,
    "start_time": "2022-10-05T21:01:38.882Z"
   },
   {
    "duration": 15,
    "start_time": "2022-10-05T21:01:39.915Z"
   },
   {
    "duration": 6,
    "start_time": "2022-10-05T21:01:39.931Z"
   },
   {
    "duration": 7,
    "start_time": "2022-10-05T21:01:39.938Z"
   },
   {
    "duration": 7,
    "start_time": "2022-10-05T21:01:39.947Z"
   },
   {
    "duration": 5,
    "start_time": "2022-10-05T21:01:39.955Z"
   },
   {
    "duration": 654,
    "start_time": "2022-10-05T21:01:39.962Z"
   },
   {
    "duration": 10,
    "start_time": "2022-10-05T21:01:40.617Z"
   },
   {
    "duration": 12712,
    "start_time": "2022-10-05T21:01:40.629Z"
   },
   {
    "duration": 12,
    "start_time": "2022-10-05T21:01:53.343Z"
   },
   {
    "duration": 9,
    "start_time": "2022-10-05T21:01:53.359Z"
   },
   {
    "duration": 11,
    "start_time": "2022-10-05T21:01:53.370Z"
   },
   {
    "duration": 148,
    "start_time": "2022-10-05T21:01:53.383Z"
   },
   {
    "duration": 0,
    "start_time": "2022-10-05T21:01:53.533Z"
   },
   {
    "duration": 0,
    "start_time": "2022-10-05T21:01:53.534Z"
   },
   {
    "duration": 0,
    "start_time": "2022-10-05T21:01:53.536Z"
   },
   {
    "duration": 3,
    "start_time": "2022-10-05T21:01:56.350Z"
   },
   {
    "duration": 18,
    "start_time": "2022-10-05T21:10:32.016Z"
   },
   {
    "duration": 9,
    "start_time": "2022-10-05T21:11:05.703Z"
   },
   {
    "duration": 1160,
    "start_time": "2022-10-05T21:11:10.921Z"
   },
   {
    "duration": 14,
    "start_time": "2022-10-05T21:11:12.083Z"
   },
   {
    "duration": 9,
    "start_time": "2022-10-05T21:11:12.098Z"
   },
   {
    "duration": 6,
    "start_time": "2022-10-05T21:11:12.108Z"
   },
   {
    "duration": 8,
    "start_time": "2022-10-05T21:11:12.116Z"
   },
   {
    "duration": 4,
    "start_time": "2022-10-05T21:11:12.125Z"
   },
   {
    "duration": 711,
    "start_time": "2022-10-05T21:11:12.130Z"
   },
   {
    "duration": 8,
    "start_time": "2022-10-05T21:11:12.843Z"
   },
   {
    "duration": 12616,
    "start_time": "2022-10-05T21:11:12.852Z"
   },
   {
    "duration": 10,
    "start_time": "2022-10-05T21:11:25.470Z"
   },
   {
    "duration": 8,
    "start_time": "2022-10-05T21:11:25.482Z"
   },
   {
    "duration": 10,
    "start_time": "2022-10-05T21:11:25.492Z"
   },
   {
    "duration": 23,
    "start_time": "2022-10-05T21:11:25.504Z"
   },
   {
    "duration": 99,
    "start_time": "2022-10-05T21:11:25.529Z"
   },
   {
    "duration": 0,
    "start_time": "2022-10-05T21:11:25.629Z"
   },
   {
    "duration": 0,
    "start_time": "2022-10-05T21:11:25.630Z"
   },
   {
    "duration": 11,
    "start_time": "2022-10-05T21:11:59.448Z"
   },
   {
    "duration": 5,
    "start_time": "2022-10-05T21:12:14.166Z"
   },
   {
    "duration": 1187,
    "start_time": "2022-10-05T21:14:03.976Z"
   },
   {
    "duration": 15,
    "start_time": "2022-10-05T21:14:05.164Z"
   },
   {
    "duration": 19,
    "start_time": "2022-10-05T21:14:05.181Z"
   },
   {
    "duration": 50,
    "start_time": "2022-10-05T21:14:05.202Z"
   },
   {
    "duration": 24,
    "start_time": "2022-10-05T21:14:05.253Z"
   },
   {
    "duration": 14,
    "start_time": "2022-10-05T21:14:05.278Z"
   },
   {
    "duration": 850,
    "start_time": "2022-10-05T21:14:05.294Z"
   },
   {
    "duration": 18,
    "start_time": "2022-10-05T21:14:06.147Z"
   },
   {
    "duration": 12894,
    "start_time": "2022-10-05T21:14:06.167Z"
   },
   {
    "duration": 11,
    "start_time": "2022-10-05T21:14:19.063Z"
   },
   {
    "duration": 10,
    "start_time": "2022-10-05T21:14:19.075Z"
   },
   {
    "duration": 15,
    "start_time": "2022-10-05T21:14:19.086Z"
   },
   {
    "duration": 18,
    "start_time": "2022-10-05T21:14:19.103Z"
   },
   {
    "duration": 5,
    "start_time": "2022-10-05T21:14:19.123Z"
   },
   {
    "duration": 100,
    "start_time": "2022-10-05T21:14:19.129Z"
   },
   {
    "duration": 0,
    "start_time": "2022-10-05T21:14:19.230Z"
   },
   {
    "duration": 13,
    "start_time": "2022-10-05T21:17:47.336Z"
   },
   {
    "duration": 1155,
    "start_time": "2022-10-05T21:18:04.620Z"
   },
   {
    "duration": 17,
    "start_time": "2022-10-05T21:18:05.777Z"
   },
   {
    "duration": 5,
    "start_time": "2022-10-05T21:18:05.795Z"
   },
   {
    "duration": 10,
    "start_time": "2022-10-05T21:18:05.801Z"
   },
   {
    "duration": 15,
    "start_time": "2022-10-05T21:18:05.813Z"
   },
   {
    "duration": 4,
    "start_time": "2022-10-05T21:18:05.830Z"
   },
   {
    "duration": 762,
    "start_time": "2022-10-05T21:18:05.835Z"
   },
   {
    "duration": 13,
    "start_time": "2022-10-05T21:18:06.599Z"
   },
   {
    "duration": 12530,
    "start_time": "2022-10-05T21:18:06.622Z"
   },
   {
    "duration": 10,
    "start_time": "2022-10-05T21:18:19.155Z"
   },
   {
    "duration": 14,
    "start_time": "2022-10-05T21:18:19.166Z"
   },
   {
    "duration": 9,
    "start_time": "2022-10-05T21:18:19.181Z"
   },
   {
    "duration": 77,
    "start_time": "2022-10-05T21:18:19.191Z"
   },
   {
    "duration": 0,
    "start_time": "2022-10-05T21:18:19.270Z"
   },
   {
    "duration": 0,
    "start_time": "2022-10-05T21:18:19.271Z"
   },
   {
    "duration": 0,
    "start_time": "2022-10-05T21:18:19.273Z"
   },
   {
    "duration": 8,
    "start_time": "2022-10-05T21:18:30.333Z"
   },
   {
    "duration": 9,
    "start_time": "2022-10-05T21:18:38.257Z"
   },
   {
    "duration": 5,
    "start_time": "2022-10-05T21:18:40.953Z"
   },
   {
    "duration": 9,
    "start_time": "2022-10-05T21:18:53.305Z"
   },
   {
    "duration": 5,
    "start_time": "2022-10-05T21:19:13.679Z"
   },
   {
    "duration": 1109,
    "start_time": "2022-10-05T21:19:25.360Z"
   },
   {
    "duration": 16,
    "start_time": "2022-10-05T21:19:26.471Z"
   },
   {
    "duration": 5,
    "start_time": "2022-10-05T21:19:26.488Z"
   },
   {
    "duration": 8,
    "start_time": "2022-10-05T21:19:26.494Z"
   },
   {
    "duration": 7,
    "start_time": "2022-10-05T21:19:26.504Z"
   },
   {
    "duration": 3,
    "start_time": "2022-10-05T21:19:26.513Z"
   },
   {
    "duration": 767,
    "start_time": "2022-10-05T21:19:26.517Z"
   },
   {
    "duration": 10,
    "start_time": "2022-10-05T21:19:27.285Z"
   },
   {
    "duration": 12579,
    "start_time": "2022-10-05T21:19:27.296Z"
   },
   {
    "duration": 11,
    "start_time": "2022-10-05T21:19:39.877Z"
   },
   {
    "duration": 12,
    "start_time": "2022-10-05T21:19:39.889Z"
   },
   {
    "duration": 22,
    "start_time": "2022-10-05T21:19:39.903Z"
   },
   {
    "duration": 9,
    "start_time": "2022-10-05T21:19:39.926Z"
   },
   {
    "duration": 6,
    "start_time": "2022-10-05T21:19:39.937Z"
   },
   {
    "duration": 8,
    "start_time": "2022-10-05T21:19:39.945Z"
   },
   {
    "duration": 12,
    "start_time": "2022-10-05T21:19:39.954Z"
   },
   {
    "duration": 1110,
    "start_time": "2022-10-05T21:28:47.701Z"
   },
   {
    "duration": 15,
    "start_time": "2022-10-05T21:28:48.813Z"
   },
   {
    "duration": 9,
    "start_time": "2022-10-05T21:28:48.830Z"
   },
   {
    "duration": 6,
    "start_time": "2022-10-05T21:28:48.840Z"
   },
   {
    "duration": 9,
    "start_time": "2022-10-05T21:28:48.847Z"
   },
   {
    "duration": 5,
    "start_time": "2022-10-05T21:28:48.857Z"
   },
   {
    "duration": 754,
    "start_time": "2022-10-05T21:28:48.864Z"
   },
   {
    "duration": 9,
    "start_time": "2022-10-05T21:28:49.621Z"
   },
   {
    "duration": 12962,
    "start_time": "2022-10-05T21:28:49.632Z"
   },
   {
    "duration": 10,
    "start_time": "2022-10-05T21:29:02.596Z"
   },
   {
    "duration": 22,
    "start_time": "2022-10-05T21:29:02.608Z"
   },
   {
    "duration": 22,
    "start_time": "2022-10-05T21:29:02.631Z"
   },
   {
    "duration": 15,
    "start_time": "2022-10-05T21:29:02.654Z"
   },
   {
    "duration": 18,
    "start_time": "2022-10-05T21:29:02.670Z"
   },
   {
    "duration": 18,
    "start_time": "2022-10-05T21:29:02.689Z"
   },
   {
    "duration": 10,
    "start_time": "2022-10-05T21:29:02.708Z"
   },
   {
    "duration": 1038,
    "start_time": "2022-10-06T20:16:45.758Z"
   },
   {
    "duration": 133,
    "start_time": "2022-10-06T20:16:46.797Z"
   },
   {
    "duration": 15,
    "start_time": "2022-10-06T20:16:46.932Z"
   },
   {
    "duration": 5,
    "start_time": "2022-10-06T20:16:46.948Z"
   },
   {
    "duration": 6,
    "start_time": "2022-10-06T20:16:46.955Z"
   },
   {
    "duration": 9,
    "start_time": "2022-10-06T20:16:46.962Z"
   },
   {
    "duration": 4,
    "start_time": "2022-10-06T20:16:46.973Z"
   },
   {
    "duration": 7,
    "start_time": "2022-10-06T20:16:46.979Z"
   },
   {
    "duration": 0,
    "start_time": "2022-10-06T20:16:46.988Z"
   },
   {
    "duration": 0,
    "start_time": "2022-10-06T20:16:46.989Z"
   },
   {
    "duration": 0,
    "start_time": "2022-10-06T20:16:46.990Z"
   },
   {
    "duration": 0,
    "start_time": "2022-10-06T20:16:47.019Z"
   },
   {
    "duration": 0,
    "start_time": "2022-10-06T20:16:47.020Z"
   },
   {
    "duration": 0,
    "start_time": "2022-10-06T20:16:47.021Z"
   },
   {
    "duration": 0,
    "start_time": "2022-10-06T20:16:47.021Z"
   },
   {
    "duration": 0,
    "start_time": "2022-10-06T20:16:47.022Z"
   },
   {
    "duration": 0,
    "start_time": "2022-10-06T20:16:47.022Z"
   },
   {
    "duration": 5,
    "start_time": "2022-10-06T20:23:57.774Z"
   },
   {
    "duration": 1380,
    "start_time": "2022-10-06T20:25:09.706Z"
   },
   {
    "duration": 47,
    "start_time": "2022-10-06T20:25:11.088Z"
   },
   {
    "duration": 11,
    "start_time": "2022-10-06T20:25:11.136Z"
   },
   {
    "duration": 15,
    "start_time": "2022-10-06T20:25:11.149Z"
   },
   {
    "duration": 5,
    "start_time": "2022-10-06T20:25:11.167Z"
   },
   {
    "duration": 10,
    "start_time": "2022-10-06T20:25:11.174Z"
   },
   {
    "duration": 11,
    "start_time": "2022-10-06T20:25:11.186Z"
   },
   {
    "duration": 16,
    "start_time": "2022-10-06T20:25:11.199Z"
   },
   {
    "duration": 14,
    "start_time": "2022-10-06T20:25:11.229Z"
   },
   {
    "duration": 0,
    "start_time": "2022-10-06T20:25:11.245Z"
   },
   {
    "duration": 0,
    "start_time": "2022-10-06T20:25:11.247Z"
   },
   {
    "duration": 0,
    "start_time": "2022-10-06T20:25:11.249Z"
   },
   {
    "duration": 0,
    "start_time": "2022-10-06T20:25:11.250Z"
   },
   {
    "duration": 0,
    "start_time": "2022-10-06T20:25:11.251Z"
   },
   {
    "duration": 0,
    "start_time": "2022-10-06T20:25:11.252Z"
   },
   {
    "duration": 0,
    "start_time": "2022-10-06T20:25:11.254Z"
   },
   {
    "duration": 0,
    "start_time": "2022-10-06T20:25:11.255Z"
   },
   {
    "duration": 0,
    "start_time": "2022-10-06T20:25:11.257Z"
   },
   {
    "duration": 1191,
    "start_time": "2022-10-06T22:19:38.540Z"
   },
   {
    "duration": 123,
    "start_time": "2022-10-06T22:19:39.733Z"
   },
   {
    "duration": 12,
    "start_time": "2022-10-06T22:19:39.858Z"
   },
   {
    "duration": 13,
    "start_time": "2022-10-06T22:19:39.873Z"
   },
   {
    "duration": 119,
    "start_time": "2022-10-06T22:19:39.888Z"
   },
   {
    "duration": 0,
    "start_time": "2022-10-06T22:19:40.010Z"
   },
   {
    "duration": 0,
    "start_time": "2022-10-06T22:19:40.011Z"
   },
   {
    "duration": 0,
    "start_time": "2022-10-06T22:19:40.013Z"
   },
   {
    "duration": 0,
    "start_time": "2022-10-06T22:19:40.014Z"
   },
   {
    "duration": 0,
    "start_time": "2022-10-06T22:19:40.015Z"
   },
   {
    "duration": 0,
    "start_time": "2022-10-06T22:19:40.017Z"
   },
   {
    "duration": 0,
    "start_time": "2022-10-06T22:19:40.018Z"
   },
   {
    "duration": 0,
    "start_time": "2022-10-06T22:19:40.020Z"
   },
   {
    "duration": 0,
    "start_time": "2022-10-06T22:19:40.021Z"
   },
   {
    "duration": 0,
    "start_time": "2022-10-06T22:19:40.022Z"
   },
   {
    "duration": 0,
    "start_time": "2022-10-06T22:19:40.024Z"
   },
   {
    "duration": 1188,
    "start_time": "2022-10-06T22:20:15.612Z"
   },
   {
    "duration": 33,
    "start_time": "2022-10-06T22:20:16.803Z"
   },
   {
    "duration": 10,
    "start_time": "2022-10-06T22:20:16.837Z"
   },
   {
    "duration": 14,
    "start_time": "2022-10-06T22:20:16.849Z"
   },
   {
    "duration": 10,
    "start_time": "2022-10-06T22:20:16.865Z"
   },
   {
    "duration": 4,
    "start_time": "2022-10-06T22:20:16.876Z"
   },
   {
    "duration": 7,
    "start_time": "2022-10-06T22:20:16.881Z"
   },
   {
    "duration": 0,
    "start_time": "2022-10-06T22:20:16.890Z"
   },
   {
    "duration": 0,
    "start_time": "2022-10-06T22:20:16.891Z"
   },
   {
    "duration": 0,
    "start_time": "2022-10-06T22:20:16.892Z"
   },
   {
    "duration": 0,
    "start_time": "2022-10-06T22:20:16.893Z"
   },
   {
    "duration": 0,
    "start_time": "2022-10-06T22:20:16.895Z"
   },
   {
    "duration": 0,
    "start_time": "2022-10-06T22:20:16.896Z"
   },
   {
    "duration": 0,
    "start_time": "2022-10-06T22:20:16.897Z"
   },
   {
    "duration": 0,
    "start_time": "2022-10-06T22:20:16.898Z"
   },
   {
    "duration": 0,
    "start_time": "2022-10-06T22:20:16.900Z"
   },
   {
    "duration": 2275,
    "start_time": "2022-10-06T22:20:37.031Z"
   },
   {
    "duration": 31,
    "start_time": "2022-10-06T22:20:39.308Z"
   },
   {
    "duration": 11,
    "start_time": "2022-10-06T22:20:39.341Z"
   },
   {
    "duration": 21,
    "start_time": "2022-10-06T22:20:39.354Z"
   },
   {
    "duration": 21,
    "start_time": "2022-10-06T22:20:39.377Z"
   },
   {
    "duration": 10,
    "start_time": "2022-10-06T22:20:39.399Z"
   },
   {
    "duration": 22,
    "start_time": "2022-10-06T22:20:39.411Z"
   },
   {
    "duration": 0,
    "start_time": "2022-10-06T22:20:39.436Z"
   },
   {
    "duration": 0,
    "start_time": "2022-10-06T22:20:39.437Z"
   },
   {
    "duration": 0,
    "start_time": "2022-10-06T22:20:39.438Z"
   },
   {
    "duration": 0,
    "start_time": "2022-10-06T22:20:39.439Z"
   },
   {
    "duration": 0,
    "start_time": "2022-10-06T22:20:39.440Z"
   },
   {
    "duration": 0,
    "start_time": "2022-10-06T22:20:39.441Z"
   },
   {
    "duration": 0,
    "start_time": "2022-10-06T22:20:39.442Z"
   },
   {
    "duration": 0,
    "start_time": "2022-10-06T22:20:39.443Z"
   },
   {
    "duration": 0,
    "start_time": "2022-10-06T22:20:39.444Z"
   },
   {
    "duration": 5,
    "start_time": "2022-10-06T22:22:10.205Z"
   },
   {
    "duration": 105,
    "start_time": "2022-10-06T22:22:12.194Z"
   },
   {
    "duration": 80,
    "start_time": "2022-10-06T22:22:48.254Z"
   },
   {
    "duration": 1128,
    "start_time": "2022-10-06T22:27:24.152Z"
   },
   {
    "duration": 33,
    "start_time": "2022-10-06T22:27:25.282Z"
   },
   {
    "duration": 11,
    "start_time": "2022-10-06T22:27:25.316Z"
   },
   {
    "duration": 16,
    "start_time": "2022-10-06T22:27:25.329Z"
   },
   {
    "duration": 9,
    "start_time": "2022-10-06T22:27:25.347Z"
   },
   {
    "duration": 7,
    "start_time": "2022-10-06T22:27:25.357Z"
   },
   {
    "duration": 992,
    "start_time": "2022-10-06T22:27:25.365Z"
   },
   {
    "duration": 12,
    "start_time": "2022-10-06T22:27:26.359Z"
   },
   {
    "duration": 17904,
    "start_time": "2022-10-06T22:27:26.373Z"
   },
   {
    "duration": 15,
    "start_time": "2022-10-06T22:27:44.280Z"
   },
   {
    "duration": 14,
    "start_time": "2022-10-06T22:27:44.296Z"
   },
   {
    "duration": 0,
    "start_time": "2022-10-06T22:27:44.312Z"
   },
   {
    "duration": 0,
    "start_time": "2022-10-06T22:27:44.313Z"
   },
   {
    "duration": 0,
    "start_time": "2022-10-06T22:27:44.314Z"
   },
   {
    "duration": 0,
    "start_time": "2022-10-06T22:27:44.315Z"
   },
   {
    "duration": 0,
    "start_time": "2022-10-06T22:27:44.315Z"
   },
   {
    "duration": 1099,
    "start_time": "2022-10-06T22:27:58.868Z"
   },
   {
    "duration": 32,
    "start_time": "2022-10-06T22:27:59.969Z"
   },
   {
    "duration": 12,
    "start_time": "2022-10-06T22:28:00.002Z"
   },
   {
    "duration": 18,
    "start_time": "2022-10-06T22:28:00.016Z"
   },
   {
    "duration": 17,
    "start_time": "2022-10-06T22:28:00.036Z"
   },
   {
    "duration": 15,
    "start_time": "2022-10-06T22:28:00.055Z"
   },
   {
    "duration": 993,
    "start_time": "2022-10-06T22:28:00.072Z"
   },
   {
    "duration": 13,
    "start_time": "2022-10-06T22:28:01.067Z"
   },
   {
    "duration": 131953,
    "start_time": "2022-10-06T22:28:01.082Z"
   },
   {
    "duration": 13,
    "start_time": "2022-10-06T22:30:13.037Z"
   },
   {
    "duration": 14,
    "start_time": "2022-10-06T22:30:13.052Z"
   },
   {
    "duration": 0,
    "start_time": "2022-10-06T22:30:13.068Z"
   },
   {
    "duration": 0,
    "start_time": "2022-10-06T22:30:13.069Z"
   },
   {
    "duration": 0,
    "start_time": "2022-10-06T22:30:13.070Z"
   },
   {
    "duration": 0,
    "start_time": "2022-10-06T22:30:13.071Z"
   },
   {
    "duration": 0,
    "start_time": "2022-10-06T22:30:13.073Z"
   },
   {
    "duration": 1050,
    "start_time": "2022-10-06T22:30:37.796Z"
   },
   {
    "duration": 31,
    "start_time": "2022-10-06T22:30:38.848Z"
   },
   {
    "duration": 9,
    "start_time": "2022-10-06T22:30:38.881Z"
   },
   {
    "duration": 13,
    "start_time": "2022-10-06T22:30:38.892Z"
   },
   {
    "duration": 8,
    "start_time": "2022-10-06T22:30:38.906Z"
   },
   {
    "duration": 5,
    "start_time": "2022-10-06T22:30:38.916Z"
   },
   {
    "duration": 920,
    "start_time": "2022-10-06T22:30:38.923Z"
   },
   {
    "duration": 19,
    "start_time": "2022-10-06T22:30:39.845Z"
   },
   {
    "duration": 155108,
    "start_time": "2022-10-06T22:30:39.865Z"
   },
   {
    "duration": 14,
    "start_time": "2022-10-06T22:33:14.975Z"
   },
   {
    "duration": 120,
    "start_time": "2022-10-06T22:33:14.991Z"
   },
   {
    "duration": 0,
    "start_time": "2022-10-06T22:33:15.113Z"
   },
   {
    "duration": 0,
    "start_time": "2022-10-06T22:33:15.114Z"
   },
   {
    "duration": 0,
    "start_time": "2022-10-06T22:33:15.115Z"
   },
   {
    "duration": 0,
    "start_time": "2022-10-06T22:33:15.116Z"
   },
   {
    "duration": 0,
    "start_time": "2022-10-06T22:33:15.117Z"
   },
   {
    "duration": 1133,
    "start_time": "2022-10-06T22:39:35.664Z"
   },
   {
    "duration": 32,
    "start_time": "2022-10-06T22:39:36.800Z"
   },
   {
    "duration": 10,
    "start_time": "2022-10-06T22:39:36.834Z"
   },
   {
    "duration": 16,
    "start_time": "2022-10-06T22:39:36.846Z"
   },
   {
    "duration": 9,
    "start_time": "2022-10-06T22:39:36.865Z"
   },
   {
    "duration": 5,
    "start_time": "2022-10-06T22:39:36.875Z"
   },
   {
    "duration": 1010,
    "start_time": "2022-10-06T22:39:36.882Z"
   },
   {
    "duration": 13,
    "start_time": "2022-10-06T22:39:37.894Z"
   },
   {
    "duration": 119721,
    "start_time": "2022-10-06T22:39:37.909Z"
   },
   {
    "duration": 23,
    "start_time": "2022-10-06T22:41:37.632Z"
   },
   {
    "duration": 10,
    "start_time": "2022-10-06T22:41:37.657Z"
   },
   {
    "duration": 10,
    "start_time": "2022-10-06T22:41:37.669Z"
   },
   {
    "duration": 8,
    "start_time": "2022-10-06T22:41:37.681Z"
   },
   {
    "duration": 10,
    "start_time": "2022-10-06T22:41:37.692Z"
   },
   {
    "duration": 11,
    "start_time": "2022-10-06T22:41:37.704Z"
   },
   {
    "duration": 42,
    "start_time": "2022-10-06T22:41:37.716Z"
   },
   {
    "duration": 57,
    "start_time": "2022-10-06T22:42:42.873Z"
   },
   {
    "duration": 1245,
    "start_time": "2022-10-25T21:09:46.348Z"
   },
   {
    "duration": 69,
    "start_time": "2022-10-25T21:09:47.596Z"
   },
   {
    "duration": 11,
    "start_time": "2022-10-25T21:09:47.667Z"
   },
   {
    "duration": 36,
    "start_time": "2022-10-25T21:09:47.680Z"
   },
   {
    "duration": 32,
    "start_time": "2022-10-25T21:09:47.718Z"
   },
   {
    "duration": 28,
    "start_time": "2022-10-25T21:09:47.751Z"
   },
   {
    "duration": 1101,
    "start_time": "2022-10-25T21:09:47.782Z"
   },
   {
    "duration": 14,
    "start_time": "2022-10-25T21:09:48.885Z"
   },
   {
    "duration": 123991,
    "start_time": "2022-10-25T21:09:48.901Z"
   },
   {
    "duration": 12,
    "start_time": "2022-10-25T21:11:52.894Z"
   },
   {
    "duration": 19,
    "start_time": "2022-10-25T21:11:52.907Z"
   },
   {
    "duration": 16,
    "start_time": "2022-10-25T21:11:52.928Z"
   },
   {
    "duration": 11,
    "start_time": "2022-10-25T21:11:52.945Z"
   },
   {
    "duration": 16,
    "start_time": "2022-10-25T21:11:52.959Z"
   },
   {
    "duration": 9,
    "start_time": "2022-10-25T21:11:52.977Z"
   },
   {
    "duration": 7,
    "start_time": "2022-10-25T21:11:52.988Z"
   }
  ],
  "kernelspec": {
   "display_name": "Python 3 (ipykernel)",
   "language": "python",
   "name": "python3"
  },
  "language_info": {
   "codemirror_mode": {
    "name": "ipython",
    "version": 3
   },
   "file_extension": ".py",
   "mimetype": "text/x-python",
   "name": "python",
   "nbconvert_exporter": "python",
   "pygments_lexer": "ipython3",
   "version": "3.9.12"
  },
  "toc": {
   "base_numbering": 1,
   "nav_menu": {},
   "number_sections": true,
   "sideBar": true,
   "skip_h1_title": true,
   "title_cell": "Table of Contents",
   "title_sidebar": "Contents",
   "toc_cell": false,
   "toc_position": {},
   "toc_section_display": true,
   "toc_window_display": false
  }
 },
 "nbformat": 4,
 "nbformat_minor": 2
}
