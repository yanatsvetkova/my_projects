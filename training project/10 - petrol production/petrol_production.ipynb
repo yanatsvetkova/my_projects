{
 "cells": [
  {
   "cell_type": "markdown",
   "metadata": {},
   "source": [
    "# Выбор локации для скважины"
   ]
  },
  {
   "cell_type": "markdown",
   "metadata": {},
   "source": [
    "Перед нами стоит главная цель - определить где бурить новую скважину.\n",
    "\n",
    "Нам предоставлены пробы нефти в трёх регионах: в каждом 10 000 месторождений, где измерили качество нефти и объём её запасов. Для этого мы будем предерживаться следующих ключевых пунктов: \n",
    "\n",
    "- В избранном регионе ведутся поиски месторождения, для каждого из которых определяют значения признаков;\n",
    "- Построим модель и оценим объём запасов;\n",
    "- Выберем месторождения с самым высокими оценками значений. Количество месторождений зависит от бюджета компании и стоимости разработки одной скважины;\n",
    "- Прибыль равна суммарной прибыли отобранных месторождений.\n",
    "\n",
    "Для этого построим  модель машинного обучения, которая поможет определить регион, где добыча принесёт наибольшую прибыль. Проанализируем возможную прибыль и риски техникой *Bootstrap.*"
   ]
  },
  {
   "cell_type": "markdown",
   "metadata": {},
   "source": [
    "## Загрузка и подготовка данных"
   ]
  },
  {
   "cell_type": "code",
   "execution_count": 1,
   "metadata": {},
   "outputs": [],
   "source": [
    "import pandas as pd\n",
    "import numpy as np\n",
    "import time\n",
    "from sklearn.linear_model import LinearRegression\n",
    "from sklearn.model_selection import train_test_split, GridSearchCV\n",
    "from sklearn.utils import shuffle\n",
    "from sklearn.metrics import accuracy_score, f1_score, mean_squared_error\n",
    "from sklearn.preprocessing import StandardScaler, Normalizer\n",
    "import matplotlib.pyplot as plt\n",
    "from numpy.random import RandomState"
   ]
  },
  {
   "cell_type": "code",
   "execution_count": 2,
   "metadata": {},
   "outputs": [],
   "source": [
    "data = pd.read_csv('/datasets/geo_data_0.csv')"
   ]
  },
  {
   "cell_type": "code",
   "execution_count": 3,
   "metadata": {},
   "outputs": [],
   "source": [
    "data_1 = pd.read_csv('/datasets/geo_data_1.csv')"
   ]
  },
  {
   "cell_type": "code",
   "execution_count": 4,
   "metadata": {},
   "outputs": [],
   "source": [
    "data_2 = pd.read_csv('/datasets/geo_data_2.csv')"
   ]
  },
  {
   "cell_type": "code",
   "execution_count": 5,
   "metadata": {},
   "outputs": [],
   "source": [
    "def prepare(df): #фунция предобработки данных\n",
    "    print(df.head())\n",
    "    print(df.info())\n",
    "    print(df.isna().sum())\n",
    "    print(df.duplicated().sum())\n",
    "    df.hist()\n",
    "    print(plt.show)"
   ]
  },
  {
   "cell_type": "code",
   "execution_count": 6,
   "metadata": {},
   "outputs": [
    {
     "name": "stdout",
     "output_type": "stream",
     "text": [
      "      id        f0        f1        f2     product\n",
      "0  txEyH  0.705745 -0.497823  1.221170  105.280062\n",
      "1  2acmU  1.334711 -0.340164  4.365080   73.037750\n",
      "2  409Wp  1.022732  0.151990  1.419926   85.265647\n",
      "3  iJLyR -0.032172  0.139033  2.978566  168.620776\n",
      "4  Xdl7t  1.988431  0.155413  4.751769  154.036647\n",
      "<class 'pandas.core.frame.DataFrame'>\n",
      "RangeIndex: 100000 entries, 0 to 99999\n",
      "Data columns (total 5 columns):\n",
      " #   Column   Non-Null Count   Dtype  \n",
      "---  ------   --------------   -----  \n",
      " 0   id       100000 non-null  object \n",
      " 1   f0       100000 non-null  float64\n",
      " 2   f1       100000 non-null  float64\n",
      " 3   f2       100000 non-null  float64\n",
      " 4   product  100000 non-null  float64\n",
      "dtypes: float64(4), object(1)\n",
      "memory usage: 3.8+ MB\n",
      "None\n",
      "id         0\n",
      "f0         0\n",
      "f1         0\n",
      "f2         0\n",
      "product    0\n",
      "dtype: int64\n",
      "0\n",
      "<function show at 0x7f9e648bce50>\n",
      "      id         f0         f1        f2     product\n",
      "0  kBEdx -15.001348  -8.276000 -0.005876    3.179103\n",
      "1  62mP7  14.272088  -3.475083  0.999183   26.953261\n",
      "2  vyE1P   6.263187  -5.948386  5.001160  134.766305\n",
      "3  KcrkZ -13.081196 -11.506057  4.999415  137.945408\n",
      "4  AHL4O  12.702195  -8.147433  5.004363  134.766305\n",
      "<class 'pandas.core.frame.DataFrame'>\n",
      "RangeIndex: 100000 entries, 0 to 99999\n",
      "Data columns (total 5 columns):\n",
      " #   Column   Non-Null Count   Dtype  \n",
      "---  ------   --------------   -----  \n",
      " 0   id       100000 non-null  object \n",
      " 1   f0       100000 non-null  float64\n",
      " 2   f1       100000 non-null  float64\n",
      " 3   f2       100000 non-null  float64\n",
      " 4   product  100000 non-null  float64\n",
      "dtypes: float64(4), object(1)\n",
      "memory usage: 3.8+ MB\n",
      "None\n",
      "id         0\n",
      "f0         0\n",
      "f1         0\n",
      "f2         0\n",
      "product    0\n",
      "dtype: int64\n",
      "0\n",
      "<function show at 0x7f9e648bce50>\n",
      "      id        f0        f1        f2     product\n",
      "0  fwXo0 -1.146987  0.963328 -0.828965   27.758673\n",
      "1  WJtFt  0.262778  0.269839 -2.530187   56.069697\n",
      "2  ovLUW  0.194587  0.289035 -5.586433   62.871910\n",
      "3  q6cA6  2.236060 -0.553760  0.930038  114.572842\n",
      "4  WPMUX -0.515993  1.716266  5.899011  149.600746\n",
      "<class 'pandas.core.frame.DataFrame'>\n",
      "RangeIndex: 100000 entries, 0 to 99999\n",
      "Data columns (total 5 columns):\n",
      " #   Column   Non-Null Count   Dtype  \n",
      "---  ------   --------------   -----  \n",
      " 0   id       100000 non-null  object \n",
      " 1   f0       100000 non-null  float64\n",
      " 2   f1       100000 non-null  float64\n",
      " 3   f2       100000 non-null  float64\n",
      " 4   product  100000 non-null  float64\n",
      "dtypes: float64(4), object(1)\n",
      "memory usage: 3.8+ MB\n",
      "None\n",
      "id         0\n",
      "f0         0\n",
      "f1         0\n",
      "f2         0\n",
      "product    0\n",
      "dtype: int64\n",
      "0\n",
      "<function show at 0x7f9e648bce50>\n"
     ]
    },
    {
     "data": {
      "image/png": "[encoded data removed]",
      "text/plain": [
       "<Figure size 432x288 with 4 Axes>"
      ]
     },
     "metadata": {
      "needs_background": "light"
     },
     "output_type": "display_data"
    },
    {
     "data": {
      "image/png": "[encoded data removed]",
      "text/plain": [
       "<Figure size 432x288 with 4 Axes>"
      ]
     },
     "metadata": {
      "needs_background": "light"
     },
     "output_type": "display_data"
    },
    {
     "data": {
      "image/png": "[encoded data removed]",
      "text/plain": [
       "<Figure size 432x288 with 4 Axes>"
      ]
     },
     "metadata": {
      "needs_background": "light"
     },
     "output_type": "display_data"
    }
   ],
   "source": [
    "prepare(data)\n",
    "prepare(data_1)\n",
    "prepare(data_2)"
   ]
  },
  {
   "cell_type": "markdown",
   "metadata": {},
   "source": [
    "**Вывод:** данные без пропусков, изучены."
   ]
  },
  {
   "cell_type": "code",
   "execution_count": 7,
   "metadata": {},
   "outputs": [
    {
     "name": "stdout",
     "output_type": "stream",
     "text": [
      "               f0        f1        f2   product\n",
      "f0       1.000000 -0.440723 -0.003153  0.143536\n",
      "f1      -0.440723  1.000000  0.001724 -0.192356\n",
      "f2      -0.003153  0.001724  1.000000  0.483663\n",
      "product  0.143536 -0.192356  0.483663  1.000000\n",
      "               f0        f1        f2   product\n",
      "f0       1.000000  0.182287 -0.001777 -0.030491\n",
      "f1       0.182287  1.000000 -0.002595 -0.010155\n",
      "f2      -0.001777 -0.002595  1.000000  0.999397\n",
      "product -0.030491 -0.010155  0.999397  1.000000\n"
     ]
    },
    {
     "data": {
      "text/html": [
       "<div>\n",
       "<style scoped>\n",
       "    .dataframe tbody tr th:only-of-type {\n",
       "        vertical-align: middle;\n",
       "    }\n",
       "\n",
       "    .dataframe tbody tr th {\n",
       "        vertical-align: top;\n",
       "    }\n",
       "\n",
       "    .dataframe thead th {\n",
       "        text-align: right;\n",
       "    }\n",
       "</style>\n",
       "<table border=\"1\" class=\"dataframe\">\n",
       "  <thead>\n",
       "    <tr style=\"text-align: right;\">\n",
       "      <th></th>\n",
       "      <th>f0</th>\n",
       "      <th>f1</th>\n",
       "      <th>f2</th>\n",
       "      <th>product</th>\n",
       "    </tr>\n",
       "  </thead>\n",
       "  <tbody>\n",
       "    <tr>\n",
       "      <th>f0</th>\n",
       "      <td>1.000000</td>\n",
       "      <td>0.000528</td>\n",
       "      <td>-0.000448</td>\n",
       "      <td>-0.001987</td>\n",
       "    </tr>\n",
       "    <tr>\n",
       "      <th>f1</th>\n",
       "      <td>0.000528</td>\n",
       "      <td>1.000000</td>\n",
       "      <td>0.000779</td>\n",
       "      <td>-0.001012</td>\n",
       "    </tr>\n",
       "    <tr>\n",
       "      <th>f2</th>\n",
       "      <td>-0.000448</td>\n",
       "      <td>0.000779</td>\n",
       "      <td>1.000000</td>\n",
       "      <td>0.445871</td>\n",
       "    </tr>\n",
       "    <tr>\n",
       "      <th>product</th>\n",
       "      <td>-0.001987</td>\n",
       "      <td>-0.001012</td>\n",
       "      <td>0.445871</td>\n",
       "      <td>1.000000</td>\n",
       "    </tr>\n",
       "  </tbody>\n",
       "</table>\n",
       "</div>"
      ],
      "text/plain": [
       "               f0        f1        f2   product\n",
       "f0       1.000000  0.000528 -0.000448 -0.001987\n",
       "f1       0.000528  1.000000  0.000779 -0.001012\n",
       "f2      -0.000448  0.000779  1.000000  0.445871\n",
       "product -0.001987 -0.001012  0.445871  1.000000"
      ]
     },
     "execution_count": 7,
     "metadata": {},
     "output_type": "execute_result"
    }
   ],
   "source": [
    "print(data.corr())\n",
    "print(data_1.corr())\n",
    "data_2.corr()"
   ]
  },
  {
   "cell_type": "markdown",
   "metadata": {},
   "source": [
    "Проверили данные на **корреляцию** и признак f2 коррелирует с ключевые признаком более чем 0.5 в первом регионе."
   ]
  },
  {
   "cell_type": "markdown",
   "metadata": {},
   "source": [
    "## Обучение и проверка модели"
   ]
  },
  {
   "cell_type": "code",
   "execution_count": 8,
   "metadata": {},
   "outputs": [],
   "source": [
    "def modeling(df): #функция по обучению модели и расчета ее оценочных параметров \n",
    "    x = df.drop(['product', 'id'], axis=1)\n",
    "    y = df['product']\n",
    "    x_train, x_valid, y_train, y_valid = train_test_split(x, y, test_size=0.25, random_state=12345)\n",
    "    model = LinearRegression()\n",
    "    model.fit(x_train, y_train)\n",
    "    pred_val = model.predict(x_valid)\n",
    "    mse = mean_squared_error(y_valid, pred_val)\n",
    "    print('средний запас предсказанного сырья:', pred_val.mean())\n",
    "    print('RMSE:', mse ** 0.5)\n",
    "    return y, pred_val, y_valid"
   ]
  },
  {
   "cell_type": "code",
   "execution_count": 9,
   "metadata": {},
   "outputs": [
    {
     "name": "stdout",
     "output_type": "stream",
     "text": [
      "средний запас предсказанного сырья: 92.59256778438035\n",
      "RMSE: 37.5794217150813\n",
      "средний запас предсказанного сырья: 68.728546895446\n",
      "RMSE: 0.893099286775617\n",
      "средний запас предсказанного сырья: 94.96504596800489\n",
      "RMSE: 40.02970873393434\n"
     ]
    }
   ],
   "source": [
    "target, probabilities, target_valid = modeling(data)\n",
    "target_1, probabilities_1, target_valid_1 = modeling(data_1)\n",
    "target_2, probabilities_2, target_valid_2 = modeling(data_2)"
   ]
  },
  {
   "cell_type": "markdown",
   "metadata": {},
   "source": [
    "**Вывод:** средний запас топлива в нулевом и втором регионе велик, во первом - достаточно ниже. Ошибка наименьшая в первом регионе."
   ]
  },
  {
   "cell_type": "markdown",
   "metadata": {},
   "source": [
    "## Подготовка к расчёту прибыли"
   ]
  },
  {
   "cell_type": "code",
   "execution_count": 10,
   "metadata": {},
   "outputs": [],
   "source": [
    "PRICE_PER_BARREL = 450e3"
   ]
  },
  {
   "cell_type": "code",
   "execution_count": 11,
   "metadata": {},
   "outputs": [],
   "source": [
    "BUDGET = 10**10"
   ]
  },
  {
   "cell_type": "code",
   "execution_count": 12,
   "metadata": {},
   "outputs": [
    {
     "name": "stdout",
     "output_type": "stream",
     "text": [
      "Точка безубыточности: 111.11\n"
     ]
    }
   ],
   "source": [
    "min_resurse_oil = BUDGET / PRICE_PER_BARREL / 200 #минимальный объем нефти в разрабатываемых нами 200 скважинах\n",
    "print('Точка безубыточности:', round(min_resurse_oil, 2))"
   ]
  },
  {
   "cell_type": "code",
   "execution_count": 13,
   "metadata": {},
   "outputs": [],
   "source": [
    "def compare_oil_200(probabilities): #функция сравнения запасов сырья в 200 наилучших\n",
    "    m = (pd.Series(probabilities).sort_values(ascending=False)[:200].mean() / min_resurse_oil)\n",
    "    return m"
   ]
  },
  {
   "cell_type": "code",
   "execution_count": 14,
   "metadata": {},
   "outputs": [],
   "source": [
    "oil_200 = compare_oil_200(probabilities)\n",
    "oil_1_200 = compare_oil_200(probabilities_1)\n",
    "oil_2_200 = compare_oil_200(probabilities_2)"
   ]
  },
  {
   "cell_type": "code",
   "execution_count": 15,
   "metadata": {},
   "outputs": [],
   "source": [
    "def compare_oil(probabilities): #функция сравнения запасов сырья в 200 наилучших\n",
    "    m = (probabilities.mean()/ min_resurse_oil) *100\n",
    "    return m"
   ]
  },
  {
   "cell_type": "code",
   "execution_count": 16,
   "metadata": {},
   "outputs": [],
   "source": [
    "oil = compare_oil(probabilities)\n",
    "oil_1 = compare_oil(probabilities_1)\n",
    "oil_2 = compare_oil(probabilities_2)"
   ]
  },
  {
   "cell_type": "markdown",
   "metadata": {},
   "source": [
    "**Вывод:** если сравнивать точку безубыточности с запасом топлива в 200 наиболее богатых по запасам скважинах, то в нулевом регионе запас больше на 40%, в первом на 25 и во втором на 33, соответственно. Если же сравнивать со средним показателем запасов по региону и точкой безубыточности, то окажется, что в каждом регионе среднее количество запасов нефти, ниже точки безубыточности, все средние запасы ниже 100 тыс баррелей, а точка безубыточности - 111,(1) тыс баррелей."
   ]
  },
  {
   "cell_type": "markdown",
   "metadata": {},
   "source": [
    "## Расчёт прибыли и рисков "
   ]
  },
  {
   "cell_type": "code",
   "execution_count": 17,
   "metadata": {},
   "outputs": [],
   "source": [
    "#функция расчета прибыли\n",
    "\n",
    "def profit(target_r, probabilities, count = 200):\n",
    "    probs_sorted = pd.Series(probabilities).sort_values(ascending=False)[:count]\n",
    "    target_sort = (target_r.reset_index(drop = True)[probs_sorted.index])\n",
    "    sum_tar = target_sort.sum() \n",
    "    return round((sum_tar * PRICE_PER_BARREL) - BUDGET,2) "
   ]
  },
  {
   "cell_type": "code",
   "execution_count": 18,
   "metadata": {},
   "outputs": [],
   "source": [
    "prof = profit(target_valid,  probabilities)\n",
    "prof_1 = profit(target_valid_1,  probabilities_1)\n",
    "prof_2 = profit(target_valid_2,  probabilities_2)"
   ]
  },
  {
   "cell_type": "code",
   "execution_count": 19,
   "metadata": {},
   "outputs": [
    {
     "data": {
      "text/plain": [
       "3320826043.14"
      ]
     },
     "metadata": {},
     "output_type": "display_data"
    },
    {
     "data": {
      "text/plain": [
       "2415086696.68"
      ]
     },
     "metadata": {},
     "output_type": "display_data"
    },
    {
     "data": {
      "text/plain": [
       "2710349963.6"
      ]
     },
     "execution_count": 19,
     "metadata": {},
     "output_type": "execute_result"
    }
   ],
   "source": [
    "display(prof)\n",
    "display(prof_1)\n",
    "prof_2"
   ]
  },
  {
   "cell_type": "code",
   "execution_count": 20,
   "metadata": {},
   "outputs": [],
   "source": [
    "#процедура Bootsstrep\n",
    "def bootsy(target_b, probabilities, n=500):\n",
    "    state = np.random.RandomState(12345)  \n",
    "    values = []\n",
    "    for i in range(1000):\n",
    "        sample = pd.Series(probabilities).sample(n, replace=True, random_state=state)# < напишите код здесь>\n",
    "        values.append(profit(target_b, sample))\n",
    "    values = pd.Series(values)\n",
    "    print('Средняя прибыль:', values.mean())\n",
    "    print('Риск убытков:', values.apply(lambda x: x < 0).sum()/len(values)*100,\"%\")\n",
    "    print('2.5%-квантиль:', (int(np.percentile(values, 2.5))))\n",
    "    print('97.5%-квантиль:', (int(np.percentile(values, 97.5))))"
   ]
  },
  {
   "cell_type": "code",
   "execution_count": 21,
   "metadata": {
    "scrolled": false
   },
   "outputs": [
    {
     "name": "stdout",
     "output_type": "stream",
     "text": [
      "Средняя прибыль: 396164984.80228\n",
      "Риск убытков: 6.9 %\n",
      "2.5%-квантиль: -111215545\n",
      "97.5%-квантиль: 909766941\n",
      "Средняя прибыль: 456045105.78665996\n",
      "Риск убытков: 1.5 %\n",
      "2.5%-квантиль: 33820509\n",
      "97.5%-квантиль: 852289453\n",
      "Средняя прибыль: 404403866.56838\n",
      "Риск убытков: 7.6 %\n",
      "2.5%-квантиль: -163350413\n",
      "97.5%-квантиль: 950359574\n"
     ]
    }
   ],
   "source": [
    "total = bootsy(target_valid, probabilities)\n",
    "total_1 = bootsy(target_valid_1, probabilities_1)\n",
    "total_2 = bootsy(target_valid_2, probabilities_2)"
   ]
  },
  {
   "cell_type": "markdown",
   "metadata": {},
   "source": [
    "**Вывод:** наибольшая средняя прибыль наблюдается в первом регионе, также там наименьший процент риска убытков, т.е. этот регион наиболее благоприятный для разработок."
   ]
  }
 ],
 "metadata": {
  "ExecuteTimeLog": [
   {
    "duration": 1701,
    "start_time": "2022-11-09T12:45:17.908Z"
   },
   {
    "duration": 450,
    "start_time": "2022-11-09T12:45:19.611Z"
   },
   {
    "duration": 179,
    "start_time": "2022-11-09T12:45:20.063Z"
   },
   {
    "duration": 182,
    "start_time": "2022-11-09T12:45:20.243Z"
   },
   {
    "duration": 18,
    "start_time": "2022-11-09T12:47:46.956Z"
   },
   {
    "duration": 13,
    "start_time": "2022-11-09T12:47:49.465Z"
   },
   {
    "duration": 15,
    "start_time": "2022-11-09T12:47:56.063Z"
   },
   {
    "duration": 12,
    "start_time": "2022-11-09T12:49:16.151Z"
   },
   {
    "duration": 9,
    "start_time": "2022-11-09T12:49:39.930Z"
   },
   {
    "duration": 8,
    "start_time": "2022-11-09T12:49:42.816Z"
   },
   {
    "duration": 50,
    "start_time": "2022-11-13T21:58:49.085Z"
   },
   {
    "duration": 8,
    "start_time": "2022-11-13T21:58:55.861Z"
   },
   {
    "duration": 1479,
    "start_time": "2022-11-13T21:59:00.332Z"
   },
   {
    "duration": 408,
    "start_time": "2022-11-13T21:59:01.814Z"
   },
   {
    "duration": 662,
    "start_time": "2022-11-13T21:59:02.223Z"
   },
   {
    "duration": 561,
    "start_time": "2022-11-13T21:59:02.887Z"
   },
   {
    "duration": 17,
    "start_time": "2022-11-13T21:59:03.451Z"
   },
   {
    "duration": 27,
    "start_time": "2022-11-13T21:59:03.469Z"
   },
   {
    "duration": 22,
    "start_time": "2022-11-13T21:59:03.498Z"
   },
   {
    "duration": 26,
    "start_time": "2022-11-13T21:59:03.523Z"
   },
   {
    "duration": 15,
    "start_time": "2022-11-13T21:59:03.551Z"
   },
   {
    "duration": 44,
    "start_time": "2022-11-13T21:59:03.568Z"
   },
   {
    "duration": 325,
    "start_time": "2022-11-13T21:59:03.614Z"
   },
   {
    "duration": 0,
    "start_time": "2022-11-13T21:59:03.942Z"
   },
   {
    "duration": 0,
    "start_time": "2022-11-13T21:59:03.943Z"
   },
   {
    "duration": 0,
    "start_time": "2022-11-13T21:59:03.944Z"
   },
   {
    "duration": 203,
    "start_time": "2022-11-13T21:59:15.847Z"
   },
   {
    "duration": 43,
    "start_time": "2022-11-13T22:00:09.429Z"
   },
   {
    "duration": 26,
    "start_time": "2022-11-13T22:00:22.953Z"
   },
   {
    "duration": 1721,
    "start_time": "2022-11-14T14:44:55.675Z"
   },
   {
    "duration": 539,
    "start_time": "2022-11-14T14:44:57.399Z"
   },
   {
    "duration": 227,
    "start_time": "2022-11-14T14:44:58.306Z"
   },
   {
    "duration": 293,
    "start_time": "2022-11-14T14:44:59.536Z"
   },
   {
    "duration": 3,
    "start_time": "2022-11-14T14:45:01.314Z"
   },
   {
    "duration": 198,
    "start_time": "2022-11-14T14:45:02.738Z"
   },
   {
    "duration": 117,
    "start_time": "2022-11-14T14:45:33.461Z"
   },
   {
    "duration": 12,
    "start_time": "2022-11-14T14:45:40.249Z"
   },
   {
    "duration": 447,
    "start_time": "2022-11-14T14:45:53.614Z"
   },
   {
    "duration": 4,
    "start_time": "2022-11-14T14:49:53.952Z"
   },
   {
    "duration": 11,
    "start_time": "2022-11-14T14:49:55.621Z"
   },
   {
    "duration": 24,
    "start_time": "2022-11-14T14:50:12.727Z"
   },
   {
    "duration": 1569,
    "start_time": "2022-11-14T14:50:40.782Z"
   },
   {
    "duration": 155,
    "start_time": "2022-11-14T14:50:42.353Z"
   },
   {
    "duration": 136,
    "start_time": "2022-11-14T14:50:42.510Z"
   },
   {
    "duration": 134,
    "start_time": "2022-11-14T14:50:42.648Z"
   },
   {
    "duration": 4,
    "start_time": "2022-11-14T14:50:42.784Z"
   },
   {
    "duration": 140,
    "start_time": "2022-11-14T14:50:42.790Z"
   },
   {
    "duration": 0,
    "start_time": "2022-11-14T14:50:42.932Z"
   },
   {
    "duration": 0,
    "start_time": "2022-11-14T14:50:42.933Z"
   },
   {
    "duration": 13,
    "start_time": "2022-11-14T14:50:59.395Z"
   },
   {
    "duration": 81,
    "start_time": "2022-11-14T14:51:18.421Z"
   },
   {
    "duration": 249,
    "start_time": "2022-11-14T14:51:58.013Z"
   },
   {
    "duration": 1568,
    "start_time": "2022-11-14T14:52:19.086Z"
   },
   {
    "duration": 158,
    "start_time": "2022-11-14T14:52:20.657Z"
   },
   {
    "duration": 132,
    "start_time": "2022-11-14T14:52:20.817Z"
   },
   {
    "duration": 134,
    "start_time": "2022-11-14T14:52:20.952Z"
   },
   {
    "duration": 3,
    "start_time": "2022-11-14T14:52:21.088Z"
   },
   {
    "duration": 238,
    "start_time": "2022-11-14T14:52:21.093Z"
   },
   {
    "duration": 68,
    "start_time": "2022-11-14T14:52:21.332Z"
   },
   {
    "duration": 0,
    "start_time": "2022-11-14T14:52:21.402Z"
   },
   {
    "duration": 4,
    "start_time": "2022-11-14T15:18:58.110Z"
   },
   {
    "duration": 5,
    "start_time": "2022-11-14T15:19:05.666Z"
   },
   {
    "duration": 1421,
    "start_time": "2022-11-14T15:19:06.690Z"
   },
   {
    "duration": 6,
    "start_time": "2022-11-14T15:37:46.990Z"
   },
   {
    "duration": 196,
    "start_time": "2022-11-14T15:37:48.517Z"
   },
   {
    "duration": 6,
    "start_time": "2022-11-14T15:38:09.944Z"
   },
   {
    "duration": 19,
    "start_time": "2022-11-14T15:38:11.353Z"
   },
   {
    "duration": 1691,
    "start_time": "2022-11-14T15:38:18.360Z"
   },
   {
    "duration": 154,
    "start_time": "2022-11-14T15:38:20.054Z"
   },
   {
    "duration": 135,
    "start_time": "2022-11-14T15:38:20.210Z"
   },
   {
    "duration": 165,
    "start_time": "2022-11-14T15:38:20.347Z"
   },
   {
    "duration": 4,
    "start_time": "2022-11-14T15:38:20.514Z"
   },
   {
    "duration": 1560,
    "start_time": "2022-11-14T15:38:20.521Z"
   },
   {
    "duration": 5,
    "start_time": "2022-11-14T15:38:22.083Z"
   },
   {
    "duration": 168,
    "start_time": "2022-11-14T15:38:22.090Z"
   },
   {
    "duration": 0,
    "start_time": "2022-11-14T15:38:22.260Z"
   },
   {
    "duration": 0,
    "start_time": "2022-11-14T15:38:22.262Z"
   },
   {
    "duration": 6,
    "start_time": "2022-11-14T15:38:37.728Z"
   },
   {
    "duration": 42,
    "start_time": "2022-11-14T15:38:38.800Z"
   },
   {
    "duration": 53,
    "start_time": "2022-11-14T17:29:36.830Z"
   },
   {
    "duration": 1582,
    "start_time": "2022-11-14T17:29:45.391Z"
   },
   {
    "duration": 519,
    "start_time": "2022-11-14T17:29:46.976Z"
   },
   {
    "duration": 193,
    "start_time": "2022-11-14T17:29:47.497Z"
   },
   {
    "duration": 204,
    "start_time": "2022-11-14T17:29:47.692Z"
   },
   {
    "duration": 4,
    "start_time": "2022-11-14T17:29:47.898Z"
   },
   {
    "duration": 1406,
    "start_time": "2022-11-14T17:29:47.904Z"
   },
   {
    "duration": 6,
    "start_time": "2022-11-14T17:29:49.312Z"
   },
   {
    "duration": 166,
    "start_time": "2022-11-14T17:29:49.320Z"
   },
   {
    "duration": 0,
    "start_time": "2022-11-14T17:29:49.488Z"
   },
   {
    "duration": 0,
    "start_time": "2022-11-14T17:29:49.489Z"
   },
   {
    "duration": 34,
    "start_time": "2022-11-14T17:30:24.774Z"
   },
   {
    "duration": 34,
    "start_time": "2022-11-14T17:30:36.250Z"
   },
   {
    "duration": 4,
    "start_time": "2022-11-14T17:30:42.640Z"
   },
   {
    "duration": 55,
    "start_time": "2022-11-14T17:30:46.081Z"
   },
   {
    "duration": 3,
    "start_time": "2022-11-14T17:31:56.633Z"
   },
   {
    "duration": 1350,
    "start_time": "2022-11-14T17:31:57.402Z"
   },
   {
    "duration": 452,
    "start_time": "2022-11-14T17:38:38.746Z"
   },
   {
    "duration": 1388,
    "start_time": "2022-11-14T17:38:50.618Z"
   },
   {
    "duration": 135,
    "start_time": "2022-11-14T17:38:52.008Z"
   },
   {
    "duration": 120,
    "start_time": "2022-11-14T17:38:52.145Z"
   },
   {
    "duration": 132,
    "start_time": "2022-11-14T17:38:52.268Z"
   },
   {
    "duration": 3,
    "start_time": "2022-11-14T17:38:52.402Z"
   },
   {
    "duration": 446,
    "start_time": "2022-11-14T17:38:52.406Z"
   },
   {
    "duration": 5,
    "start_time": "2022-11-14T17:38:52.854Z"
   },
   {
    "duration": 171,
    "start_time": "2022-11-14T17:38:52.861Z"
   },
   {
    "duration": 0,
    "start_time": "2022-11-14T17:38:53.034Z"
   },
   {
    "duration": 0,
    "start_time": "2022-11-14T17:38:53.037Z"
   },
   {
    "duration": 438,
    "start_time": "2022-11-14T17:39:06.042Z"
   },
   {
    "duration": 500,
    "start_time": "2022-11-14T17:39:56.824Z"
   },
   {
    "duration": 443,
    "start_time": "2022-11-14T17:41:36.522Z"
   },
   {
    "duration": 3,
    "start_time": "2022-11-14T17:41:42.557Z"
   },
   {
    "duration": 440,
    "start_time": "2022-11-14T17:41:43.676Z"
   },
   {
    "duration": 1433,
    "start_time": "2022-11-14T17:42:23.504Z"
   },
   {
    "duration": 138,
    "start_time": "2022-11-14T17:42:24.939Z"
   },
   {
    "duration": 123,
    "start_time": "2022-11-14T17:42:25.079Z"
   },
   {
    "duration": 133,
    "start_time": "2022-11-14T17:42:25.205Z"
   },
   {
    "duration": 3,
    "start_time": "2022-11-14T17:42:25.340Z"
   },
   {
    "duration": 1327,
    "start_time": "2022-11-14T17:42:25.345Z"
   },
   {
    "duration": 4,
    "start_time": "2022-11-14T17:42:26.674Z"
   },
   {
    "duration": 167,
    "start_time": "2022-11-14T17:42:26.680Z"
   },
   {
    "duration": 0,
    "start_time": "2022-11-14T17:42:26.849Z"
   },
   {
    "duration": 0,
    "start_time": "2022-11-14T17:42:26.850Z"
   },
   {
    "duration": 3,
    "start_time": "2022-11-14T17:43:45.681Z"
   },
   {
    "duration": 178,
    "start_time": "2022-11-14T17:43:46.765Z"
   },
   {
    "duration": 6,
    "start_time": "2022-11-14T17:44:58.950Z"
   },
   {
    "duration": 103,
    "start_time": "2022-11-14T17:44:59.737Z"
   },
   {
    "duration": 1541,
    "start_time": "2022-11-14T17:45:17.710Z"
   },
   {
    "duration": 143,
    "start_time": "2022-11-14T17:45:19.253Z"
   },
   {
    "duration": 125,
    "start_time": "2022-11-14T17:45:19.398Z"
   },
   {
    "duration": 129,
    "start_time": "2022-11-14T17:45:19.525Z"
   },
   {
    "duration": 4,
    "start_time": "2022-11-14T17:45:19.655Z"
   },
   {
    "duration": 1306,
    "start_time": "2022-11-14T17:45:19.660Z"
   },
   {
    "duration": 4,
    "start_time": "2022-11-14T17:45:20.968Z"
   },
   {
    "duration": 393,
    "start_time": "2022-11-14T17:45:20.974Z"
   },
   {
    "duration": 169,
    "start_time": "2022-11-14T17:45:21.370Z"
   },
   {
    "duration": 0,
    "start_time": "2022-11-14T17:45:21.541Z"
   },
   {
    "duration": 4,
    "start_time": "2022-11-14T17:46:36.904Z"
   },
   {
    "duration": 402,
    "start_time": "2022-11-14T17:46:37.650Z"
   },
   {
    "duration": 5,
    "start_time": "2022-11-14T18:25:13.736Z"
   },
   {
    "duration": 457,
    "start_time": "2022-11-14T18:25:14.782Z"
   },
   {
    "duration": 4,
    "start_time": "2022-11-14T18:26:05.163Z"
   },
   {
    "duration": 420,
    "start_time": "2022-11-14T18:26:05.934Z"
   },
   {
    "duration": 60,
    "start_time": "2022-11-14T18:37:15.181Z"
   },
   {
    "duration": 4,
    "start_time": "2022-11-14T18:37:41.942Z"
   },
   {
    "duration": 77,
    "start_time": "2022-11-14T18:37:42.662Z"
   },
   {
    "duration": 4,
    "start_time": "2022-11-14T18:43:39.760Z"
   },
   {
    "duration": 62,
    "start_time": "2022-11-14T18:43:40.777Z"
   },
   {
    "duration": 35,
    "start_time": "2022-11-14T18:44:08.641Z"
   },
   {
    "duration": 364,
    "start_time": "2022-11-14T18:46:04.378Z"
   },
   {
    "duration": 1524,
    "start_time": "2022-11-14T18:46:27.698Z"
   },
   {
    "duration": 144,
    "start_time": "2022-11-14T18:46:29.225Z"
   },
   {
    "duration": 125,
    "start_time": "2022-11-14T18:46:29.371Z"
   },
   {
    "duration": 127,
    "start_time": "2022-11-14T18:46:29.499Z"
   },
   {
    "duration": 9,
    "start_time": "2022-11-14T18:46:29.628Z"
   },
   {
    "duration": 1423,
    "start_time": "2022-11-14T18:46:29.639Z"
   },
   {
    "duration": 5,
    "start_time": "2022-11-14T18:46:31.064Z"
   },
   {
    "duration": 389,
    "start_time": "2022-11-14T18:46:31.070Z"
   },
   {
    "duration": 588,
    "start_time": "2022-11-14T18:46:31.461Z"
   },
   {
    "duration": 94,
    "start_time": "2022-11-14T18:46:32.053Z"
   },
   {
    "duration": 0,
    "start_time": "2022-11-14T18:46:32.238Z"
   },
   {
    "duration": 4,
    "start_time": "2022-11-14T18:47:50.114Z"
   },
   {
    "duration": 4,
    "start_time": "2022-11-14T18:48:01.401Z"
   },
   {
    "duration": 6,
    "start_time": "2022-11-14T18:48:08.333Z"
   },
   {
    "duration": 1370,
    "start_time": "2022-11-14T18:49:24.751Z"
   },
   {
    "duration": 135,
    "start_time": "2022-11-14T18:49:26.123Z"
   },
   {
    "duration": 121,
    "start_time": "2022-11-14T18:49:26.260Z"
   },
   {
    "duration": 123,
    "start_time": "2022-11-14T18:49:26.383Z"
   },
   {
    "duration": 4,
    "start_time": "2022-11-14T18:49:26.508Z"
   },
   {
    "duration": 1247,
    "start_time": "2022-11-14T18:49:26.514Z"
   },
   {
    "duration": 5,
    "start_time": "2022-11-14T18:49:27.763Z"
   },
   {
    "duration": 379,
    "start_time": "2022-11-14T18:49:27.770Z"
   },
   {
    "duration": 188,
    "start_time": "2022-11-14T18:49:28.151Z"
   },
   {
    "duration": 0,
    "start_time": "2022-11-14T18:49:28.341Z"
   },
   {
    "duration": 6,
    "start_time": "2022-11-14T18:49:45.635Z"
   },
   {
    "duration": 5,
    "start_time": "2022-11-14T18:49:54.770Z"
   },
   {
    "duration": 7,
    "start_time": "2022-11-14T18:50:02.965Z"
   },
   {
    "duration": 4,
    "start_time": "2022-11-14T19:27:15.544Z"
   },
   {
    "duration": 4,
    "start_time": "2022-11-14T19:27:29.787Z"
   },
   {
    "duration": 4,
    "start_time": "2022-11-14T19:29:24.196Z"
   },
   {
    "duration": 2,
    "start_time": "2022-11-14T19:38:04.073Z"
   },
   {
    "duration": 2567,
    "start_time": "2022-11-14T19:38:06.876Z"
   },
   {
    "duration": 6,
    "start_time": "2022-11-14T19:38:21.358Z"
   },
   {
    "duration": 5,
    "start_time": "2022-11-14T19:38:55.911Z"
   },
   {
    "duration": 4,
    "start_time": "2022-11-14T19:38:56.770Z"
   },
   {
    "duration": 4,
    "start_time": "2022-11-14T19:39:05.729Z"
   },
   {
    "duration": 5,
    "start_time": "2022-11-14T19:39:11.822Z"
   },
   {
    "duration": 3,
    "start_time": "2022-11-14T20:02:34.957Z"
   },
   {
    "duration": 3,
    "start_time": "2022-11-14T20:21:26.201Z"
   },
   {
    "duration": 3,
    "start_time": "2022-11-14T20:21:26.809Z"
   },
   {
    "duration": 3,
    "start_time": "2022-11-14T20:21:27.625Z"
   },
   {
    "duration": 3,
    "start_time": "2022-11-14T20:21:28.603Z"
   },
   {
    "duration": 4,
    "start_time": "2022-11-14T20:21:31.499Z"
   },
   {
    "duration": 5,
    "start_time": "2022-11-14T20:21:38.472Z"
   },
   {
    "duration": 3,
    "start_time": "2022-11-14T20:22:07.300Z"
   },
   {
    "duration": 2,
    "start_time": "2022-11-14T20:23:08.706Z"
   },
   {
    "duration": 3,
    "start_time": "2022-11-14T20:23:09.106Z"
   },
   {
    "duration": 3,
    "start_time": "2022-11-14T20:23:09.710Z"
   },
   {
    "duration": 4,
    "start_time": "2022-11-14T20:23:29.988Z"
   },
   {
    "duration": 3,
    "start_time": "2022-11-14T20:23:36.765Z"
   },
   {
    "duration": 6,
    "start_time": "2022-11-14T20:23:37.437Z"
   },
   {
    "duration": 1402,
    "start_time": "2022-11-14T20:24:42.859Z"
   },
   {
    "duration": 144,
    "start_time": "2022-11-14T20:24:44.264Z"
   },
   {
    "duration": 120,
    "start_time": "2022-11-14T20:24:44.409Z"
   },
   {
    "duration": 128,
    "start_time": "2022-11-14T20:24:44.531Z"
   },
   {
    "duration": 3,
    "start_time": "2022-11-14T20:24:44.661Z"
   },
   {
    "duration": 1366,
    "start_time": "2022-11-14T20:24:44.666Z"
   },
   {
    "duration": 5,
    "start_time": "2022-11-14T20:24:46.036Z"
   },
   {
    "duration": 412,
    "start_time": "2022-11-14T20:24:46.043Z"
   },
   {
    "duration": 85,
    "start_time": "2022-11-14T20:24:46.458Z"
   },
   {
    "duration": 92,
    "start_time": "2022-11-14T20:24:46.546Z"
   },
   {
    "duration": 4,
    "start_time": "2022-11-14T20:24:46.640Z"
   },
   {
    "duration": 6,
    "start_time": "2022-11-14T20:24:46.646Z"
   },
   {
    "duration": 7,
    "start_time": "2022-11-14T20:24:46.654Z"
   },
   {
    "duration": 5,
    "start_time": "2022-11-14T20:24:46.663Z"
   },
   {
    "duration": 4,
    "start_time": "2022-11-14T20:24:46.670Z"
   },
   {
    "duration": 185,
    "start_time": "2022-11-14T20:24:46.676Z"
   },
   {
    "duration": 3,
    "start_time": "2022-11-14T20:24:56.615Z"
   },
   {
    "duration": 5,
    "start_time": "2022-11-14T20:24:57.382Z"
   },
   {
    "duration": 4,
    "start_time": "2022-11-14T20:27:50.973Z"
   },
   {
    "duration": 4,
    "start_time": "2022-11-14T20:27:56.104Z"
   },
   {
    "duration": 5,
    "start_time": "2022-11-14T20:28:02.895Z"
   },
   {
    "duration": 3,
    "start_time": "2022-11-14T20:31:56.445Z"
   },
   {
    "duration": 5,
    "start_time": "2022-11-14T20:31:57.005Z"
   },
   {
    "duration": 4,
    "start_time": "2022-11-14T20:31:57.422Z"
   },
   {
    "duration": 1376,
    "start_time": "2022-11-14T20:34:35.655Z"
   },
   {
    "duration": 145,
    "start_time": "2022-11-14T20:34:37.033Z"
   },
   {
    "duration": 130,
    "start_time": "2022-11-14T20:34:37.180Z"
   },
   {
    "duration": 130,
    "start_time": "2022-11-14T20:34:37.313Z"
   },
   {
    "duration": 4,
    "start_time": "2022-11-14T20:34:37.445Z"
   },
   {
    "duration": 1297,
    "start_time": "2022-11-14T20:34:37.451Z"
   },
   {
    "duration": 4,
    "start_time": "2022-11-14T20:34:38.750Z"
   },
   {
    "duration": 400,
    "start_time": "2022-11-14T20:34:38.756Z"
   },
   {
    "duration": 79,
    "start_time": "2022-11-14T20:34:39.158Z"
   },
   {
    "duration": 99,
    "start_time": "2022-11-14T20:34:39.240Z"
   },
   {
    "duration": 7,
    "start_time": "2022-11-14T20:34:39.340Z"
   },
   {
    "duration": 8,
    "start_time": "2022-11-14T20:34:39.348Z"
   },
   {
    "duration": 10,
    "start_time": "2022-11-14T20:34:39.359Z"
   },
   {
    "duration": 5,
    "start_time": "2022-11-14T20:34:39.371Z"
   },
   {
    "duration": 5,
    "start_time": "2022-11-14T20:34:39.378Z"
   },
   {
    "duration": 183,
    "start_time": "2022-11-14T20:34:39.385Z"
   },
   {
    "duration": 3,
    "start_time": "2022-11-14T20:34:48.432Z"
   },
   {
    "duration": 4,
    "start_time": "2022-11-14T20:40:32.207Z"
   },
   {
    "duration": 2,
    "start_time": "2022-11-14T20:42:35.867Z"
   },
   {
    "duration": 4,
    "start_time": "2022-11-14T20:42:36.505Z"
   },
   {
    "duration": 3,
    "start_time": "2022-11-14T20:42:38.136Z"
   },
   {
    "duration": 5,
    "start_time": "2022-11-14T20:42:38.919Z"
   },
   {
    "duration": 4,
    "start_time": "2022-11-14T20:42:39.666Z"
   },
   {
    "duration": 3,
    "start_time": "2022-11-14T20:45:04.833Z"
   },
   {
    "duration": 3,
    "start_time": "2022-11-14T20:45:05.265Z"
   },
   {
    "duration": 4,
    "start_time": "2022-11-14T20:45:05.551Z"
   },
   {
    "duration": 2,
    "start_time": "2022-11-14T20:45:25.367Z"
   },
   {
    "duration": 2,
    "start_time": "2022-11-14T20:45:25.538Z"
   },
   {
    "duration": 3,
    "start_time": "2022-11-14T20:45:25.755Z"
   },
   {
    "duration": 3,
    "start_time": "2022-11-14T20:53:41.107Z"
   },
   {
    "duration": 3,
    "start_time": "2022-11-14T20:53:41.738Z"
   },
   {
    "duration": 4,
    "start_time": "2022-11-14T20:53:42.223Z"
   },
   {
    "duration": 3,
    "start_time": "2022-11-14T20:54:32.815Z"
   },
   {
    "duration": 5,
    "start_time": "2022-11-14T20:54:33.819Z"
   },
   {
    "duration": 3,
    "start_time": "2022-11-14T20:55:55.930Z"
   },
   {
    "duration": 1368,
    "start_time": "2022-11-14T21:15:24.756Z"
   },
   {
    "duration": 142,
    "start_time": "2022-11-14T21:15:26.126Z"
   },
   {
    "duration": 129,
    "start_time": "2022-11-14T21:15:26.270Z"
   },
   {
    "duration": 131,
    "start_time": "2022-11-14T21:15:26.402Z"
   },
   {
    "duration": 3,
    "start_time": "2022-11-14T21:15:26.535Z"
   },
   {
    "duration": 1289,
    "start_time": "2022-11-14T21:15:26.540Z"
   },
   {
    "duration": 6,
    "start_time": "2022-11-14T21:15:27.837Z"
   },
   {
    "duration": 409,
    "start_time": "2022-11-14T21:15:27.845Z"
   },
   {
    "duration": 82,
    "start_time": "2022-11-14T21:15:28.256Z"
   },
   {
    "duration": 97,
    "start_time": "2022-11-14T21:15:28.342Z"
   },
   {
    "duration": 6,
    "start_time": "2022-11-14T21:15:28.441Z"
   },
   {
    "duration": 5,
    "start_time": "2022-11-14T21:15:28.449Z"
   },
   {
    "duration": 9,
    "start_time": "2022-11-14T21:15:28.455Z"
   },
   {
    "duration": 5,
    "start_time": "2022-11-14T21:15:28.466Z"
   },
   {
    "duration": 18,
    "start_time": "2022-11-14T21:15:28.473Z"
   },
   {
    "duration": 3,
    "start_time": "2022-11-14T21:15:28.493Z"
   },
   {
    "duration": 1323,
    "start_time": "2022-11-14T21:49:16.780Z"
   },
   {
    "duration": 147,
    "start_time": "2022-11-14T21:49:18.105Z"
   },
   {
    "duration": 133,
    "start_time": "2022-11-14T21:49:18.254Z"
   },
   {
    "duration": 127,
    "start_time": "2022-11-14T21:49:18.390Z"
   },
   {
    "duration": 3,
    "start_time": "2022-11-14T21:49:18.519Z"
   },
   {
    "duration": 1320,
    "start_time": "2022-11-14T21:49:18.524Z"
   },
   {
    "duration": 4,
    "start_time": "2022-11-14T21:49:19.846Z"
   },
   {
    "duration": 400,
    "start_time": "2022-11-14T21:49:19.851Z"
   },
   {
    "duration": 4,
    "start_time": "2022-11-14T21:49:20.253Z"
   },
   {
    "duration": 100,
    "start_time": "2022-11-14T21:49:20.341Z"
   },
   {
    "duration": 5,
    "start_time": "2022-11-14T21:49:20.443Z"
   },
   {
    "duration": 4,
    "start_time": "2022-11-14T21:49:20.450Z"
   },
   {
    "duration": 5,
    "start_time": "2022-11-14T21:49:20.456Z"
   },
   {
    "duration": 3,
    "start_time": "2022-11-14T21:49:20.463Z"
   },
   {
    "duration": 119,
    "start_time": "2022-11-14T21:49:20.468Z"
   },
   {
    "duration": 81,
    "start_time": "2022-11-14T21:49:20.589Z"
   },
   {
    "duration": 0,
    "start_time": "2022-11-14T21:49:20.671Z"
   },
   {
    "duration": 6,
    "start_time": "2022-11-14T21:50:44.321Z"
   },
   {
    "duration": 1302,
    "start_time": "2022-11-14T21:50:45.720Z"
   },
   {
    "duration": 6,
    "start_time": "2022-11-14T21:51:04.490Z"
   },
   {
    "duration": 1209,
    "start_time": "2022-11-14T21:51:05.349Z"
   },
   {
    "duration": 5,
    "start_time": "2022-11-14T21:52:57.796Z"
   },
   {
    "duration": 3345,
    "start_time": "2022-11-14T21:53:00.045Z"
   },
   {
    "duration": 1612,
    "start_time": "2022-11-15T09:55:46.635Z"
   },
   {
    "duration": 558,
    "start_time": "2022-11-15T09:55:48.249Z"
   },
   {
    "duration": 231,
    "start_time": "2022-11-15T09:55:48.809Z"
   },
   {
    "duration": 227,
    "start_time": "2022-11-15T09:55:49.043Z"
   },
   {
    "duration": 5,
    "start_time": "2022-11-15T09:55:49.272Z"
   },
   {
    "duration": 1464,
    "start_time": "2022-11-15T09:55:49.278Z"
   },
   {
    "duration": 4,
    "start_time": "2022-11-15T09:55:50.751Z"
   },
   {
    "duration": 408,
    "start_time": "2022-11-15T09:55:50.757Z"
   },
   {
    "duration": 7,
    "start_time": "2022-11-15T09:55:51.252Z"
   },
   {
    "duration": 89,
    "start_time": "2022-11-15T09:55:51.263Z"
   },
   {
    "duration": 6,
    "start_time": "2022-11-15T09:55:51.355Z"
   },
   {
    "duration": 6,
    "start_time": "2022-11-15T09:55:51.362Z"
   },
   {
    "duration": 7,
    "start_time": "2022-11-15T09:55:51.369Z"
   },
   {
    "duration": 8,
    "start_time": "2022-11-15T09:55:51.378Z"
   },
   {
    "duration": 121,
    "start_time": "2022-11-15T09:55:51.388Z"
   },
   {
    "duration": 5,
    "start_time": "2022-11-15T09:55:51.511Z"
   },
   {
    "duration": 3630,
    "start_time": "2022-11-15T09:55:51.518Z"
   },
   {
    "duration": 10224,
    "start_time": "2022-11-15T13:08:32.421Z"
   },
   {
    "duration": 402,
    "start_time": "2022-11-15T13:08:42.648Z"
   },
   {
    "duration": 4,
    "start_time": "2022-11-15T13:08:45.515Z"
   },
   {
    "duration": 168,
    "start_time": "2022-11-15T13:08:45.521Z"
   },
   {
    "duration": 128,
    "start_time": "2022-11-15T13:08:45.691Z"
   },
   {
    "duration": 128,
    "start_time": "2022-11-15T13:08:45.820Z"
   },
   {
    "duration": 3,
    "start_time": "2022-11-15T13:08:45.950Z"
   },
   {
    "duration": 1452,
    "start_time": "2022-11-15T13:08:45.954Z"
   },
   {
    "duration": 16,
    "start_time": "2022-11-15T13:08:47.408Z"
   },
   {
    "duration": 4,
    "start_time": "2022-11-15T13:08:47.425Z"
   },
   {
    "duration": 434,
    "start_time": "2022-11-15T13:08:47.431Z"
   },
   {
    "duration": 4,
    "start_time": "2022-11-15T13:08:47.867Z"
   },
   {
    "duration": 85,
    "start_time": "2022-11-15T13:08:47.873Z"
   },
   {
    "duration": 8,
    "start_time": "2022-11-15T13:08:48.054Z"
   },
   {
    "duration": 5,
    "start_time": "2022-11-15T13:08:48.064Z"
   },
   {
    "duration": 8,
    "start_time": "2022-11-15T13:08:48.071Z"
   },
   {
    "duration": 4,
    "start_time": "2022-11-15T13:08:48.081Z"
   },
   {
    "duration": 16,
    "start_time": "2022-11-15T13:08:48.087Z"
   },
   {
    "duration": 4,
    "start_time": "2022-11-15T13:08:48.105Z"
   },
   {
    "duration": 3346,
    "start_time": "2022-11-15T13:08:48.112Z"
   },
   {
    "duration": 29,
    "start_time": "2022-11-15T13:09:21.012Z"
   },
   {
    "duration": 42,
    "start_time": "2022-11-15T13:09:49.250Z"
   },
   {
    "duration": 28,
    "start_time": "2022-11-15T13:11:09.856Z"
   },
   {
    "duration": 6,
    "start_time": "2022-11-15T13:13:45.157Z"
   },
   {
    "duration": 5,
    "start_time": "2022-11-15T13:14:38.950Z"
   },
   {
    "duration": 156,
    "start_time": "2022-11-15T13:14:38.957Z"
   },
   {
    "duration": 127,
    "start_time": "2022-11-15T13:14:39.115Z"
   },
   {
    "duration": 132,
    "start_time": "2022-11-15T13:14:39.244Z"
   },
   {
    "duration": 4,
    "start_time": "2022-11-15T13:14:39.377Z"
   },
   {
    "duration": 1330,
    "start_time": "2022-11-15T13:14:39.383Z"
   },
   {
    "duration": 42,
    "start_time": "2022-11-15T13:14:40.715Z"
   },
   {
    "duration": 7,
    "start_time": "2022-11-15T13:14:40.758Z"
   },
   {
    "duration": 5,
    "start_time": "2022-11-15T13:14:40.768Z"
   },
   {
    "duration": 395,
    "start_time": "2022-11-15T13:14:40.774Z"
   },
   {
    "duration": 4,
    "start_time": "2022-11-15T13:14:41.171Z"
   },
   {
    "duration": 14,
    "start_time": "2022-11-15T13:14:41.255Z"
   },
   {
    "duration": 3,
    "start_time": "2022-11-15T13:14:41.356Z"
   },
   {
    "duration": 11,
    "start_time": "2022-11-15T13:14:41.361Z"
   },
   {
    "duration": 7,
    "start_time": "2022-11-15T13:14:41.374Z"
   },
   {
    "duration": 8,
    "start_time": "2022-11-15T13:14:41.382Z"
   },
   {
    "duration": 18,
    "start_time": "2022-11-15T13:14:41.392Z"
   },
   {
    "duration": 5,
    "start_time": "2022-11-15T13:14:41.412Z"
   },
   {
    "duration": 3370,
    "start_time": "2022-11-15T13:14:41.418Z"
   },
   {
    "duration": 1452,
    "start_time": "2022-11-15T17:45:10.037Z"
   },
   {
    "duration": 378,
    "start_time": "2022-11-15T17:45:11.491Z"
   },
   {
    "duration": 566,
    "start_time": "2022-11-15T17:45:11.871Z"
   },
   {
    "duration": 529,
    "start_time": "2022-11-15T17:45:12.439Z"
   },
   {
    "duration": 3,
    "start_time": "2022-11-15T17:45:12.970Z"
   },
   {
    "duration": 1132,
    "start_time": "2022-11-15T17:45:12.975Z"
   },
   {
    "duration": 43,
    "start_time": "2022-11-15T17:45:14.108Z"
   },
   {
    "duration": 6,
    "start_time": "2022-11-15T17:45:14.152Z"
   },
   {
    "duration": 16,
    "start_time": "2022-11-15T17:45:14.160Z"
   },
   {
    "duration": 468,
    "start_time": "2022-11-15T17:45:14.177Z"
   },
   {
    "duration": 4,
    "start_time": "2022-11-15T17:45:14.647Z"
   },
   {
    "duration": 86,
    "start_time": "2022-11-15T17:45:14.652Z"
   },
   {
    "duration": 97,
    "start_time": "2022-11-15T17:45:14.740Z"
   },
   {
    "duration": 7,
    "start_time": "2022-11-15T17:45:14.839Z"
   },
   {
    "duration": 24,
    "start_time": "2022-11-15T17:45:14.848Z"
   },
   {
    "duration": 23,
    "start_time": "2022-11-15T17:45:14.873Z"
   },
   {
    "duration": 51,
    "start_time": "2022-11-15T17:45:14.898Z"
   },
   {
    "duration": 4,
    "start_time": "2022-11-15T17:45:14.951Z"
   },
   {
    "duration": 3232,
    "start_time": "2022-11-15T17:45:14.957Z"
   },
   {
    "duration": 97,
    "start_time": "2022-11-15T18:13:05.527Z"
   },
   {
    "duration": 9,
    "start_time": "2022-11-15T18:13:25.466Z"
   },
   {
    "duration": 9,
    "start_time": "2022-11-15T18:14:03.347Z"
   },
   {
    "duration": 3,
    "start_time": "2022-11-15T18:14:14.444Z"
   },
   {
    "duration": 4,
    "start_time": "2022-11-15T18:14:44.473Z"
   },
   {
    "duration": 3,
    "start_time": "2022-11-15T18:15:03.053Z"
   },
   {
    "duration": 5,
    "start_time": "2022-11-15T18:15:03.727Z"
   },
   {
    "duration": 1345,
    "start_time": "2022-11-15T18:15:21.333Z"
   },
   {
    "duration": 134,
    "start_time": "2022-11-15T18:15:22.680Z"
   },
   {
    "duration": 114,
    "start_time": "2022-11-15T18:15:22.815Z"
   },
   {
    "duration": 116,
    "start_time": "2022-11-15T18:15:22.931Z"
   },
   {
    "duration": 3,
    "start_time": "2022-11-15T18:15:23.050Z"
   },
   {
    "duration": 1234,
    "start_time": "2022-11-15T18:15:23.054Z"
   },
   {
    "duration": 32,
    "start_time": "2022-11-15T18:15:24.290Z"
   },
   {
    "duration": 15,
    "start_time": "2022-11-15T18:15:24.324Z"
   },
   {
    "duration": 21,
    "start_time": "2022-11-15T18:15:24.340Z"
   },
   {
    "duration": 477,
    "start_time": "2022-11-15T18:15:24.363Z"
   },
   {
    "duration": 94,
    "start_time": "2022-11-15T18:15:24.842Z"
   },
   {
    "duration": 122,
    "start_time": "2022-11-15T18:15:24.938Z"
   },
   {
    "duration": 17,
    "start_time": "2022-11-15T18:15:25.062Z"
   },
   {
    "duration": 28,
    "start_time": "2022-11-15T18:15:25.082Z"
   },
   {
    "duration": 15,
    "start_time": "2022-11-15T18:15:25.111Z"
   },
   {
    "duration": 17,
    "start_time": "2022-11-15T18:15:25.127Z"
   },
   {
    "duration": 25,
    "start_time": "2022-11-15T18:15:25.146Z"
   },
   {
    "duration": 4,
    "start_time": "2022-11-15T18:15:25.173Z"
   },
   {
    "duration": 3269,
    "start_time": "2022-11-15T18:15:25.178Z"
   },
   {
    "duration": 3,
    "start_time": "2022-11-15T18:16:00.938Z"
   },
   {
    "duration": 4,
    "start_time": "2022-11-15T18:39:18.633Z"
   },
   {
    "duration": 108,
    "start_time": "2022-11-15T18:39:19.286Z"
   },
   {
    "duration": 1299,
    "start_time": "2022-11-15T18:39:25.965Z"
   },
   {
    "duration": 135,
    "start_time": "2022-11-15T18:39:27.266Z"
   },
   {
    "duration": 115,
    "start_time": "2022-11-15T18:39:27.405Z"
   },
   {
    "duration": 118,
    "start_time": "2022-11-15T18:39:27.522Z"
   },
   {
    "duration": 3,
    "start_time": "2022-11-15T18:39:27.641Z"
   },
   {
    "duration": 1223,
    "start_time": "2022-11-15T18:39:27.646Z"
   },
   {
    "duration": 33,
    "start_time": "2022-11-15T18:39:28.870Z"
   },
   {
    "duration": 30,
    "start_time": "2022-11-15T18:39:28.904Z"
   },
   {
    "duration": 8,
    "start_time": "2022-11-15T18:39:28.937Z"
   },
   {
    "duration": 495,
    "start_time": "2022-11-15T18:39:28.946Z"
   },
   {
    "duration": 3,
    "start_time": "2022-11-15T18:39:29.443Z"
   },
   {
    "duration": 91,
    "start_time": "2022-11-15T18:39:29.448Z"
   },
   {
    "duration": 94,
    "start_time": "2022-11-15T18:39:29.542Z"
   },
   {
    "duration": 3,
    "start_time": "2022-11-15T18:39:29.638Z"
   },
   {
    "duration": 29,
    "start_time": "2022-11-15T18:39:29.642Z"
   },
   {
    "duration": 21,
    "start_time": "2022-11-15T18:39:29.673Z"
   },
   {
    "duration": 41,
    "start_time": "2022-11-15T18:39:29.696Z"
   },
   {
    "duration": 10,
    "start_time": "2022-11-15T18:39:29.739Z"
   },
   {
    "duration": 12,
    "start_time": "2022-11-15T18:39:29.751Z"
   },
   {
    "duration": 3289,
    "start_time": "2022-11-15T18:39:29.765Z"
   },
   {
    "duration": 4,
    "start_time": "2022-11-15T18:40:13.741Z"
   },
   {
    "duration": 3230,
    "start_time": "2022-11-15T18:40:15.068Z"
   },
   {
    "duration": 109,
    "start_time": "2022-11-15T18:40:59.036Z"
   },
   {
    "duration": 15,
    "start_time": "2022-11-15T18:41:25.980Z"
   },
   {
    "duration": 13,
    "start_time": "2022-11-15T18:41:45.557Z"
   },
   {
    "duration": 13,
    "start_time": "2022-11-15T18:42:03.408Z"
   },
   {
    "duration": 1277,
    "start_time": "2022-11-15T18:42:07.542Z"
   },
   {
    "duration": 135,
    "start_time": "2022-11-15T18:42:08.821Z"
   },
   {
    "duration": 119,
    "start_time": "2022-11-15T18:42:08.958Z"
   },
   {
    "duration": 121,
    "start_time": "2022-11-15T18:42:09.079Z"
   },
   {
    "duration": 4,
    "start_time": "2022-11-15T18:42:09.202Z"
   },
   {
    "duration": 1169,
    "start_time": "2022-11-15T18:42:09.207Z"
   },
   {
    "duration": 29,
    "start_time": "2022-11-15T18:42:10.377Z"
   },
   {
    "duration": 6,
    "start_time": "2022-11-15T18:42:10.407Z"
   },
   {
    "duration": 20,
    "start_time": "2022-11-15T18:42:10.415Z"
   },
   {
    "duration": 403,
    "start_time": "2022-11-15T18:42:10.438Z"
   },
   {
    "duration": 92,
    "start_time": "2022-11-15T18:42:10.843Z"
   },
   {
    "duration": 113,
    "start_time": "2022-11-15T18:42:10.937Z"
   },
   {
    "duration": 12,
    "start_time": "2022-11-15T18:42:11.051Z"
   },
   {
    "duration": 8,
    "start_time": "2022-11-15T18:42:11.065Z"
   },
   {
    "duration": 12,
    "start_time": "2022-11-15T18:42:11.074Z"
   },
   {
    "duration": 6,
    "start_time": "2022-11-15T18:42:11.088Z"
   },
   {
    "duration": 21,
    "start_time": "2022-11-15T18:42:11.096Z"
   },
   {
    "duration": 4,
    "start_time": "2022-11-15T18:42:11.118Z"
   },
   {
    "duration": 3124,
    "start_time": "2022-11-15T18:42:11.123Z"
   },
   {
    "duration": 108,
    "start_time": "2022-11-15T18:42:35.649Z"
   },
   {
    "duration": 14,
    "start_time": "2022-11-15T18:42:59.367Z"
   },
   {
    "duration": 4,
    "start_time": "2022-11-15T18:43:19.018Z"
   },
   {
    "duration": 7,
    "start_time": "2022-11-15T18:43:45.377Z"
   },
   {
    "duration": 2871,
    "start_time": "2022-11-15T18:45:13.313Z"
   },
   {
    "duration": 1281,
    "start_time": "2022-11-15T18:51:08.244Z"
   },
   {
    "duration": 139,
    "start_time": "2022-11-15T18:51:09.527Z"
   },
   {
    "duration": 125,
    "start_time": "2022-11-15T18:51:09.668Z"
   },
   {
    "duration": 114,
    "start_time": "2022-11-15T18:51:09.795Z"
   },
   {
    "duration": 3,
    "start_time": "2022-11-15T18:51:09.911Z"
   },
   {
    "duration": 1194,
    "start_time": "2022-11-15T18:51:09.915Z"
   },
   {
    "duration": 38,
    "start_time": "2022-11-15T18:51:11.111Z"
   },
   {
    "duration": 6,
    "start_time": "2022-11-15T18:51:11.151Z"
   },
   {
    "duration": 9,
    "start_time": "2022-11-15T18:51:11.159Z"
   },
   {
    "duration": 468,
    "start_time": "2022-11-15T18:51:11.171Z"
   },
   {
    "duration": 95,
    "start_time": "2022-11-15T18:51:11.641Z"
   },
   {
    "duration": 98,
    "start_time": "2022-11-15T18:51:11.738Z"
   },
   {
    "duration": 13,
    "start_time": "2022-11-15T18:51:11.838Z"
   },
   {
    "duration": 10,
    "start_time": "2022-11-15T18:51:11.853Z"
   },
   {
    "duration": 12,
    "start_time": "2022-11-15T18:51:11.864Z"
   },
   {
    "duration": 12,
    "start_time": "2022-11-15T18:51:11.877Z"
   },
   {
    "duration": 22,
    "start_time": "2022-11-15T18:51:11.891Z"
   },
   {
    "duration": 6,
    "start_time": "2022-11-15T18:51:11.914Z"
   },
   {
    "duration": 6,
    "start_time": "2022-11-15T18:51:11.922Z"
   },
   {
    "duration": 2880,
    "start_time": "2022-11-15T18:51:11.929Z"
   },
   {
    "duration": 2783,
    "start_time": "2022-11-15T18:55:55.118Z"
   },
   {
    "duration": 1291,
    "start_time": "2022-11-15T18:57:19.965Z"
   },
   {
    "duration": 143,
    "start_time": "2022-11-15T18:57:21.258Z"
   },
   {
    "duration": 121,
    "start_time": "2022-11-15T18:57:21.403Z"
   },
   {
    "duration": 127,
    "start_time": "2022-11-15T18:57:21.526Z"
   },
   {
    "duration": 3,
    "start_time": "2022-11-15T18:57:21.655Z"
   },
   {
    "duration": 1296,
    "start_time": "2022-11-15T18:57:21.660Z"
   },
   {
    "duration": 34,
    "start_time": "2022-11-15T18:57:22.958Z"
   },
   {
    "duration": 7,
    "start_time": "2022-11-15T18:57:22.993Z"
   },
   {
    "duration": 30,
    "start_time": "2022-11-15T18:57:23.002Z"
   },
   {
    "duration": 504,
    "start_time": "2022-11-15T18:57:23.035Z"
   },
   {
    "duration": 3,
    "start_time": "2022-11-15T18:57:23.541Z"
   },
   {
    "duration": 197,
    "start_time": "2022-11-15T18:57:23.546Z"
   },
   {
    "duration": 13,
    "start_time": "2022-11-15T18:57:23.745Z"
   },
   {
    "duration": 28,
    "start_time": "2022-11-15T18:57:23.760Z"
   },
   {
    "duration": 27,
    "start_time": "2022-11-15T18:57:23.790Z"
   },
   {
    "duration": 31,
    "start_time": "2022-11-15T18:57:23.819Z"
   },
   {
    "duration": 39,
    "start_time": "2022-11-15T18:57:23.852Z"
   },
   {
    "duration": 24,
    "start_time": "2022-11-15T18:57:23.893Z"
   },
   {
    "duration": 11,
    "start_time": "2022-11-15T18:57:23.918Z"
   },
   {
    "duration": 1159,
    "start_time": "2022-11-15T18:57:23.931Z"
   },
   {
    "duration": 1269,
    "start_time": "2022-11-15T19:00:01.461Z"
   },
   {
    "duration": 5,
    "start_time": "2022-11-15T19:00:27.530Z"
   },
   {
    "duration": 963,
    "start_time": "2022-11-15T19:00:28.795Z"
   },
   {
    "duration": 40,
    "start_time": "2022-11-15T19:02:18.375Z"
   },
   {
    "duration": 5,
    "start_time": "2022-11-15T19:02:28.344Z"
   },
   {
    "duration": 943,
    "start_time": "2022-11-15T19:02:29.839Z"
   },
   {
    "duration": 1364,
    "start_time": "2022-11-15T19:03:31.773Z"
   },
   {
    "duration": 134,
    "start_time": "2022-11-15T19:03:33.140Z"
   },
   {
    "duration": 115,
    "start_time": "2022-11-15T19:03:33.276Z"
   },
   {
    "duration": 121,
    "start_time": "2022-11-15T19:03:33.393Z"
   },
   {
    "duration": 4,
    "start_time": "2022-11-15T19:03:33.517Z"
   },
   {
    "duration": 1193,
    "start_time": "2022-11-15T19:03:33.523Z"
   },
   {
    "duration": 44,
    "start_time": "2022-11-15T19:03:34.718Z"
   },
   {
    "duration": 6,
    "start_time": "2022-11-15T19:03:34.764Z"
   },
   {
    "duration": 29,
    "start_time": "2022-11-15T19:03:34.772Z"
   },
   {
    "duration": 349,
    "start_time": "2022-11-15T19:03:34.803Z"
   },
   {
    "duration": 4,
    "start_time": "2022-11-15T19:03:35.154Z"
   },
   {
    "duration": 108,
    "start_time": "2022-11-15T19:03:35.237Z"
   },
   {
    "duration": 19,
    "start_time": "2022-11-15T19:03:35.347Z"
   },
   {
    "duration": 14,
    "start_time": "2022-11-15T19:03:35.369Z"
   },
   {
    "duration": 14,
    "start_time": "2022-11-15T19:03:35.384Z"
   },
   {
    "duration": 14,
    "start_time": "2022-11-15T19:03:35.400Z"
   },
   {
    "duration": 21,
    "start_time": "2022-11-15T19:03:35.415Z"
   },
   {
    "duration": 8,
    "start_time": "2022-11-15T19:03:35.438Z"
   },
   {
    "duration": 7,
    "start_time": "2022-11-15T19:03:35.447Z"
   },
   {
    "duration": 1124,
    "start_time": "2022-11-15T19:03:35.455Z"
   },
   {
    "duration": 1038,
    "start_time": "2022-11-15T19:04:30.407Z"
   },
   {
    "duration": 5,
    "start_time": "2022-11-15T19:06:50.302Z"
   },
   {
    "duration": 960,
    "start_time": "2022-11-15T19:06:51.401Z"
   },
   {
    "duration": 2999,
    "start_time": "2022-11-15T19:07:03.500Z"
   },
   {
    "duration": 8,
    "start_time": "2022-11-16T08:20:41.168Z"
   },
   {
    "duration": 3,
    "start_time": "2022-11-16T08:20:41.797Z"
   },
   {
    "duration": 5,
    "start_time": "2022-11-16T08:20:44.197Z"
   },
   {
    "duration": 1566,
    "start_time": "2022-11-16T08:25:48.937Z"
   },
   {
    "duration": 514,
    "start_time": "2022-11-16T08:25:50.505Z"
   },
   {
    "duration": 212,
    "start_time": "2022-11-16T08:25:51.021Z"
   },
   {
    "duration": 207,
    "start_time": "2022-11-16T08:25:51.236Z"
   },
   {
    "duration": 3,
    "start_time": "2022-11-16T08:25:51.445Z"
   },
   {
    "duration": 1301,
    "start_time": "2022-11-16T08:25:51.450Z"
   },
   {
    "duration": 49,
    "start_time": "2022-11-16T08:25:52.753Z"
   },
   {
    "duration": 5,
    "start_time": "2022-11-16T08:25:52.805Z"
   },
   {
    "duration": 478,
    "start_time": "2022-11-16T08:25:52.813Z"
   },
   {
    "duration": 3,
    "start_time": "2022-11-16T08:25:53.381Z"
   },
   {
    "duration": 96,
    "start_time": "2022-11-16T08:25:53.389Z"
   },
   {
    "duration": 10,
    "start_time": "2022-11-16T08:25:53.487Z"
   },
   {
    "duration": 9,
    "start_time": "2022-11-16T08:25:53.499Z"
   },
   {
    "duration": 9,
    "start_time": "2022-11-16T08:25:53.510Z"
   },
   {
    "duration": 6,
    "start_time": "2022-11-16T08:25:53.520Z"
   },
   {
    "duration": 128,
    "start_time": "2022-11-16T08:25:53.528Z"
   },
   {
    "duration": 0,
    "start_time": "2022-11-16T08:25:53.658Z"
   },
   {
    "duration": 0,
    "start_time": "2022-11-16T08:25:53.660Z"
   },
   {
    "duration": 0,
    "start_time": "2022-11-16T08:25:53.661Z"
   },
   {
    "duration": 5,
    "start_time": "2022-11-16T08:27:34.125Z"
   },
   {
    "duration": 1378,
    "start_time": "2022-11-16T08:39:20.569Z"
   },
   {
    "duration": 148,
    "start_time": "2022-11-16T08:39:21.949Z"
   },
   {
    "duration": 115,
    "start_time": "2022-11-16T08:39:22.099Z"
   },
   {
    "duration": 121,
    "start_time": "2022-11-16T08:39:22.217Z"
   },
   {
    "duration": 4,
    "start_time": "2022-11-16T08:39:22.339Z"
   },
   {
    "duration": 1230,
    "start_time": "2022-11-16T08:39:22.344Z"
   },
   {
    "duration": 33,
    "start_time": "2022-11-16T08:39:23.577Z"
   },
   {
    "duration": 4,
    "start_time": "2022-11-16T08:39:23.612Z"
   },
   {
    "duration": 370,
    "start_time": "2022-11-16T08:39:23.617Z"
   },
   {
    "duration": 86,
    "start_time": "2022-11-16T08:39:23.992Z"
   },
   {
    "duration": 98,
    "start_time": "2022-11-16T08:39:24.084Z"
   },
   {
    "duration": 9,
    "start_time": "2022-11-16T08:39:24.184Z"
   },
   {
    "duration": 18,
    "start_time": "2022-11-16T08:39:24.195Z"
   },
   {
    "duration": 16,
    "start_time": "2022-11-16T08:39:24.215Z"
   },
   {
    "duration": 8,
    "start_time": "2022-11-16T08:39:24.232Z"
   },
   {
    "duration": 31,
    "start_time": "2022-11-16T08:39:24.241Z"
   },
   {
    "duration": 7,
    "start_time": "2022-11-16T08:39:24.274Z"
   },
   {
    "duration": 5,
    "start_time": "2022-11-16T08:39:24.283Z"
   },
   {
    "duration": 1357,
    "start_time": "2022-11-16T08:39:24.290Z"
   },
   {
    "duration": 5,
    "start_time": "2022-11-16T08:40:41.083Z"
   },
   {
    "duration": 1280,
    "start_time": "2022-11-16T08:40:43.802Z"
   },
   {
    "duration": 6,
    "start_time": "2022-11-16T08:42:35.996Z"
   },
   {
    "duration": 2935,
    "start_time": "2022-11-16T08:42:40.723Z"
   },
   {
    "duration": 1349,
    "start_time": "2022-11-16T08:42:58.083Z"
   },
   {
    "duration": 137,
    "start_time": "2022-11-16T08:42:59.433Z"
   },
   {
    "duration": 120,
    "start_time": "2022-11-16T08:42:59.571Z"
   },
   {
    "duration": 120,
    "start_time": "2022-11-16T08:42:59.694Z"
   },
   {
    "duration": 4,
    "start_time": "2022-11-16T08:42:59.816Z"
   },
   {
    "duration": 1259,
    "start_time": "2022-11-16T08:42:59.822Z"
   },
   {
    "duration": 37,
    "start_time": "2022-11-16T08:43:01.082Z"
   },
   {
    "duration": 6,
    "start_time": "2022-11-16T08:43:01.121Z"
   },
   {
    "duration": 561,
    "start_time": "2022-11-16T08:43:01.129Z"
   },
   {
    "duration": 4,
    "start_time": "2022-11-16T08:43:01.694Z"
   },
   {
    "duration": 99,
    "start_time": "2022-11-16T08:43:01.780Z"
   },
   {
    "duration": 10,
    "start_time": "2022-11-16T08:43:01.881Z"
   },
   {
    "duration": 6,
    "start_time": "2022-11-16T08:43:01.893Z"
   },
   {
    "duration": 18,
    "start_time": "2022-11-16T08:43:01.901Z"
   },
   {
    "duration": 7,
    "start_time": "2022-11-16T08:43:01.921Z"
   },
   {
    "duration": 28,
    "start_time": "2022-11-16T08:43:01.929Z"
   },
   {
    "duration": 8,
    "start_time": "2022-11-16T08:43:01.959Z"
   },
   {
    "duration": 6,
    "start_time": "2022-11-16T08:43:01.979Z"
   },
   {
    "duration": 3013,
    "start_time": "2022-11-16T08:43:01.987Z"
   },
   {
    "duration": 1429,
    "start_time": "2022-11-16T08:45:04.018Z"
   },
   {
    "duration": 146,
    "start_time": "2022-11-16T08:45:05.449Z"
   },
   {
    "duration": 126,
    "start_time": "2022-11-16T08:45:05.597Z"
   },
   {
    "duration": 127,
    "start_time": "2022-11-16T08:45:05.726Z"
   },
   {
    "duration": 4,
    "start_time": "2022-11-16T08:45:05.855Z"
   },
   {
    "duration": 1363,
    "start_time": "2022-11-16T08:45:05.861Z"
   },
   {
    "duration": 40,
    "start_time": "2022-11-16T08:45:07.226Z"
   },
   {
    "duration": 5,
    "start_time": "2022-11-16T08:45:07.278Z"
   },
   {
    "duration": 399,
    "start_time": "2022-11-16T08:45:07.287Z"
   },
   {
    "duration": 95,
    "start_time": "2022-11-16T08:45:07.690Z"
   },
   {
    "duration": 97,
    "start_time": "2022-11-16T08:45:07.790Z"
   },
   {
    "duration": 12,
    "start_time": "2022-11-16T08:45:07.889Z"
   },
   {
    "duration": 11,
    "start_time": "2022-11-16T08:45:07.904Z"
   },
   {
    "duration": 11,
    "start_time": "2022-11-16T08:45:07.918Z"
   },
   {
    "duration": 6,
    "start_time": "2022-11-16T08:45:07.932Z"
   },
   {
    "duration": 21,
    "start_time": "2022-11-16T08:45:07.941Z"
   },
   {
    "duration": 14,
    "start_time": "2022-11-16T08:45:07.964Z"
   },
   {
    "duration": 5,
    "start_time": "2022-11-16T08:45:07.980Z"
   },
   {
    "duration": 2904,
    "start_time": "2022-11-16T08:45:07.987Z"
   },
   {
    "duration": 5485,
    "start_time": "2022-11-17T06:51:38.270Z"
   },
   {
    "duration": 365,
    "start_time": "2022-11-17T06:51:43.757Z"
   },
   {
    "duration": 553,
    "start_time": "2022-11-17T06:51:44.124Z"
   },
   {
    "duration": 518,
    "start_time": "2022-11-17T06:51:44.679Z"
   },
   {
    "duration": 3,
    "start_time": "2022-11-17T06:51:45.198Z"
   },
   {
    "duration": 1153,
    "start_time": "2022-11-17T06:51:45.203Z"
   },
   {
    "duration": 35,
    "start_time": "2022-11-17T06:51:46.358Z"
   },
   {
    "duration": 4,
    "start_time": "2022-11-17T06:51:46.395Z"
   },
   {
    "duration": 459,
    "start_time": "2022-11-17T06:51:46.401Z"
   },
   {
    "duration": 3,
    "start_time": "2022-11-17T06:51:46.863Z"
   },
   {
    "duration": 89,
    "start_time": "2022-11-17T06:51:46.868Z"
   },
   {
    "duration": 96,
    "start_time": "2022-11-17T06:51:46.959Z"
   },
   {
    "duration": 3,
    "start_time": "2022-11-17T06:51:47.057Z"
   },
   {
    "duration": 19,
    "start_time": "2022-11-17T06:51:47.061Z"
   },
   {
    "duration": 18,
    "start_time": "2022-11-17T06:51:47.082Z"
   },
   {
    "duration": 25,
    "start_time": "2022-11-17T06:51:47.101Z"
   },
   {
    "duration": 6,
    "start_time": "2022-11-17T06:51:47.128Z"
   },
   {
    "duration": 21,
    "start_time": "2022-11-17T06:51:47.136Z"
   },
   {
    "duration": 2671,
    "start_time": "2022-11-17T06:51:47.159Z"
   },
   {
    "duration": 4,
    "start_time": "2022-11-17T06:51:49.832Z"
   },
   {
    "duration": 1596,
    "start_time": "2022-11-17T11:29:51.083Z"
   },
   {
    "duration": 446,
    "start_time": "2022-11-17T11:29:52.682Z"
   },
   {
    "duration": 629,
    "start_time": "2022-11-17T11:29:53.130Z"
   },
   {
    "duration": 592,
    "start_time": "2022-11-17T11:29:53.762Z"
   },
   {
    "duration": 4,
    "start_time": "2022-11-17T11:29:54.355Z"
   },
   {
    "duration": 1412,
    "start_time": "2022-11-17T11:29:54.361Z"
   },
   {
    "duration": 56,
    "start_time": "2022-11-17T11:29:55.775Z"
   },
   {
    "duration": 8,
    "start_time": "2022-11-17T11:29:55.833Z"
   },
   {
    "duration": 398,
    "start_time": "2022-11-17T11:29:55.842Z"
   },
   {
    "duration": 75,
    "start_time": "2022-11-17T11:29:56.244Z"
   },
   {
    "duration": 125,
    "start_time": "2022-11-17T11:29:56.321Z"
   },
   {
    "duration": 29,
    "start_time": "2022-11-17T11:29:56.448Z"
   },
   {
    "duration": 26,
    "start_time": "2022-11-17T11:29:56.479Z"
   },
   {
    "duration": 66,
    "start_time": "2022-11-17T11:29:56.507Z"
   },
   {
    "duration": 57,
    "start_time": "2022-11-17T11:29:56.576Z"
   },
   {
    "duration": 61,
    "start_time": "2022-11-17T11:29:56.635Z"
   },
   {
    "duration": 58,
    "start_time": "2022-11-17T11:29:56.700Z"
   },
   {
    "duration": 16,
    "start_time": "2022-11-17T11:29:56.761Z"
   },
   {
    "duration": 3204,
    "start_time": "2022-11-17T11:29:56.779Z"
   },
   {
    "duration": 5,
    "start_time": "2022-11-17T11:30:41.169Z"
   },
   {
    "duration": 5,
    "start_time": "2022-11-17T11:30:42.092Z"
   },
   {
    "duration": 5,
    "start_time": "2022-11-17T11:30:42.900Z"
   },
   {
    "duration": 3,
    "start_time": "2022-11-17T11:31:20.472Z"
   },
   {
    "duration": 3,
    "start_time": "2022-11-17T11:31:46.145Z"
   },
   {
    "duration": 6,
    "start_time": "2022-11-17T11:31:46.886Z"
   },
   {
    "duration": 6,
    "start_time": "2022-11-17T11:31:50.513Z"
   },
   {
    "duration": 5,
    "start_time": "2022-11-17T11:31:51.352Z"
   },
   {
    "duration": 4,
    "start_time": "2022-11-17T11:32:05.639Z"
   },
   {
    "duration": 16,
    "start_time": "2022-11-17T11:32:07.747Z"
   },
   {
    "duration": 8,
    "start_time": "2022-11-17T11:32:08.712Z"
   },
   {
    "duration": 5,
    "start_time": "2022-11-17T11:32:09.808Z"
   },
   {
    "duration": 2975,
    "start_time": "2022-11-17T11:32:11.968Z"
   },
   {
    "duration": 4,
    "start_time": "2022-11-17T12:00:17.404Z"
   },
   {
    "duration": 71,
    "start_time": "2022-11-17T12:00:55.555Z"
   },
   {
    "duration": 3,
    "start_time": "2022-11-17T12:01:01.400Z"
   },
   {
    "duration": 3,
    "start_time": "2022-11-17T12:02:17.063Z"
   },
   {
    "duration": 5,
    "start_time": "2022-11-17T12:02:17.810Z"
   },
   {
    "duration": 5,
    "start_time": "2022-11-17T12:02:19.425Z"
   },
   {
    "duration": 5,
    "start_time": "2022-11-17T12:02:22.769Z"
   },
   {
    "duration": 4,
    "start_time": "2022-11-17T12:02:36.063Z"
   },
   {
    "duration": 6,
    "start_time": "2022-11-17T12:02:36.669Z"
   },
   {
    "duration": 5,
    "start_time": "2022-11-17T12:02:37.869Z"
   },
   {
    "duration": 5,
    "start_time": "2022-11-17T12:02:38.879Z"
   },
   {
    "duration": 4,
    "start_time": "2022-11-17T12:04:18.176Z"
   },
   {
    "duration": 8,
    "start_time": "2022-11-17T12:04:19.381Z"
   },
   {
    "duration": 9,
    "start_time": "2022-11-17T12:04:28.697Z"
   },
   {
    "duration": 10,
    "start_time": "2022-11-17T12:04:29.501Z"
   },
   {
    "duration": 3,
    "start_time": "2022-11-17T12:05:23.749Z"
   },
   {
    "duration": 8,
    "start_time": "2022-11-17T12:05:24.431Z"
   },
   {
    "duration": 8,
    "start_time": "2022-11-17T12:05:25.285Z"
   },
   {
    "duration": 10,
    "start_time": "2022-11-17T12:05:26.296Z"
   },
   {
    "duration": 5,
    "start_time": "2022-11-17T12:06:36.592Z"
   },
   {
    "duration": 9,
    "start_time": "2022-11-17T12:06:37.240Z"
   },
   {
    "duration": 8,
    "start_time": "2022-11-17T12:06:38.692Z"
   },
   {
    "duration": 7,
    "start_time": "2022-11-17T12:06:39.492Z"
   },
   {
    "duration": 4,
    "start_time": "2022-11-17T12:07:04.228Z"
   },
   {
    "duration": 9,
    "start_time": "2022-11-17T12:07:04.751Z"
   },
   {
    "duration": 10,
    "start_time": "2022-11-17T12:07:05.528Z"
   },
   {
    "duration": 9,
    "start_time": "2022-11-17T12:07:06.135Z"
   },
   {
    "duration": 50,
    "start_time": "2022-11-17T12:08:03.013Z"
   },
   {
    "duration": 3,
    "start_time": "2022-11-17T12:08:07.547Z"
   },
   {
    "duration": 3,
    "start_time": "2022-11-17T12:08:37.534Z"
   },
   {
    "duration": 8,
    "start_time": "2022-11-17T12:08:38.512Z"
   },
   {
    "duration": 8,
    "start_time": "2022-11-17T12:08:40.528Z"
   },
   {
    "duration": 8,
    "start_time": "2022-11-17T12:08:41.468Z"
   },
   {
    "duration": 13,
    "start_time": "2022-11-17T12:16:46.791Z"
   },
   {
    "duration": 4,
    "start_time": "2022-11-17T12:17:39.397Z"
   },
   {
    "duration": 4,
    "start_time": "2022-11-17T12:17:44.217Z"
   },
   {
    "duration": 114,
    "start_time": "2022-11-17T12:23:46.768Z"
   },
   {
    "duration": 4,
    "start_time": "2022-11-17T12:23:49.615Z"
   },
   {
    "duration": 13,
    "start_time": "2022-11-17T12:23:50.674Z"
   },
   {
    "duration": 3,
    "start_time": "2022-11-17T12:23:52.710Z"
   },
   {
    "duration": 4,
    "start_time": "2022-11-17T12:23:53.743Z"
   },
   {
    "duration": 45,
    "start_time": "2022-11-17T12:25:36.342Z"
   },
   {
    "duration": 1401,
    "start_time": "2022-11-17T12:26:25.024Z"
   },
   {
    "duration": 160,
    "start_time": "2022-11-17T12:26:26.428Z"
   },
   {
    "duration": 160,
    "start_time": "2022-11-17T12:26:26.590Z"
   },
   {
    "duration": 156,
    "start_time": "2022-11-17T12:26:26.752Z"
   },
   {
    "duration": 5,
    "start_time": "2022-11-17T12:26:26.911Z"
   },
   {
    "duration": 1423,
    "start_time": "2022-11-17T12:26:26.918Z"
   },
   {
    "duration": 39,
    "start_time": "2022-11-17T12:26:28.343Z"
   },
   {
    "duration": 5,
    "start_time": "2022-11-17T12:26:28.384Z"
   },
   {
    "duration": 416,
    "start_time": "2022-11-17T12:26:28.412Z"
   },
   {
    "duration": 81,
    "start_time": "2022-11-17T12:26:28.831Z"
   },
   {
    "duration": 99,
    "start_time": "2022-11-17T12:26:28.914Z"
   },
   {
    "duration": 12,
    "start_time": "2022-11-17T12:26:29.015Z"
   },
   {
    "duration": 24,
    "start_time": "2022-11-17T12:26:29.028Z"
   },
   {
    "duration": 35,
    "start_time": "2022-11-17T12:26:29.054Z"
   },
   {
    "duration": 7,
    "start_time": "2022-11-17T12:26:29.091Z"
   },
   {
    "duration": 8,
    "start_time": "2022-11-17T12:26:29.100Z"
   },
   {
    "duration": 14,
    "start_time": "2022-11-17T12:26:29.111Z"
   },
   {
    "duration": 34,
    "start_time": "2022-11-17T12:26:29.127Z"
   },
   {
    "duration": 7,
    "start_time": "2022-11-17T12:26:29.163Z"
   },
   {
    "duration": 9,
    "start_time": "2022-11-17T12:26:29.172Z"
   },
   {
    "duration": 3173,
    "start_time": "2022-11-17T12:26:29.183Z"
   }
  ],
  "kernelspec": {
   "display_name": "Python 3 (ipykernel)",
   "language": "python",
   "name": "python3"
  },
  "language_info": {
   "codemirror_mode": {
    "name": "ipython",
    "version": 3
   },
   "file_extension": ".py",
   "mimetype": "text/x-python",
   "name": "python",
   "nbconvert_exporter": "python",
   "pygments_lexer": "ipython3",
   "version": "3.9.12"
  },
  "toc": {
   "base_numbering": 1,
   "nav_menu": {},
   "number_sections": true,
   "sideBar": true,
   "skip_h1_title": true,
   "title_cell": "Table of Contents",
   "title_sidebar": "Contents",
   "toc_cell": false,
   "toc_position": {},
   "toc_section_display": true,
   "toc_window_display": false
  }
 },
 "nbformat": 4,
 "nbformat_minor": 2
}
