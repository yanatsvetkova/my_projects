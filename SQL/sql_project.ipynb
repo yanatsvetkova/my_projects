{
 "cells": [
  {
   "cell_type": "markdown",
   "metadata": {},
   "source": [
    "# Проект по продвинутому SQL"
   ]
  },
  {
   "cell_type": "code",
   "execution_count": 7,
   "metadata": {},
   "outputs": [],
   "source": [
    "import pandas as pd\n",
    "import matplotlib.pyplot as plt\n",
    "from sqlalchemy import create_engine "
   ]
  },
  {
   "cell_type": "markdown",
   "metadata": {},
   "source": [
    "### Задание 1.1"
   ]
  },
  {
   "cell_type": "markdown",
   "metadata": {},
   "source": [
    "Найдите количество вопросов, которые набрали больше 300 очков или как минимум 100 раз были добавлены в «Закладки»."
   ]
  },
  {
   "cell_type": "code",
   "execution_count": 2,
   "metadata": {},
   "outputs": [],
   "source": [
    "query_q = '''\n",
    "SELECT count(id)\n",
    "FROM stackoverflow.posts\n",
    "where (score > 300 or favorites_count >= 100) and (parent_id=0);\n",
    "'''"
   ]
  },
  {
   "cell_type": "markdown",
   "metadata": {},
   "source": [
    "### Задание 1.2"
   ]
  },
  {
   "cell_type": "markdown",
   "metadata": {},
   "source": [
    "Сколько в среднем в день задавали вопросов с 1 по 18 ноября 2008 включительно? Результат округлите до целого числа."
   ]
  },
  {
   "cell_type": "code",
   "execution_count": 3,
   "metadata": {},
   "outputs": [],
   "source": [
    "query_w = '''\n",
    "select round(avg(sel.count))\n",
    "from \n",
    "(select count(id)\n",
    "from stackoverflow.posts\n",
    "where parent_id = 0\n",
    "group by creation_date::date\n",
    "having creation_date::date between '2008-11-01' and '2008-11-18'\n",
    ") as sel;\n",
    "'''"
   ]
  },
  {
   "cell_type": "markdown",
   "metadata": {},
   "source": [
    "### Задание 1.3"
   ]
  },
  {
   "cell_type": "markdown",
   "metadata": {},
   "source": [
    "Сколько пользователей получили значки сразу в день регистрации? Выведите количество уникальных пользователей."
   ]
  },
  {
   "cell_type": "code",
   "execution_count": 4,
   "metadata": {},
   "outputs": [],
   "source": [
    "query_e = '''\n",
    "select count(distinct(b.user_id))\n",
    "from stackoverflow.badges as b\n",
    "left join stackoverflow.users as us on us.id = b.user_id\n",
    "where b.creation_date::date = us.creation_date::date;\n",
    "'''"
   ]
  },
  {
   "cell_type": "markdown",
   "metadata": {},
   "source": [
    "### Задание 1.4"
   ]
  },
  {
   "cell_type": "markdown",
   "metadata": {},
   "source": [
    "Сколько уникальных постов пользователя с именем Joel Coehoorn получили хотя бы один голос?"
   ]
  },
  {
   "cell_type": "code",
   "execution_count": 5,
   "metadata": {},
   "outputs": [],
   "source": [
    "query_r = '''\n",
    "select count(distinct(p.id))\n",
    "from stackoverflow.posts as p\n",
    "left join stackoverflow.users as us on us.id = p.user_id\n",
    "left join stackoverflow.votes as v on p.id = v.post_id\n",
    "where (us.display_name like 'Joel Coehoorn') and (v.id > 0);\n",
    "'''"
   ]
  },
  {
   "cell_type": "markdown",
   "metadata": {},
   "source": [
    "### Задание 1.5"
   ]
  },
  {
   "cell_type": "markdown",
   "metadata": {},
   "source": [
    "Выгрузите все поля таблицы vote_types. Добавьте к таблице поле rank, в которое войдут номера записей в обратном порядке. Таблица должна быть отсортирована по полю id."
   ]
  },
  {
   "cell_type": "code",
   "execution_count": 6,
   "metadata": {},
   "outputs": [],
   "source": [
    "query_t = '''\n",
    "select *,\n",
    "    rank() over (ORDER BY id desc)\n",
    "from stackoverflow.vote_types\n",
    "order by rank() over (ORDER BY id);\n",
    "'''"
   ]
  },
  {
   "cell_type": "markdown",
   "metadata": {},
   "source": [
    "### Задание 1.6"
   ]
  },
  {
   "cell_type": "markdown",
   "metadata": {},
   "source": [
    "Отберите 10 пользователей, которые поставили больше всего голосов типа Close. Отобразите таблицу из двух полей: идентификатором пользователя и количеством голосов. Отсортируйте данные сначала по убыванию количества голосов, потом по убыванию значения идентификатора пользователя."
   ]
  },
  {
   "cell_type": "code",
   "execution_count": 8,
   "metadata": {},
   "outputs": [],
   "source": [
    "query_y = '''\n",
    "select v.user_id, count(v.id)\n",
    "from stackoverflow.votes as v\n",
    "left join stackoverflow.vote_types as vt on vt.id = v.vote_type_id\n",
    "where vt.name like 'Close'\n",
    "group by v.user_id\n",
    "order by count(v.id) desc, v.user_id desc\n",
    "limit 10;\n",
    "'''"
   ]
  },
  {
   "cell_type": "markdown",
   "metadata": {},
   "source": [
    "### Задание 1.7"
   ]
  },
  {
   "cell_type": "markdown",
   "metadata": {},
   "source": [
    "Отберите 10 пользователей по количеству значков, полученных в период с 15 ноября по 15 декабря 2008 года включительно.\n",
    "Отобразите несколько полей:\n",
    " - идентификатор пользователя;\n",
    " - число значков;\n",
    " - место в рейтинге — чем больше значков, тем выше рейтинг.\n",
    " \n",
    "Пользователям, которые набрали одинаковое количество значков, присвойте одно и то же место в рейтинге.\n",
    "Отсортируйте записи по количеству значков по убыванию, а затем по возрастанию значения идентификатора пользователя."
   ]
  },
  {
   "cell_type": "code",
   "execution_count": 9,
   "metadata": {},
   "outputs": [],
   "source": [
    "query_u = '''\n",
    "select user_id, count(id),\n",
    "    dense_rank() over (order by count(id) desc)\n",
    "from stackoverflow.badges as b\n",
    "where creation_date::date between '2008-11-15' and '2008-12-15'\n",
    "group by b.user_id\n",
    "order by count(b.id) desc, b.user_id \n",
    "limit 10;\n",
    "'''"
   ]
  },
  {
   "cell_type": "markdown",
   "metadata": {},
   "source": [
    "### Задание 1.8"
   ]
  },
  {
   "cell_type": "markdown",
   "metadata": {},
   "source": [
    "Сколько в среднем очков получает пост каждого пользователя?\n",
    "Сформируйте таблицу из следующих полей:\n",
    " - заголовок поста;\n",
    " - идентификатор пользователя;\n",
    " - число очков поста;\n",
    " - среднее число очков пользователя за пост, округлённое до целого числа.\n",
    "    \n",
    "Не учитывайте посты без заголовка, а также те, что набрали ноль очков."
   ]
  },
  {
   "cell_type": "code",
   "execution_count": 14,
   "metadata": {},
   "outputs": [],
   "source": [
    "query_i = '''\n",
    "select title, id, score, round(avg)\n",
    "from(\n",
    "    select p.title as title, p.user_id as id, p.score as score,\n",
    "    avg(score) over (partition by p.user_id) as avg\n",
    "    from stackoverflow.posts as p\n",
    "    where not p.title is null and p.score != 0\n",
    "    ) as w;\n",
    "'''"
   ]
  },
  {
   "cell_type": "markdown",
   "metadata": {},
   "source": [
    "### Задание 1.9"
   ]
  },
  {
   "cell_type": "markdown",
   "metadata": {},
   "source": [
    "Отобразите заголовки постов, которые были написаны пользователями, получившими более 1000 значков. Посты без заголовков не должны попасть в список."
   ]
  },
  {
   "cell_type": "code",
   "execution_count": 15,
   "metadata": {},
   "outputs": [],
   "source": [
    "query_o = '''\n",
    "select title\n",
    "from stackoverflow.posts as p\n",
    "where user_id in  (select user_id \n",
    "                   from stackoverflow.badges \n",
    "                   group by user_id\n",
    "                   HAVING COUNT(id) >1000\n",
    "                    )\n",
    "and (p.title is not null);\n",
    "'''"
   ]
  },
  {
   "cell_type": "markdown",
   "metadata": {},
   "source": [
    "### Задание 1.10"
   ]
  },
  {
   "cell_type": "markdown",
   "metadata": {},
   "source": [
    "Напишите запрос, который выгрузит данные о пользователях из США (англ. United States). Разделите пользователей на три группы в зависимости от количества просмотров их профилей:\n",
    " - пользователям с числом просмотров больше либо равным 350 присвойте группу 1;\n",
    " - пользователям с числом просмотров меньше 350, но больше либо равно 100 — группу 2;\n",
    " - пользователям с числом просмотров меньше 100 — группу 3.\n",
    " \n",
    "Отобразите в итоговой таблице идентификатор пользователя, количество просмотров профиля и группу. Пользователи с нулевым количеством постов не должны войти в итоговую таблицу."
   ]
  },
  {
   "cell_type": "code",
   "execution_count": 10,
   "metadata": {},
   "outputs": [],
   "source": [
    "query_p = '''\n",
    "select id, views, \n",
    "    case when views >= 350 then 1\n",
    "        when views < 350 and views >= 100 then 2\n",
    "        when views < 100 then 3\n",
    "    end as group\n",
    "from stackoverflow.users\n",
    "where location LIKE '%United States%' and views > 0;\n",
    "'''"
   ]
  },
  {
   "cell_type": "markdown",
   "metadata": {},
   "source": [
    "### Задание 1.11"
   ]
  },
  {
   "cell_type": "markdown",
   "metadata": {},
   "source": [
    "Дополните предыдущий запрос. Отобразите лидеров каждой группы — пользователей, которые набрали максимальное число просмотров в своей группе. Выведите поля с идентификатором пользователя, группой и количеством просмотров. Отсортируйте таблицу по убыванию просмотров, а затем по возрастанию значения идентификатора."
   ]
  },
  {
   "cell_type": "code",
   "execution_count": 11,
   "metadata": {},
   "outputs": [],
   "source": [
    "query_a = '''\n",
    "select d.id, d.views, d.group\n",
    "from\n",
    "(select w.id, w.views, w.group,\n",
    "        MAX(w.views) OVER (PARTITION BY w.group) AS max     \n",
    "from (\n",
    "    select id, views, \n",
    "    case when views >= 350 then 1\n",
    "        when views < 350 and views >= 100 then 2\n",
    "        when views < 100 then 3\n",
    "    end as group\n",
    "from stackoverflow.users\n",
    "where location LIKE '%United States%' and views > 0) as w) as d\n",
    "where d.views=d.max\n",
    "order by views desc, id;\n",
    "'''"
   ]
  },
  {
   "cell_type": "markdown",
   "metadata": {},
   "source": [
    "### Задание 1.12"
   ]
  },
  {
   "cell_type": "markdown",
   "metadata": {},
   "source": [
    "Посчитайте ежедневный прирост новых пользователей в ноябре 2008 года. Сформируйте таблицу с полями:\n",
    " - номер дня;\n",
    " - число пользователей, зарегистрированных в этот день;\n",
    " - сумму пользователей с накоплением."
   ]
  },
  {
   "cell_type": "code",
   "execution_count": 12,
   "metadata": {},
   "outputs": [],
   "source": [
    "query_s = '''\n",
    "select dayy, cnt, sum(cnt) over(order by dayy)\n",
    "from (\n",
    "    select extract(day from creation_date::date) as dayy, count(id) as cnt\n",
    "from stackoverflow.users\n",
    "where creation_date::date between '2008-11-01' and '2008-11-30'\n",
    "group by dayy\n",
    "    ) as d;\n",
    "'''"
   ]
  },
  {
   "cell_type": "markdown",
   "metadata": {},
   "source": [
    "### Задание 1.13"
   ]
  },
  {
   "cell_type": "markdown",
   "metadata": {},
   "source": [
    "Для каждого пользователя, который написал хотя бы один пост, найдите интервал между регистрацией и временем создания первого поста. Отобразите:\n",
    " - идентификатор пользователя;\n",
    " - разницу во времени между регистрацией и первым постом."
   ]
  },
  {
   "cell_type": "code",
   "execution_count": 13,
   "metadata": {},
   "outputs": [],
   "source": [
    "query_d = '''\n",
    "select w.id, (w.min - w.cr) as dif\n",
    "from (\n",
    "    select distinct u.id as id, u.creation_date as cr,\n",
    "    min(p.creation_date) over (partition by u.id) as min\n",
    "from stackoverflow.users as u\n",
    "right join stackoverflow.posts as p on u.id = p.user_id) as w;\n",
    "'''"
   ]
  },
  {
   "cell_type": "markdown",
   "metadata": {
    "id": "sRW85nPMDWKb"
   },
   "source": [
    "## Вторая часть проекта"
   ]
  },
  {
   "cell_type": "markdown",
   "metadata": {
    "id": "gnBMXkDBDWKm"
   },
   "source": [
    "### Задание 1"
   ]
  },
  {
   "cell_type": "markdown",
   "metadata": {
    "id": "vHsfOrrNDWKn"
   },
   "source": [
    "Выведите общую сумму просмотров постов за каждый месяц 2008 года. Если данных за какой-либо месяц в базе нет, такой месяц можно пропустить. Результат отсортируйте по убыванию общего количества просмотров."
   ]
  },
  {
   "cell_type": "code",
   "execution_count": 6,
   "metadata": {
    "id": "eWvykcXTDWKo"
   },
   "outputs": [],
   "source": [
    "query_1 = '''\n",
    "SELECT date_trunc('month',creation_date::date) as month_date, \n",
    "    sum(views_count) as total_views\n",
    "FROM stackoverflow.posts\n",
    "WHERE date_trunc('year',creation_date::date) = '2008-01-01'\n",
    "GROUP BY month_date\n",
    "ORDER BY total_views desc;\n",
    "'''"
   ]
  },
  {
   "cell_type": "markdown",
   "metadata": {
    "id": "FziIXkn5DWKr"
   },
   "source": [
    "### Задание 2"
   ]
  },
  {
   "cell_type": "markdown",
   "metadata": {
    "id": "fTGESZvYDWKr"
   },
   "source": [
    "Выведите имена самых активных пользователей, которые в первый месяц после регистрации (включая день регистрации) дали больше 100 ответов. Вопросы, которые задавали пользователи, не учитывайте. Для каждого имени пользователя выведите количество уникальных значений `user_id`. Отсортируйте результат по полю с именами в лексикографическом порядке."
   ]
  },
  {
   "cell_type": "code",
   "execution_count": 8,
   "metadata": {
    "id": "fIO-y-YjDWKt"
   },
   "outputs": [],
   "source": [
    "query_2 = '''\n",
    "SELECT u.display_name, COUNT(DISTINCT(p.user_id))\n",
    "FROM stackoverflow.users as u\n",
    "LEFT JOIN stackoverflow.posts as p ON p.user_id = u.id\n",
    "RIGHT JOIN stackoverflow.post_types AS pt ON p.post_type_id = pt.id\n",
    "WHERE (pt.type LIKE '%%Answer%%') AND \n",
    "    (p.creation_date::date between u.creation_date::date and (u.creation_date::date + INTERVAL'1 month'))\n",
    "GROUP BY u.display_name\n",
    "HAVING count(p.id)>100\n",
    "ORDER BY u.display_name;\n",
    "'''"
   ]
  },
  {
   "cell_type": "markdown",
   "metadata": {
    "id": "JhM2xXj5DWKu"
   },
   "source": [
    "### Задание 3"
   ]
  },
  {
   "cell_type": "markdown",
   "metadata": {
    "id": "IS6xPqyyDWKu"
   },
   "source": [
    "Выведите количество постов за 2008 год по месяцам. Отберите посты от пользователей, которые зарегистрировались в сентябре 2008 года и сделали хотя бы один пост в декабре того же года. Отсортируйте таблицу по значению месяца по убыванию."
   ]
  },
  {
   "cell_type": "code",
   "execution_count": 10,
   "metadata": {
    "id": "kVu0FB8WDWKv"
   },
   "outputs": [],
   "source": [
    "query_3 = '''\n",
    "with s as \n",
    "    (select u.id\n",
    "    from stackoverflow.posts as p\n",
    "    join stackoverflow.users as u on p.user_id = u.id\n",
    "    where date_trunc('month', p.creation_date::date) = '2008-12-01' \n",
    "        and date_trunc('month', u.creation_date::date) = '2008-09-01'\n",
    "    GROUP BY u.id\n",
    "    HAVING COUNT(p.id) > 0)\n",
    "select to_char(p.creation_date::timestamp, 'yyyy-mm') as month, count(p.id)\n",
    "from stackoverflow.posts as p\n",
    "where p.user_id in (select* from s) and date_trunc('year', p.creation_date::date) = '2008-01-01'\n",
    "group by  to_char(p.creation_date::timestamp, 'yyyy-mm')\n",
    "order by to_char(p.creation_date::timestamp, 'yyyy-mm') desc;\n",
    "'''"
   ]
  },
  {
   "cell_type": "markdown",
   "metadata": {
    "id": "5Pcizm0DDWKz"
   },
   "source": [
    "### Задание 4"
   ]
  },
  {
   "cell_type": "markdown",
   "metadata": {
    "id": "KUZPF6vHDWKz"
   },
   "source": [
    "Используя данные о постах, выведите несколько полей:\n",
    "\n",
    "- идентификатор пользователя, который написал пост;\n",
    "- дата создания поста;\n",
    "- количество просмотров у текущего поста;\n",
    "- сумму просмотров постов автора с накоплением.\n",
    "\n",
    "Данные в таблице должны быть отсортированы по возрастанию идентификаторов пользователей, а данные об одном и том же пользователе — по возрастанию даты создания поста."
   ]
  },
  {
   "cell_type": "code",
   "execution_count": 12,
   "metadata": {
    "id": "hDoJhMzfDWK0"
   },
   "outputs": [],
   "source": [
    "query_4 = '''\n",
    "select p.user_id, p.creation_date, p.views_count, \n",
    "    sum(p.views_count) over (partition by p.user_id order by p.creation_date) as cumulative_count\n",
    "from stackoverflow.posts as p;\n",
    "'''"
   ]
  },
  {
   "cell_type": "markdown",
   "metadata": {
    "id": "N0kHRHvIDWK2"
   },
   "source": [
    "### Задание 5"
   ]
  },
  {
   "cell_type": "markdown",
   "metadata": {
    "id": "gBgvmPtODWK2"
   },
   "source": [
    "Найдите среднее количество постов пользователей в день за август 2008 года. Отберите данные о пользователях, которые опубликовали больше 120 постов за август. Дни без публикаций не учитывайте. \n",
    "\n",
    "Отсортируйте результат по возрастанию среднего количества постов. Значения можно не округлять."
   ]
  },
  {
   "cell_type": "code",
   "execution_count": 14,
   "metadata": {
    "id": "YFyPNz5GDWK3"
   },
   "outputs": [],
   "source": [
    "query_5= '''\n",
    "with u as (select p.user_id,\n",
    "            date_trunc('day', p.creation_date::date),\n",
    "            count(p.id)\n",
    "            from stackoverflow.posts as p\n",
    "            where p.user_id in (select p.user_id\n",
    "                                from stackoverflow.posts as p\n",
    "                                where  date_trunc('month',p.creation_date::date) = '2008-08-01'\n",
    "                                group by p.user_id\n",
    "                                having count(p.id) > 120)\n",
    "            group by  p.user_id, date_trunc('day', p.creation_date::date))\n",
    "select user_id, avg(count) as avg_daily\n",
    "from u\n",
    "where date_trunc('month', date_trunc) = '2008-08-01'\n",
    "group by user_id\n",
    "order by avg(count);\n",
    "'''"
   ]
  },
  {
   "cell_type": "markdown",
   "metadata": {
    "id": "EQ0dcFH4DWK5"
   },
   "source": [
    "### Задание 6"
   ]
  },
  {
   "cell_type": "markdown",
   "metadata": {
    "id": "c7flfg_hDWK5"
   },
   "source": [
    "Сколько в среднем дней в период с 1 по 7 декабря 2008 года пользователи взаимодействовали с платформой? Для каждого пользователя отберите дни, в которые он или она опубликовали хотя бы один пост. Нужно получить одно целое число — не забудьте округлить результат. "
   ]
  },
  {
   "cell_type": "code",
   "execution_count": 16,
   "metadata": {
    "id": "kZ7LXTr6DWK6"
   },
   "outputs": [],
   "source": [
    "query_6= '''\n",
    "SELECT ROUND(AVG(g.count))\n",
    "FROM (select user_id,\n",
    "                   count(DISTINCT creation_date::date)\n",
    "            FROM stackoverflow.posts\n",
    "            WHERE creation_date::date BETWEEN '2008-12-01' AND '2008-12-07' \n",
    "            GROUP BY user_id) as g\n",
    "'''"
   ]
  },
  {
   "cell_type": "markdown",
   "metadata": {
    "id": "wfOmqmfLDWK8"
   },
   "source": [
    "### Задание 7"
   ]
  },
  {
   "cell_type": "markdown",
   "metadata": {
    "id": "X4ARQimADWK9"
   },
   "source": [
    "Выведите историю активности каждого пользователя в таком виде: идентификатор пользователя, дата публикации поста. Отсортируйте вывод по возрастанию идентификаторов пользователей, а для каждого пользователя — по возрастанию даты публикации.\n",
    "\n",
    "Добавьте в таблицу новое поле: для каждого поста в нём будет указано название месяца предпоследней публикации пользователя относительно текущей. Если такой публикации нет, укажите `NULL`.  Python автоматически поменяет `NULL` на `None`, но дополнительно преобразовывать значения `None` вам не нужно.\n",
    "\n",
    "Посмотрите внимательно на образец таблицы: для первых двух постов предпоследней публикации нет, но, начиная с третьего поста, в новое поле входит нужный месяц. Для следующего пользователя в первые две записи поля `second_last_month` тоже войдёт `NULL`."
   ]
  },
  {
   "cell_type": "code",
   "execution_count": 18,
   "metadata": {
    "id": "HzI1vhaMDWK-"
   },
   "outputs": [],
   "source": [
    "query_7 = '''\n",
    "with time as (select user_id, creation_date,\n",
    "    lag(creation_date::date, 2) over(partition by user_id order by creation_date)\n",
    "    from stackoverflow.posts as p\n",
    "    order by user_id, creation_date)\n",
    "select user_id, creation_date,  to_char(lag, 'Month')      \n",
    "from time\n",
    "'''"
   ]
  },
  {
   "cell_type": "markdown",
   "metadata": {
    "id": "tf9qq2yzDWK_"
   },
   "source": [
    "### Задание 8"
   ]
  },
  {
   "cell_type": "markdown",
   "metadata": {
    "id": "gfwLVXBYDWLA"
   },
   "source": [
    "Рассчитайте аналог Retention Rate по месяцам для пользователей StackOverflow. Объедините пользователей в когорты по месяцу их первого поста. Возвращение определяйте по наличию поста в текущем месяце. "
   ]
  },
  {
   "cell_type": "code",
   "execution_count": 20,
   "metadata": {
    "id": "LUgFmwmTDWLB"
   },
   "outputs": [],
   "source": [
    "query_8 = '''\n",
    "with profile as (select *, \n",
    "                        count(user_id) OVER(PARTITION BY cohort_dt) AS cohort_users_cnt\n",
    "                from (select distinct user_id, \n",
    "                        first_value(date_trunc('month', creation_date::date)) \n",
    "                        over (partition by user_id order by date_trunc('month', creation_date::date)) as cohort_dt             \n",
    "                from stackoverflow.posts) as g),\n",
    "                \n",
    "sessions as  (SELECT user_id,\n",
    "                date_trunc('month', creation_date::date) AS session_date\n",
    "                FROM stackoverflow.posts\n",
    "                GROUP BY user_id, date_trunc('month', creation_date::date)\n",
    "                )\n",
    "                \n",
    "select p.cohort_dt,\n",
    "       s.session_date,\n",
    "       COUNT(p.user_id) AS users_cnt,\n",
    "       p.cohort_users_cnt,\n",
    "       ROUND(COUNT(p.user_id) * 100.0 / cohort_users_cnt, 2) AS retention_rate\n",
    "FROM profile as p \n",
    "JOIN sessions as s ON p.user_id=s.user_id\n",
    "GROUP BY p.cohort_dt, s.session_date, p.cohort_users_cnt;\n",
    "'''"
   ]
  },
  {
   "cell_type": "markdown",
   "metadata": {
    "id": "_msBtnb2DWLC"
   },
   "source": [
    "Построим тепловую карту Retention Rate. "
   ]
  },
  {
   "cell_type": "code",
   "execution_count": 22,
   "metadata": {
    "id": "qAEJc8H1DWLC",
    "scrolled": true
   },
   "outputs": [
    {
     "data": {
      "image/png": "[encoded data removed]",
      "text/plain": [
       "<Figure size 720x720 with 2 Axes>"
      ]
     },
     "metadata": {
      "needs_background": "light"
     },
     "output_type": "display_data"
    }
   ],
   "source": [
    "# Retention Rate\n",
    "import seaborn as sns\n",
    "retention_rate_8 = n_8.pivot('cohort_dt', 'session_date', 'retention_rate')\n",
    "retention_rate_8.index = [str(x)[0:10] for x in retention_rate_8.index]\n",
    "retention_rate_8.columns = [str(x)[0:10] for x in retention_rate_8.columns]\n",
    "plt.figure(figsize=(10, 10)) \n",
    "sns.heatmap(retention_rate_8, \n",
    "            annot=True, \n",
    "            fmt='') \n",
    "plt.title('Тепловая карта') \n",
    "plt.show() "
   ]
  },
  {
   "cell_type": "markdown",
   "metadata": {
    "id": "EgOfIsI4DWLC"
   },
   "source": [
    "Пользователи зарегистрированные в июле имеют \"скачки\" удержания активности, с одинаковой периодичностью, возможно это технические ошибки, а возможно так и есть. В остальных когортах удержание активности снижается по экспоненте(чем дальше, тем меньше)."
   ]
  },
  {
   "cell_type": "markdown",
   "metadata": {
    "id": "1k7oPWt5DWLK"
   },
   "source": [
    "### Задание 9"
   ]
  },
  {
   "cell_type": "markdown",
   "metadata": {
    "id": "ALsYVSyRDWLM"
   },
   "source": [
    "На сколько процентов менялось количество постов ежемесячно с 1 сентября по 31 декабря 2008 года? Отобразите таблицу со следующими полями:\n",
    "\n",
    "- номер месяца;\n",
    "- количество постов за месяц;\n",
    "- процент, который показывает, насколько изменилось количество постов в текущем месяце по сравнению с предыдущим.\n",
    "\n",
    "Если постов стало меньше, значение процента должно быть отрицательным, если больше — положительным. Округлите значение процента до двух знаков после запятой."
   ]
  },
  {
   "cell_type": "code",
   "execution_count": 23,
   "metadata": {
    "id": "Mb5pShStDWLN"
   },
   "outputs": [],
   "source": [
    "query_9 = '''\n",
    "WITH m AS (SELECT EXTRACT(MONTH from creation_date::date) AS creation_month,\n",
    "                    COUNT(DISTINCT id)  as posts_count   \n",
    "                    FROM stackoverflow.posts\n",
    "                    WHERE creation_date::date BETWEEN '2008-09-01' AND '2008-12-31'\n",
    "                    GROUP BY creation_month)\n",
    "\n",
    "SELECT *,\n",
    "       ROUND(((posts_count::numeric / LAG(posts_count) OVER (ORDER BY creation_month)) - 1) * 100, 2) AS percentage\n",
    "FROM m;\n",
    "'''"
   ]
  },
  {
   "cell_type": "code",
   "execution_count": 25,
   "metadata": {
    "id": "377ABjiVDWLP",
    "scrolled": false
   },
   "outputs": [
    {
     "data": {
      "text/plain": [
       "<AxesSubplot:ylabel='posts_count'>"
      ]
     },
     "execution_count": 25,
     "metadata": {},
     "output_type": "execute_result"
    },
    {
     "data": {
      "image/png": "[encoded data removed]",
      "text/plain": [
       "<Figure size 432x288 with 1 Axes>"
      ]
     },
     "metadata": {},
     "output_type": "display_data"
    }
   ],
   "source": [
    "# построим круговую диаграмму с количеством постов по месяцам\n",
    "n_9.groupby(['creation_month']).sum().plot(kind='pie', y='posts_count', autopct='%1.0f%%')"
   ]
  },
  {
   "cell_type": "markdown",
   "metadata": {
    "id": "uw7qMtafDWLP"
   },
   "source": [
    "### Задание 10"
   ]
  },
  {
   "cell_type": "markdown",
   "metadata": {
    "id": "oRBpWKx3DWLQ"
   },
   "source": [
    "Выгрузите данные активности пользователя, который опубликовал больше всего постов за всё время. Выведите данные за октябрь 2008 года в таком виде:\n",
    "\n",
    "- номер недели;\n",
    "- дата и время последнего поста, опубликованного на этой неделе."
   ]
  },
  {
   "cell_type": "code",
   "execution_count": 26,
   "metadata": {
    "id": "r5F5fSkwDWLQ"
   },
   "outputs": [],
   "source": [
    "query_10= '''\n",
    "WITH u AS (SELECT user_id,\n",
    "                   COUNT(DISTINCT id)\n",
    "                   FROM stackoverflow.posts\n",
    "                   GROUP BY user_id\n",
    "                   ORDER BY COUNT(DISTINCT id) DESC\n",
    "                   LIMIT 1),\n",
    "\n",
    "     time AS (SELECT p.user_id,\n",
    "             p.creation_date,\n",
    "             extract('week' from p.creation_date) AS week_number\n",
    "             FROM stackoverflow.posts AS p\n",
    "             JOIN u ON u.user_id = p.user_id\n",
    "             WHERE DATE_TRUNC('month', p.creation_date)::date = '2008-10-01')\n",
    "\n",
    "SELECT DISTINCT week_number::numeric as week_creation,\n",
    "       MAX(creation_date) OVER (PARTITION BY week_number) AS creation_date\n",
    "FROM time\n",
    "ORDER BY week_creation;\n",
    "'''"
   ]
  }
 ],
 "metadata": {
  "ExecuteTimeLog": [
   {
    "duration": 856,
    "start_time": "2023-04-29T17:02:24.162Z"
   },
   {
    "duration": 4,
    "start_time": "2023-04-29T17:02:26.990Z"
   },
   {
    "duration": 4992,
    "start_time": "2023-04-29T17:02:29.766Z"
   },
   {
    "duration": 85,
    "start_time": "2023-04-29T17:02:37.314Z"
   },
   {
    "duration": 16,
    "start_time": "2023-04-29T17:02:39.002Z"
   },
   {
    "duration": 3,
    "start_time": "2023-04-29T18:23:00.970Z"
   },
   {
    "duration": 1628,
    "start_time": "2023-04-29T18:23:42.878Z"
   },
   {
    "duration": 9,
    "start_time": "2023-04-29T18:23:44.508Z"
   },
   {
    "duration": 1486,
    "start_time": "2023-04-29T18:24:37.687Z"
   },
   {
    "duration": 8,
    "start_time": "2023-04-29T18:24:39.175Z"
   },
   {
    "duration": 158,
    "start_time": "2023-04-29T18:25:01.994Z"
   },
   {
    "duration": 7,
    "start_time": "2023-04-29T18:25:02.964Z"
   },
   {
    "duration": 109,
    "start_time": "2023-04-29T18:27:15.280Z"
   },
   {
    "duration": 7,
    "start_time": "2023-04-29T18:27:16.094Z"
   },
   {
    "duration": 140,
    "start_time": "2023-04-29T19:53:39.309Z"
   },
   {
    "duration": 609,
    "start_time": "2023-04-29T19:55:42.431Z"
   },
   {
    "duration": 3,
    "start_time": "2023-04-29T19:55:43.042Z"
   },
   {
    "duration": 4645,
    "start_time": "2023-04-29T19:55:43.047Z"
   },
   {
    "duration": 83,
    "start_time": "2023-04-29T19:55:47.694Z"
   },
   {
    "duration": 12,
    "start_time": "2023-04-29T19:55:47.778Z"
   },
   {
    "duration": 127,
    "start_time": "2023-04-29T19:55:47.792Z"
   },
   {
    "duration": 6,
    "start_time": "2023-04-29T19:55:47.921Z"
   },
   {
    "duration": 126,
    "start_time": "2023-04-29T19:55:47.928Z"
   },
   {
    "duration": 0,
    "start_time": "2023-04-29T19:55:48.056Z"
   },
   {
    "duration": 0,
    "start_time": "2023-04-29T19:55:48.057Z"
   },
   {
    "duration": 0,
    "start_time": "2023-04-29T19:55:48.057Z"
   },
   {
    "duration": 0,
    "start_time": "2023-04-29T19:55:48.058Z"
   },
   {
    "duration": 0,
    "start_time": "2023-04-29T19:55:48.059Z"
   },
   {
    "duration": 0,
    "start_time": "2023-04-29T19:55:48.060Z"
   },
   {
    "duration": 1,
    "start_time": "2023-04-29T19:55:48.060Z"
   },
   {
    "duration": 0,
    "start_time": "2023-04-29T19:55:48.061Z"
   },
   {
    "duration": 0,
    "start_time": "2023-04-29T19:55:48.062Z"
   },
   {
    "duration": 0,
    "start_time": "2023-04-29T19:55:48.063Z"
   },
   {
    "duration": 0,
    "start_time": "2023-04-29T19:55:48.064Z"
   },
   {
    "duration": 0,
    "start_time": "2023-04-29T19:55:48.066Z"
   },
   {
    "duration": 0,
    "start_time": "2023-04-29T19:55:48.066Z"
   },
   {
    "duration": 0,
    "start_time": "2023-04-29T19:55:48.068Z"
   },
   {
    "duration": 0,
    "start_time": "2023-04-29T19:55:48.069Z"
   },
   {
    "duration": 60,
    "start_time": "2023-04-29T19:56:49.931Z"
   },
   {
    "duration": 59,
    "start_time": "2023-04-29T19:57:27.760Z"
   },
   {
    "duration": 68,
    "start_time": "2023-04-29T19:57:47.500Z"
   },
   {
    "duration": 61,
    "start_time": "2023-04-29T19:59:36.883Z"
   },
   {
    "duration": 87,
    "start_time": "2023-04-29T20:00:14.998Z"
   },
   {
    "duration": 62,
    "start_time": "2023-04-29T20:00:36.446Z"
   },
   {
    "duration": 58,
    "start_time": "2023-04-29T20:02:58.776Z"
   },
   {
    "duration": 63,
    "start_time": "2023-04-29T20:06:12.000Z"
   },
   {
    "duration": 59,
    "start_time": "2023-04-29T20:07:04.339Z"
   },
   {
    "duration": 64,
    "start_time": "2023-04-29T20:07:50.408Z"
   },
   {
    "duration": 60,
    "start_time": "2023-04-29T20:08:02.227Z"
   },
   {
    "duration": 138,
    "start_time": "2023-04-29T20:08:44.638Z"
   },
   {
    "duration": 8,
    "start_time": "2023-04-29T20:08:46.512Z"
   },
   {
    "duration": 128,
    "start_time": "2023-04-29T20:09:29.516Z"
   },
   {
    "duration": 9,
    "start_time": "2023-04-29T20:09:30.916Z"
   },
   {
    "duration": 180,
    "start_time": "2023-04-29T20:16:37.279Z"
   },
   {
    "duration": 10,
    "start_time": "2023-04-29T20:16:51.377Z"
   },
   {
    "duration": 11,
    "start_time": "2023-04-29T20:17:08.950Z"
   },
   {
    "duration": 90,
    "start_time": "2023-04-29T20:17:14.732Z"
   },
   {
    "duration": 126,
    "start_time": "2023-04-29T20:19:19.047Z"
   },
   {
    "duration": 9,
    "start_time": "2023-04-29T20:19:19.754Z"
   },
   {
    "duration": 7,
    "start_time": "2023-04-29T20:19:38.948Z"
   },
   {
    "duration": 132,
    "start_time": "2023-04-29T20:20:01.309Z"
   },
   {
    "duration": 9,
    "start_time": "2023-04-29T20:20:02.156Z"
   },
   {
    "duration": 3,
    "start_time": "2023-04-29T20:28:07.096Z"
   },
   {
    "duration": 70,
    "start_time": "2023-04-29T20:28:39.995Z"
   },
   {
    "duration": 6,
    "start_time": "2023-04-29T20:28:40.994Z"
   },
   {
    "duration": 140,
    "start_time": "2023-04-29T20:29:52.146Z"
   },
   {
    "duration": 14,
    "start_time": "2023-04-29T20:29:52.780Z"
   },
   {
    "duration": 76,
    "start_time": "2023-04-29T20:30:11.372Z"
   },
   {
    "duration": 63,
    "start_time": "2023-04-29T20:32:03.736Z"
   },
   {
    "duration": 102,
    "start_time": "2023-04-29T20:37:54.219Z"
   },
   {
    "duration": 6,
    "start_time": "2023-04-29T20:37:55.280Z"
   },
   {
    "duration": 92,
    "start_time": "2023-04-29T20:39:10.781Z"
   },
   {
    "duration": 6,
    "start_time": "2023-04-29T20:39:11.597Z"
   },
   {
    "duration": 95,
    "start_time": "2023-04-29T20:39:22.013Z"
   },
   {
    "duration": 6,
    "start_time": "2023-04-29T20:39:22.672Z"
   },
   {
    "duration": 131,
    "start_time": "2023-04-29T21:02:41.799Z"
   },
   {
    "duration": 9,
    "start_time": "2023-04-29T21:02:42.860Z"
   },
   {
    "duration": 67,
    "start_time": "2023-04-29T21:03:35.476Z"
   },
   {
    "duration": 8,
    "start_time": "2023-04-29T21:03:36.438Z"
   },
   {
    "duration": 64,
    "start_time": "2023-04-29T21:07:47.426Z"
   },
   {
    "duration": 5,
    "start_time": "2023-04-29T21:07:48.502Z"
   },
   {
    "duration": 78,
    "start_time": "2023-04-29T21:10:36.006Z"
   },
   {
    "duration": 93,
    "start_time": "2023-04-29T21:10:45.243Z"
   },
   {
    "duration": 8,
    "start_time": "2023-04-29T21:10:46.754Z"
   },
   {
    "duration": 73,
    "start_time": "2023-04-29T21:13:24.954Z"
   },
   {
    "duration": 78,
    "start_time": "2023-04-29T21:13:43.316Z"
   },
   {
    "duration": 77,
    "start_time": "2023-04-29T21:14:57.557Z"
   },
   {
    "duration": 85,
    "start_time": "2023-04-29T21:15:11.462Z"
   },
   {
    "duration": 6,
    "start_time": "2023-04-29T21:15:13.838Z"
   },
   {
    "duration": 123,
    "start_time": "2023-04-29T21:15:38.561Z"
   },
   {
    "duration": 13,
    "start_time": "2023-04-29T21:15:39.668Z"
   },
   {
    "duration": 69,
    "start_time": "2023-04-29T21:17:02.282Z"
   },
   {
    "duration": 10,
    "start_time": "2023-04-29T21:18:17.168Z"
   },
   {
    "duration": 82,
    "start_time": "2023-04-29T21:18:19.183Z"
   },
   {
    "duration": 146,
    "start_time": "2023-04-29T21:19:11.344Z"
   },
   {
    "duration": 7,
    "start_time": "2023-04-29T21:19:12.854Z"
   },
   {
    "duration": 151,
    "start_time": "2023-04-29T21:19:50.839Z"
   },
   {
    "duration": 6,
    "start_time": "2023-04-29T21:19:51.747Z"
   },
   {
    "duration": 79,
    "start_time": "2023-04-29T21:28:43.822Z"
   },
   {
    "duration": 1065,
    "start_time": "2023-04-29T21:28:52.967Z"
   },
   {
    "duration": 50,
    "start_time": "2023-04-29T21:28:54.162Z"
   },
   {
    "duration": 14,
    "start_time": "2023-04-29T21:29:01.411Z"
   },
   {
    "duration": 10,
    "start_time": "2023-04-29T21:29:20.540Z"
   },
   {
    "duration": 11,
    "start_time": "2023-04-29T21:29:31.133Z"
   },
   {
    "duration": 12,
    "start_time": "2023-04-29T21:29:37.883Z"
   },
   {
    "duration": 10,
    "start_time": "2023-04-29T21:29:43.150Z"
   },
   {
    "duration": 13,
    "start_time": "2023-04-29T21:30:00.028Z"
   },
   {
    "duration": 11,
    "start_time": "2023-04-29T21:31:39.552Z"
   },
   {
    "duration": 72,
    "start_time": "2023-04-29T21:39:30.108Z"
   },
   {
    "duration": 121,
    "start_time": "2023-04-29T21:40:23.920Z"
   },
   {
    "duration": 13,
    "start_time": "2023-04-29T21:40:24.888Z"
   },
   {
    "duration": 66,
    "start_time": "2023-04-29T21:41:11.737Z"
   },
   {
    "duration": 67,
    "start_time": "2023-04-29T21:41:30.881Z"
   },
   {
    "duration": 6,
    "start_time": "2023-04-29T21:41:32.004Z"
   },
   {
    "duration": 109,
    "start_time": "2023-04-29T21:41:41.945Z"
   },
   {
    "duration": 10,
    "start_time": "2023-04-29T21:41:43.264Z"
   },
   {
    "duration": 138,
    "start_time": "2023-04-29T21:42:36.821Z"
   },
   {
    "duration": 8,
    "start_time": "2023-04-29T21:42:38.015Z"
   },
   {
    "duration": 96,
    "start_time": "2023-04-29T21:43:02.192Z"
   },
   {
    "duration": 7,
    "start_time": "2023-04-29T21:43:03.015Z"
   },
   {
    "duration": 75,
    "start_time": "2023-04-29T21:43:46.179Z"
   },
   {
    "duration": 72,
    "start_time": "2023-04-29T21:43:52.360Z"
   },
   {
    "duration": 76,
    "start_time": "2023-04-29T21:44:20.100Z"
   },
   {
    "duration": 106,
    "start_time": "2023-04-29T21:44:51.817Z"
   },
   {
    "duration": 11,
    "start_time": "2023-04-29T21:44:53.320Z"
   },
   {
    "duration": 74,
    "start_time": "2023-04-29T21:50:37.617Z"
   },
   {
    "duration": 65,
    "start_time": "2023-04-29T21:50:57.063Z"
   },
   {
    "duration": 172,
    "start_time": "2023-04-29T21:51:17.878Z"
   },
   {
    "duration": 8,
    "start_time": "2023-04-29T21:51:19.461Z"
   },
   {
    "duration": 69,
    "start_time": "2023-04-29T21:53:47.796Z"
   },
   {
    "duration": 74,
    "start_time": "2023-04-29T21:54:11.041Z"
   },
   {
    "duration": 74,
    "start_time": "2023-04-29T21:54:21.614Z"
   },
   {
    "duration": 125,
    "start_time": "2023-04-29T21:54:49.747Z"
   },
   {
    "duration": 7,
    "start_time": "2023-04-29T21:54:55.300Z"
   },
   {
    "duration": 71,
    "start_time": "2023-04-29T21:57:22.851Z"
   },
   {
    "duration": 28,
    "start_time": "2023-04-29T21:57:57.422Z"
   },
   {
    "duration": 6,
    "start_time": "2023-04-29T21:57:58.533Z"
   },
   {
    "duration": 77,
    "start_time": "2023-04-29T22:02:17.621Z"
   },
   {
    "duration": 7,
    "start_time": "2023-04-29T22:02:19.252Z"
   },
   {
    "duration": 64,
    "start_time": "2023-04-29T22:02:30.836Z"
   },
   {
    "duration": 7,
    "start_time": "2023-04-29T22:02:32.257Z"
   },
   {
    "duration": 63,
    "start_time": "2023-04-29T22:02:40.393Z"
   },
   {
    "duration": 6,
    "start_time": "2023-04-29T22:02:41.719Z"
   },
   {
    "duration": 62,
    "start_time": "2023-04-29T22:03:27.082Z"
   },
   {
    "duration": 6,
    "start_time": "2023-04-29T22:03:32.350Z"
   },
   {
    "duration": 61,
    "start_time": "2023-04-29T22:04:08.458Z"
   },
   {
    "duration": 6,
    "start_time": "2023-04-29T22:04:09.366Z"
   },
   {
    "duration": 76,
    "start_time": "2023-04-29T22:04:40.992Z"
   },
   {
    "duration": 63,
    "start_time": "2023-04-29T22:04:57.253Z"
   },
   {
    "duration": 71,
    "start_time": "2023-04-29T22:10:28.116Z"
   },
   {
    "duration": 64,
    "start_time": "2023-04-29T22:10:58.708Z"
   },
   {
    "duration": 90,
    "start_time": "2023-04-29T22:11:11.014Z"
   },
   {
    "duration": 9,
    "start_time": "2023-04-29T22:11:24.985Z"
   },
   {
    "duration": 726,
    "start_time": "2023-04-29T22:13:59.425Z"
   },
   {
    "duration": 456,
    "start_time": "2023-04-29T22:14:19.792Z"
   },
   {
    "duration": 126,
    "start_time": "2023-04-29T22:14:36.131Z"
   },
   {
    "duration": 66,
    "start_time": "2023-04-29T22:18:49.457Z"
   },
   {
    "duration": 5,
    "start_time": "2023-04-29T22:18:50.048Z"
   },
   {
    "duration": 95,
    "start_time": "2023-04-29T22:21:36.144Z"
   },
   {
    "duration": 9,
    "start_time": "2023-04-29T22:21:37.193Z"
   },
   {
    "duration": 71,
    "start_time": "2023-04-29T22:22:27.324Z"
   },
   {
    "duration": 64,
    "start_time": "2023-04-29T22:22:39.206Z"
   },
   {
    "duration": 91,
    "start_time": "2023-04-29T22:22:50.311Z"
   },
   {
    "duration": 10,
    "start_time": "2023-04-29T22:22:51.599Z"
   },
   {
    "duration": 119,
    "start_time": "2023-04-29T22:23:17.825Z"
   },
   {
    "duration": 11,
    "start_time": "2023-04-29T22:23:18.609Z"
   },
   {
    "duration": 65,
    "start_time": "2023-04-29T22:23:38.402Z"
   },
   {
    "duration": 129,
    "start_time": "2023-04-29T22:23:49.289Z"
   },
   {
    "duration": 6,
    "start_time": "2023-04-29T22:23:50.065Z"
   },
   {
    "duration": 62,
    "start_time": "2023-04-29T22:25:21.753Z"
   },
   {
    "duration": 67,
    "start_time": "2023-04-29T22:25:28.840Z"
   },
   {
    "duration": 72,
    "start_time": "2023-04-29T22:25:47.095Z"
   },
   {
    "duration": 65,
    "start_time": "2023-04-29T22:25:53.692Z"
   },
   {
    "duration": 5,
    "start_time": "2023-04-29T22:25:54.628Z"
   },
   {
    "duration": 66,
    "start_time": "2023-04-29T22:32:22.888Z"
   },
   {
    "duration": 67,
    "start_time": "2023-04-29T22:32:37.606Z"
   },
   {
    "duration": 119,
    "start_time": "2023-04-29T22:32:51.910Z"
   },
   {
    "duration": 10,
    "start_time": "2023-04-29T22:32:53.519Z"
   },
   {
    "duration": 117,
    "start_time": "2023-04-29T22:34:18.910Z"
   },
   {
    "duration": 9,
    "start_time": "2023-04-29T22:34:19.779Z"
   },
   {
    "duration": 57,
    "start_time": "2023-04-29T22:37:49.427Z"
   },
   {
    "duration": 65,
    "start_time": "2023-04-29T22:38:03.618Z"
   },
   {
    "duration": 63,
    "start_time": "2023-04-29T22:38:34.339Z"
   },
   {
    "duration": 61,
    "start_time": "2023-04-29T22:38:48.572Z"
   },
   {
    "duration": 53,
    "start_time": "2023-04-29T22:38:53.803Z"
   },
   {
    "duration": 64,
    "start_time": "2023-04-29T22:39:24.759Z"
   },
   {
    "duration": 84,
    "start_time": "2023-04-29T22:40:02.471Z"
   },
   {
    "duration": 69,
    "start_time": "2023-04-29T22:40:22.553Z"
   },
   {
    "duration": 71,
    "start_time": "2023-04-29T22:40:31.851Z"
   },
   {
    "duration": 63,
    "start_time": "2023-04-29T22:40:50.978Z"
   },
   {
    "duration": 78,
    "start_time": "2023-04-29T22:40:57.869Z"
   },
   {
    "duration": 72,
    "start_time": "2023-04-29T22:41:06.221Z"
   },
   {
    "duration": 71,
    "start_time": "2023-04-29T22:41:49.579Z"
   },
   {
    "duration": 5,
    "start_time": "2023-04-29T22:41:50.633Z"
   },
   {
    "duration": 73,
    "start_time": "2023-04-29T22:42:01.660Z"
   },
   {
    "duration": 5,
    "start_time": "2023-04-29T22:42:02.641Z"
   },
   {
    "duration": 59,
    "start_time": "2023-04-29T22:42:15.478Z"
   },
   {
    "duration": 62,
    "start_time": "2023-04-29T22:42:36.508Z"
   },
   {
    "duration": 5,
    "start_time": "2023-04-29T22:42:37.627Z"
   },
   {
    "duration": 54,
    "start_time": "2023-04-29T22:43:13.784Z"
   },
   {
    "duration": 69,
    "start_time": "2023-04-29T22:43:18.284Z"
   },
   {
    "duration": 5,
    "start_time": "2023-04-29T22:43:21.771Z"
   },
   {
    "duration": 62,
    "start_time": "2023-04-29T22:43:40.255Z"
   },
   {
    "duration": 5,
    "start_time": "2023-04-29T22:43:41.120Z"
   },
   {
    "duration": 71,
    "start_time": "2023-04-29T22:43:51.441Z"
   },
   {
    "duration": 5,
    "start_time": "2023-04-29T22:43:52.383Z"
   },
   {
    "duration": 67,
    "start_time": "2023-04-29T22:44:20.889Z"
   },
   {
    "duration": 61,
    "start_time": "2023-04-29T22:44:34.275Z"
   },
   {
    "duration": 5,
    "start_time": "2023-04-29T22:44:35.835Z"
   },
   {
    "duration": 96,
    "start_time": "2023-04-29T22:45:49.651Z"
   },
   {
    "duration": 8,
    "start_time": "2023-04-29T22:45:50.609Z"
   },
   {
    "duration": 65,
    "start_time": "2023-04-29T22:46:25.316Z"
   },
   {
    "duration": 67,
    "start_time": "2023-04-29T22:46:44.126Z"
   },
   {
    "duration": 96,
    "start_time": "2023-04-29T22:46:49.808Z"
   },
   {
    "duration": 860,
    "start_time": "2023-04-30T11:53:51.382Z"
   },
   {
    "duration": 4,
    "start_time": "2023-04-30T11:53:54.118Z"
   },
   {
    "duration": 8843,
    "start_time": "2023-04-30T11:53:56.213Z"
   },
   {
    "duration": 222,
    "start_time": "2023-04-30T11:54:07.553Z"
   },
   {
    "duration": 16,
    "start_time": "2023-04-30T11:54:10.973Z"
   },
   {
    "duration": 128,
    "start_time": "2023-04-30T11:54:17.133Z"
   },
   {
    "duration": 7,
    "start_time": "2023-04-30T11:54:20.215Z"
   },
   {
    "duration": 160,
    "start_time": "2023-04-30T11:54:25.050Z"
   },
   {
    "duration": 12,
    "start_time": "2023-04-30T11:54:26.954Z"
   },
   {
    "duration": 176,
    "start_time": "2023-04-30T11:54:32.313Z"
   },
   {
    "duration": 7,
    "start_time": "2023-04-30T11:54:33.858Z"
   },
   {
    "duration": 1364,
    "start_time": "2023-04-30T11:54:39.514Z"
   },
   {
    "duration": 11,
    "start_time": "2023-04-30T11:54:41.866Z"
   },
   {
    "duration": 1254,
    "start_time": "2023-04-30T11:55:36.818Z"
   },
   {
    "duration": 8,
    "start_time": "2023-04-30T11:55:39.253Z"
   },
   {
    "duration": 159,
    "start_time": "2023-04-30T11:55:47.450Z"
   },
   {
    "duration": 7,
    "start_time": "2023-04-30T11:55:48.153Z"
   },
   {
    "duration": 177,
    "start_time": "2023-04-30T11:55:51.542Z"
   },
   {
    "duration": 210,
    "start_time": "2023-04-30T11:55:56.052Z"
   },
   {
    "duration": 10,
    "start_time": "2023-04-30T11:55:56.734Z"
   },
   {
    "duration": 263,
    "start_time": "2023-04-30T12:08:19.797Z"
   },
   {
    "duration": 121,
    "start_time": "2023-04-30T12:09:27.020Z"
   },
   {
    "duration": 140,
    "start_time": "2023-04-30T12:10:24.615Z"
   },
   {
    "duration": 102,
    "start_time": "2023-04-30T12:11:02.081Z"
   },
   {
    "duration": 8,
    "start_time": "2023-04-30T12:11:02.992Z"
   },
   {
    "duration": 169,
    "start_time": "2023-04-30T14:34:18.988Z"
   },
   {
    "duration": 342,
    "start_time": "2023-04-30T14:34:44.430Z"
   },
   {
    "duration": 155,
    "start_time": "2023-04-30T14:34:56.229Z"
   },
   {
    "duration": 131,
    "start_time": "2023-04-30T14:35:18.487Z"
   },
   {
    "duration": 188,
    "start_time": "2023-04-30T14:35:28.628Z"
   },
   {
    "duration": 129,
    "start_time": "2023-04-30T14:36:04.075Z"
   },
   {
    "duration": 1309,
    "start_time": "2023-04-30T14:36:37.824Z"
   },
   {
    "duration": 14,
    "start_time": "2023-04-30T14:36:40.529Z"
   },
   {
    "duration": 134,
    "start_time": "2023-04-30T14:54:02.088Z"
   },
   {
    "duration": 132,
    "start_time": "2023-04-30T14:54:47.288Z"
   },
   {
    "duration": 124,
    "start_time": "2023-04-30T14:55:52.754Z"
   },
   {
    "duration": 179,
    "start_time": "2023-04-30T14:56:24.591Z"
   },
   {
    "duration": 170,
    "start_time": "2023-04-30T14:56:45.870Z"
   },
   {
    "duration": 140,
    "start_time": "2023-04-30T14:57:12.634Z"
   },
   {
    "duration": 597,
    "start_time": "2023-04-30T14:58:23.586Z"
   },
   {
    "duration": 11,
    "start_time": "2023-04-30T14:58:25.289Z"
   },
   {
    "duration": 14,
    "start_time": "2023-04-30T14:59:30.047Z"
   },
   {
    "duration": 867,
    "start_time": "2023-04-30T15:00:50.759Z"
   },
   {
    "duration": 737,
    "start_time": "2023-04-30T15:08:19.918Z"
   },
   {
    "duration": 4,
    "start_time": "2023-04-30T15:08:20.657Z"
   },
   {
    "duration": 11055,
    "start_time": "2023-04-30T15:08:20.662Z"
   },
   {
    "duration": 238,
    "start_time": "2023-04-30T15:08:31.719Z"
   },
   {
    "duration": 19,
    "start_time": "2023-04-30T15:08:31.959Z"
   },
   {
    "duration": 132,
    "start_time": "2023-04-30T15:08:31.979Z"
   },
   {
    "duration": 8,
    "start_time": "2023-04-30T15:08:32.113Z"
   },
   {
    "duration": 177,
    "start_time": "2023-04-30T15:08:32.123Z"
   },
   {
    "duration": 10,
    "start_time": "2023-04-30T15:08:32.302Z"
   },
   {
    "duration": 187,
    "start_time": "2023-04-30T15:08:32.314Z"
   },
   {
    "duration": 6,
    "start_time": "2023-04-30T15:08:32.503Z"
   },
   {
    "duration": 1177,
    "start_time": "2023-04-30T15:08:32.511Z"
   },
   {
    "duration": 11,
    "start_time": "2023-04-30T15:08:33.690Z"
   },
   {
    "duration": 106,
    "start_time": "2023-04-30T15:08:33.702Z"
   },
   {
    "duration": 9,
    "start_time": "2023-04-30T15:08:33.810Z"
   },
   {
    "duration": 64,
    "start_time": "2023-04-30T15:08:33.821Z"
   },
   {
    "duration": 8,
    "start_time": "2023-04-30T15:08:33.887Z"
   },
   {
    "duration": 1295,
    "start_time": "2023-04-30T15:08:33.897Z"
   },
   {
    "duration": 10,
    "start_time": "2023-04-30T15:08:35.193Z"
   },
   {
    "duration": 597,
    "start_time": "2023-04-30T15:08:35.205Z"
   },
   {
    "duration": 9,
    "start_time": "2023-04-30T15:08:35.804Z"
   },
   {
    "duration": 797,
    "start_time": "2023-04-30T15:08:35.815Z"
   },
   {
    "duration": 155,
    "start_time": "2023-04-30T15:08:36.614Z"
   },
   {
    "duration": 10,
    "start_time": "2023-04-30T15:08:36.771Z"
   },
   {
    "duration": 191,
    "start_time": "2023-04-30T15:08:36.782Z"
   },
   {
    "duration": 204,
    "start_time": "2023-04-30T15:08:36.974Z"
   },
   {
    "duration": 7,
    "start_time": "2023-04-30T15:08:37.180Z"
   },
   {
    "duration": 813,
    "start_time": "2023-04-30T18:44:41.474Z"
   },
   {
    "duration": 6,
    "start_time": "2023-04-30T18:44:42.289Z"
   },
   {
    "duration": 11047,
    "start_time": "2023-04-30T18:44:42.296Z"
   },
   {
    "duration": 39,
    "start_time": "2023-04-30T18:44:53.344Z"
   },
   {
    "duration": 12,
    "start_time": "2023-04-30T18:44:53.385Z"
   },
   {
    "duration": 115,
    "start_time": "2023-04-30T18:44:53.398Z"
   },
   {
    "duration": 6,
    "start_time": "2023-04-30T18:44:53.515Z"
   },
   {
    "duration": 150,
    "start_time": "2023-04-30T18:44:53.522Z"
   },
   {
    "duration": 9,
    "start_time": "2023-04-30T18:44:53.674Z"
   },
   {
    "duration": 153,
    "start_time": "2023-04-30T18:44:53.684Z"
   },
   {
    "duration": 6,
    "start_time": "2023-04-30T18:44:53.838Z"
   },
   {
    "duration": 1099,
    "start_time": "2023-04-30T18:44:53.845Z"
   },
   {
    "duration": 10,
    "start_time": "2023-04-30T18:44:54.945Z"
   },
   {
    "duration": 70,
    "start_time": "2023-04-30T18:44:54.957Z"
   },
   {
    "duration": 6,
    "start_time": "2023-04-30T18:44:55.029Z"
   },
   {
    "duration": 27,
    "start_time": "2023-04-30T18:44:55.036Z"
   },
   {
    "duration": 5,
    "start_time": "2023-04-30T18:44:55.064Z"
   },
   {
    "duration": 1195,
    "start_time": "2023-04-30T18:44:55.071Z"
   },
   {
    "duration": 9,
    "start_time": "2023-04-30T18:44:56.268Z"
   },
   {
    "duration": 594,
    "start_time": "2023-04-30T18:44:56.278Z"
   },
   {
    "duration": 10,
    "start_time": "2023-04-30T18:44:56.873Z"
   },
   {
    "duration": 795,
    "start_time": "2023-04-30T18:44:56.884Z"
   },
   {
    "duration": 126,
    "start_time": "2023-04-30T18:44:57.681Z"
   },
   {
    "duration": 6,
    "start_time": "2023-04-30T18:44:57.808Z"
   },
   {
    "duration": 133,
    "start_time": "2023-04-30T18:44:57.816Z"
   },
   {
    "duration": 173,
    "start_time": "2023-04-30T18:44:57.951Z"
   },
   {
    "duration": 7,
    "start_time": "2023-04-30T18:44:58.125Z"
   },
   {
    "duration": 51,
    "start_time": "2023-04-30T19:38:28.694Z"
   },
   {
    "duration": 6,
    "start_time": "2023-04-30T19:38:33.885Z"
   },
   {
    "duration": 937,
    "start_time": "2023-04-30T19:38:42.920Z"
   },
   {
    "duration": 4,
    "start_time": "2023-04-30T19:38:43.860Z"
   },
   {
    "duration": 8523,
    "start_time": "2023-04-30T19:38:43.865Z"
   },
   {
    "duration": 224,
    "start_time": "2023-04-30T19:38:52.389Z"
   },
   {
    "duration": 14,
    "start_time": "2023-04-30T19:38:52.614Z"
   },
   {
    "duration": 158,
    "start_time": "2023-04-30T19:38:52.630Z"
   },
   {
    "duration": 6,
    "start_time": "2023-04-30T19:38:52.790Z"
   },
   {
    "duration": 164,
    "start_time": "2023-04-30T19:38:52.797Z"
   },
   {
    "duration": 8,
    "start_time": "2023-04-30T19:38:52.963Z"
   },
   {
    "duration": 190,
    "start_time": "2023-04-30T19:38:52.973Z"
   },
   {
    "duration": 8,
    "start_time": "2023-04-30T19:38:53.165Z"
   },
   {
    "duration": 1230,
    "start_time": "2023-04-30T19:38:53.174Z"
   },
   {
    "duration": 11,
    "start_time": "2023-04-30T19:38:54.405Z"
   },
   {
    "duration": 128,
    "start_time": "2023-04-30T19:38:54.417Z"
   },
   {
    "duration": 6,
    "start_time": "2023-04-30T19:38:54.547Z"
   },
   {
    "duration": 67,
    "start_time": "2023-04-30T19:38:54.554Z"
   },
   {
    "duration": 5,
    "start_time": "2023-04-30T19:38:54.623Z"
   },
   {
    "duration": 1380,
    "start_time": "2023-04-30T19:38:54.630Z"
   },
   {
    "duration": 10,
    "start_time": "2023-04-30T19:38:56.012Z"
   },
   {
    "duration": 624,
    "start_time": "2023-04-30T19:38:56.023Z"
   },
   {
    "duration": 9,
    "start_time": "2023-04-30T19:38:56.649Z"
   },
   {
    "duration": 878,
    "start_time": "2023-04-30T19:38:56.660Z"
   },
   {
    "duration": 159,
    "start_time": "2023-04-30T19:38:57.540Z"
   },
   {
    "duration": 7,
    "start_time": "2023-04-30T19:38:57.700Z"
   },
   {
    "duration": 159,
    "start_time": "2023-04-30T19:38:57.708Z"
   },
   {
    "duration": 206,
    "start_time": "2023-04-30T19:38:57.868Z"
   },
   {
    "duration": 7,
    "start_time": "2023-04-30T19:38:58.076Z"
   },
   {
    "duration": 1672,
    "start_time": "2023-04-30T20:27:26.172Z"
   },
   {
    "duration": 11,
    "start_time": "2023-04-30T20:27:27.846Z"
   },
   {
    "duration": 1502,
    "start_time": "2023-04-30T20:28:01.863Z"
   },
   {
    "duration": 10,
    "start_time": "2023-04-30T20:28:03.951Z"
   },
   {
    "duration": 238,
    "start_time": "2023-04-30T20:28:09.379Z"
   },
   {
    "duration": 140,
    "start_time": "2023-04-30T20:28:42.020Z"
   },
   {
    "duration": 1583,
    "start_time": "2023-04-30T20:28:50.565Z"
   },
   {
    "duration": 10,
    "start_time": "2023-04-30T20:28:52.150Z"
   },
   {
    "duration": 1525,
    "start_time": "2023-04-30T20:29:20.565Z"
   },
   {
    "duration": 10,
    "start_time": "2023-04-30T20:29:22.092Z"
   },
   {
    "duration": 129,
    "start_time": "2023-04-30T20:29:51.288Z"
   },
   {
    "duration": 1377,
    "start_time": "2023-04-30T20:31:53.082Z"
   },
   {
    "duration": 10,
    "start_time": "2023-04-30T20:31:54.461Z"
   },
   {
    "duration": 1406,
    "start_time": "2023-04-30T20:34:57.177Z"
   },
   {
    "duration": 9,
    "start_time": "2023-04-30T20:34:58.598Z"
   },
   {
    "duration": 143,
    "start_time": "2023-04-30T20:36:10.549Z"
   },
   {
    "duration": 1288,
    "start_time": "2023-04-30T20:39:08.173Z"
   },
   {
    "duration": 9,
    "start_time": "2023-04-30T20:39:13.077Z"
   },
   {
    "duration": 177,
    "start_time": "2023-04-30T20:41:45.367Z"
   },
   {
    "duration": 11,
    "start_time": "2023-04-30T20:41:46.428Z"
   },
   {
    "duration": 133,
    "start_time": "2023-04-30T20:43:22.470Z"
   },
   {
    "duration": 126,
    "start_time": "2023-04-30T20:43:43.307Z"
   },
   {
    "duration": 197,
    "start_time": "2023-04-30T20:44:35.680Z"
   },
   {
    "duration": 9,
    "start_time": "2023-04-30T20:44:39.093Z"
   },
   {
    "duration": 118,
    "start_time": "2023-04-30T20:45:10.916Z"
   },
   {
    "duration": 198,
    "start_time": "2023-04-30T20:45:22.097Z"
   },
   {
    "duration": 7,
    "start_time": "2023-04-30T20:45:23.129Z"
   },
   {
    "duration": 69,
    "start_time": "2023-04-30T20:45:52.417Z"
   },
   {
    "duration": 717,
    "start_time": "2023-04-30T20:46:03.515Z"
   },
   {
    "duration": 3,
    "start_time": "2023-04-30T20:46:04.234Z"
   },
   {
    "duration": 7776,
    "start_time": "2023-04-30T20:46:04.238Z"
   },
   {
    "duration": 211,
    "start_time": "2023-04-30T20:46:12.017Z"
   },
   {
    "duration": 14,
    "start_time": "2023-04-30T20:46:12.229Z"
   },
   {
    "duration": 129,
    "start_time": "2023-04-30T20:46:12.244Z"
   },
   {
    "duration": 5,
    "start_time": "2023-04-30T20:46:12.374Z"
   },
   {
    "duration": 173,
    "start_time": "2023-04-30T20:46:12.381Z"
   },
   {
    "duration": 8,
    "start_time": "2023-04-30T20:46:12.555Z"
   },
   {
    "duration": 207,
    "start_time": "2023-04-30T20:46:12.565Z"
   },
   {
    "duration": 6,
    "start_time": "2023-04-30T20:46:12.774Z"
   },
   {
    "duration": 1103,
    "start_time": "2023-04-30T20:46:12.782Z"
   },
   {
    "duration": 10,
    "start_time": "2023-04-30T20:46:13.886Z"
   },
   {
    "duration": 114,
    "start_time": "2023-04-30T20:46:13.897Z"
   },
   {
    "duration": 7,
    "start_time": "2023-04-30T20:46:14.012Z"
   },
   {
    "duration": 71,
    "start_time": "2023-04-30T20:46:14.020Z"
   },
   {
    "duration": 7,
    "start_time": "2023-04-30T20:46:14.093Z"
   },
   {
    "duration": 1162,
    "start_time": "2023-04-30T20:46:14.102Z"
   },
   {
    "duration": 10,
    "start_time": "2023-04-30T20:46:15.265Z"
   },
   {
    "duration": 607,
    "start_time": "2023-04-30T20:46:15.277Z"
   },
   {
    "duration": 10,
    "start_time": "2023-04-30T20:46:15.885Z"
   },
   {
    "duration": 786,
    "start_time": "2023-04-30T20:46:15.896Z"
   },
   {
    "duration": 157,
    "start_time": "2023-04-30T20:46:16.683Z"
   },
   {
    "duration": 7,
    "start_time": "2023-04-30T20:46:16.842Z"
   },
   {
    "duration": 151,
    "start_time": "2023-04-30T20:46:16.851Z"
   },
   {
    "duration": 208,
    "start_time": "2023-04-30T20:46:17.004Z"
   },
   {
    "duration": 7,
    "start_time": "2023-04-30T20:46:17.213Z"
   },
   {
    "duration": 806,
    "start_time": "2023-04-30T21:26:23.841Z"
   },
   {
    "duration": 3,
    "start_time": "2023-04-30T21:26:24.649Z"
   },
   {
    "duration": 11489,
    "start_time": "2023-04-30T21:26:24.653Z"
   },
   {
    "duration": 39,
    "start_time": "2023-04-30T21:26:36.144Z"
   },
   {
    "duration": 14,
    "start_time": "2023-04-30T21:26:36.184Z"
   },
   {
    "duration": 95,
    "start_time": "2023-04-30T21:26:36.199Z"
   },
   {
    "duration": 6,
    "start_time": "2023-04-30T21:26:36.295Z"
   },
   {
    "duration": 130,
    "start_time": "2023-04-30T21:26:36.302Z"
   },
   {
    "duration": 8,
    "start_time": "2023-04-30T21:26:36.433Z"
   },
   {
    "duration": 167,
    "start_time": "2023-04-30T21:26:36.444Z"
   },
   {
    "duration": 6,
    "start_time": "2023-04-30T21:26:36.612Z"
   },
   {
    "duration": 1134,
    "start_time": "2023-04-30T21:26:36.619Z"
   },
   {
    "duration": 10,
    "start_time": "2023-04-30T21:26:37.755Z"
   },
   {
    "duration": 76,
    "start_time": "2023-04-30T21:26:37.766Z"
   },
   {
    "duration": 7,
    "start_time": "2023-04-30T21:26:37.843Z"
   },
   {
    "duration": 37,
    "start_time": "2023-04-30T21:26:37.851Z"
   },
   {
    "duration": 5,
    "start_time": "2023-04-30T21:26:37.889Z"
   },
   {
    "duration": 1165,
    "start_time": "2023-04-30T21:26:37.896Z"
   },
   {
    "duration": 9,
    "start_time": "2023-04-30T21:26:39.063Z"
   },
   {
    "duration": 566,
    "start_time": "2023-04-30T21:26:39.074Z"
   },
   {
    "duration": 10,
    "start_time": "2023-04-30T21:26:39.642Z"
   },
   {
    "duration": 865,
    "start_time": "2023-04-30T21:26:39.653Z"
   },
   {
    "duration": 125,
    "start_time": "2023-04-30T21:26:40.520Z"
   },
   {
    "duration": 7,
    "start_time": "2023-04-30T21:26:40.647Z"
   },
   {
    "duration": 157,
    "start_time": "2023-04-30T21:26:40.656Z"
   },
   {
    "duration": 173,
    "start_time": "2023-04-30T21:26:40.815Z"
   },
   {
    "duration": 7,
    "start_time": "2023-04-30T21:26:40.989Z"
   }
  ],
  "colab": {
   "provenance": []
  },
  "kernelspec": {
   "display_name": "Python 3 (ipykernel)",
   "language": "python",
   "name": "python3"
  },
  "language_info": {
   "codemirror_mode": {
    "name": "ipython",
    "version": 3
   },
   "file_extension": ".py",
   "mimetype": "text/x-python",
   "name": "python",
   "nbconvert_exporter": "python",
   "pygments_lexer": "ipython3",
   "version": "3.9.12"
  },
  "toc": {
   "base_numbering": 1,
   "nav_menu": {},
   "number_sections": true,
   "sideBar": true,
   "skip_h1_title": true,
   "title_cell": "Table of Contents",
   "title_sidebar": "Contents",
   "toc_cell": false,
   "toc_position": {
    "height": "calc(100% - 180px)",
    "left": "10px",
    "top": "150px",
    "width": "374.391px"
   },
   "toc_section_display": true,
   "toc_window_display": false
  }
 },
 "nbformat": 4,
 "nbformat_minor": 1
}
